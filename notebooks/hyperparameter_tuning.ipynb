{
 "cells": [
  {
   "cell_type": "code",
   "execution_count": 1,
   "metadata": {},
   "outputs": [
    {
     "data": {
      "text/plain": [
       "'/home/bhvignesh/trading_system/notebooks'"
      ]
     },
     "execution_count": 1,
     "metadata": {},
     "output_type": "execute_result"
    }
   ],
   "source": [
    "import os\n",
    "os.getcwd()"
   ]
  },
  {
   "cell_type": "code",
   "execution_count": 2,
   "metadata": {},
   "outputs": [],
   "source": [
    "os.chdir('..')"
   ]
  },
  {
   "cell_type": "code",
   "execution_count": 3,
   "metadata": {},
   "outputs": [],
   "source": [
    "from src.optimizer.strategy_optimizer import StrategyOptimizer\n",
    "from src.optimizer.sensitivity_analyzer import SensitivityAnalyzer\n",
    "from src.strategies.momentum.awesome_oscillator_strat import AwesomeOscillatorStrategy\n",
    "from src.database.config import DatabaseConfig\n",
    "from hyperopt import hp\n",
    "import mlflow"
   ]
  },
  {
   "cell_type": "code",
   "execution_count": 4,
   "metadata": {},
   "outputs": [],
   "source": [
    "db_config = DatabaseConfig.default()"
   ]
  },
  {
   "cell_type": "code",
   "execution_count": 5,
   "metadata": {},
   "outputs": [],
   "source": [
    "mlflow.set_tracking_uri(\"file:/home/bhvignesh/trading_system/mlruns\")"
   ]
  },
  {
   "cell_type": "code",
   "execution_count": 6,
   "metadata": {},
   "outputs": [],
   "source": [
    "import src.collectors.data_collector as data_collector\n",
    "import pandas as pd\n",
    "\n",
    "tickers = pd.read_excel(\"data/ticker.xlsx\")\n",
    "tickers = tickers[~tickers[\"Security Name\"].duplicated()]\n",
    "tickers.reset_index(drop=True, inplace=True)\n",
    "\n",
    "def add_ticker_suffix(x):\n",
    "    if x[\"Exchange\"]==\"BSE\":\n",
    "        return x[\"Security Name\"] + \".BO\"\n",
    "    else:\n",
    "        return x[\"Security Name\"] + \".NS\"\n",
    "\n",
    "tickers[\"Ticker\"] = tickers.apply(add_ticker_suffix, axis = 1)\n",
    "all_tickers = tickers[\"Ticker\"].tolist()"
   ]
  },
  {
   "cell_type": "code",
   "execution_count": 7,
   "metadata": {},
   "outputs": [],
   "source": [
    "from src.optimizer.search_space import awesome_oscillator_strat_search_space"
   ]
  },
  {
   "cell_type": "code",
   "execution_count": 8,
   "metadata": {},
   "outputs": [],
   "source": [
    "tickers = all_tickers[:10] "
   ]
  },
  {
   "cell_type": "code",
   "execution_count": null,
   "metadata": {},
   "outputs": [
    {
     "ename": "Exception",
     "evalue": "Run with UUID 1976cda82be34f4aa09dd0b03be307bd is already active. To start a new run, first end the current run with mlflow.end_run(). To start a nested run, call start_run with nested=True",
     "output_type": "error",
     "traceback": [
      "\u001b[31m---------------------------------------------------------------------------\u001b[39m",
      "\u001b[31mException\u001b[39m                                 Traceback (most recent call last)",
      "\u001b[36mCell\u001b[39m\u001b[36m \u001b[39m\u001b[32mIn[14]\u001b[39m\u001b[32m, line 14\u001b[39m\n\u001b[32m      3\u001b[39m optimizer = StrategyOptimizer(\n\u001b[32m      4\u001b[39m     strategy_class=AwesomeOscillatorStrategy,  \u001b[38;5;66;03m# Replace with your strategy\u001b[39;00m\n\u001b[32m      5\u001b[39m     db_config=db_config,\n\u001b[32m   (...)\u001b[39m\u001b[32m     10\u001b[39m     max_evals=\u001b[32m50\u001b[39m\n\u001b[32m     11\u001b[39m )\n\u001b[32m     13\u001b[39m \u001b[38;5;66;03m# Run the hyperparameter optimization.\u001b[39;00m\n\u001b[32m---> \u001b[39m\u001b[32m14\u001b[39m best_params, performance_report, param_history = \u001b[43moptimizer\u001b[49m\u001b[43m.\u001b[49m\u001b[43mrun_optimization\u001b[49m\u001b[43m(\u001b[49m\u001b[43m)\u001b[49m\n\u001b[32m     15\u001b[39m \u001b[38;5;28mprint\u001b[39m(\u001b[33m\"\u001b[39m\u001b[33mBest Parameters:\u001b[39m\u001b[33m\"\u001b[39m)\n\u001b[32m     16\u001b[39m \u001b[38;5;28mprint\u001b[39m(best_params)\n",
      "\u001b[36mFile \u001b[39m\u001b[32m~/trading_system/src/optimizer/strategy_optimizer.py:268\u001b[39m, in \u001b[36mStrategyOptimizer.run_optimization\u001b[39m\u001b[34m(self)\u001b[39m\n\u001b[32m    258\u001b[39m \u001b[38;5;28;01mdef\u001b[39;00m\u001b[38;5;250m \u001b[39m\u001b[34mrun_optimization\u001b[39m(\u001b[38;5;28mself\u001b[39m) -> Tuple[Dict[\u001b[38;5;28mstr\u001b[39m, Any], pd.DataFrame, pd.DataFrame]:\n\u001b[32m    259\u001b[39m \u001b[38;5;250m    \u001b[39m\u001b[33;03m\"\"\"\u001b[39;00m\n\u001b[32m    260\u001b[39m \u001b[33;03m    Execute the hyperparameter search, returning the best parameters and performance reports.\u001b[39;00m\n\u001b[32m    261\u001b[39m \u001b[33;03m    \u001b[39;00m\n\u001b[32m   (...)\u001b[39m\u001b[32m    266\u001b[39m \u001b[33;03m            param_history (pd.DataFrame): History of parameter evaluations.\u001b[39;00m\n\u001b[32m    267\u001b[39m \u001b[33;03m    \"\"\"\u001b[39;00m\n\u001b[32m--> \u001b[39m\u001b[32m268\u001b[39m     \u001b[38;5;28;01mwith\u001b[39;00m \u001b[43mmlflow\u001b[49m\u001b[43m.\u001b[49m\u001b[43mstart_run\u001b[49m\u001b[43m(\u001b[49m\u001b[43mrun_name\u001b[49m\u001b[43m=\u001b[49m\u001b[33;43m\"\u001b[39;49m\u001b[33;43mStrategyOptimization\u001b[39;49m\u001b[33;43m\"\u001b[39;49m\u001b[43m)\u001b[49m:\n\u001b[32m    269\u001b[39m         trials = Trials()\n\u001b[32m    270\u001b[39m         best = fmin(\n\u001b[32m    271\u001b[39m             fn=\u001b[38;5;28mself\u001b[39m._objective_function,\n\u001b[32m    272\u001b[39m             space=\u001b[38;5;28mself\u001b[39m.search_space,\n\u001b[32m   (...)\u001b[39m\u001b[32m    275\u001b[39m             trials=trials\n\u001b[32m    276\u001b[39m         )\n",
      "\u001b[36mFile \u001b[39m\u001b[32m~/.cache/pypoetry/virtualenvs/trading-system-u4iDTrLv-py3.12/lib/python3.12/site-packages/mlflow/tracking/fluent.py:351\u001b[39m, in \u001b[36mstart_run\u001b[39m\u001b[34m(run_id, experiment_id, run_name, nested, parent_run_id, tags, description, log_system_metrics)\u001b[39m\n\u001b[32m    349\u001b[39m experiment_id = \u001b[38;5;28mstr\u001b[39m(experiment_id) \u001b[38;5;28;01mif\u001b[39;00m \u001b[38;5;28misinstance\u001b[39m(experiment_id, \u001b[38;5;28mint\u001b[39m) \u001b[38;5;28;01melse\u001b[39;00m experiment_id\n\u001b[32m    350\u001b[39m \u001b[38;5;28;01mif\u001b[39;00m \u001b[38;5;28mlen\u001b[39m(active_run_stack) > \u001b[32m0\u001b[39m \u001b[38;5;129;01mand\u001b[39;00m \u001b[38;5;129;01mnot\u001b[39;00m nested:\n\u001b[32m--> \u001b[39m\u001b[32m351\u001b[39m     \u001b[38;5;28;01mraise\u001b[39;00m \u001b[38;5;167;01mException\u001b[39;00m(\n\u001b[32m    352\u001b[39m         (\n\u001b[32m    353\u001b[39m             \u001b[33m\"\u001b[39m\u001b[33mRun with UUID \u001b[39m\u001b[38;5;132;01m{}\u001b[39;00m\u001b[33m is already active. To start a new run, first end the \u001b[39m\u001b[33m\"\u001b[39m\n\u001b[32m    354\u001b[39m             + \u001b[33m\"\u001b[39m\u001b[33mcurrent run with mlflow.end_run(). To start a nested \u001b[39m\u001b[33m\"\u001b[39m\n\u001b[32m    355\u001b[39m             + \u001b[33m\"\u001b[39m\u001b[33mrun, call start_run with nested=True\u001b[39m\u001b[33m\"\u001b[39m\n\u001b[32m    356\u001b[39m         ).format(active_run_stack[\u001b[32m0\u001b[39m].info.run_id)\n\u001b[32m    357\u001b[39m     )\n\u001b[32m    358\u001b[39m client = MlflowClient()\n\u001b[32m    359\u001b[39m \u001b[38;5;28;01mif\u001b[39;00m run_id:\n",
      "\u001b[31mException\u001b[39m: Run with UUID 1976cda82be34f4aa09dd0b03be307bd is already active. To start a new run, first end the current run with mlflow.end_run(). To start a nested run, call start_run with nested=True"
     ]
    }
   ],
   "source": [
    "with mlflow.start_run(run_name=\"UsageExample\"):\n",
    "    # Initialize the optimizer.\n",
    "    optimizer = StrategyOptimizer(\n",
    "        strategy_class=AwesomeOscillatorStrategy,  # Replace with your strategy\n",
    "        db_config=db_config,\n",
    "        search_space=awesome_oscillator_strat_search_space,\n",
    "        tickers=tickers,\n",
    "        start_date=\"2020-01-01\",\n",
    "        end_date=\"2022-12-31\",\n",
    "        max_evals=50\n",
    "    )\n",
    "\n",
    "    # Run the hyperparameter optimization.\n",
    "    best_params, performance_report, param_history = optimizer.run_optimization()\n",
    "    print(\"Best Parameters:\")\n",
    "    print(best_params)\n",
    "    print(\"\\nPerformance Report:\")\n",
    "    print(performance_report)"
   ]
  },
  {
   "cell_type": "code",
   "execution_count": 10,
   "metadata": {},
   "outputs": [],
   "source": [
    "# Ensure any active run is ended before starting a new one\n",
    "if mlflow.active_run():\n",
    "    mlflow.end_run()"
   ]
  },
  {
   "cell_type": "code",
   "execution_count": 17,
   "metadata": {},
   "outputs": [],
   "source": [
    "mlflow.end_run()"
   ]
  }
 ],
 "metadata": {
  "kernelspec": {
   "display_name": "trading-system-u4iDTrLv-py3.12",
   "language": "python",
   "name": "python3"
  },
  "language_info": {
   "codemirror_mode": {
    "name": "ipython",
    "version": 3
   },
   "file_extension": ".py",
   "mimetype": "text/x-python",
   "name": "python",
   "nbconvert_exporter": "python",
   "pygments_lexer": "ipython3",
   "version": "3.12.3"
  }
 },
 "nbformat": 4,
 "nbformat_minor": 2
}
