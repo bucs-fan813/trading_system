{
 "cells": [
  {
   "cell_type": "code",
   "execution_count": 1,
   "metadata": {},
   "outputs": [
    {
     "data": {
      "text/plain": [
       "'/home/bhvignesh/trading_system/notebooks'"
      ]
     },
     "execution_count": 1,
     "metadata": {},
     "output_type": "execute_result"
    }
   ],
   "source": [
    "import os\n",
    "os.getcwd()"
   ]
  },
  {
   "cell_type": "code",
   "execution_count": 2,
   "metadata": {},
   "outputs": [],
   "source": [
    "os.chdir('..')"
   ]
  },
  {
   "cell_type": "code",
   "execution_count": 3,
   "metadata": {},
   "outputs": [],
   "source": [
    "from src.optimizer.strategy_optimizer import StrategyOptimizer\n",
    "from src.optimizer.sensitivity_analyzer import SensitivityAnalyzer\n",
    "from src.strategies.breakout.cup_and_handle_strat import CupAndHandle\n",
    "from src.database.config import DatabaseConfig\n",
    "from hyperopt import hp\n",
    "import mlflow"
   ]
  },
  {
   "cell_type": "code",
   "execution_count": 4,
   "metadata": {},
   "outputs": [],
   "source": [
    "db_config = DatabaseConfig.default()"
   ]
  },
  {
   "cell_type": "code",
   "execution_count": 5,
   "metadata": {},
   "outputs": [],
   "source": [
    "mlflow.set_tracking_uri(\"file:/home/bhvignesh/trading_system/mlruns\")"
   ]
  },
  {
   "cell_type": "code",
   "execution_count": 6,
   "metadata": {},
   "outputs": [],
   "source": [
    "import src.collectors.data_collector as data_collector\n",
    "import pandas as pd\n",
    "\n",
    "tickers = pd.read_excel(\"data/ticker.xlsx\")\n",
    "tickers = tickers[~tickers[\"Security Name\"].duplicated()]\n",
    "tickers.reset_index(drop=True, inplace=True)\n",
    "\n",
    "def add_ticker_suffix(x):\n",
    "    if x[\"Exchange\"]==\"BSE\":\n",
    "        return x[\"Security Name\"] + \".BO\"\n",
    "    else:\n",
    "        return x[\"Security Name\"] + \".NS\"\n",
    "\n",
    "tickers[\"Ticker\"] = tickers.apply(add_ticker_suffix, axis = 1)\n",
    "all_tickers = tickers[\"Ticker\"].tolist()"
   ]
  },
  {
   "cell_type": "code",
   "execution_count": 7,
   "metadata": {},
   "outputs": [],
   "source": [
    "from src.optimizer.search_space import cup_and_handle_strat_search_space"
   ]
  },
  {
   "cell_type": "code",
   "execution_count": null,
   "metadata": {},
   "outputs": [],
   "source": [
    "tickers = all_tickers"
   ]
  },
  {
   "cell_type": "code",
   "execution_count": 10,
   "metadata": {},
   "outputs": [
    {
     "name": "stderr",
     "output_type": "stream",
     "text": [
      "2025-03-27 14:27:27,349 - src.database.engine - INFO - Database connection established successfully\n"
     ]
    }
   ],
   "source": [
    "strat = CupAndHandle(db_config )"
   ]
  },
  {
   "cell_type": "code",
   "execution_count": 11,
   "metadata": {},
   "outputs": [
    {
     "name": "stderr",
     "output_type": "stream",
     "text": [
      "2025-03-27 14:27:29,185 - CupAndHandle - INFO - Fetching historical prices for LT.BO...\n",
      "2025-03-27 14:27:29,760 - CupAndHandle - INFO - Generating C&H signals...\n",
      "2025-03-27 14:28:32,088 - CupAndHandle - INFO - Cup and Handle strategy processing complete.\n"
     ]
    }
   ],
   "source": [
    "a = strat.generate_signals(tickers[2])"
   ]
  },
  {
   "cell_type": "code",
   "execution_count": 12,
   "metadata": {},
   "outputs": [
    {
     "data": {
      "text/plain": [
       "55"
      ]
     },
     "execution_count": 12,
     "metadata": {},
     "output_type": "execute_result"
    }
   ],
   "source": [
    "sum(a['signal']==1)"
   ]
  },
  {
   "cell_type": "code",
   "execution_count": 13,
   "metadata": {},
   "outputs": [
    {
     "data": {
      "text/plain": [
       "0"
      ]
     },
     "execution_count": 13,
     "metadata": {},
     "output_type": "execute_result"
    }
   ],
   "source": [
    "sum(a['signal']==-1)"
   ]
  },
  {
   "cell_type": "code",
   "execution_count": null,
   "metadata": {},
   "outputs": [
    {
     "name": "stderr",
     "output_type": "stream",
     "text": [
      "2025-03-27 14:43:29,787 - src.optimizer.strategy_optimizer - INFO - Initialized StrategyOptimizer with 10 tickers, 3 folds, and 50 max evaluations\n",
      "2025-03-27 14:43:29,869 - src.optimizer.strategy_optimizer - INFO - Starting optimization with 50 evaluations\n"
     ]
    },
    {
     "name": "stdout",
     "output_type": "stream",
     "text": [
      "  0%|          | 0/50 [00:00<?, ?trial/s, best loss=?]"
     ]
    },
    {
     "name": "stderr",
     "output_type": "stream",
     "text": [
      "2025-03-27 14:43:29,883 - hyperopt.tpe - INFO - build_posterior_wrapper took 0.003421 seconds\n",
      "2025-03-27 14:43:29,884 - hyperopt.tpe - INFO - TPE using 0 trials\n",
      "2025-03-27 14:43:29,959 - src.database.engine - INFO - Database connection established successfully\n",
      "2025-03-27 14:43:29,959 - src.database.engine - INFO - Database connection established successfully\n",
      "2025-03-27 14:43:29,959 - src.database.engine - INFO - Database connection established successfully\n",
      "2025-03-27 14:43:29,964 - CupAndHandle - INFO - Fetching historical prices for ['HDFCBANK.BO', 'TCS.BO', 'LT.BO', 'INFY.BO', 'RELIANCE.BO', 'ZOMATO.BO', 'TATAMOTORS.BO', 'ICICIBANK.BO', 'SBIN.BO', 'HCLTECH.BO']...\n",
      "2025-03-27 14:43:29,964 - CupAndHandle - INFO - Fetching historical prices for ['HDFCBANK.BO', 'TCS.BO', 'LT.BO', 'INFY.BO', 'RELIANCE.BO', 'ZOMATO.BO', 'TATAMOTORS.BO', 'ICICIBANK.BO', 'SBIN.BO', 'HCLTECH.BO']...\n",
      "2025-03-27 14:43:29,964 - CupAndHandle - INFO - Fetching historical prices for ['HDFCBANK.BO', 'TCS.BO', 'LT.BO', 'INFY.BO', 'RELIANCE.BO', 'ZOMATO.BO', 'TATAMOTORS.BO', 'ICICIBANK.BO', 'SBIN.BO', 'HCLTECH.BO']...\n",
      "2025-03-27 14:43:30,895 - CupAndHandle - INFO - Generating C&H signals...\n",
      "2025-03-27 14:43:30,896 - CupAndHandle - INFO - Generating C&H signals...\n",
      "2025-03-27 14:43:30,902 - CupAndHandle - INFO - Generating C&H signals...\n",
      "2025-03-27 14:43:44,814 - CupAndHandle - INFO - Cup and Handle strategy processing complete.\n",
      "2025-03-27 14:43:45,841 - CupAndHandle - INFO - Cup and Handle strategy processing complete.\n",
      "2025-03-27 14:43:46,322 - CupAndHandle - INFO - Cup and Handle strategy processing complete.\n"
     ]
    },
    {
     "name": "stdout",
     "output_type": "stream",
     "text": [
      "  2%|▏         | 1/50 [00:16<13:29, 16.53s/trial, best loss: 0.17921562478727726]"
     ]
    },
    {
     "name": "stderr",
     "output_type": "stream",
     "text": [
      "2025-03-27 14:43:46,412 - hyperopt.tpe - INFO - build_posterior_wrapper took 0.004602 seconds\n",
      "2025-03-27 14:43:46,413 - hyperopt.tpe - INFO - TPE using 1/1 trials with best loss 0.179216\n",
      "2025-03-27 14:43:46,484 - src.database.engine - INFO - Database connection established successfully\n",
      "2025-03-27 14:43:46,484 - src.database.engine - INFO - Database connection established successfully\n",
      "2025-03-27 14:43:46,485 - src.database.engine - INFO - Database connection established successfully\n",
      "2025-03-27 14:43:46,489 - CupAndHandle - INFO - Fetching historical prices for ['HDFCBANK.BO', 'TCS.BO', 'LT.BO', 'INFY.BO', 'RELIANCE.BO', 'ZOMATO.BO', 'TATAMOTORS.BO', 'ICICIBANK.BO', 'SBIN.BO', 'HCLTECH.BO']...\n",
      "2025-03-27 14:43:46,489 - CupAndHandle - INFO - Fetching historical prices for ['HDFCBANK.BO', 'TCS.BO', 'LT.BO', 'INFY.BO', 'RELIANCE.BO', 'ZOMATO.BO', 'TATAMOTORS.BO', 'ICICIBANK.BO', 'SBIN.BO', 'HCLTECH.BO']...\n",
      "2025-03-27 14:43:46,489 - CupAndHandle - INFO - Fetching historical prices for ['HDFCBANK.BO', 'TCS.BO', 'LT.BO', 'INFY.BO', 'RELIANCE.BO', 'ZOMATO.BO', 'TATAMOTORS.BO', 'ICICIBANK.BO', 'SBIN.BO', 'HCLTECH.BO']...\n",
      "2025-03-27 14:43:47,289 - CupAndHandle - INFO - Generating C&H signals...\n",
      "2025-03-27 14:43:47,294 - CupAndHandle - INFO - Generating C&H signals...\n",
      "2025-03-27 14:43:47,329 - CupAndHandle - INFO - Generating C&H signals...\n",
      "2025-03-27 14:44:16,624 - CupAndHandle - INFO - Cup and Handle strategy processing complete.\n",
      "2025-03-27 14:44:16,970 - CupAndHandle - INFO - Cup and Handle strategy processing complete.\n",
      "2025-03-27 14:44:17,364 - CupAndHandle - INFO - Cup and Handle strategy processing complete.\n"
     ]
    },
    {
     "name": "stdout",
     "output_type": "stream",
     "text": [
      "  4%|▍         | 2/50 [00:47<20:05, 25.11s/trial, best loss: 0.17921562478727726]"
     ]
    },
    {
     "name": "stderr",
     "output_type": "stream",
     "text": [
      "2025-03-27 14:44:17,532 - hyperopt.tpe - INFO - build_posterior_wrapper took 0.012386 seconds\n",
      "2025-03-27 14:44:17,533 - hyperopt.tpe - INFO - TPE using 2/2 trials with best loss 0.179216\n",
      "2025-03-27 14:44:17,667 - src.database.engine - INFO - Database connection established successfully\n",
      "2025-03-27 14:44:17,669 - src.database.engine - INFO - Database connection established successfully\n",
      "2025-03-27 14:44:17,671 - src.database.engine - INFO - Database connection established successfully\n",
      "2025-03-27 14:44:17,674 - CupAndHandle - INFO - Fetching historical prices for ['HDFCBANK.BO', 'TCS.BO', 'LT.BO', 'INFY.BO', 'RELIANCE.BO', 'ZOMATO.BO', 'TATAMOTORS.BO', 'ICICIBANK.BO', 'SBIN.BO', 'HCLTECH.BO']...\n",
      "2025-03-27 14:44:17,676 - CupAndHandle - INFO - Fetching historical prices for ['HDFCBANK.BO', 'TCS.BO', 'LT.BO', 'INFY.BO', 'RELIANCE.BO', 'ZOMATO.BO', 'TATAMOTORS.BO', 'ICICIBANK.BO', 'SBIN.BO', 'HCLTECH.BO']...\n",
      "2025-03-27 14:44:17,678 - CupAndHandle - INFO - Fetching historical prices for ['HDFCBANK.BO', 'TCS.BO', 'LT.BO', 'INFY.BO', 'RELIANCE.BO', 'ZOMATO.BO', 'TATAMOTORS.BO', 'ICICIBANK.BO', 'SBIN.BO', 'HCLTECH.BO']...\n",
      "2025-03-27 14:44:18,942 - CupAndHandle - INFO - Generating C&H signals...\n",
      "2025-03-27 14:44:18,957 - CupAndHandle - INFO - Generating C&H signals...\n",
      "2025-03-27 14:44:18,973 - CupAndHandle - INFO - Generating C&H signals...\n",
      "2025-03-27 14:44:38,543 - CupAndHandle - INFO - Cup and Handle strategy processing complete.\n",
      "2025-03-27 14:44:38,778 - CupAndHandle - INFO - Cup and Handle strategy processing complete.\n",
      "2025-03-27 14:44:38,881 - CupAndHandle - INFO - Cup and Handle strategy processing complete.\n"
     ]
    },
    {
     "name": "stdout",
     "output_type": "stream",
     "text": [
      "  6%|▌         | 3/50 [01:09<18:21, 23.44s/trial, best loss: -0.016899941402997186]"
     ]
    },
    {
     "name": "stderr",
     "output_type": "stream",
     "text": [
      "2025-03-27 14:44:38,992 - hyperopt.tpe - INFO - build_posterior_wrapper took 0.004952 seconds\n",
      "2025-03-27 14:44:38,993 - hyperopt.tpe - INFO - TPE using 3/3 trials with best loss -0.016900\n",
      "2025-03-27 14:44:39,078 - src.database.engine - INFO - Database connection established successfully\n",
      "2025-03-27 14:44:39,081 - src.database.engine - INFO - Database connection established successfully\n",
      "2025-03-27 14:44:39,083 - CupAndHandle - INFO - Fetching historical prices for ['HDFCBANK.BO', 'TCS.BO', 'LT.BO', 'INFY.BO', 'RELIANCE.BO', 'ZOMATO.BO', 'TATAMOTORS.BO', 'ICICIBANK.BO', 'SBIN.BO', 'HCLTECH.BO']...\n",
      "2025-03-27 14:44:39,083 - src.database.engine - INFO - Database connection established successfully\n",
      "2025-03-27 14:44:39,086 - CupAndHandle - INFO - Fetching historical prices for ['HDFCBANK.BO', 'TCS.BO', 'LT.BO', 'INFY.BO', 'RELIANCE.BO', 'ZOMATO.BO', 'TATAMOTORS.BO', 'ICICIBANK.BO', 'SBIN.BO', 'HCLTECH.BO']...\n",
      "2025-03-27 14:44:39,087 - CupAndHandle - INFO - Fetching historical prices for ['HDFCBANK.BO', 'TCS.BO', 'LT.BO', 'INFY.BO', 'RELIANCE.BO', 'ZOMATO.BO', 'TATAMOTORS.BO', 'ICICIBANK.BO', 'SBIN.BO', 'HCLTECH.BO']...\n",
      "2025-03-27 14:44:39,993 - CupAndHandle - INFO - Generating C&H signals...\n",
      "2025-03-27 14:44:40,089 - CupAndHandle - INFO - Generating C&H signals...\n",
      "2025-03-27 14:44:40,140 - CupAndHandle - INFO - Generating C&H signals...\n",
      "2025-03-27 14:44:53,802 - CupAndHandle - INFO - Cup and Handle strategy processing complete.\n",
      "2025-03-27 14:44:54,496 - CupAndHandle - INFO - Cup and Handle strategy processing complete.\n",
      "2025-03-27 14:44:54,794 - CupAndHandle - INFO - Cup and Handle strategy processing complete.\n"
     ]
    },
    {
     "name": "stdout",
     "output_type": "stream",
     "text": [
      "  8%|▊         | 4/50 [01:25<15:41, 20.47s/trial, best loss: -0.016899941402997186]"
     ]
    },
    {
     "name": "stderr",
     "output_type": "stream",
     "text": [
      "2025-03-27 14:44:54,889 - hyperopt.tpe - INFO - build_posterior_wrapper took 0.004568 seconds\n",
      "2025-03-27 14:44:54,890 - hyperopt.tpe - INFO - TPE using 4/4 trials with best loss -0.016900\n",
      "2025-03-27 14:44:54,974 - src.database.engine - INFO - Database connection established successfully\n",
      "2025-03-27 14:44:54,975 - src.database.engine - INFO - Database connection established successfully\n",
      "2025-03-27 14:44:54,976 - src.database.engine - INFO - Database connection established successfully\n",
      "2025-03-27 14:44:54,979 - CupAndHandle - INFO - Fetching historical prices for ['HDFCBANK.BO', 'TCS.BO', 'LT.BO', 'INFY.BO', 'RELIANCE.BO', 'ZOMATO.BO', 'TATAMOTORS.BO', 'ICICIBANK.BO', 'SBIN.BO', 'HCLTECH.BO']...\n",
      "2025-03-27 14:44:54,980 - CupAndHandle - INFO - Fetching historical prices for ['HDFCBANK.BO', 'TCS.BO', 'LT.BO', 'INFY.BO', 'RELIANCE.BO', 'ZOMATO.BO', 'TATAMOTORS.BO', 'ICICIBANK.BO', 'SBIN.BO', 'HCLTECH.BO']...\n",
      "2025-03-27 14:44:54,981 - CupAndHandle - INFO - Fetching historical prices for ['HDFCBANK.BO', 'TCS.BO', 'LT.BO', 'INFY.BO', 'RELIANCE.BO', 'ZOMATO.BO', 'TATAMOTORS.BO', 'ICICIBANK.BO', 'SBIN.BO', 'HCLTECH.BO']...\n",
      "2025-03-27 14:44:55,900 - CupAndHandle - INFO - Generating C&H signals...\n",
      "2025-03-27 14:44:55,902 - CupAndHandle - INFO - Generating C&H signals...\n",
      "2025-03-27 14:44:55,962 - CupAndHandle - INFO - Generating C&H signals...\n",
      "2025-03-27 14:45:10,835 - CupAndHandle - INFO - Cup and Handle strategy processing complete.\n",
      "2025-03-27 14:45:11,607 - CupAndHandle - INFO - Cup and Handle strategy processing complete.\n",
      "2025-03-27 14:45:12,339 - CupAndHandle - INFO - Cup and Handle strategy processing complete.\n"
     ]
    },
    {
     "name": "stdout",
     "output_type": "stream",
     "text": [
      " 10%|█         | 5/50 [01:42<14:33, 19.41s/trial, best loss: -0.016899941402997186]"
     ]
    },
    {
     "name": "stderr",
     "output_type": "stream",
     "text": [
      "2025-03-27 14:45:12,435 - hyperopt.tpe - INFO - build_posterior_wrapper took 0.003811 seconds\n",
      "2025-03-27 14:45:12,436 - hyperopt.tpe - INFO - TPE using 5/5 trials with best loss -0.016900\n",
      "2025-03-27 14:45:12,515 - src.database.engine - INFO - Database connection established successfully\n",
      "2025-03-27 14:45:12,516 - src.database.engine - INFO - Database connection established successfully\n",
      "2025-03-27 14:45:12,520 - CupAndHandle - INFO - Fetching historical prices for ['HDFCBANK.BO', 'TCS.BO', 'LT.BO', 'INFY.BO', 'RELIANCE.BO', 'ZOMATO.BO', 'TATAMOTORS.BO', 'ICICIBANK.BO', 'SBIN.BO', 'HCLTECH.BO']...\n",
      "2025-03-27 14:45:12,518 - src.database.engine - INFO - Database connection established successfully\n",
      "2025-03-27 14:45:12,521 - CupAndHandle - INFO - Fetching historical prices for ['HDFCBANK.BO', 'TCS.BO', 'LT.BO', 'INFY.BO', 'RELIANCE.BO', 'ZOMATO.BO', 'TATAMOTORS.BO', 'ICICIBANK.BO', 'SBIN.BO', 'HCLTECH.BO']...\n",
      "2025-03-27 14:45:12,523 - CupAndHandle - INFO - Fetching historical prices for ['HDFCBANK.BO', 'TCS.BO', 'LT.BO', 'INFY.BO', 'RELIANCE.BO', 'ZOMATO.BO', 'TATAMOTORS.BO', 'ICICIBANK.BO', 'SBIN.BO', 'HCLTECH.BO']...\n",
      "2025-03-27 14:45:13,291 - CupAndHandle - INFO - Generating C&H signals...\n",
      "2025-03-27 14:45:13,337 - CupAndHandle - INFO - Generating C&H signals...\n",
      "2025-03-27 14:45:13,401 - CupAndHandle - INFO - Generating C&H signals...\n",
      "2025-03-27 14:45:19,648 - CupAndHandle - INFO - Cup and Handle strategy processing complete.\n",
      "2025-03-27 14:45:20,075 - CupAndHandle - INFO - Cup and Handle strategy processing complete.\n",
      "2025-03-27 14:45:20,127 - CupAndHandle - INFO - Cup and Handle strategy processing complete.\n"
     ]
    },
    {
     "name": "stdout",
     "output_type": "stream",
     "text": [
      " 12%|█▏        | 6/50 [01:50<11:20, 15.46s/trial, best loss: -0.024793785785363988]"
     ]
    },
    {
     "name": "stderr",
     "output_type": "stream",
     "text": [
      "2025-03-27 14:45:20,221 - hyperopt.tpe - INFO - build_posterior_wrapper took 0.003838 seconds\n",
      "2025-03-27 14:45:20,222 - hyperopt.tpe - INFO - TPE using 6/6 trials with best loss -0.024794\n",
      "2025-03-27 14:45:20,306 - src.database.engine - INFO - Database connection established successfully\n",
      "2025-03-27 14:45:20,311 - CupAndHandle - INFO - Fetching historical prices for ['HDFCBANK.BO', 'TCS.BO', 'LT.BO', 'INFY.BO', 'RELIANCE.BO', 'ZOMATO.BO', 'TATAMOTORS.BO', 'ICICIBANK.BO', 'SBIN.BO', 'HCLTECH.BO']...\n",
      "2025-03-27 14:45:20,311 - src.database.engine - INFO - Database connection established successfully\n",
      "2025-03-27 14:45:20,313 - src.database.engine - INFO - Database connection established successfully\n",
      "2025-03-27 14:45:20,315 - CupAndHandle - INFO - Fetching historical prices for ['HDFCBANK.BO', 'TCS.BO', 'LT.BO', 'INFY.BO', 'RELIANCE.BO', 'ZOMATO.BO', 'TATAMOTORS.BO', 'ICICIBANK.BO', 'SBIN.BO', 'HCLTECH.BO']...\n",
      "2025-03-27 14:45:20,317 - CupAndHandle - INFO - Fetching historical prices for ['HDFCBANK.BO', 'TCS.BO', 'LT.BO', 'INFY.BO', 'RELIANCE.BO', 'ZOMATO.BO', 'TATAMOTORS.BO', 'ICICIBANK.BO', 'SBIN.BO', 'HCLTECH.BO']...\n",
      "2025-03-27 14:45:21,163 - CupAndHandle - INFO - Generating C&H signals...\n",
      "2025-03-27 14:45:21,183 - CupAndHandle - INFO - Generating C&H signals...\n",
      "2025-03-27 14:45:21,194 - CupAndHandle - INFO - Generating C&H signals...\n",
      "2025-03-27 14:45:43,736 - CupAndHandle - INFO - Cup and Handle strategy processing complete.\n",
      "2025-03-27 14:45:43,898 - CupAndHandle - INFO - Cup and Handle strategy processing complete.\n",
      "2025-03-27 14:45:44,012 - CupAndHandle - INFO - Cup and Handle strategy processing complete.\n"
     ]
    },
    {
     "name": "stdout",
     "output_type": "stream",
     "text": [
      " 14%|█▍        | 7/50 [02:14<13:03, 18.21s/trial, best loss: -0.04238807755971671] "
     ]
    },
    {
     "name": "stderr",
     "output_type": "stream",
     "text": [
      "2025-03-27 14:45:44,104 - hyperopt.tpe - INFO - build_posterior_wrapper took 0.003922 seconds\n",
      "2025-03-27 14:45:44,106 - hyperopt.tpe - INFO - TPE using 7/7 trials with best loss -0.042388\n",
      "2025-03-27 14:45:44,184 - src.database.engine - INFO - Database connection established successfully\n",
      "2025-03-27 14:45:44,189 - CupAndHandle - INFO - Fetching historical prices for ['HDFCBANK.BO', 'TCS.BO', 'LT.BO', 'INFY.BO', 'RELIANCE.BO', 'ZOMATO.BO', 'TATAMOTORS.BO', 'ICICIBANK.BO', 'SBIN.BO', 'HCLTECH.BO']...\n",
      "2025-03-27 14:45:44,191 - src.database.engine - INFO - Database connection established successfully\n",
      "2025-03-27 14:45:44,195 - src.database.engine - INFO - Database connection established successfully\n",
      "2025-03-27 14:45:44,196 - CupAndHandle - INFO - Fetching historical prices for ['HDFCBANK.BO', 'TCS.BO', 'LT.BO', 'INFY.BO', 'RELIANCE.BO', 'ZOMATO.BO', 'TATAMOTORS.BO', 'ICICIBANK.BO', 'SBIN.BO', 'HCLTECH.BO']...\n",
      "2025-03-27 14:45:44,200 - CupAndHandle - INFO - Fetching historical prices for ['HDFCBANK.BO', 'TCS.BO', 'LT.BO', 'INFY.BO', 'RELIANCE.BO', 'ZOMATO.BO', 'TATAMOTORS.BO', 'ICICIBANK.BO', 'SBIN.BO', 'HCLTECH.BO']...\n",
      "2025-03-27 14:45:45,046 - CupAndHandle - INFO - Generating C&H signals...\n",
      "2025-03-27 14:45:45,074 - CupAndHandle - INFO - Generating C&H signals...\n",
      "2025-03-27 14:45:45,142 - CupAndHandle - INFO - Generating C&H signals...\n",
      "2025-03-27 14:46:11,146 - CupAndHandle - INFO - Cup and Handle strategy processing complete.\n",
      "2025-03-27 14:46:12,588 - CupAndHandle - INFO - Cup and Handle strategy processing complete.\n",
      "2025-03-27 14:46:12,687 - CupAndHandle - INFO - Cup and Handle strategy processing complete.\n"
     ]
    },
    {
     "name": "stdout",
     "output_type": "stream",
     "text": [
      " 16%|█▌        | 8/50 [02:42<15:04, 21.55s/trial, best loss: -0.04238807755971671]"
     ]
    },
    {
     "name": "stderr",
     "output_type": "stream",
     "text": [
      "2025-03-27 14:46:12,786 - hyperopt.tpe - INFO - build_posterior_wrapper took 0.004115 seconds\n",
      "2025-03-27 14:46:12,787 - hyperopt.tpe - INFO - TPE using 8/8 trials with best loss -0.042388\n",
      "2025-03-27 14:46:12,874 - src.database.engine - INFO - Database connection established successfully\n",
      "2025-03-27 14:46:12,875 - src.database.engine - INFO - Database connection established successfully\n",
      "2025-03-27 14:46:12,878 - src.database.engine - INFO - Database connection established successfully\n",
      "2025-03-27 14:46:12,880 - CupAndHandle - INFO - Fetching historical prices for ['HDFCBANK.BO', 'TCS.BO', 'LT.BO', 'INFY.BO', 'RELIANCE.BO', 'ZOMATO.BO', 'TATAMOTORS.BO', 'ICICIBANK.BO', 'SBIN.BO', 'HCLTECH.BO']...\n",
      "2025-03-27 14:46:12,880 - CupAndHandle - INFO - Fetching historical prices for ['HDFCBANK.BO', 'TCS.BO', 'LT.BO', 'INFY.BO', 'RELIANCE.BO', 'ZOMATO.BO', 'TATAMOTORS.BO', 'ICICIBANK.BO', 'SBIN.BO', 'HCLTECH.BO']...\n",
      "2025-03-27 14:46:12,883 - CupAndHandle - INFO - Fetching historical prices for ['HDFCBANK.BO', 'TCS.BO', 'LT.BO', 'INFY.BO', 'RELIANCE.BO', 'ZOMATO.BO', 'TATAMOTORS.BO', 'ICICIBANK.BO', 'SBIN.BO', 'HCLTECH.BO']...\n",
      "2025-03-27 14:46:13,871 - CupAndHandle - INFO - Generating C&H signals...\n",
      "2025-03-27 14:46:13,893 - CupAndHandle - INFO - Generating C&H signals...\n",
      "2025-03-27 14:46:13,929 - CupAndHandle - INFO - Generating C&H signals...\n",
      "2025-03-27 14:46:23,165 - CupAndHandle - INFO - Cup and Handle strategy processing complete.\n",
      "2025-03-27 14:46:23,278 - CupAndHandle - INFO - Cup and Handle strategy processing complete.\n",
      "2025-03-27 14:46:23,891 - CupAndHandle - INFO - Cup and Handle strategy processing complete.\n"
     ]
    },
    {
     "name": "stdout",
     "output_type": "stream",
     "text": [
      " 18%|█▊        | 9/50 [02:54<12:30, 18.31s/trial, best loss: -0.04238807755971671]"
     ]
    },
    {
     "name": "stderr",
     "output_type": "stream",
     "text": [
      "2025-03-27 14:46:23,987 - hyperopt.tpe - INFO - build_posterior_wrapper took 0.004112 seconds\n",
      "2025-03-27 14:46:23,988 - hyperopt.tpe - INFO - TPE using 9/9 trials with best loss -0.042388\n",
      "2025-03-27 14:46:24,078 - src.database.engine - INFO - Database connection established successfully\n",
      "2025-03-27 14:46:24,080 - src.database.engine - INFO - Database connection established successfully\n",
      "2025-03-27 14:46:24,084 - CupAndHandle - INFO - Fetching historical prices for ['HDFCBANK.BO', 'TCS.BO', 'LT.BO', 'INFY.BO', 'RELIANCE.BO', 'ZOMATO.BO', 'TATAMOTORS.BO', 'ICICIBANK.BO', 'SBIN.BO', 'HCLTECH.BO']...\n",
      "2025-03-27 14:46:24,085 - CupAndHandle - INFO - Fetching historical prices for ['HDFCBANK.BO', 'TCS.BO', 'LT.BO', 'INFY.BO', 'RELIANCE.BO', 'ZOMATO.BO', 'TATAMOTORS.BO', 'ICICIBANK.BO', 'SBIN.BO', 'HCLTECH.BO']...\n",
      "2025-03-27 14:46:24,085 - src.database.engine - INFO - Database connection established successfully\n",
      "2025-03-27 14:46:24,091 - CupAndHandle - INFO - Fetching historical prices for ['HDFCBANK.BO', 'TCS.BO', 'LT.BO', 'INFY.BO', 'RELIANCE.BO', 'ZOMATO.BO', 'TATAMOTORS.BO', 'ICICIBANK.BO', 'SBIN.BO', 'HCLTECH.BO']...\n",
      "2025-03-27 14:46:24,897 - CupAndHandle - INFO - Generating C&H signals...\n",
      "2025-03-27 14:46:24,931 - CupAndHandle - INFO - Generating C&H signals...\n",
      "2025-03-27 14:46:24,950 - CupAndHandle - INFO - Generating C&H signals...\n",
      "2025-03-27 14:46:54,678 - CupAndHandle - INFO - Cup and Handle strategy processing complete.\n",
      "2025-03-27 14:46:55,319 - CupAndHandle - INFO - Cup and Handle strategy processing complete.\n",
      "2025-03-27 14:46:55,478 - CupAndHandle - INFO - Cup and Handle strategy processing complete.\n"
     ]
    },
    {
     "name": "stdout",
     "output_type": "stream",
     "text": [
      " 20%|██        | 10/50 [03:25<14:56, 22.42s/trial, best loss: -0.04238807755971671]"
     ]
    },
    {
     "name": "stderr",
     "output_type": "stream",
     "text": [
      "2025-03-27 14:46:55,592 - hyperopt.tpe - INFO - build_posterior_wrapper took 0.004157 seconds\n",
      "2025-03-27 14:46:55,593 - hyperopt.tpe - INFO - TPE using 10/10 trials with best loss -0.042388\n",
      "2025-03-27 14:46:55,685 - src.database.engine - INFO - Database connection established successfully\n",
      "2025-03-27 14:46:55,687 - src.database.engine - INFO - Database connection established successfully\n",
      "2025-03-27 14:46:55,690 - CupAndHandle - INFO - Fetching historical prices for ['HDFCBANK.BO', 'TCS.BO', 'LT.BO', 'INFY.BO', 'RELIANCE.BO', 'ZOMATO.BO', 'TATAMOTORS.BO', 'ICICIBANK.BO', 'SBIN.BO', 'HCLTECH.BO']...\n",
      "2025-03-27 14:46:55,692 - CupAndHandle - INFO - Fetching historical prices for ['HDFCBANK.BO', 'TCS.BO', 'LT.BO', 'INFY.BO', 'RELIANCE.BO', 'ZOMATO.BO', 'TATAMOTORS.BO', 'ICICIBANK.BO', 'SBIN.BO', 'HCLTECH.BO']...\n",
      "2025-03-27 14:46:55,694 - src.database.engine - INFO - Database connection established successfully\n",
      "2025-03-27 14:46:55,698 - CupAndHandle - INFO - Fetching historical prices for ['HDFCBANK.BO', 'TCS.BO', 'LT.BO', 'INFY.BO', 'RELIANCE.BO', 'ZOMATO.BO', 'TATAMOTORS.BO', 'ICICIBANK.BO', 'SBIN.BO', 'HCLTECH.BO']...\n",
      "2025-03-27 14:46:56,495 - CupAndHandle - INFO - Generating C&H signals...\n",
      "2025-03-27 14:46:56,576 - CupAndHandle - INFO - Generating C&H signals...\n",
      "2025-03-27 14:46:56,618 - CupAndHandle - INFO - Generating C&H signals...\n",
      "2025-03-27 14:47:23,434 - CupAndHandle - INFO - Cup and Handle strategy processing complete.\n",
      "2025-03-27 14:47:25,846 - CupAndHandle - INFO - Cup and Handle strategy processing complete.\n",
      "2025-03-27 14:47:27,312 - CupAndHandle - INFO - Cup and Handle strategy processing complete.\n"
     ]
    },
    {
     "name": "stdout",
     "output_type": "stream",
     "text": [
      " 22%|██▏       | 11/50 [03:57<16:26, 25.30s/trial, best loss: -0.04238807755971671]"
     ]
    },
    {
     "name": "stderr",
     "output_type": "stream",
     "text": [
      "2025-03-27 14:47:27,426 - hyperopt.tpe - INFO - build_posterior_wrapper took 0.004307 seconds\n",
      "2025-03-27 14:47:27,427 - hyperopt.tpe - INFO - TPE using 11/11 trials with best loss -0.042388\n",
      "2025-03-27 14:47:27,519 - src.database.engine - INFO - Database connection established successfully\n",
      "2025-03-27 14:47:27,521 - src.database.engine - INFO - Database connection established successfully\n",
      "2025-03-27 14:47:27,525 - CupAndHandle - INFO - Fetching historical prices for ['HDFCBANK.BO', 'TCS.BO', 'LT.BO', 'INFY.BO', 'RELIANCE.BO', 'ZOMATO.BO', 'TATAMOTORS.BO', 'ICICIBANK.BO', 'SBIN.BO', 'HCLTECH.BO']...\n",
      "2025-03-27 14:47:27,526 - CupAndHandle - INFO - Fetching historical prices for ['HDFCBANK.BO', 'TCS.BO', 'LT.BO', 'INFY.BO', 'RELIANCE.BO', 'ZOMATO.BO', 'TATAMOTORS.BO', 'ICICIBANK.BO', 'SBIN.BO', 'HCLTECH.BO']...\n",
      "2025-03-27 14:47:27,527 - src.database.engine - INFO - Database connection established successfully\n",
      "2025-03-27 14:47:27,533 - CupAndHandle - INFO - Fetching historical prices for ['HDFCBANK.BO', 'TCS.BO', 'LT.BO', 'INFY.BO', 'RELIANCE.BO', 'ZOMATO.BO', 'TATAMOTORS.BO', 'ICICIBANK.BO', 'SBIN.BO', 'HCLTECH.BO']...\n",
      "2025-03-27 14:47:28,438 - CupAndHandle - INFO - Generating C&H signals...\n",
      "2025-03-27 14:47:28,454 - CupAndHandle - INFO - Generating C&H signals...\n",
      "2025-03-27 14:47:28,467 - CupAndHandle - INFO - Generating C&H signals...\n"
     ]
    }
   ],
   "source": [
    "# Initialize the optimizer.\n",
    "optimizer = StrategyOptimizer(\n",
    "    strategy_class=CupAndHandle,  # Replace with your strategy\n",
    "    db_config=db_config,\n",
    "    search_space=cup_and_handle_strat_search_space,\n",
    "    tickers=tickers,\n",
    "    start_date=\"2018-01-01\",\n",
    "    end_date=\"2022-12-31\",\n",
    "    max_evals=50\n",
    ")\n",
    "\n",
    "# Run the hyperparameter optimization.\n",
    "best_params, performance_report, param_history = optimizer.run_optimization()\n",
    "print(\"Best Parameters:\")\n",
    "print(best_params)\n",
    "print(\"\\nPerformance Report:\")\n",
    "print(performance_report)"
   ]
  },
  {
   "cell_type": "code",
   "execution_count": 10,
   "metadata": {},
   "outputs": [],
   "source": [
    "# Ensure any active run is ended before starting a new one\n",
    "if mlflow.active_run():\n",
    "    mlflow.end_run()"
   ]
  },
  {
   "cell_type": "code",
   "execution_count": 17,
   "metadata": {},
   "outputs": [],
   "source": [
    "mlflow.end_run()"
   ]
  }
 ],
 "metadata": {
  "kernelspec": {
   "display_name": "trading_env",
   "language": "python",
   "name": "python3"
  },
  "language_info": {
   "codemirror_mode": {
    "name": "ipython",
    "version": 3
   },
   "file_extension": ".py",
   "mimetype": "text/x-python",
   "name": "python",
   "nbconvert_exporter": "python",
   "pygments_lexer": "ipython3",
   "version": "3.11.9"
  }
 },
 "nbformat": 4,
 "nbformat_minor": 2
}
