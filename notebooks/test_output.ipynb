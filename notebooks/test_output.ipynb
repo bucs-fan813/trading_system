{
 "cells": [
  {
   "cell_type": "markdown",
   "id": "20cc95e8",
   "metadata": {},
   "source": [
    "# Awesome Oscillator"
   ]
  },
  {
   "cell_type": "code",
   "execution_count": null,
   "id": "229dcf6d",
   "metadata": {},
   "outputs": [],
   "source": [
    "# trading_system/scripts/run_ao_optimization.py\n",
    "\n",
    "\"\"\"\n",
    "Main script to run hyperparameter optimization and sensitivity analysis\n",
    "for the Awesome Oscillator strategy using the portfolio-based evaluation framework.\n",
    "\"\"\"\n",
    "\n",
    "import logging\n",
    "import pandas as pd\n",
    "import mlflow\n",
    "from hyperopt import hp\n",
    "import json\n",
    "import os\n",
    "import sys\n",
    "from datetime import datetime\n",
    "from typing import Any, Dict, List, Optional, Tuple\n",
    "\n",
    "\n",
    "sys.path.insert(0, os.path.abspath(os.path.join(os.getcwd(), '..')))\n",
    "\n",
    "try:\n",
    "    from src.strategies.momentum.awesome_oscillator_strat import AwesomeOscillatorStrategy\n",
    "    from src.optimizer.strategy_optimizer import StrategyOptimizer\n",
    "    from src.optimizer.sensitivity_analyzer import SensitivityAnalyzer\n",
    "    from src.database.config import DatabaseConfig\n",
    "except ImportError as e:\n",
    "    print(\"Error importing modules. Make sure the script is run from the project root\")\n",
    "    print(\"or the 'src' directory is in the Python path.\")\n",
    "    print(f\"Import Error: {e}\")\n",
    "    sys.exit(1)\n"
   ]
  },
  {
   "cell_type": "code",
   "execution_count": null,
   "id": "5d2ae5d7",
   "metadata": {},
   "outputs": [],
   "source": [
    "# Data Configuration\n",
    "TICKER_FILE_PATH = \"../data/ticker.xlsx\" # Path relative to project root\n",
    "MAX_TICKERS = 5 # Limit tickers for faster testing, set to None to use all\n",
    "\n",
    "# --- Helper Functions ---\n",
    "\n",
    "def load_tickers(file_path: str, max_tickers: Optional[int] = None) -> List[str]:\n",
    "    \"\"\"Loads and formats ticker symbols from an Excel file.\"\"\"\n",
    "    tickers_df = pd.read_excel(file_path)\n",
    "    # Basic validation\n",
    "    if not all(col in tickers_df.columns for col in [\"Security Name\", \"Exchange\"]):\n",
    "            raise ValueError(\"Ticker file missing required columns: 'Security Name', 'Exchange'\")\n",
    "\n",
    "    tickers_df = tickers_df.drop_duplicates(subset=[\"Security Name\"]).reset_index(drop=True)\n",
    "\n",
    "    def add_ticker_suffix(row):\n",
    "        name = str(row[\"Security Name\"]).strip()\n",
    "        exchange = str(row[\"Exchange\"]).strip().upper()\n",
    "        if exchange == \"BSE\":\n",
    "            return f\"{name}.BO\"\n",
    "        elif exchange == \"NSE\":\n",
    "            return f\"{name}.NS\"\n",
    "\n",
    "    tickers_df[\"Ticker\"] = tickers_df.apply(add_ticker_suffix, axis=1)\n",
    "    ticker_list = tickers_df[\"Ticker\"].unique().tolist()\n",
    "\n",
    "    if max_tickers and len(ticker_list) > max_tickers:\n",
    "        ticker_list = ticker_list[:max_tickers]\n",
    "\n",
    "    if not ticker_list:\n",
    "            raise ValueError(\"No tickers loaded.\")\n",
    "\n",
    "    return ticker_list\n",
    "\n",
    "tickers_to_run = load_tickers(TICKER_FILE_PATH, MAX_TICKERS)\n",
    "\n",
    "db_config = DatabaseConfig.default()\n",
    "\n",
    "cc = AwesomeOscillatorStrategy(db_config=db_config)\n",
    "\n",
    "a = cc.generate_signals(ticker=tickers_to_run, start_date=\"2014-01-01\", end_date=\"2023-12-31\")"
   ]
  },
  {
   "cell_type": "code",
   "execution_count": null,
   "id": "53827466",
   "metadata": {},
   "outputs": [],
   "source": [
    "a"
   ]
  },
  {
   "cell_type": "code",
   "execution_count": null,
   "id": "4fd8f200",
   "metadata": {},
   "outputs": [],
   "source": [
    "a.index"
   ]
  },
  {
   "cell_type": "code",
   "execution_count": null,
   "id": "e056efb5",
   "metadata": {},
   "outputs": [],
   "source": [
    "a.columns"
   ]
  },
  {
   "cell_type": "markdown",
   "id": "5bbc57e1",
   "metadata": {},
   "source": [
    "# MACD Strategy"
   ]
  },
  {
   "cell_type": "code",
   "execution_count": null,
   "id": "4b9581d6",
   "metadata": {},
   "outputs": [],
   "source": [
    "\"\"\"\n",
    "Main script to run hyperparameter optimization and sensitivity analysis\n",
    "for the Know Sure Thing strategy using the portfolio-based evaluation framework.\n",
    "\"\"\"\n",
    "\n",
    "import logging\n",
    "import pandas as pd\n",
    "import mlflow\n",
    "from hyperopt import hp\n",
    "import json\n",
    "import os\n",
    "import sys\n",
    "from datetime import datetime\n",
    "from typing import Any, Dict, List, Optional, Tuple\n",
    "\n",
    "\n",
    "sys.path.insert(0, os.path.abspath(os.path.join(os.getcwd(), '..')))\n",
    "\n",
    "try:\n",
    "    from src.strategies.momentum.relative_vigor_index_strat import RVIStrategy\n",
    "    from src.optimizer.strategy_optimizer import StrategyOptimizer\n",
    "    from src.optimizer.sensitivity_analyzer import SensitivityAnalyzer\n",
    "    from src.database.config import DatabaseConfig\n",
    "except ImportError as e:\n",
    "    print(\"Error importing modules. Make sure the script is run from the project root\")\n",
    "    print(\"or the 'src' directory is in the Python path.\")\n",
    "    print(f\"Import Error: {e}\")\n",
    "    sys.exit(1)"
   ]
  },
  {
   "cell_type": "code",
   "execution_count": null,
   "id": "4ac75041",
   "metadata": {},
   "outputs": [],
   "source": [
    "# Data Configuration\n",
    "TICKER_FILE_PATH = \"../data/ticker.xlsx\" # Path relative to project root\n",
    "MAX_TICKERS = 5 # Limit tickers for faster testing, set to None to use all\n",
    "\n",
    "# --- Helper Functions ---\n",
    "\n",
    "def load_tickers(file_path: str, max_tickers: Optional[int] = None) -> List[str]:\n",
    "    \"\"\"Loads and formats ticker symbols from an Excel file.\"\"\"\n",
    "    tickers_df = pd.read_excel(file_path)\n",
    "    # Basic validation\n",
    "    if not all(col in tickers_df.columns for col in [\"Security Name\", \"Exchange\"]):\n",
    "            raise ValueError(\"Ticker file missing required columns: 'Security Name', 'Exchange'\")\n",
    "\n",
    "    tickers_df = tickers_df.drop_duplicates(subset=[\"Security Name\"]).reset_index(drop=True)\n",
    "\n",
    "    def add_ticker_suffix(row):\n",
    "        name = str(row[\"Security Name\"]).strip()\n",
    "        exchange = str(row[\"Exchange\"]).strip().upper()\n",
    "        if exchange == \"BSE\":\n",
    "            return f\"{name}.BO\"\n",
    "        elif exchange == \"NSE\":\n",
    "            return f\"{name}.NS\"\n",
    "\n",
    "    tickers_df[\"Ticker\"] = tickers_df.apply(add_ticker_suffix, axis=1)\n",
    "    ticker_list = tickers_df[\"Ticker\"].unique().tolist()\n",
    "\n",
    "    if max_tickers and len(ticker_list) > max_tickers:\n",
    "        ticker_list = ticker_list[:max_tickers]\n",
    "\n",
    "    if not ticker_list:\n",
    "            raise ValueError(\"No tickers loaded.\")\n",
    "\n",
    "    return ticker_list\n",
    "\n",
    "tickers_to_run = load_tickers(TICKER_FILE_PATH, MAX_TICKERS)\n",
    "\n",
    "db_config = DatabaseConfig.default()\n",
    "\n",
    "cc = RVIStrategy(db_config=db_config)\n",
    "\n",
    "b = cc.generate_signals(ticker=tickers_to_run, start_date=\"2014-01-01\", end_date=\"2023-12-31\")"
   ]
  },
  {
   "cell_type": "code",
   "execution_count": null,
   "id": "842d0f3e",
   "metadata": {},
   "outputs": [],
   "source": [
    "b"
   ]
  },
  {
   "cell_type": "code",
   "execution_count": null,
   "id": "795cbd43",
   "metadata": {},
   "outputs": [],
   "source": [
    "b.signal.value_counts()"
   ]
  },
  {
   "cell_type": "markdown",
   "id": "b2f5136e",
   "metadata": {},
   "source": [
    "# ADX Strategy"
   ]
  },
  {
   "cell_type": "code",
   "execution_count": null,
   "id": "43ba1152",
   "metadata": {},
   "outputs": [],
   "source": [
    "\"\"\"\n",
    "Main script to run hyperparameter optimization and sensitivity analysis\n",
    "for the Know Sure Thing strategy using the portfolio-based evaluation framework.\n",
    "\"\"\"\n",
    "\n",
    "import logging\n",
    "import pandas as pd\n",
    "import mlflow\n",
    "from hyperopt import hp\n",
    "import json\n",
    "import os\n",
    "import sys\n",
    "from datetime import datetime\n",
    "from typing import Any, Dict, List, Optional, Tuple\n",
    "\n",
    "\n",
    "sys.path.insert(0, os.path.abspath(os.path.join(os.getcwd(), '..')))\n",
    "\n",
    "try:\n",
    "    from src.strategies.trend_following.adx_strat import ADXStrategy\n",
    "    from src.optimizer.strategy_optimizer import StrategyOptimizer\n",
    "    from src.optimizer.sensitivity_analyzer import SensitivityAnalyzer\n",
    "    from src.database.config import DatabaseConfig\n",
    "except ImportError as e:\n",
    "    print(\"Error importing modules. Make sure the script is run from the project root\")\n",
    "    print(\"or the 'src' directory is in the Python path.\")\n",
    "    print(f\"Import Error: {e}\")\n",
    "    sys.exit(1)"
   ]
  },
  {
   "cell_type": "code",
   "execution_count": null,
   "id": "d0844b1d",
   "metadata": {},
   "outputs": [],
   "source": [
    "# Data Configuration\n",
    "TICKER_FILE_PATH = \"../data/ticker.xlsx\" # Path relative to project root\n",
    "MAX_TICKERS = 5 # Limit tickers for faster testing, set to None to use all\n",
    "\n",
    "# --- Helper Functions ---\n",
    "\n",
    "def load_tickers(file_path: str, max_tickers: Optional[int] = None) -> List[str]:\n",
    "    \"\"\"Loads and formats ticker symbols from an Excel file.\"\"\"\n",
    "    tickers_df = pd.read_excel(file_path)\n",
    "    # Basic validation\n",
    "    if not all(col in tickers_df.columns for col in [\"Security Name\", \"Exchange\"]):\n",
    "            raise ValueError(\"Ticker file missing required columns: 'Security Name', 'Exchange'\")\n",
    "\n",
    "    tickers_df = tickers_df.drop_duplicates(subset=[\"Security Name\"]).reset_index(drop=True)\n",
    "\n",
    "    def add_ticker_suffix(row):\n",
    "        name = str(row[\"Security Name\"]).strip()\n",
    "        exchange = str(row[\"Exchange\"]).strip().upper()\n",
    "        if exchange == \"BSE\":\n",
    "            return f\"{name}.BO\"\n",
    "        elif exchange == \"NSE\":\n",
    "            return f\"{name}.NS\"\n",
    "\n",
    "    tickers_df[\"Ticker\"] = tickers_df.apply(add_ticker_suffix, axis=1)\n",
    "    ticker_list = tickers_df[\"Ticker\"].unique().tolist()\n",
    "\n",
    "    if max_tickers and len(ticker_list) > max_tickers:\n",
    "        ticker_list = ticker_list[:max_tickers]\n",
    "\n",
    "    if not ticker_list:\n",
    "            raise ValueError(\"No tickers loaded.\")\n",
    "\n",
    "    return ticker_list\n",
    "\n",
    "tickers_to_run = load_tickers(TICKER_FILE_PATH, MAX_TICKERS)\n",
    "\n",
    "db_config = DatabaseConfig.default()\n",
    "\n",
    "cc = ADXStrategy(db_config=db_config)\n",
    "\n",
    "b = cc.generate_signals(ticker=['HDFCBANK.BO', 'TCS.BO', 'LT.BO', 'INFY.BO', 'RELIANCE.BO', 'ZOMATO.BO', 'TATAMOTORS.BO', 'ICICIBANK.BO', 'SBIN.BO', 'HCLTECH.BO']\n",
    ", start_date=\"2019-01-01\", end_date=\"2020-01-01\")"
   ]
  },
  {
   "cell_type": "code",
   "execution_count": null,
   "id": "29245ca5",
   "metadata": {},
   "outputs": [],
   "source": [
    "b"
   ]
  },
  {
   "cell_type": "code",
   "execution_count": null,
   "id": "5f6b4a8c",
   "metadata": {},
   "outputs": [],
   "source": [
    "b.signal.value_counts()"
   ]
  },
  {
   "cell_type": "markdown",
   "id": "28d2c04e",
   "metadata": {},
   "source": [
    "# Aroon"
   ]
  },
  {
   "cell_type": "code",
   "execution_count": 1,
   "id": "2b570d64",
   "metadata": {},
   "outputs": [
    {
     "name": "stderr",
     "output_type": "stream",
     "text": [
      "/home/bhvignesh/.pyenv/versions/trading_env/lib/python3.11/site-packages/tqdm/auto.py:21: TqdmWarning: IProgress not found. Please update jupyter and ipywidgets. See https://ipywidgets.readthedocs.io/en/stable/user_install.html\n",
      "  from .autonotebook import tqdm as notebook_tqdm\n"
     ]
    }
   ],
   "source": [
    "\"\"\"\n",
    "Main script to run hyperparameter optimization and sensitivity analysis\n",
    "for the Know Sure Thing strategy using the portfolio-based evaluation framework.\n",
    "\"\"\"\n",
    "\n",
    "import logging\n",
    "import pandas as pd\n",
    "import mlflow\n",
    "from hyperopt import hp\n",
    "import json\n",
    "import os\n",
    "import sys\n",
    "from datetime import datetime\n",
    "from typing import Any, Dict, List, Optional, Tuple\n",
    "\n",
    "\n",
    "sys.path.insert(0, os.path.abspath(os.path.join(os.getcwd(), '..')))\n",
    "\n",
    "try:\n",
    "    from src.strategies.trend_following.ichimoku_cloud_strat import IchimokuCloud\n",
    "    from src.optimizer.strategy_optimizer import StrategyOptimizer\n",
    "    from src.optimizer.sensitivity_analyzer import SensitivityAnalyzer\n",
    "    from src.database.config import DatabaseConfig\n",
    "except ImportError as e:\n",
    "    print(\"Error importing modules. Make sure the script is run from the project root\")\n",
    "    print(\"or the 'src' directory is in the Python path.\")\n",
    "    print(f\"Import Error: {e}\")\n",
    "    sys.exit(1)"
   ]
  },
  {
   "cell_type": "code",
   "execution_count": 2,
   "id": "73bca608",
   "metadata": {},
   "outputs": [
    {
     "ename": "ValueError",
     "evalue": "cannot reindex on an axis with duplicate labels",
     "output_type": "error",
     "traceback": [
      "\u001b[31m---------------------------------------------------------------------------\u001b[39m",
      "\u001b[31mValueError\u001b[39m                                Traceback (most recent call last)",
      "\u001b[36mCell\u001b[39m\u001b[36m \u001b[39m\u001b[32mIn[2]\u001b[39m\u001b[32m, line 41\u001b[39m\n\u001b[32m     37\u001b[39m db_config = DatabaseConfig.default()\n\u001b[32m     39\u001b[39m cc = IchimokuCloud(db_config=db_config)\n\u001b[32m---> \u001b[39m\u001b[32m41\u001b[39m b = \u001b[43mcc\u001b[49m\u001b[43m.\u001b[49m\u001b[43mgenerate_signals\u001b[49m\u001b[43m(\u001b[49m\u001b[43mticker\u001b[49m\u001b[43m=\u001b[49m\u001b[43m[\u001b[49m\u001b[33;43m'\u001b[39;49m\u001b[33;43mHDFCBANK.BO\u001b[39;49m\u001b[33;43m'\u001b[39;49m\u001b[43m,\u001b[49m\u001b[43m \u001b[49m\u001b[33;43m'\u001b[39;49m\u001b[33;43mTCS.BO\u001b[39;49m\u001b[33;43m'\u001b[39;49m\u001b[43m,\u001b[49m\u001b[43m \u001b[49m\u001b[33;43m'\u001b[39;49m\u001b[33;43mLT.BO\u001b[39;49m\u001b[33;43m'\u001b[39;49m\u001b[43m,\u001b[49m\u001b[43m \u001b[49m\u001b[33;43m'\u001b[39;49m\u001b[33;43mINFY.BO\u001b[39;49m\u001b[33;43m'\u001b[39;49m\u001b[43m,\u001b[49m\u001b[43m \u001b[49m\u001b[33;43m'\u001b[39;49m\u001b[33;43mRELIANCE.BO\u001b[39;49m\u001b[33;43m'\u001b[39;49m\u001b[43m,\u001b[49m\u001b[43m \u001b[49m\u001b[33;43m'\u001b[39;49m\u001b[33;43mZOMATO.BO\u001b[39;49m\u001b[33;43m'\u001b[39;49m\u001b[43m,\u001b[49m\u001b[43m \u001b[49m\u001b[33;43m'\u001b[39;49m\u001b[33;43mTATAMOTORS.BO\u001b[39;49m\u001b[33;43m'\u001b[39;49m\u001b[43m,\u001b[49m\u001b[43m \u001b[49m\u001b[33;43m'\u001b[39;49m\u001b[33;43mICICIBANK.BO\u001b[39;49m\u001b[33;43m'\u001b[39;49m\u001b[43m,\u001b[49m\u001b[43m \u001b[49m\u001b[33;43m'\u001b[39;49m\u001b[33;43mSBIN.BO\u001b[39;49m\u001b[33;43m'\u001b[39;49m\u001b[43m,\u001b[49m\u001b[43m \u001b[49m\u001b[33;43m'\u001b[39;49m\u001b[33;43mHCLTECH.BO\u001b[39;49m\u001b[33;43m'\u001b[39;49m\u001b[43m]\u001b[49m\n\u001b[32m     42\u001b[39m \u001b[43m,\u001b[49m\u001b[43m \u001b[49m\u001b[43mstart_date\u001b[49m\u001b[43m=\u001b[49m\u001b[33;43m\"\u001b[39;49m\u001b[33;43m2019-01-01\u001b[39;49m\u001b[33;43m\"\u001b[39;49m\u001b[43m,\u001b[49m\u001b[43m \u001b[49m\u001b[43mend_date\u001b[49m\u001b[43m=\u001b[49m\u001b[33;43m\"\u001b[39;49m\u001b[33;43m2020-01-01\u001b[39;49m\u001b[33;43m\"\u001b[39;49m\u001b[43m)\u001b[49m\n",
      "\u001b[36mFile \u001b[39m\u001b[32m~/trading_system/src/strategies/trend_following/ichimoku_cloud_strat.py:184\u001b[39m, in \u001b[36mIchimokuCloud.generate_signals\u001b[39m\u001b[34m(self, ticker, start_date, end_date, initial_position, latest_only)\u001b[39m\n\u001b[32m    181\u001b[39m price_data[\u001b[33m'\u001b[39m\u001b[33msenkou_span_b\u001b[39m\u001b[33m'\u001b[39m] = senkou_b.groupby(price_data.index.get_level_values(\u001b[33m'\u001b[39m\u001b[33mticker\u001b[39m\u001b[33m'\u001b[39m)).shift(displacement)\n\u001b[32m    183\u001b[39m \u001b[38;5;66;03m# Chikou Span: Current close shifted backward by displacement.\u001b[39;00m\n\u001b[32m--> \u001b[39m\u001b[32m184\u001b[39m \u001b[43mprice_data\u001b[49m\u001b[43m[\u001b[49m\u001b[33;43m'\u001b[39;49m\u001b[33;43mchikou_span\u001b[39;49m\u001b[33;43m'\u001b[39;49m\u001b[43m]\u001b[49m = groups[\u001b[33m'\u001b[39m\u001b[33mclose\u001b[39m\u001b[33m'\u001b[39m].shift(-displacement).reset_index(level=\u001b[32m0\u001b[39m, drop=\u001b[38;5;28;01mTrue\u001b[39;00m)\n\u001b[32m    186\u001b[39m \u001b[38;5;66;03m# Compute previous values of Tenkan-sen, Kijun-sen and close for cross detection.\u001b[39;00m\n\u001b[32m    187\u001b[39m price_data[\u001b[33m'\u001b[39m\u001b[33mprev_tenkan\u001b[39m\u001b[33m'\u001b[39m] = groups[\u001b[33m'\u001b[39m\u001b[33mtenkan_sen\u001b[39m\u001b[33m'\u001b[39m].shift(\u001b[32m1\u001b[39m).reset_index(level=\u001b[32m0\u001b[39m, drop=\u001b[38;5;28;01mTrue\u001b[39;00m)\n",
      "\u001b[36mFile \u001b[39m\u001b[32m~/.pyenv/versions/trading_env/lib/python3.11/site-packages/pandas/core/frame.py:4311\u001b[39m, in \u001b[36mDataFrame.__setitem__\u001b[39m\u001b[34m(self, key, value)\u001b[39m\n\u001b[32m   4308\u001b[39m     \u001b[38;5;28mself\u001b[39m._setitem_array([key], value)\n\u001b[32m   4309\u001b[39m \u001b[38;5;28;01melse\u001b[39;00m:\n\u001b[32m   4310\u001b[39m     \u001b[38;5;66;03m# set column\u001b[39;00m\n\u001b[32m-> \u001b[39m\u001b[32m4311\u001b[39m     \u001b[38;5;28;43mself\u001b[39;49m\u001b[43m.\u001b[49m\u001b[43m_set_item\u001b[49m\u001b[43m(\u001b[49m\u001b[43mkey\u001b[49m\u001b[43m,\u001b[49m\u001b[43m \u001b[49m\u001b[43mvalue\u001b[49m\u001b[43m)\u001b[49m\n",
      "\u001b[36mFile \u001b[39m\u001b[32m~/.pyenv/versions/trading_env/lib/python3.11/site-packages/pandas/core/frame.py:4524\u001b[39m, in \u001b[36mDataFrame._set_item\u001b[39m\u001b[34m(self, key, value)\u001b[39m\n\u001b[32m   4514\u001b[39m \u001b[38;5;28;01mdef\u001b[39;00m\u001b[38;5;250m \u001b[39m\u001b[34m_set_item\u001b[39m(\u001b[38;5;28mself\u001b[39m, key, value) -> \u001b[38;5;28;01mNone\u001b[39;00m:\n\u001b[32m   4515\u001b[39m \u001b[38;5;250m    \u001b[39m\u001b[33;03m\"\"\"\u001b[39;00m\n\u001b[32m   4516\u001b[39m \u001b[33;03m    Add series to DataFrame in specified column.\u001b[39;00m\n\u001b[32m   4517\u001b[39m \n\u001b[32m   (...)\u001b[39m\u001b[32m   4522\u001b[39m \u001b[33;03m    ensure homogeneity.\u001b[39;00m\n\u001b[32m   4523\u001b[39m \u001b[33;03m    \"\"\"\u001b[39;00m\n\u001b[32m-> \u001b[39m\u001b[32m4524\u001b[39m     value, refs = \u001b[38;5;28;43mself\u001b[39;49m\u001b[43m.\u001b[49m\u001b[43m_sanitize_column\u001b[49m\u001b[43m(\u001b[49m\u001b[43mvalue\u001b[49m\u001b[43m)\u001b[49m\n\u001b[32m   4526\u001b[39m     \u001b[38;5;28;01mif\u001b[39;00m (\n\u001b[32m   4527\u001b[39m         key \u001b[38;5;129;01min\u001b[39;00m \u001b[38;5;28mself\u001b[39m.columns\n\u001b[32m   4528\u001b[39m         \u001b[38;5;129;01mand\u001b[39;00m value.ndim == \u001b[32m1\u001b[39m\n\u001b[32m   4529\u001b[39m         \u001b[38;5;129;01mand\u001b[39;00m \u001b[38;5;129;01mnot\u001b[39;00m \u001b[38;5;28misinstance\u001b[39m(value.dtype, ExtensionDtype)\n\u001b[32m   4530\u001b[39m     ):\n\u001b[32m   4531\u001b[39m         \u001b[38;5;66;03m# broadcast across multiple columns if necessary\u001b[39;00m\n\u001b[32m   4532\u001b[39m         \u001b[38;5;28;01mif\u001b[39;00m \u001b[38;5;129;01mnot\u001b[39;00m \u001b[38;5;28mself\u001b[39m.columns.is_unique \u001b[38;5;129;01mor\u001b[39;00m \u001b[38;5;28misinstance\u001b[39m(\u001b[38;5;28mself\u001b[39m.columns, MultiIndex):\n",
      "\u001b[36mFile \u001b[39m\u001b[32m~/.pyenv/versions/trading_env/lib/python3.11/site-packages/pandas/core/frame.py:5263\u001b[39m, in \u001b[36mDataFrame._sanitize_column\u001b[39m\u001b[34m(self, value)\u001b[39m\n\u001b[32m   5261\u001b[39m     \u001b[38;5;28;01mif\u001b[39;00m \u001b[38;5;129;01mnot\u001b[39;00m \u001b[38;5;28misinstance\u001b[39m(value, Series):\n\u001b[32m   5262\u001b[39m         value = Series(value)\n\u001b[32m-> \u001b[39m\u001b[32m5263\u001b[39m     \u001b[38;5;28;01mreturn\u001b[39;00m \u001b[43m_reindex_for_setitem\u001b[49m\u001b[43m(\u001b[49m\u001b[43mvalue\u001b[49m\u001b[43m,\u001b[49m\u001b[43m \u001b[49m\u001b[38;5;28;43mself\u001b[39;49m\u001b[43m.\u001b[49m\u001b[43mindex\u001b[49m\u001b[43m)\u001b[49m\n\u001b[32m   5265\u001b[39m \u001b[38;5;28;01mif\u001b[39;00m is_list_like(value):\n\u001b[32m   5266\u001b[39m     com.require_length_match(value, \u001b[38;5;28mself\u001b[39m.index)\n",
      "\u001b[36mFile \u001b[39m\u001b[32m~/.pyenv/versions/trading_env/lib/python3.11/site-packages/pandas/core/frame.py:12692\u001b[39m, in \u001b[36m_reindex_for_setitem\u001b[39m\u001b[34m(value, index)\u001b[39m\n\u001b[32m  12688\u001b[39m \u001b[38;5;28;01mexcept\u001b[39;00m \u001b[38;5;167;01mValueError\u001b[39;00m \u001b[38;5;28;01mas\u001b[39;00m err:\n\u001b[32m  12689\u001b[39m     \u001b[38;5;66;03m# raised in MultiIndex.from_tuples, see test_insert_error_msmgs\u001b[39;00m\n\u001b[32m  12690\u001b[39m     \u001b[38;5;28;01mif\u001b[39;00m \u001b[38;5;129;01mnot\u001b[39;00m value.index.is_unique:\n\u001b[32m  12691\u001b[39m         \u001b[38;5;66;03m# duplicate axis\u001b[39;00m\n\u001b[32m> \u001b[39m\u001b[32m12692\u001b[39m         \u001b[38;5;28;01mraise\u001b[39;00m err\n\u001b[32m  12694\u001b[39m     \u001b[38;5;28;01mraise\u001b[39;00m \u001b[38;5;167;01mTypeError\u001b[39;00m(\n\u001b[32m  12695\u001b[39m         \u001b[33m\"\u001b[39m\u001b[33mincompatible index of inserted column with frame index\u001b[39m\u001b[33m\"\u001b[39m\n\u001b[32m  12696\u001b[39m     ) \u001b[38;5;28;01mfrom\u001b[39;00m\u001b[38;5;250m \u001b[39m\u001b[34;01merr\u001b[39;00m\n\u001b[32m  12697\u001b[39m \u001b[38;5;28;01mreturn\u001b[39;00m reindexed_value, \u001b[38;5;28;01mNone\u001b[39;00m\n",
      "\u001b[36mFile \u001b[39m\u001b[32m~/.pyenv/versions/trading_env/lib/python3.11/site-packages/pandas/core/frame.py:12687\u001b[39m, in \u001b[36m_reindex_for_setitem\u001b[39m\u001b[34m(value, index)\u001b[39m\n\u001b[32m  12685\u001b[39m \u001b[38;5;66;03m# GH#4107\u001b[39;00m\n\u001b[32m  12686\u001b[39m \u001b[38;5;28;01mtry\u001b[39;00m:\n\u001b[32m> \u001b[39m\u001b[32m12687\u001b[39m     reindexed_value = \u001b[43mvalue\u001b[49m\u001b[43m.\u001b[49m\u001b[43mreindex\u001b[49m\u001b[43m(\u001b[49m\u001b[43mindex\u001b[49m\u001b[43m)\u001b[49m._values\n\u001b[32m  12688\u001b[39m \u001b[38;5;28;01mexcept\u001b[39;00m \u001b[38;5;167;01mValueError\u001b[39;00m \u001b[38;5;28;01mas\u001b[39;00m err:\n\u001b[32m  12689\u001b[39m     \u001b[38;5;66;03m# raised in MultiIndex.from_tuples, see test_insert_error_msmgs\u001b[39;00m\n\u001b[32m  12690\u001b[39m     \u001b[38;5;28;01mif\u001b[39;00m \u001b[38;5;129;01mnot\u001b[39;00m value.index.is_unique:\n\u001b[32m  12691\u001b[39m         \u001b[38;5;66;03m# duplicate axis\u001b[39;00m\n",
      "\u001b[36mFile \u001b[39m\u001b[32m~/.pyenv/versions/trading_env/lib/python3.11/site-packages/pandas/core/series.py:5153\u001b[39m, in \u001b[36mSeries.reindex\u001b[39m\u001b[34m(self, index, axis, method, copy, level, fill_value, limit, tolerance)\u001b[39m\n\u001b[32m   5136\u001b[39m \u001b[38;5;129m@doc\u001b[39m(\n\u001b[32m   5137\u001b[39m     NDFrame.reindex,  \u001b[38;5;66;03m# type: ignore[has-type]\u001b[39;00m\n\u001b[32m   5138\u001b[39m     klass=_shared_doc_kwargs[\u001b[33m\"\u001b[39m\u001b[33mklass\u001b[39m\u001b[33m\"\u001b[39m],\n\u001b[32m   (...)\u001b[39m\u001b[32m   5151\u001b[39m     tolerance=\u001b[38;5;28;01mNone\u001b[39;00m,\n\u001b[32m   5152\u001b[39m ) -> Series:\n\u001b[32m-> \u001b[39m\u001b[32m5153\u001b[39m     \u001b[38;5;28;01mreturn\u001b[39;00m \u001b[38;5;28;43msuper\u001b[39;49m\u001b[43m(\u001b[49m\u001b[43m)\u001b[49m\u001b[43m.\u001b[49m\u001b[43mreindex\u001b[49m\u001b[43m(\u001b[49m\n\u001b[32m   5154\u001b[39m \u001b[43m        \u001b[49m\u001b[43mindex\u001b[49m\u001b[43m=\u001b[49m\u001b[43mindex\u001b[49m\u001b[43m,\u001b[49m\n\u001b[32m   5155\u001b[39m \u001b[43m        \u001b[49m\u001b[43mmethod\u001b[49m\u001b[43m=\u001b[49m\u001b[43mmethod\u001b[49m\u001b[43m,\u001b[49m\n\u001b[32m   5156\u001b[39m \u001b[43m        \u001b[49m\u001b[43mcopy\u001b[49m\u001b[43m=\u001b[49m\u001b[43mcopy\u001b[49m\u001b[43m,\u001b[49m\n\u001b[32m   5157\u001b[39m \u001b[43m        \u001b[49m\u001b[43mlevel\u001b[49m\u001b[43m=\u001b[49m\u001b[43mlevel\u001b[49m\u001b[43m,\u001b[49m\n\u001b[32m   5158\u001b[39m \u001b[43m        \u001b[49m\u001b[43mfill_value\u001b[49m\u001b[43m=\u001b[49m\u001b[43mfill_value\u001b[49m\u001b[43m,\u001b[49m\n\u001b[32m   5159\u001b[39m \u001b[43m        \u001b[49m\u001b[43mlimit\u001b[49m\u001b[43m=\u001b[49m\u001b[43mlimit\u001b[49m\u001b[43m,\u001b[49m\n\u001b[32m   5160\u001b[39m \u001b[43m        \u001b[49m\u001b[43mtolerance\u001b[49m\u001b[43m=\u001b[49m\u001b[43mtolerance\u001b[49m\u001b[43m,\u001b[49m\n\u001b[32m   5161\u001b[39m \u001b[43m    \u001b[49m\u001b[43m)\u001b[49m\n",
      "\u001b[36mFile \u001b[39m\u001b[32m~/.pyenv/versions/trading_env/lib/python3.11/site-packages/pandas/core/generic.py:5610\u001b[39m, in \u001b[36mNDFrame.reindex\u001b[39m\u001b[34m(self, labels, index, columns, axis, method, copy, level, fill_value, limit, tolerance)\u001b[39m\n\u001b[32m   5607\u001b[39m     \u001b[38;5;28;01mreturn\u001b[39;00m \u001b[38;5;28mself\u001b[39m._reindex_multi(axes, copy, fill_value)\n\u001b[32m   5609\u001b[39m \u001b[38;5;66;03m# perform the reindex on the axes\u001b[39;00m\n\u001b[32m-> \u001b[39m\u001b[32m5610\u001b[39m \u001b[38;5;28;01mreturn\u001b[39;00m \u001b[38;5;28;43mself\u001b[39;49m\u001b[43m.\u001b[49m\u001b[43m_reindex_axes\u001b[49m\u001b[43m(\u001b[49m\n\u001b[32m   5611\u001b[39m \u001b[43m    \u001b[49m\u001b[43maxes\u001b[49m\u001b[43m,\u001b[49m\u001b[43m \u001b[49m\u001b[43mlevel\u001b[49m\u001b[43m,\u001b[49m\u001b[43m \u001b[49m\u001b[43mlimit\u001b[49m\u001b[43m,\u001b[49m\u001b[43m \u001b[49m\u001b[43mtolerance\u001b[49m\u001b[43m,\u001b[49m\u001b[43m \u001b[49m\u001b[43mmethod\u001b[49m\u001b[43m,\u001b[49m\u001b[43m \u001b[49m\u001b[43mfill_value\u001b[49m\u001b[43m,\u001b[49m\u001b[43m \u001b[49m\u001b[43mcopy\u001b[49m\n\u001b[32m   5612\u001b[39m \u001b[43m\u001b[49m\u001b[43m)\u001b[49m.__finalize__(\u001b[38;5;28mself\u001b[39m, method=\u001b[33m\"\u001b[39m\u001b[33mreindex\u001b[39m\u001b[33m\"\u001b[39m)\n",
      "\u001b[36mFile \u001b[39m\u001b[32m~/.pyenv/versions/trading_env/lib/python3.11/site-packages/pandas/core/generic.py:5633\u001b[39m, in \u001b[36mNDFrame._reindex_axes\u001b[39m\u001b[34m(self, axes, level, limit, tolerance, method, fill_value, copy)\u001b[39m\n\u001b[32m   5630\u001b[39m     \u001b[38;5;28;01mcontinue\u001b[39;00m\n\u001b[32m   5632\u001b[39m ax = \u001b[38;5;28mself\u001b[39m._get_axis(a)\n\u001b[32m-> \u001b[39m\u001b[32m5633\u001b[39m new_index, indexer = \u001b[43max\u001b[49m\u001b[43m.\u001b[49m\u001b[43mreindex\u001b[49m\u001b[43m(\u001b[49m\n\u001b[32m   5634\u001b[39m \u001b[43m    \u001b[49m\u001b[43mlabels\u001b[49m\u001b[43m,\u001b[49m\u001b[43m \u001b[49m\u001b[43mlevel\u001b[49m\u001b[43m=\u001b[49m\u001b[43mlevel\u001b[49m\u001b[43m,\u001b[49m\u001b[43m \u001b[49m\u001b[43mlimit\u001b[49m\u001b[43m=\u001b[49m\u001b[43mlimit\u001b[49m\u001b[43m,\u001b[49m\u001b[43m \u001b[49m\u001b[43mtolerance\u001b[49m\u001b[43m=\u001b[49m\u001b[43mtolerance\u001b[49m\u001b[43m,\u001b[49m\u001b[43m \u001b[49m\u001b[43mmethod\u001b[49m\u001b[43m=\u001b[49m\u001b[43mmethod\u001b[49m\n\u001b[32m   5635\u001b[39m \u001b[43m\u001b[49m\u001b[43m)\u001b[49m\n\u001b[32m   5637\u001b[39m axis = \u001b[38;5;28mself\u001b[39m._get_axis_number(a)\n\u001b[32m   5638\u001b[39m obj = obj._reindex_with_indexers(\n\u001b[32m   5639\u001b[39m     {axis: [new_index, indexer]},\n\u001b[32m   5640\u001b[39m     fill_value=fill_value,\n\u001b[32m   5641\u001b[39m     copy=copy,\n\u001b[32m   5642\u001b[39m     allow_dups=\u001b[38;5;28;01mFalse\u001b[39;00m,\n\u001b[32m   5643\u001b[39m )\n",
      "\u001b[36mFile \u001b[39m\u001b[32m~/.pyenv/versions/trading_env/lib/python3.11/site-packages/pandas/core/indexes/base.py:4429\u001b[39m, in \u001b[36mIndex.reindex\u001b[39m\u001b[34m(self, target, method, level, limit, tolerance)\u001b[39m\n\u001b[32m   4426\u001b[39m     \u001b[38;5;28;01mraise\u001b[39;00m \u001b[38;5;167;01mValueError\u001b[39;00m(\u001b[33m\"\u001b[39m\u001b[33mcannot handle a non-unique multi-index!\u001b[39m\u001b[33m\"\u001b[39m)\n\u001b[32m   4427\u001b[39m \u001b[38;5;28;01melif\u001b[39;00m \u001b[38;5;129;01mnot\u001b[39;00m \u001b[38;5;28mself\u001b[39m.is_unique:\n\u001b[32m   4428\u001b[39m     \u001b[38;5;66;03m# GH#42568\u001b[39;00m\n\u001b[32m-> \u001b[39m\u001b[32m4429\u001b[39m     \u001b[38;5;28;01mraise\u001b[39;00m \u001b[38;5;167;01mValueError\u001b[39;00m(\u001b[33m\"\u001b[39m\u001b[33mcannot reindex on an axis with duplicate labels\u001b[39m\u001b[33m\"\u001b[39m)\n\u001b[32m   4430\u001b[39m \u001b[38;5;28;01melse\u001b[39;00m:\n\u001b[32m   4431\u001b[39m     indexer, _ = \u001b[38;5;28mself\u001b[39m.get_indexer_non_unique(target)\n",
      "\u001b[31mValueError\u001b[39m: cannot reindex on an axis with duplicate labels"
     ]
    }
   ],
   "source": [
    "# Data Configuration\n",
    "TICKER_FILE_PATH = \"../data/ticker.xlsx\" # Path relative to project root\n",
    "MAX_TICKERS = 5 # Limit tickers for faster testing, set to None to use all\n",
    "\n",
    "# --- Helper Functions ---\n",
    "\n",
    "def load_tickers(file_path: str, max_tickers: Optional[int] = None) -> List[str]:\n",
    "    \"\"\"Loads and formats ticker symbols from an Excel file.\"\"\"\n",
    "    tickers_df = pd.read_excel(file_path)\n",
    "    # Basic validation\n",
    "    if not all(col in tickers_df.columns for col in [\"Security Name\", \"Exchange\"]):\n",
    "            raise ValueError(\"Ticker file missing required columns: 'Security Name', 'Exchange'\")\n",
    "\n",
    "    tickers_df = tickers_df.drop_duplicates(subset=[\"Security Name\"]).reset_index(drop=True)\n",
    "\n",
    "    def add_ticker_suffix(row):\n",
    "        name = str(row[\"Security Name\"]).strip()\n",
    "        exchange = str(row[\"Exchange\"]).strip().upper()\n",
    "        if exchange == \"BSE\":\n",
    "            return f\"{name}.BO\"\n",
    "        elif exchange == \"NSE\":\n",
    "            return f\"{name}.NS\"\n",
    "\n",
    "    tickers_df[\"Ticker\"] = tickers_df.apply(add_ticker_suffix, axis=1)\n",
    "    ticker_list = tickers_df[\"Ticker\"].unique().tolist()\n",
    "\n",
    "    if max_tickers and len(ticker_list) > max_tickers:\n",
    "        ticker_list = ticker_list[:max_tickers]\n",
    "\n",
    "    if not ticker_list:\n",
    "            raise ValueError(\"No tickers loaded.\")\n",
    "\n",
    "    return ticker_list\n",
    "\n",
    "tickers_to_run = load_tickers(TICKER_FILE_PATH, MAX_TICKERS)\n",
    "\n",
    "db_config = DatabaseConfig.default()\n",
    "\n",
    "cc = IchimokuCloud(db_config=db_config)\n",
    "\n",
    "b = cc.generate_signals(ticker=['HDFCBANK.BO', 'TCS.BO', 'LT.BO', 'INFY.BO', 'RELIANCE.BO', 'ZOMATO.BO', 'TATAMOTORS.BO', 'ICICIBANK.BO', 'SBIN.BO', 'HCLTECH.BO']\n",
    ", start_date=\"2019-01-01\", end_date=\"2020-01-01\")"
   ]
  },
  {
   "cell_type": "code",
   "execution_count": null,
   "id": "9035b517",
   "metadata": {},
   "outputs": [],
   "source": [
    "b"
   ]
  },
  {
   "cell_type": "code",
   "execution_count": null,
   "id": "beab0385",
   "metadata": {},
   "outputs": [],
   "source": [
    "b.signal.value_counts()"
   ]
  }
 ],
 "metadata": {
  "kernelspec": {
   "display_name": "trading_env",
   "language": "python",
   "name": "python3"
  },
  "language_info": {
   "codemirror_mode": {
    "name": "ipython",
    "version": 3
   },
   "file_extension": ".py",
   "mimetype": "text/x-python",
   "name": "python",
   "nbconvert_exporter": "python",
   "pygments_lexer": "ipython3",
   "version": "3.11.9"
  }
 },
 "nbformat": 4,
 "nbformat_minor": 5
}
