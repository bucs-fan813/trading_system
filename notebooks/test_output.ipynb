{
 "cells": [
  {
   "cell_type": "markdown",
   "id": "20cc95e8",
   "metadata": {},
   "source": [
    "# Awesome Oscillator"
   ]
  },
  {
   "cell_type": "code",
   "execution_count": null,
   "id": "229dcf6d",
   "metadata": {},
   "outputs": [],
   "source": [
    "# trading_system/scripts/run_ao_optimization.py\n",
    "\n",
    "\"\"\"\n",
    "Main script to run hyperparameter optimization and sensitivity analysis\n",
    "for the Awesome Oscillator strategy using the portfolio-based evaluation framework.\n",
    "\"\"\"\n",
    "import os\n",
    "import sys\n",
    "from datetime import datetime, timedelta\n",
    "\n",
    "sys.path.insert(0, os.path.abspath(os.path.join(os.getcwd(), \"..\")))\n",
    "\n",
    "try:\n",
    "    from src.strategies.momentum.awesome_oscillator_strat import AwesomeOscillatorStrategy\n",
    "    from src.database.config import DatabaseConfig\n",
    "    from utils.file_utils import load_tickers_from_yaml\n",
    "except ImportError as e:\n",
    "    print(\"Error importing modules. Make sure the script is run from the project root\")\n",
    "    print(\"or the 'src' directory is in the Python path.\")\n",
    "    print(f\"Import Error: {e}\")\n",
    "    sys.exit(1)"
   ]
  },
  {
   "cell_type": "code",
   "execution_count": null,
   "id": "5d2ae5d7",
   "metadata": {},
   "outputs": [],
   "source": [
    "# Data Configuration\n",
    "TICKER_FILE_PATH = \"../data/tickers.yml\"  # Path relative to project root\n",
    "MAX_TICKERS = 5  # Limit tickers for faster testing, set to None to use all\n",
    "\n",
    "# Backtest Period\n",
    "START_DATE = (datetime.now() - timedelta(days=4 * 365)).strftime(\"%Y-%m-%d\")\n",
    "END_DATE = datetime.now().strftime(\"%Y-%m-%d\")\n",
    "\n",
    "tickers_to_run = load_tickers_from_yaml(TICKER_FILE_PATH, MAX_TICKERS)\n",
    "\n",
    "db_config = DatabaseConfig.default()\n",
    "cc = AwesomeOscillatorStrategy(db_config=db_config)\n",
    "\n",
    "a = cc.generate_signals(ticker=tickers_to_run, start_date=START_DATE, end_date=END_DATE)"
   ]
  },
  {
   "cell_type": "code",
   "execution_count": null,
   "id": "53827466",
   "metadata": {},
   "outputs": [],
   "source": [
    "a"
   ]
  },
  {
   "cell_type": "code",
   "execution_count": null,
   "id": "4fd8f200",
   "metadata": {},
   "outputs": [],
   "source": [
    "a.index"
   ]
  },
  {
   "cell_type": "code",
   "execution_count": null,
   "id": "e056efb5",
   "metadata": {},
   "outputs": [],
   "source": [
    "a.columns"
   ]
  },
  {
   "cell_type": "markdown",
   "id": "5bbc57e1",
   "metadata": {},
   "source": [
    "# MACD Strategy"
   ]
  },
  {
   "cell_type": "code",
   "execution_count": null,
   "id": "4b9581d6",
   "metadata": {},
   "outputs": [],
   "source": [
    "\"\"\"\n",
    "Main script to run hyperparameter optimization and sensitivity analysis\n",
    "for the Know Sure Thing strategy using the portfolio-based evaluation framework.\n",
    "\"\"\"\n",
    "\n",
    "import os\n",
    "import sys\n",
    "from datetime import datetime, timedelta\n",
    "\n",
    "sys.path.insert(0, os.path.abspath(os.path.join(os.getcwd(), \"..\")))\n",
    "\n",
    "try:\n",
    "    from src.strategies.momentum.relative_vigor_index_strat import RVIStrategy\n",
    "    from src.database.config import DatabaseConfig\n",
    "    from utils.file_utils import load_tickers_from_yaml\n",
    "except ImportError as e:\n",
    "    print(\"Error importing modules. Make sure the script is run from the project root\")\n",
    "    print(\"or the 'src' directory is in the Python path.\")\n",
    "    print(f\"Import Error: {e}\")\n",
    "    sys.exit(1)"
   ]
  },
  {
   "cell_type": "code",
   "execution_count": null,
   "id": "4ac75041",
   "metadata": {},
   "outputs": [],
   "source": [
    "# Data Configuration\n",
    "TICKER_FILE_PATH = \"../data/tickers.yml\"  # Path relative to project root\n",
    "MAX_TICKERS = 5  # Limit tickers for faster testing, set to None to use all\n",
    "\n",
    "# Backtest Period\n",
    "START_DATE = (datetime.now() - timedelta(days=4 * 365)).strftime(\"%Y-%m-%d\")\n",
    "END_DATE = datetime.now().strftime(\"%Y-%m-%d\")\n",
    "\n",
    "tickers_to_run = load_tickers_from_yaml(TICKER_FILE_PATH, MAX_TICKERS)\n",
    "\n",
    "db_config = DatabaseConfig.default()\n",
    "\n",
    "cc = RVIStrategy(db_config=db_config)\n",
    "\n",
    "b = cc.generate_signals(ticker=tickers_to_run, start_date=START_DATE, end_date=END_DATE)"
   ]
  },
  {
   "cell_type": "code",
   "execution_count": null,
   "id": "842d0f3e",
   "metadata": {},
   "outputs": [],
   "source": [
    "b"
   ]
  },
  {
   "cell_type": "code",
   "execution_count": null,
   "id": "795cbd43",
   "metadata": {},
   "outputs": [],
   "source": [
    "b.signal.value_counts()"
   ]
  },
  {
   "cell_type": "markdown",
   "id": "b2f5136e",
   "metadata": {},
   "source": [
    "# ADX Strategy"
   ]
  },
  {
   "cell_type": "code",
   "execution_count": null,
   "id": "43ba1152",
   "metadata": {},
   "outputs": [],
   "source": [
    "\"\"\"\n",
    "Main script to run hyperparameter optimization and sensitivity analysis\n",
    "for the Know Sure Thing strategy using the portfolio-based evaluation framework.\n",
    "\"\"\"\n",
    "\n",
    "import os\n",
    "import sys\n",
    "from datetime import datetime, timedelta\n",
    "\n",
    "sys.path.insert(0, os.path.abspath(os.path.join(os.getcwd(), \"..\")))\n",
    "\n",
    "try:\n",
    "    from src.strategies.trend_following.adx_strat import ADXStrategy\n",
    "    from src.database.config import DatabaseConfig\n",
    "    from utils.file_utils import load_tickers_from_yaml\n",
    "except ImportError as e:\n",
    "    print(\"Error importing modules. Make sure the script is run from the project root\")\n",
    "    print(\"or the 'src' directory is in the Python path.\")\n",
    "    print(f\"Import Error: {e}\")\n",
    "    sys.exit(1)"
   ]
  },
  {
   "cell_type": "code",
   "execution_count": null,
   "id": "d0844b1d",
   "metadata": {},
   "outputs": [],
   "source": [
    "# Data Configuration\n",
    "TICKER_FILE_PATH = \"../data/tickers.yml\"  # Path relative to project root\n",
    "MAX_TICKERS = 5  # Limit tickers for faster testing, set to None to use all\n",
    "\n",
    "# Backtest Period\n",
    "START_DATE = (datetime.now() - timedelta(days=4 * 365)).strftime(\"%Y-%m-%d\")\n",
    "END_DATE = datetime.now().strftime(\"%Y-%m-%d\")\n",
    "\n",
    "tickers_to_run = load_tickers_from_yaml(TICKER_FILE_PATH, MAX_TICKERS)\n",
    "\n",
    "db_config = DatabaseConfig.default()\n",
    "\n",
    "cc = ADXStrategy(db_config=db_config)\n",
    "\n",
    "b = cc.generate_signals(ticker=tickers_to_run, start_date=START_DATE, end_date=END_DATE)"
   ]
  },
  {
   "cell_type": "code",
   "execution_count": null,
   "id": "29245ca5",
   "metadata": {},
   "outputs": [],
   "source": [
    "b"
   ]
  },
  {
   "cell_type": "code",
   "execution_count": null,
   "id": "5f6b4a8c",
   "metadata": {},
   "outputs": [],
   "source": [
    "b.signal.value_counts()"
   ]
  },
  {
   "cell_type": "markdown",
   "id": "28d2c04e",
   "metadata": {},
   "source": [
    "# Parabolic SAR"
   ]
  },
  {
   "cell_type": "code",
   "execution_count": null,
   "id": "2b570d64",
   "metadata": {},
   "outputs": [],
   "source": [
    "\"\"\"\n",
    "Main script to run hyperparameter optimization and sensitivity analysis\n",
    "for the Know Sure Thing strategy using the portfolio-based evaluation framework.\n",
    "\"\"\"\n",
    "\n",
    "import os\n",
    "import sys\n",
    "from datetime import datetime, timedelta\n",
    "\n",
    "sys.path.insert(0, os.path.abspath(os.path.join(os.getcwd(), \"..\")))\n",
    "\n",
    "try:\n",
    "    from src.strategies.trend_following.parabolic_sar_strat import ParabolicSARStrategy\n",
    "    from src.database.config import DatabaseConfig\n",
    "    from utils.file_utils import load_tickers_from_yaml\n",
    "except ImportError as e:\n",
    "    print(\"Error importing modules. Make sure the script is run from the project root\")\n",
    "    print(\"or the 'src' directory is in the Python path.\")\n",
    "    print(f\"Import Error: {e}\")\n",
    "    sys.exit(1)"
   ]
  },
  {
   "cell_type": "code",
   "execution_count": null,
   "id": "73bca608",
   "metadata": {},
   "outputs": [],
   "source": [
    "# Data Configuration\n",
    "TICKER_FILE_PATH = \"../data/tickers.yml\"  # Path relative to project root\n",
    "MAX_TICKERS = 5  # Limit tickers for faster testing, set to None to use all\n",
    "\n",
    "# Backtest Period\n",
    "START_DATE = (datetime.now() - timedelta(days=4 * 365)).strftime(\"%Y-%m-%d\")\n",
    "END_DATE = datetime.now().strftime(\"%Y-%m-%d\")\n",
    "\n",
    "tickers_to_run = load_tickers_from_yaml(TICKER_FILE_PATH, MAX_TICKERS)\n",
    "\n",
    "db_config = DatabaseConfig.default()\n",
    "\n",
    "cc = ParabolicSARStrategy(db_config=db_config)\n",
    "\n",
    "b = cc.generate_signals(ticker=tickers_to_run, start_date=START_DATE, end_date=END_DATE)"
   ]
  },
  {
   "cell_type": "code",
   "execution_count": null,
   "id": "9035b517",
   "metadata": {},
   "outputs": [],
   "source": [
    "b"
   ]
  },
  {
   "cell_type": "code",
   "execution_count": null,
   "id": "beab0385",
   "metadata": {},
   "outputs": [],
   "source": [
    "b.T"
   ]
  },
  {
   "cell_type": "markdown",
   "id": "c2cd010a",
   "metadata": {},
   "source": [
    "# Bollinger Bands"
   ]
  },
  {
   "cell_type": "code",
   "execution_count": null,
   "id": "c5696147",
   "metadata": {},
   "outputs": [],
   "source": [
    "\"\"\"\n",
    "Main script to run hyperparameter optimization and sensitivity analysis\n",
    "for the Know Sure Thing strategy using the portfolio-based evaluation framework.\n",
    "\"\"\"\n",
    "\n",
    "import os\n",
    "import sys\n",
    "from datetime import datetime, timedelta\n",
    "\n",
    "sys.path.insert(0, os.path.abspath(os.path.join(os.getcwd(), \"..\")))\n",
    "\n",
    "try:\n",
    "    from src.strategies.volatility.bollinger_bands_strat import BollingerBandsStrategy\n",
    "    from src.database.config import DatabaseConfig\n",
    "    from utils.file_utils import load_tickers_from_yaml\n",
    "except ImportError as e:\n",
    "    print(\"Error importing modules. Make sure the script is run from the project root\")\n",
    "    print(\"or the 'src' directory is in the Python path.\")\n",
    "    print(f\"Import Error: {e}\")\n",
    "    sys.exit(1)"
   ]
  },
  {
   "cell_type": "code",
   "execution_count": null,
   "id": "d54d406d",
   "metadata": {},
   "outputs": [],
   "source": [
    "# Data Configuration\n",
    "TICKER_FILE_PATH = \"../data/tickers.yml\"  # Path relative to project root\n",
    "MAX_TICKERS = 5  # Limit tickers for faster testing, set to None to use all\n",
    "\n",
    "# Backtest Period\n",
    "START_DATE = (datetime.now() - timedelta(days=4 * 365)).strftime(\"%Y-%m-%d\")\n",
    "END_DATE = datetime.now().strftime(\"%Y-%m-%d\")\n",
    "\n",
    "tickers_to_run = load_tickers_from_yaml(TICKER_FILE_PATH, MAX_TICKERS)\n",
    "\n",
    "db_config = DatabaseConfig.default()\n",
    "\n",
    "cc = BollingerBandsStrategy(db_config=db_config)\n",
    "\n",
    "b = cc.generate_signals(ticker=tickers_to_run, start_date=START_DATE, end_date=END_DATE)"
   ]
  },
  {
   "cell_type": "code",
   "execution_count": null,
   "id": "80ebdb2c",
   "metadata": {},
   "outputs": [],
   "source": [
    "b"
   ]
  },
  {
   "cell_type": "code",
   "execution_count": null,
   "id": "b5b1f1d2",
   "metadata": {},
   "outputs": [],
   "source": [
    "b.signal.value_counts()"
   ]
  },
  {
   "cell_type": "markdown",
   "id": "b55e2b49",
   "metadata": {},
   "source": [
    "# Keltner Strategy"
   ]
  },
  {
   "cell_type": "code",
   "execution_count": null,
   "id": "94380b53",
   "metadata": {},
   "outputs": [],
   "source": [
    "\"\"\"\n",
    "Main script to run hyperparameter optimization and sensitivity analysis\n",
    "for the Know Sure Thing strategy using the portfolio-based evaluation framework.\n",
    "\"\"\"\n",
    "\n",
    "import os\n",
    "import sys\n",
    "from datetime import datetime, timedelta\n",
    "\n",
    "sys.path.insert(0, os.path.abspath(os.path.join(os.getcwd(), \"..\")))\n",
    "\n",
    "try:\n",
    "    from src.strategies.trend_following.choppiness_index import ChoppinessIndexStrategy\n",
    "    from src.database.config import DatabaseConfig\n",
    "    from utils.file_utils import load_tickers_from_yaml\n",
    "except ImportError as e:\n",
    "    print(\"Error importing modules. Make sure the script is run from the project root\")\n",
    "    print(\"or the 'src' directory is in the Python path.\")\n",
    "    print(f\"Import Error: {e}\")\n",
    "    sys.exit(1)"
   ]
  },
  {
   "cell_type": "code",
   "execution_count": null,
   "id": "5c0b8561",
   "metadata": {},
   "outputs": [],
   "source": [
    "# Data Configuration\n",
    "TICKER_FILE_PATH = \"../data/tickers.yml\"  # Path relative to project root\n",
    "MAX_TICKERS = 5  # Limit tickers for faster testing, set to None to use all\n",
    "\n",
    "# Backtest Period\n",
    "START_DATE = (datetime.now() - timedelta(days=4 * 365)).strftime(\"%Y-%m-%d\")\n",
    "END_DATE = datetime.now().strftime(\"%Y-%m-%d\")\n",
    "\n",
    "tickers_to_run = load_tickers_from_yaml(TICKER_FILE_PATH, MAX_TICKERS)\n",
    "\n",
    "db_config = DatabaseConfig.default()\n",
    "\n",
    "cc = ChoppinessIndexStrategy(db_config=db_config)\n",
    "\n",
    "b = cc.generate_signals(ticker=tickers_to_run, start_date=START_DATE, end_date=END_DATE)"
   ]
  },
  {
   "cell_type": "code",
   "execution_count": null,
   "id": "b5a591e5",
   "metadata": {},
   "outputs": [],
   "source": [
    "b"
   ]
  },
  {
   "cell_type": "code",
   "execution_count": null,
   "id": "b60e7736",
   "metadata": {},
   "outputs": [],
   "source": [
    "b.signal.value_counts()"
   ]
  },
  {
   "cell_type": "markdown",
   "id": "dfd27a0c",
   "metadata": {},
   "source": [
    "# Breakout Strategy"
   ]
  },
  {
   "cell_type": "code",
   "execution_count": null,
   "id": "ef345710",
   "metadata": {},
   "outputs": [],
   "source": [
    "\"\"\"\n",
    "Main script to run hyperparameter optimization and sensitivity analysis\n",
    "for the Know Sure Thing strategy using the portfolio-based evaluation framework.\n",
    "\"\"\"\n",
    "\n",
    "import os\n",
    "import sys\n",
    "from datetime import datetime, timedelta\n",
    "\n",
    "sys.path.insert(0, os.path.abspath(os.path.join(os.getcwd(), \"..\")))\n",
    "\n",
    "try:\n",
    "    from src.strategies.breakout.volume_breakout_strat import VolumeBreakoutStrategy\n",
    "    from src.database.config import DatabaseConfig\n",
    "    from utils.file_utils import load_tickers_from_yaml\n",
    "except ImportError as e:\n",
    "    print(\"Error importing modules. Make sure the script is run from the project root\")\n",
    "    print(\"or the 'src' directory is in the Python path.\")\n",
    "    print(f\"Import Error: {e}\")\n",
    "    sys.exit(1)"
   ]
  },
  {
   "cell_type": "code",
   "execution_count": null,
   "id": "6c6b39e9",
   "metadata": {},
   "outputs": [],
   "source": [
    "# Data Configuration\n",
    "TICKER_FILE_PATH = \"../data/tickers.yml\"  # Path relative to project root\n",
    "MAX_TICKERS = 5  # Limit tickers for faster testing, set to None to use all\n",
    "\n",
    "# Backtest Period\n",
    "START_DATE = (datetime.now() - timedelta(days=4 * 365)).strftime(\"%Y-%m-%d\")\n",
    "END_DATE = datetime.now().strftime(\"%Y-%m-%d\")\n",
    "\n",
    "tickers_to_run = load_tickers_from_yaml(TICKER_FILE_PATH, MAX_TICKERS)\n",
    "\n",
    "db_config = DatabaseConfig.default()\n",
    "\n",
    "cc = VolumeBreakoutStrategy(db_config=db_config)\n",
    "\n",
    "b = cc.generate_signals(ticker=tickers_to_run, start_date=START_DATE, end_date=END_DATE)"
   ]
  },
  {
   "cell_type": "code",
   "execution_count": null,
   "id": "1134a713",
   "metadata": {},
   "outputs": [],
   "source": [
    "b"
   ]
  },
  {
   "cell_type": "code",
   "execution_count": null,
   "id": "0e2371c6",
   "metadata": {},
   "outputs": [],
   "source": [
    "b.signal.value_counts()"
   ]
  },
  {
   "cell_type": "markdown",
   "id": "fdda2ac1",
   "metadata": {},
   "source": [
    "# Cup and Handle"
   ]
  },
  {
   "cell_type": "code",
   "execution_count": null,
   "id": "defffeaa",
   "metadata": {},
   "outputs": [],
   "source": [
    "\"\"\"\n",
    "Main script to run hyperparameter optimization and sensitivity analysis\n",
    "for the Know Sure Thing strategy using the portfolio-based evaluation framework.\n",
    "\"\"\"\n",
    "\n",
    "import os\n",
    "import sys\n",
    "from datetime import datetime, timedelta\n",
    "\n",
    "sys.path.insert(0, os.path.abspath(os.path.join(os.getcwd(), \"..\")))\n",
    "\n",
    "try:\n",
    "    from src.strategies.advanced.enhanced_market_pressure_strat import (\n",
    "        EnhancedMarketPressureStrategy,\n",
    "    )\n",
    "    from src.database.config import DatabaseConfig\n",
    "    from utils.file_utils import load_tickers_from_yaml\n",
    "except ImportError as e:\n",
    "    print(\"Error importing modules. Make sure the script is run from the project root\")\n",
    "    print(\"or the 'src' directory is in the Python path.\")\n",
    "    print(f\"Import Error: {e}\")\n",
    "    sys.exit(1)"
   ]
  },
  {
   "cell_type": "code",
   "execution_count": null,
   "id": "84097519",
   "metadata": {},
   "outputs": [],
   "source": [
    "# Data Configuration\n",
    "TICKER_FILE_PATH = \"../data/tickers.yml\"  # Path relative to project root\n",
    "MAX_TICKERS = 5  # Limit tickers for faster testing, set to None to use all\n",
    "\n",
    "# Backtest Period\n",
    "START_DATE = (datetime.now() - timedelta(days=4 * 365)).strftime(\"%Y-%m-%d\")\n",
    "END_DATE = datetime.now().strftime(\"%Y-%m-%d\")\n",
    "\n",
    "tickers_to_run = load_tickers_from_yaml(TICKER_FILE_PATH, MAX_TICKERS)\n",
    "\n",
    "db_config = DatabaseConfig.default()\n",
    "\n",
    "cc = EnhancedMarketPressureStrategy(db_config=db_config)\n",
    "\n",
    "b = cc.generate_signals(ticker=tickers_to_run, start_date=START_DATE, end_date=END_DATE)"
   ]
  },
  {
   "cell_type": "code",
   "execution_count": null,
   "id": "bbc5164c",
   "metadata": {},
   "outputs": [],
   "source": [
    "b"
   ]
  },
  {
   "cell_type": "code",
   "execution_count": null,
   "id": "c8f1bff4",
   "metadata": {},
   "outputs": [],
   "source": [
    "b.signal.value_counts()"
   ]
  },
  {
   "cell_type": "markdown",
   "id": "51730c4c",
   "metadata": {},
   "source": [
    "# GarchX Strategy"
   ]
  },
  {
   "cell_type": "code",
   "execution_count": null,
   "id": "a7a100e0",
   "metadata": {},
   "outputs": [],
   "source": [
    "\"\"\"\n",
    "Main script to run hyperparameter optimization and sensitivity analysis\n",
    "for the Know Sure Thing strategy using the portfolio-based evaluation framework.\n",
    "\"\"\"\n",
    "\n",
    "import os\n",
    "import sys\n",
    "from datetime import datetime, timedelta\n",
    "\n",
    "sys.path.insert(0, os.path.abspath(os.path.join(os.getcwd(), \"..\")))\n",
    "\n",
    "try:\n",
    "    from src.strategies.advanced.garchx_strat import GarchXStrategyStrategy\n",
    "    from src.database.config import DatabaseConfig\n",
    "    from utils.file_utils import load_tickers_from_yaml\n",
    "except ImportError as e:\n",
    "    print(\"Error importing modules. Make sure the script is run from the project root\")\n",
    "    print(\"or the 'src' directory is in the Python path.\")\n",
    "    print(f\"Import Error: {e}\")\n",
    "    sys.exit(1)"
   ]
  },
  {
   "cell_type": "code",
   "execution_count": null,
   "id": "0b0b4a7a",
   "metadata": {},
   "outputs": [],
   "source": [
    "# Data Configuration\n",
    "TICKER_FILE_PATH = \"../data/tickers.yml\"  # Path relative to project root\n",
    "MAX_TICKERS = 5  # Limit tickers for faster testing, set to None to use all\n",
    "\n",
    "# Backtest Period\n",
    "START_DATE = (datetime.now() - timedelta(days=4 * 365)).strftime(\"%Y-%m-%d\")\n",
    "END_DATE = datetime.now().strftime(\"%Y-%m-%d\")\n",
    "\n",
    "tickers_to_run = load_tickers_from_yaml(TICKER_FILE_PATH, MAX_TICKERS)\n",
    "\n",
    "db_config = DatabaseConfig.default()\n",
    "\n",
    "cc = GarchXStrategyStrategy(db_config=db_config)\n",
    "\n",
    "# success = cc.debug_arch_model()\n",
    "# print(f\"Debug test result: {success}\")\n",
    "\n",
    "b = cc.generate_signals(ticker=tickers_to_run, start_date=START_DATE, end_date=END_DATE)"
   ]
  }
 ],
 "metadata": {
  "kernelspec": {
   "display_name": ".venv",
   "language": "python",
   "name": "python3"
  },
  "language_info": {
   "codemirror_mode": {
    "name": "ipython",
    "version": 3
   },
   "file_extension": ".py",
   "mimetype": "text/x-python",
   "name": "python",
   "nbconvert_exporter": "python",
   "pygments_lexer": "ipython3",
   "version": "3.12.3"
  }
 },
 "nbformat": 4,
 "nbformat_minor": 5
}
