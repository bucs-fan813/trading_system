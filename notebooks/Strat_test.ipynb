{
 "cells": [
  {
   "cell_type": "code",
   "execution_count": 1,
   "metadata": {},
   "outputs": [],
   "source": [
    "import sys\n",
    "import os\n",
    "\n",
    "# Determine the absolute path to the root directory (assuming the script is one level down)\n",
    "root_path = os.path.abspath(os.path.join(os.getcwd(), '..'))\n",
    "\n",
    "# Add the root directory to sys.path if it’s not already there\n",
    "if root_path not in sys.path:\n",
    "    sys.path.insert(0, root_path)\n"
   ]
  },
  {
   "cell_type": "code",
   "execution_count": 5,
   "metadata": {},
   "outputs": [],
   "source": [
    "import sqlite3\n",
    "\n",
    "def list_tables(db_path):\n",
    "    # Connect to the SQLite database\n",
    "    conn = sqlite3.connect(db_path)\n",
    "    cursor = conn.cursor()\n",
    "\n",
    "    # Execute a query to get all table names\n",
    "    cursor.execute(\"SELECT name FROM sqlite_master WHERE type='table';\")\n",
    "    tables = cursor.fetchall()\n",
    "\n",
    "    # Close the connection\n",
    "    conn.close()\n",
    "\n",
    "    # Return a list of table names (each item in 'tables' is a tuple)\n",
    "    return [table[0] for table in tables]"
   ]
  },
  {
   "cell_type": "code",
   "execution_count": 6,
   "metadata": {},
   "outputs": [
    {
     "data": {
      "text/plain": [
       "['daily_prices',\n",
       " 'company_info',\n",
       " 'balance_sheet',\n",
       " 'income_statement',\n",
       " 'cash_flow']"
      ]
     },
     "execution_count": 6,
     "metadata": {},
     "output_type": "execute_result"
    }
   ],
   "source": [
    "list_tables('../data/trading_system.db')"
   ]
  },
  {
   "cell_type": "code",
   "execution_count": 7,
   "metadata": {},
   "outputs": [],
   "source": [
    "from strategies.momentum.awesome_oscillator_strat import AwesomeOscillatorStrategy"
   ]
  },
  {
   "cell_type": "code",
   "execution_count": 5,
   "metadata": {},
   "outputs": [],
   "source": [
    "from src.database.config import DatabaseConfig\n",
    "from src.database.engine import create_db_engine\n",
    "db_config = DatabaseConfig.default()"
   ]
  },
  {
   "cell_type": "code",
   "execution_count": 15,
   "metadata": {},
   "outputs": [],
   "source": [
    "# Instantiate the strategy, passing the db_config\n",
    "ao_strategy = AwesomeOscillatorStrategy(db_config, params={'short_period': 5, 'long_period': 34})\n",
    "\n",
    "# Now you can use ao_strategy to generate signals, and it will use the database engine\n",
    "signals_df = ao_strategy.generate_signals(ticker='RELIANCE.BO')"
   ]
  },
  {
   "cell_type": "code",
   "execution_count": 16,
   "metadata": {},
   "outputs": [
    {
     "data": {
      "text/html": [
       "<div>\n",
       "<style scoped>\n",
       "    .dataframe tbody tr th:only-of-type {\n",
       "        vertical-align: middle;\n",
       "    }\n",
       "\n",
       "    .dataframe tbody tr th {\n",
       "        vertical-align: top;\n",
       "    }\n",
       "\n",
       "    .dataframe thead th {\n",
       "        text-align: right;\n",
       "    }\n",
       "</style>\n",
       "<table border=\"1\" class=\"dataframe\">\n",
       "  <thead>\n",
       "    <tr style=\"text-align: right;\">\n",
       "      <th></th>\n",
       "      <th>close</th>\n",
       "      <th>ao</th>\n",
       "      <th>signal</th>\n",
       "      <th>signal_strength</th>\n",
       "    </tr>\n",
       "    <tr>\n",
       "      <th>date</th>\n",
       "      <th></th>\n",
       "      <th></th>\n",
       "      <th></th>\n",
       "      <th></th>\n",
       "    </tr>\n",
       "  </thead>\n",
       "  <tbody>\n",
       "    <tr>\n",
       "      <th>2025-02-07 00:00:00.000000</th>\n",
       "      <td>1266.849976</td>\n",
       "      <td>22.861916</td>\n",
       "      <td>0</td>\n",
       "      <td>0.0</td>\n",
       "    </tr>\n",
       "    <tr>\n",
       "      <th>2025-02-07 00:00:00.000000</th>\n",
       "      <td>1266.849976</td>\n",
       "      <td>22.438089</td>\n",
       "      <td>0</td>\n",
       "      <td>0.0</td>\n",
       "    </tr>\n",
       "    <tr>\n",
       "      <th>2025-02-07 00:00:00.000000</th>\n",
       "      <td>1266.849976</td>\n",
       "      <td>18.990734</td>\n",
       "      <td>0</td>\n",
       "      <td>0.0</td>\n",
       "    </tr>\n",
       "    <tr>\n",
       "      <th>2025-02-07 00:00:00.000000</th>\n",
       "      <td>1266.849976</td>\n",
       "      <td>16.163231</td>\n",
       "      <td>0</td>\n",
       "      <td>0.0</td>\n",
       "    </tr>\n",
       "  </tbody>\n",
       "</table>\n",
       "</div>"
      ],
      "text/plain": [
       "                                  close         ao  signal  signal_strength\n",
       "date                                                                       \n",
       "2025-02-07 00:00:00.000000  1266.849976  22.861916       0              0.0\n",
       "2025-02-07 00:00:00.000000  1266.849976  22.438089       0              0.0\n",
       "2025-02-07 00:00:00.000000  1266.849976  18.990734       0              0.0\n",
       "2025-02-07 00:00:00.000000  1266.849976  16.163231       0              0.0"
      ]
     },
     "execution_count": 16,
     "metadata": {},
     "output_type": "execute_result"
    }
   ],
   "source": [
    "signals_df"
   ]
  },
  {
   "cell_type": "code",
   "execution_count": 2,
   "metadata": {},
   "outputs": [],
   "source": [
    "import pandas as pd\n",
    "\n",
    "tickers = pd.read_excel(\"../data/ticker.xlsx\")\n",
    "tickers = tickers[~tickers[\"Security Name\"].duplicated()]\n",
    "tickers.reset_index(drop=True, inplace=True)\n",
    "\n",
    "def add_ticker_suffix(x):\n",
    "    if x[\"Exchange\"]==\"BSE\":\n",
    "        return x[\"Security Name\"] + \".BO\"\n",
    "    else:\n",
    "        return x[\"Security Name\"] + \".NS\"\n",
    "\n",
    "tickers[\"Ticker\"] = tickers.apply(add_ticker_suffix, axis = 1)\n",
    "all_tickers = tickers[\"Ticker\"].tolist()"
   ]
  },
  {
   "cell_type": "code",
   "execution_count": 37,
   "metadata": {},
   "outputs": [
    {
     "data": {
      "text/html": [
       "<div>\n",
       "<style scoped>\n",
       "    .dataframe tbody tr th:only-of-type {\n",
       "        vertical-align: middle;\n",
       "    }\n",
       "\n",
       "    .dataframe tbody tr th {\n",
       "        vertical-align: top;\n",
       "    }\n",
       "\n",
       "    .dataframe thead th {\n",
       "        text-align: right;\n",
       "    }\n",
       "</style>\n",
       "<table border=\"1\" class=\"dataframe\">\n",
       "  <thead>\n",
       "    <tr style=\"text-align: right;\">\n",
       "      <th></th>\n",
       "      <th>close</th>\n",
       "      <th>ao</th>\n",
       "      <th>signal</th>\n",
       "      <th>signal_strength</th>\n",
       "    </tr>\n",
       "    <tr>\n",
       "      <th>date</th>\n",
       "      <th></th>\n",
       "      <th></th>\n",
       "      <th></th>\n",
       "      <th></th>\n",
       "    </tr>\n",
       "  </thead>\n",
       "  <tbody>\n",
       "    <tr>\n",
       "      <th>2025-02-04 00:00:00.000000</th>\n",
       "      <td>3716.600098</td>\n",
       "      <td>-290.215871</td>\n",
       "      <td>0</td>\n",
       "      <td>0.0</td>\n",
       "    </tr>\n",
       "    <tr>\n",
       "      <th>2025-02-05 00:00:00.000000</th>\n",
       "      <td>3679.850098</td>\n",
       "      <td>-256.966467</td>\n",
       "      <td>0</td>\n",
       "      <td>0.0</td>\n",
       "    </tr>\n",
       "    <tr>\n",
       "      <th>2025-02-06 00:00:00.000000</th>\n",
       "      <td>3704.399902</td>\n",
       "      <td>-214.347347</td>\n",
       "      <td>0</td>\n",
       "      <td>0.0</td>\n",
       "    </tr>\n",
       "    <tr>\n",
       "      <th>2025-02-07 00:00:00.000000</th>\n",
       "      <td>3701.300049</td>\n",
       "      <td>-168.933827</td>\n",
       "      <td>0</td>\n",
       "      <td>0.0</td>\n",
       "    </tr>\n",
       "  </tbody>\n",
       "</table>\n",
       "</div>"
      ],
      "text/plain": [
       "                                  close          ao  signal  signal_strength\n",
       "date                                                                        \n",
       "2025-02-04 00:00:00.000000  3716.600098 -290.215871       0              0.0\n",
       "2025-02-05 00:00:00.000000  3679.850098 -256.966467       0              0.0\n",
       "2025-02-06 00:00:00.000000  3704.399902 -214.347347       0              0.0\n",
       "2025-02-07 00:00:00.000000  3701.300049 -168.933827       0              0.0"
      ]
     },
     "execution_count": 37,
     "metadata": {},
     "output_type": "execute_result"
    }
   ],
   "source": [
    "# Now you can use ao_strategy to generate signals, and it will use the database engine\n",
    "signals_df = ao_strategy.generate_signals(ticker=all_tickers[200])\n",
    "signals_df"
   ]
  },
  {
   "cell_type": "code",
   "execution_count": 22,
   "metadata": {},
   "outputs": [],
   "source": [
    "from src.database.utils import query_to_dataframe\n"
   ]
  },
  {
   "cell_type": "code",
   "execution_count": 31,
   "metadata": {},
   "outputs": [],
   "source": [
    "ticker = all_tickers[500]\n",
    "a = query_to_dataframe(f\"SELECT * FROM daily_prices WHERE ticker = '{ticker}'\", db_path='../data/trading_system.db')\n"
   ]
  },
  {
   "cell_type": "code",
   "execution_count": 32,
   "metadata": {},
   "outputs": [
    {
     "data": {
      "text/html": [
       "<div>\n",
       "<style scoped>\n",
       "    .dataframe tbody tr th:only-of-type {\n",
       "        vertical-align: middle;\n",
       "    }\n",
       "\n",
       "    .dataframe tbody tr th {\n",
       "        vertical-align: top;\n",
       "    }\n",
       "\n",
       "    .dataframe thead th {\n",
       "        text-align: right;\n",
       "    }\n",
       "</style>\n",
       "<table border=\"1\" class=\"dataframe\">\n",
       "  <thead>\n",
       "    <tr style=\"text-align: right;\">\n",
       "      <th></th>\n",
       "      <th>index</th>\n",
       "      <th>date</th>\n",
       "      <th>open</th>\n",
       "      <th>high</th>\n",
       "      <th>low</th>\n",
       "      <th>close</th>\n",
       "      <th>volume</th>\n",
       "      <th>Dividends</th>\n",
       "      <th>Stock Splits</th>\n",
       "      <th>ticker</th>\n",
       "      <th>updated_at</th>\n",
       "      <th>data_source</th>\n",
       "    </tr>\n",
       "  </thead>\n",
       "  <tbody>\n",
       "    <tr>\n",
       "      <th>0</th>\n",
       "      <td>0</td>\n",
       "      <td>2019-04-16 00:00:00.000000</td>\n",
       "      <td>611.682461</td>\n",
       "      <td>645.310490</td>\n",
       "      <td>608.783492</td>\n",
       "      <td>632.748291</td>\n",
       "      <td>22985293</td>\n",
       "      <td>0.0</td>\n",
       "      <td>0.0</td>\n",
       "      <td>POLYCAB.NS</td>\n",
       "      <td>2025-02-09 11:09:58.604788</td>\n",
       "      <td>yfinance</td>\n",
       "    </tr>\n",
       "    <tr>\n",
       "      <th>1</th>\n",
       "      <td>1</td>\n",
       "      <td>2019-04-18 00:00:00.000000</td>\n",
       "      <td>634.777646</td>\n",
       "      <td>642.508230</td>\n",
       "      <td>593.322362</td>\n",
       "      <td>621.877197</td>\n",
       "      <td>5415019</td>\n",
       "      <td>0.0</td>\n",
       "      <td>0.0</td>\n",
       "      <td>POLYCAB.NS</td>\n",
       "      <td>2025-02-09 11:09:58.604788</td>\n",
       "      <td>yfinance</td>\n",
       "    </tr>\n",
       "    <tr>\n",
       "      <th>2</th>\n",
       "      <td>2</td>\n",
       "      <td>2019-04-22 00:00:00.000000</td>\n",
       "      <td>621.345810</td>\n",
       "      <td>624.051503</td>\n",
       "      <td>604.193573</td>\n",
       "      <td>606.947571</td>\n",
       "      <td>1059760</td>\n",
       "      <td>0.0</td>\n",
       "      <td>0.0</td>\n",
       "      <td>POLYCAB.NS</td>\n",
       "      <td>2025-02-09 11:09:58.604788</td>\n",
       "      <td>yfinance</td>\n",
       "    </tr>\n",
       "    <tr>\n",
       "      <th>3</th>\n",
       "      <td>3</td>\n",
       "      <td>2019-04-23 00:00:00.000000</td>\n",
       "      <td>606.850875</td>\n",
       "      <td>626.177336</td>\n",
       "      <td>606.850875</td>\n",
       "      <td>612.745422</td>\n",
       "      <td>1208860</td>\n",
       "      <td>0.0</td>\n",
       "      <td>0.0</td>\n",
       "      <td>POLYCAB.NS</td>\n",
       "      <td>2025-02-09 11:09:58.604788</td>\n",
       "      <td>yfinance</td>\n",
       "    </tr>\n",
       "    <tr>\n",
       "      <th>4</th>\n",
       "      <td>4</td>\n",
       "      <td>2019-04-24 00:00:00.000000</td>\n",
       "      <td>615.064622</td>\n",
       "      <td>618.446752</td>\n",
       "      <td>607.092457</td>\n",
       "      <td>616.030945</td>\n",
       "      <td>1016453</td>\n",
       "      <td>0.0</td>\n",
       "      <td>0.0</td>\n",
       "      <td>POLYCAB.NS</td>\n",
       "      <td>2025-02-09 11:09:58.604788</td>\n",
       "      <td>yfinance</td>\n",
       "    </tr>\n",
       "    <tr>\n",
       "      <th>...</th>\n",
       "      <td>...</td>\n",
       "      <td>...</td>\n",
       "      <td>...</td>\n",
       "      <td>...</td>\n",
       "      <td>...</td>\n",
       "      <td>...</td>\n",
       "      <td>...</td>\n",
       "      <td>...</td>\n",
       "      <td>...</td>\n",
       "      <td>...</td>\n",
       "      <td>...</td>\n",
       "      <td>...</td>\n",
       "    </tr>\n",
       "    <tr>\n",
       "      <th>1433</th>\n",
       "      <td>1433</td>\n",
       "      <td>2025-02-03 00:00:00.000000</td>\n",
       "      <td>5834.450195</td>\n",
       "      <td>5919.799805</td>\n",
       "      <td>5745.049805</td>\n",
       "      <td>5857.750000</td>\n",
       "      <td>405813</td>\n",
       "      <td>0.0</td>\n",
       "      <td>0.0</td>\n",
       "      <td>POLYCAB.NS</td>\n",
       "      <td>2025-02-09 11:09:58.604788</td>\n",
       "      <td>yfinance</td>\n",
       "    </tr>\n",
       "    <tr>\n",
       "      <th>1434</th>\n",
       "      <td>1434</td>\n",
       "      <td>2025-02-04 00:00:00.000000</td>\n",
       "      <td>5866.700195</td>\n",
       "      <td>5987.000000</td>\n",
       "      <td>5860.049805</td>\n",
       "      <td>5963.899902</td>\n",
       "      <td>326464</td>\n",
       "      <td>0.0</td>\n",
       "      <td>0.0</td>\n",
       "      <td>POLYCAB.NS</td>\n",
       "      <td>2025-02-09 11:09:58.604788</td>\n",
       "      <td>yfinance</td>\n",
       "    </tr>\n",
       "    <tr>\n",
       "      <th>1435</th>\n",
       "      <td>1435</td>\n",
       "      <td>2025-02-05 00:00:00.000000</td>\n",
       "      <td>6039.000000</td>\n",
       "      <td>6092.250000</td>\n",
       "      <td>5964.549805</td>\n",
       "      <td>6037.299805</td>\n",
       "      <td>341372</td>\n",
       "      <td>0.0</td>\n",
       "      <td>0.0</td>\n",
       "      <td>POLYCAB.NS</td>\n",
       "      <td>2025-02-09 11:09:58.604788</td>\n",
       "      <td>yfinance</td>\n",
       "    </tr>\n",
       "    <tr>\n",
       "      <th>1436</th>\n",
       "      <td>1436</td>\n",
       "      <td>2025-02-06 00:00:00.000000</td>\n",
       "      <td>6058.399902</td>\n",
       "      <td>6062.600098</td>\n",
       "      <td>5850.000000</td>\n",
       "      <td>5859.000000</td>\n",
       "      <td>191057</td>\n",
       "      <td>0.0</td>\n",
       "      <td>0.0</td>\n",
       "      <td>POLYCAB.NS</td>\n",
       "      <td>2025-02-09 11:09:58.604788</td>\n",
       "      <td>yfinance</td>\n",
       "    </tr>\n",
       "    <tr>\n",
       "      <th>1437</th>\n",
       "      <td>1437</td>\n",
       "      <td>2025-02-07 00:00:00.000000</td>\n",
       "      <td>5889.899902</td>\n",
       "      <td>5950.000000</td>\n",
       "      <td>5828.049805</td>\n",
       "      <td>5869.700195</td>\n",
       "      <td>158629</td>\n",
       "      <td>0.0</td>\n",
       "      <td>0.0</td>\n",
       "      <td>POLYCAB.NS</td>\n",
       "      <td>2025-02-09 11:09:58.604788</td>\n",
       "      <td>yfinance</td>\n",
       "    </tr>\n",
       "  </tbody>\n",
       "</table>\n",
       "<p>1438 rows × 12 columns</p>\n",
       "</div>"
      ],
      "text/plain": [
       "      index                        date         open         high  \\\n",
       "0         0  2019-04-16 00:00:00.000000   611.682461   645.310490   \n",
       "1         1  2019-04-18 00:00:00.000000   634.777646   642.508230   \n",
       "2         2  2019-04-22 00:00:00.000000   621.345810   624.051503   \n",
       "3         3  2019-04-23 00:00:00.000000   606.850875   626.177336   \n",
       "4         4  2019-04-24 00:00:00.000000   615.064622   618.446752   \n",
       "...     ...                         ...          ...          ...   \n",
       "1433   1433  2025-02-03 00:00:00.000000  5834.450195  5919.799805   \n",
       "1434   1434  2025-02-04 00:00:00.000000  5866.700195  5987.000000   \n",
       "1435   1435  2025-02-05 00:00:00.000000  6039.000000  6092.250000   \n",
       "1436   1436  2025-02-06 00:00:00.000000  6058.399902  6062.600098   \n",
       "1437   1437  2025-02-07 00:00:00.000000  5889.899902  5950.000000   \n",
       "\n",
       "              low        close    volume  Dividends  Stock Splits      ticker  \\\n",
       "0      608.783492   632.748291  22985293        0.0           0.0  POLYCAB.NS   \n",
       "1      593.322362   621.877197   5415019        0.0           0.0  POLYCAB.NS   \n",
       "2      604.193573   606.947571   1059760        0.0           0.0  POLYCAB.NS   \n",
       "3      606.850875   612.745422   1208860        0.0           0.0  POLYCAB.NS   \n",
       "4      607.092457   616.030945   1016453        0.0           0.0  POLYCAB.NS   \n",
       "...           ...          ...       ...        ...           ...         ...   \n",
       "1433  5745.049805  5857.750000    405813        0.0           0.0  POLYCAB.NS   \n",
       "1434  5860.049805  5963.899902    326464        0.0           0.0  POLYCAB.NS   \n",
       "1435  5964.549805  6037.299805    341372        0.0           0.0  POLYCAB.NS   \n",
       "1436  5850.000000  5859.000000    191057        0.0           0.0  POLYCAB.NS   \n",
       "1437  5828.049805  5869.700195    158629        0.0           0.0  POLYCAB.NS   \n",
       "\n",
       "                      updated_at data_source  \n",
       "0     2025-02-09 11:09:58.604788    yfinance  \n",
       "1     2025-02-09 11:09:58.604788    yfinance  \n",
       "2     2025-02-09 11:09:58.604788    yfinance  \n",
       "3     2025-02-09 11:09:58.604788    yfinance  \n",
       "4     2025-02-09 11:09:58.604788    yfinance  \n",
       "...                          ...         ...  \n",
       "1433  2025-02-09 11:09:58.604788    yfinance  \n",
       "1434  2025-02-09 11:09:58.604788    yfinance  \n",
       "1435  2025-02-09 11:09:58.604788    yfinance  \n",
       "1436  2025-02-09 11:09:58.604788    yfinance  \n",
       "1437  2025-02-09 11:09:58.604788    yfinance  \n",
       "\n",
       "[1438 rows x 12 columns]"
      ]
     },
     "execution_count": 32,
     "metadata": {},
     "output_type": "execute_result"
    }
   ],
   "source": [
    "a"
   ]
  },
  {
   "cell_type": "code",
   "execution_count": 30,
   "metadata": {},
   "outputs": [
    {
     "data": {
      "text/plain": [
       "np.int64(4)"
      ]
     },
     "execution_count": 30,
     "metadata": {},
     "output_type": "execute_result"
    }
   ],
   "source": [
    "a['date'].duplicated().sum()"
   ]
  },
  {
   "cell_type": "code",
   "execution_count": 40,
   "metadata": {},
   "outputs": [
    {
     "name": "stderr",
     "output_type": "stream",
     "text": [
      "Insufficient data for analysis\n",
      "Insufficient data for AO calculation for KAMAHOLD.BO. Required 36 records.\n"
     ]
    }
   ],
   "source": [
    "for i in range(0, len(all_tickers)):\n",
    "    ticker = all_tickers[i]\n",
    "    a = ao_strategy.generate_signals(ticker)\n",
    "    a['ticker'] = ticker\n",
    "    if i == 0:\n",
    "        df = a\n",
    "    else:\n",
    "        df = pd.concat([df, a])"
   ]
  },
  {
   "cell_type": "code",
   "execution_count": 41,
   "metadata": {},
   "outputs": [
    {
     "data": {
      "text/html": [
       "<div>\n",
       "<style scoped>\n",
       "    .dataframe tbody tr th:only-of-type {\n",
       "        vertical-align: middle;\n",
       "    }\n",
       "\n",
       "    .dataframe tbody tr th {\n",
       "        vertical-align: top;\n",
       "    }\n",
       "\n",
       "    .dataframe thead th {\n",
       "        text-align: right;\n",
       "    }\n",
       "</style>\n",
       "<table border=\"1\" class=\"dataframe\">\n",
       "  <thead>\n",
       "    <tr style=\"text-align: right;\">\n",
       "      <th></th>\n",
       "      <th>close</th>\n",
       "      <th>ao</th>\n",
       "      <th>signal</th>\n",
       "      <th>signal_strength</th>\n",
       "      <th>ticker</th>\n",
       "    </tr>\n",
       "  </thead>\n",
       "  <tbody>\n",
       "    <tr>\n",
       "      <th>2025-02-07 00:00:00.000000</th>\n",
       "      <td>1732.099976</td>\n",
       "      <td>31.116458</td>\n",
       "      <td>0.0</td>\n",
       "      <td>0.0</td>\n",
       "      <td>HDFCBANK.BO</td>\n",
       "    </tr>\n",
       "    <tr>\n",
       "      <th>2025-02-07 00:00:00.000000</th>\n",
       "      <td>1732.099976</td>\n",
       "      <td>41.226611</td>\n",
       "      <td>0.0</td>\n",
       "      <td>0.0</td>\n",
       "      <td>HDFCBANK.BO</td>\n",
       "    </tr>\n",
       "    <tr>\n",
       "      <th>2025-02-07 00:00:00.000000</th>\n",
       "      <td>1732.099976</td>\n",
       "      <td>45.677204</td>\n",
       "      <td>0.0</td>\n",
       "      <td>0.0</td>\n",
       "      <td>HDFCBANK.BO</td>\n",
       "    </tr>\n",
       "    <tr>\n",
       "      <th>2025-02-07 00:00:00.000000</th>\n",
       "      <td>1732.099976</td>\n",
       "      <td>49.157350</td>\n",
       "      <td>0.0</td>\n",
       "      <td>0.0</td>\n",
       "      <td>HDFCBANK.BO</td>\n",
       "    </tr>\n",
       "    <tr>\n",
       "      <th>2025-02-07 00:00:00.000000</th>\n",
       "      <td>4029.350098</td>\n",
       "      <td>-8.770191</td>\n",
       "      <td>0.0</td>\n",
       "      <td>0.0</td>\n",
       "      <td>TCS.BO</td>\n",
       "    </tr>\n",
       "    <tr>\n",
       "      <th>...</th>\n",
       "      <td>...</td>\n",
       "      <td>...</td>\n",
       "      <td>...</td>\n",
       "      <td>...</td>\n",
       "      <td>...</td>\n",
       "    </tr>\n",
       "    <tr>\n",
       "      <th>2025-02-07 00:00:00.000000</th>\n",
       "      <td>1526.400024</td>\n",
       "      <td>-93.070141</td>\n",
       "      <td>0.0</td>\n",
       "      <td>0.0</td>\n",
       "      <td>RAYMOND.NS</td>\n",
       "    </tr>\n",
       "    <tr>\n",
       "      <th>2025-02-04 00:00:00.000000</th>\n",
       "      <td>1290.500000</td>\n",
       "      <td>-319.025155</td>\n",
       "      <td>0.0</td>\n",
       "      <td>0.0</td>\n",
       "      <td>CDSL.NS</td>\n",
       "    </tr>\n",
       "    <tr>\n",
       "      <th>2025-02-05 00:00:00.000000</th>\n",
       "      <td>1348.849976</td>\n",
       "      <td>-293.114421</td>\n",
       "      <td>0.0</td>\n",
       "      <td>0.0</td>\n",
       "      <td>CDSL.NS</td>\n",
       "    </tr>\n",
       "    <tr>\n",
       "      <th>2025-02-06 00:00:00.000000</th>\n",
       "      <td>1328.050049</td>\n",
       "      <td>-266.467363</td>\n",
       "      <td>0.0</td>\n",
       "      <td>0.0</td>\n",
       "      <td>CDSL.NS</td>\n",
       "    </tr>\n",
       "    <tr>\n",
       "      <th>2025-02-07 00:00:00.000000</th>\n",
       "      <td>1336.199951</td>\n",
       "      <td>-244.737809</td>\n",
       "      <td>0.0</td>\n",
       "      <td>0.0</td>\n",
       "      <td>CDSL.NS</td>\n",
       "    </tr>\n",
       "  </tbody>\n",
       "</table>\n",
       "<p>2014 rows × 5 columns</p>\n",
       "</div>"
      ],
      "text/plain": [
       "                                  close          ao  signal  signal_strength  \\\n",
       "2025-02-07 00:00:00.000000  1732.099976   31.116458     0.0              0.0   \n",
       "2025-02-07 00:00:00.000000  1732.099976   41.226611     0.0              0.0   \n",
       "2025-02-07 00:00:00.000000  1732.099976   45.677204     0.0              0.0   \n",
       "2025-02-07 00:00:00.000000  1732.099976   49.157350     0.0              0.0   \n",
       "2025-02-07 00:00:00.000000  4029.350098   -8.770191     0.0              0.0   \n",
       "...                                 ...         ...     ...              ...   \n",
       "2025-02-07 00:00:00.000000  1526.400024  -93.070141     0.0              0.0   \n",
       "2025-02-04 00:00:00.000000  1290.500000 -319.025155     0.0              0.0   \n",
       "2025-02-05 00:00:00.000000  1348.849976 -293.114421     0.0              0.0   \n",
       "2025-02-06 00:00:00.000000  1328.050049 -266.467363     0.0              0.0   \n",
       "2025-02-07 00:00:00.000000  1336.199951 -244.737809     0.0              0.0   \n",
       "\n",
       "                                 ticker  \n",
       "2025-02-07 00:00:00.000000  HDFCBANK.BO  \n",
       "2025-02-07 00:00:00.000000  HDFCBANK.BO  \n",
       "2025-02-07 00:00:00.000000  HDFCBANK.BO  \n",
       "2025-02-07 00:00:00.000000  HDFCBANK.BO  \n",
       "2025-02-07 00:00:00.000000       TCS.BO  \n",
       "...                                 ...  \n",
       "2025-02-07 00:00:00.000000   RAYMOND.NS  \n",
       "2025-02-04 00:00:00.000000      CDSL.NS  \n",
       "2025-02-05 00:00:00.000000      CDSL.NS  \n",
       "2025-02-06 00:00:00.000000      CDSL.NS  \n",
       "2025-02-07 00:00:00.000000      CDSL.NS  \n",
       "\n",
       "[2014 rows x 5 columns]"
      ]
     },
     "execution_count": 41,
     "metadata": {},
     "output_type": "execute_result"
    }
   ],
   "source": [
    "df"
   ]
  },
  {
   "cell_type": "code",
   "execution_count": 44,
   "metadata": {},
   "outputs": [
    {
     "data": {
      "text/plain": [
       "count    2014.000000\n",
       "mean        0.419074\n",
       "std         3.617582\n",
       "min         0.000000\n",
       "25%         0.000000\n",
       "50%         0.000000\n",
       "75%         0.000000\n",
       "max        84.697567\n",
       "Name: signal_strength, dtype: float64"
      ]
     },
     "execution_count": 44,
     "metadata": {},
     "output_type": "execute_result"
    }
   ],
   "source": [
    "df['signal_strength'].describe()"
   ]
  },
  {
   "cell_type": "code",
   "execution_count": 51,
   "metadata": {},
   "outputs": [],
   "source": [
    "from src.strategies.momentum.cci_oscillator_strat import CCIStrategy"
   ]
  },
  {
   "cell_type": "code",
   "execution_count": 64,
   "metadata": {},
   "outputs": [],
   "source": [
    "cci_strategy = CCIStrategy(db_config)"
   ]
  },
  {
   "cell_type": "code",
   "execution_count": 65,
   "metadata": {},
   "outputs": [
    {
     "name": "stderr",
     "output_type": "stream",
     "text": [
      "Insufficient data for analysis\n"
     ]
    }
   ],
   "source": [
    "for i in range(0, len(all_tickers)):\n",
    "    ticker = all_tickers[i]\n",
    "    a = cci_strategy.generate_signals(ticker)\n",
    "    a['ticker'] = ticker\n",
    "    if i == 0:\n",
    "        df = a\n",
    "    else:\n",
    "        df = pd.concat([df, a])"
   ]
  },
  {
   "cell_type": "code",
   "execution_count": 69,
   "metadata": {},
   "outputs": [
    {
     "data": {
      "text/plain": [
       "count    117736.000000\n",
       "mean         -0.328490\n",
       "std         111.271282\n",
       "min        -663.300970\n",
       "25%         -85.861790\n",
       "50%          -2.360951\n",
       "75%          83.829841\n",
       "max         544.767753\n",
       "Name: cci, dtype: float64"
      ]
     },
     "execution_count": 69,
     "metadata": {},
     "output_type": "execute_result"
    }
   ],
   "source": [
    "df['cci'].describe()"
   ]
  },
  {
   "cell_type": "code",
   "execution_count": 73,
   "metadata": {},
   "outputs": [
    {
     "data": {
      "text/plain": [
       "count    127449.000000\n",
       "mean          1.950381\n",
       "std          12.735737\n",
       "min           0.000000\n",
       "25%           0.000000\n",
       "50%           0.000000\n",
       "75%           0.000000\n",
       "max         570.129538\n",
       "Name: signal_strength, dtype: float64"
      ]
     },
     "execution_count": 73,
     "metadata": {},
     "output_type": "execute_result"
    }
   ],
   "source": [
    "df['signal_strength'].describe()"
   ]
  },
  {
   "cell_type": "code",
   "execution_count": 3,
   "metadata": {},
   "outputs": [],
   "source": [
    "from src.strategies.momentum.coppock_curve_strat import CoppockCurveStrategy"
   ]
  },
  {
   "cell_type": "code",
   "execution_count": 6,
   "metadata": {},
   "outputs": [],
   "source": [
    "coppock_strategy = CoppockCurveStrategy(db_config)"
   ]
  },
  {
   "cell_type": "code",
   "execution_count": null,
   "metadata": {},
   "outputs": [],
   "source": [
    "for i in range(0, len(all_tickers)):\n",
    "    ticker = all_tickers[i]\n",
    "    print(i)\n",
    "    a = coppock_strategy.generate_signals(ticker)\n",
    "    a['ticker'] = ticker\n",
    "    if i == 0:\n",
    "        df = a\n",
    "    else:\n",
    "        df = pd.concat([df, a])"
   ]
  },
  {
   "cell_type": "code",
   "execution_count": 98,
   "metadata": {},
   "outputs": [
    {
     "name": "stdout",
     "output_type": "stream",
     "text": [
      "--- Entering _generate_signal_df ---\n"
     ]
    }
   ],
   "source": [
    "print(f\"--- Entering _generate_signal_df ---\", flush=True)\n"
   ]
  },
  {
   "cell_type": "code",
   "execution_count": 11,
   "metadata": {},
   "outputs": [
    {
     "name": "stderr",
     "output_type": "stream",
     "text": [
      "/home/bhvignesh/trading_system/src/strategies/momentum/coppock_curve_strat.py:136: FutureWarning: Downcasting object dtype arrays on .fillna, .ffill, .bfill is deprecated and will change in a future version. Call result.infer_objects(copy=False) instead. To opt-in to the future behavior, set `pd.set_option('future.no_silent_downcasting', True)`\n",
      "  return mask.fillna(0).astype(bool).shift().fillna(False)\n",
      "/home/bhvignesh/trading_system/src/strategies/momentum/coppock_curve_strat.py:136: FutureWarning: Downcasting object dtype arrays on .fillna, .ffill, .bfill is deprecated and will change in a future version. Call result.infer_objects(copy=False) instead. To opt-in to the future behavior, set `pd.set_option('future.no_silent_downcasting', True)`\n",
      "  return mask.fillna(0).astype(bool).shift().fillna(False)\n",
      "/home/bhvignesh/trading_system/src/strategies/momentum/coppock_curve_strat.py:122: FutureWarning: The 'method' keyword in Series.replace is deprecated and will be removed in a future version.\n",
      "  df['position'] = df['signal'].replace(0, method='ffill').fillna(0).astype(int)\n"
     ]
    }
   ],
   "source": [
    "a = coppock_strategy.generate_signals(all_tickers[0])"
   ]
  },
  {
   "cell_type": "code",
   "execution_count": 10,
   "metadata": {},
   "outputs": [
    {
     "data": {
      "text/html": [
       "<div>\n",
       "<style scoped>\n",
       "    .dataframe tbody tr th:only-of-type {\n",
       "        vertical-align: middle;\n",
       "    }\n",
       "\n",
       "    .dataframe tbody tr th {\n",
       "        vertical-align: top;\n",
       "    }\n",
       "\n",
       "    .dataframe thead th {\n",
       "        text-align: right;\n",
       "    }\n",
       "</style>\n",
       "<table border=\"1\" class=\"dataframe\">\n",
       "  <thead>\n",
       "    <tr style=\"text-align: right;\">\n",
       "      <th></th>\n",
       "      <th>close</th>\n",
       "      <th>cc</th>\n",
       "      <th>signal</th>\n",
       "      <th>position</th>\n",
       "      <th>strength</th>\n",
       "    </tr>\n",
       "    <tr>\n",
       "      <th>date</th>\n",
       "      <th></th>\n",
       "      <th></th>\n",
       "      <th></th>\n",
       "      <th></th>\n",
       "      <th></th>\n",
       "    </tr>\n",
       "  </thead>\n",
       "  <tbody>\n",
       "  </tbody>\n",
       "</table>\n",
       "</div>"
      ],
      "text/plain": [
       "Empty DataFrame\n",
       "Columns: [close, cc, signal, position, strength]\n",
       "Index: []"
      ]
     },
     "execution_count": 10,
     "metadata": {},
     "output_type": "execute_result"
    }
   ],
   "source": [
    "a\n"
   ]
  }
 ],
 "metadata": {
  "kernelspec": {
   "display_name": "trading_env",
   "language": "python",
   "name": "python3"
  },
  "language_info": {
   "codemirror_mode": {
    "name": "ipython",
    "version": 3
   },
   "file_extension": ".py",
   "mimetype": "text/x-python",
   "name": "python",
   "nbconvert_exporter": "python",
   "pygments_lexer": "ipython3",
   "version": "3.11.9"
  }
 },
 "nbformat": 4,
 "nbformat_minor": 2
}
