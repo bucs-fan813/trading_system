{
 "cells": [
  {
   "cell_type": "code",
   "execution_count": 1,
   "metadata": {},
   "outputs": [],
   "source": [
    "import sys\n",
    "import os\n",
    "\n",
    "# Determine the absolute path to the root directory (assuming the script is one level down)\n",
    "root_path = os.path.abspath(os.path.join(os.getcwd(), '..'))\n",
    "\n",
    "# Add the root directory to sys.path if it’s not already there\n",
    "if root_path not in sys.path:\n",
    "    sys.path.insert(0, root_path)\n"
   ]
  },
  {
   "cell_type": "code",
   "execution_count": 5,
   "metadata": {},
   "outputs": [],
   "source": [
    "import sqlite3\n",
    "\n",
    "def list_tables(db_path):\n",
    "    # Connect to the SQLite database\n",
    "    conn = sqlite3.connect(db_path)\n",
    "    cursor = conn.cursor()\n",
    "\n",
    "    # Execute a query to get all table names\n",
    "    cursor.execute(\"SELECT name FROM sqlite_master WHERE type='table';\")\n",
    "    tables = cursor.fetchall()\n",
    "\n",
    "    # Close the connection\n",
    "    conn.close()\n",
    "\n",
    "    # Return a list of table names (each item in 'tables' is a tuple)\n",
    "    return [table[0] for table in tables]"
   ]
  },
  {
   "cell_type": "code",
   "execution_count": 6,
   "metadata": {},
   "outputs": [
    {
     "data": {
      "text/plain": [
       "['daily_prices',\n",
       " 'company_info',\n",
       " 'balance_sheet',\n",
       " 'income_statement',\n",
       " 'cash_flow']"
      ]
     },
     "execution_count": 6,
     "metadata": {},
     "output_type": "execute_result"
    }
   ],
   "source": [
    "list_tables('../data/trading_system.db')"
   ]
  },
  {
   "cell_type": "code",
   "execution_count": 4,
   "metadata": {},
   "outputs": [],
   "source": [
    "from src.strategies.momentum.awesome_oscillator_strat import AwesomeOscillatorStrategy"
   ]
  },
  {
   "cell_type": "code",
   "execution_count": 2,
   "metadata": {},
   "outputs": [],
   "source": [
    "from src.database.config import DatabaseConfig\n",
    "from src.database.engine import create_db_engine\n",
    "db_config = DatabaseConfig.default()"
   ]
  },
  {
   "cell_type": "code",
   "execution_count": 5,
   "metadata": {},
   "outputs": [],
   "source": [
    "# Instantiate the strategy, passing the db_config\n",
    "ao_strategy = AwesomeOscillatorStrategy(db_config, params={'short_period': 5, 'long_period': 34})\n",
    "\n",
    "# Now you can use ao_strategy to generate signals, and it will use the database engine\n",
    "signals_df = ao_strategy.generate_signals(ticker='RELIANCE.BO')"
   ]
  },
  {
   "cell_type": "code",
   "execution_count": 6,
   "metadata": {},
   "outputs": [
    {
     "data": {
      "text/html": [
       "<div>\n",
       "<style scoped>\n",
       "    .dataframe tbody tr th:only-of-type {\n",
       "        vertical-align: middle;\n",
       "    }\n",
       "\n",
       "    .dataframe tbody tr th {\n",
       "        vertical-align: top;\n",
       "    }\n",
       "\n",
       "    .dataframe thead th {\n",
       "        text-align: right;\n",
       "    }\n",
       "</style>\n",
       "<table border=\"1\" class=\"dataframe\">\n",
       "  <thead>\n",
       "    <tr style=\"text-align: right;\">\n",
       "      <th></th>\n",
       "      <th>close</th>\n",
       "      <th>high</th>\n",
       "      <th>low</th>\n",
       "      <th>signal</th>\n",
       "      <th>position</th>\n",
       "      <th>return</th>\n",
       "      <th>cumulative_return</th>\n",
       "      <th>exit_type</th>\n",
       "    </tr>\n",
       "    <tr>\n",
       "      <th>date</th>\n",
       "      <th></th>\n",
       "      <th></th>\n",
       "      <th></th>\n",
       "      <th></th>\n",
       "      <th></th>\n",
       "      <th></th>\n",
       "      <th></th>\n",
       "      <th></th>\n",
       "    </tr>\n",
       "  </thead>\n",
       "  <tbody>\n",
       "    <tr>\n",
       "      <th>2024-12-23</th>\n",
       "      <td>1222.099976</td>\n",
       "      <td>1227.000000</td>\n",
       "      <td>1213.150024</td>\n",
       "      <td>0</td>\n",
       "      <td>0.0</td>\n",
       "      <td>0.000000</td>\n",
       "      <td>0.000000</td>\n",
       "      <td>none</td>\n",
       "    </tr>\n",
       "    <tr>\n",
       "      <th>2024-12-24</th>\n",
       "      <td>1223.500000</td>\n",
       "      <td>1233.449951</td>\n",
       "      <td>1221.449951</td>\n",
       "      <td>0</td>\n",
       "      <td>0.0</td>\n",
       "      <td>0.000000</td>\n",
       "      <td>0.000000</td>\n",
       "      <td>none</td>\n",
       "    </tr>\n",
       "    <tr>\n",
       "      <th>2024-12-26</th>\n",
       "      <td>1216.599976</td>\n",
       "      <td>1228.000000</td>\n",
       "      <td>1214.449951</td>\n",
       "      <td>0</td>\n",
       "      <td>0.0</td>\n",
       "      <td>0.000000</td>\n",
       "      <td>0.000000</td>\n",
       "      <td>none</td>\n",
       "    </tr>\n",
       "    <tr>\n",
       "      <th>2024-12-27</th>\n",
       "      <td>1220.949951</td>\n",
       "      <td>1227.599976</td>\n",
       "      <td>1216.650024</td>\n",
       "      <td>0</td>\n",
       "      <td>0.0</td>\n",
       "      <td>0.000000</td>\n",
       "      <td>0.000000</td>\n",
       "      <td>none</td>\n",
       "    </tr>\n",
       "    <tr>\n",
       "      <th>2024-12-30</th>\n",
       "      <td>1210.900024</td>\n",
       "      <td>1223.349976</td>\n",
       "      <td>1208.650024</td>\n",
       "      <td>0</td>\n",
       "      <td>0.0</td>\n",
       "      <td>0.000000</td>\n",
       "      <td>0.000000</td>\n",
       "      <td>none</td>\n",
       "    </tr>\n",
       "    <tr>\n",
       "      <th>2024-12-31</th>\n",
       "      <td>1215.449951</td>\n",
       "      <td>1219.050049</td>\n",
       "      <td>1206.400024</td>\n",
       "      <td>0</td>\n",
       "      <td>0.0</td>\n",
       "      <td>0.000000</td>\n",
       "      <td>0.000000</td>\n",
       "      <td>none</td>\n",
       "    </tr>\n",
       "    <tr>\n",
       "      <th>2025-01-01</th>\n",
       "      <td>1221.650024</td>\n",
       "      <td>1226.199951</td>\n",
       "      <td>1212.099976</td>\n",
       "      <td>0</td>\n",
       "      <td>0.0</td>\n",
       "      <td>0.000000</td>\n",
       "      <td>0.000000</td>\n",
       "      <td>none</td>\n",
       "    </tr>\n",
       "    <tr>\n",
       "      <th>2025-01-02</th>\n",
       "      <td>1241.650024</td>\n",
       "      <td>1244.500000</td>\n",
       "      <td>1220.250000</td>\n",
       "      <td>0</td>\n",
       "      <td>0.0</td>\n",
       "      <td>0.000000</td>\n",
       "      <td>0.000000</td>\n",
       "      <td>none</td>\n",
       "    </tr>\n",
       "    <tr>\n",
       "      <th>2025-01-03</th>\n",
       "      <td>1251.349976</td>\n",
       "      <td>1262.300049</td>\n",
       "      <td>1235.599976</td>\n",
       "      <td>0</td>\n",
       "      <td>0.0</td>\n",
       "      <td>0.000000</td>\n",
       "      <td>0.000000</td>\n",
       "      <td>none</td>\n",
       "    </tr>\n",
       "    <tr>\n",
       "      <th>2025-01-06</th>\n",
       "      <td>1218.199951</td>\n",
       "      <td>1261.699951</td>\n",
       "      <td>1215.300049</td>\n",
       "      <td>0</td>\n",
       "      <td>0.0</td>\n",
       "      <td>0.000000</td>\n",
       "      <td>0.000000</td>\n",
       "      <td>none</td>\n",
       "    </tr>\n",
       "    <tr>\n",
       "      <th>2025-01-07</th>\n",
       "      <td>1240.900024</td>\n",
       "      <td>1243.400024</td>\n",
       "      <td>1221.400024</td>\n",
       "      <td>0</td>\n",
       "      <td>0.0</td>\n",
       "      <td>0.000000</td>\n",
       "      <td>0.000000</td>\n",
       "      <td>none</td>\n",
       "    </tr>\n",
       "    <tr>\n",
       "      <th>2025-01-08</th>\n",
       "      <td>1264.699951</td>\n",
       "      <td>1270.699951</td>\n",
       "      <td>1245.000000</td>\n",
       "      <td>0</td>\n",
       "      <td>0.0</td>\n",
       "      <td>0.000000</td>\n",
       "      <td>0.000000</td>\n",
       "      <td>none</td>\n",
       "    </tr>\n",
       "    <tr>\n",
       "      <th>2025-01-09</th>\n",
       "      <td>1255.000000</td>\n",
       "      <td>1269.400024</td>\n",
       "      <td>1248.000000</td>\n",
       "      <td>0</td>\n",
       "      <td>0.0</td>\n",
       "      <td>0.000000</td>\n",
       "      <td>0.000000</td>\n",
       "      <td>none</td>\n",
       "    </tr>\n",
       "    <tr>\n",
       "      <th>2025-01-10</th>\n",
       "      <td>1242.349976</td>\n",
       "      <td>1256.699951</td>\n",
       "      <td>1236.150024</td>\n",
       "      <td>0</td>\n",
       "      <td>0.0</td>\n",
       "      <td>0.000000</td>\n",
       "      <td>0.000000</td>\n",
       "      <td>none</td>\n",
       "    </tr>\n",
       "    <tr>\n",
       "      <th>2025-01-13</th>\n",
       "      <td>1240.050049</td>\n",
       "      <td>1245.150024</td>\n",
       "      <td>1225.599976</td>\n",
       "      <td>0</td>\n",
       "      <td>0.0</td>\n",
       "      <td>0.000000</td>\n",
       "      <td>0.000000</td>\n",
       "      <td>none</td>\n",
       "    </tr>\n",
       "    <tr>\n",
       "      <th>2025-01-14</th>\n",
       "      <td>1238.550049</td>\n",
       "      <td>1255.050049</td>\n",
       "      <td>1227.300049</td>\n",
       "      <td>0</td>\n",
       "      <td>0.0</td>\n",
       "      <td>0.000000</td>\n",
       "      <td>0.000000</td>\n",
       "      <td>none</td>\n",
       "    </tr>\n",
       "    <tr>\n",
       "      <th>2025-01-15</th>\n",
       "      <td>1252.300049</td>\n",
       "      <td>1256.750000</td>\n",
       "      <td>1242.150024</td>\n",
       "      <td>0</td>\n",
       "      <td>0.0</td>\n",
       "      <td>0.000000</td>\n",
       "      <td>0.000000</td>\n",
       "      <td>none</td>\n",
       "    </tr>\n",
       "    <tr>\n",
       "      <th>2025-01-16</th>\n",
       "      <td>1268.699951</td>\n",
       "      <td>1275.000000</td>\n",
       "      <td>1251.400024</td>\n",
       "      <td>0</td>\n",
       "      <td>0.0</td>\n",
       "      <td>0.000000</td>\n",
       "      <td>0.000000</td>\n",
       "      <td>none</td>\n",
       "    </tr>\n",
       "    <tr>\n",
       "      <th>2025-01-17</th>\n",
       "      <td>1301.300049</td>\n",
       "      <td>1325.099976</td>\n",
       "      <td>1284.699951</td>\n",
       "      <td>1</td>\n",
       "      <td>0.0</td>\n",
       "      <td>-0.003992</td>\n",
       "      <td>-0.003992</td>\n",
       "      <td>signal_exit</td>\n",
       "    </tr>\n",
       "    <tr>\n",
       "      <th>2025-01-20</th>\n",
       "      <td>1305.000000</td>\n",
       "      <td>1319.349976</td>\n",
       "      <td>1300.550049</td>\n",
       "      <td>0</td>\n",
       "      <td>0.0</td>\n",
       "      <td>-0.001160</td>\n",
       "      <td>-0.005147</td>\n",
       "      <td>signal_exit</td>\n",
       "    </tr>\n",
       "    <tr>\n",
       "      <th>2025-01-21</th>\n",
       "      <td>1272.949951</td>\n",
       "      <td>1312.849976</td>\n",
       "      <td>1269.550049</td>\n",
       "      <td>0</td>\n",
       "      <td>1.0</td>\n",
       "      <td>0.000000</td>\n",
       "      <td>-0.005147</td>\n",
       "      <td>none</td>\n",
       "    </tr>\n",
       "    <tr>\n",
       "      <th>2025-01-22</th>\n",
       "      <td>1277.300049</td>\n",
       "      <td>1282.900024</td>\n",
       "      <td>1268.800049</td>\n",
       "      <td>0</td>\n",
       "      <td>1.0</td>\n",
       "      <td>0.000000</td>\n",
       "      <td>-0.005147</td>\n",
       "      <td>none</td>\n",
       "    </tr>\n",
       "    <tr>\n",
       "      <th>2025-01-23</th>\n",
       "      <td>1263.849976</td>\n",
       "      <td>1277.250000</td>\n",
       "      <td>1261.550049</td>\n",
       "      <td>0</td>\n",
       "      <td>1.0</td>\n",
       "      <td>0.000000</td>\n",
       "      <td>-0.005147</td>\n",
       "      <td>none</td>\n",
       "    </tr>\n",
       "    <tr>\n",
       "      <th>2025-01-24</th>\n",
       "      <td>1245.900024</td>\n",
       "      <td>1273.099976</td>\n",
       "      <td>1244.000000</td>\n",
       "      <td>0</td>\n",
       "      <td>1.0</td>\n",
       "      <td>0.000000</td>\n",
       "      <td>-0.005147</td>\n",
       "      <td>none</td>\n",
       "    </tr>\n",
       "    <tr>\n",
       "      <th>2025-01-27</th>\n",
       "      <td>1229.300049</td>\n",
       "      <td>1240.449951</td>\n",
       "      <td>1220.050049</td>\n",
       "      <td>0</td>\n",
       "      <td>0.0</td>\n",
       "      <td>-0.051900</td>\n",
       "      <td>-0.056780</td>\n",
       "      <td>stop_loss</td>\n",
       "    </tr>\n",
       "    <tr>\n",
       "      <th>2025-01-28</th>\n",
       "      <td>1233.800049</td>\n",
       "      <td>1244.150024</td>\n",
       "      <td>1218.900024</td>\n",
       "      <td>0</td>\n",
       "      <td>0.0</td>\n",
       "      <td>-0.051900</td>\n",
       "      <td>-0.105733</td>\n",
       "      <td>stop_loss</td>\n",
       "    </tr>\n",
       "    <tr>\n",
       "      <th>2025-01-29</th>\n",
       "      <td>1235.800049</td>\n",
       "      <td>1242.750000</td>\n",
       "      <td>1228.449951</td>\n",
       "      <td>-1</td>\n",
       "      <td>0.0</td>\n",
       "      <td>-0.003992</td>\n",
       "      <td>-0.109303</td>\n",
       "      <td>signal_exit</td>\n",
       "    </tr>\n",
       "    <tr>\n",
       "      <th>2025-01-30</th>\n",
       "      <td>1253.599976</td>\n",
       "      <td>1256.599976</td>\n",
       "      <td>1232.250000</td>\n",
       "      <td>0</td>\n",
       "      <td>0.0</td>\n",
       "      <td>-0.018134</td>\n",
       "      <td>-0.125456</td>\n",
       "      <td>signal_exit</td>\n",
       "    </tr>\n",
       "    <tr>\n",
       "      <th>2025-01-31</th>\n",
       "      <td>1264.900024</td>\n",
       "      <td>1266.000000</td>\n",
       "      <td>1249.500000</td>\n",
       "      <td>0</td>\n",
       "      <td>-1.0</td>\n",
       "      <td>0.000000</td>\n",
       "      <td>-0.125456</td>\n",
       "      <td>none</td>\n",
       "    </tr>\n",
       "    <tr>\n",
       "      <th>2025-02-01</th>\n",
       "      <td>1264.650024</td>\n",
       "      <td>1269.949951</td>\n",
       "      <td>1241.500000</td>\n",
       "      <td>0</td>\n",
       "      <td>-1.0</td>\n",
       "      <td>0.000000</td>\n",
       "      <td>-0.125456</td>\n",
       "      <td>none</td>\n",
       "    </tr>\n",
       "    <tr>\n",
       "      <th>2025-02-03</th>\n",
       "      <td>1245.150024</td>\n",
       "      <td>1255.900024</td>\n",
       "      <td>1238.000000</td>\n",
       "      <td>1</td>\n",
       "      <td>0.0</td>\n",
       "      <td>-0.003992</td>\n",
       "      <td>-0.128947</td>\n",
       "      <td>signal_exit</td>\n",
       "    </tr>\n",
       "    <tr>\n",
       "      <th>2025-02-04</th>\n",
       "      <td>1286.000000</td>\n",
       "      <td>1289.000000</td>\n",
       "      <td>1246.650024</td>\n",
       "      <td>0</td>\n",
       "      <td>0.0</td>\n",
       "      <td>0.028684</td>\n",
       "      <td>-0.103961</td>\n",
       "      <td>signal_exit</td>\n",
       "    </tr>\n",
       "    <tr>\n",
       "      <th>2025-02-05</th>\n",
       "      <td>1278.050049</td>\n",
       "      <td>1290.000000</td>\n",
       "      <td>1276.150024</td>\n",
       "      <td>0</td>\n",
       "      <td>1.0</td>\n",
       "      <td>0.000000</td>\n",
       "      <td>-0.103961</td>\n",
       "      <td>none</td>\n",
       "    </tr>\n",
       "    <tr>\n",
       "      <th>2025-02-06</th>\n",
       "      <td>1281.550049</td>\n",
       "      <td>1287.349976</td>\n",
       "      <td>1270.800049</td>\n",
       "      <td>0</td>\n",
       "      <td>1.0</td>\n",
       "      <td>0.000000</td>\n",
       "      <td>-0.103961</td>\n",
       "      <td>none</td>\n",
       "    </tr>\n",
       "    <tr>\n",
       "      <th>2025-02-07</th>\n",
       "      <td>1266.849976</td>\n",
       "      <td>1284.750000</td>\n",
       "      <td>1262.000000</td>\n",
       "      <td>0</td>\n",
       "      <td>1.0</td>\n",
       "      <td>0.000000</td>\n",
       "      <td>-0.103961</td>\n",
       "      <td>none</td>\n",
       "    </tr>\n",
       "  </tbody>\n",
       "</table>\n",
       "</div>"
      ],
      "text/plain": [
       "                  close         high  ...  cumulative_return    exit_type\n",
       "date                                  ...                                \n",
       "2024-12-23  1222.099976  1227.000000  ...           0.000000         none\n",
       "2024-12-24  1223.500000  1233.449951  ...           0.000000         none\n",
       "2024-12-26  1216.599976  1228.000000  ...           0.000000         none\n",
       "2024-12-27  1220.949951  1227.599976  ...           0.000000         none\n",
       "2024-12-30  1210.900024  1223.349976  ...           0.000000         none\n",
       "2024-12-31  1215.449951  1219.050049  ...           0.000000         none\n",
       "2025-01-01  1221.650024  1226.199951  ...           0.000000         none\n",
       "2025-01-02  1241.650024  1244.500000  ...           0.000000         none\n",
       "2025-01-03  1251.349976  1262.300049  ...           0.000000         none\n",
       "2025-01-06  1218.199951  1261.699951  ...           0.000000         none\n",
       "2025-01-07  1240.900024  1243.400024  ...           0.000000         none\n",
       "2025-01-08  1264.699951  1270.699951  ...           0.000000         none\n",
       "2025-01-09  1255.000000  1269.400024  ...           0.000000         none\n",
       "2025-01-10  1242.349976  1256.699951  ...           0.000000         none\n",
       "2025-01-13  1240.050049  1245.150024  ...           0.000000         none\n",
       "2025-01-14  1238.550049  1255.050049  ...           0.000000         none\n",
       "2025-01-15  1252.300049  1256.750000  ...           0.000000         none\n",
       "2025-01-16  1268.699951  1275.000000  ...           0.000000         none\n",
       "2025-01-17  1301.300049  1325.099976  ...          -0.003992  signal_exit\n",
       "2025-01-20  1305.000000  1319.349976  ...          -0.005147  signal_exit\n",
       "2025-01-21  1272.949951  1312.849976  ...          -0.005147         none\n",
       "2025-01-22  1277.300049  1282.900024  ...          -0.005147         none\n",
       "2025-01-23  1263.849976  1277.250000  ...          -0.005147         none\n",
       "2025-01-24  1245.900024  1273.099976  ...          -0.005147         none\n",
       "2025-01-27  1229.300049  1240.449951  ...          -0.056780    stop_loss\n",
       "2025-01-28  1233.800049  1244.150024  ...          -0.105733    stop_loss\n",
       "2025-01-29  1235.800049  1242.750000  ...          -0.109303  signal_exit\n",
       "2025-01-30  1253.599976  1256.599976  ...          -0.125456  signal_exit\n",
       "2025-01-31  1264.900024  1266.000000  ...          -0.125456         none\n",
       "2025-02-01  1264.650024  1269.949951  ...          -0.125456         none\n",
       "2025-02-03  1245.150024  1255.900024  ...          -0.128947  signal_exit\n",
       "2025-02-04  1286.000000  1289.000000  ...          -0.103961  signal_exit\n",
       "2025-02-05  1278.050049  1290.000000  ...          -0.103961         none\n",
       "2025-02-06  1281.550049  1287.349976  ...          -0.103961         none\n",
       "2025-02-07  1266.849976  1284.750000  ...          -0.103961         none\n",
       "\n",
       "[35 rows x 8 columns]"
      ]
     },
     "execution_count": 6,
     "metadata": {},
     "output_type": "execute_result"
    }
   ],
   "source": [
    "signals_df"
   ]
  },
  {
   "cell_type": "code",
   "execution_count": 3,
   "metadata": {},
   "outputs": [],
   "source": [
    "import pandas as pd\n",
    "\n",
    "tickers = pd.read_excel(\"../data/ticker.xlsx\")\n",
    "tickers = tickers[~tickers[\"Security Name\"].duplicated()]\n",
    "tickers.reset_index(drop=True, inplace=True)\n",
    "\n",
    "def add_ticker_suffix(x):\n",
    "    if x[\"Exchange\"]==\"BSE\":\n",
    "        return x[\"Security Name\"] + \".BO\"\n",
    "    else:\n",
    "        return x[\"Security Name\"] + \".NS\"\n",
    "\n",
    "tickers[\"Ticker\"] = tickers.apply(add_ticker_suffix, axis = 1)\n",
    "all_tickers = tickers[\"Ticker\"].tolist()"
   ]
  },
  {
   "cell_type": "code",
   "execution_count": 8,
   "metadata": {},
   "outputs": [
    {
     "data": {
      "text/html": [
       "<div>\n",
       "<style scoped>\n",
       "    .dataframe tbody tr th:only-of-type {\n",
       "        vertical-align: middle;\n",
       "    }\n",
       "\n",
       "    .dataframe tbody tr th {\n",
       "        vertical-align: top;\n",
       "    }\n",
       "\n",
       "    .dataframe thead th {\n",
       "        text-align: right;\n",
       "    }\n",
       "</style>\n",
       "<table border=\"1\" class=\"dataframe\">\n",
       "  <thead>\n",
       "    <tr style=\"text-align: right;\">\n",
       "      <th></th>\n",
       "      <th>close</th>\n",
       "      <th>high</th>\n",
       "      <th>low</th>\n",
       "      <th>signal</th>\n",
       "      <th>position</th>\n",
       "      <th>return</th>\n",
       "      <th>cumulative_return</th>\n",
       "      <th>exit_type</th>\n",
       "    </tr>\n",
       "    <tr>\n",
       "      <th>date</th>\n",
       "      <th></th>\n",
       "      <th></th>\n",
       "      <th></th>\n",
       "      <th></th>\n",
       "      <th></th>\n",
       "      <th></th>\n",
       "      <th></th>\n",
       "      <th></th>\n",
       "    </tr>\n",
       "  </thead>\n",
       "  <tbody>\n",
       "    <tr>\n",
       "      <th>2024-12-23</th>\n",
       "      <td>4353.649902</td>\n",
       "      <td>4399.000000</td>\n",
       "      <td>4287.250000</td>\n",
       "      <td>0</td>\n",
       "      <td>0.0</td>\n",
       "      <td>0.000000</td>\n",
       "      <td>0.000000</td>\n",
       "      <td>none</td>\n",
       "    </tr>\n",
       "    <tr>\n",
       "      <th>2024-12-24</th>\n",
       "      <td>4344.649902</td>\n",
       "      <td>4441.799805</td>\n",
       "      <td>4300.000000</td>\n",
       "      <td>0</td>\n",
       "      <td>0.0</td>\n",
       "      <td>0.000000</td>\n",
       "      <td>0.000000</td>\n",
       "      <td>none</td>\n",
       "    </tr>\n",
       "    <tr>\n",
       "      <th>2024-12-26</th>\n",
       "      <td>4357.899902</td>\n",
       "      <td>4367.200195</td>\n",
       "      <td>4315.000000</td>\n",
       "      <td>0</td>\n",
       "      <td>0.0</td>\n",
       "      <td>0.000000</td>\n",
       "      <td>0.000000</td>\n",
       "      <td>none</td>\n",
       "    </tr>\n",
       "    <tr>\n",
       "      <th>2024-12-27</th>\n",
       "      <td>4396.399902</td>\n",
       "      <td>4445.350098</td>\n",
       "      <td>4355.250000</td>\n",
       "      <td>0</td>\n",
       "      <td>0.0</td>\n",
       "      <td>0.000000</td>\n",
       "      <td>0.000000</td>\n",
       "      <td>none</td>\n",
       "    </tr>\n",
       "    <tr>\n",
       "      <th>2024-12-30</th>\n",
       "      <td>4129.000000</td>\n",
       "      <td>4320.000000</td>\n",
       "      <td>4104.299805</td>\n",
       "      <td>0</td>\n",
       "      <td>0.0</td>\n",
       "      <td>0.000000</td>\n",
       "      <td>0.000000</td>\n",
       "      <td>none</td>\n",
       "    </tr>\n",
       "    <tr>\n",
       "      <th>2024-12-31</th>\n",
       "      <td>4135.000000</td>\n",
       "      <td>4226.250000</td>\n",
       "      <td>4007.050049</td>\n",
       "      <td>0</td>\n",
       "      <td>0.0</td>\n",
       "      <td>0.000000</td>\n",
       "      <td>0.000000</td>\n",
       "      <td>none</td>\n",
       "    </tr>\n",
       "    <tr>\n",
       "      <th>2025-01-01</th>\n",
       "      <td>4239.399902</td>\n",
       "      <td>4258.299805</td>\n",
       "      <td>4160.000000</td>\n",
       "      <td>0</td>\n",
       "      <td>0.0</td>\n",
       "      <td>0.000000</td>\n",
       "      <td>0.000000</td>\n",
       "      <td>none</td>\n",
       "    </tr>\n",
       "    <tr>\n",
       "      <th>2025-01-02</th>\n",
       "      <td>4233.250000</td>\n",
       "      <td>4247.500000</td>\n",
       "      <td>4154.649902</td>\n",
       "      <td>0</td>\n",
       "      <td>0.0</td>\n",
       "      <td>0.000000</td>\n",
       "      <td>0.000000</td>\n",
       "      <td>none</td>\n",
       "    </tr>\n",
       "    <tr>\n",
       "      <th>2025-01-03</th>\n",
       "      <td>4121.700195</td>\n",
       "      <td>4249.299805</td>\n",
       "      <td>4102.549805</td>\n",
       "      <td>0</td>\n",
       "      <td>0.0</td>\n",
       "      <td>0.000000</td>\n",
       "      <td>0.000000</td>\n",
       "      <td>none</td>\n",
       "    </tr>\n",
       "    <tr>\n",
       "      <th>2025-01-06</th>\n",
       "      <td>3871.100098</td>\n",
       "      <td>4121.700195</td>\n",
       "      <td>3850.000000</td>\n",
       "      <td>-1</td>\n",
       "      <td>0.0</td>\n",
       "      <td>-0.045710</td>\n",
       "      <td>-0.045710</td>\n",
       "      <td>stop_loss</td>\n",
       "    </tr>\n",
       "    <tr>\n",
       "      <th>2025-01-07</th>\n",
       "      <td>3926.850098</td>\n",
       "      <td>3988.000000</td>\n",
       "      <td>3896.350098</td>\n",
       "      <td>0</td>\n",
       "      <td>0.0</td>\n",
       "      <td>-0.018132</td>\n",
       "      <td>-0.063014</td>\n",
       "      <td>signal_exit</td>\n",
       "    </tr>\n",
       "    <tr>\n",
       "      <th>2025-01-08</th>\n",
       "      <td>3904.800049</td>\n",
       "      <td>3960.600098</td>\n",
       "      <td>3878.800049</td>\n",
       "      <td>0</td>\n",
       "      <td>-1.0</td>\n",
       "      <td>0.000000</td>\n",
       "      <td>-0.063014</td>\n",
       "      <td>none</td>\n",
       "    </tr>\n",
       "    <tr>\n",
       "      <th>2025-01-09</th>\n",
       "      <td>3946.000000</td>\n",
       "      <td>4249.000000</td>\n",
       "      <td>3870.500000</td>\n",
       "      <td>0</td>\n",
       "      <td>0.0</td>\n",
       "      <td>-0.045710</td>\n",
       "      <td>-0.105844</td>\n",
       "      <td>stop_loss</td>\n",
       "    </tr>\n",
       "    <tr>\n",
       "      <th>2025-01-10</th>\n",
       "      <td>3793.800049</td>\n",
       "      <td>3947.500000</td>\n",
       "      <td>3767.050049</td>\n",
       "      <td>0</td>\n",
       "      <td>-1.0</td>\n",
       "      <td>0.000000</td>\n",
       "      <td>-0.105844</td>\n",
       "      <td>none</td>\n",
       "    </tr>\n",
       "    <tr>\n",
       "      <th>2025-01-13</th>\n",
       "      <td>3726.600098</td>\n",
       "      <td>3750.000000</td>\n",
       "      <td>3529.300049</td>\n",
       "      <td>0</td>\n",
       "      <td>-1.0</td>\n",
       "      <td>0.000000</td>\n",
       "      <td>-0.105844</td>\n",
       "      <td>none</td>\n",
       "    </tr>\n",
       "    <tr>\n",
       "      <th>2025-01-14</th>\n",
       "      <td>3666.600098</td>\n",
       "      <td>3735.699951</td>\n",
       "      <td>3620.000000</td>\n",
       "      <td>0</td>\n",
       "      <td>-1.0</td>\n",
       "      <td>0.000000</td>\n",
       "      <td>-0.105844</td>\n",
       "      <td>none</td>\n",
       "    </tr>\n",
       "    <tr>\n",
       "      <th>2025-01-15</th>\n",
       "      <td>3741.750000</td>\n",
       "      <td>3765.000000</td>\n",
       "      <td>3623.399902</td>\n",
       "      <td>0</td>\n",
       "      <td>-1.0</td>\n",
       "      <td>0.000000</td>\n",
       "      <td>-0.105844</td>\n",
       "      <td>none</td>\n",
       "    </tr>\n",
       "    <tr>\n",
       "      <th>2025-01-16</th>\n",
       "      <td>3821.199951</td>\n",
       "      <td>3848.649902</td>\n",
       "      <td>3657.800049</td>\n",
       "      <td>0</td>\n",
       "      <td>-1.0</td>\n",
       "      <td>0.000000</td>\n",
       "      <td>-0.105844</td>\n",
       "      <td>none</td>\n",
       "    </tr>\n",
       "    <tr>\n",
       "      <th>2025-01-17</th>\n",
       "      <td>3775.750000</td>\n",
       "      <td>3815.399902</td>\n",
       "      <td>3755.850098</td>\n",
       "      <td>0</td>\n",
       "      <td>-1.0</td>\n",
       "      <td>0.000000</td>\n",
       "      <td>-0.105844</td>\n",
       "      <td>none</td>\n",
       "    </tr>\n",
       "    <tr>\n",
       "      <th>2025-01-20</th>\n",
       "      <td>3755.250000</td>\n",
       "      <td>3773.300049</td>\n",
       "      <td>3716.050049</td>\n",
       "      <td>0</td>\n",
       "      <td>-1.0</td>\n",
       "      <td>0.000000</td>\n",
       "      <td>-0.105844</td>\n",
       "      <td>none</td>\n",
       "    </tr>\n",
       "    <tr>\n",
       "      <th>2025-01-21</th>\n",
       "      <td>3783.699951</td>\n",
       "      <td>3884.800049</td>\n",
       "      <td>3702.300049</td>\n",
       "      <td>0</td>\n",
       "      <td>-1.0</td>\n",
       "      <td>0.000000</td>\n",
       "      <td>-0.105844</td>\n",
       "      <td>none</td>\n",
       "    </tr>\n",
       "    <tr>\n",
       "      <th>2025-01-22</th>\n",
       "      <td>3680.149902</td>\n",
       "      <td>3879.600098</td>\n",
       "      <td>3620.000000</td>\n",
       "      <td>0</td>\n",
       "      <td>-1.0</td>\n",
       "      <td>0.000000</td>\n",
       "      <td>-0.105844</td>\n",
       "      <td>none</td>\n",
       "    </tr>\n",
       "    <tr>\n",
       "      <th>2025-01-23</th>\n",
       "      <td>3719.550049</td>\n",
       "      <td>3763.250000</td>\n",
       "      <td>3620.050049</td>\n",
       "      <td>0</td>\n",
       "      <td>-1.0</td>\n",
       "      <td>0.000000</td>\n",
       "      <td>-0.105844</td>\n",
       "      <td>none</td>\n",
       "    </tr>\n",
       "    <tr>\n",
       "      <th>2025-01-24</th>\n",
       "      <td>3600.550049</td>\n",
       "      <td>3791.850098</td>\n",
       "      <td>3566.600098</td>\n",
       "      <td>0</td>\n",
       "      <td>-1.0</td>\n",
       "      <td>0.000000</td>\n",
       "      <td>-0.105844</td>\n",
       "      <td>none</td>\n",
       "    </tr>\n",
       "    <tr>\n",
       "      <th>2025-01-27</th>\n",
       "      <td>3534.850098</td>\n",
       "      <td>3607.199951</td>\n",
       "      <td>3270.000000</td>\n",
       "      <td>0</td>\n",
       "      <td>0.0</td>\n",
       "      <td>0.113338</td>\n",
       "      <td>-0.004503</td>\n",
       "      <td>take_profit</td>\n",
       "    </tr>\n",
       "    <tr>\n",
       "      <th>2025-01-28</th>\n",
       "      <td>3344.050049</td>\n",
       "      <td>3524.600098</td>\n",
       "      <td>3315.550049</td>\n",
       "      <td>0</td>\n",
       "      <td>0.0</td>\n",
       "      <td>0.113338</td>\n",
       "      <td>0.108325</td>\n",
       "      <td>take_profit</td>\n",
       "    </tr>\n",
       "    <tr>\n",
       "      <th>2025-01-29</th>\n",
       "      <td>3533.550049</td>\n",
       "      <td>3604.899902</td>\n",
       "      <td>3300.000000</td>\n",
       "      <td>0</td>\n",
       "      <td>0.0</td>\n",
       "      <td>0.113338</td>\n",
       "      <td>0.233940</td>\n",
       "      <td>take_profit</td>\n",
       "    </tr>\n",
       "    <tr>\n",
       "      <th>2025-01-30</th>\n",
       "      <td>3591.600098</td>\n",
       "      <td>3711.500000</td>\n",
       "      <td>3536.850098</td>\n",
       "      <td>0</td>\n",
       "      <td>-1.0</td>\n",
       "      <td>0.000000</td>\n",
       "      <td>0.233940</td>\n",
       "      <td>none</td>\n",
       "    </tr>\n",
       "    <tr>\n",
       "      <th>2025-01-31</th>\n",
       "      <td>3578.050049</td>\n",
       "      <td>3615.949951</td>\n",
       "      <td>3535.000000</td>\n",
       "      <td>0</td>\n",
       "      <td>-1.0</td>\n",
       "      <td>0.000000</td>\n",
       "      <td>0.233940</td>\n",
       "      <td>none</td>\n",
       "    </tr>\n",
       "    <tr>\n",
       "      <th>2025-02-01</th>\n",
       "      <td>3570.550049</td>\n",
       "      <td>3655.800049</td>\n",
       "      <td>3486.000000</td>\n",
       "      <td>0</td>\n",
       "      <td>-1.0</td>\n",
       "      <td>0.000000</td>\n",
       "      <td>0.233940</td>\n",
       "      <td>none</td>\n",
       "    </tr>\n",
       "    <tr>\n",
       "      <th>2025-02-03</th>\n",
       "      <td>3609.550049</td>\n",
       "      <td>3642.100098</td>\n",
       "      <td>3468.550049</td>\n",
       "      <td>0</td>\n",
       "      <td>0.0</td>\n",
       "      <td>0.113338</td>\n",
       "      <td>0.373792</td>\n",
       "      <td>take_profit</td>\n",
       "    </tr>\n",
       "    <tr>\n",
       "      <th>2025-02-04</th>\n",
       "      <td>3716.600098</td>\n",
       "      <td>3729.500000</td>\n",
       "      <td>3618.899902</td>\n",
       "      <td>0</td>\n",
       "      <td>-1.0</td>\n",
       "      <td>0.000000</td>\n",
       "      <td>0.373792</td>\n",
       "      <td>none</td>\n",
       "    </tr>\n",
       "    <tr>\n",
       "      <th>2025-02-05</th>\n",
       "      <td>3679.850098</td>\n",
       "      <td>3759.949951</td>\n",
       "      <td>3648.100098</td>\n",
       "      <td>0</td>\n",
       "      <td>-1.0</td>\n",
       "      <td>0.000000</td>\n",
       "      <td>0.373792</td>\n",
       "      <td>none</td>\n",
       "    </tr>\n",
       "    <tr>\n",
       "      <th>2025-02-06</th>\n",
       "      <td>3704.399902</td>\n",
       "      <td>3728.050049</td>\n",
       "      <td>3665.649902</td>\n",
       "      <td>0</td>\n",
       "      <td>-1.0</td>\n",
       "      <td>0.000000</td>\n",
       "      <td>0.373792</td>\n",
       "      <td>none</td>\n",
       "    </tr>\n",
       "    <tr>\n",
       "      <th>2025-02-07</th>\n",
       "      <td>3701.300049</td>\n",
       "      <td>3735.000000</td>\n",
       "      <td>3672.949951</td>\n",
       "      <td>0</td>\n",
       "      <td>-1.0</td>\n",
       "      <td>0.000000</td>\n",
       "      <td>0.373792</td>\n",
       "      <td>none</td>\n",
       "    </tr>\n",
       "  </tbody>\n",
       "</table>\n",
       "</div>"
      ],
      "text/plain": [
       "                  close         high  ...  cumulative_return    exit_type\n",
       "date                                  ...                                \n",
       "2024-12-23  4353.649902  4399.000000  ...           0.000000         none\n",
       "2024-12-24  4344.649902  4441.799805  ...           0.000000         none\n",
       "2024-12-26  4357.899902  4367.200195  ...           0.000000         none\n",
       "2024-12-27  4396.399902  4445.350098  ...           0.000000         none\n",
       "2024-12-30  4129.000000  4320.000000  ...           0.000000         none\n",
       "2024-12-31  4135.000000  4226.250000  ...           0.000000         none\n",
       "2025-01-01  4239.399902  4258.299805  ...           0.000000         none\n",
       "2025-01-02  4233.250000  4247.500000  ...           0.000000         none\n",
       "2025-01-03  4121.700195  4249.299805  ...           0.000000         none\n",
       "2025-01-06  3871.100098  4121.700195  ...          -0.045710    stop_loss\n",
       "2025-01-07  3926.850098  3988.000000  ...          -0.063014  signal_exit\n",
       "2025-01-08  3904.800049  3960.600098  ...          -0.063014         none\n",
       "2025-01-09  3946.000000  4249.000000  ...          -0.105844    stop_loss\n",
       "2025-01-10  3793.800049  3947.500000  ...          -0.105844         none\n",
       "2025-01-13  3726.600098  3750.000000  ...          -0.105844         none\n",
       "2025-01-14  3666.600098  3735.699951  ...          -0.105844         none\n",
       "2025-01-15  3741.750000  3765.000000  ...          -0.105844         none\n",
       "2025-01-16  3821.199951  3848.649902  ...          -0.105844         none\n",
       "2025-01-17  3775.750000  3815.399902  ...          -0.105844         none\n",
       "2025-01-20  3755.250000  3773.300049  ...          -0.105844         none\n",
       "2025-01-21  3783.699951  3884.800049  ...          -0.105844         none\n",
       "2025-01-22  3680.149902  3879.600098  ...          -0.105844         none\n",
       "2025-01-23  3719.550049  3763.250000  ...          -0.105844         none\n",
       "2025-01-24  3600.550049  3791.850098  ...          -0.105844         none\n",
       "2025-01-27  3534.850098  3607.199951  ...          -0.004503  take_profit\n",
       "2025-01-28  3344.050049  3524.600098  ...           0.108325  take_profit\n",
       "2025-01-29  3533.550049  3604.899902  ...           0.233940  take_profit\n",
       "2025-01-30  3591.600098  3711.500000  ...           0.233940         none\n",
       "2025-01-31  3578.050049  3615.949951  ...           0.233940         none\n",
       "2025-02-01  3570.550049  3655.800049  ...           0.233940         none\n",
       "2025-02-03  3609.550049  3642.100098  ...           0.373792  take_profit\n",
       "2025-02-04  3716.600098  3729.500000  ...           0.373792         none\n",
       "2025-02-05  3679.850098  3759.949951  ...           0.373792         none\n",
       "2025-02-06  3704.399902  3728.050049  ...           0.373792         none\n",
       "2025-02-07  3701.300049  3735.000000  ...           0.373792         none\n",
       "\n",
       "[35 rows x 8 columns]"
      ]
     },
     "execution_count": 8,
     "metadata": {},
     "output_type": "execute_result"
    }
   ],
   "source": [
    "# Now you can use ao_strategy to generate signals, and it will use the database engine\n",
    "signals_df = ao_strategy.generate_signals(ticker=all_tickers[200])\n",
    "signals_df"
   ]
  },
  {
   "cell_type": "code",
   "execution_count": 22,
   "metadata": {},
   "outputs": [],
   "source": [
    "from src.database.utils import query_to_dataframe\n"
   ]
  },
  {
   "cell_type": "code",
   "execution_count": 31,
   "metadata": {},
   "outputs": [],
   "source": [
    "ticker = all_tickers[500]\n",
    "a = query_to_dataframe(f\"SELECT * FROM daily_prices WHERE ticker = '{ticker}'\", db_path='../data/trading_system.db')\n"
   ]
  },
  {
   "cell_type": "code",
   "execution_count": 32,
   "metadata": {},
   "outputs": [
    {
     "data": {
      "text/html": [
       "<div>\n",
       "<style scoped>\n",
       "    .dataframe tbody tr th:only-of-type {\n",
       "        vertical-align: middle;\n",
       "    }\n",
       "\n",
       "    .dataframe tbody tr th {\n",
       "        vertical-align: top;\n",
       "    }\n",
       "\n",
       "    .dataframe thead th {\n",
       "        text-align: right;\n",
       "    }\n",
       "</style>\n",
       "<table border=\"1\" class=\"dataframe\">\n",
       "  <thead>\n",
       "    <tr style=\"text-align: right;\">\n",
       "      <th></th>\n",
       "      <th>index</th>\n",
       "      <th>date</th>\n",
       "      <th>open</th>\n",
       "      <th>high</th>\n",
       "      <th>low</th>\n",
       "      <th>close</th>\n",
       "      <th>volume</th>\n",
       "      <th>Dividends</th>\n",
       "      <th>Stock Splits</th>\n",
       "      <th>ticker</th>\n",
       "      <th>updated_at</th>\n",
       "      <th>data_source</th>\n",
       "    </tr>\n",
       "  </thead>\n",
       "  <tbody>\n",
       "    <tr>\n",
       "      <th>0</th>\n",
       "      <td>0</td>\n",
       "      <td>2019-04-16 00:00:00.000000</td>\n",
       "      <td>611.682461</td>\n",
       "      <td>645.310490</td>\n",
       "      <td>608.783492</td>\n",
       "      <td>632.748291</td>\n",
       "      <td>22985293</td>\n",
       "      <td>0.0</td>\n",
       "      <td>0.0</td>\n",
       "      <td>POLYCAB.NS</td>\n",
       "      <td>2025-02-09 11:09:58.604788</td>\n",
       "      <td>yfinance</td>\n",
       "    </tr>\n",
       "    <tr>\n",
       "      <th>1</th>\n",
       "      <td>1</td>\n",
       "      <td>2019-04-18 00:00:00.000000</td>\n",
       "      <td>634.777646</td>\n",
       "      <td>642.508230</td>\n",
       "      <td>593.322362</td>\n",
       "      <td>621.877197</td>\n",
       "      <td>5415019</td>\n",
       "      <td>0.0</td>\n",
       "      <td>0.0</td>\n",
       "      <td>POLYCAB.NS</td>\n",
       "      <td>2025-02-09 11:09:58.604788</td>\n",
       "      <td>yfinance</td>\n",
       "    </tr>\n",
       "    <tr>\n",
       "      <th>2</th>\n",
       "      <td>2</td>\n",
       "      <td>2019-04-22 00:00:00.000000</td>\n",
       "      <td>621.345810</td>\n",
       "      <td>624.051503</td>\n",
       "      <td>604.193573</td>\n",
       "      <td>606.947571</td>\n",
       "      <td>1059760</td>\n",
       "      <td>0.0</td>\n",
       "      <td>0.0</td>\n",
       "      <td>POLYCAB.NS</td>\n",
       "      <td>2025-02-09 11:09:58.604788</td>\n",
       "      <td>yfinance</td>\n",
       "    </tr>\n",
       "    <tr>\n",
       "      <th>3</th>\n",
       "      <td>3</td>\n",
       "      <td>2019-04-23 00:00:00.000000</td>\n",
       "      <td>606.850875</td>\n",
       "      <td>626.177336</td>\n",
       "      <td>606.850875</td>\n",
       "      <td>612.745422</td>\n",
       "      <td>1208860</td>\n",
       "      <td>0.0</td>\n",
       "      <td>0.0</td>\n",
       "      <td>POLYCAB.NS</td>\n",
       "      <td>2025-02-09 11:09:58.604788</td>\n",
       "      <td>yfinance</td>\n",
       "    </tr>\n",
       "    <tr>\n",
       "      <th>4</th>\n",
       "      <td>4</td>\n",
       "      <td>2019-04-24 00:00:00.000000</td>\n",
       "      <td>615.064622</td>\n",
       "      <td>618.446752</td>\n",
       "      <td>607.092457</td>\n",
       "      <td>616.030945</td>\n",
       "      <td>1016453</td>\n",
       "      <td>0.0</td>\n",
       "      <td>0.0</td>\n",
       "      <td>POLYCAB.NS</td>\n",
       "      <td>2025-02-09 11:09:58.604788</td>\n",
       "      <td>yfinance</td>\n",
       "    </tr>\n",
       "    <tr>\n",
       "      <th>...</th>\n",
       "      <td>...</td>\n",
       "      <td>...</td>\n",
       "      <td>...</td>\n",
       "      <td>...</td>\n",
       "      <td>...</td>\n",
       "      <td>...</td>\n",
       "      <td>...</td>\n",
       "      <td>...</td>\n",
       "      <td>...</td>\n",
       "      <td>...</td>\n",
       "      <td>...</td>\n",
       "      <td>...</td>\n",
       "    </tr>\n",
       "    <tr>\n",
       "      <th>1433</th>\n",
       "      <td>1433</td>\n",
       "      <td>2025-02-03 00:00:00.000000</td>\n",
       "      <td>5834.450195</td>\n",
       "      <td>5919.799805</td>\n",
       "      <td>5745.049805</td>\n",
       "      <td>5857.750000</td>\n",
       "      <td>405813</td>\n",
       "      <td>0.0</td>\n",
       "      <td>0.0</td>\n",
       "      <td>POLYCAB.NS</td>\n",
       "      <td>2025-02-09 11:09:58.604788</td>\n",
       "      <td>yfinance</td>\n",
       "    </tr>\n",
       "    <tr>\n",
       "      <th>1434</th>\n",
       "      <td>1434</td>\n",
       "      <td>2025-02-04 00:00:00.000000</td>\n",
       "      <td>5866.700195</td>\n",
       "      <td>5987.000000</td>\n",
       "      <td>5860.049805</td>\n",
       "      <td>5963.899902</td>\n",
       "      <td>326464</td>\n",
       "      <td>0.0</td>\n",
       "      <td>0.0</td>\n",
       "      <td>POLYCAB.NS</td>\n",
       "      <td>2025-02-09 11:09:58.604788</td>\n",
       "      <td>yfinance</td>\n",
       "    </tr>\n",
       "    <tr>\n",
       "      <th>1435</th>\n",
       "      <td>1435</td>\n",
       "      <td>2025-02-05 00:00:00.000000</td>\n",
       "      <td>6039.000000</td>\n",
       "      <td>6092.250000</td>\n",
       "      <td>5964.549805</td>\n",
       "      <td>6037.299805</td>\n",
       "      <td>341372</td>\n",
       "      <td>0.0</td>\n",
       "      <td>0.0</td>\n",
       "      <td>POLYCAB.NS</td>\n",
       "      <td>2025-02-09 11:09:58.604788</td>\n",
       "      <td>yfinance</td>\n",
       "    </tr>\n",
       "    <tr>\n",
       "      <th>1436</th>\n",
       "      <td>1436</td>\n",
       "      <td>2025-02-06 00:00:00.000000</td>\n",
       "      <td>6058.399902</td>\n",
       "      <td>6062.600098</td>\n",
       "      <td>5850.000000</td>\n",
       "      <td>5859.000000</td>\n",
       "      <td>191057</td>\n",
       "      <td>0.0</td>\n",
       "      <td>0.0</td>\n",
       "      <td>POLYCAB.NS</td>\n",
       "      <td>2025-02-09 11:09:58.604788</td>\n",
       "      <td>yfinance</td>\n",
       "    </tr>\n",
       "    <tr>\n",
       "      <th>1437</th>\n",
       "      <td>1437</td>\n",
       "      <td>2025-02-07 00:00:00.000000</td>\n",
       "      <td>5889.899902</td>\n",
       "      <td>5950.000000</td>\n",
       "      <td>5828.049805</td>\n",
       "      <td>5869.700195</td>\n",
       "      <td>158629</td>\n",
       "      <td>0.0</td>\n",
       "      <td>0.0</td>\n",
       "      <td>POLYCAB.NS</td>\n",
       "      <td>2025-02-09 11:09:58.604788</td>\n",
       "      <td>yfinance</td>\n",
       "    </tr>\n",
       "  </tbody>\n",
       "</table>\n",
       "<p>1438 rows × 12 columns</p>\n",
       "</div>"
      ],
      "text/plain": [
       "      index                        date         open         high  \\\n",
       "0         0  2019-04-16 00:00:00.000000   611.682461   645.310490   \n",
       "1         1  2019-04-18 00:00:00.000000   634.777646   642.508230   \n",
       "2         2  2019-04-22 00:00:00.000000   621.345810   624.051503   \n",
       "3         3  2019-04-23 00:00:00.000000   606.850875   626.177336   \n",
       "4         4  2019-04-24 00:00:00.000000   615.064622   618.446752   \n",
       "...     ...                         ...          ...          ...   \n",
       "1433   1433  2025-02-03 00:00:00.000000  5834.450195  5919.799805   \n",
       "1434   1434  2025-02-04 00:00:00.000000  5866.700195  5987.000000   \n",
       "1435   1435  2025-02-05 00:00:00.000000  6039.000000  6092.250000   \n",
       "1436   1436  2025-02-06 00:00:00.000000  6058.399902  6062.600098   \n",
       "1437   1437  2025-02-07 00:00:00.000000  5889.899902  5950.000000   \n",
       "\n",
       "              low        close    volume  Dividends  Stock Splits      ticker  \\\n",
       "0      608.783492   632.748291  22985293        0.0           0.0  POLYCAB.NS   \n",
       "1      593.322362   621.877197   5415019        0.0           0.0  POLYCAB.NS   \n",
       "2      604.193573   606.947571   1059760        0.0           0.0  POLYCAB.NS   \n",
       "3      606.850875   612.745422   1208860        0.0           0.0  POLYCAB.NS   \n",
       "4      607.092457   616.030945   1016453        0.0           0.0  POLYCAB.NS   \n",
       "...           ...          ...       ...        ...           ...         ...   \n",
       "1433  5745.049805  5857.750000    405813        0.0           0.0  POLYCAB.NS   \n",
       "1434  5860.049805  5963.899902    326464        0.0           0.0  POLYCAB.NS   \n",
       "1435  5964.549805  6037.299805    341372        0.0           0.0  POLYCAB.NS   \n",
       "1436  5850.000000  5859.000000    191057        0.0           0.0  POLYCAB.NS   \n",
       "1437  5828.049805  5869.700195    158629        0.0           0.0  POLYCAB.NS   \n",
       "\n",
       "                      updated_at data_source  \n",
       "0     2025-02-09 11:09:58.604788    yfinance  \n",
       "1     2025-02-09 11:09:58.604788    yfinance  \n",
       "2     2025-02-09 11:09:58.604788    yfinance  \n",
       "3     2025-02-09 11:09:58.604788    yfinance  \n",
       "4     2025-02-09 11:09:58.604788    yfinance  \n",
       "...                          ...         ...  \n",
       "1433  2025-02-09 11:09:58.604788    yfinance  \n",
       "1434  2025-02-09 11:09:58.604788    yfinance  \n",
       "1435  2025-02-09 11:09:58.604788    yfinance  \n",
       "1436  2025-02-09 11:09:58.604788    yfinance  \n",
       "1437  2025-02-09 11:09:58.604788    yfinance  \n",
       "\n",
       "[1438 rows x 12 columns]"
      ]
     },
     "execution_count": 32,
     "metadata": {},
     "output_type": "execute_result"
    }
   ],
   "source": [
    "a"
   ]
  },
  {
   "cell_type": "code",
   "execution_count": 30,
   "metadata": {},
   "outputs": [
    {
     "data": {
      "text/plain": [
       "np.int64(4)"
      ]
     },
     "execution_count": 30,
     "metadata": {},
     "output_type": "execute_result"
    }
   ],
   "source": [
    "a['date'].duplicated().sum()"
   ]
  },
  {
   "cell_type": "code",
   "execution_count": 40,
   "metadata": {},
   "outputs": [
    {
     "name": "stderr",
     "output_type": "stream",
     "text": [
      "Insufficient data for analysis\n",
      "Insufficient data for AO calculation for KAMAHOLD.BO. Required 36 records.\n"
     ]
    }
   ],
   "source": [
    "for i in range(0, len(all_tickers)):\n",
    "    ticker = all_tickers[i]\n",
    "    a = ao_strategy.generate_signals(ticker)\n",
    "    a['ticker'] = ticker\n",
    "    if i == 0:\n",
    "        df = a\n",
    "    else:\n",
    "        df = pd.concat([df, a])"
   ]
  },
  {
   "cell_type": "code",
   "execution_count": 41,
   "metadata": {},
   "outputs": [
    {
     "data": {
      "text/html": [
       "<div>\n",
       "<style scoped>\n",
       "    .dataframe tbody tr th:only-of-type {\n",
       "        vertical-align: middle;\n",
       "    }\n",
       "\n",
       "    .dataframe tbody tr th {\n",
       "        vertical-align: top;\n",
       "    }\n",
       "\n",
       "    .dataframe thead th {\n",
       "        text-align: right;\n",
       "    }\n",
       "</style>\n",
       "<table border=\"1\" class=\"dataframe\">\n",
       "  <thead>\n",
       "    <tr style=\"text-align: right;\">\n",
       "      <th></th>\n",
       "      <th>close</th>\n",
       "      <th>ao</th>\n",
       "      <th>signal</th>\n",
       "      <th>signal_strength</th>\n",
       "      <th>ticker</th>\n",
       "    </tr>\n",
       "  </thead>\n",
       "  <tbody>\n",
       "    <tr>\n",
       "      <th>2025-02-07 00:00:00.000000</th>\n",
       "      <td>1732.099976</td>\n",
       "      <td>31.116458</td>\n",
       "      <td>0.0</td>\n",
       "      <td>0.0</td>\n",
       "      <td>HDFCBANK.BO</td>\n",
       "    </tr>\n",
       "    <tr>\n",
       "      <th>2025-02-07 00:00:00.000000</th>\n",
       "      <td>1732.099976</td>\n",
       "      <td>41.226611</td>\n",
       "      <td>0.0</td>\n",
       "      <td>0.0</td>\n",
       "      <td>HDFCBANK.BO</td>\n",
       "    </tr>\n",
       "    <tr>\n",
       "      <th>2025-02-07 00:00:00.000000</th>\n",
       "      <td>1732.099976</td>\n",
       "      <td>45.677204</td>\n",
       "      <td>0.0</td>\n",
       "      <td>0.0</td>\n",
       "      <td>HDFCBANK.BO</td>\n",
       "    </tr>\n",
       "    <tr>\n",
       "      <th>2025-02-07 00:00:00.000000</th>\n",
       "      <td>1732.099976</td>\n",
       "      <td>49.157350</td>\n",
       "      <td>0.0</td>\n",
       "      <td>0.0</td>\n",
       "      <td>HDFCBANK.BO</td>\n",
       "    </tr>\n",
       "    <tr>\n",
       "      <th>2025-02-07 00:00:00.000000</th>\n",
       "      <td>4029.350098</td>\n",
       "      <td>-8.770191</td>\n",
       "      <td>0.0</td>\n",
       "      <td>0.0</td>\n",
       "      <td>TCS.BO</td>\n",
       "    </tr>\n",
       "    <tr>\n",
       "      <th>...</th>\n",
       "      <td>...</td>\n",
       "      <td>...</td>\n",
       "      <td>...</td>\n",
       "      <td>...</td>\n",
       "      <td>...</td>\n",
       "    </tr>\n",
       "    <tr>\n",
       "      <th>2025-02-07 00:00:00.000000</th>\n",
       "      <td>1526.400024</td>\n",
       "      <td>-93.070141</td>\n",
       "      <td>0.0</td>\n",
       "      <td>0.0</td>\n",
       "      <td>RAYMOND.NS</td>\n",
       "    </tr>\n",
       "    <tr>\n",
       "      <th>2025-02-04 00:00:00.000000</th>\n",
       "      <td>1290.500000</td>\n",
       "      <td>-319.025155</td>\n",
       "      <td>0.0</td>\n",
       "      <td>0.0</td>\n",
       "      <td>CDSL.NS</td>\n",
       "    </tr>\n",
       "    <tr>\n",
       "      <th>2025-02-05 00:00:00.000000</th>\n",
       "      <td>1348.849976</td>\n",
       "      <td>-293.114421</td>\n",
       "      <td>0.0</td>\n",
       "      <td>0.0</td>\n",
       "      <td>CDSL.NS</td>\n",
       "    </tr>\n",
       "    <tr>\n",
       "      <th>2025-02-06 00:00:00.000000</th>\n",
       "      <td>1328.050049</td>\n",
       "      <td>-266.467363</td>\n",
       "      <td>0.0</td>\n",
       "      <td>0.0</td>\n",
       "      <td>CDSL.NS</td>\n",
       "    </tr>\n",
       "    <tr>\n",
       "      <th>2025-02-07 00:00:00.000000</th>\n",
       "      <td>1336.199951</td>\n",
       "      <td>-244.737809</td>\n",
       "      <td>0.0</td>\n",
       "      <td>0.0</td>\n",
       "      <td>CDSL.NS</td>\n",
       "    </tr>\n",
       "  </tbody>\n",
       "</table>\n",
       "<p>2014 rows × 5 columns</p>\n",
       "</div>"
      ],
      "text/plain": [
       "                                  close          ao  signal  signal_strength  \\\n",
       "2025-02-07 00:00:00.000000  1732.099976   31.116458     0.0              0.0   \n",
       "2025-02-07 00:00:00.000000  1732.099976   41.226611     0.0              0.0   \n",
       "2025-02-07 00:00:00.000000  1732.099976   45.677204     0.0              0.0   \n",
       "2025-02-07 00:00:00.000000  1732.099976   49.157350     0.0              0.0   \n",
       "2025-02-07 00:00:00.000000  4029.350098   -8.770191     0.0              0.0   \n",
       "...                                 ...         ...     ...              ...   \n",
       "2025-02-07 00:00:00.000000  1526.400024  -93.070141     0.0              0.0   \n",
       "2025-02-04 00:00:00.000000  1290.500000 -319.025155     0.0              0.0   \n",
       "2025-02-05 00:00:00.000000  1348.849976 -293.114421     0.0              0.0   \n",
       "2025-02-06 00:00:00.000000  1328.050049 -266.467363     0.0              0.0   \n",
       "2025-02-07 00:00:00.000000  1336.199951 -244.737809     0.0              0.0   \n",
       "\n",
       "                                 ticker  \n",
       "2025-02-07 00:00:00.000000  HDFCBANK.BO  \n",
       "2025-02-07 00:00:00.000000  HDFCBANK.BO  \n",
       "2025-02-07 00:00:00.000000  HDFCBANK.BO  \n",
       "2025-02-07 00:00:00.000000  HDFCBANK.BO  \n",
       "2025-02-07 00:00:00.000000       TCS.BO  \n",
       "...                                 ...  \n",
       "2025-02-07 00:00:00.000000   RAYMOND.NS  \n",
       "2025-02-04 00:00:00.000000      CDSL.NS  \n",
       "2025-02-05 00:00:00.000000      CDSL.NS  \n",
       "2025-02-06 00:00:00.000000      CDSL.NS  \n",
       "2025-02-07 00:00:00.000000      CDSL.NS  \n",
       "\n",
       "[2014 rows x 5 columns]"
      ]
     },
     "execution_count": 41,
     "metadata": {},
     "output_type": "execute_result"
    }
   ],
   "source": [
    "df"
   ]
  },
  {
   "cell_type": "code",
   "execution_count": 44,
   "metadata": {},
   "outputs": [
    {
     "data": {
      "text/plain": [
       "count    2014.000000\n",
       "mean        0.419074\n",
       "std         3.617582\n",
       "min         0.000000\n",
       "25%         0.000000\n",
       "50%         0.000000\n",
       "75%         0.000000\n",
       "max        84.697567\n",
       "Name: signal_strength, dtype: float64"
      ]
     },
     "execution_count": 44,
     "metadata": {},
     "output_type": "execute_result"
    }
   ],
   "source": [
    "df['signal_strength'].describe()"
   ]
  },
  {
   "cell_type": "code",
   "execution_count": 9,
   "metadata": {},
   "outputs": [],
   "source": [
    "from src.strategies.momentum.cci_oscillator_strat import CCIStrategy"
   ]
  },
  {
   "cell_type": "code",
   "execution_count": 10,
   "metadata": {},
   "outputs": [],
   "source": [
    "cci_strategy = CCIStrategy(db_config)"
   ]
  },
  {
   "cell_type": "code",
   "execution_count": 18,
   "metadata": {},
   "outputs": [
    {
     "ename": "KeyboardInterrupt",
     "evalue": "",
     "output_type": "error",
     "traceback": [
      "\u001b[0;31m---------------------------------------------------------------------------\u001b[0m",
      "\u001b[0;31mKeyboardInterrupt\u001b[0m                         Traceback (most recent call last)",
      "Cell \u001b[0;32mIn[18], line 3\u001b[0m\n\u001b[1;32m      1\u001b[0m \u001b[38;5;28;01mfor\u001b[39;00m i \u001b[38;5;129;01min\u001b[39;00m \u001b[38;5;28mrange\u001b[39m(\u001b[38;5;241m0\u001b[39m, \u001b[38;5;28mlen\u001b[39m(all_tickers)):\n\u001b[1;32m      2\u001b[0m     ticker \u001b[38;5;241m=\u001b[39m all_tickers[i]\n\u001b[0;32m----> 3\u001b[0m     a \u001b[38;5;241m=\u001b[39m \u001b[43mcci_strategy\u001b[49m\u001b[38;5;241;43m.\u001b[39;49m\u001b[43mgenerate_signals\u001b[49m\u001b[43m(\u001b[49m\u001b[43mticker\u001b[49m\u001b[43m)\u001b[49m\n\u001b[1;32m      4\u001b[0m     a[\u001b[38;5;124m'\u001b[39m\u001b[38;5;124mticker\u001b[39m\u001b[38;5;124m'\u001b[39m] \u001b[38;5;241m=\u001b[39m ticker\n\u001b[1;32m      5\u001b[0m     \u001b[38;5;28;01mif\u001b[39;00m i \u001b[38;5;241m==\u001b[39m \u001b[38;5;241m0\u001b[39m:\n",
      "File \u001b[0;32m~/trading_system/src/strategies/momentum/cci_oscillator_strat.py:42\u001b[0m, in \u001b[0;36mCCIStrategy.generate_signals\u001b[0;34m(self, ticker)\u001b[0m\n\u001b[1;32m     40\u001b[0m \u001b[38;5;28;01mdef\u001b[39;00m\u001b[38;5;250m \u001b[39m\u001b[38;5;21mgenerate_signals\u001b[39m(\u001b[38;5;28mself\u001b[39m, ticker: \u001b[38;5;28mstr\u001b[39m) \u001b[38;5;241m-\u001b[39m\u001b[38;5;241m>\u001b[39m pd\u001b[38;5;241m.\u001b[39mDataFrame:\n\u001b[1;32m     41\u001b[0m     \u001b[38;5;28;01mtry\u001b[39;00m:\n\u001b[0;32m---> 42\u001b[0m         historical_data \u001b[38;5;241m=\u001b[39m \u001b[38;5;28;43mself\u001b[39;49m\u001b[38;5;241;43m.\u001b[39;49m\u001b[43mget_historical_prices\u001b[49m\u001b[43m(\u001b[49m\n\u001b[1;32m     43\u001b[0m \u001b[43m            \u001b[49m\u001b[43mticker\u001b[49m\u001b[43m,\u001b[49m\u001b[43m \u001b[49m\u001b[43mlookback\u001b[49m\u001b[38;5;241;43m=\u001b[39;49m\u001b[38;5;28;43mself\u001b[39;49m\u001b[38;5;241;43m.\u001b[39;49m\u001b[43mlookback_period\u001b[49m\u001b[43m,\u001b[49m\u001b[43m \u001b[49m\u001b[43mdata_source\u001b[49m\u001b[38;5;241;43m=\u001b[39;49m\u001b[38;5;28;43mself\u001b[39;49m\u001b[38;5;241;43m.\u001b[39;49m\u001b[43mdata_source\u001b[49m\n\u001b[1;32m     44\u001b[0m \u001b[43m        \u001b[49m\u001b[43m)\u001b[49m\n\u001b[1;32m     46\u001b[0m         \u001b[38;5;66;03m# Require 2*period for stable calculations\u001b[39;00m\n\u001b[1;32m     47\u001b[0m         \u001b[38;5;28;01mif\u001b[39;00m \u001b[38;5;129;01mnot\u001b[39;00m \u001b[38;5;28mself\u001b[39m\u001b[38;5;241m.\u001b[39m_validate_data(historical_data, min_records\u001b[38;5;241m=\u001b[39m\u001b[38;5;241m2\u001b[39m\u001b[38;5;241m*\u001b[39m\u001b[38;5;28mself\u001b[39m\u001b[38;5;241m.\u001b[39mcci_period):\n",
      "File \u001b[0;32m~/trading_system/src/strategies/base_strat.py:76\u001b[0m, in \u001b[0;36mBaseStrategy.get_historical_prices\u001b[0;34m(self, ticker, lookback, data_source)\u001b[0m\n\u001b[1;32m     67\u001b[0m lookback \u001b[38;5;241m=\u001b[39m \u001b[38;5;28mint\u001b[39m(lookback)\n\u001b[1;32m     68\u001b[0m query \u001b[38;5;241m=\u001b[39m text(\u001b[38;5;124mf\u001b[39m\u001b[38;5;124m\"\"\"\u001b[39m\n\u001b[1;32m     69\u001b[0m \u001b[38;5;124m    SELECT date, open, high, low, close, volume \u001b[39m\n\u001b[1;32m     70\u001b[0m \u001b[38;5;124m    FROM daily_prices\u001b[39m\n\u001b[0;32m   (...)\u001b[0m\n\u001b[1;32m     74\u001b[0m \u001b[38;5;124m    LIMIT \u001b[39m\u001b[38;5;132;01m{\u001b[39;00mlookback\u001b[38;5;132;01m}\u001b[39;00m\n\u001b[1;32m     75\u001b[0m \u001b[38;5;124m\u001b[39m\u001b[38;5;124m\"\"\"\u001b[39m)\n\u001b[0;32m---> 76\u001b[0m \u001b[38;5;28;01mreturn\u001b[39;00m \u001b[38;5;28;43mself\u001b[39;49m\u001b[38;5;241;43m.\u001b[39;49m\u001b[43m_execute_query\u001b[49m\u001b[43m(\u001b[49m\u001b[43mquery\u001b[49m\u001b[43m,\u001b[49m\u001b[43m \u001b[49m\u001b[43m{\u001b[49m\u001b[38;5;124;43m'\u001b[39;49m\u001b[38;5;124;43mticker\u001b[39;49m\u001b[38;5;124;43m'\u001b[39;49m\u001b[43m:\u001b[49m\u001b[43m \u001b[49m\u001b[43mticker\u001b[49m\u001b[43m,\u001b[49m\u001b[43m \u001b[49m\u001b[38;5;124;43m'\u001b[39;49m\u001b[38;5;124;43mdata_source\u001b[39;49m\u001b[38;5;124;43m'\u001b[39;49m\u001b[43m:\u001b[49m\u001b[43m \u001b[49m\u001b[43mdata_source\u001b[49m\u001b[43m}\u001b[49m\u001b[43m,\u001b[49m\u001b[43m \u001b[49m\u001b[43mindex_col\u001b[49m\u001b[38;5;241;43m=\u001b[39;49m\u001b[38;5;124;43m'\u001b[39;49m\u001b[38;5;124;43mdate\u001b[39;49m\u001b[38;5;124;43m'\u001b[39;49m\u001b[43m)\u001b[49m\n",
      "File \u001b[0;32m~/trading_system/src/strategies/base_strat.py:149\u001b[0m, in \u001b[0;36mBaseStrategy._execute_query\u001b[0;34m(self, query, params, index_col)\u001b[0m\n\u001b[1;32m    147\u001b[0m \u001b[38;5;28;01mtry\u001b[39;00m:\n\u001b[1;32m    148\u001b[0m     \u001b[38;5;28;01mwith\u001b[39;00m \u001b[38;5;28mself\u001b[39m\u001b[38;5;241m.\u001b[39mdb_engine\u001b[38;5;241m.\u001b[39mconnect() \u001b[38;5;28;01mas\u001b[39;00m connection:\n\u001b[0;32m--> 149\u001b[0m         result \u001b[38;5;241m=\u001b[39m \u001b[43mconnection\u001b[49m\u001b[38;5;241;43m.\u001b[39;49m\u001b[43mexecute\u001b[49m\u001b[43m(\u001b[49m\u001b[43mquery\u001b[49m\u001b[43m,\u001b[49m\u001b[43m \u001b[49m\u001b[43mparams\u001b[49m\u001b[43m)\u001b[49m\n\u001b[1;32m    150\u001b[0m         data \u001b[38;5;241m=\u001b[39m result\u001b[38;5;241m.\u001b[39mfetchall()\n\u001b[1;32m    151\u001b[0m         df \u001b[38;5;241m=\u001b[39m pd\u001b[38;5;241m.\u001b[39mDataFrame(data, columns\u001b[38;5;241m=\u001b[39mresult\u001b[38;5;241m.\u001b[39mkeys())\n",
      "File \u001b[0;32m~/.pyenv/versions/trading_env/lib/python3.11/site-packages/sqlalchemy/engine/base.py:1416\u001b[0m, in \u001b[0;36mConnection.execute\u001b[0;34m(self, statement, parameters, execution_options)\u001b[0m\n\u001b[1;32m   1414\u001b[0m     \u001b[38;5;28;01mraise\u001b[39;00m exc\u001b[38;5;241m.\u001b[39mObjectNotExecutableError(statement) \u001b[38;5;28;01mfrom\u001b[39;00m\u001b[38;5;250m \u001b[39m\u001b[38;5;21;01merr\u001b[39;00m\n\u001b[1;32m   1415\u001b[0m \u001b[38;5;28;01melse\u001b[39;00m:\n\u001b[0;32m-> 1416\u001b[0m     \u001b[38;5;28;01mreturn\u001b[39;00m \u001b[43mmeth\u001b[49m\u001b[43m(\u001b[49m\n\u001b[1;32m   1417\u001b[0m \u001b[43m        \u001b[49m\u001b[38;5;28;43mself\u001b[39;49m\u001b[43m,\u001b[49m\n\u001b[1;32m   1418\u001b[0m \u001b[43m        \u001b[49m\u001b[43mdistilled_parameters\u001b[49m\u001b[43m,\u001b[49m\n\u001b[1;32m   1419\u001b[0m \u001b[43m        \u001b[49m\u001b[43mexecution_options\u001b[49m\u001b[43m \u001b[49m\u001b[38;5;129;43;01mor\u001b[39;49;00m\u001b[43m \u001b[49m\u001b[43mNO_OPTIONS\u001b[49m\u001b[43m,\u001b[49m\n\u001b[1;32m   1420\u001b[0m \u001b[43m    \u001b[49m\u001b[43m)\u001b[49m\n",
      "File \u001b[0;32m~/.pyenv/versions/trading_env/lib/python3.11/site-packages/sqlalchemy/sql/elements.py:515\u001b[0m, in \u001b[0;36mClauseElement._execute_on_connection\u001b[0;34m(self, connection, distilled_params, execution_options)\u001b[0m\n\u001b[1;32m    513\u001b[0m     \u001b[38;5;28;01mif\u001b[39;00m TYPE_CHECKING:\n\u001b[1;32m    514\u001b[0m         \u001b[38;5;28;01massert\u001b[39;00m \u001b[38;5;28misinstance\u001b[39m(\u001b[38;5;28mself\u001b[39m, Executable)\n\u001b[0;32m--> 515\u001b[0m     \u001b[38;5;28;01mreturn\u001b[39;00m \u001b[43mconnection\u001b[49m\u001b[38;5;241;43m.\u001b[39;49m\u001b[43m_execute_clauseelement\u001b[49m\u001b[43m(\u001b[49m\n\u001b[1;32m    516\u001b[0m \u001b[43m        \u001b[49m\u001b[38;5;28;43mself\u001b[39;49m\u001b[43m,\u001b[49m\u001b[43m \u001b[49m\u001b[43mdistilled_params\u001b[49m\u001b[43m,\u001b[49m\u001b[43m \u001b[49m\u001b[43mexecution_options\u001b[49m\n\u001b[1;32m    517\u001b[0m \u001b[43m    \u001b[49m\u001b[43m)\u001b[49m\n\u001b[1;32m    518\u001b[0m \u001b[38;5;28;01melse\u001b[39;00m:\n\u001b[1;32m    519\u001b[0m     \u001b[38;5;28;01mraise\u001b[39;00m exc\u001b[38;5;241m.\u001b[39mObjectNotExecutableError(\u001b[38;5;28mself\u001b[39m)\n",
      "File \u001b[0;32m~/.pyenv/versions/trading_env/lib/python3.11/site-packages/sqlalchemy/engine/base.py:1638\u001b[0m, in \u001b[0;36mConnection._execute_clauseelement\u001b[0;34m(self, elem, distilled_parameters, execution_options)\u001b[0m\n\u001b[1;32m   1626\u001b[0m compiled_cache: Optional[CompiledCacheType] \u001b[38;5;241m=\u001b[39m execution_options\u001b[38;5;241m.\u001b[39mget(\n\u001b[1;32m   1627\u001b[0m     \u001b[38;5;124m\"\u001b[39m\u001b[38;5;124mcompiled_cache\u001b[39m\u001b[38;5;124m\"\u001b[39m, \u001b[38;5;28mself\u001b[39m\u001b[38;5;241m.\u001b[39mengine\u001b[38;5;241m.\u001b[39m_compiled_cache\n\u001b[1;32m   1628\u001b[0m )\n\u001b[1;32m   1630\u001b[0m compiled_sql, extracted_params, cache_hit \u001b[38;5;241m=\u001b[39m elem\u001b[38;5;241m.\u001b[39m_compile_w_cache(\n\u001b[1;32m   1631\u001b[0m     dialect\u001b[38;5;241m=\u001b[39mdialect,\n\u001b[1;32m   1632\u001b[0m     compiled_cache\u001b[38;5;241m=\u001b[39mcompiled_cache,\n\u001b[0;32m   (...)\u001b[0m\n\u001b[1;32m   1636\u001b[0m     linting\u001b[38;5;241m=\u001b[39m\u001b[38;5;28mself\u001b[39m\u001b[38;5;241m.\u001b[39mdialect\u001b[38;5;241m.\u001b[39mcompiler_linting \u001b[38;5;241m|\u001b[39m compiler\u001b[38;5;241m.\u001b[39mWARN_LINTING,\n\u001b[1;32m   1637\u001b[0m )\n\u001b[0;32m-> 1638\u001b[0m ret \u001b[38;5;241m=\u001b[39m \u001b[38;5;28;43mself\u001b[39;49m\u001b[38;5;241;43m.\u001b[39;49m\u001b[43m_execute_context\u001b[49m\u001b[43m(\u001b[49m\n\u001b[1;32m   1639\u001b[0m \u001b[43m    \u001b[49m\u001b[43mdialect\u001b[49m\u001b[43m,\u001b[49m\n\u001b[1;32m   1640\u001b[0m \u001b[43m    \u001b[49m\u001b[43mdialect\u001b[49m\u001b[38;5;241;43m.\u001b[39;49m\u001b[43mexecution_ctx_cls\u001b[49m\u001b[38;5;241;43m.\u001b[39;49m\u001b[43m_init_compiled\u001b[49m\u001b[43m,\u001b[49m\n\u001b[1;32m   1641\u001b[0m \u001b[43m    \u001b[49m\u001b[43mcompiled_sql\u001b[49m\u001b[43m,\u001b[49m\n\u001b[1;32m   1642\u001b[0m \u001b[43m    \u001b[49m\u001b[43mdistilled_parameters\u001b[49m\u001b[43m,\u001b[49m\n\u001b[1;32m   1643\u001b[0m \u001b[43m    \u001b[49m\u001b[43mexecution_options\u001b[49m\u001b[43m,\u001b[49m\n\u001b[1;32m   1644\u001b[0m \u001b[43m    \u001b[49m\u001b[43mcompiled_sql\u001b[49m\u001b[43m,\u001b[49m\n\u001b[1;32m   1645\u001b[0m \u001b[43m    \u001b[49m\u001b[43mdistilled_parameters\u001b[49m\u001b[43m,\u001b[49m\n\u001b[1;32m   1646\u001b[0m \u001b[43m    \u001b[49m\u001b[43melem\u001b[49m\u001b[43m,\u001b[49m\n\u001b[1;32m   1647\u001b[0m \u001b[43m    \u001b[49m\u001b[43mextracted_params\u001b[49m\u001b[43m,\u001b[49m\n\u001b[1;32m   1648\u001b[0m \u001b[43m    \u001b[49m\u001b[43mcache_hit\u001b[49m\u001b[38;5;241;43m=\u001b[39;49m\u001b[43mcache_hit\u001b[49m\u001b[43m,\u001b[49m\n\u001b[1;32m   1649\u001b[0m \u001b[43m\u001b[49m\u001b[43m)\u001b[49m\n\u001b[1;32m   1650\u001b[0m \u001b[38;5;28;01mif\u001b[39;00m has_events:\n\u001b[1;32m   1651\u001b[0m     \u001b[38;5;28mself\u001b[39m\u001b[38;5;241m.\u001b[39mdispatch\u001b[38;5;241m.\u001b[39mafter_execute(\n\u001b[1;32m   1652\u001b[0m         \u001b[38;5;28mself\u001b[39m,\n\u001b[1;32m   1653\u001b[0m         elem,\n\u001b[0;32m   (...)\u001b[0m\n\u001b[1;32m   1657\u001b[0m         ret,\n\u001b[1;32m   1658\u001b[0m     )\n",
      "File \u001b[0;32m~/.pyenv/versions/trading_env/lib/python3.11/site-packages/sqlalchemy/engine/base.py:1843\u001b[0m, in \u001b[0;36mConnection._execute_context\u001b[0;34m(self, dialect, constructor, statement, parameters, execution_options, *args, **kw)\u001b[0m\n\u001b[1;32m   1841\u001b[0m     \u001b[38;5;28;01mreturn\u001b[39;00m \u001b[38;5;28mself\u001b[39m\u001b[38;5;241m.\u001b[39m_exec_insertmany_context(dialect, context)\n\u001b[1;32m   1842\u001b[0m \u001b[38;5;28;01melse\u001b[39;00m:\n\u001b[0;32m-> 1843\u001b[0m     \u001b[38;5;28;01mreturn\u001b[39;00m \u001b[38;5;28;43mself\u001b[39;49m\u001b[38;5;241;43m.\u001b[39;49m\u001b[43m_exec_single_context\u001b[49m\u001b[43m(\u001b[49m\n\u001b[1;32m   1844\u001b[0m \u001b[43m        \u001b[49m\u001b[43mdialect\u001b[49m\u001b[43m,\u001b[49m\u001b[43m \u001b[49m\u001b[43mcontext\u001b[49m\u001b[43m,\u001b[49m\u001b[43m \u001b[49m\u001b[43mstatement\u001b[49m\u001b[43m,\u001b[49m\u001b[43m \u001b[49m\u001b[43mparameters\u001b[49m\n\u001b[1;32m   1845\u001b[0m \u001b[43m    \u001b[49m\u001b[43m)\u001b[49m\n",
      "File \u001b[0;32m~/.pyenv/versions/trading_env/lib/python3.11/site-packages/sqlalchemy/engine/base.py:1983\u001b[0m, in \u001b[0;36mConnection._exec_single_context\u001b[0;34m(self, dialect, context, statement, parameters)\u001b[0m\n\u001b[1;32m   1980\u001b[0m     result \u001b[38;5;241m=\u001b[39m context\u001b[38;5;241m.\u001b[39m_setup_result_proxy()\n\u001b[1;32m   1982\u001b[0m \u001b[38;5;28;01mexcept\u001b[39;00m \u001b[38;5;167;01mBaseException\u001b[39;00m \u001b[38;5;28;01mas\u001b[39;00m e:\n\u001b[0;32m-> 1983\u001b[0m     \u001b[38;5;28;43mself\u001b[39;49m\u001b[38;5;241;43m.\u001b[39;49m\u001b[43m_handle_dbapi_exception\u001b[49m\u001b[43m(\u001b[49m\n\u001b[1;32m   1984\u001b[0m \u001b[43m        \u001b[49m\u001b[43me\u001b[49m\u001b[43m,\u001b[49m\u001b[43m \u001b[49m\u001b[43mstr_statement\u001b[49m\u001b[43m,\u001b[49m\u001b[43m \u001b[49m\u001b[43meffective_parameters\u001b[49m\u001b[43m,\u001b[49m\u001b[43m \u001b[49m\u001b[43mcursor\u001b[49m\u001b[43m,\u001b[49m\u001b[43m \u001b[49m\u001b[43mcontext\u001b[49m\n\u001b[1;32m   1985\u001b[0m \u001b[43m    \u001b[49m\u001b[43m)\u001b[49m\n\u001b[1;32m   1987\u001b[0m \u001b[38;5;28;01mreturn\u001b[39;00m result\n",
      "File \u001b[0;32m~/.pyenv/versions/trading_env/lib/python3.11/site-packages/sqlalchemy/engine/base.py:2355\u001b[0m, in \u001b[0;36mConnection._handle_dbapi_exception\u001b[0;34m(self, e, statement, parameters, cursor, context, is_sub_exec)\u001b[0m\n\u001b[1;32m   2353\u001b[0m     \u001b[38;5;28;01melse\u001b[39;00m:\n\u001b[1;32m   2354\u001b[0m         \u001b[38;5;28;01massert\u001b[39;00m exc_info[\u001b[38;5;241m1\u001b[39m] \u001b[38;5;129;01mis\u001b[39;00m \u001b[38;5;129;01mnot\u001b[39;00m \u001b[38;5;28;01mNone\u001b[39;00m\n\u001b[0;32m-> 2355\u001b[0m         \u001b[38;5;28;01mraise\u001b[39;00m exc_info[\u001b[38;5;241m1\u001b[39m]\u001b[38;5;241m.\u001b[39mwith_traceback(exc_info[\u001b[38;5;241m2\u001b[39m])\n\u001b[1;32m   2356\u001b[0m \u001b[38;5;28;01mfinally\u001b[39;00m:\n\u001b[1;32m   2357\u001b[0m     \u001b[38;5;28;01mdel\u001b[39;00m \u001b[38;5;28mself\u001b[39m\u001b[38;5;241m.\u001b[39m_reentrant_error\n",
      "File \u001b[0;32m~/.pyenv/versions/trading_env/lib/python3.11/site-packages/sqlalchemy/engine/base.py:1964\u001b[0m, in \u001b[0;36mConnection._exec_single_context\u001b[0;34m(self, dialect, context, statement, parameters)\u001b[0m\n\u001b[1;32m   1962\u001b[0m                 \u001b[38;5;28;01mbreak\u001b[39;00m\n\u001b[1;32m   1963\u001b[0m     \u001b[38;5;28;01mif\u001b[39;00m \u001b[38;5;129;01mnot\u001b[39;00m evt_handled:\n\u001b[0;32m-> 1964\u001b[0m         \u001b[38;5;28;43mself\u001b[39;49m\u001b[38;5;241;43m.\u001b[39;49m\u001b[43mdialect\u001b[49m\u001b[38;5;241;43m.\u001b[39;49m\u001b[43mdo_execute\u001b[49m\u001b[43m(\u001b[49m\n\u001b[1;32m   1965\u001b[0m \u001b[43m            \u001b[49m\u001b[43mcursor\u001b[49m\u001b[43m,\u001b[49m\u001b[43m \u001b[49m\u001b[43mstr_statement\u001b[49m\u001b[43m,\u001b[49m\u001b[43m \u001b[49m\u001b[43meffective_parameters\u001b[49m\u001b[43m,\u001b[49m\u001b[43m \u001b[49m\u001b[43mcontext\u001b[49m\n\u001b[1;32m   1966\u001b[0m \u001b[43m        \u001b[49m\u001b[43m)\u001b[49m\n\u001b[1;32m   1968\u001b[0m \u001b[38;5;28;01mif\u001b[39;00m \u001b[38;5;28mself\u001b[39m\u001b[38;5;241m.\u001b[39m_has_events \u001b[38;5;129;01mor\u001b[39;00m \u001b[38;5;28mself\u001b[39m\u001b[38;5;241m.\u001b[39mengine\u001b[38;5;241m.\u001b[39m_has_events:\n\u001b[1;32m   1969\u001b[0m     \u001b[38;5;28mself\u001b[39m\u001b[38;5;241m.\u001b[39mdispatch\u001b[38;5;241m.\u001b[39mafter_cursor_execute(\n\u001b[1;32m   1970\u001b[0m         \u001b[38;5;28mself\u001b[39m,\n\u001b[1;32m   1971\u001b[0m         cursor,\n\u001b[0;32m   (...)\u001b[0m\n\u001b[1;32m   1975\u001b[0m         context\u001b[38;5;241m.\u001b[39mexecutemany,\n\u001b[1;32m   1976\u001b[0m     )\n",
      "File \u001b[0;32m~/.pyenv/versions/trading_env/lib/python3.11/site-packages/sqlalchemy/engine/default.py:942\u001b[0m, in \u001b[0;36mDefaultDialect.do_execute\u001b[0;34m(self, cursor, statement, parameters, context)\u001b[0m\n\u001b[1;32m    941\u001b[0m \u001b[38;5;28;01mdef\u001b[39;00m\u001b[38;5;250m \u001b[39m\u001b[38;5;21mdo_execute\u001b[39m(\u001b[38;5;28mself\u001b[39m, cursor, statement, parameters, context\u001b[38;5;241m=\u001b[39m\u001b[38;5;28;01mNone\u001b[39;00m):\n\u001b[0;32m--> 942\u001b[0m     cursor\u001b[38;5;241m.\u001b[39mexecute(statement, parameters)\n",
      "\u001b[0;31mKeyboardInterrupt\u001b[0m: "
     ]
    }
   ],
   "source": [
    "for i in range(0, len(all_tickers)):\n",
    "    ticker = all_tickers[i]\n",
    "    a = cci_strategy.generate_signals(ticker)\n",
    "    a['ticker'] = ticker\n",
    "    if i == 0:\n",
    "        df = a\n",
    "    else:\n",
    "        df = pd.concat([df, a])"
   ]
  },
  {
   "cell_type": "code",
   "execution_count": 11,
   "metadata": {},
   "outputs": [
    {
     "data": {
      "text/html": [
       "<div>\n",
       "<style scoped>\n",
       "    .dataframe tbody tr th:only-of-type {\n",
       "        vertical-align: middle;\n",
       "    }\n",
       "\n",
       "    .dataframe tbody tr th {\n",
       "        vertical-align: top;\n",
       "    }\n",
       "\n",
       "    .dataframe thead th {\n",
       "        text-align: right;\n",
       "    }\n",
       "</style>\n",
       "<table border=\"1\" class=\"dataframe\">\n",
       "  <thead>\n",
       "    <tr style=\"text-align: right;\">\n",
       "      <th></th>\n",
       "      <th>close</th>\n",
       "      <th>high</th>\n",
       "      <th>low</th>\n",
       "      <th>cci</th>\n",
       "      <th>signal</th>\n",
       "      <th>signal_strength</th>\n",
       "      <th>position</th>\n",
       "      <th>return</th>\n",
       "      <th>cumulative_return</th>\n",
       "      <th>exit_type</th>\n",
       "    </tr>\n",
       "    <tr>\n",
       "      <th>date</th>\n",
       "      <th></th>\n",
       "      <th></th>\n",
       "      <th></th>\n",
       "      <th></th>\n",
       "      <th></th>\n",
       "      <th></th>\n",
       "      <th></th>\n",
       "      <th></th>\n",
       "      <th></th>\n",
       "      <th></th>\n",
       "    </tr>\n",
       "  </thead>\n",
       "  <tbody>\n",
       "    <tr>\n",
       "      <th>2024-01-31</th>\n",
       "      <td>3670.010742</td>\n",
       "      <td>3709.832204</td>\n",
       "      <td>3624.993310</td>\n",
       "      <td>NaN</td>\n",
       "      <td>0</td>\n",
       "      <td>NaN</td>\n",
       "      <td>0.0</td>\n",
       "      <td>0.0000</td>\n",
       "      <td>0.000000</td>\n",
       "      <td>none</td>\n",
       "    </tr>\n",
       "    <tr>\n",
       "      <th>2024-02-01</th>\n",
       "      <td>3639.382812</td>\n",
       "      <td>3716.027646</td>\n",
       "      <td>3580.175390</td>\n",
       "      <td>NaN</td>\n",
       "      <td>0</td>\n",
       "      <td>NaN</td>\n",
       "      <td>0.0</td>\n",
       "      <td>0.0000</td>\n",
       "      <td>0.000000</td>\n",
       "      <td>none</td>\n",
       "    </tr>\n",
       "    <tr>\n",
       "      <th>2024-02-02</th>\n",
       "      <td>3547.099121</td>\n",
       "      <td>3626.541992</td>\n",
       "      <td>3534.558335</td>\n",
       "      <td>NaN</td>\n",
       "      <td>0</td>\n",
       "      <td>NaN</td>\n",
       "      <td>0.0</td>\n",
       "      <td>0.0000</td>\n",
       "      <td>0.000000</td>\n",
       "      <td>none</td>\n",
       "    </tr>\n",
       "    <tr>\n",
       "      <th>2024-02-05</th>\n",
       "      <td>3610.653564</td>\n",
       "      <td>3657.369970</td>\n",
       "      <td>3475.550766</td>\n",
       "      <td>NaN</td>\n",
       "      <td>0</td>\n",
       "      <td>NaN</td>\n",
       "      <td>0.0</td>\n",
       "      <td>0.0000</td>\n",
       "      <td>0.000000</td>\n",
       "      <td>none</td>\n",
       "    </tr>\n",
       "    <tr>\n",
       "      <th>2024-02-06</th>\n",
       "      <td>3643.679932</td>\n",
       "      <td>3677.905321</td>\n",
       "      <td>3601.360265</td>\n",
       "      <td>NaN</td>\n",
       "      <td>0</td>\n",
       "      <td>NaN</td>\n",
       "      <td>0.0</td>\n",
       "      <td>0.0000</td>\n",
       "      <td>0.000000</td>\n",
       "      <td>none</td>\n",
       "    </tr>\n",
       "    <tr>\n",
       "      <th>...</th>\n",
       "      <td>...</td>\n",
       "      <td>...</td>\n",
       "      <td>...</td>\n",
       "      <td>...</td>\n",
       "      <td>...</td>\n",
       "      <td>...</td>\n",
       "      <td>...</td>\n",
       "      <td>...</td>\n",
       "      <td>...</td>\n",
       "      <td>...</td>\n",
       "    </tr>\n",
       "    <tr>\n",
       "      <th>2025-02-03</th>\n",
       "      <td>3609.550049</td>\n",
       "      <td>3642.100098</td>\n",
       "      <td>3468.550049</td>\n",
       "      <td>-63.263506</td>\n",
       "      <td>0</td>\n",
       "      <td>NaN</td>\n",
       "      <td>0.0</td>\n",
       "      <td>-0.0519</td>\n",
       "      <td>-0.918829</td>\n",
       "      <td>stop_loss</td>\n",
       "    </tr>\n",
       "    <tr>\n",
       "      <th>2025-02-04</th>\n",
       "      <td>3716.600098</td>\n",
       "      <td>3729.500000</td>\n",
       "      <td>3618.899902</td>\n",
       "      <td>9.852439</td>\n",
       "      <td>0</td>\n",
       "      <td>NaN</td>\n",
       "      <td>0.0</td>\n",
       "      <td>-0.0519</td>\n",
       "      <td>-0.923042</td>\n",
       "      <td>stop_loss</td>\n",
       "    </tr>\n",
       "    <tr>\n",
       "      <th>2025-02-05</th>\n",
       "      <td>3679.850098</td>\n",
       "      <td>3759.949951</td>\n",
       "      <td>3648.100098</td>\n",
       "      <td>28.632135</td>\n",
       "      <td>0</td>\n",
       "      <td>NaN</td>\n",
       "      <td>0.0</td>\n",
       "      <td>-0.0519</td>\n",
       "      <td>-0.927036</td>\n",
       "      <td>stop_loss</td>\n",
       "    </tr>\n",
       "    <tr>\n",
       "      <th>2025-02-06</th>\n",
       "      <td>3704.399902</td>\n",
       "      <td>3728.050049</td>\n",
       "      <td>3665.649902</td>\n",
       "      <td>38.181151</td>\n",
       "      <td>0</td>\n",
       "      <td>NaN</td>\n",
       "      <td>0.0</td>\n",
       "      <td>-0.0519</td>\n",
       "      <td>-0.930823</td>\n",
       "      <td>stop_loss</td>\n",
       "    </tr>\n",
       "    <tr>\n",
       "      <th>2025-02-07</th>\n",
       "      <td>3701.300049</td>\n",
       "      <td>3735.000000</td>\n",
       "      <td>3672.949951</td>\n",
       "      <td>39.168031</td>\n",
       "      <td>0</td>\n",
       "      <td>NaN</td>\n",
       "      <td>0.0</td>\n",
       "      <td>-0.0519</td>\n",
       "      <td>-0.934413</td>\n",
       "      <td>stop_loss</td>\n",
       "    </tr>\n",
       "  </tbody>\n",
       "</table>\n",
       "<p>252 rows × 10 columns</p>\n",
       "</div>"
      ],
      "text/plain": [
       "                  close         high  ...  cumulative_return  exit_type\n",
       "date                                  ...                              \n",
       "2024-01-31  3670.010742  3709.832204  ...           0.000000       none\n",
       "2024-02-01  3639.382812  3716.027646  ...           0.000000       none\n",
       "2024-02-02  3547.099121  3626.541992  ...           0.000000       none\n",
       "2024-02-05  3610.653564  3657.369970  ...           0.000000       none\n",
       "2024-02-06  3643.679932  3677.905321  ...           0.000000       none\n",
       "...                 ...          ...  ...                ...        ...\n",
       "2025-02-03  3609.550049  3642.100098  ...          -0.918829  stop_loss\n",
       "2025-02-04  3716.600098  3729.500000  ...          -0.923042  stop_loss\n",
       "2025-02-05  3679.850098  3759.949951  ...          -0.927036  stop_loss\n",
       "2025-02-06  3704.399902  3728.050049  ...          -0.930823  stop_loss\n",
       "2025-02-07  3701.300049  3735.000000  ...          -0.934413  stop_loss\n",
       "\n",
       "[252 rows x 10 columns]"
      ]
     },
     "execution_count": 11,
     "metadata": {},
     "output_type": "execute_result"
    }
   ],
   "source": [
    "# Now you can use ao_strategy to generate signals, and it will use the database engine\n",
    "signals_df = cci_strategy.generate_signals(ticker=all_tickers[200])\n",
    "signals_df"
   ]
  },
  {
   "cell_type": "code",
   "execution_count": 14,
   "metadata": {},
   "outputs": [
    {
     "data": {
      "text/plain": [
       "count    252.000000\n",
       "mean       0.007937\n",
       "std        0.252352\n",
       "min       -1.000000\n",
       "25%        0.000000\n",
       "50%        0.000000\n",
       "75%        0.000000\n",
       "max        1.000000\n",
       "Name: signal, dtype: float64"
      ]
     },
     "execution_count": 14,
     "metadata": {},
     "output_type": "execute_result"
    }
   ],
   "source": [
    "signals_df['signal'].describe()"
   ]
  },
  {
   "cell_type": "code",
   "execution_count": 15,
   "metadata": {},
   "outputs": [
    {
     "data": {
      "text/plain": [
       "count     16.000000\n",
       "mean       6.422699\n",
       "std       43.604906\n",
       "min      -66.735259\n",
       "25%      -12.759391\n",
       "50%        5.707503\n",
       "75%       23.902127\n",
       "max      126.965033\n",
       "Name: signal_strength, dtype: float64"
      ]
     },
     "execution_count": 15,
     "metadata": {},
     "output_type": "execute_result"
    }
   ],
   "source": [
    "signals_df['signal_strength'].describe()"
   ]
  },
  {
   "cell_type": "code",
   "execution_count": 4,
   "metadata": {},
   "outputs": [],
   "source": [
    "from src.strategies.momentum.coppock_curve_strat import CoppockCurveStrategy"
   ]
  },
  {
   "cell_type": "code",
   "execution_count": 5,
   "metadata": {},
   "outputs": [],
   "source": [
    "coppock_strategy = CoppockCurveStrategy(db_config)"
   ]
  },
  {
   "cell_type": "code",
   "execution_count": 8,
   "metadata": {},
   "outputs": [
    {
     "name": "stdout",
     "output_type": "stream",
     "text": [
      "0\n",
      "1\n",
      "2\n",
      "3\n",
      "4\n",
      "5\n",
      "6\n",
      "7\n",
      "8\n",
      "9\n",
      "10\n",
      "11\n",
      "12\n",
      "13\n",
      "14\n",
      "15\n",
      "16\n",
      "17\n",
      "18\n",
      "19\n",
      "20\n",
      "21\n",
      "22\n",
      "23\n",
      "24\n",
      "25\n",
      "26\n",
      "27\n",
      "28\n",
      "29\n",
      "30\n",
      "31\n",
      "32\n",
      "33\n",
      "34\n",
      "35\n",
      "36\n",
      "37\n",
      "38\n",
      "39\n",
      "40\n",
      "41\n",
      "42\n",
      "43\n",
      "44\n",
      "45\n",
      "46\n",
      "47\n",
      "48\n",
      "49\n",
      "50\n",
      "51\n",
      "52\n",
      "53\n",
      "54\n",
      "55\n",
      "56\n",
      "57\n",
      "58\n",
      "59\n",
      "60\n",
      "61\n",
      "62\n",
      "63\n",
      "64\n",
      "65\n",
      "66\n",
      "67\n",
      "68\n",
      "69\n",
      "70\n",
      "71\n",
      "72\n",
      "73\n",
      "74\n",
      "75\n",
      "76\n",
      "77\n",
      "78\n",
      "79\n",
      "80\n",
      "81\n",
      "82\n",
      "83\n",
      "84\n",
      "85\n",
      "86\n",
      "87\n",
      "88\n",
      "89\n",
      "90\n",
      "91\n",
      "92\n",
      "93\n",
      "94\n",
      "95\n",
      "96\n",
      "97\n",
      "98\n",
      "99\n",
      "100\n",
      "101\n"
     ]
    },
    {
     "name": "stderr",
     "output_type": "stream",
     "text": [
      "Insufficient data for analysis\n",
      "/tmp/ipykernel_542178/1703485871.py:9: FutureWarning: The behavior of array concatenation with empty entries is deprecated. In a future version, this will no longer exclude empty items when determining the result dtype. To retain the old behavior, exclude the empty entries before the concat operation.\n",
      "  df = pd.concat([df, a])\n"
     ]
    },
    {
     "name": "stdout",
     "output_type": "stream",
     "text": [
      "102\n",
      "103\n",
      "104\n",
      "105\n",
      "106\n",
      "107\n",
      "108\n",
      "109\n"
     ]
    },
    {
     "name": "stderr",
     "output_type": "stream",
     "text": [
      "Insufficient data for analysis\n",
      "/tmp/ipykernel_542178/1703485871.py:9: FutureWarning: The behavior of array concatenation with empty entries is deprecated. In a future version, this will no longer exclude empty items when determining the result dtype. To retain the old behavior, exclude the empty entries before the concat operation.\n",
      "  df = pd.concat([df, a])\n"
     ]
    },
    {
     "name": "stdout",
     "output_type": "stream",
     "text": [
      "110\n",
      "111\n",
      "112\n",
      "113\n",
      "114\n",
      "115\n",
      "116\n",
      "117\n",
      "118\n",
      "119\n",
      "120\n",
      "121\n",
      "122\n",
      "123\n",
      "124\n",
      "125\n",
      "126\n",
      "127\n",
      "128\n",
      "129\n",
      "130\n",
      "131\n",
      "132\n",
      "133\n",
      "134\n",
      "135\n",
      "136\n",
      "137\n",
      "138\n",
      "139\n",
      "140\n",
      "141\n",
      "142\n",
      "143\n",
      "144\n",
      "145\n",
      "146\n",
      "147\n",
      "148\n",
      "149\n",
      "150\n",
      "151\n",
      "152\n",
      "153\n",
      "154\n",
      "155\n",
      "156\n",
      "157\n",
      "158\n",
      "159\n",
      "160\n",
      "161\n",
      "162\n",
      "163\n",
      "164\n",
      "165\n",
      "166\n",
      "167\n",
      "168\n",
      "169\n",
      "170\n",
      "171\n",
      "172\n",
      "173\n",
      "174\n",
      "175\n",
      "176\n",
      "177\n",
      "178\n",
      "179\n",
      "180\n",
      "181\n",
      "182\n",
      "183\n",
      "184\n"
     ]
    },
    {
     "name": "stderr",
     "output_type": "stream",
     "text": [
      "Insufficient data for analysis\n",
      "/tmp/ipykernel_542178/1703485871.py:9: FutureWarning: The behavior of array concatenation with empty entries is deprecated. In a future version, this will no longer exclude empty items when determining the result dtype. To retain the old behavior, exclude the empty entries before the concat operation.\n",
      "  df = pd.concat([df, a])\n"
     ]
    },
    {
     "name": "stdout",
     "output_type": "stream",
     "text": [
      "185\n",
      "186\n",
      "187\n",
      "188\n",
      "189\n",
      "190\n",
      "191\n",
      "192\n",
      "193\n",
      "194\n",
      "195\n",
      "196\n",
      "197\n",
      "198\n",
      "199\n",
      "200\n",
      "201\n",
      "202\n",
      "203\n",
      "204\n",
      "205\n",
      "206\n",
      "207\n",
      "208\n",
      "209\n",
      "210\n",
      "211\n",
      "212\n",
      "213\n",
      "214\n",
      "215\n"
     ]
    },
    {
     "name": "stderr",
     "output_type": "stream",
     "text": [
      "Insufficient data for analysis\n",
      "/tmp/ipykernel_542178/1703485871.py:9: FutureWarning: The behavior of array concatenation with empty entries is deprecated. In a future version, this will no longer exclude empty items when determining the result dtype. To retain the old behavior, exclude the empty entries before the concat operation.\n",
      "  df = pd.concat([df, a])\n"
     ]
    },
    {
     "name": "stdout",
     "output_type": "stream",
     "text": [
      "216\n",
      "217\n",
      "218\n",
      "219\n",
      "220\n",
      "221\n",
      "222\n",
      "223\n",
      "224\n",
      "225\n",
      "226\n",
      "227\n",
      "228\n",
      "229\n",
      "230\n",
      "231\n",
      "232\n",
      "233\n",
      "234\n",
      "235\n",
      "236\n",
      "237\n",
      "238\n",
      "239\n",
      "240\n",
      "241\n",
      "242\n",
      "243\n",
      "244\n",
      "245\n",
      "246\n",
      "247\n",
      "248\n",
      "249\n",
      "250\n",
      "251\n",
      "252\n",
      "253\n",
      "254\n",
      "255\n",
      "256\n",
      "257\n",
      "258\n",
      "259\n",
      "260\n",
      "261\n",
      "262\n",
      "263\n",
      "264\n"
     ]
    },
    {
     "name": "stderr",
     "output_type": "stream",
     "text": [
      "Insufficient data for analysis\n",
      "/tmp/ipykernel_542178/1703485871.py:9: FutureWarning: The behavior of array concatenation with empty entries is deprecated. In a future version, this will no longer exclude empty items when determining the result dtype. To retain the old behavior, exclude the empty entries before the concat operation.\n",
      "  df = pd.concat([df, a])\n"
     ]
    },
    {
     "name": "stdout",
     "output_type": "stream",
     "text": [
      "265\n",
      "266\n",
      "267\n",
      "268\n",
      "269\n",
      "270\n",
      "271\n",
      "272\n",
      "273\n",
      "274\n",
      "275\n",
      "276\n",
      "277\n",
      "278\n",
      "279\n",
      "280\n",
      "281\n",
      "282\n",
      "283\n",
      "284\n",
      "285\n",
      "286\n",
      "287\n",
      "288\n",
      "289\n",
      "290\n",
      "291\n",
      "292\n",
      "293\n",
      "294\n",
      "295\n",
      "296\n",
      "297\n",
      "298\n",
      "299\n",
      "300\n"
     ]
    },
    {
     "name": "stderr",
     "output_type": "stream",
     "text": [
      "Insufficient data for analysis\n",
      "/tmp/ipykernel_542178/1703485871.py:9: FutureWarning: The behavior of array concatenation with empty entries is deprecated. In a future version, this will no longer exclude empty items when determining the result dtype. To retain the old behavior, exclude the empty entries before the concat operation.\n",
      "  df = pd.concat([df, a])\n"
     ]
    },
    {
     "name": "stdout",
     "output_type": "stream",
     "text": [
      "301\n",
      "302\n",
      "303\n",
      "304\n",
      "305\n"
     ]
    },
    {
     "name": "stderr",
     "output_type": "stream",
     "text": [
      "Insufficient data for analysis\n",
      "/tmp/ipykernel_542178/1703485871.py:9: FutureWarning: The behavior of array concatenation with empty entries is deprecated. In a future version, this will no longer exclude empty items when determining the result dtype. To retain the old behavior, exclude the empty entries before the concat operation.\n",
      "  df = pd.concat([df, a])\n"
     ]
    },
    {
     "name": "stdout",
     "output_type": "stream",
     "text": [
      "306\n",
      "307\n",
      "308\n",
      "309\n",
      "310\n",
      "311\n",
      "312\n",
      "313\n",
      "314\n",
      "315\n",
      "316\n",
      "317\n",
      "318\n",
      "319\n",
      "320\n",
      "321\n",
      "322\n",
      "323\n",
      "324\n",
      "325\n",
      "326\n",
      "327\n",
      "328\n",
      "329\n",
      "330\n",
      "331\n",
      "332\n",
      "333\n",
      "334\n",
      "335\n",
      "336\n",
      "337\n"
     ]
    },
    {
     "name": "stderr",
     "output_type": "stream",
     "text": [
      "Insufficient data for analysis\n",
      "/tmp/ipykernel_542178/1703485871.py:9: FutureWarning: The behavior of array concatenation with empty entries is deprecated. In a future version, this will no longer exclude empty items when determining the result dtype. To retain the old behavior, exclude the empty entries before the concat operation.\n",
      "  df = pd.concat([df, a])\n"
     ]
    },
    {
     "name": "stdout",
     "output_type": "stream",
     "text": [
      "338\n"
     ]
    },
    {
     "name": "stderr",
     "output_type": "stream",
     "text": [
      "Insufficient data for analysis\n",
      "/tmp/ipykernel_542178/1703485871.py:9: FutureWarning: The behavior of array concatenation with empty entries is deprecated. In a future version, this will no longer exclude empty items when determining the result dtype. To retain the old behavior, exclude the empty entries before the concat operation.\n",
      "  df = pd.concat([df, a])\n"
     ]
    },
    {
     "name": "stdout",
     "output_type": "stream",
     "text": [
      "339\n",
      "340\n",
      "341\n",
      "342\n",
      "343\n",
      "344\n",
      "345\n",
      "346\n",
      "347\n",
      "348\n",
      "349\n",
      "350\n",
      "351\n",
      "352\n",
      "353\n",
      "354\n",
      "355\n",
      "356\n",
      "357\n",
      "358\n",
      "359\n",
      "360\n",
      "361\n",
      "362\n",
      "363\n",
      "364\n",
      "365\n",
      "366\n",
      "367\n",
      "368\n",
      "369\n",
      "370\n",
      "371\n",
      "372\n",
      "373\n"
     ]
    },
    {
     "name": "stderr",
     "output_type": "stream",
     "text": [
      "Insufficient data for analysis\n",
      "/tmp/ipykernel_542178/1703485871.py:9: FutureWarning: The behavior of array concatenation with empty entries is deprecated. In a future version, this will no longer exclude empty items when determining the result dtype. To retain the old behavior, exclude the empty entries before the concat operation.\n",
      "  df = pd.concat([df, a])\n"
     ]
    },
    {
     "name": "stdout",
     "output_type": "stream",
     "text": [
      "374\n",
      "375\n",
      "376\n",
      "377\n",
      "378\n",
      "379\n",
      "380\n",
      "381\n",
      "382\n"
     ]
    },
    {
     "name": "stderr",
     "output_type": "stream",
     "text": [
      "Insufficient data for analysis\n",
      "/tmp/ipykernel_542178/1703485871.py:9: FutureWarning: The behavior of array concatenation with empty entries is deprecated. In a future version, this will no longer exclude empty items when determining the result dtype. To retain the old behavior, exclude the empty entries before the concat operation.\n",
      "  df = pd.concat([df, a])\n"
     ]
    },
    {
     "name": "stdout",
     "output_type": "stream",
     "text": [
      "383\n",
      "384\n",
      "385\n",
      "386\n",
      "387\n",
      "388\n",
      "389\n",
      "390\n",
      "391\n",
      "392\n",
      "393\n",
      "394\n",
      "395\n",
      "396\n"
     ]
    },
    {
     "name": "stderr",
     "output_type": "stream",
     "text": [
      "Insufficient data for analysis\n",
      "/tmp/ipykernel_542178/1703485871.py:9: FutureWarning: The behavior of array concatenation with empty entries is deprecated. In a future version, this will no longer exclude empty items when determining the result dtype. To retain the old behavior, exclude the empty entries before the concat operation.\n",
      "  df = pd.concat([df, a])\n"
     ]
    },
    {
     "name": "stdout",
     "output_type": "stream",
     "text": [
      "397\n",
      "398\n",
      "399\n",
      "400\n",
      "401\n",
      "402\n",
      "403\n",
      "404\n",
      "405\n",
      "406\n",
      "407\n",
      "408\n",
      "409\n",
      "410\n",
      "411\n",
      "412\n",
      "413\n",
      "414\n"
     ]
    },
    {
     "name": "stderr",
     "output_type": "stream",
     "text": [
      "Insufficient data for analysis\n",
      "/tmp/ipykernel_542178/1703485871.py:9: FutureWarning: The behavior of array concatenation with empty entries is deprecated. In a future version, this will no longer exclude empty items when determining the result dtype. To retain the old behavior, exclude the empty entries before the concat operation.\n",
      "  df = pd.concat([df, a])\n"
     ]
    },
    {
     "name": "stdout",
     "output_type": "stream",
     "text": [
      "415\n",
      "416\n",
      "417\n",
      "418\n",
      "419\n",
      "420\n",
      "421\n",
      "422\n",
      "423\n",
      "424\n",
      "425\n",
      "426\n",
      "427\n",
      "428\n",
      "429\n",
      "430\n",
      "431\n",
      "432\n",
      "433\n",
      "434\n",
      "435\n",
      "436\n",
      "437\n",
      "438\n",
      "439\n",
      "440\n",
      "441\n",
      "442\n"
     ]
    },
    {
     "name": "stderr",
     "output_type": "stream",
     "text": [
      "Insufficient data for analysis\n",
      "/tmp/ipykernel_542178/1703485871.py:9: FutureWarning: The behavior of array concatenation with empty entries is deprecated. In a future version, this will no longer exclude empty items when determining the result dtype. To retain the old behavior, exclude the empty entries before the concat operation.\n",
      "  df = pd.concat([df, a])\n"
     ]
    },
    {
     "name": "stdout",
     "output_type": "stream",
     "text": [
      "443\n",
      "444\n",
      "445\n",
      "446\n",
      "447\n",
      "448\n",
      "449\n",
      "450\n",
      "451\n",
      "452\n",
      "453\n",
      "454\n",
      "455\n",
      "456\n",
      "457\n",
      "458\n",
      "459\n",
      "460\n",
      "461\n",
      "462\n",
      "463\n",
      "464\n",
      "465\n",
      "466\n",
      "467\n",
      "468\n",
      "469\n",
      "470\n",
      "471\n",
      "472\n",
      "473\n",
      "474\n",
      "475\n",
      "476\n",
      "477\n",
      "478\n",
      "479\n",
      "480\n",
      "481\n",
      "482\n",
      "483\n",
      "484\n",
      "485\n",
      "486\n",
      "487\n",
      "488\n",
      "489\n",
      "490\n",
      "491\n",
      "492\n",
      "493\n",
      "494\n",
      "495\n",
      "496\n",
      "497\n",
      "498\n",
      "499\n",
      "500\n",
      "501\n",
      "502\n",
      "503\n",
      "504\n",
      "505\n",
      "506\n",
      "507\n"
     ]
    }
   ],
   "source": [
    "for i in range(0, len(all_tickers)):\n",
    "    ticker = all_tickers[i]\n",
    "    print(i)\n",
    "    a = coppock_strategy.generate_signals(ticker)\n",
    "    a['ticker'] = ticker\n",
    "    if i == 0:\n",
    "        df = a\n",
    "    else:\n",
    "        df = pd.concat([df, a])"
   ]
  },
  {
   "cell_type": "code",
   "execution_count": 15,
   "metadata": {},
   "outputs": [
    {
     "data": {
      "text/plain": [
       "66"
      ]
     },
     "execution_count": 15,
     "metadata": {},
     "output_type": "execute_result"
    }
   ],
   "source": [
    "sum(df.signal ==-1)\n"
   ]
  },
  {
   "cell_type": "code",
   "execution_count": 16,
   "metadata": {},
   "outputs": [],
   "source": [
    "def generate_repeated_array(input_number):\n",
    "    \"\"\"\n",
    "    Generates a numpy array where the input number is repeated 21 times,\n",
    "    the previous number is repeated 21 times, and so on, until 1 is repeated 21 times.\n",
    "\n",
    "    Args:\n",
    "        input_number (int): The starting number for the array generation.\n",
    "\n",
    "    Returns:\n",
    "        numpy.ndarray: A 1D numpy array with the described repeated sequence.\n",
    "    \"\"\"\n",
    "\n",
    "    if not isinstance(input_number, int) or input_number <= 0:\n",
    "        raise ValueError(\"Input must be a positive integer.\")\n",
    "\n",
    "    repetitions = 21\n",
    "    number_sequence = np.arange(input_number, 0, -1) # Efficiently create a sequence from input_number down to 1\n",
    "    repeated_array = np.repeat(number_sequence, repetitions) # Efficiently repeat each number in the sequence\n",
    "\n",
    "    return repeated_array"
   ]
  },
  {
   "cell_type": "code",
   "execution_count": 20,
   "metadata": {},
   "outputs": [
    {
     "data": {
      "text/plain": [
       "array([10, 10, 10, 10, 10, 10, 10, 10, 10, 10, 10, 10, 10, 10, 10, 10, 10,\n",
       "       10, 10, 10, 10,  9,  9,  9,  9,  9,  9,  9,  9,  9,  9,  9,  9,  9,\n",
       "        9,  9,  9,  9,  9,  9,  9,  9,  8,  8,  8,  8,  8,  8,  8,  8,  8,\n",
       "        8,  8,  8,  8,  8,  8,  8,  8,  8,  8,  8,  8,  7,  7,  7,  7,  7,\n",
       "        7,  7,  7,  7,  7,  7,  7,  7,  7,  7,  7,  7,  7,  7,  7,  7,  6,\n",
       "        6,  6,  6,  6,  6,  6,  6,  6,  6,  6,  6,  6,  6,  6,  6,  6,  6,\n",
       "        6,  6,  6,  5,  5,  5,  5,  5,  5,  5,  5,  5,  5,  5,  5,  5,  5,\n",
       "        5,  5,  5,  5,  5,  5,  5,  4,  4,  4,  4,  4,  4,  4,  4,  4,  4,\n",
       "        4,  4,  4,  4,  4,  4,  4,  4,  4,  4,  4,  3,  3,  3,  3,  3,  3,\n",
       "        3,  3,  3,  3,  3,  3,  3,  3,  3,  3,  3,  3,  3,  3,  3,  2,  2,\n",
       "        2,  2,  2,  2,  2,  2,  2,  2,  2,  2,  2,  2,  2,  2,  2,  2,  2,\n",
       "        2,  2,  1,  1,  1,  1,  1,  1,  1,  1,  1,  1,  1,  1,  1,  1,  1,\n",
       "        1,  1,  1,  1,  1,  1])"
      ]
     },
     "execution_count": 20,
     "metadata": {},
     "output_type": "execute_result"
    }
   ],
   "source": [
    "import numpy as np\n",
    "generate_repeated_array(10)"
   ]
  },
  {
   "cell_type": "code",
   "execution_count": null,
   "metadata": {},
   "outputs": [],
   "source": []
  },
  {
   "cell_type": "code",
   "execution_count": 6,
   "metadata": {},
   "outputs": [],
   "source": [
    "a = coppock_strategy.generate_signals(all_tickers[200])"
   ]
  },
  {
   "cell_type": "code",
   "execution_count": 7,
   "metadata": {},
   "outputs": [
    {
     "data": {
      "text/html": [
       "<div>\n",
       "<style scoped>\n",
       "    .dataframe tbody tr th:only-of-type {\n",
       "        vertical-align: middle;\n",
       "    }\n",
       "\n",
       "    .dataframe tbody tr th {\n",
       "        vertical-align: top;\n",
       "    }\n",
       "\n",
       "    .dataframe thead th {\n",
       "        text-align: right;\n",
       "    }\n",
       "</style>\n",
       "<table border=\"1\" class=\"dataframe\">\n",
       "  <thead>\n",
       "    <tr style=\"text-align: right;\">\n",
       "      <th></th>\n",
       "      <th>close</th>\n",
       "      <th>high</th>\n",
       "      <th>low</th>\n",
       "      <th>signal</th>\n",
       "      <th>position</th>\n",
       "      <th>return</th>\n",
       "      <th>cumulative_return</th>\n",
       "      <th>exit_type</th>\n",
       "      <th>strength</th>\n",
       "    </tr>\n",
       "    <tr>\n",
       "      <th>date</th>\n",
       "      <th></th>\n",
       "      <th></th>\n",
       "      <th></th>\n",
       "      <th></th>\n",
       "      <th></th>\n",
       "      <th></th>\n",
       "      <th></th>\n",
       "      <th></th>\n",
       "      <th></th>\n",
       "    </tr>\n",
       "  </thead>\n",
       "  <tbody>\n",
       "    <tr>\n",
       "      <th>2025-01-08</th>\n",
       "      <td>3904.800049</td>\n",
       "      <td>3960.600098</td>\n",
       "      <td>3878.800049</td>\n",
       "      <td>0</td>\n",
       "      <td>0.0</td>\n",
       "      <td>0.0</td>\n",
       "      <td>0.0</td>\n",
       "      <td>none</td>\n",
       "      <td>NaN</td>\n",
       "    </tr>\n",
       "    <tr>\n",
       "      <th>2025-01-09</th>\n",
       "      <td>3946.000000</td>\n",
       "      <td>4249.000000</td>\n",
       "      <td>3870.500000</td>\n",
       "      <td>0</td>\n",
       "      <td>0.0</td>\n",
       "      <td>0.0</td>\n",
       "      <td>0.0</td>\n",
       "      <td>none</td>\n",
       "      <td>-1.000000</td>\n",
       "    </tr>\n",
       "    <tr>\n",
       "      <th>2025-01-10</th>\n",
       "      <td>3793.800049</td>\n",
       "      <td>3947.500000</td>\n",
       "      <td>3767.050049</td>\n",
       "      <td>0</td>\n",
       "      <td>0.0</td>\n",
       "      <td>0.0</td>\n",
       "      <td>0.0</td>\n",
       "      <td>none</td>\n",
       "      <td>-1.000000</td>\n",
       "    </tr>\n",
       "    <tr>\n",
       "      <th>2025-01-13</th>\n",
       "      <td>3726.600098</td>\n",
       "      <td>3750.000000</td>\n",
       "      <td>3529.300049</td>\n",
       "      <td>0</td>\n",
       "      <td>0.0</td>\n",
       "      <td>0.0</td>\n",
       "      <td>0.0</td>\n",
       "      <td>none</td>\n",
       "      <td>-1.000000</td>\n",
       "    </tr>\n",
       "    <tr>\n",
       "      <th>2025-01-14</th>\n",
       "      <td>3666.600098</td>\n",
       "      <td>3735.699951</td>\n",
       "      <td>3620.000000</td>\n",
       "      <td>0</td>\n",
       "      <td>0.0</td>\n",
       "      <td>0.0</td>\n",
       "      <td>0.0</td>\n",
       "      <td>none</td>\n",
       "      <td>-1.000000</td>\n",
       "    </tr>\n",
       "    <tr>\n",
       "      <th>2025-01-15</th>\n",
       "      <td>3741.750000</td>\n",
       "      <td>3765.000000</td>\n",
       "      <td>3623.399902</td>\n",
       "      <td>0</td>\n",
       "      <td>0.0</td>\n",
       "      <td>0.0</td>\n",
       "      <td>0.0</td>\n",
       "      <td>none</td>\n",
       "      <td>-1.000000</td>\n",
       "    </tr>\n",
       "    <tr>\n",
       "      <th>2025-01-16</th>\n",
       "      <td>3821.199951</td>\n",
       "      <td>3848.649902</td>\n",
       "      <td>3657.800049</td>\n",
       "      <td>0</td>\n",
       "      <td>0.0</td>\n",
       "      <td>0.0</td>\n",
       "      <td>0.0</td>\n",
       "      <td>none</td>\n",
       "      <td>-0.939279</td>\n",
       "    </tr>\n",
       "    <tr>\n",
       "      <th>2025-01-17</th>\n",
       "      <td>3775.750000</td>\n",
       "      <td>3815.399902</td>\n",
       "      <td>3755.850098</td>\n",
       "      <td>0</td>\n",
       "      <td>0.0</td>\n",
       "      <td>0.0</td>\n",
       "      <td>0.0</td>\n",
       "      <td>none</td>\n",
       "      <td>-0.852946</td>\n",
       "    </tr>\n",
       "    <tr>\n",
       "      <th>2025-01-20</th>\n",
       "      <td>3755.250000</td>\n",
       "      <td>3773.300049</td>\n",
       "      <td>3716.050049</td>\n",
       "      <td>0</td>\n",
       "      <td>0.0</td>\n",
       "      <td>0.0</td>\n",
       "      <td>0.0</td>\n",
       "      <td>none</td>\n",
       "      <td>-0.742784</td>\n",
       "    </tr>\n",
       "    <tr>\n",
       "      <th>2025-01-21</th>\n",
       "      <td>3783.699951</td>\n",
       "      <td>3884.800049</td>\n",
       "      <td>3702.300049</td>\n",
       "      <td>0</td>\n",
       "      <td>0.0</td>\n",
       "      <td>0.0</td>\n",
       "      <td>0.0</td>\n",
       "      <td>none</td>\n",
       "      <td>-0.491829</td>\n",
       "    </tr>\n",
       "    <tr>\n",
       "      <th>2025-01-22</th>\n",
       "      <td>3680.149902</td>\n",
       "      <td>3879.600098</td>\n",
       "      <td>3620.000000</td>\n",
       "      <td>0</td>\n",
       "      <td>0.0</td>\n",
       "      <td>0.0</td>\n",
       "      <td>0.0</td>\n",
       "      <td>none</td>\n",
       "      <td>-0.507424</td>\n",
       "    </tr>\n",
       "    <tr>\n",
       "      <th>2025-01-23</th>\n",
       "      <td>3719.550049</td>\n",
       "      <td>3763.250000</td>\n",
       "      <td>3620.050049</td>\n",
       "      <td>0</td>\n",
       "      <td>0.0</td>\n",
       "      <td>0.0</td>\n",
       "      <td>0.0</td>\n",
       "      <td>none</td>\n",
       "      <td>-0.104260</td>\n",
       "    </tr>\n",
       "    <tr>\n",
       "      <th>2025-01-24</th>\n",
       "      <td>3600.550049</td>\n",
       "      <td>3791.850098</td>\n",
       "      <td>3566.600098</td>\n",
       "      <td>0</td>\n",
       "      <td>0.0</td>\n",
       "      <td>0.0</td>\n",
       "      <td>0.0</td>\n",
       "      <td>none</td>\n",
       "      <td>-0.505077</td>\n",
       "    </tr>\n",
       "    <tr>\n",
       "      <th>2025-01-27</th>\n",
       "      <td>3534.850098</td>\n",
       "      <td>3607.199951</td>\n",
       "      <td>3270.000000</td>\n",
       "      <td>0</td>\n",
       "      <td>0.0</td>\n",
       "      <td>0.0</td>\n",
       "      <td>0.0</td>\n",
       "      <td>none</td>\n",
       "      <td>-0.893314</td>\n",
       "    </tr>\n",
       "    <tr>\n",
       "      <th>2025-01-28</th>\n",
       "      <td>3344.050049</td>\n",
       "      <td>3524.600098</td>\n",
       "      <td>3315.550049</td>\n",
       "      <td>0</td>\n",
       "      <td>0.0</td>\n",
       "      <td>0.0</td>\n",
       "      <td>0.0</td>\n",
       "      <td>none</td>\n",
       "      <td>-1.000000</td>\n",
       "    </tr>\n",
       "    <tr>\n",
       "      <th>2025-01-29</th>\n",
       "      <td>3533.550049</td>\n",
       "      <td>3604.899902</td>\n",
       "      <td>3300.000000</td>\n",
       "      <td>0</td>\n",
       "      <td>0.0</td>\n",
       "      <td>0.0</td>\n",
       "      <td>0.0</td>\n",
       "      <td>none</td>\n",
       "      <td>-1.000000</td>\n",
       "    </tr>\n",
       "    <tr>\n",
       "      <th>2025-01-30</th>\n",
       "      <td>3591.600098</td>\n",
       "      <td>3711.500000</td>\n",
       "      <td>3536.850098</td>\n",
       "      <td>0</td>\n",
       "      <td>0.0</td>\n",
       "      <td>0.0</td>\n",
       "      <td>0.0</td>\n",
       "      <td>none</td>\n",
       "      <td>-1.000000</td>\n",
       "    </tr>\n",
       "    <tr>\n",
       "      <th>2025-01-31</th>\n",
       "      <td>3578.050049</td>\n",
       "      <td>3615.949951</td>\n",
       "      <td>3535.000000</td>\n",
       "      <td>0</td>\n",
       "      <td>0.0</td>\n",
       "      <td>0.0</td>\n",
       "      <td>0.0</td>\n",
       "      <td>none</td>\n",
       "      <td>-1.000000</td>\n",
       "    </tr>\n",
       "    <tr>\n",
       "      <th>2025-02-01</th>\n",
       "      <td>3570.550049</td>\n",
       "      <td>3655.800049</td>\n",
       "      <td>3486.000000</td>\n",
       "      <td>0</td>\n",
       "      <td>0.0</td>\n",
       "      <td>0.0</td>\n",
       "      <td>0.0</td>\n",
       "      <td>none</td>\n",
       "      <td>-1.000000</td>\n",
       "    </tr>\n",
       "    <tr>\n",
       "      <th>2025-02-03</th>\n",
       "      <td>3609.550049</td>\n",
       "      <td>3642.100098</td>\n",
       "      <td>3468.550049</td>\n",
       "      <td>0</td>\n",
       "      <td>0.0</td>\n",
       "      <td>0.0</td>\n",
       "      <td>0.0</td>\n",
       "      <td>none</td>\n",
       "      <td>-0.932724</td>\n",
       "    </tr>\n",
       "    <tr>\n",
       "      <th>2025-02-04</th>\n",
       "      <td>3716.600098</td>\n",
       "      <td>3729.500000</td>\n",
       "      <td>3618.899902</td>\n",
       "      <td>0</td>\n",
       "      <td>0.0</td>\n",
       "      <td>0.0</td>\n",
       "      <td>0.0</td>\n",
       "      <td>none</td>\n",
       "      <td>-0.672206</td>\n",
       "    </tr>\n",
       "    <tr>\n",
       "      <th>2025-02-05</th>\n",
       "      <td>3679.850098</td>\n",
       "      <td>3759.949951</td>\n",
       "      <td>3648.100098</td>\n",
       "      <td>0</td>\n",
       "      <td>0.0</td>\n",
       "      <td>0.0</td>\n",
       "      <td>0.0</td>\n",
       "      <td>none</td>\n",
       "      <td>-0.591373</td>\n",
       "    </tr>\n",
       "    <tr>\n",
       "      <th>2025-02-06</th>\n",
       "      <td>3704.399902</td>\n",
       "      <td>3728.050049</td>\n",
       "      <td>3665.649902</td>\n",
       "      <td>0</td>\n",
       "      <td>0.0</td>\n",
       "      <td>0.0</td>\n",
       "      <td>0.0</td>\n",
       "      <td>none</td>\n",
       "      <td>-0.296377</td>\n",
       "    </tr>\n",
       "    <tr>\n",
       "      <th>2025-02-07</th>\n",
       "      <td>3701.300049</td>\n",
       "      <td>3735.000000</td>\n",
       "      <td>3672.949951</td>\n",
       "      <td>0</td>\n",
       "      <td>0.0</td>\n",
       "      <td>0.0</td>\n",
       "      <td>0.0</td>\n",
       "      <td>none</td>\n",
       "      <td>-0.153141</td>\n",
       "    </tr>\n",
       "  </tbody>\n",
       "</table>\n",
       "</div>"
      ],
      "text/plain": [
       "                  close         high          low  signal  position  return  \\\n",
       "date                                                                          \n",
       "2025-01-08  3904.800049  3960.600098  3878.800049       0       0.0     0.0   \n",
       "2025-01-09  3946.000000  4249.000000  3870.500000       0       0.0     0.0   \n",
       "2025-01-10  3793.800049  3947.500000  3767.050049       0       0.0     0.0   \n",
       "2025-01-13  3726.600098  3750.000000  3529.300049       0       0.0     0.0   \n",
       "2025-01-14  3666.600098  3735.699951  3620.000000       0       0.0     0.0   \n",
       "2025-01-15  3741.750000  3765.000000  3623.399902       0       0.0     0.0   \n",
       "2025-01-16  3821.199951  3848.649902  3657.800049       0       0.0     0.0   \n",
       "2025-01-17  3775.750000  3815.399902  3755.850098       0       0.0     0.0   \n",
       "2025-01-20  3755.250000  3773.300049  3716.050049       0       0.0     0.0   \n",
       "2025-01-21  3783.699951  3884.800049  3702.300049       0       0.0     0.0   \n",
       "2025-01-22  3680.149902  3879.600098  3620.000000       0       0.0     0.0   \n",
       "2025-01-23  3719.550049  3763.250000  3620.050049       0       0.0     0.0   \n",
       "2025-01-24  3600.550049  3791.850098  3566.600098       0       0.0     0.0   \n",
       "2025-01-27  3534.850098  3607.199951  3270.000000       0       0.0     0.0   \n",
       "2025-01-28  3344.050049  3524.600098  3315.550049       0       0.0     0.0   \n",
       "2025-01-29  3533.550049  3604.899902  3300.000000       0       0.0     0.0   \n",
       "2025-01-30  3591.600098  3711.500000  3536.850098       0       0.0     0.0   \n",
       "2025-01-31  3578.050049  3615.949951  3535.000000       0       0.0     0.0   \n",
       "2025-02-01  3570.550049  3655.800049  3486.000000       0       0.0     0.0   \n",
       "2025-02-03  3609.550049  3642.100098  3468.550049       0       0.0     0.0   \n",
       "2025-02-04  3716.600098  3729.500000  3618.899902       0       0.0     0.0   \n",
       "2025-02-05  3679.850098  3759.949951  3648.100098       0       0.0     0.0   \n",
       "2025-02-06  3704.399902  3728.050049  3665.649902       0       0.0     0.0   \n",
       "2025-02-07  3701.300049  3735.000000  3672.949951       0       0.0     0.0   \n",
       "\n",
       "            cumulative_return exit_type  strength  \n",
       "date                                               \n",
       "2025-01-08                0.0      none       NaN  \n",
       "2025-01-09                0.0      none -1.000000  \n",
       "2025-01-10                0.0      none -1.000000  \n",
       "2025-01-13                0.0      none -1.000000  \n",
       "2025-01-14                0.0      none -1.000000  \n",
       "2025-01-15                0.0      none -1.000000  \n",
       "2025-01-16                0.0      none -0.939279  \n",
       "2025-01-17                0.0      none -0.852946  \n",
       "2025-01-20                0.0      none -0.742784  \n",
       "2025-01-21                0.0      none -0.491829  \n",
       "2025-01-22                0.0      none -0.507424  \n",
       "2025-01-23                0.0      none -0.104260  \n",
       "2025-01-24                0.0      none -0.505077  \n",
       "2025-01-27                0.0      none -0.893314  \n",
       "2025-01-28                0.0      none -1.000000  \n",
       "2025-01-29                0.0      none -1.000000  \n",
       "2025-01-30                0.0      none -1.000000  \n",
       "2025-01-31                0.0      none -1.000000  \n",
       "2025-02-01                0.0      none -1.000000  \n",
       "2025-02-03                0.0      none -0.932724  \n",
       "2025-02-04                0.0      none -0.672206  \n",
       "2025-02-05                0.0      none -0.591373  \n",
       "2025-02-06                0.0      none -0.296377  \n",
       "2025-02-07                0.0      none -0.153141  "
      ]
     },
     "execution_count": 7,
     "metadata": {},
     "output_type": "execute_result"
    }
   ],
   "source": [
    "a\n"
   ]
  },
  {
   "cell_type": "code",
   "execution_count": 14,
   "metadata": {},
   "outputs": [],
   "source": [
    "from src.strategies.momentum.disparity_index_strat import DisparityIndexStrategy"
   ]
  },
  {
   "cell_type": "code",
   "execution_count": 15,
   "metadata": {},
   "outputs": [],
   "source": [
    "di_strat = DisparityIndexStrategy(db_config)"
   ]
  },
  {
   "cell_type": "code",
   "execution_count": 16,
   "metadata": {},
   "outputs": [],
   "source": [
    "a = di_strat.generate_signals(all_tickers[0])"
   ]
  },
  {
   "cell_type": "code",
   "execution_count": 19,
   "metadata": {},
   "outputs": [
    {
     "name": "stdout",
     "output_type": "stream",
     "text": [
      "0\n",
      "1\n",
      "2\n",
      "3\n",
      "4\n",
      "5\n",
      "6\n",
      "7\n",
      "8\n",
      "9\n",
      "10\n",
      "11\n",
      "12\n",
      "13\n",
      "14\n",
      "15\n",
      "16\n",
      "17\n",
      "18\n",
      "19\n",
      "20\n",
      "21\n",
      "22\n",
      "23\n",
      "24\n",
      "25\n",
      "26\n",
      "27\n",
      "28\n",
      "29\n",
      "30\n",
      "31\n",
      "32\n",
      "33\n",
      "34\n",
      "35\n",
      "36\n",
      "37\n",
      "38\n",
      "39\n",
      "40\n",
      "41\n",
      "42\n",
      "43\n",
      "44\n",
      "45\n",
      "46\n",
      "47\n",
      "48\n",
      "49\n",
      "50\n",
      "51\n",
      "52\n",
      "53\n",
      "54\n",
      "55\n",
      "56\n",
      "57\n",
      "58\n",
      "59\n",
      "60\n",
      "61\n",
      "62\n",
      "63\n",
      "64\n",
      "65\n",
      "66\n",
      "67\n",
      "68\n",
      "69\n",
      "70\n",
      "71\n",
      "72\n",
      "73\n",
      "74\n",
      "75\n",
      "76\n",
      "77\n",
      "78\n",
      "79\n",
      "80\n",
      "81\n",
      "82\n",
      "83\n",
      "84\n",
      "85\n",
      "86\n",
      "87\n",
      "88\n",
      "89\n",
      "90\n",
      "91\n",
      "92\n",
      "93\n",
      "94\n",
      "95\n",
      "96\n",
      "97\n",
      "98\n",
      "99\n",
      "100\n",
      "101\n",
      "102\n",
      "103\n",
      "104\n",
      "105\n",
      "106\n",
      "107\n",
      "108\n",
      "109\n",
      "110\n",
      "111\n",
      "112\n",
      "113\n",
      "114\n",
      "115\n",
      "116\n",
      "117\n",
      "118\n",
      "119\n",
      "120\n",
      "121\n",
      "122\n",
      "123\n",
      "124\n",
      "125\n",
      "126\n",
      "127\n",
      "128\n",
      "129\n",
      "130\n",
      "131\n",
      "132\n",
      "133\n",
      "134\n",
      "135\n",
      "136\n",
      "137\n",
      "138\n",
      "139\n",
      "140\n",
      "141\n",
      "142\n",
      "143\n",
      "144\n",
      "145\n",
      "146\n",
      "147\n",
      "148\n",
      "149\n",
      "150\n",
      "151\n",
      "152\n",
      "153\n",
      "154\n",
      "155\n",
      "156\n",
      "157\n",
      "158\n",
      "159\n",
      "160\n",
      "161\n",
      "162\n",
      "163\n",
      "164\n",
      "165\n",
      "166\n",
      "167\n",
      "168\n",
      "169\n",
      "170\n",
      "171\n",
      "172\n",
      "173\n",
      "174\n",
      "175\n",
      "176\n",
      "177\n",
      "178\n",
      "179\n",
      "180\n",
      "181\n",
      "182\n",
      "183\n",
      "184\n",
      "185\n",
      "186\n",
      "187\n",
      "188\n",
      "189\n",
      "190\n",
      "191\n",
      "192\n",
      "193\n",
      "194\n",
      "195\n",
      "196\n",
      "197\n",
      "198\n",
      "199\n",
      "200\n",
      "201\n",
      "202\n",
      "203\n",
      "204\n",
      "205\n",
      "206\n",
      "207\n",
      "208\n",
      "209\n",
      "210\n",
      "211\n",
      "212\n",
      "213\n",
      "214\n",
      "215\n",
      "216\n",
      "217\n",
      "218\n",
      "219\n",
      "220\n",
      "221\n",
      "222\n",
      "223\n",
      "224\n",
      "225\n",
      "226\n",
      "227\n",
      "228\n",
      "229\n",
      "230\n",
      "231\n",
      "232\n",
      "233\n",
      "234\n",
      "235\n",
      "236\n",
      "237\n",
      "238\n",
      "239\n",
      "240\n",
      "241\n",
      "242\n",
      "243\n",
      "244\n",
      "245\n",
      "246\n",
      "247\n",
      "248\n",
      "249\n",
      "250\n",
      "251\n",
      "252\n",
      "253\n",
      "254\n",
      "255\n",
      "256\n",
      "257\n",
      "258\n",
      "259\n",
      "260\n",
      "261\n",
      "262\n",
      "263\n",
      "264\n",
      "265\n",
      "266\n",
      "267\n",
      "268\n",
      "269\n",
      "270\n",
      "271\n",
      "272\n",
      "273\n",
      "274\n",
      "275\n",
      "276\n",
      "277\n",
      "278\n",
      "279\n",
      "280\n",
      "281\n",
      "282\n",
      "283\n",
      "284\n",
      "285\n",
      "286\n",
      "287\n",
      "288\n",
      "289\n",
      "290\n",
      "291\n",
      "292\n",
      "293\n",
      "294\n",
      "295\n",
      "296\n",
      "297\n",
      "298\n",
      "299\n",
      "300\n",
      "301\n",
      "302\n",
      "303\n",
      "304\n",
      "305\n",
      "306\n",
      "307\n",
      "308\n",
      "309\n",
      "310\n",
      "311\n",
      "312\n",
      "313\n",
      "314\n",
      "315\n",
      "316\n",
      "317\n",
      "318\n",
      "319\n",
      "320\n",
      "321\n",
      "322\n",
      "323\n",
      "324\n",
      "325\n",
      "326\n",
      "327\n",
      "328\n",
      "329\n",
      "330\n",
      "331\n",
      "332\n",
      "333\n",
      "334\n",
      "335\n",
      "336\n",
      "337\n",
      "338\n",
      "339\n",
      "340\n",
      "341\n",
      "342\n",
      "343\n",
      "344\n",
      "345\n",
      "346\n",
      "347\n",
      "348\n",
      "349\n",
      "350\n",
      "351\n",
      "352\n",
      "353\n",
      "354\n",
      "355\n",
      "356\n",
      "357\n",
      "358\n",
      "359\n",
      "360\n",
      "361\n",
      "362\n",
      "363\n",
      "364\n",
      "365\n",
      "366\n",
      "367\n",
      "368\n",
      "369\n",
      "370\n",
      "371\n",
      "372\n",
      "373\n",
      "374\n",
      "375\n",
      "376\n",
      "377\n",
      "378\n",
      "379\n",
      "380\n",
      "381\n",
      "382\n",
      "383\n",
      "384\n",
      "385\n",
      "386\n",
      "387\n",
      "388\n",
      "389\n",
      "390\n",
      "391\n",
      "392\n",
      "393\n",
      "394\n",
      "395\n",
      "396\n",
      "397\n",
      "398\n",
      "399\n",
      "400\n",
      "401\n",
      "402\n",
      "403\n",
      "404\n",
      "405\n",
      "406\n",
      "407\n",
      "408\n",
      "409\n",
      "410\n",
      "411\n",
      "412\n",
      "413\n",
      "414\n",
      "415\n",
      "416\n",
      "417\n",
      "418\n",
      "419\n",
      "420\n",
      "421\n",
      "422\n",
      "423\n",
      "424\n",
      "425\n",
      "426\n",
      "427\n",
      "428\n",
      "429\n",
      "430\n",
      "431\n",
      "432\n",
      "433\n",
      "434\n",
      "435\n",
      "436\n",
      "437\n",
      "438\n",
      "439\n",
      "440\n",
      "441\n",
      "442\n",
      "443\n",
      "444\n",
      "445\n",
      "446\n",
      "447\n",
      "448\n",
      "449\n",
      "450\n",
      "451\n",
      "452\n",
      "453\n",
      "454\n",
      "455\n",
      "456\n",
      "457\n",
      "458\n",
      "459\n",
      "460\n",
      "461\n",
      "462\n",
      "463\n",
      "464\n",
      "465\n",
      "466\n",
      "467\n",
      "468\n",
      "469\n",
      "470\n",
      "471\n",
      "472\n",
      "473\n",
      "474\n",
      "475\n",
      "476\n",
      "477\n",
      "478\n",
      "479\n",
      "480\n",
      "481\n",
      "482\n",
      "483\n",
      "484\n",
      "485\n",
      "486\n",
      "487\n",
      "488\n",
      "489\n",
      "490\n",
      "491\n",
      "492\n",
      "493\n",
      "494\n",
      "495\n",
      "496\n",
      "497\n",
      "498\n",
      "499\n",
      "500\n",
      "501\n",
      "502\n",
      "503\n",
      "504\n",
      "505\n",
      "506\n",
      "507\n"
     ]
    }
   ],
   "source": [
    "for i in range(0, len(all_tickers)):\n",
    "    ticker = all_tickers[i]\n",
    "    print(i)\n",
    "    a = di_strat.generate_signals(ticker)\n",
    "    a['ticker'] = ticker\n",
    "    if i == 0:\n",
    "        df = a\n",
    "    else:\n",
    "        df = pd.concat([df, a])\n"
   ]
  },
  {
   "cell_type": "code",
   "execution_count": 4,
   "metadata": {},
   "outputs": [],
   "source": [
    "from src.strategies.momentum.know_sure_thing_strat import KSTStrategy"
   ]
  },
  {
   "cell_type": "code",
   "execution_count": 5,
   "metadata": {},
   "outputs": [],
   "source": [
    "kst_strat = KSTStrategy(db_config)"
   ]
  },
  {
   "cell_type": "code",
   "execution_count": 6,
   "metadata": {},
   "outputs": [],
   "source": [
    "a = kst_strat.generate_signals(all_tickers[0])"
   ]
  },
  {
   "cell_type": "code",
   "execution_count": 7,
   "metadata": {},
   "outputs": [
    {
     "data": {
      "text/html": [
       "<div>\n",
       "<style scoped>\n",
       "    .dataframe tbody tr th:only-of-type {\n",
       "        vertical-align: middle;\n",
       "    }\n",
       "\n",
       "    .dataframe tbody tr th {\n",
       "        vertical-align: top;\n",
       "    }\n",
       "\n",
       "    .dataframe thead th {\n",
       "        text-align: right;\n",
       "    }\n",
       "</style>\n",
       "<table border=\"1\" class=\"dataframe\">\n",
       "  <thead>\n",
       "    <tr style=\"text-align: right;\">\n",
       "      <th></th>\n",
       "      <th>date</th>\n",
       "      <th>close</th>\n",
       "      <th>kst</th>\n",
       "      <th>signal_line</th>\n",
       "      <th>signal</th>\n",
       "      <th>signal_strength</th>\n",
       "    </tr>\n",
       "  </thead>\n",
       "  <tbody>\n",
       "    <tr>\n",
       "      <th>0</th>\n",
       "      <td>2024-11-26 00:00:00.000000</td>\n",
       "      <td>1785.400024</td>\n",
       "      <td>NaN</td>\n",
       "      <td>NaN</td>\n",
       "      <td>0</td>\n",
       "      <td>NaN</td>\n",
       "    </tr>\n",
       "    <tr>\n",
       "      <th>1</th>\n",
       "      <td>2024-11-27 00:00:00.000000</td>\n",
       "      <td>1811.000000</td>\n",
       "      <td>NaN</td>\n",
       "      <td>NaN</td>\n",
       "      <td>0</td>\n",
       "      <td>NaN</td>\n",
       "    </tr>\n",
       "    <tr>\n",
       "      <th>2</th>\n",
       "      <td>2024-11-28 00:00:00.000000</td>\n",
       "      <td>1792.900024</td>\n",
       "      <td>NaN</td>\n",
       "      <td>NaN</td>\n",
       "      <td>0</td>\n",
       "      <td>NaN</td>\n",
       "    </tr>\n",
       "    <tr>\n",
       "      <th>3</th>\n",
       "      <td>2024-11-29 00:00:00.000000</td>\n",
       "      <td>1797.650024</td>\n",
       "      <td>NaN</td>\n",
       "      <td>NaN</td>\n",
       "      <td>0</td>\n",
       "      <td>NaN</td>\n",
       "    </tr>\n",
       "    <tr>\n",
       "      <th>4</th>\n",
       "      <td>2024-12-02 00:00:00.000000</td>\n",
       "      <td>1804.550049</td>\n",
       "      <td>NaN</td>\n",
       "      <td>NaN</td>\n",
       "      <td>0</td>\n",
       "      <td>NaN</td>\n",
       "    </tr>\n",
       "    <tr>\n",
       "      <th>5</th>\n",
       "      <td>2024-12-03 00:00:00.000000</td>\n",
       "      <td>1826.849976</td>\n",
       "      <td>NaN</td>\n",
       "      <td>NaN</td>\n",
       "      <td>0</td>\n",
       "      <td>NaN</td>\n",
       "    </tr>\n",
       "    <tr>\n",
       "      <th>6</th>\n",
       "      <td>2024-12-04 00:00:00.000000</td>\n",
       "      <td>1860.050049</td>\n",
       "      <td>NaN</td>\n",
       "      <td>NaN</td>\n",
       "      <td>0</td>\n",
       "      <td>NaN</td>\n",
       "    </tr>\n",
       "    <tr>\n",
       "      <th>7</th>\n",
       "      <td>2024-12-05 00:00:00.000000</td>\n",
       "      <td>1863.800049</td>\n",
       "      <td>NaN</td>\n",
       "      <td>NaN</td>\n",
       "      <td>0</td>\n",
       "      <td>NaN</td>\n",
       "    </tr>\n",
       "    <tr>\n",
       "      <th>8</th>\n",
       "      <td>2024-12-06 00:00:00.000000</td>\n",
       "      <td>1856.500000</td>\n",
       "      <td>NaN</td>\n",
       "      <td>NaN</td>\n",
       "      <td>0</td>\n",
       "      <td>NaN</td>\n",
       "    </tr>\n",
       "    <tr>\n",
       "      <th>9</th>\n",
       "      <td>2024-12-09 00:00:00.000000</td>\n",
       "      <td>1869.800049</td>\n",
       "      <td>NaN</td>\n",
       "      <td>NaN</td>\n",
       "      <td>0</td>\n",
       "      <td>NaN</td>\n",
       "    </tr>\n",
       "    <tr>\n",
       "      <th>10</th>\n",
       "      <td>2024-12-10 00:00:00.000000</td>\n",
       "      <td>1868.050049</td>\n",
       "      <td>NaN</td>\n",
       "      <td>NaN</td>\n",
       "      <td>0</td>\n",
       "      <td>NaN</td>\n",
       "    </tr>\n",
       "    <tr>\n",
       "      <th>11</th>\n",
       "      <td>2024-12-11 00:00:00.000000</td>\n",
       "      <td>1863.699951</td>\n",
       "      <td>NaN</td>\n",
       "      <td>NaN</td>\n",
       "      <td>0</td>\n",
       "      <td>NaN</td>\n",
       "    </tr>\n",
       "    <tr>\n",
       "      <th>12</th>\n",
       "      <td>2024-12-12 00:00:00.000000</td>\n",
       "      <td>1858.949951</td>\n",
       "      <td>NaN</td>\n",
       "      <td>NaN</td>\n",
       "      <td>0</td>\n",
       "      <td>NaN</td>\n",
       "    </tr>\n",
       "    <tr>\n",
       "      <th>13</th>\n",
       "      <td>2024-12-13 00:00:00.000000</td>\n",
       "      <td>1872.050049</td>\n",
       "      <td>NaN</td>\n",
       "      <td>NaN</td>\n",
       "      <td>0</td>\n",
       "      <td>NaN</td>\n",
       "    </tr>\n",
       "    <tr>\n",
       "      <th>14</th>\n",
       "      <td>2024-12-16 00:00:00.000000</td>\n",
       "      <td>1864.800049</td>\n",
       "      <td>NaN</td>\n",
       "      <td>NaN</td>\n",
       "      <td>0</td>\n",
       "      <td>NaN</td>\n",
       "    </tr>\n",
       "    <tr>\n",
       "      <th>15</th>\n",
       "      <td>2024-12-17 00:00:00.000000</td>\n",
       "      <td>1832.849976</td>\n",
       "      <td>NaN</td>\n",
       "      <td>NaN</td>\n",
       "      <td>0</td>\n",
       "      <td>NaN</td>\n",
       "    </tr>\n",
       "    <tr>\n",
       "      <th>16</th>\n",
       "      <td>2024-12-18 00:00:00.000000</td>\n",
       "      <td>1811.199951</td>\n",
       "      <td>NaN</td>\n",
       "      <td>NaN</td>\n",
       "      <td>0</td>\n",
       "      <td>NaN</td>\n",
       "    </tr>\n",
       "    <tr>\n",
       "      <th>17</th>\n",
       "      <td>2024-12-19 00:00:00.000000</td>\n",
       "      <td>1793.449951</td>\n",
       "      <td>NaN</td>\n",
       "      <td>NaN</td>\n",
       "      <td>0</td>\n",
       "      <td>NaN</td>\n",
       "    </tr>\n",
       "    <tr>\n",
       "      <th>18</th>\n",
       "      <td>2024-12-20 00:00:00.000000</td>\n",
       "      <td>1772.050049</td>\n",
       "      <td>NaN</td>\n",
       "      <td>NaN</td>\n",
       "      <td>0</td>\n",
       "      <td>NaN</td>\n",
       "    </tr>\n",
       "    <tr>\n",
       "      <th>19</th>\n",
       "      <td>2024-12-23 00:00:00.000000</td>\n",
       "      <td>1801.000000</td>\n",
       "      <td>NaN</td>\n",
       "      <td>NaN</td>\n",
       "      <td>0</td>\n",
       "      <td>NaN</td>\n",
       "    </tr>\n",
       "    <tr>\n",
       "      <th>20</th>\n",
       "      <td>2024-12-24 00:00:00.000000</td>\n",
       "      <td>1797.650024</td>\n",
       "      <td>NaN</td>\n",
       "      <td>NaN</td>\n",
       "      <td>0</td>\n",
       "      <td>NaN</td>\n",
       "    </tr>\n",
       "    <tr>\n",
       "      <th>21</th>\n",
       "      <td>2024-12-26 00:00:00.000000</td>\n",
       "      <td>1791.750000</td>\n",
       "      <td>NaN</td>\n",
       "      <td>NaN</td>\n",
       "      <td>0</td>\n",
       "      <td>NaN</td>\n",
       "    </tr>\n",
       "    <tr>\n",
       "      <th>22</th>\n",
       "      <td>2024-12-27 00:00:00.000000</td>\n",
       "      <td>1797.849976</td>\n",
       "      <td>NaN</td>\n",
       "      <td>NaN</td>\n",
       "      <td>0</td>\n",
       "      <td>NaN</td>\n",
       "    </tr>\n",
       "    <tr>\n",
       "      <th>23</th>\n",
       "      <td>2024-12-30 00:00:00.000000</td>\n",
       "      <td>1778.699951</td>\n",
       "      <td>NaN</td>\n",
       "      <td>NaN</td>\n",
       "      <td>0</td>\n",
       "      <td>NaN</td>\n",
       "    </tr>\n",
       "    <tr>\n",
       "      <th>24</th>\n",
       "      <td>2024-12-31 00:00:00.000000</td>\n",
       "      <td>1772.449951</td>\n",
       "      <td>NaN</td>\n",
       "      <td>NaN</td>\n",
       "      <td>0</td>\n",
       "      <td>NaN</td>\n",
       "    </tr>\n",
       "    <tr>\n",
       "      <th>25</th>\n",
       "      <td>2025-01-01 00:00:00.000000</td>\n",
       "      <td>1782.449951</td>\n",
       "      <td>NaN</td>\n",
       "      <td>NaN</td>\n",
       "      <td>0</td>\n",
       "      <td>NaN</td>\n",
       "    </tr>\n",
       "    <tr>\n",
       "      <th>26</th>\n",
       "      <td>2025-01-02 00:00:00.000000</td>\n",
       "      <td>1793.349976</td>\n",
       "      <td>NaN</td>\n",
       "      <td>NaN</td>\n",
       "      <td>0</td>\n",
       "      <td>NaN</td>\n",
       "    </tr>\n",
       "    <tr>\n",
       "      <th>27</th>\n",
       "      <td>2025-01-03 00:00:00.000000</td>\n",
       "      <td>1749.300049</td>\n",
       "      <td>NaN</td>\n",
       "      <td>NaN</td>\n",
       "      <td>0</td>\n",
       "      <td>NaN</td>\n",
       "    </tr>\n",
       "    <tr>\n",
       "      <th>28</th>\n",
       "      <td>2025-01-06 00:00:00.000000</td>\n",
       "      <td>1710.300049</td>\n",
       "      <td>NaN</td>\n",
       "      <td>NaN</td>\n",
       "      <td>0</td>\n",
       "      <td>NaN</td>\n",
       "    </tr>\n",
       "    <tr>\n",
       "      <th>29</th>\n",
       "      <td>2025-01-07 00:00:00.000000</td>\n",
       "      <td>1714.099976</td>\n",
       "      <td>NaN</td>\n",
       "      <td>NaN</td>\n",
       "      <td>0</td>\n",
       "      <td>NaN</td>\n",
       "    </tr>\n",
       "    <tr>\n",
       "      <th>30</th>\n",
       "      <td>2025-01-08 00:00:00.000000</td>\n",
       "      <td>1694.150024</td>\n",
       "      <td>-47.596337</td>\n",
       "      <td>-47.596337</td>\n",
       "      <td>0</td>\n",
       "      <td>0.000000</td>\n",
       "    </tr>\n",
       "    <tr>\n",
       "      <th>31</th>\n",
       "      <td>2025-01-09 00:00:00.000000</td>\n",
       "      <td>1667.750000</td>\n",
       "      <td>-57.185495</td>\n",
       "      <td>-52.390916</td>\n",
       "      <td>-1</td>\n",
       "      <td>-4.794579</td>\n",
       "    </tr>\n",
       "    <tr>\n",
       "      <th>32</th>\n",
       "      <td>2025-01-10 00:00:00.000000</td>\n",
       "      <td>1657.150024</td>\n",
       "      <td>-63.205978</td>\n",
       "      <td>-55.995937</td>\n",
       "      <td>0</td>\n",
       "      <td>-7.210041</td>\n",
       "    </tr>\n",
       "    <tr>\n",
       "      <th>33</th>\n",
       "      <td>2025-01-13 00:00:00.000000</td>\n",
       "      <td>1630.099976</td>\n",
       "      <td>-70.324148</td>\n",
       "      <td>-59.577990</td>\n",
       "      <td>0</td>\n",
       "      <td>-10.746158</td>\n",
       "    </tr>\n",
       "    <tr>\n",
       "      <th>34</th>\n",
       "      <td>2025-01-14 00:00:00.000000</td>\n",
       "      <td>1644.250000</td>\n",
       "      <td>-75.389969</td>\n",
       "      <td>-62.740386</td>\n",
       "      <td>0</td>\n",
       "      <td>-12.649584</td>\n",
       "    </tr>\n",
       "    <tr>\n",
       "      <th>35</th>\n",
       "      <td>2025-01-15 00:00:00.000000</td>\n",
       "      <td>1642.750000</td>\n",
       "      <td>-80.633558</td>\n",
       "      <td>-65.722581</td>\n",
       "      <td>0</td>\n",
       "      <td>-14.910977</td>\n",
       "    </tr>\n",
       "    <tr>\n",
       "      <th>36</th>\n",
       "      <td>2025-01-16 00:00:00.000000</td>\n",
       "      <td>1652.750000</td>\n",
       "      <td>-85.378218</td>\n",
       "      <td>-68.530529</td>\n",
       "      <td>0</td>\n",
       "      <td>-16.847689</td>\n",
       "    </tr>\n",
       "    <tr>\n",
       "      <th>37</th>\n",
       "      <td>2025-01-17 00:00:00.000000</td>\n",
       "      <td>1636.699951</td>\n",
       "      <td>-88.973133</td>\n",
       "      <td>-71.085855</td>\n",
       "      <td>0</td>\n",
       "      <td>-17.887278</td>\n",
       "    </tr>\n",
       "    <tr>\n",
       "      <th>38</th>\n",
       "      <td>2025-01-20 00:00:00.000000</td>\n",
       "      <td>1651.250000</td>\n",
       "      <td>-89.259906</td>\n",
       "      <td>-73.105194</td>\n",
       "      <td>0</td>\n",
       "      <td>-16.154712</td>\n",
       "    </tr>\n",
       "    <tr>\n",
       "      <th>39</th>\n",
       "      <td>2025-01-21 00:00:00.000000</td>\n",
       "      <td>1641.750000</td>\n",
       "      <td>-90.390784</td>\n",
       "      <td>-77.860132</td>\n",
       "      <td>0</td>\n",
       "      <td>-12.530652</td>\n",
       "    </tr>\n",
       "    <tr>\n",
       "      <th>40</th>\n",
       "      <td>2025-01-22 00:00:00.000000</td>\n",
       "      <td>1665.050049</td>\n",
       "      <td>-89.691246</td>\n",
       "      <td>-81.471882</td>\n",
       "      <td>0</td>\n",
       "      <td>-8.219363</td>\n",
       "    </tr>\n",
       "    <tr>\n",
       "      <th>41</th>\n",
       "      <td>2025-01-23 00:00:00.000000</td>\n",
       "      <td>1664.800049</td>\n",
       "      <td>-88.173385</td>\n",
       "      <td>-84.246039</td>\n",
       "      <td>0</td>\n",
       "      <td>-3.927346</td>\n",
       "    </tr>\n",
       "    <tr>\n",
       "      <th>42</th>\n",
       "      <td>2025-01-24 00:00:00.000000</td>\n",
       "      <td>1649.550049</td>\n",
       "      <td>-86.741184</td>\n",
       "      <td>-86.070154</td>\n",
       "      <td>0</td>\n",
       "      <td>-0.671031</td>\n",
       "    </tr>\n",
       "    <tr>\n",
       "      <th>43</th>\n",
       "      <td>2025-01-27 00:00:00.000000</td>\n",
       "      <td>1629.699951</td>\n",
       "      <td>-84.764285</td>\n",
       "      <td>-87.111744</td>\n",
       "      <td>1</td>\n",
       "      <td>2.347459</td>\n",
       "    </tr>\n",
       "    <tr>\n",
       "      <th>44</th>\n",
       "      <td>2025-01-28 00:00:00.000000</td>\n",
       "      <td>1670.550049</td>\n",
       "      <td>-80.913270</td>\n",
       "      <td>-87.142823</td>\n",
       "      <td>0</td>\n",
       "      <td>6.229554</td>\n",
       "    </tr>\n",
       "    <tr>\n",
       "      <th>45</th>\n",
       "      <td>2025-01-29 00:00:00.000000</td>\n",
       "      <td>1677.099976</td>\n",
       "      <td>-77.963056</td>\n",
       "      <td>-86.318917</td>\n",
       "      <td>0</td>\n",
       "      <td>8.355861</td>\n",
       "    </tr>\n",
       "    <tr>\n",
       "      <th>46</th>\n",
       "      <td>2025-01-30 00:00:00.000000</td>\n",
       "      <td>1692.099976</td>\n",
       "      <td>-73.810852</td>\n",
       "      <td>-84.634219</td>\n",
       "      <td>0</td>\n",
       "      <td>10.823367</td>\n",
       "    </tr>\n",
       "    <tr>\n",
       "      <th>47</th>\n",
       "      <td>2025-01-31 00:00:00.000000</td>\n",
       "      <td>1699.250000</td>\n",
       "      <td>-68.102074</td>\n",
       "      <td>-82.283348</td>\n",
       "      <td>0</td>\n",
       "      <td>14.181274</td>\n",
       "    </tr>\n",
       "    <tr>\n",
       "      <th>48</th>\n",
       "      <td>2025-02-01 00:00:00.000000</td>\n",
       "      <td>1689.849976</td>\n",
       "      <td>-62.422038</td>\n",
       "      <td>-79.175710</td>\n",
       "      <td>0</td>\n",
       "      <td>16.753672</td>\n",
       "    </tr>\n",
       "    <tr>\n",
       "      <th>49</th>\n",
       "      <td>2025-02-03 00:00:00.000000</td>\n",
       "      <td>1680.150024</td>\n",
       "      <td>-57.216630</td>\n",
       "      <td>-75.567419</td>\n",
       "      <td>0</td>\n",
       "      <td>18.350790</td>\n",
       "    </tr>\n",
       "    <tr>\n",
       "      <th>50</th>\n",
       "      <td>2025-02-04 00:00:00.000000</td>\n",
       "      <td>1722.250000</td>\n",
       "      <td>-50.136847</td>\n",
       "      <td>-71.341137</td>\n",
       "      <td>0</td>\n",
       "      <td>21.204291</td>\n",
       "    </tr>\n",
       "    <tr>\n",
       "      <th>51</th>\n",
       "      <td>2025-02-05 00:00:00.000000</td>\n",
       "      <td>1737.500000</td>\n",
       "      <td>-41.678459</td>\n",
       "      <td>-66.334168</td>\n",
       "      <td>0</td>\n",
       "      <td>24.655709</td>\n",
       "    </tr>\n",
       "    <tr>\n",
       "      <th>52</th>\n",
       "      <td>2025-02-06 00:00:00.000000</td>\n",
       "      <td>1744.699951</td>\n",
       "      <td>-32.075091</td>\n",
       "      <td>-60.479813</td>\n",
       "      <td>0</td>\n",
       "      <td>28.404722</td>\n",
       "    </tr>\n",
       "    <tr>\n",
       "      <th>53</th>\n",
       "      <td>2025-02-07 00:00:00.000000</td>\n",
       "      <td>1732.099976</td>\n",
       "      <td>-22.882697</td>\n",
       "      <td>-54.031971</td>\n",
       "      <td>0</td>\n",
       "      <td>31.149274</td>\n",
       "    </tr>\n",
       "  </tbody>\n",
       "</table>\n",
       "</div>"
      ],
      "text/plain": [
       "                          date        close        kst  signal_line  signal  \\\n",
       "0   2024-11-26 00:00:00.000000  1785.400024        NaN          NaN       0   \n",
       "1   2024-11-27 00:00:00.000000  1811.000000        NaN          NaN       0   \n",
       "2   2024-11-28 00:00:00.000000  1792.900024        NaN          NaN       0   \n",
       "3   2024-11-29 00:00:00.000000  1797.650024        NaN          NaN       0   \n",
       "4   2024-12-02 00:00:00.000000  1804.550049        NaN          NaN       0   \n",
       "5   2024-12-03 00:00:00.000000  1826.849976        NaN          NaN       0   \n",
       "6   2024-12-04 00:00:00.000000  1860.050049        NaN          NaN       0   \n",
       "7   2024-12-05 00:00:00.000000  1863.800049        NaN          NaN       0   \n",
       "8   2024-12-06 00:00:00.000000  1856.500000        NaN          NaN       0   \n",
       "9   2024-12-09 00:00:00.000000  1869.800049        NaN          NaN       0   \n",
       "10  2024-12-10 00:00:00.000000  1868.050049        NaN          NaN       0   \n",
       "11  2024-12-11 00:00:00.000000  1863.699951        NaN          NaN       0   \n",
       "12  2024-12-12 00:00:00.000000  1858.949951        NaN          NaN       0   \n",
       "13  2024-12-13 00:00:00.000000  1872.050049        NaN          NaN       0   \n",
       "14  2024-12-16 00:00:00.000000  1864.800049        NaN          NaN       0   \n",
       "15  2024-12-17 00:00:00.000000  1832.849976        NaN          NaN       0   \n",
       "16  2024-12-18 00:00:00.000000  1811.199951        NaN          NaN       0   \n",
       "17  2024-12-19 00:00:00.000000  1793.449951        NaN          NaN       0   \n",
       "18  2024-12-20 00:00:00.000000  1772.050049        NaN          NaN       0   \n",
       "19  2024-12-23 00:00:00.000000  1801.000000        NaN          NaN       0   \n",
       "20  2024-12-24 00:00:00.000000  1797.650024        NaN          NaN       0   \n",
       "21  2024-12-26 00:00:00.000000  1791.750000        NaN          NaN       0   \n",
       "22  2024-12-27 00:00:00.000000  1797.849976        NaN          NaN       0   \n",
       "23  2024-12-30 00:00:00.000000  1778.699951        NaN          NaN       0   \n",
       "24  2024-12-31 00:00:00.000000  1772.449951        NaN          NaN       0   \n",
       "25  2025-01-01 00:00:00.000000  1782.449951        NaN          NaN       0   \n",
       "26  2025-01-02 00:00:00.000000  1793.349976        NaN          NaN       0   \n",
       "27  2025-01-03 00:00:00.000000  1749.300049        NaN          NaN       0   \n",
       "28  2025-01-06 00:00:00.000000  1710.300049        NaN          NaN       0   \n",
       "29  2025-01-07 00:00:00.000000  1714.099976        NaN          NaN       0   \n",
       "30  2025-01-08 00:00:00.000000  1694.150024 -47.596337   -47.596337       0   \n",
       "31  2025-01-09 00:00:00.000000  1667.750000 -57.185495   -52.390916      -1   \n",
       "32  2025-01-10 00:00:00.000000  1657.150024 -63.205978   -55.995937       0   \n",
       "33  2025-01-13 00:00:00.000000  1630.099976 -70.324148   -59.577990       0   \n",
       "34  2025-01-14 00:00:00.000000  1644.250000 -75.389969   -62.740386       0   \n",
       "35  2025-01-15 00:00:00.000000  1642.750000 -80.633558   -65.722581       0   \n",
       "36  2025-01-16 00:00:00.000000  1652.750000 -85.378218   -68.530529       0   \n",
       "37  2025-01-17 00:00:00.000000  1636.699951 -88.973133   -71.085855       0   \n",
       "38  2025-01-20 00:00:00.000000  1651.250000 -89.259906   -73.105194       0   \n",
       "39  2025-01-21 00:00:00.000000  1641.750000 -90.390784   -77.860132       0   \n",
       "40  2025-01-22 00:00:00.000000  1665.050049 -89.691246   -81.471882       0   \n",
       "41  2025-01-23 00:00:00.000000  1664.800049 -88.173385   -84.246039       0   \n",
       "42  2025-01-24 00:00:00.000000  1649.550049 -86.741184   -86.070154       0   \n",
       "43  2025-01-27 00:00:00.000000  1629.699951 -84.764285   -87.111744       1   \n",
       "44  2025-01-28 00:00:00.000000  1670.550049 -80.913270   -87.142823       0   \n",
       "45  2025-01-29 00:00:00.000000  1677.099976 -77.963056   -86.318917       0   \n",
       "46  2025-01-30 00:00:00.000000  1692.099976 -73.810852   -84.634219       0   \n",
       "47  2025-01-31 00:00:00.000000  1699.250000 -68.102074   -82.283348       0   \n",
       "48  2025-02-01 00:00:00.000000  1689.849976 -62.422038   -79.175710       0   \n",
       "49  2025-02-03 00:00:00.000000  1680.150024 -57.216630   -75.567419       0   \n",
       "50  2025-02-04 00:00:00.000000  1722.250000 -50.136847   -71.341137       0   \n",
       "51  2025-02-05 00:00:00.000000  1737.500000 -41.678459   -66.334168       0   \n",
       "52  2025-02-06 00:00:00.000000  1744.699951 -32.075091   -60.479813       0   \n",
       "53  2025-02-07 00:00:00.000000  1732.099976 -22.882697   -54.031971       0   \n",
       "\n",
       "    signal_strength  \n",
       "0               NaN  \n",
       "1               NaN  \n",
       "2               NaN  \n",
       "3               NaN  \n",
       "4               NaN  \n",
       "5               NaN  \n",
       "6               NaN  \n",
       "7               NaN  \n",
       "8               NaN  \n",
       "9               NaN  \n",
       "10              NaN  \n",
       "11              NaN  \n",
       "12              NaN  \n",
       "13              NaN  \n",
       "14              NaN  \n",
       "15              NaN  \n",
       "16              NaN  \n",
       "17              NaN  \n",
       "18              NaN  \n",
       "19              NaN  \n",
       "20              NaN  \n",
       "21              NaN  \n",
       "22              NaN  \n",
       "23              NaN  \n",
       "24              NaN  \n",
       "25              NaN  \n",
       "26              NaN  \n",
       "27              NaN  \n",
       "28              NaN  \n",
       "29              NaN  \n",
       "30         0.000000  \n",
       "31        -4.794579  \n",
       "32        -7.210041  \n",
       "33       -10.746158  \n",
       "34       -12.649584  \n",
       "35       -14.910977  \n",
       "36       -16.847689  \n",
       "37       -17.887278  \n",
       "38       -16.154712  \n",
       "39       -12.530652  \n",
       "40        -8.219363  \n",
       "41        -3.927346  \n",
       "42        -0.671031  \n",
       "43         2.347459  \n",
       "44         6.229554  \n",
       "45         8.355861  \n",
       "46        10.823367  \n",
       "47        14.181274  \n",
       "48        16.753672  \n",
       "49        18.350790  \n",
       "50        21.204291  \n",
       "51        24.655709  \n",
       "52        28.404722  \n",
       "53        31.149274  "
      ]
     },
     "execution_count": 7,
     "metadata": {},
     "output_type": "execute_result"
    }
   ],
   "source": [
    "a"
   ]
  },
  {
   "cell_type": "code",
   "execution_count": 8,
   "metadata": {},
   "outputs": [
    {
     "name": "stdout",
     "output_type": "stream",
     "text": [
      "0\n",
      "1\n",
      "2\n",
      "3\n",
      "4\n",
      "5\n",
      "6\n",
      "7\n",
      "8\n",
      "9\n",
      "10\n",
      "11\n",
      "12\n",
      "13\n",
      "14\n",
      "15\n",
      "16\n",
      "17\n",
      "18\n",
      "19\n",
      "20\n",
      "21\n",
      "22\n",
      "23\n",
      "24\n",
      "25\n",
      "26\n",
      "27\n",
      "28\n",
      "29\n",
      "30\n",
      "31\n",
      "32\n",
      "33\n",
      "34\n",
      "35\n",
      "36\n",
      "37\n",
      "38\n",
      "39\n",
      "40\n",
      "41\n",
      "42\n",
      "43\n",
      "44\n",
      "45\n",
      "46\n",
      "47\n",
      "48\n",
      "49\n",
      "50\n",
      "51\n",
      "52\n",
      "53\n",
      "54\n",
      "55\n",
      "56\n",
      "57\n",
      "58\n",
      "59\n",
      "60\n",
      "61\n",
      "62\n",
      "63\n",
      "64\n",
      "65\n",
      "66\n",
      "67\n",
      "68\n",
      "69\n",
      "70\n",
      "71\n",
      "72\n",
      "73\n",
      "74\n",
      "75\n",
      "76\n",
      "77\n",
      "78\n",
      "79\n",
      "80\n",
      "81\n",
      "82\n",
      "83\n",
      "84\n",
      "85\n",
      "86\n",
      "87\n",
      "88\n",
      "89\n",
      "90\n",
      "91\n",
      "92\n",
      "93\n",
      "94\n",
      "95\n",
      "96\n",
      "97\n",
      "98\n",
      "99\n",
      "100\n",
      "101\n",
      "102\n",
      "103\n",
      "104\n",
      "105\n",
      "106\n",
      "107\n",
      "108\n",
      "109\n",
      "110\n",
      "111\n",
      "112\n",
      "113\n",
      "114\n",
      "115\n",
      "116\n",
      "117\n",
      "118\n",
      "119\n",
      "120\n",
      "121\n",
      "122\n",
      "123\n",
      "124\n",
      "125\n",
      "126\n",
      "127\n",
      "128\n",
      "129\n",
      "130\n",
      "131\n",
      "132\n",
      "133\n",
      "134\n",
      "135\n",
      "136\n",
      "137\n",
      "138\n",
      "139\n",
      "140\n",
      "141\n",
      "142\n",
      "143\n",
      "144\n",
      "145\n",
      "146\n",
      "147\n",
      "148\n",
      "149\n",
      "150\n",
      "151\n",
      "152\n",
      "153\n",
      "154\n",
      "155\n",
      "156\n",
      "157\n",
      "158\n",
      "159\n",
      "160\n",
      "161\n",
      "162\n",
      "163\n",
      "164\n",
      "165\n",
      "166\n",
      "167\n",
      "168\n",
      "169\n",
      "170\n",
      "171\n",
      "172\n",
      "173\n",
      "174\n",
      "175\n",
      "176\n",
      "177\n",
      "178\n",
      "179\n",
      "180\n",
      "181\n",
      "182\n",
      "183\n",
      "184\n",
      "185\n",
      "186\n",
      "187\n",
      "188\n",
      "189\n",
      "190\n",
      "191\n",
      "192\n",
      "193\n",
      "194\n",
      "195\n",
      "196\n",
      "197\n",
      "198\n",
      "199\n",
      "200\n",
      "201\n",
      "202\n",
      "203\n",
      "204\n",
      "205\n",
      "206\n",
      "207\n",
      "208\n",
      "209\n",
      "210\n",
      "211\n",
      "212\n",
      "213\n",
      "214\n",
      "215\n",
      "216\n",
      "217\n",
      "218\n",
      "219\n",
      "220\n",
      "221\n",
      "222\n",
      "223\n",
      "224\n",
      "225\n",
      "226\n",
      "227\n",
      "228\n",
      "229\n",
      "230\n",
      "231\n",
      "232\n",
      "233\n",
      "234\n",
      "235\n",
      "236\n",
      "237\n",
      "238\n",
      "239\n",
      "240\n",
      "241\n",
      "242\n",
      "243\n",
      "244\n",
      "245\n",
      "246\n",
      "247\n",
      "248\n",
      "249\n",
      "250\n",
      "251\n",
      "252\n",
      "253\n",
      "254\n",
      "255\n",
      "256\n",
      "257\n",
      "258\n",
      "259\n",
      "260\n",
      "261\n",
      "262\n",
      "263\n",
      "264\n"
     ]
    },
    {
     "name": "stderr",
     "output_type": "stream",
     "text": [
      "Insufficient data for analysis\n"
     ]
    },
    {
     "name": "stdout",
     "output_type": "stream",
     "text": [
      "265\n",
      "266\n",
      "267\n",
      "268\n",
      "269\n",
      "270\n",
      "271\n",
      "272\n",
      "273\n",
      "274\n",
      "275\n",
      "276\n",
      "277\n",
      "278\n",
      "279\n",
      "280\n",
      "281\n",
      "282\n",
      "283\n",
      "284\n",
      "285\n",
      "286\n",
      "287\n",
      "288\n",
      "289\n",
      "290\n",
      "291\n",
      "292\n",
      "293\n",
      "294\n",
      "295\n",
      "296\n",
      "297\n",
      "298\n",
      "299\n",
      "300\n",
      "301\n",
      "302\n",
      "303\n",
      "304\n",
      "305\n",
      "306\n",
      "307\n",
      "308\n",
      "309\n",
      "310\n",
      "311\n",
      "312\n",
      "313\n",
      "314\n",
      "315\n",
      "316\n",
      "317\n",
      "318\n",
      "319\n",
      "320\n",
      "321\n",
      "322\n",
      "323\n",
      "324\n",
      "325\n",
      "326\n",
      "327\n",
      "328\n",
      "329\n",
      "330\n",
      "331\n",
      "332\n",
      "333\n",
      "334\n",
      "335\n",
      "336\n",
      "337\n",
      "338\n",
      "339\n",
      "340\n",
      "341\n",
      "342\n",
      "343\n",
      "344\n",
      "345\n",
      "346\n",
      "347\n",
      "348\n",
      "349\n",
      "350\n",
      "351\n",
      "352\n",
      "353\n",
      "354\n",
      "355\n",
      "356\n",
      "357\n",
      "358\n",
      "359\n",
      "360\n",
      "361\n",
      "362\n",
      "363\n",
      "364\n",
      "365\n",
      "366\n",
      "367\n",
      "368\n",
      "369\n",
      "370\n",
      "371\n",
      "372\n",
      "373\n",
      "374\n",
      "375\n",
      "376\n",
      "377\n",
      "378\n",
      "379\n",
      "380\n",
      "381\n",
      "382\n",
      "383\n",
      "384\n",
      "385\n",
      "386\n",
      "387\n",
      "388\n",
      "389\n",
      "390\n",
      "391\n",
      "392\n",
      "393\n",
      "394\n",
      "395\n",
      "396\n",
      "397\n",
      "398\n",
      "399\n",
      "400\n",
      "401\n",
      "402\n",
      "403\n",
      "404\n",
      "405\n",
      "406\n",
      "407\n",
      "408\n",
      "409\n",
      "410\n",
      "411\n",
      "412\n",
      "413\n",
      "414\n",
      "415\n",
      "416\n",
      "417\n",
      "418\n",
      "419\n",
      "420\n",
      "421\n",
      "422\n",
      "423\n",
      "424\n",
      "425\n",
      "426\n",
      "427\n",
      "428\n",
      "429\n",
      "430\n",
      "431\n",
      "432\n",
      "433\n",
      "434\n",
      "435\n",
      "436\n",
      "437\n",
      "438\n",
      "439\n",
      "440\n",
      "441\n",
      "442\n",
      "443\n",
      "444\n",
      "445\n",
      "446\n",
      "447\n",
      "448\n",
      "449\n",
      "450\n",
      "451\n",
      "452\n",
      "453\n",
      "454\n",
      "455\n",
      "456\n",
      "457\n",
      "458\n",
      "459\n",
      "460\n",
      "461\n",
      "462\n",
      "463\n",
      "464\n",
      "465\n",
      "466\n",
      "467\n",
      "468\n",
      "469\n",
      "470\n",
      "471\n",
      "472\n",
      "473\n",
      "474\n",
      "475\n",
      "476\n",
      "477\n",
      "478\n",
      "479\n",
      "480\n",
      "481\n",
      "482\n",
      "483\n",
      "484\n",
      "485\n",
      "486\n",
      "487\n",
      "488\n",
      "489\n",
      "490\n",
      "491\n",
      "492\n",
      "493\n",
      "494\n",
      "495\n",
      "496\n",
      "497\n",
      "498\n",
      "499\n",
      "500\n",
      "501\n",
      "502\n",
      "503\n",
      "504\n",
      "505\n",
      "506\n",
      "507\n"
     ]
    }
   ],
   "source": [
    "for i in range(0, len(all_tickers)):\n",
    "    ticker = all_tickers[i]\n",
    "    print(i)\n",
    "    a = kst_strat.generate_signals(ticker)\n",
    "    a['ticker'] = ticker\n",
    "    if i == 0:\n",
    "        df = a\n",
    "    else:\n",
    "        df = pd.concat([df, a])\n"
   ]
  },
  {
   "cell_type": "code",
   "execution_count": 1,
   "metadata": {},
   "outputs": [],
   "source": [
    "import sys\n",
    "import os\n",
    "\n",
    "# Determine the absolute path to the root directory (assuming the script is one level down)\n",
    "root_path = os.path.abspath(os.path.join(os.getcwd(), '..'))\n",
    "\n",
    "# Add the root directory to sys.path if it’s not already there\n",
    "if root_path not in sys.path:\n",
    "    sys.path.insert(0, root_path)\n",
    "\n",
    "#########################################################\n",
    "from src.database.config import DatabaseConfig\n",
    "from src.database.engine import create_db_engine\n",
    "db_config = DatabaseConfig.default()\n",
    "\n",
    "#########################################################\n",
    "import pandas as pd\n",
    "\n",
    "tickers = pd.read_excel(\"../data/ticker.xlsx\")\n",
    "tickers = tickers[~tickers[\"Security Name\"].duplicated()]\n",
    "tickers.reset_index(drop=True, inplace=True)\n",
    "\n",
    "def add_ticker_suffix(x):\n",
    "    if x[\"Exchange\"]==\"BSE\":\n",
    "        return x[\"Security Name\"] + \".BO\"\n",
    "    else:\n",
    "        return x[\"Security Name\"] + \".NS\"\n",
    "\n",
    "tickers[\"Ticker\"] = tickers.apply(add_ticker_suffix, axis = 1)\n",
    "all_tickers = tickers[\"Ticker\"].tolist()\n"
   ]
  },
  {
   "cell_type": "code",
   "execution_count": 2,
   "metadata": {},
   "outputs": [],
   "source": [
    "from src.strategies.momentum.mcad_strat import MACDStrategy"
   ]
  },
  {
   "cell_type": "code",
   "execution_count": 3,
   "metadata": {},
   "outputs": [],
   "source": [
    "mcad_strat = MACDStrategy(db_config)"
   ]
  },
  {
   "cell_type": "code",
   "execution_count": 4,
   "metadata": {},
   "outputs": [
    {
     "name": "stderr",
     "output_type": "stream",
     "text": [
      "/home/bhvignesh/trading_system/src/strategies/momentum/mcad_strat.py:102: FutureWarning: Downcasting object dtype arrays on .fillna, .ffill, .bfill is deprecated and will change in a future version. Call result.infer_objects(copy=False) instead. To opt-in to the future behavior, set `pd.set_option('future.no_silent_downcasting', True)`\n",
      "  prev_above = above.shift(1).fillna(False)\n",
      "/home/bhvignesh/trading_system/src/strategies/momentum/mcad_strat.py:103: FutureWarning: Downcasting object dtype arrays on .fillna, .ffill, .bfill is deprecated and will change in a future version. Call result.infer_objects(copy=False) instead. To opt-in to the future behavior, set `pd.set_option('future.no_silent_downcasting', True)`\n",
      "  prev_below = below.shift(1).fillna(False)\n",
      "/home/bhvignesh/trading_system/src/strategies/momentum/mcad_strat.py:114: FutureWarning: The 'method' keyword in Series.replace is deprecated and will be removed in a future version.\n",
      "  positions = signals.replace(0, method='ffill').fillna(0)\n"
     ]
    }
   ],
   "source": [
    "a = mcad_strat.generate_signals(all_tickers[0])"
   ]
  },
  {
   "cell_type": "code",
   "execution_count": 5,
   "metadata": {},
   "outputs": [
    {
     "name": "stdout",
     "output_type": "stream",
     "text": [
      "0\n"
     ]
    },
    {
     "name": "stderr",
     "output_type": "stream",
     "text": [
      "/home/bhvignesh/trading_system/src/strategies/momentum/mcad_strat.py:102: FutureWarning: Downcasting object dtype arrays on .fillna, .ffill, .bfill is deprecated and will change in a future version. Call result.infer_objects(copy=False) instead. To opt-in to the future behavior, set `pd.set_option('future.no_silent_downcasting', True)`\n",
      "  prev_above = above.shift(1).fillna(False)\n",
      "/home/bhvignesh/trading_system/src/strategies/momentum/mcad_strat.py:103: FutureWarning: Downcasting object dtype arrays on .fillna, .ffill, .bfill is deprecated and will change in a future version. Call result.infer_objects(copy=False) instead. To opt-in to the future behavior, set `pd.set_option('future.no_silent_downcasting', True)`\n",
      "  prev_below = below.shift(1).fillna(False)\n",
      "/home/bhvignesh/trading_system/src/strategies/momentum/mcad_strat.py:114: FutureWarning: The 'method' keyword in Series.replace is deprecated and will be removed in a future version.\n",
      "  positions = signals.replace(0, method='ffill').fillna(0)\n"
     ]
    },
    {
     "name": "stdout",
     "output_type": "stream",
     "text": [
      "1\n"
     ]
    },
    {
     "name": "stderr",
     "output_type": "stream",
     "text": [
      "/home/bhvignesh/trading_system/src/strategies/momentum/mcad_strat.py:102: FutureWarning: Downcasting object dtype arrays on .fillna, .ffill, .bfill is deprecated and will change in a future version. Call result.infer_objects(copy=False) instead. To opt-in to the future behavior, set `pd.set_option('future.no_silent_downcasting', True)`\n",
      "  prev_above = above.shift(1).fillna(False)\n",
      "/home/bhvignesh/trading_system/src/strategies/momentum/mcad_strat.py:103: FutureWarning: Downcasting object dtype arrays on .fillna, .ffill, .bfill is deprecated and will change in a future version. Call result.infer_objects(copy=False) instead. To opt-in to the future behavior, set `pd.set_option('future.no_silent_downcasting', True)`\n",
      "  prev_below = below.shift(1).fillna(False)\n",
      "/home/bhvignesh/trading_system/src/strategies/momentum/mcad_strat.py:114: FutureWarning: The 'method' keyword in Series.replace is deprecated and will be removed in a future version.\n",
      "  positions = signals.replace(0, method='ffill').fillna(0)\n"
     ]
    },
    {
     "name": "stdout",
     "output_type": "stream",
     "text": [
      "2\n"
     ]
    },
    {
     "name": "stderr",
     "output_type": "stream",
     "text": [
      "/home/bhvignesh/trading_system/src/strategies/momentum/mcad_strat.py:102: FutureWarning: Downcasting object dtype arrays on .fillna, .ffill, .bfill is deprecated and will change in a future version. Call result.infer_objects(copy=False) instead. To opt-in to the future behavior, set `pd.set_option('future.no_silent_downcasting', True)`\n",
      "  prev_above = above.shift(1).fillna(False)\n",
      "/home/bhvignesh/trading_system/src/strategies/momentum/mcad_strat.py:103: FutureWarning: Downcasting object dtype arrays on .fillna, .ffill, .bfill is deprecated and will change in a future version. Call result.infer_objects(copy=False) instead. To opt-in to the future behavior, set `pd.set_option('future.no_silent_downcasting', True)`\n",
      "  prev_below = below.shift(1).fillna(False)\n",
      "/home/bhvignesh/trading_system/src/strategies/momentum/mcad_strat.py:114: FutureWarning: The 'method' keyword in Series.replace is deprecated and will be removed in a future version.\n",
      "  positions = signals.replace(0, method='ffill').fillna(0)\n"
     ]
    },
    {
     "name": "stdout",
     "output_type": "stream",
     "text": [
      "3\n"
     ]
    },
    {
     "name": "stderr",
     "output_type": "stream",
     "text": [
      "/home/bhvignesh/trading_system/src/strategies/momentum/mcad_strat.py:102: FutureWarning: Downcasting object dtype arrays on .fillna, .ffill, .bfill is deprecated and will change in a future version. Call result.infer_objects(copy=False) instead. To opt-in to the future behavior, set `pd.set_option('future.no_silent_downcasting', True)`\n",
      "  prev_above = above.shift(1).fillna(False)\n",
      "/home/bhvignesh/trading_system/src/strategies/momentum/mcad_strat.py:103: FutureWarning: Downcasting object dtype arrays on .fillna, .ffill, .bfill is deprecated and will change in a future version. Call result.infer_objects(copy=False) instead. To opt-in to the future behavior, set `pd.set_option('future.no_silent_downcasting', True)`\n",
      "  prev_below = below.shift(1).fillna(False)\n",
      "/home/bhvignesh/trading_system/src/strategies/momentum/mcad_strat.py:114: FutureWarning: The 'method' keyword in Series.replace is deprecated and will be removed in a future version.\n",
      "  positions = signals.replace(0, method='ffill').fillna(0)\n"
     ]
    },
    {
     "name": "stdout",
     "output_type": "stream",
     "text": [
      "4\n"
     ]
    },
    {
     "name": "stderr",
     "output_type": "stream",
     "text": [
      "/home/bhvignesh/trading_system/src/strategies/momentum/mcad_strat.py:102: FutureWarning: Downcasting object dtype arrays on .fillna, .ffill, .bfill is deprecated and will change in a future version. Call result.infer_objects(copy=False) instead. To opt-in to the future behavior, set `pd.set_option('future.no_silent_downcasting', True)`\n",
      "  prev_above = above.shift(1).fillna(False)\n",
      "/home/bhvignesh/trading_system/src/strategies/momentum/mcad_strat.py:103: FutureWarning: Downcasting object dtype arrays on .fillna, .ffill, .bfill is deprecated and will change in a future version. Call result.infer_objects(copy=False) instead. To opt-in to the future behavior, set `pd.set_option('future.no_silent_downcasting', True)`\n",
      "  prev_below = below.shift(1).fillna(False)\n",
      "/home/bhvignesh/trading_system/src/strategies/momentum/mcad_strat.py:114: FutureWarning: The 'method' keyword in Series.replace is deprecated and will be removed in a future version.\n",
      "  positions = signals.replace(0, method='ffill').fillna(0)\n"
     ]
    },
    {
     "name": "stdout",
     "output_type": "stream",
     "text": [
      "5\n"
     ]
    },
    {
     "name": "stderr",
     "output_type": "stream",
     "text": [
      "/home/bhvignesh/trading_system/src/strategies/momentum/mcad_strat.py:102: FutureWarning: Downcasting object dtype arrays on .fillna, .ffill, .bfill is deprecated and will change in a future version. Call result.infer_objects(copy=False) instead. To opt-in to the future behavior, set `pd.set_option('future.no_silent_downcasting', True)`\n",
      "  prev_above = above.shift(1).fillna(False)\n",
      "/home/bhvignesh/trading_system/src/strategies/momentum/mcad_strat.py:103: FutureWarning: Downcasting object dtype arrays on .fillna, .ffill, .bfill is deprecated and will change in a future version. Call result.infer_objects(copy=False) instead. To opt-in to the future behavior, set `pd.set_option('future.no_silent_downcasting', True)`\n",
      "  prev_below = below.shift(1).fillna(False)\n",
      "/home/bhvignesh/trading_system/src/strategies/momentum/mcad_strat.py:114: FutureWarning: The 'method' keyword in Series.replace is deprecated and will be removed in a future version.\n",
      "  positions = signals.replace(0, method='ffill').fillna(0)\n"
     ]
    },
    {
     "name": "stdout",
     "output_type": "stream",
     "text": [
      "6\n"
     ]
    },
    {
     "name": "stderr",
     "output_type": "stream",
     "text": [
      "/home/bhvignesh/trading_system/src/strategies/momentum/mcad_strat.py:102: FutureWarning: Downcasting object dtype arrays on .fillna, .ffill, .bfill is deprecated and will change in a future version. Call result.infer_objects(copy=False) instead. To opt-in to the future behavior, set `pd.set_option('future.no_silent_downcasting', True)`\n",
      "  prev_above = above.shift(1).fillna(False)\n",
      "/home/bhvignesh/trading_system/src/strategies/momentum/mcad_strat.py:103: FutureWarning: Downcasting object dtype arrays on .fillna, .ffill, .bfill is deprecated and will change in a future version. Call result.infer_objects(copy=False) instead. To opt-in to the future behavior, set `pd.set_option('future.no_silent_downcasting', True)`\n",
      "  prev_below = below.shift(1).fillna(False)\n",
      "/home/bhvignesh/trading_system/src/strategies/momentum/mcad_strat.py:114: FutureWarning: The 'method' keyword in Series.replace is deprecated and will be removed in a future version.\n",
      "  positions = signals.replace(0, method='ffill').fillna(0)\n"
     ]
    },
    {
     "name": "stdout",
     "output_type": "stream",
     "text": [
      "7\n"
     ]
    },
    {
     "name": "stderr",
     "output_type": "stream",
     "text": [
      "/home/bhvignesh/trading_system/src/strategies/momentum/mcad_strat.py:102: FutureWarning: Downcasting object dtype arrays on .fillna, .ffill, .bfill is deprecated and will change in a future version. Call result.infer_objects(copy=False) instead. To opt-in to the future behavior, set `pd.set_option('future.no_silent_downcasting', True)`\n",
      "  prev_above = above.shift(1).fillna(False)\n",
      "/home/bhvignesh/trading_system/src/strategies/momentum/mcad_strat.py:103: FutureWarning: Downcasting object dtype arrays on .fillna, .ffill, .bfill is deprecated and will change in a future version. Call result.infer_objects(copy=False) instead. To opt-in to the future behavior, set `pd.set_option('future.no_silent_downcasting', True)`\n",
      "  prev_below = below.shift(1).fillna(False)\n",
      "/home/bhvignesh/trading_system/src/strategies/momentum/mcad_strat.py:114: FutureWarning: The 'method' keyword in Series.replace is deprecated and will be removed in a future version.\n",
      "  positions = signals.replace(0, method='ffill').fillna(0)\n"
     ]
    },
    {
     "name": "stdout",
     "output_type": "stream",
     "text": [
      "8\n"
     ]
    },
    {
     "name": "stderr",
     "output_type": "stream",
     "text": [
      "/home/bhvignesh/trading_system/src/strategies/momentum/mcad_strat.py:102: FutureWarning: Downcasting object dtype arrays on .fillna, .ffill, .bfill is deprecated and will change in a future version. Call result.infer_objects(copy=False) instead. To opt-in to the future behavior, set `pd.set_option('future.no_silent_downcasting', True)`\n",
      "  prev_above = above.shift(1).fillna(False)\n",
      "/home/bhvignesh/trading_system/src/strategies/momentum/mcad_strat.py:103: FutureWarning: Downcasting object dtype arrays on .fillna, .ffill, .bfill is deprecated and will change in a future version. Call result.infer_objects(copy=False) instead. To opt-in to the future behavior, set `pd.set_option('future.no_silent_downcasting', True)`\n",
      "  prev_below = below.shift(1).fillna(False)\n",
      "/home/bhvignesh/trading_system/src/strategies/momentum/mcad_strat.py:114: FutureWarning: The 'method' keyword in Series.replace is deprecated and will be removed in a future version.\n",
      "  positions = signals.replace(0, method='ffill').fillna(0)\n"
     ]
    },
    {
     "name": "stdout",
     "output_type": "stream",
     "text": [
      "9\n"
     ]
    },
    {
     "name": "stderr",
     "output_type": "stream",
     "text": [
      "/home/bhvignesh/trading_system/src/strategies/momentum/mcad_strat.py:102: FutureWarning: Downcasting object dtype arrays on .fillna, .ffill, .bfill is deprecated and will change in a future version. Call result.infer_objects(copy=False) instead. To opt-in to the future behavior, set `pd.set_option('future.no_silent_downcasting', True)`\n",
      "  prev_above = above.shift(1).fillna(False)\n",
      "/home/bhvignesh/trading_system/src/strategies/momentum/mcad_strat.py:103: FutureWarning: Downcasting object dtype arrays on .fillna, .ffill, .bfill is deprecated and will change in a future version. Call result.infer_objects(copy=False) instead. To opt-in to the future behavior, set `pd.set_option('future.no_silent_downcasting', True)`\n",
      "  prev_below = below.shift(1).fillna(False)\n",
      "/home/bhvignesh/trading_system/src/strategies/momentum/mcad_strat.py:114: FutureWarning: The 'method' keyword in Series.replace is deprecated and will be removed in a future version.\n",
      "  positions = signals.replace(0, method='ffill').fillna(0)\n"
     ]
    },
    {
     "name": "stdout",
     "output_type": "stream",
     "text": [
      "10\n"
     ]
    },
    {
     "name": "stderr",
     "output_type": "stream",
     "text": [
      "/home/bhvignesh/trading_system/src/strategies/momentum/mcad_strat.py:102: FutureWarning: Downcasting object dtype arrays on .fillna, .ffill, .bfill is deprecated and will change in a future version. Call result.infer_objects(copy=False) instead. To opt-in to the future behavior, set `pd.set_option('future.no_silent_downcasting', True)`\n",
      "  prev_above = above.shift(1).fillna(False)\n",
      "/home/bhvignesh/trading_system/src/strategies/momentum/mcad_strat.py:103: FutureWarning: Downcasting object dtype arrays on .fillna, .ffill, .bfill is deprecated and will change in a future version. Call result.infer_objects(copy=False) instead. To opt-in to the future behavior, set `pd.set_option('future.no_silent_downcasting', True)`\n",
      "  prev_below = below.shift(1).fillna(False)\n",
      "/home/bhvignesh/trading_system/src/strategies/momentum/mcad_strat.py:114: FutureWarning: The 'method' keyword in Series.replace is deprecated and will be removed in a future version.\n",
      "  positions = signals.replace(0, method='ffill').fillna(0)\n"
     ]
    },
    {
     "name": "stdout",
     "output_type": "stream",
     "text": [
      "11\n"
     ]
    },
    {
     "name": "stderr",
     "output_type": "stream",
     "text": [
      "/home/bhvignesh/trading_system/src/strategies/momentum/mcad_strat.py:102: FutureWarning: Downcasting object dtype arrays on .fillna, .ffill, .bfill is deprecated and will change in a future version. Call result.infer_objects(copy=False) instead. To opt-in to the future behavior, set `pd.set_option('future.no_silent_downcasting', True)`\n",
      "  prev_above = above.shift(1).fillna(False)\n",
      "/home/bhvignesh/trading_system/src/strategies/momentum/mcad_strat.py:103: FutureWarning: Downcasting object dtype arrays on .fillna, .ffill, .bfill is deprecated and will change in a future version. Call result.infer_objects(copy=False) instead. To opt-in to the future behavior, set `pd.set_option('future.no_silent_downcasting', True)`\n",
      "  prev_below = below.shift(1).fillna(False)\n",
      "/home/bhvignesh/trading_system/src/strategies/momentum/mcad_strat.py:114: FutureWarning: The 'method' keyword in Series.replace is deprecated and will be removed in a future version.\n",
      "  positions = signals.replace(0, method='ffill').fillna(0)\n"
     ]
    },
    {
     "name": "stdout",
     "output_type": "stream",
     "text": [
      "12\n"
     ]
    },
    {
     "name": "stderr",
     "output_type": "stream",
     "text": [
      "/home/bhvignesh/trading_system/src/strategies/momentum/mcad_strat.py:102: FutureWarning: Downcasting object dtype arrays on .fillna, .ffill, .bfill is deprecated and will change in a future version. Call result.infer_objects(copy=False) instead. To opt-in to the future behavior, set `pd.set_option('future.no_silent_downcasting', True)`\n",
      "  prev_above = above.shift(1).fillna(False)\n",
      "/home/bhvignesh/trading_system/src/strategies/momentum/mcad_strat.py:103: FutureWarning: Downcasting object dtype arrays on .fillna, .ffill, .bfill is deprecated and will change in a future version. Call result.infer_objects(copy=False) instead. To opt-in to the future behavior, set `pd.set_option('future.no_silent_downcasting', True)`\n",
      "  prev_below = below.shift(1).fillna(False)\n",
      "/home/bhvignesh/trading_system/src/strategies/momentum/mcad_strat.py:114: FutureWarning: The 'method' keyword in Series.replace is deprecated and will be removed in a future version.\n",
      "  positions = signals.replace(0, method='ffill').fillna(0)\n"
     ]
    },
    {
     "name": "stdout",
     "output_type": "stream",
     "text": [
      "13\n"
     ]
    },
    {
     "name": "stderr",
     "output_type": "stream",
     "text": [
      "/home/bhvignesh/trading_system/src/strategies/momentum/mcad_strat.py:102: FutureWarning: Downcasting object dtype arrays on .fillna, .ffill, .bfill is deprecated and will change in a future version. Call result.infer_objects(copy=False) instead. To opt-in to the future behavior, set `pd.set_option('future.no_silent_downcasting', True)`\n",
      "  prev_above = above.shift(1).fillna(False)\n",
      "/home/bhvignesh/trading_system/src/strategies/momentum/mcad_strat.py:103: FutureWarning: Downcasting object dtype arrays on .fillna, .ffill, .bfill is deprecated and will change in a future version. Call result.infer_objects(copy=False) instead. To opt-in to the future behavior, set `pd.set_option('future.no_silent_downcasting', True)`\n",
      "  prev_below = below.shift(1).fillna(False)\n",
      "/home/bhvignesh/trading_system/src/strategies/momentum/mcad_strat.py:114: FutureWarning: The 'method' keyword in Series.replace is deprecated and will be removed in a future version.\n",
      "  positions = signals.replace(0, method='ffill').fillna(0)\n"
     ]
    },
    {
     "name": "stdout",
     "output_type": "stream",
     "text": [
      "14\n"
     ]
    },
    {
     "name": "stderr",
     "output_type": "stream",
     "text": [
      "/home/bhvignesh/trading_system/src/strategies/momentum/mcad_strat.py:102: FutureWarning: Downcasting object dtype arrays on .fillna, .ffill, .bfill is deprecated and will change in a future version. Call result.infer_objects(copy=False) instead. To opt-in to the future behavior, set `pd.set_option('future.no_silent_downcasting', True)`\n",
      "  prev_above = above.shift(1).fillna(False)\n",
      "/home/bhvignesh/trading_system/src/strategies/momentum/mcad_strat.py:103: FutureWarning: Downcasting object dtype arrays on .fillna, .ffill, .bfill is deprecated and will change in a future version. Call result.infer_objects(copy=False) instead. To opt-in to the future behavior, set `pd.set_option('future.no_silent_downcasting', True)`\n",
      "  prev_below = below.shift(1).fillna(False)\n",
      "/home/bhvignesh/trading_system/src/strategies/momentum/mcad_strat.py:114: FutureWarning: The 'method' keyword in Series.replace is deprecated and will be removed in a future version.\n",
      "  positions = signals.replace(0, method='ffill').fillna(0)\n"
     ]
    },
    {
     "name": "stdout",
     "output_type": "stream",
     "text": [
      "15\n"
     ]
    },
    {
     "name": "stderr",
     "output_type": "stream",
     "text": [
      "/home/bhvignesh/trading_system/src/strategies/momentum/mcad_strat.py:102: FutureWarning: Downcasting object dtype arrays on .fillna, .ffill, .bfill is deprecated and will change in a future version. Call result.infer_objects(copy=False) instead. To opt-in to the future behavior, set `pd.set_option('future.no_silent_downcasting', True)`\n",
      "  prev_above = above.shift(1).fillna(False)\n",
      "/home/bhvignesh/trading_system/src/strategies/momentum/mcad_strat.py:103: FutureWarning: Downcasting object dtype arrays on .fillna, .ffill, .bfill is deprecated and will change in a future version. Call result.infer_objects(copy=False) instead. To opt-in to the future behavior, set `pd.set_option('future.no_silent_downcasting', True)`\n",
      "  prev_below = below.shift(1).fillna(False)\n",
      "/home/bhvignesh/trading_system/src/strategies/momentum/mcad_strat.py:114: FutureWarning: The 'method' keyword in Series.replace is deprecated and will be removed in a future version.\n",
      "  positions = signals.replace(0, method='ffill').fillna(0)\n"
     ]
    },
    {
     "name": "stdout",
     "output_type": "stream",
     "text": [
      "16\n"
     ]
    },
    {
     "name": "stderr",
     "output_type": "stream",
     "text": [
      "/home/bhvignesh/trading_system/src/strategies/momentum/mcad_strat.py:102: FutureWarning: Downcasting object dtype arrays on .fillna, .ffill, .bfill is deprecated and will change in a future version. Call result.infer_objects(copy=False) instead. To opt-in to the future behavior, set `pd.set_option('future.no_silent_downcasting', True)`\n",
      "  prev_above = above.shift(1).fillna(False)\n",
      "/home/bhvignesh/trading_system/src/strategies/momentum/mcad_strat.py:103: FutureWarning: Downcasting object dtype arrays on .fillna, .ffill, .bfill is deprecated and will change in a future version. Call result.infer_objects(copy=False) instead. To opt-in to the future behavior, set `pd.set_option('future.no_silent_downcasting', True)`\n",
      "  prev_below = below.shift(1).fillna(False)\n",
      "/home/bhvignesh/trading_system/src/strategies/momentum/mcad_strat.py:114: FutureWarning: The 'method' keyword in Series.replace is deprecated and will be removed in a future version.\n",
      "  positions = signals.replace(0, method='ffill').fillna(0)\n"
     ]
    },
    {
     "name": "stdout",
     "output_type": "stream",
     "text": [
      "17\n"
     ]
    },
    {
     "name": "stderr",
     "output_type": "stream",
     "text": [
      "/home/bhvignesh/trading_system/src/strategies/momentum/mcad_strat.py:102: FutureWarning: Downcasting object dtype arrays on .fillna, .ffill, .bfill is deprecated and will change in a future version. Call result.infer_objects(copy=False) instead. To opt-in to the future behavior, set `pd.set_option('future.no_silent_downcasting', True)`\n",
      "  prev_above = above.shift(1).fillna(False)\n",
      "/home/bhvignesh/trading_system/src/strategies/momentum/mcad_strat.py:103: FutureWarning: Downcasting object dtype arrays on .fillna, .ffill, .bfill is deprecated and will change in a future version. Call result.infer_objects(copy=False) instead. To opt-in to the future behavior, set `pd.set_option('future.no_silent_downcasting', True)`\n",
      "  prev_below = below.shift(1).fillna(False)\n",
      "/home/bhvignesh/trading_system/src/strategies/momentum/mcad_strat.py:114: FutureWarning: The 'method' keyword in Series.replace is deprecated and will be removed in a future version.\n",
      "  positions = signals.replace(0, method='ffill').fillna(0)\n"
     ]
    },
    {
     "name": "stdout",
     "output_type": "stream",
     "text": [
      "18\n"
     ]
    },
    {
     "name": "stderr",
     "output_type": "stream",
     "text": [
      "/home/bhvignesh/trading_system/src/strategies/momentum/mcad_strat.py:102: FutureWarning: Downcasting object dtype arrays on .fillna, .ffill, .bfill is deprecated and will change in a future version. Call result.infer_objects(copy=False) instead. To opt-in to the future behavior, set `pd.set_option('future.no_silent_downcasting', True)`\n",
      "  prev_above = above.shift(1).fillna(False)\n",
      "/home/bhvignesh/trading_system/src/strategies/momentum/mcad_strat.py:103: FutureWarning: Downcasting object dtype arrays on .fillna, .ffill, .bfill is deprecated and will change in a future version. Call result.infer_objects(copy=False) instead. To opt-in to the future behavior, set `pd.set_option('future.no_silent_downcasting', True)`\n",
      "  prev_below = below.shift(1).fillna(False)\n",
      "/home/bhvignesh/trading_system/src/strategies/momentum/mcad_strat.py:114: FutureWarning: The 'method' keyword in Series.replace is deprecated and will be removed in a future version.\n",
      "  positions = signals.replace(0, method='ffill').fillna(0)\n"
     ]
    },
    {
     "name": "stdout",
     "output_type": "stream",
     "text": [
      "19\n"
     ]
    },
    {
     "name": "stderr",
     "output_type": "stream",
     "text": [
      "/home/bhvignesh/trading_system/src/strategies/momentum/mcad_strat.py:102: FutureWarning: Downcasting object dtype arrays on .fillna, .ffill, .bfill is deprecated and will change in a future version. Call result.infer_objects(copy=False) instead. To opt-in to the future behavior, set `pd.set_option('future.no_silent_downcasting', True)`\n",
      "  prev_above = above.shift(1).fillna(False)\n",
      "/home/bhvignesh/trading_system/src/strategies/momentum/mcad_strat.py:103: FutureWarning: Downcasting object dtype arrays on .fillna, .ffill, .bfill is deprecated and will change in a future version. Call result.infer_objects(copy=False) instead. To opt-in to the future behavior, set `pd.set_option('future.no_silent_downcasting', True)`\n",
      "  prev_below = below.shift(1).fillna(False)\n",
      "/home/bhvignesh/trading_system/src/strategies/momentum/mcad_strat.py:114: FutureWarning: The 'method' keyword in Series.replace is deprecated and will be removed in a future version.\n",
      "  positions = signals.replace(0, method='ffill').fillna(0)\n"
     ]
    },
    {
     "name": "stdout",
     "output_type": "stream",
     "text": [
      "20\n"
     ]
    },
    {
     "name": "stderr",
     "output_type": "stream",
     "text": [
      "/home/bhvignesh/trading_system/src/strategies/momentum/mcad_strat.py:102: FutureWarning: Downcasting object dtype arrays on .fillna, .ffill, .bfill is deprecated and will change in a future version. Call result.infer_objects(copy=False) instead. To opt-in to the future behavior, set `pd.set_option('future.no_silent_downcasting', True)`\n",
      "  prev_above = above.shift(1).fillna(False)\n",
      "/home/bhvignesh/trading_system/src/strategies/momentum/mcad_strat.py:103: FutureWarning: Downcasting object dtype arrays on .fillna, .ffill, .bfill is deprecated and will change in a future version. Call result.infer_objects(copy=False) instead. To opt-in to the future behavior, set `pd.set_option('future.no_silent_downcasting', True)`\n",
      "  prev_below = below.shift(1).fillna(False)\n",
      "/home/bhvignesh/trading_system/src/strategies/momentum/mcad_strat.py:114: FutureWarning: The 'method' keyword in Series.replace is deprecated and will be removed in a future version.\n",
      "  positions = signals.replace(0, method='ffill').fillna(0)\n"
     ]
    },
    {
     "name": "stdout",
     "output_type": "stream",
     "text": [
      "21\n"
     ]
    },
    {
     "name": "stderr",
     "output_type": "stream",
     "text": [
      "/home/bhvignesh/trading_system/src/strategies/momentum/mcad_strat.py:102: FutureWarning: Downcasting object dtype arrays on .fillna, .ffill, .bfill is deprecated and will change in a future version. Call result.infer_objects(copy=False) instead. To opt-in to the future behavior, set `pd.set_option('future.no_silent_downcasting', True)`\n",
      "  prev_above = above.shift(1).fillna(False)\n",
      "/home/bhvignesh/trading_system/src/strategies/momentum/mcad_strat.py:103: FutureWarning: Downcasting object dtype arrays on .fillna, .ffill, .bfill is deprecated and will change in a future version. Call result.infer_objects(copy=False) instead. To opt-in to the future behavior, set `pd.set_option('future.no_silent_downcasting', True)`\n",
      "  prev_below = below.shift(1).fillna(False)\n",
      "/home/bhvignesh/trading_system/src/strategies/momentum/mcad_strat.py:114: FutureWarning: The 'method' keyword in Series.replace is deprecated and will be removed in a future version.\n",
      "  positions = signals.replace(0, method='ffill').fillna(0)\n"
     ]
    },
    {
     "name": "stdout",
     "output_type": "stream",
     "text": [
      "22\n"
     ]
    },
    {
     "name": "stderr",
     "output_type": "stream",
     "text": [
      "/home/bhvignesh/trading_system/src/strategies/momentum/mcad_strat.py:102: FutureWarning: Downcasting object dtype arrays on .fillna, .ffill, .bfill is deprecated and will change in a future version. Call result.infer_objects(copy=False) instead. To opt-in to the future behavior, set `pd.set_option('future.no_silent_downcasting', True)`\n",
      "  prev_above = above.shift(1).fillna(False)\n",
      "/home/bhvignesh/trading_system/src/strategies/momentum/mcad_strat.py:103: FutureWarning: Downcasting object dtype arrays on .fillna, .ffill, .bfill is deprecated and will change in a future version. Call result.infer_objects(copy=False) instead. To opt-in to the future behavior, set `pd.set_option('future.no_silent_downcasting', True)`\n",
      "  prev_below = below.shift(1).fillna(False)\n",
      "/home/bhvignesh/trading_system/src/strategies/momentum/mcad_strat.py:114: FutureWarning: The 'method' keyword in Series.replace is deprecated and will be removed in a future version.\n",
      "  positions = signals.replace(0, method='ffill').fillna(0)\n"
     ]
    },
    {
     "name": "stdout",
     "output_type": "stream",
     "text": [
      "23\n"
     ]
    },
    {
     "name": "stderr",
     "output_type": "stream",
     "text": [
      "/home/bhvignesh/trading_system/src/strategies/momentum/mcad_strat.py:102: FutureWarning: Downcasting object dtype arrays on .fillna, .ffill, .bfill is deprecated and will change in a future version. Call result.infer_objects(copy=False) instead. To opt-in to the future behavior, set `pd.set_option('future.no_silent_downcasting', True)`\n",
      "  prev_above = above.shift(1).fillna(False)\n",
      "/home/bhvignesh/trading_system/src/strategies/momentum/mcad_strat.py:103: FutureWarning: Downcasting object dtype arrays on .fillna, .ffill, .bfill is deprecated and will change in a future version. Call result.infer_objects(copy=False) instead. To opt-in to the future behavior, set `pd.set_option('future.no_silent_downcasting', True)`\n",
      "  prev_below = below.shift(1).fillna(False)\n",
      "/home/bhvignesh/trading_system/src/strategies/momentum/mcad_strat.py:114: FutureWarning: The 'method' keyword in Series.replace is deprecated and will be removed in a future version.\n",
      "  positions = signals.replace(0, method='ffill').fillna(0)\n"
     ]
    },
    {
     "name": "stdout",
     "output_type": "stream",
     "text": [
      "24\n"
     ]
    },
    {
     "name": "stderr",
     "output_type": "stream",
     "text": [
      "/home/bhvignesh/trading_system/src/strategies/momentum/mcad_strat.py:102: FutureWarning: Downcasting object dtype arrays on .fillna, .ffill, .bfill is deprecated and will change in a future version. Call result.infer_objects(copy=False) instead. To opt-in to the future behavior, set `pd.set_option('future.no_silent_downcasting', True)`\n",
      "  prev_above = above.shift(1).fillna(False)\n",
      "/home/bhvignesh/trading_system/src/strategies/momentum/mcad_strat.py:103: FutureWarning: Downcasting object dtype arrays on .fillna, .ffill, .bfill is deprecated and will change in a future version. Call result.infer_objects(copy=False) instead. To opt-in to the future behavior, set `pd.set_option('future.no_silent_downcasting', True)`\n",
      "  prev_below = below.shift(1).fillna(False)\n",
      "/home/bhvignesh/trading_system/src/strategies/momentum/mcad_strat.py:114: FutureWarning: The 'method' keyword in Series.replace is deprecated and will be removed in a future version.\n",
      "  positions = signals.replace(0, method='ffill').fillna(0)\n"
     ]
    },
    {
     "name": "stdout",
     "output_type": "stream",
     "text": [
      "25\n"
     ]
    },
    {
     "name": "stderr",
     "output_type": "stream",
     "text": [
      "/home/bhvignesh/trading_system/src/strategies/momentum/mcad_strat.py:102: FutureWarning: Downcasting object dtype arrays on .fillna, .ffill, .bfill is deprecated and will change in a future version. Call result.infer_objects(copy=False) instead. To opt-in to the future behavior, set `pd.set_option('future.no_silent_downcasting', True)`\n",
      "  prev_above = above.shift(1).fillna(False)\n",
      "/home/bhvignesh/trading_system/src/strategies/momentum/mcad_strat.py:103: FutureWarning: Downcasting object dtype arrays on .fillna, .ffill, .bfill is deprecated and will change in a future version. Call result.infer_objects(copy=False) instead. To opt-in to the future behavior, set `pd.set_option('future.no_silent_downcasting', True)`\n",
      "  prev_below = below.shift(1).fillna(False)\n",
      "/home/bhvignesh/trading_system/src/strategies/momentum/mcad_strat.py:114: FutureWarning: The 'method' keyword in Series.replace is deprecated and will be removed in a future version.\n",
      "  positions = signals.replace(0, method='ffill').fillna(0)\n"
     ]
    },
    {
     "name": "stdout",
     "output_type": "stream",
     "text": [
      "26\n"
     ]
    },
    {
     "name": "stderr",
     "output_type": "stream",
     "text": [
      "/home/bhvignesh/trading_system/src/strategies/momentum/mcad_strat.py:102: FutureWarning: Downcasting object dtype arrays on .fillna, .ffill, .bfill is deprecated and will change in a future version. Call result.infer_objects(copy=False) instead. To opt-in to the future behavior, set `pd.set_option('future.no_silent_downcasting', True)`\n",
      "  prev_above = above.shift(1).fillna(False)\n",
      "/home/bhvignesh/trading_system/src/strategies/momentum/mcad_strat.py:103: FutureWarning: Downcasting object dtype arrays on .fillna, .ffill, .bfill is deprecated and will change in a future version. Call result.infer_objects(copy=False) instead. To opt-in to the future behavior, set `pd.set_option('future.no_silent_downcasting', True)`\n",
      "  prev_below = below.shift(1).fillna(False)\n",
      "/home/bhvignesh/trading_system/src/strategies/momentum/mcad_strat.py:114: FutureWarning: The 'method' keyword in Series.replace is deprecated and will be removed in a future version.\n",
      "  positions = signals.replace(0, method='ffill').fillna(0)\n"
     ]
    },
    {
     "name": "stdout",
     "output_type": "stream",
     "text": [
      "27\n"
     ]
    },
    {
     "name": "stderr",
     "output_type": "stream",
     "text": [
      "/home/bhvignesh/trading_system/src/strategies/momentum/mcad_strat.py:102: FutureWarning: Downcasting object dtype arrays on .fillna, .ffill, .bfill is deprecated and will change in a future version. Call result.infer_objects(copy=False) instead. To opt-in to the future behavior, set `pd.set_option('future.no_silent_downcasting', True)`\n",
      "  prev_above = above.shift(1).fillna(False)\n",
      "/home/bhvignesh/trading_system/src/strategies/momentum/mcad_strat.py:103: FutureWarning: Downcasting object dtype arrays on .fillna, .ffill, .bfill is deprecated and will change in a future version. Call result.infer_objects(copy=False) instead. To opt-in to the future behavior, set `pd.set_option('future.no_silent_downcasting', True)`\n",
      "  prev_below = below.shift(1).fillna(False)\n",
      "/home/bhvignesh/trading_system/src/strategies/momentum/mcad_strat.py:114: FutureWarning: The 'method' keyword in Series.replace is deprecated and will be removed in a future version.\n",
      "  positions = signals.replace(0, method='ffill').fillna(0)\n"
     ]
    },
    {
     "name": "stdout",
     "output_type": "stream",
     "text": [
      "28\n"
     ]
    },
    {
     "name": "stderr",
     "output_type": "stream",
     "text": [
      "/home/bhvignesh/trading_system/src/strategies/momentum/mcad_strat.py:102: FutureWarning: Downcasting object dtype arrays on .fillna, .ffill, .bfill is deprecated and will change in a future version. Call result.infer_objects(copy=False) instead. To opt-in to the future behavior, set `pd.set_option('future.no_silent_downcasting', True)`\n",
      "  prev_above = above.shift(1).fillna(False)\n",
      "/home/bhvignesh/trading_system/src/strategies/momentum/mcad_strat.py:103: FutureWarning: Downcasting object dtype arrays on .fillna, .ffill, .bfill is deprecated and will change in a future version. Call result.infer_objects(copy=False) instead. To opt-in to the future behavior, set `pd.set_option('future.no_silent_downcasting', True)`\n",
      "  prev_below = below.shift(1).fillna(False)\n",
      "/home/bhvignesh/trading_system/src/strategies/momentum/mcad_strat.py:114: FutureWarning: The 'method' keyword in Series.replace is deprecated and will be removed in a future version.\n",
      "  positions = signals.replace(0, method='ffill').fillna(0)\n"
     ]
    },
    {
     "name": "stdout",
     "output_type": "stream",
     "text": [
      "29\n"
     ]
    },
    {
     "name": "stderr",
     "output_type": "stream",
     "text": [
      "/home/bhvignesh/trading_system/src/strategies/momentum/mcad_strat.py:102: FutureWarning: Downcasting object dtype arrays on .fillna, .ffill, .bfill is deprecated and will change in a future version. Call result.infer_objects(copy=False) instead. To opt-in to the future behavior, set `pd.set_option('future.no_silent_downcasting', True)`\n",
      "  prev_above = above.shift(1).fillna(False)\n",
      "/home/bhvignesh/trading_system/src/strategies/momentum/mcad_strat.py:103: FutureWarning: Downcasting object dtype arrays on .fillna, .ffill, .bfill is deprecated and will change in a future version. Call result.infer_objects(copy=False) instead. To opt-in to the future behavior, set `pd.set_option('future.no_silent_downcasting', True)`\n",
      "  prev_below = below.shift(1).fillna(False)\n",
      "/home/bhvignesh/trading_system/src/strategies/momentum/mcad_strat.py:114: FutureWarning: The 'method' keyword in Series.replace is deprecated and will be removed in a future version.\n",
      "  positions = signals.replace(0, method='ffill').fillna(0)\n"
     ]
    },
    {
     "name": "stdout",
     "output_type": "stream",
     "text": [
      "30\n"
     ]
    },
    {
     "name": "stderr",
     "output_type": "stream",
     "text": [
      "/home/bhvignesh/trading_system/src/strategies/momentum/mcad_strat.py:102: FutureWarning: Downcasting object dtype arrays on .fillna, .ffill, .bfill is deprecated and will change in a future version. Call result.infer_objects(copy=False) instead. To opt-in to the future behavior, set `pd.set_option('future.no_silent_downcasting', True)`\n",
      "  prev_above = above.shift(1).fillna(False)\n",
      "/home/bhvignesh/trading_system/src/strategies/momentum/mcad_strat.py:103: FutureWarning: Downcasting object dtype arrays on .fillna, .ffill, .bfill is deprecated and will change in a future version. Call result.infer_objects(copy=False) instead. To opt-in to the future behavior, set `pd.set_option('future.no_silent_downcasting', True)`\n",
      "  prev_below = below.shift(1).fillna(False)\n",
      "/home/bhvignesh/trading_system/src/strategies/momentum/mcad_strat.py:114: FutureWarning: The 'method' keyword in Series.replace is deprecated and will be removed in a future version.\n",
      "  positions = signals.replace(0, method='ffill').fillna(0)\n"
     ]
    },
    {
     "name": "stdout",
     "output_type": "stream",
     "text": [
      "31\n"
     ]
    },
    {
     "name": "stderr",
     "output_type": "stream",
     "text": [
      "/home/bhvignesh/trading_system/src/strategies/momentum/mcad_strat.py:102: FutureWarning: Downcasting object dtype arrays on .fillna, .ffill, .bfill is deprecated and will change in a future version. Call result.infer_objects(copy=False) instead. To opt-in to the future behavior, set `pd.set_option('future.no_silent_downcasting', True)`\n",
      "  prev_above = above.shift(1).fillna(False)\n",
      "/home/bhvignesh/trading_system/src/strategies/momentum/mcad_strat.py:103: FutureWarning: Downcasting object dtype arrays on .fillna, .ffill, .bfill is deprecated and will change in a future version. Call result.infer_objects(copy=False) instead. To opt-in to the future behavior, set `pd.set_option('future.no_silent_downcasting', True)`\n",
      "  prev_below = below.shift(1).fillna(False)\n",
      "/home/bhvignesh/trading_system/src/strategies/momentum/mcad_strat.py:114: FutureWarning: The 'method' keyword in Series.replace is deprecated and will be removed in a future version.\n",
      "  positions = signals.replace(0, method='ffill').fillna(0)\n"
     ]
    },
    {
     "name": "stdout",
     "output_type": "stream",
     "text": [
      "32\n"
     ]
    },
    {
     "name": "stderr",
     "output_type": "stream",
     "text": [
      "/home/bhvignesh/trading_system/src/strategies/momentum/mcad_strat.py:102: FutureWarning: Downcasting object dtype arrays on .fillna, .ffill, .bfill is deprecated and will change in a future version. Call result.infer_objects(copy=False) instead. To opt-in to the future behavior, set `pd.set_option('future.no_silent_downcasting', True)`\n",
      "  prev_above = above.shift(1).fillna(False)\n",
      "/home/bhvignesh/trading_system/src/strategies/momentum/mcad_strat.py:103: FutureWarning: Downcasting object dtype arrays on .fillna, .ffill, .bfill is deprecated and will change in a future version. Call result.infer_objects(copy=False) instead. To opt-in to the future behavior, set `pd.set_option('future.no_silent_downcasting', True)`\n",
      "  prev_below = below.shift(1).fillna(False)\n",
      "/home/bhvignesh/trading_system/src/strategies/momentum/mcad_strat.py:114: FutureWarning: The 'method' keyword in Series.replace is deprecated and will be removed in a future version.\n",
      "  positions = signals.replace(0, method='ffill').fillna(0)\n"
     ]
    },
    {
     "name": "stdout",
     "output_type": "stream",
     "text": [
      "33\n"
     ]
    },
    {
     "name": "stderr",
     "output_type": "stream",
     "text": [
      "/home/bhvignesh/trading_system/src/strategies/momentum/mcad_strat.py:102: FutureWarning: Downcasting object dtype arrays on .fillna, .ffill, .bfill is deprecated and will change in a future version. Call result.infer_objects(copy=False) instead. To opt-in to the future behavior, set `pd.set_option('future.no_silent_downcasting', True)`\n",
      "  prev_above = above.shift(1).fillna(False)\n",
      "/home/bhvignesh/trading_system/src/strategies/momentum/mcad_strat.py:103: FutureWarning: Downcasting object dtype arrays on .fillna, .ffill, .bfill is deprecated and will change in a future version. Call result.infer_objects(copy=False) instead. To opt-in to the future behavior, set `pd.set_option('future.no_silent_downcasting', True)`\n",
      "  prev_below = below.shift(1).fillna(False)\n",
      "/home/bhvignesh/trading_system/src/strategies/momentum/mcad_strat.py:114: FutureWarning: The 'method' keyword in Series.replace is deprecated and will be removed in a future version.\n",
      "  positions = signals.replace(0, method='ffill').fillna(0)\n"
     ]
    },
    {
     "name": "stdout",
     "output_type": "stream",
     "text": [
      "34\n"
     ]
    },
    {
     "name": "stderr",
     "output_type": "stream",
     "text": [
      "/home/bhvignesh/trading_system/src/strategies/momentum/mcad_strat.py:102: FutureWarning: Downcasting object dtype arrays on .fillna, .ffill, .bfill is deprecated and will change in a future version. Call result.infer_objects(copy=False) instead. To opt-in to the future behavior, set `pd.set_option('future.no_silent_downcasting', True)`\n",
      "  prev_above = above.shift(1).fillna(False)\n",
      "/home/bhvignesh/trading_system/src/strategies/momentum/mcad_strat.py:103: FutureWarning: Downcasting object dtype arrays on .fillna, .ffill, .bfill is deprecated and will change in a future version. Call result.infer_objects(copy=False) instead. To opt-in to the future behavior, set `pd.set_option('future.no_silent_downcasting', True)`\n",
      "  prev_below = below.shift(1).fillna(False)\n",
      "/home/bhvignesh/trading_system/src/strategies/momentum/mcad_strat.py:114: FutureWarning: The 'method' keyword in Series.replace is deprecated and will be removed in a future version.\n",
      "  positions = signals.replace(0, method='ffill').fillna(0)\n"
     ]
    },
    {
     "name": "stdout",
     "output_type": "stream",
     "text": [
      "35\n"
     ]
    },
    {
     "name": "stderr",
     "output_type": "stream",
     "text": [
      "/home/bhvignesh/trading_system/src/strategies/momentum/mcad_strat.py:102: FutureWarning: Downcasting object dtype arrays on .fillna, .ffill, .bfill is deprecated and will change in a future version. Call result.infer_objects(copy=False) instead. To opt-in to the future behavior, set `pd.set_option('future.no_silent_downcasting', True)`\n",
      "  prev_above = above.shift(1).fillna(False)\n",
      "/home/bhvignesh/trading_system/src/strategies/momentum/mcad_strat.py:103: FutureWarning: Downcasting object dtype arrays on .fillna, .ffill, .bfill is deprecated and will change in a future version. Call result.infer_objects(copy=False) instead. To opt-in to the future behavior, set `pd.set_option('future.no_silent_downcasting', True)`\n",
      "  prev_below = below.shift(1).fillna(False)\n",
      "/home/bhvignesh/trading_system/src/strategies/momentum/mcad_strat.py:114: FutureWarning: The 'method' keyword in Series.replace is deprecated and will be removed in a future version.\n",
      "  positions = signals.replace(0, method='ffill').fillna(0)\n"
     ]
    },
    {
     "name": "stdout",
     "output_type": "stream",
     "text": [
      "36\n"
     ]
    },
    {
     "name": "stderr",
     "output_type": "stream",
     "text": [
      "/home/bhvignesh/trading_system/src/strategies/momentum/mcad_strat.py:102: FutureWarning: Downcasting object dtype arrays on .fillna, .ffill, .bfill is deprecated and will change in a future version. Call result.infer_objects(copy=False) instead. To opt-in to the future behavior, set `pd.set_option('future.no_silent_downcasting', True)`\n",
      "  prev_above = above.shift(1).fillna(False)\n",
      "/home/bhvignesh/trading_system/src/strategies/momentum/mcad_strat.py:103: FutureWarning: Downcasting object dtype arrays on .fillna, .ffill, .bfill is deprecated and will change in a future version. Call result.infer_objects(copy=False) instead. To opt-in to the future behavior, set `pd.set_option('future.no_silent_downcasting', True)`\n",
      "  prev_below = below.shift(1).fillna(False)\n",
      "/home/bhvignesh/trading_system/src/strategies/momentum/mcad_strat.py:114: FutureWarning: The 'method' keyword in Series.replace is deprecated and will be removed in a future version.\n",
      "  positions = signals.replace(0, method='ffill').fillna(0)\n"
     ]
    },
    {
     "name": "stdout",
     "output_type": "stream",
     "text": [
      "37\n"
     ]
    },
    {
     "name": "stderr",
     "output_type": "stream",
     "text": [
      "/home/bhvignesh/trading_system/src/strategies/momentum/mcad_strat.py:102: FutureWarning: Downcasting object dtype arrays on .fillna, .ffill, .bfill is deprecated and will change in a future version. Call result.infer_objects(copy=False) instead. To opt-in to the future behavior, set `pd.set_option('future.no_silent_downcasting', True)`\n",
      "  prev_above = above.shift(1).fillna(False)\n",
      "/home/bhvignesh/trading_system/src/strategies/momentum/mcad_strat.py:103: FutureWarning: Downcasting object dtype arrays on .fillna, .ffill, .bfill is deprecated and will change in a future version. Call result.infer_objects(copy=False) instead. To opt-in to the future behavior, set `pd.set_option('future.no_silent_downcasting', True)`\n",
      "  prev_below = below.shift(1).fillna(False)\n",
      "/home/bhvignesh/trading_system/src/strategies/momentum/mcad_strat.py:114: FutureWarning: The 'method' keyword in Series.replace is deprecated and will be removed in a future version.\n",
      "  positions = signals.replace(0, method='ffill').fillna(0)\n"
     ]
    },
    {
     "name": "stdout",
     "output_type": "stream",
     "text": [
      "38\n"
     ]
    },
    {
     "name": "stderr",
     "output_type": "stream",
     "text": [
      "/home/bhvignesh/trading_system/src/strategies/momentum/mcad_strat.py:102: FutureWarning: Downcasting object dtype arrays on .fillna, .ffill, .bfill is deprecated and will change in a future version. Call result.infer_objects(copy=False) instead. To opt-in to the future behavior, set `pd.set_option('future.no_silent_downcasting', True)`\n",
      "  prev_above = above.shift(1).fillna(False)\n",
      "/home/bhvignesh/trading_system/src/strategies/momentum/mcad_strat.py:103: FutureWarning: Downcasting object dtype arrays on .fillna, .ffill, .bfill is deprecated and will change in a future version. Call result.infer_objects(copy=False) instead. To opt-in to the future behavior, set `pd.set_option('future.no_silent_downcasting', True)`\n",
      "  prev_below = below.shift(1).fillna(False)\n",
      "/home/bhvignesh/trading_system/src/strategies/momentum/mcad_strat.py:114: FutureWarning: The 'method' keyword in Series.replace is deprecated and will be removed in a future version.\n",
      "  positions = signals.replace(0, method='ffill').fillna(0)\n"
     ]
    },
    {
     "name": "stdout",
     "output_type": "stream",
     "text": [
      "39\n"
     ]
    },
    {
     "name": "stderr",
     "output_type": "stream",
     "text": [
      "/home/bhvignesh/trading_system/src/strategies/momentum/mcad_strat.py:102: FutureWarning: Downcasting object dtype arrays on .fillna, .ffill, .bfill is deprecated and will change in a future version. Call result.infer_objects(copy=False) instead. To opt-in to the future behavior, set `pd.set_option('future.no_silent_downcasting', True)`\n",
      "  prev_above = above.shift(1).fillna(False)\n",
      "/home/bhvignesh/trading_system/src/strategies/momentum/mcad_strat.py:103: FutureWarning: Downcasting object dtype arrays on .fillna, .ffill, .bfill is deprecated and will change in a future version. Call result.infer_objects(copy=False) instead. To opt-in to the future behavior, set `pd.set_option('future.no_silent_downcasting', True)`\n",
      "  prev_below = below.shift(1).fillna(False)\n",
      "/home/bhvignesh/trading_system/src/strategies/momentum/mcad_strat.py:114: FutureWarning: The 'method' keyword in Series.replace is deprecated and will be removed in a future version.\n",
      "  positions = signals.replace(0, method='ffill').fillna(0)\n"
     ]
    },
    {
     "name": "stdout",
     "output_type": "stream",
     "text": [
      "40\n"
     ]
    },
    {
     "name": "stderr",
     "output_type": "stream",
     "text": [
      "/home/bhvignesh/trading_system/src/strategies/momentum/mcad_strat.py:102: FutureWarning: Downcasting object dtype arrays on .fillna, .ffill, .bfill is deprecated and will change in a future version. Call result.infer_objects(copy=False) instead. To opt-in to the future behavior, set `pd.set_option('future.no_silent_downcasting', True)`\n",
      "  prev_above = above.shift(1).fillna(False)\n",
      "/home/bhvignesh/trading_system/src/strategies/momentum/mcad_strat.py:103: FutureWarning: Downcasting object dtype arrays on .fillna, .ffill, .bfill is deprecated and will change in a future version. Call result.infer_objects(copy=False) instead. To opt-in to the future behavior, set `pd.set_option('future.no_silent_downcasting', True)`\n",
      "  prev_below = below.shift(1).fillna(False)\n",
      "/home/bhvignesh/trading_system/src/strategies/momentum/mcad_strat.py:114: FutureWarning: The 'method' keyword in Series.replace is deprecated and will be removed in a future version.\n",
      "  positions = signals.replace(0, method='ffill').fillna(0)\n"
     ]
    },
    {
     "name": "stdout",
     "output_type": "stream",
     "text": [
      "41\n"
     ]
    },
    {
     "name": "stderr",
     "output_type": "stream",
     "text": [
      "/home/bhvignesh/trading_system/src/strategies/momentum/mcad_strat.py:102: FutureWarning: Downcasting object dtype arrays on .fillna, .ffill, .bfill is deprecated and will change in a future version. Call result.infer_objects(copy=False) instead. To opt-in to the future behavior, set `pd.set_option('future.no_silent_downcasting', True)`\n",
      "  prev_above = above.shift(1).fillna(False)\n",
      "/home/bhvignesh/trading_system/src/strategies/momentum/mcad_strat.py:103: FutureWarning: Downcasting object dtype arrays on .fillna, .ffill, .bfill is deprecated and will change in a future version. Call result.infer_objects(copy=False) instead. To opt-in to the future behavior, set `pd.set_option('future.no_silent_downcasting', True)`\n",
      "  prev_below = below.shift(1).fillna(False)\n",
      "/home/bhvignesh/trading_system/src/strategies/momentum/mcad_strat.py:114: FutureWarning: The 'method' keyword in Series.replace is deprecated and will be removed in a future version.\n",
      "  positions = signals.replace(0, method='ffill').fillna(0)\n"
     ]
    },
    {
     "name": "stdout",
     "output_type": "stream",
     "text": [
      "42\n"
     ]
    },
    {
     "name": "stderr",
     "output_type": "stream",
     "text": [
      "/home/bhvignesh/trading_system/src/strategies/momentum/mcad_strat.py:102: FutureWarning: Downcasting object dtype arrays on .fillna, .ffill, .bfill is deprecated and will change in a future version. Call result.infer_objects(copy=False) instead. To opt-in to the future behavior, set `pd.set_option('future.no_silent_downcasting', True)`\n",
      "  prev_above = above.shift(1).fillna(False)\n",
      "/home/bhvignesh/trading_system/src/strategies/momentum/mcad_strat.py:103: FutureWarning: Downcasting object dtype arrays on .fillna, .ffill, .bfill is deprecated and will change in a future version. Call result.infer_objects(copy=False) instead. To opt-in to the future behavior, set `pd.set_option('future.no_silent_downcasting', True)`\n",
      "  prev_below = below.shift(1).fillna(False)\n",
      "/home/bhvignesh/trading_system/src/strategies/momentum/mcad_strat.py:114: FutureWarning: The 'method' keyword in Series.replace is deprecated and will be removed in a future version.\n",
      "  positions = signals.replace(0, method='ffill').fillna(0)\n"
     ]
    },
    {
     "name": "stdout",
     "output_type": "stream",
     "text": [
      "43\n"
     ]
    },
    {
     "name": "stderr",
     "output_type": "stream",
     "text": [
      "/home/bhvignesh/trading_system/src/strategies/momentum/mcad_strat.py:102: FutureWarning: Downcasting object dtype arrays on .fillna, .ffill, .bfill is deprecated and will change in a future version. Call result.infer_objects(copy=False) instead. To opt-in to the future behavior, set `pd.set_option('future.no_silent_downcasting', True)`\n",
      "  prev_above = above.shift(1).fillna(False)\n",
      "/home/bhvignesh/trading_system/src/strategies/momentum/mcad_strat.py:103: FutureWarning: Downcasting object dtype arrays on .fillna, .ffill, .bfill is deprecated and will change in a future version. Call result.infer_objects(copy=False) instead. To opt-in to the future behavior, set `pd.set_option('future.no_silent_downcasting', True)`\n",
      "  prev_below = below.shift(1).fillna(False)\n",
      "/home/bhvignesh/trading_system/src/strategies/momentum/mcad_strat.py:114: FutureWarning: The 'method' keyword in Series.replace is deprecated and will be removed in a future version.\n",
      "  positions = signals.replace(0, method='ffill').fillna(0)\n"
     ]
    },
    {
     "name": "stdout",
     "output_type": "stream",
     "text": [
      "44\n"
     ]
    },
    {
     "name": "stderr",
     "output_type": "stream",
     "text": [
      "/home/bhvignesh/trading_system/src/strategies/momentum/mcad_strat.py:102: FutureWarning: Downcasting object dtype arrays on .fillna, .ffill, .bfill is deprecated and will change in a future version. Call result.infer_objects(copy=False) instead. To opt-in to the future behavior, set `pd.set_option('future.no_silent_downcasting', True)`\n",
      "  prev_above = above.shift(1).fillna(False)\n",
      "/home/bhvignesh/trading_system/src/strategies/momentum/mcad_strat.py:103: FutureWarning: Downcasting object dtype arrays on .fillna, .ffill, .bfill is deprecated and will change in a future version. Call result.infer_objects(copy=False) instead. To opt-in to the future behavior, set `pd.set_option('future.no_silent_downcasting', True)`\n",
      "  prev_below = below.shift(1).fillna(False)\n",
      "/home/bhvignesh/trading_system/src/strategies/momentum/mcad_strat.py:114: FutureWarning: The 'method' keyword in Series.replace is deprecated and will be removed in a future version.\n",
      "  positions = signals.replace(0, method='ffill').fillna(0)\n"
     ]
    },
    {
     "name": "stdout",
     "output_type": "stream",
     "text": [
      "45\n"
     ]
    },
    {
     "name": "stderr",
     "output_type": "stream",
     "text": [
      "/home/bhvignesh/trading_system/src/strategies/momentum/mcad_strat.py:102: FutureWarning: Downcasting object dtype arrays on .fillna, .ffill, .bfill is deprecated and will change in a future version. Call result.infer_objects(copy=False) instead. To opt-in to the future behavior, set `pd.set_option('future.no_silent_downcasting', True)`\n",
      "  prev_above = above.shift(1).fillna(False)\n",
      "/home/bhvignesh/trading_system/src/strategies/momentum/mcad_strat.py:103: FutureWarning: Downcasting object dtype arrays on .fillna, .ffill, .bfill is deprecated and will change in a future version. Call result.infer_objects(copy=False) instead. To opt-in to the future behavior, set `pd.set_option('future.no_silent_downcasting', True)`\n",
      "  prev_below = below.shift(1).fillna(False)\n",
      "/home/bhvignesh/trading_system/src/strategies/momentum/mcad_strat.py:114: FutureWarning: The 'method' keyword in Series.replace is deprecated and will be removed in a future version.\n",
      "  positions = signals.replace(0, method='ffill').fillna(0)\n"
     ]
    },
    {
     "name": "stdout",
     "output_type": "stream",
     "text": [
      "46\n"
     ]
    },
    {
     "name": "stderr",
     "output_type": "stream",
     "text": [
      "/home/bhvignesh/trading_system/src/strategies/momentum/mcad_strat.py:102: FutureWarning: Downcasting object dtype arrays on .fillna, .ffill, .bfill is deprecated and will change in a future version. Call result.infer_objects(copy=False) instead. To opt-in to the future behavior, set `pd.set_option('future.no_silent_downcasting', True)`\n",
      "  prev_above = above.shift(1).fillna(False)\n",
      "/home/bhvignesh/trading_system/src/strategies/momentum/mcad_strat.py:103: FutureWarning: Downcasting object dtype arrays on .fillna, .ffill, .bfill is deprecated and will change in a future version. Call result.infer_objects(copy=False) instead. To opt-in to the future behavior, set `pd.set_option('future.no_silent_downcasting', True)`\n",
      "  prev_below = below.shift(1).fillna(False)\n",
      "/home/bhvignesh/trading_system/src/strategies/momentum/mcad_strat.py:114: FutureWarning: The 'method' keyword in Series.replace is deprecated and will be removed in a future version.\n",
      "  positions = signals.replace(0, method='ffill').fillna(0)\n"
     ]
    },
    {
     "name": "stdout",
     "output_type": "stream",
     "text": [
      "47\n"
     ]
    },
    {
     "name": "stderr",
     "output_type": "stream",
     "text": [
      "/home/bhvignesh/trading_system/src/strategies/momentum/mcad_strat.py:102: FutureWarning: Downcasting object dtype arrays on .fillna, .ffill, .bfill is deprecated and will change in a future version. Call result.infer_objects(copy=False) instead. To opt-in to the future behavior, set `pd.set_option('future.no_silent_downcasting', True)`\n",
      "  prev_above = above.shift(1).fillna(False)\n",
      "/home/bhvignesh/trading_system/src/strategies/momentum/mcad_strat.py:103: FutureWarning: Downcasting object dtype arrays on .fillna, .ffill, .bfill is deprecated and will change in a future version. Call result.infer_objects(copy=False) instead. To opt-in to the future behavior, set `pd.set_option('future.no_silent_downcasting', True)`\n",
      "  prev_below = below.shift(1).fillna(False)\n",
      "/home/bhvignesh/trading_system/src/strategies/momentum/mcad_strat.py:114: FutureWarning: The 'method' keyword in Series.replace is deprecated and will be removed in a future version.\n",
      "  positions = signals.replace(0, method='ffill').fillna(0)\n"
     ]
    },
    {
     "name": "stdout",
     "output_type": "stream",
     "text": [
      "48\n"
     ]
    },
    {
     "name": "stderr",
     "output_type": "stream",
     "text": [
      "/home/bhvignesh/trading_system/src/strategies/momentum/mcad_strat.py:102: FutureWarning: Downcasting object dtype arrays on .fillna, .ffill, .bfill is deprecated and will change in a future version. Call result.infer_objects(copy=False) instead. To opt-in to the future behavior, set `pd.set_option('future.no_silent_downcasting', True)`\n",
      "  prev_above = above.shift(1).fillna(False)\n",
      "/home/bhvignesh/trading_system/src/strategies/momentum/mcad_strat.py:103: FutureWarning: Downcasting object dtype arrays on .fillna, .ffill, .bfill is deprecated and will change in a future version. Call result.infer_objects(copy=False) instead. To opt-in to the future behavior, set `pd.set_option('future.no_silent_downcasting', True)`\n",
      "  prev_below = below.shift(1).fillna(False)\n",
      "/home/bhvignesh/trading_system/src/strategies/momentum/mcad_strat.py:114: FutureWarning: The 'method' keyword in Series.replace is deprecated and will be removed in a future version.\n",
      "  positions = signals.replace(0, method='ffill').fillna(0)\n"
     ]
    },
    {
     "name": "stdout",
     "output_type": "stream",
     "text": [
      "49\n"
     ]
    },
    {
     "name": "stderr",
     "output_type": "stream",
     "text": [
      "/home/bhvignesh/trading_system/src/strategies/momentum/mcad_strat.py:102: FutureWarning: Downcasting object dtype arrays on .fillna, .ffill, .bfill is deprecated and will change in a future version. Call result.infer_objects(copy=False) instead. To opt-in to the future behavior, set `pd.set_option('future.no_silent_downcasting', True)`\n",
      "  prev_above = above.shift(1).fillna(False)\n",
      "/home/bhvignesh/trading_system/src/strategies/momentum/mcad_strat.py:103: FutureWarning: Downcasting object dtype arrays on .fillna, .ffill, .bfill is deprecated and will change in a future version. Call result.infer_objects(copy=False) instead. To opt-in to the future behavior, set `pd.set_option('future.no_silent_downcasting', True)`\n",
      "  prev_below = below.shift(1).fillna(False)\n",
      "/home/bhvignesh/trading_system/src/strategies/momentum/mcad_strat.py:114: FutureWarning: The 'method' keyword in Series.replace is deprecated and will be removed in a future version.\n",
      "  positions = signals.replace(0, method='ffill').fillna(0)\n"
     ]
    },
    {
     "name": "stdout",
     "output_type": "stream",
     "text": [
      "50\n"
     ]
    },
    {
     "name": "stderr",
     "output_type": "stream",
     "text": [
      "/home/bhvignesh/trading_system/src/strategies/momentum/mcad_strat.py:102: FutureWarning: Downcasting object dtype arrays on .fillna, .ffill, .bfill is deprecated and will change in a future version. Call result.infer_objects(copy=False) instead. To opt-in to the future behavior, set `pd.set_option('future.no_silent_downcasting', True)`\n",
      "  prev_above = above.shift(1).fillna(False)\n",
      "/home/bhvignesh/trading_system/src/strategies/momentum/mcad_strat.py:103: FutureWarning: Downcasting object dtype arrays on .fillna, .ffill, .bfill is deprecated and will change in a future version. Call result.infer_objects(copy=False) instead. To opt-in to the future behavior, set `pd.set_option('future.no_silent_downcasting', True)`\n",
      "  prev_below = below.shift(1).fillna(False)\n",
      "/home/bhvignesh/trading_system/src/strategies/momentum/mcad_strat.py:114: FutureWarning: The 'method' keyword in Series.replace is deprecated and will be removed in a future version.\n",
      "  positions = signals.replace(0, method='ffill').fillna(0)\n"
     ]
    },
    {
     "name": "stdout",
     "output_type": "stream",
     "text": [
      "51\n"
     ]
    },
    {
     "name": "stderr",
     "output_type": "stream",
     "text": [
      "/home/bhvignesh/trading_system/src/strategies/momentum/mcad_strat.py:102: FutureWarning: Downcasting object dtype arrays on .fillna, .ffill, .bfill is deprecated and will change in a future version. Call result.infer_objects(copy=False) instead. To opt-in to the future behavior, set `pd.set_option('future.no_silent_downcasting', True)`\n",
      "  prev_above = above.shift(1).fillna(False)\n",
      "/home/bhvignesh/trading_system/src/strategies/momentum/mcad_strat.py:103: FutureWarning: Downcasting object dtype arrays on .fillna, .ffill, .bfill is deprecated and will change in a future version. Call result.infer_objects(copy=False) instead. To opt-in to the future behavior, set `pd.set_option('future.no_silent_downcasting', True)`\n",
      "  prev_below = below.shift(1).fillna(False)\n",
      "/home/bhvignesh/trading_system/src/strategies/momentum/mcad_strat.py:114: FutureWarning: The 'method' keyword in Series.replace is deprecated and will be removed in a future version.\n",
      "  positions = signals.replace(0, method='ffill').fillna(0)\n"
     ]
    },
    {
     "name": "stdout",
     "output_type": "stream",
     "text": [
      "52\n"
     ]
    },
    {
     "name": "stderr",
     "output_type": "stream",
     "text": [
      "/home/bhvignesh/trading_system/src/strategies/momentum/mcad_strat.py:102: FutureWarning: Downcasting object dtype arrays on .fillna, .ffill, .bfill is deprecated and will change in a future version. Call result.infer_objects(copy=False) instead. To opt-in to the future behavior, set `pd.set_option('future.no_silent_downcasting', True)`\n",
      "  prev_above = above.shift(1).fillna(False)\n",
      "/home/bhvignesh/trading_system/src/strategies/momentum/mcad_strat.py:103: FutureWarning: Downcasting object dtype arrays on .fillna, .ffill, .bfill is deprecated and will change in a future version. Call result.infer_objects(copy=False) instead. To opt-in to the future behavior, set `pd.set_option('future.no_silent_downcasting', True)`\n",
      "  prev_below = below.shift(1).fillna(False)\n",
      "/home/bhvignesh/trading_system/src/strategies/momentum/mcad_strat.py:114: FutureWarning: The 'method' keyword in Series.replace is deprecated and will be removed in a future version.\n",
      "  positions = signals.replace(0, method='ffill').fillna(0)\n"
     ]
    },
    {
     "name": "stdout",
     "output_type": "stream",
     "text": [
      "53\n"
     ]
    },
    {
     "name": "stderr",
     "output_type": "stream",
     "text": [
      "/home/bhvignesh/trading_system/src/strategies/momentum/mcad_strat.py:102: FutureWarning: Downcasting object dtype arrays on .fillna, .ffill, .bfill is deprecated and will change in a future version. Call result.infer_objects(copy=False) instead. To opt-in to the future behavior, set `pd.set_option('future.no_silent_downcasting', True)`\n",
      "  prev_above = above.shift(1).fillna(False)\n",
      "/home/bhvignesh/trading_system/src/strategies/momentum/mcad_strat.py:103: FutureWarning: Downcasting object dtype arrays on .fillna, .ffill, .bfill is deprecated and will change in a future version. Call result.infer_objects(copy=False) instead. To opt-in to the future behavior, set `pd.set_option('future.no_silent_downcasting', True)`\n",
      "  prev_below = below.shift(1).fillna(False)\n",
      "/home/bhvignesh/trading_system/src/strategies/momentum/mcad_strat.py:114: FutureWarning: The 'method' keyword in Series.replace is deprecated and will be removed in a future version.\n",
      "  positions = signals.replace(0, method='ffill').fillna(0)\n"
     ]
    },
    {
     "name": "stdout",
     "output_type": "stream",
     "text": [
      "54\n"
     ]
    },
    {
     "name": "stderr",
     "output_type": "stream",
     "text": [
      "/home/bhvignesh/trading_system/src/strategies/momentum/mcad_strat.py:102: FutureWarning: Downcasting object dtype arrays on .fillna, .ffill, .bfill is deprecated and will change in a future version. Call result.infer_objects(copy=False) instead. To opt-in to the future behavior, set `pd.set_option('future.no_silent_downcasting', True)`\n",
      "  prev_above = above.shift(1).fillna(False)\n",
      "/home/bhvignesh/trading_system/src/strategies/momentum/mcad_strat.py:103: FutureWarning: Downcasting object dtype arrays on .fillna, .ffill, .bfill is deprecated and will change in a future version. Call result.infer_objects(copy=False) instead. To opt-in to the future behavior, set `pd.set_option('future.no_silent_downcasting', True)`\n",
      "  prev_below = below.shift(1).fillna(False)\n",
      "/home/bhvignesh/trading_system/src/strategies/momentum/mcad_strat.py:114: FutureWarning: The 'method' keyword in Series.replace is deprecated and will be removed in a future version.\n",
      "  positions = signals.replace(0, method='ffill').fillna(0)\n"
     ]
    },
    {
     "name": "stdout",
     "output_type": "stream",
     "text": [
      "55\n"
     ]
    },
    {
     "name": "stderr",
     "output_type": "stream",
     "text": [
      "/home/bhvignesh/trading_system/src/strategies/momentum/mcad_strat.py:102: FutureWarning: Downcasting object dtype arrays on .fillna, .ffill, .bfill is deprecated and will change in a future version. Call result.infer_objects(copy=False) instead. To opt-in to the future behavior, set `pd.set_option('future.no_silent_downcasting', True)`\n",
      "  prev_above = above.shift(1).fillna(False)\n",
      "/home/bhvignesh/trading_system/src/strategies/momentum/mcad_strat.py:103: FutureWarning: Downcasting object dtype arrays on .fillna, .ffill, .bfill is deprecated and will change in a future version. Call result.infer_objects(copy=False) instead. To opt-in to the future behavior, set `pd.set_option('future.no_silent_downcasting', True)`\n",
      "  prev_below = below.shift(1).fillna(False)\n",
      "/home/bhvignesh/trading_system/src/strategies/momentum/mcad_strat.py:114: FutureWarning: The 'method' keyword in Series.replace is deprecated and will be removed in a future version.\n",
      "  positions = signals.replace(0, method='ffill').fillna(0)\n"
     ]
    },
    {
     "name": "stdout",
     "output_type": "stream",
     "text": [
      "56\n"
     ]
    },
    {
     "name": "stderr",
     "output_type": "stream",
     "text": [
      "/home/bhvignesh/trading_system/src/strategies/momentum/mcad_strat.py:102: FutureWarning: Downcasting object dtype arrays on .fillna, .ffill, .bfill is deprecated and will change in a future version. Call result.infer_objects(copy=False) instead. To opt-in to the future behavior, set `pd.set_option('future.no_silent_downcasting', True)`\n",
      "  prev_above = above.shift(1).fillna(False)\n",
      "/home/bhvignesh/trading_system/src/strategies/momentum/mcad_strat.py:103: FutureWarning: Downcasting object dtype arrays on .fillna, .ffill, .bfill is deprecated and will change in a future version. Call result.infer_objects(copy=False) instead. To opt-in to the future behavior, set `pd.set_option('future.no_silent_downcasting', True)`\n",
      "  prev_below = below.shift(1).fillna(False)\n",
      "/home/bhvignesh/trading_system/src/strategies/momentum/mcad_strat.py:114: FutureWarning: The 'method' keyword in Series.replace is deprecated and will be removed in a future version.\n",
      "  positions = signals.replace(0, method='ffill').fillna(0)\n"
     ]
    },
    {
     "name": "stdout",
     "output_type": "stream",
     "text": [
      "57\n"
     ]
    },
    {
     "name": "stderr",
     "output_type": "stream",
     "text": [
      "/home/bhvignesh/trading_system/src/strategies/momentum/mcad_strat.py:102: FutureWarning: Downcasting object dtype arrays on .fillna, .ffill, .bfill is deprecated and will change in a future version. Call result.infer_objects(copy=False) instead. To opt-in to the future behavior, set `pd.set_option('future.no_silent_downcasting', True)`\n",
      "  prev_above = above.shift(1).fillna(False)\n",
      "/home/bhvignesh/trading_system/src/strategies/momentum/mcad_strat.py:103: FutureWarning: Downcasting object dtype arrays on .fillna, .ffill, .bfill is deprecated and will change in a future version. Call result.infer_objects(copy=False) instead. To opt-in to the future behavior, set `pd.set_option('future.no_silent_downcasting', True)`\n",
      "  prev_below = below.shift(1).fillna(False)\n",
      "/home/bhvignesh/trading_system/src/strategies/momentum/mcad_strat.py:114: FutureWarning: The 'method' keyword in Series.replace is deprecated and will be removed in a future version.\n",
      "  positions = signals.replace(0, method='ffill').fillna(0)\n"
     ]
    },
    {
     "name": "stdout",
     "output_type": "stream",
     "text": [
      "58\n"
     ]
    },
    {
     "name": "stderr",
     "output_type": "stream",
     "text": [
      "/home/bhvignesh/trading_system/src/strategies/momentum/mcad_strat.py:102: FutureWarning: Downcasting object dtype arrays on .fillna, .ffill, .bfill is deprecated and will change in a future version. Call result.infer_objects(copy=False) instead. To opt-in to the future behavior, set `pd.set_option('future.no_silent_downcasting', True)`\n",
      "  prev_above = above.shift(1).fillna(False)\n",
      "/home/bhvignesh/trading_system/src/strategies/momentum/mcad_strat.py:103: FutureWarning: Downcasting object dtype arrays on .fillna, .ffill, .bfill is deprecated and will change in a future version. Call result.infer_objects(copy=False) instead. To opt-in to the future behavior, set `pd.set_option('future.no_silent_downcasting', True)`\n",
      "  prev_below = below.shift(1).fillna(False)\n",
      "/home/bhvignesh/trading_system/src/strategies/momentum/mcad_strat.py:114: FutureWarning: The 'method' keyword in Series.replace is deprecated and will be removed in a future version.\n",
      "  positions = signals.replace(0, method='ffill').fillna(0)\n"
     ]
    },
    {
     "name": "stdout",
     "output_type": "stream",
     "text": [
      "59\n"
     ]
    },
    {
     "name": "stderr",
     "output_type": "stream",
     "text": [
      "/home/bhvignesh/trading_system/src/strategies/momentum/mcad_strat.py:102: FutureWarning: Downcasting object dtype arrays on .fillna, .ffill, .bfill is deprecated and will change in a future version. Call result.infer_objects(copy=False) instead. To opt-in to the future behavior, set `pd.set_option('future.no_silent_downcasting', True)`\n",
      "  prev_above = above.shift(1).fillna(False)\n",
      "/home/bhvignesh/trading_system/src/strategies/momentum/mcad_strat.py:103: FutureWarning: Downcasting object dtype arrays on .fillna, .ffill, .bfill is deprecated and will change in a future version. Call result.infer_objects(copy=False) instead. To opt-in to the future behavior, set `pd.set_option('future.no_silent_downcasting', True)`\n",
      "  prev_below = below.shift(1).fillna(False)\n",
      "/home/bhvignesh/trading_system/src/strategies/momentum/mcad_strat.py:114: FutureWarning: The 'method' keyword in Series.replace is deprecated and will be removed in a future version.\n",
      "  positions = signals.replace(0, method='ffill').fillna(0)\n"
     ]
    },
    {
     "name": "stdout",
     "output_type": "stream",
     "text": [
      "60\n"
     ]
    },
    {
     "name": "stderr",
     "output_type": "stream",
     "text": [
      "/home/bhvignesh/trading_system/src/strategies/momentum/mcad_strat.py:102: FutureWarning: Downcasting object dtype arrays on .fillna, .ffill, .bfill is deprecated and will change in a future version. Call result.infer_objects(copy=False) instead. To opt-in to the future behavior, set `pd.set_option('future.no_silent_downcasting', True)`\n",
      "  prev_above = above.shift(1).fillna(False)\n",
      "/home/bhvignesh/trading_system/src/strategies/momentum/mcad_strat.py:103: FutureWarning: Downcasting object dtype arrays on .fillna, .ffill, .bfill is deprecated and will change in a future version. Call result.infer_objects(copy=False) instead. To opt-in to the future behavior, set `pd.set_option('future.no_silent_downcasting', True)`\n",
      "  prev_below = below.shift(1).fillna(False)\n",
      "/home/bhvignesh/trading_system/src/strategies/momentum/mcad_strat.py:114: FutureWarning: The 'method' keyword in Series.replace is deprecated and will be removed in a future version.\n",
      "  positions = signals.replace(0, method='ffill').fillna(0)\n"
     ]
    },
    {
     "name": "stdout",
     "output_type": "stream",
     "text": [
      "61\n"
     ]
    },
    {
     "name": "stderr",
     "output_type": "stream",
     "text": [
      "/home/bhvignesh/trading_system/src/strategies/momentum/mcad_strat.py:102: FutureWarning: Downcasting object dtype arrays on .fillna, .ffill, .bfill is deprecated and will change in a future version. Call result.infer_objects(copy=False) instead. To opt-in to the future behavior, set `pd.set_option('future.no_silent_downcasting', True)`\n",
      "  prev_above = above.shift(1).fillna(False)\n",
      "/home/bhvignesh/trading_system/src/strategies/momentum/mcad_strat.py:103: FutureWarning: Downcasting object dtype arrays on .fillna, .ffill, .bfill is deprecated and will change in a future version. Call result.infer_objects(copy=False) instead. To opt-in to the future behavior, set `pd.set_option('future.no_silent_downcasting', True)`\n",
      "  prev_below = below.shift(1).fillna(False)\n",
      "/home/bhvignesh/trading_system/src/strategies/momentum/mcad_strat.py:114: FutureWarning: The 'method' keyword in Series.replace is deprecated and will be removed in a future version.\n",
      "  positions = signals.replace(0, method='ffill').fillna(0)\n"
     ]
    },
    {
     "name": "stdout",
     "output_type": "stream",
     "text": [
      "62\n"
     ]
    },
    {
     "name": "stderr",
     "output_type": "stream",
     "text": [
      "/home/bhvignesh/trading_system/src/strategies/momentum/mcad_strat.py:102: FutureWarning: Downcasting object dtype arrays on .fillna, .ffill, .bfill is deprecated and will change in a future version. Call result.infer_objects(copy=False) instead. To opt-in to the future behavior, set `pd.set_option('future.no_silent_downcasting', True)`\n",
      "  prev_above = above.shift(1).fillna(False)\n",
      "/home/bhvignesh/trading_system/src/strategies/momentum/mcad_strat.py:103: FutureWarning: Downcasting object dtype arrays on .fillna, .ffill, .bfill is deprecated and will change in a future version. Call result.infer_objects(copy=False) instead. To opt-in to the future behavior, set `pd.set_option('future.no_silent_downcasting', True)`\n",
      "  prev_below = below.shift(1).fillna(False)\n",
      "/home/bhvignesh/trading_system/src/strategies/momentum/mcad_strat.py:114: FutureWarning: The 'method' keyword in Series.replace is deprecated and will be removed in a future version.\n",
      "  positions = signals.replace(0, method='ffill').fillna(0)\n"
     ]
    },
    {
     "name": "stdout",
     "output_type": "stream",
     "text": [
      "63\n"
     ]
    },
    {
     "name": "stderr",
     "output_type": "stream",
     "text": [
      "/home/bhvignesh/trading_system/src/strategies/momentum/mcad_strat.py:102: FutureWarning: Downcasting object dtype arrays on .fillna, .ffill, .bfill is deprecated and will change in a future version. Call result.infer_objects(copy=False) instead. To opt-in to the future behavior, set `pd.set_option('future.no_silent_downcasting', True)`\n",
      "  prev_above = above.shift(1).fillna(False)\n",
      "/home/bhvignesh/trading_system/src/strategies/momentum/mcad_strat.py:103: FutureWarning: Downcasting object dtype arrays on .fillna, .ffill, .bfill is deprecated and will change in a future version. Call result.infer_objects(copy=False) instead. To opt-in to the future behavior, set `pd.set_option('future.no_silent_downcasting', True)`\n",
      "  prev_below = below.shift(1).fillna(False)\n",
      "/home/bhvignesh/trading_system/src/strategies/momentum/mcad_strat.py:114: FutureWarning: The 'method' keyword in Series.replace is deprecated and will be removed in a future version.\n",
      "  positions = signals.replace(0, method='ffill').fillna(0)\n"
     ]
    },
    {
     "name": "stdout",
     "output_type": "stream",
     "text": [
      "64\n"
     ]
    },
    {
     "name": "stderr",
     "output_type": "stream",
     "text": [
      "/home/bhvignesh/trading_system/src/strategies/momentum/mcad_strat.py:102: FutureWarning: Downcasting object dtype arrays on .fillna, .ffill, .bfill is deprecated and will change in a future version. Call result.infer_objects(copy=False) instead. To opt-in to the future behavior, set `pd.set_option('future.no_silent_downcasting', True)`\n",
      "  prev_above = above.shift(1).fillna(False)\n",
      "/home/bhvignesh/trading_system/src/strategies/momentum/mcad_strat.py:103: FutureWarning: Downcasting object dtype arrays on .fillna, .ffill, .bfill is deprecated and will change in a future version. Call result.infer_objects(copy=False) instead. To opt-in to the future behavior, set `pd.set_option('future.no_silent_downcasting', True)`\n",
      "  prev_below = below.shift(1).fillna(False)\n",
      "/home/bhvignesh/trading_system/src/strategies/momentum/mcad_strat.py:114: FutureWarning: The 'method' keyword in Series.replace is deprecated and will be removed in a future version.\n",
      "  positions = signals.replace(0, method='ffill').fillna(0)\n"
     ]
    },
    {
     "name": "stdout",
     "output_type": "stream",
     "text": [
      "65\n"
     ]
    },
    {
     "name": "stderr",
     "output_type": "stream",
     "text": [
      "/home/bhvignesh/trading_system/src/strategies/momentum/mcad_strat.py:102: FutureWarning: Downcasting object dtype arrays on .fillna, .ffill, .bfill is deprecated and will change in a future version. Call result.infer_objects(copy=False) instead. To opt-in to the future behavior, set `pd.set_option('future.no_silent_downcasting', True)`\n",
      "  prev_above = above.shift(1).fillna(False)\n",
      "/home/bhvignesh/trading_system/src/strategies/momentum/mcad_strat.py:103: FutureWarning: Downcasting object dtype arrays on .fillna, .ffill, .bfill is deprecated and will change in a future version. Call result.infer_objects(copy=False) instead. To opt-in to the future behavior, set `pd.set_option('future.no_silent_downcasting', True)`\n",
      "  prev_below = below.shift(1).fillna(False)\n",
      "/home/bhvignesh/trading_system/src/strategies/momentum/mcad_strat.py:114: FutureWarning: The 'method' keyword in Series.replace is deprecated and will be removed in a future version.\n",
      "  positions = signals.replace(0, method='ffill').fillna(0)\n"
     ]
    },
    {
     "name": "stdout",
     "output_type": "stream",
     "text": [
      "66\n"
     ]
    },
    {
     "name": "stderr",
     "output_type": "stream",
     "text": [
      "/home/bhvignesh/trading_system/src/strategies/momentum/mcad_strat.py:102: FutureWarning: Downcasting object dtype arrays on .fillna, .ffill, .bfill is deprecated and will change in a future version. Call result.infer_objects(copy=False) instead. To opt-in to the future behavior, set `pd.set_option('future.no_silent_downcasting', True)`\n",
      "  prev_above = above.shift(1).fillna(False)\n",
      "/home/bhvignesh/trading_system/src/strategies/momentum/mcad_strat.py:103: FutureWarning: Downcasting object dtype arrays on .fillna, .ffill, .bfill is deprecated and will change in a future version. Call result.infer_objects(copy=False) instead. To opt-in to the future behavior, set `pd.set_option('future.no_silent_downcasting', True)`\n",
      "  prev_below = below.shift(1).fillna(False)\n",
      "/home/bhvignesh/trading_system/src/strategies/momentum/mcad_strat.py:114: FutureWarning: The 'method' keyword in Series.replace is deprecated and will be removed in a future version.\n",
      "  positions = signals.replace(0, method='ffill').fillna(0)\n"
     ]
    },
    {
     "name": "stdout",
     "output_type": "stream",
     "text": [
      "67\n"
     ]
    },
    {
     "name": "stderr",
     "output_type": "stream",
     "text": [
      "/home/bhvignesh/trading_system/src/strategies/momentum/mcad_strat.py:102: FutureWarning: Downcasting object dtype arrays on .fillna, .ffill, .bfill is deprecated and will change in a future version. Call result.infer_objects(copy=False) instead. To opt-in to the future behavior, set `pd.set_option('future.no_silent_downcasting', True)`\n",
      "  prev_above = above.shift(1).fillna(False)\n",
      "/home/bhvignesh/trading_system/src/strategies/momentum/mcad_strat.py:103: FutureWarning: Downcasting object dtype arrays on .fillna, .ffill, .bfill is deprecated and will change in a future version. Call result.infer_objects(copy=False) instead. To opt-in to the future behavior, set `pd.set_option('future.no_silent_downcasting', True)`\n",
      "  prev_below = below.shift(1).fillna(False)\n",
      "/home/bhvignesh/trading_system/src/strategies/momentum/mcad_strat.py:114: FutureWarning: The 'method' keyword in Series.replace is deprecated and will be removed in a future version.\n",
      "  positions = signals.replace(0, method='ffill').fillna(0)\n"
     ]
    },
    {
     "name": "stdout",
     "output_type": "stream",
     "text": [
      "68\n"
     ]
    },
    {
     "name": "stderr",
     "output_type": "stream",
     "text": [
      "/home/bhvignesh/trading_system/src/strategies/momentum/mcad_strat.py:102: FutureWarning: Downcasting object dtype arrays on .fillna, .ffill, .bfill is deprecated and will change in a future version. Call result.infer_objects(copy=False) instead. To opt-in to the future behavior, set `pd.set_option('future.no_silent_downcasting', True)`\n",
      "  prev_above = above.shift(1).fillna(False)\n",
      "/home/bhvignesh/trading_system/src/strategies/momentum/mcad_strat.py:103: FutureWarning: Downcasting object dtype arrays on .fillna, .ffill, .bfill is deprecated and will change in a future version. Call result.infer_objects(copy=False) instead. To opt-in to the future behavior, set `pd.set_option('future.no_silent_downcasting', True)`\n",
      "  prev_below = below.shift(1).fillna(False)\n",
      "/home/bhvignesh/trading_system/src/strategies/momentum/mcad_strat.py:114: FutureWarning: The 'method' keyword in Series.replace is deprecated and will be removed in a future version.\n",
      "  positions = signals.replace(0, method='ffill').fillna(0)\n"
     ]
    },
    {
     "name": "stdout",
     "output_type": "stream",
     "text": [
      "69\n"
     ]
    },
    {
     "name": "stderr",
     "output_type": "stream",
     "text": [
      "/home/bhvignesh/trading_system/src/strategies/momentum/mcad_strat.py:102: FutureWarning: Downcasting object dtype arrays on .fillna, .ffill, .bfill is deprecated and will change in a future version. Call result.infer_objects(copy=False) instead. To opt-in to the future behavior, set `pd.set_option('future.no_silent_downcasting', True)`\n",
      "  prev_above = above.shift(1).fillna(False)\n",
      "/home/bhvignesh/trading_system/src/strategies/momentum/mcad_strat.py:103: FutureWarning: Downcasting object dtype arrays on .fillna, .ffill, .bfill is deprecated and will change in a future version. Call result.infer_objects(copy=False) instead. To opt-in to the future behavior, set `pd.set_option('future.no_silent_downcasting', True)`\n",
      "  prev_below = below.shift(1).fillna(False)\n",
      "/home/bhvignesh/trading_system/src/strategies/momentum/mcad_strat.py:114: FutureWarning: The 'method' keyword in Series.replace is deprecated and will be removed in a future version.\n",
      "  positions = signals.replace(0, method='ffill').fillna(0)\n"
     ]
    },
    {
     "name": "stdout",
     "output_type": "stream",
     "text": [
      "70\n"
     ]
    },
    {
     "name": "stderr",
     "output_type": "stream",
     "text": [
      "/home/bhvignesh/trading_system/src/strategies/momentum/mcad_strat.py:102: FutureWarning: Downcasting object dtype arrays on .fillna, .ffill, .bfill is deprecated and will change in a future version. Call result.infer_objects(copy=False) instead. To opt-in to the future behavior, set `pd.set_option('future.no_silent_downcasting', True)`\n",
      "  prev_above = above.shift(1).fillna(False)\n",
      "/home/bhvignesh/trading_system/src/strategies/momentum/mcad_strat.py:103: FutureWarning: Downcasting object dtype arrays on .fillna, .ffill, .bfill is deprecated and will change in a future version. Call result.infer_objects(copy=False) instead. To opt-in to the future behavior, set `pd.set_option('future.no_silent_downcasting', True)`\n",
      "  prev_below = below.shift(1).fillna(False)\n",
      "/home/bhvignesh/trading_system/src/strategies/momentum/mcad_strat.py:114: FutureWarning: The 'method' keyword in Series.replace is deprecated and will be removed in a future version.\n",
      "  positions = signals.replace(0, method='ffill').fillna(0)\n"
     ]
    },
    {
     "name": "stdout",
     "output_type": "stream",
     "text": [
      "71\n"
     ]
    },
    {
     "name": "stderr",
     "output_type": "stream",
     "text": [
      "/home/bhvignesh/trading_system/src/strategies/momentum/mcad_strat.py:102: FutureWarning: Downcasting object dtype arrays on .fillna, .ffill, .bfill is deprecated and will change in a future version. Call result.infer_objects(copy=False) instead. To opt-in to the future behavior, set `pd.set_option('future.no_silent_downcasting', True)`\n",
      "  prev_above = above.shift(1).fillna(False)\n",
      "/home/bhvignesh/trading_system/src/strategies/momentum/mcad_strat.py:103: FutureWarning: Downcasting object dtype arrays on .fillna, .ffill, .bfill is deprecated and will change in a future version. Call result.infer_objects(copy=False) instead. To opt-in to the future behavior, set `pd.set_option('future.no_silent_downcasting', True)`\n",
      "  prev_below = below.shift(1).fillna(False)\n",
      "/home/bhvignesh/trading_system/src/strategies/momentum/mcad_strat.py:114: FutureWarning: The 'method' keyword in Series.replace is deprecated and will be removed in a future version.\n",
      "  positions = signals.replace(0, method='ffill').fillna(0)\n"
     ]
    },
    {
     "name": "stdout",
     "output_type": "stream",
     "text": [
      "72\n"
     ]
    },
    {
     "name": "stderr",
     "output_type": "stream",
     "text": [
      "/home/bhvignesh/trading_system/src/strategies/momentum/mcad_strat.py:102: FutureWarning: Downcasting object dtype arrays on .fillna, .ffill, .bfill is deprecated and will change in a future version. Call result.infer_objects(copy=False) instead. To opt-in to the future behavior, set `pd.set_option('future.no_silent_downcasting', True)`\n",
      "  prev_above = above.shift(1).fillna(False)\n",
      "/home/bhvignesh/trading_system/src/strategies/momentum/mcad_strat.py:103: FutureWarning: Downcasting object dtype arrays on .fillna, .ffill, .bfill is deprecated and will change in a future version. Call result.infer_objects(copy=False) instead. To opt-in to the future behavior, set `pd.set_option('future.no_silent_downcasting', True)`\n",
      "  prev_below = below.shift(1).fillna(False)\n",
      "/home/bhvignesh/trading_system/src/strategies/momentum/mcad_strat.py:114: FutureWarning: The 'method' keyword in Series.replace is deprecated and will be removed in a future version.\n",
      "  positions = signals.replace(0, method='ffill').fillna(0)\n"
     ]
    },
    {
     "name": "stdout",
     "output_type": "stream",
     "text": [
      "73\n"
     ]
    },
    {
     "name": "stderr",
     "output_type": "stream",
     "text": [
      "/home/bhvignesh/trading_system/src/strategies/momentum/mcad_strat.py:102: FutureWarning: Downcasting object dtype arrays on .fillna, .ffill, .bfill is deprecated and will change in a future version. Call result.infer_objects(copy=False) instead. To opt-in to the future behavior, set `pd.set_option('future.no_silent_downcasting', True)`\n",
      "  prev_above = above.shift(1).fillna(False)\n",
      "/home/bhvignesh/trading_system/src/strategies/momentum/mcad_strat.py:103: FutureWarning: Downcasting object dtype arrays on .fillna, .ffill, .bfill is deprecated and will change in a future version. Call result.infer_objects(copy=False) instead. To opt-in to the future behavior, set `pd.set_option('future.no_silent_downcasting', True)`\n",
      "  prev_below = below.shift(1).fillna(False)\n",
      "/home/bhvignesh/trading_system/src/strategies/momentum/mcad_strat.py:114: FutureWarning: The 'method' keyword in Series.replace is deprecated and will be removed in a future version.\n",
      "  positions = signals.replace(0, method='ffill').fillna(0)\n"
     ]
    },
    {
     "name": "stdout",
     "output_type": "stream",
     "text": [
      "74\n"
     ]
    },
    {
     "name": "stderr",
     "output_type": "stream",
     "text": [
      "/home/bhvignesh/trading_system/src/strategies/momentum/mcad_strat.py:102: FutureWarning: Downcasting object dtype arrays on .fillna, .ffill, .bfill is deprecated and will change in a future version. Call result.infer_objects(copy=False) instead. To opt-in to the future behavior, set `pd.set_option('future.no_silent_downcasting', True)`\n",
      "  prev_above = above.shift(1).fillna(False)\n",
      "/home/bhvignesh/trading_system/src/strategies/momentum/mcad_strat.py:103: FutureWarning: Downcasting object dtype arrays on .fillna, .ffill, .bfill is deprecated and will change in a future version. Call result.infer_objects(copy=False) instead. To opt-in to the future behavior, set `pd.set_option('future.no_silent_downcasting', True)`\n",
      "  prev_below = below.shift(1).fillna(False)\n",
      "/home/bhvignesh/trading_system/src/strategies/momentum/mcad_strat.py:114: FutureWarning: The 'method' keyword in Series.replace is deprecated and will be removed in a future version.\n",
      "  positions = signals.replace(0, method='ffill').fillna(0)\n"
     ]
    },
    {
     "name": "stdout",
     "output_type": "stream",
     "text": [
      "75\n"
     ]
    },
    {
     "name": "stderr",
     "output_type": "stream",
     "text": [
      "/home/bhvignesh/trading_system/src/strategies/momentum/mcad_strat.py:102: FutureWarning: Downcasting object dtype arrays on .fillna, .ffill, .bfill is deprecated and will change in a future version. Call result.infer_objects(copy=False) instead. To opt-in to the future behavior, set `pd.set_option('future.no_silent_downcasting', True)`\n",
      "  prev_above = above.shift(1).fillna(False)\n",
      "/home/bhvignesh/trading_system/src/strategies/momentum/mcad_strat.py:103: FutureWarning: Downcasting object dtype arrays on .fillna, .ffill, .bfill is deprecated and will change in a future version. Call result.infer_objects(copy=False) instead. To opt-in to the future behavior, set `pd.set_option('future.no_silent_downcasting', True)`\n",
      "  prev_below = below.shift(1).fillna(False)\n",
      "/home/bhvignesh/trading_system/src/strategies/momentum/mcad_strat.py:114: FutureWarning: The 'method' keyword in Series.replace is deprecated and will be removed in a future version.\n",
      "  positions = signals.replace(0, method='ffill').fillna(0)\n"
     ]
    },
    {
     "name": "stdout",
     "output_type": "stream",
     "text": [
      "76\n"
     ]
    },
    {
     "name": "stderr",
     "output_type": "stream",
     "text": [
      "/home/bhvignesh/trading_system/src/strategies/momentum/mcad_strat.py:102: FutureWarning: Downcasting object dtype arrays on .fillna, .ffill, .bfill is deprecated and will change in a future version. Call result.infer_objects(copy=False) instead. To opt-in to the future behavior, set `pd.set_option('future.no_silent_downcasting', True)`\n",
      "  prev_above = above.shift(1).fillna(False)\n",
      "/home/bhvignesh/trading_system/src/strategies/momentum/mcad_strat.py:103: FutureWarning: Downcasting object dtype arrays on .fillna, .ffill, .bfill is deprecated and will change in a future version. Call result.infer_objects(copy=False) instead. To opt-in to the future behavior, set `pd.set_option('future.no_silent_downcasting', True)`\n",
      "  prev_below = below.shift(1).fillna(False)\n",
      "/home/bhvignesh/trading_system/src/strategies/momentum/mcad_strat.py:114: FutureWarning: The 'method' keyword in Series.replace is deprecated and will be removed in a future version.\n",
      "  positions = signals.replace(0, method='ffill').fillna(0)\n"
     ]
    },
    {
     "name": "stdout",
     "output_type": "stream",
     "text": [
      "77\n"
     ]
    },
    {
     "name": "stderr",
     "output_type": "stream",
     "text": [
      "/home/bhvignesh/trading_system/src/strategies/momentum/mcad_strat.py:102: FutureWarning: Downcasting object dtype arrays on .fillna, .ffill, .bfill is deprecated and will change in a future version. Call result.infer_objects(copy=False) instead. To opt-in to the future behavior, set `pd.set_option('future.no_silent_downcasting', True)`\n",
      "  prev_above = above.shift(1).fillna(False)\n",
      "/home/bhvignesh/trading_system/src/strategies/momentum/mcad_strat.py:103: FutureWarning: Downcasting object dtype arrays on .fillna, .ffill, .bfill is deprecated and will change in a future version. Call result.infer_objects(copy=False) instead. To opt-in to the future behavior, set `pd.set_option('future.no_silent_downcasting', True)`\n",
      "  prev_below = below.shift(1).fillna(False)\n",
      "/home/bhvignesh/trading_system/src/strategies/momentum/mcad_strat.py:114: FutureWarning: The 'method' keyword in Series.replace is deprecated and will be removed in a future version.\n",
      "  positions = signals.replace(0, method='ffill').fillna(0)\n"
     ]
    },
    {
     "name": "stdout",
     "output_type": "stream",
     "text": [
      "78\n"
     ]
    },
    {
     "name": "stderr",
     "output_type": "stream",
     "text": [
      "/home/bhvignesh/trading_system/src/strategies/momentum/mcad_strat.py:102: FutureWarning: Downcasting object dtype arrays on .fillna, .ffill, .bfill is deprecated and will change in a future version. Call result.infer_objects(copy=False) instead. To opt-in to the future behavior, set `pd.set_option('future.no_silent_downcasting', True)`\n",
      "  prev_above = above.shift(1).fillna(False)\n",
      "/home/bhvignesh/trading_system/src/strategies/momentum/mcad_strat.py:103: FutureWarning: Downcasting object dtype arrays on .fillna, .ffill, .bfill is deprecated and will change in a future version. Call result.infer_objects(copy=False) instead. To opt-in to the future behavior, set `pd.set_option('future.no_silent_downcasting', True)`\n",
      "  prev_below = below.shift(1).fillna(False)\n",
      "/home/bhvignesh/trading_system/src/strategies/momentum/mcad_strat.py:114: FutureWarning: The 'method' keyword in Series.replace is deprecated and will be removed in a future version.\n",
      "  positions = signals.replace(0, method='ffill').fillna(0)\n"
     ]
    },
    {
     "name": "stdout",
     "output_type": "stream",
     "text": [
      "79\n"
     ]
    },
    {
     "name": "stderr",
     "output_type": "stream",
     "text": [
      "/home/bhvignesh/trading_system/src/strategies/momentum/mcad_strat.py:102: FutureWarning: Downcasting object dtype arrays on .fillna, .ffill, .bfill is deprecated and will change in a future version. Call result.infer_objects(copy=False) instead. To opt-in to the future behavior, set `pd.set_option('future.no_silent_downcasting', True)`\n",
      "  prev_above = above.shift(1).fillna(False)\n",
      "/home/bhvignesh/trading_system/src/strategies/momentum/mcad_strat.py:103: FutureWarning: Downcasting object dtype arrays on .fillna, .ffill, .bfill is deprecated and will change in a future version. Call result.infer_objects(copy=False) instead. To opt-in to the future behavior, set `pd.set_option('future.no_silent_downcasting', True)`\n",
      "  prev_below = below.shift(1).fillna(False)\n",
      "/home/bhvignesh/trading_system/src/strategies/momentum/mcad_strat.py:114: FutureWarning: The 'method' keyword in Series.replace is deprecated and will be removed in a future version.\n",
      "  positions = signals.replace(0, method='ffill').fillna(0)\n"
     ]
    },
    {
     "name": "stdout",
     "output_type": "stream",
     "text": [
      "80\n"
     ]
    },
    {
     "name": "stderr",
     "output_type": "stream",
     "text": [
      "/home/bhvignesh/trading_system/src/strategies/momentum/mcad_strat.py:102: FutureWarning: Downcasting object dtype arrays on .fillna, .ffill, .bfill is deprecated and will change in a future version. Call result.infer_objects(copy=False) instead. To opt-in to the future behavior, set `pd.set_option('future.no_silent_downcasting', True)`\n",
      "  prev_above = above.shift(1).fillna(False)\n",
      "/home/bhvignesh/trading_system/src/strategies/momentum/mcad_strat.py:103: FutureWarning: Downcasting object dtype arrays on .fillna, .ffill, .bfill is deprecated and will change in a future version. Call result.infer_objects(copy=False) instead. To opt-in to the future behavior, set `pd.set_option('future.no_silent_downcasting', True)`\n",
      "  prev_below = below.shift(1).fillna(False)\n",
      "/home/bhvignesh/trading_system/src/strategies/momentum/mcad_strat.py:114: FutureWarning: The 'method' keyword in Series.replace is deprecated and will be removed in a future version.\n",
      "  positions = signals.replace(0, method='ffill').fillna(0)\n"
     ]
    },
    {
     "name": "stdout",
     "output_type": "stream",
     "text": [
      "81\n"
     ]
    },
    {
     "name": "stderr",
     "output_type": "stream",
     "text": [
      "/home/bhvignesh/trading_system/src/strategies/momentum/mcad_strat.py:102: FutureWarning: Downcasting object dtype arrays on .fillna, .ffill, .bfill is deprecated and will change in a future version. Call result.infer_objects(copy=False) instead. To opt-in to the future behavior, set `pd.set_option('future.no_silent_downcasting', True)`\n",
      "  prev_above = above.shift(1).fillna(False)\n",
      "/home/bhvignesh/trading_system/src/strategies/momentum/mcad_strat.py:103: FutureWarning: Downcasting object dtype arrays on .fillna, .ffill, .bfill is deprecated and will change in a future version. Call result.infer_objects(copy=False) instead. To opt-in to the future behavior, set `pd.set_option('future.no_silent_downcasting', True)`\n",
      "  prev_below = below.shift(1).fillna(False)\n",
      "/home/bhvignesh/trading_system/src/strategies/momentum/mcad_strat.py:114: FutureWarning: The 'method' keyword in Series.replace is deprecated and will be removed in a future version.\n",
      "  positions = signals.replace(0, method='ffill').fillna(0)\n"
     ]
    },
    {
     "name": "stdout",
     "output_type": "stream",
     "text": [
      "82\n"
     ]
    },
    {
     "name": "stderr",
     "output_type": "stream",
     "text": [
      "/home/bhvignesh/trading_system/src/strategies/momentum/mcad_strat.py:102: FutureWarning: Downcasting object dtype arrays on .fillna, .ffill, .bfill is deprecated and will change in a future version. Call result.infer_objects(copy=False) instead. To opt-in to the future behavior, set `pd.set_option('future.no_silent_downcasting', True)`\n",
      "  prev_above = above.shift(1).fillna(False)\n",
      "/home/bhvignesh/trading_system/src/strategies/momentum/mcad_strat.py:103: FutureWarning: Downcasting object dtype arrays on .fillna, .ffill, .bfill is deprecated and will change in a future version. Call result.infer_objects(copy=False) instead. To opt-in to the future behavior, set `pd.set_option('future.no_silent_downcasting', True)`\n",
      "  prev_below = below.shift(1).fillna(False)\n",
      "/home/bhvignesh/trading_system/src/strategies/momentum/mcad_strat.py:114: FutureWarning: The 'method' keyword in Series.replace is deprecated and will be removed in a future version.\n",
      "  positions = signals.replace(0, method='ffill').fillna(0)\n"
     ]
    },
    {
     "name": "stdout",
     "output_type": "stream",
     "text": [
      "83\n"
     ]
    },
    {
     "name": "stderr",
     "output_type": "stream",
     "text": [
      "/home/bhvignesh/trading_system/src/strategies/momentum/mcad_strat.py:102: FutureWarning: Downcasting object dtype arrays on .fillna, .ffill, .bfill is deprecated and will change in a future version. Call result.infer_objects(copy=False) instead. To opt-in to the future behavior, set `pd.set_option('future.no_silent_downcasting', True)`\n",
      "  prev_above = above.shift(1).fillna(False)\n",
      "/home/bhvignesh/trading_system/src/strategies/momentum/mcad_strat.py:103: FutureWarning: Downcasting object dtype arrays on .fillna, .ffill, .bfill is deprecated and will change in a future version. Call result.infer_objects(copy=False) instead. To opt-in to the future behavior, set `pd.set_option('future.no_silent_downcasting', True)`\n",
      "  prev_below = below.shift(1).fillna(False)\n",
      "/home/bhvignesh/trading_system/src/strategies/momentum/mcad_strat.py:114: FutureWarning: The 'method' keyword in Series.replace is deprecated and will be removed in a future version.\n",
      "  positions = signals.replace(0, method='ffill').fillna(0)\n"
     ]
    },
    {
     "name": "stdout",
     "output_type": "stream",
     "text": [
      "84\n"
     ]
    },
    {
     "name": "stderr",
     "output_type": "stream",
     "text": [
      "/home/bhvignesh/trading_system/src/strategies/momentum/mcad_strat.py:102: FutureWarning: Downcasting object dtype arrays on .fillna, .ffill, .bfill is deprecated and will change in a future version. Call result.infer_objects(copy=False) instead. To opt-in to the future behavior, set `pd.set_option('future.no_silent_downcasting', True)`\n",
      "  prev_above = above.shift(1).fillna(False)\n",
      "/home/bhvignesh/trading_system/src/strategies/momentum/mcad_strat.py:103: FutureWarning: Downcasting object dtype arrays on .fillna, .ffill, .bfill is deprecated and will change in a future version. Call result.infer_objects(copy=False) instead. To opt-in to the future behavior, set `pd.set_option('future.no_silent_downcasting', True)`\n",
      "  prev_below = below.shift(1).fillna(False)\n",
      "/home/bhvignesh/trading_system/src/strategies/momentum/mcad_strat.py:114: FutureWarning: The 'method' keyword in Series.replace is deprecated and will be removed in a future version.\n",
      "  positions = signals.replace(0, method='ffill').fillna(0)\n"
     ]
    },
    {
     "name": "stdout",
     "output_type": "stream",
     "text": [
      "85\n"
     ]
    },
    {
     "name": "stderr",
     "output_type": "stream",
     "text": [
      "/home/bhvignesh/trading_system/src/strategies/momentum/mcad_strat.py:102: FutureWarning: Downcasting object dtype arrays on .fillna, .ffill, .bfill is deprecated and will change in a future version. Call result.infer_objects(copy=False) instead. To opt-in to the future behavior, set `pd.set_option('future.no_silent_downcasting', True)`\n",
      "  prev_above = above.shift(1).fillna(False)\n",
      "/home/bhvignesh/trading_system/src/strategies/momentum/mcad_strat.py:103: FutureWarning: Downcasting object dtype arrays on .fillna, .ffill, .bfill is deprecated and will change in a future version. Call result.infer_objects(copy=False) instead. To opt-in to the future behavior, set `pd.set_option('future.no_silent_downcasting', True)`\n",
      "  prev_below = below.shift(1).fillna(False)\n",
      "/home/bhvignesh/trading_system/src/strategies/momentum/mcad_strat.py:114: FutureWarning: The 'method' keyword in Series.replace is deprecated and will be removed in a future version.\n",
      "  positions = signals.replace(0, method='ffill').fillna(0)\n"
     ]
    },
    {
     "name": "stdout",
     "output_type": "stream",
     "text": [
      "86\n"
     ]
    },
    {
     "name": "stderr",
     "output_type": "stream",
     "text": [
      "/home/bhvignesh/trading_system/src/strategies/momentum/mcad_strat.py:102: FutureWarning: Downcasting object dtype arrays on .fillna, .ffill, .bfill is deprecated and will change in a future version. Call result.infer_objects(copy=False) instead. To opt-in to the future behavior, set `pd.set_option('future.no_silent_downcasting', True)`\n",
      "  prev_above = above.shift(1).fillna(False)\n",
      "/home/bhvignesh/trading_system/src/strategies/momentum/mcad_strat.py:103: FutureWarning: Downcasting object dtype arrays on .fillna, .ffill, .bfill is deprecated and will change in a future version. Call result.infer_objects(copy=False) instead. To opt-in to the future behavior, set `pd.set_option('future.no_silent_downcasting', True)`\n",
      "  prev_below = below.shift(1).fillna(False)\n",
      "/home/bhvignesh/trading_system/src/strategies/momentum/mcad_strat.py:114: FutureWarning: The 'method' keyword in Series.replace is deprecated and will be removed in a future version.\n",
      "  positions = signals.replace(0, method='ffill').fillna(0)\n"
     ]
    },
    {
     "name": "stdout",
     "output_type": "stream",
     "text": [
      "87\n"
     ]
    },
    {
     "name": "stderr",
     "output_type": "stream",
     "text": [
      "/home/bhvignesh/trading_system/src/strategies/momentum/mcad_strat.py:102: FutureWarning: Downcasting object dtype arrays on .fillna, .ffill, .bfill is deprecated and will change in a future version. Call result.infer_objects(copy=False) instead. To opt-in to the future behavior, set `pd.set_option('future.no_silent_downcasting', True)`\n",
      "  prev_above = above.shift(1).fillna(False)\n",
      "/home/bhvignesh/trading_system/src/strategies/momentum/mcad_strat.py:103: FutureWarning: Downcasting object dtype arrays on .fillna, .ffill, .bfill is deprecated and will change in a future version. Call result.infer_objects(copy=False) instead. To opt-in to the future behavior, set `pd.set_option('future.no_silent_downcasting', True)`\n",
      "  prev_below = below.shift(1).fillna(False)\n",
      "/home/bhvignesh/trading_system/src/strategies/momentum/mcad_strat.py:114: FutureWarning: The 'method' keyword in Series.replace is deprecated and will be removed in a future version.\n",
      "  positions = signals.replace(0, method='ffill').fillna(0)\n"
     ]
    },
    {
     "name": "stdout",
     "output_type": "stream",
     "text": [
      "88\n"
     ]
    },
    {
     "name": "stderr",
     "output_type": "stream",
     "text": [
      "/home/bhvignesh/trading_system/src/strategies/momentum/mcad_strat.py:102: FutureWarning: Downcasting object dtype arrays on .fillna, .ffill, .bfill is deprecated and will change in a future version. Call result.infer_objects(copy=False) instead. To opt-in to the future behavior, set `pd.set_option('future.no_silent_downcasting', True)`\n",
      "  prev_above = above.shift(1).fillna(False)\n",
      "/home/bhvignesh/trading_system/src/strategies/momentum/mcad_strat.py:103: FutureWarning: Downcasting object dtype arrays on .fillna, .ffill, .bfill is deprecated and will change in a future version. Call result.infer_objects(copy=False) instead. To opt-in to the future behavior, set `pd.set_option('future.no_silent_downcasting', True)`\n",
      "  prev_below = below.shift(1).fillna(False)\n",
      "/home/bhvignesh/trading_system/src/strategies/momentum/mcad_strat.py:114: FutureWarning: The 'method' keyword in Series.replace is deprecated and will be removed in a future version.\n",
      "  positions = signals.replace(0, method='ffill').fillna(0)\n"
     ]
    },
    {
     "name": "stdout",
     "output_type": "stream",
     "text": [
      "89\n"
     ]
    },
    {
     "name": "stderr",
     "output_type": "stream",
     "text": [
      "/home/bhvignesh/trading_system/src/strategies/momentum/mcad_strat.py:102: FutureWarning: Downcasting object dtype arrays on .fillna, .ffill, .bfill is deprecated and will change in a future version. Call result.infer_objects(copy=False) instead. To opt-in to the future behavior, set `pd.set_option('future.no_silent_downcasting', True)`\n",
      "  prev_above = above.shift(1).fillna(False)\n",
      "/home/bhvignesh/trading_system/src/strategies/momentum/mcad_strat.py:103: FutureWarning: Downcasting object dtype arrays on .fillna, .ffill, .bfill is deprecated and will change in a future version. Call result.infer_objects(copy=False) instead. To opt-in to the future behavior, set `pd.set_option('future.no_silent_downcasting', True)`\n",
      "  prev_below = below.shift(1).fillna(False)\n",
      "/home/bhvignesh/trading_system/src/strategies/momentum/mcad_strat.py:114: FutureWarning: The 'method' keyword in Series.replace is deprecated and will be removed in a future version.\n",
      "  positions = signals.replace(0, method='ffill').fillna(0)\n"
     ]
    },
    {
     "name": "stdout",
     "output_type": "stream",
     "text": [
      "90\n"
     ]
    },
    {
     "name": "stderr",
     "output_type": "stream",
     "text": [
      "/home/bhvignesh/trading_system/src/strategies/momentum/mcad_strat.py:102: FutureWarning: Downcasting object dtype arrays on .fillna, .ffill, .bfill is deprecated and will change in a future version. Call result.infer_objects(copy=False) instead. To opt-in to the future behavior, set `pd.set_option('future.no_silent_downcasting', True)`\n",
      "  prev_above = above.shift(1).fillna(False)\n",
      "/home/bhvignesh/trading_system/src/strategies/momentum/mcad_strat.py:103: FutureWarning: Downcasting object dtype arrays on .fillna, .ffill, .bfill is deprecated and will change in a future version. Call result.infer_objects(copy=False) instead. To opt-in to the future behavior, set `pd.set_option('future.no_silent_downcasting', True)`\n",
      "  prev_below = below.shift(1).fillna(False)\n",
      "/home/bhvignesh/trading_system/src/strategies/momentum/mcad_strat.py:114: FutureWarning: The 'method' keyword in Series.replace is deprecated and will be removed in a future version.\n",
      "  positions = signals.replace(0, method='ffill').fillna(0)\n"
     ]
    },
    {
     "name": "stdout",
     "output_type": "stream",
     "text": [
      "91\n"
     ]
    },
    {
     "name": "stderr",
     "output_type": "stream",
     "text": [
      "/home/bhvignesh/trading_system/src/strategies/momentum/mcad_strat.py:102: FutureWarning: Downcasting object dtype arrays on .fillna, .ffill, .bfill is deprecated and will change in a future version. Call result.infer_objects(copy=False) instead. To opt-in to the future behavior, set `pd.set_option('future.no_silent_downcasting', True)`\n",
      "  prev_above = above.shift(1).fillna(False)\n",
      "/home/bhvignesh/trading_system/src/strategies/momentum/mcad_strat.py:103: FutureWarning: Downcasting object dtype arrays on .fillna, .ffill, .bfill is deprecated and will change in a future version. Call result.infer_objects(copy=False) instead. To opt-in to the future behavior, set `pd.set_option('future.no_silent_downcasting', True)`\n",
      "  prev_below = below.shift(1).fillna(False)\n",
      "/home/bhvignesh/trading_system/src/strategies/momentum/mcad_strat.py:114: FutureWarning: The 'method' keyword in Series.replace is deprecated and will be removed in a future version.\n",
      "  positions = signals.replace(0, method='ffill').fillna(0)\n"
     ]
    },
    {
     "name": "stdout",
     "output_type": "stream",
     "text": [
      "92\n"
     ]
    },
    {
     "name": "stderr",
     "output_type": "stream",
     "text": [
      "/home/bhvignesh/trading_system/src/strategies/momentum/mcad_strat.py:102: FutureWarning: Downcasting object dtype arrays on .fillna, .ffill, .bfill is deprecated and will change in a future version. Call result.infer_objects(copy=False) instead. To opt-in to the future behavior, set `pd.set_option('future.no_silent_downcasting', True)`\n",
      "  prev_above = above.shift(1).fillna(False)\n",
      "/home/bhvignesh/trading_system/src/strategies/momentum/mcad_strat.py:103: FutureWarning: Downcasting object dtype arrays on .fillna, .ffill, .bfill is deprecated and will change in a future version. Call result.infer_objects(copy=False) instead. To opt-in to the future behavior, set `pd.set_option('future.no_silent_downcasting', True)`\n",
      "  prev_below = below.shift(1).fillna(False)\n",
      "/home/bhvignesh/trading_system/src/strategies/momentum/mcad_strat.py:114: FutureWarning: The 'method' keyword in Series.replace is deprecated and will be removed in a future version.\n",
      "  positions = signals.replace(0, method='ffill').fillna(0)\n"
     ]
    },
    {
     "name": "stdout",
     "output_type": "stream",
     "text": [
      "93\n"
     ]
    },
    {
     "name": "stderr",
     "output_type": "stream",
     "text": [
      "/home/bhvignesh/trading_system/src/strategies/momentum/mcad_strat.py:102: FutureWarning: Downcasting object dtype arrays on .fillna, .ffill, .bfill is deprecated and will change in a future version. Call result.infer_objects(copy=False) instead. To opt-in to the future behavior, set `pd.set_option('future.no_silent_downcasting', True)`\n",
      "  prev_above = above.shift(1).fillna(False)\n",
      "/home/bhvignesh/trading_system/src/strategies/momentum/mcad_strat.py:103: FutureWarning: Downcasting object dtype arrays on .fillna, .ffill, .bfill is deprecated and will change in a future version. Call result.infer_objects(copy=False) instead. To opt-in to the future behavior, set `pd.set_option('future.no_silent_downcasting', True)`\n",
      "  prev_below = below.shift(1).fillna(False)\n",
      "/home/bhvignesh/trading_system/src/strategies/momentum/mcad_strat.py:114: FutureWarning: The 'method' keyword in Series.replace is deprecated and will be removed in a future version.\n",
      "  positions = signals.replace(0, method='ffill').fillna(0)\n"
     ]
    },
    {
     "name": "stdout",
     "output_type": "stream",
     "text": [
      "94\n"
     ]
    },
    {
     "name": "stderr",
     "output_type": "stream",
     "text": [
      "/home/bhvignesh/trading_system/src/strategies/momentum/mcad_strat.py:102: FutureWarning: Downcasting object dtype arrays on .fillna, .ffill, .bfill is deprecated and will change in a future version. Call result.infer_objects(copy=False) instead. To opt-in to the future behavior, set `pd.set_option('future.no_silent_downcasting', True)`\n",
      "  prev_above = above.shift(1).fillna(False)\n",
      "/home/bhvignesh/trading_system/src/strategies/momentum/mcad_strat.py:103: FutureWarning: Downcasting object dtype arrays on .fillna, .ffill, .bfill is deprecated and will change in a future version. Call result.infer_objects(copy=False) instead. To opt-in to the future behavior, set `pd.set_option('future.no_silent_downcasting', True)`\n",
      "  prev_below = below.shift(1).fillna(False)\n",
      "/home/bhvignesh/trading_system/src/strategies/momentum/mcad_strat.py:114: FutureWarning: The 'method' keyword in Series.replace is deprecated and will be removed in a future version.\n",
      "  positions = signals.replace(0, method='ffill').fillna(0)\n"
     ]
    },
    {
     "name": "stdout",
     "output_type": "stream",
     "text": [
      "95\n"
     ]
    },
    {
     "name": "stderr",
     "output_type": "stream",
     "text": [
      "/home/bhvignesh/trading_system/src/strategies/momentum/mcad_strat.py:102: FutureWarning: Downcasting object dtype arrays on .fillna, .ffill, .bfill is deprecated and will change in a future version. Call result.infer_objects(copy=False) instead. To opt-in to the future behavior, set `pd.set_option('future.no_silent_downcasting', True)`\n",
      "  prev_above = above.shift(1).fillna(False)\n",
      "/home/bhvignesh/trading_system/src/strategies/momentum/mcad_strat.py:103: FutureWarning: Downcasting object dtype arrays on .fillna, .ffill, .bfill is deprecated and will change in a future version. Call result.infer_objects(copy=False) instead. To opt-in to the future behavior, set `pd.set_option('future.no_silent_downcasting', True)`\n",
      "  prev_below = below.shift(1).fillna(False)\n",
      "/home/bhvignesh/trading_system/src/strategies/momentum/mcad_strat.py:114: FutureWarning: The 'method' keyword in Series.replace is deprecated and will be removed in a future version.\n",
      "  positions = signals.replace(0, method='ffill').fillna(0)\n"
     ]
    },
    {
     "name": "stdout",
     "output_type": "stream",
     "text": [
      "96\n"
     ]
    },
    {
     "name": "stderr",
     "output_type": "stream",
     "text": [
      "/home/bhvignesh/trading_system/src/strategies/momentum/mcad_strat.py:102: FutureWarning: Downcasting object dtype arrays on .fillna, .ffill, .bfill is deprecated and will change in a future version. Call result.infer_objects(copy=False) instead. To opt-in to the future behavior, set `pd.set_option('future.no_silent_downcasting', True)`\n",
      "  prev_above = above.shift(1).fillna(False)\n",
      "/home/bhvignesh/trading_system/src/strategies/momentum/mcad_strat.py:103: FutureWarning: Downcasting object dtype arrays on .fillna, .ffill, .bfill is deprecated and will change in a future version. Call result.infer_objects(copy=False) instead. To opt-in to the future behavior, set `pd.set_option('future.no_silent_downcasting', True)`\n",
      "  prev_below = below.shift(1).fillna(False)\n",
      "/home/bhvignesh/trading_system/src/strategies/momentum/mcad_strat.py:114: FutureWarning: The 'method' keyword in Series.replace is deprecated and will be removed in a future version.\n",
      "  positions = signals.replace(0, method='ffill').fillna(0)\n"
     ]
    },
    {
     "name": "stdout",
     "output_type": "stream",
     "text": [
      "97\n"
     ]
    },
    {
     "name": "stderr",
     "output_type": "stream",
     "text": [
      "/home/bhvignesh/trading_system/src/strategies/momentum/mcad_strat.py:102: FutureWarning: Downcasting object dtype arrays on .fillna, .ffill, .bfill is deprecated and will change in a future version. Call result.infer_objects(copy=False) instead. To opt-in to the future behavior, set `pd.set_option('future.no_silent_downcasting', True)`\n",
      "  prev_above = above.shift(1).fillna(False)\n",
      "/home/bhvignesh/trading_system/src/strategies/momentum/mcad_strat.py:103: FutureWarning: Downcasting object dtype arrays on .fillna, .ffill, .bfill is deprecated and will change in a future version. Call result.infer_objects(copy=False) instead. To opt-in to the future behavior, set `pd.set_option('future.no_silent_downcasting', True)`\n",
      "  prev_below = below.shift(1).fillna(False)\n",
      "/home/bhvignesh/trading_system/src/strategies/momentum/mcad_strat.py:114: FutureWarning: The 'method' keyword in Series.replace is deprecated and will be removed in a future version.\n",
      "  positions = signals.replace(0, method='ffill').fillna(0)\n"
     ]
    },
    {
     "name": "stdout",
     "output_type": "stream",
     "text": [
      "98\n"
     ]
    },
    {
     "name": "stderr",
     "output_type": "stream",
     "text": [
      "/home/bhvignesh/trading_system/src/strategies/momentum/mcad_strat.py:102: FutureWarning: Downcasting object dtype arrays on .fillna, .ffill, .bfill is deprecated and will change in a future version. Call result.infer_objects(copy=False) instead. To opt-in to the future behavior, set `pd.set_option('future.no_silent_downcasting', True)`\n",
      "  prev_above = above.shift(1).fillna(False)\n",
      "/home/bhvignesh/trading_system/src/strategies/momentum/mcad_strat.py:103: FutureWarning: Downcasting object dtype arrays on .fillna, .ffill, .bfill is deprecated and will change in a future version. Call result.infer_objects(copy=False) instead. To opt-in to the future behavior, set `pd.set_option('future.no_silent_downcasting', True)`\n",
      "  prev_below = below.shift(1).fillna(False)\n",
      "/home/bhvignesh/trading_system/src/strategies/momentum/mcad_strat.py:114: FutureWarning: The 'method' keyword in Series.replace is deprecated and will be removed in a future version.\n",
      "  positions = signals.replace(0, method='ffill').fillna(0)\n"
     ]
    },
    {
     "name": "stdout",
     "output_type": "stream",
     "text": [
      "99\n"
     ]
    },
    {
     "name": "stderr",
     "output_type": "stream",
     "text": [
      "/home/bhvignesh/trading_system/src/strategies/momentum/mcad_strat.py:102: FutureWarning: Downcasting object dtype arrays on .fillna, .ffill, .bfill is deprecated and will change in a future version. Call result.infer_objects(copy=False) instead. To opt-in to the future behavior, set `pd.set_option('future.no_silent_downcasting', True)`\n",
      "  prev_above = above.shift(1).fillna(False)\n",
      "/home/bhvignesh/trading_system/src/strategies/momentum/mcad_strat.py:103: FutureWarning: Downcasting object dtype arrays on .fillna, .ffill, .bfill is deprecated and will change in a future version. Call result.infer_objects(copy=False) instead. To opt-in to the future behavior, set `pd.set_option('future.no_silent_downcasting', True)`\n",
      "  prev_below = below.shift(1).fillna(False)\n",
      "/home/bhvignesh/trading_system/src/strategies/momentum/mcad_strat.py:114: FutureWarning: The 'method' keyword in Series.replace is deprecated and will be removed in a future version.\n",
      "  positions = signals.replace(0, method='ffill').fillna(0)\n"
     ]
    },
    {
     "name": "stdout",
     "output_type": "stream",
     "text": [
      "100\n"
     ]
    },
    {
     "name": "stderr",
     "output_type": "stream",
     "text": [
      "/home/bhvignesh/trading_system/src/strategies/momentum/mcad_strat.py:102: FutureWarning: Downcasting object dtype arrays on .fillna, .ffill, .bfill is deprecated and will change in a future version. Call result.infer_objects(copy=False) instead. To opt-in to the future behavior, set `pd.set_option('future.no_silent_downcasting', True)`\n",
      "  prev_above = above.shift(1).fillna(False)\n",
      "/home/bhvignesh/trading_system/src/strategies/momentum/mcad_strat.py:103: FutureWarning: Downcasting object dtype arrays on .fillna, .ffill, .bfill is deprecated and will change in a future version. Call result.infer_objects(copy=False) instead. To opt-in to the future behavior, set `pd.set_option('future.no_silent_downcasting', True)`\n",
      "  prev_below = below.shift(1).fillna(False)\n",
      "/home/bhvignesh/trading_system/src/strategies/momentum/mcad_strat.py:114: FutureWarning: The 'method' keyword in Series.replace is deprecated and will be removed in a future version.\n",
      "  positions = signals.replace(0, method='ffill').fillna(0)\n"
     ]
    },
    {
     "name": "stdout",
     "output_type": "stream",
     "text": [
      "101\n"
     ]
    },
    {
     "name": "stderr",
     "output_type": "stream",
     "text": [
      "/home/bhvignesh/trading_system/src/strategies/momentum/mcad_strat.py:102: FutureWarning: Downcasting object dtype arrays on .fillna, .ffill, .bfill is deprecated and will change in a future version. Call result.infer_objects(copy=False) instead. To opt-in to the future behavior, set `pd.set_option('future.no_silent_downcasting', True)`\n",
      "  prev_above = above.shift(1).fillna(False)\n",
      "/home/bhvignesh/trading_system/src/strategies/momentum/mcad_strat.py:103: FutureWarning: Downcasting object dtype arrays on .fillna, .ffill, .bfill is deprecated and will change in a future version. Call result.infer_objects(copy=False) instead. To opt-in to the future behavior, set `pd.set_option('future.no_silent_downcasting', True)`\n",
      "  prev_below = below.shift(1).fillna(False)\n",
      "/home/bhvignesh/trading_system/src/strategies/momentum/mcad_strat.py:114: FutureWarning: The 'method' keyword in Series.replace is deprecated and will be removed in a future version.\n",
      "  positions = signals.replace(0, method='ffill').fillna(0)\n"
     ]
    },
    {
     "name": "stdout",
     "output_type": "stream",
     "text": [
      "102\n"
     ]
    },
    {
     "name": "stderr",
     "output_type": "stream",
     "text": [
      "/home/bhvignesh/trading_system/src/strategies/momentum/mcad_strat.py:102: FutureWarning: Downcasting object dtype arrays on .fillna, .ffill, .bfill is deprecated and will change in a future version. Call result.infer_objects(copy=False) instead. To opt-in to the future behavior, set `pd.set_option('future.no_silent_downcasting', True)`\n",
      "  prev_above = above.shift(1).fillna(False)\n",
      "/home/bhvignesh/trading_system/src/strategies/momentum/mcad_strat.py:103: FutureWarning: Downcasting object dtype arrays on .fillna, .ffill, .bfill is deprecated and will change in a future version. Call result.infer_objects(copy=False) instead. To opt-in to the future behavior, set `pd.set_option('future.no_silent_downcasting', True)`\n",
      "  prev_below = below.shift(1).fillna(False)\n",
      "/home/bhvignesh/trading_system/src/strategies/momentum/mcad_strat.py:114: FutureWarning: The 'method' keyword in Series.replace is deprecated and will be removed in a future version.\n",
      "  positions = signals.replace(0, method='ffill').fillna(0)\n"
     ]
    },
    {
     "name": "stdout",
     "output_type": "stream",
     "text": [
      "103\n"
     ]
    },
    {
     "name": "stderr",
     "output_type": "stream",
     "text": [
      "/home/bhvignesh/trading_system/src/strategies/momentum/mcad_strat.py:102: FutureWarning: Downcasting object dtype arrays on .fillna, .ffill, .bfill is deprecated and will change in a future version. Call result.infer_objects(copy=False) instead. To opt-in to the future behavior, set `pd.set_option('future.no_silent_downcasting', True)`\n",
      "  prev_above = above.shift(1).fillna(False)\n",
      "/home/bhvignesh/trading_system/src/strategies/momentum/mcad_strat.py:103: FutureWarning: Downcasting object dtype arrays on .fillna, .ffill, .bfill is deprecated and will change in a future version. Call result.infer_objects(copy=False) instead. To opt-in to the future behavior, set `pd.set_option('future.no_silent_downcasting', True)`\n",
      "  prev_below = below.shift(1).fillna(False)\n",
      "/home/bhvignesh/trading_system/src/strategies/momentum/mcad_strat.py:114: FutureWarning: The 'method' keyword in Series.replace is deprecated and will be removed in a future version.\n",
      "  positions = signals.replace(0, method='ffill').fillna(0)\n"
     ]
    },
    {
     "name": "stdout",
     "output_type": "stream",
     "text": [
      "104\n"
     ]
    },
    {
     "name": "stderr",
     "output_type": "stream",
     "text": [
      "/home/bhvignesh/trading_system/src/strategies/momentum/mcad_strat.py:102: FutureWarning: Downcasting object dtype arrays on .fillna, .ffill, .bfill is deprecated and will change in a future version. Call result.infer_objects(copy=False) instead. To opt-in to the future behavior, set `pd.set_option('future.no_silent_downcasting', True)`\n",
      "  prev_above = above.shift(1).fillna(False)\n",
      "/home/bhvignesh/trading_system/src/strategies/momentum/mcad_strat.py:103: FutureWarning: Downcasting object dtype arrays on .fillna, .ffill, .bfill is deprecated and will change in a future version. Call result.infer_objects(copy=False) instead. To opt-in to the future behavior, set `pd.set_option('future.no_silent_downcasting', True)`\n",
      "  prev_below = below.shift(1).fillna(False)\n",
      "/home/bhvignesh/trading_system/src/strategies/momentum/mcad_strat.py:114: FutureWarning: The 'method' keyword in Series.replace is deprecated and will be removed in a future version.\n",
      "  positions = signals.replace(0, method='ffill').fillna(0)\n"
     ]
    },
    {
     "name": "stdout",
     "output_type": "stream",
     "text": [
      "105\n"
     ]
    },
    {
     "name": "stderr",
     "output_type": "stream",
     "text": [
      "/home/bhvignesh/trading_system/src/strategies/momentum/mcad_strat.py:102: FutureWarning: Downcasting object dtype arrays on .fillna, .ffill, .bfill is deprecated and will change in a future version. Call result.infer_objects(copy=False) instead. To opt-in to the future behavior, set `pd.set_option('future.no_silent_downcasting', True)`\n",
      "  prev_above = above.shift(1).fillna(False)\n",
      "/home/bhvignesh/trading_system/src/strategies/momentum/mcad_strat.py:103: FutureWarning: Downcasting object dtype arrays on .fillna, .ffill, .bfill is deprecated and will change in a future version. Call result.infer_objects(copy=False) instead. To opt-in to the future behavior, set `pd.set_option('future.no_silent_downcasting', True)`\n",
      "  prev_below = below.shift(1).fillna(False)\n",
      "/home/bhvignesh/trading_system/src/strategies/momentum/mcad_strat.py:114: FutureWarning: The 'method' keyword in Series.replace is deprecated and will be removed in a future version.\n",
      "  positions = signals.replace(0, method='ffill').fillna(0)\n"
     ]
    },
    {
     "name": "stdout",
     "output_type": "stream",
     "text": [
      "106\n"
     ]
    },
    {
     "name": "stderr",
     "output_type": "stream",
     "text": [
      "/home/bhvignesh/trading_system/src/strategies/momentum/mcad_strat.py:102: FutureWarning: Downcasting object dtype arrays on .fillna, .ffill, .bfill is deprecated and will change in a future version. Call result.infer_objects(copy=False) instead. To opt-in to the future behavior, set `pd.set_option('future.no_silent_downcasting', True)`\n",
      "  prev_above = above.shift(1).fillna(False)\n",
      "/home/bhvignesh/trading_system/src/strategies/momentum/mcad_strat.py:103: FutureWarning: Downcasting object dtype arrays on .fillna, .ffill, .bfill is deprecated and will change in a future version. Call result.infer_objects(copy=False) instead. To opt-in to the future behavior, set `pd.set_option('future.no_silent_downcasting', True)`\n",
      "  prev_below = below.shift(1).fillna(False)\n",
      "/home/bhvignesh/trading_system/src/strategies/momentum/mcad_strat.py:114: FutureWarning: The 'method' keyword in Series.replace is deprecated and will be removed in a future version.\n",
      "  positions = signals.replace(0, method='ffill').fillna(0)\n"
     ]
    },
    {
     "name": "stdout",
     "output_type": "stream",
     "text": [
      "107\n"
     ]
    },
    {
     "name": "stderr",
     "output_type": "stream",
     "text": [
      "/home/bhvignesh/trading_system/src/strategies/momentum/mcad_strat.py:102: FutureWarning: Downcasting object dtype arrays on .fillna, .ffill, .bfill is deprecated and will change in a future version. Call result.infer_objects(copy=False) instead. To opt-in to the future behavior, set `pd.set_option('future.no_silent_downcasting', True)`\n",
      "  prev_above = above.shift(1).fillna(False)\n",
      "/home/bhvignesh/trading_system/src/strategies/momentum/mcad_strat.py:103: FutureWarning: Downcasting object dtype arrays on .fillna, .ffill, .bfill is deprecated and will change in a future version. Call result.infer_objects(copy=False) instead. To opt-in to the future behavior, set `pd.set_option('future.no_silent_downcasting', True)`\n",
      "  prev_below = below.shift(1).fillna(False)\n",
      "/home/bhvignesh/trading_system/src/strategies/momentum/mcad_strat.py:114: FutureWarning: The 'method' keyword in Series.replace is deprecated and will be removed in a future version.\n",
      "  positions = signals.replace(0, method='ffill').fillna(0)\n"
     ]
    },
    {
     "name": "stdout",
     "output_type": "stream",
     "text": [
      "108\n"
     ]
    },
    {
     "name": "stderr",
     "output_type": "stream",
     "text": [
      "/home/bhvignesh/trading_system/src/strategies/momentum/mcad_strat.py:102: FutureWarning: Downcasting object dtype arrays on .fillna, .ffill, .bfill is deprecated and will change in a future version. Call result.infer_objects(copy=False) instead. To opt-in to the future behavior, set `pd.set_option('future.no_silent_downcasting', True)`\n",
      "  prev_above = above.shift(1).fillna(False)\n",
      "/home/bhvignesh/trading_system/src/strategies/momentum/mcad_strat.py:103: FutureWarning: Downcasting object dtype arrays on .fillna, .ffill, .bfill is deprecated and will change in a future version. Call result.infer_objects(copy=False) instead. To opt-in to the future behavior, set `pd.set_option('future.no_silent_downcasting', True)`\n",
      "  prev_below = below.shift(1).fillna(False)\n",
      "/home/bhvignesh/trading_system/src/strategies/momentum/mcad_strat.py:114: FutureWarning: The 'method' keyword in Series.replace is deprecated and will be removed in a future version.\n",
      "  positions = signals.replace(0, method='ffill').fillna(0)\n"
     ]
    },
    {
     "name": "stdout",
     "output_type": "stream",
     "text": [
      "109\n"
     ]
    },
    {
     "name": "stderr",
     "output_type": "stream",
     "text": [
      "/home/bhvignesh/trading_system/src/strategies/momentum/mcad_strat.py:102: FutureWarning: Downcasting object dtype arrays on .fillna, .ffill, .bfill is deprecated and will change in a future version. Call result.infer_objects(copy=False) instead. To opt-in to the future behavior, set `pd.set_option('future.no_silent_downcasting', True)`\n",
      "  prev_above = above.shift(1).fillna(False)\n",
      "/home/bhvignesh/trading_system/src/strategies/momentum/mcad_strat.py:103: FutureWarning: Downcasting object dtype arrays on .fillna, .ffill, .bfill is deprecated and will change in a future version. Call result.infer_objects(copy=False) instead. To opt-in to the future behavior, set `pd.set_option('future.no_silent_downcasting', True)`\n",
      "  prev_below = below.shift(1).fillna(False)\n",
      "/home/bhvignesh/trading_system/src/strategies/momentum/mcad_strat.py:114: FutureWarning: The 'method' keyword in Series.replace is deprecated and will be removed in a future version.\n",
      "  positions = signals.replace(0, method='ffill').fillna(0)\n"
     ]
    },
    {
     "name": "stdout",
     "output_type": "stream",
     "text": [
      "110\n"
     ]
    },
    {
     "name": "stderr",
     "output_type": "stream",
     "text": [
      "/home/bhvignesh/trading_system/src/strategies/momentum/mcad_strat.py:102: FutureWarning: Downcasting object dtype arrays on .fillna, .ffill, .bfill is deprecated and will change in a future version. Call result.infer_objects(copy=False) instead. To opt-in to the future behavior, set `pd.set_option('future.no_silent_downcasting', True)`\n",
      "  prev_above = above.shift(1).fillna(False)\n",
      "/home/bhvignesh/trading_system/src/strategies/momentum/mcad_strat.py:103: FutureWarning: Downcasting object dtype arrays on .fillna, .ffill, .bfill is deprecated and will change in a future version. Call result.infer_objects(copy=False) instead. To opt-in to the future behavior, set `pd.set_option('future.no_silent_downcasting', True)`\n",
      "  prev_below = below.shift(1).fillna(False)\n",
      "/home/bhvignesh/trading_system/src/strategies/momentum/mcad_strat.py:114: FutureWarning: The 'method' keyword in Series.replace is deprecated and will be removed in a future version.\n",
      "  positions = signals.replace(0, method='ffill').fillna(0)\n"
     ]
    },
    {
     "name": "stdout",
     "output_type": "stream",
     "text": [
      "111\n"
     ]
    },
    {
     "name": "stderr",
     "output_type": "stream",
     "text": [
      "/home/bhvignesh/trading_system/src/strategies/momentum/mcad_strat.py:102: FutureWarning: Downcasting object dtype arrays on .fillna, .ffill, .bfill is deprecated and will change in a future version. Call result.infer_objects(copy=False) instead. To opt-in to the future behavior, set `pd.set_option('future.no_silent_downcasting', True)`\n",
      "  prev_above = above.shift(1).fillna(False)\n",
      "/home/bhvignesh/trading_system/src/strategies/momentum/mcad_strat.py:103: FutureWarning: Downcasting object dtype arrays on .fillna, .ffill, .bfill is deprecated and will change in a future version. Call result.infer_objects(copy=False) instead. To opt-in to the future behavior, set `pd.set_option('future.no_silent_downcasting', True)`\n",
      "  prev_below = below.shift(1).fillna(False)\n",
      "/home/bhvignesh/trading_system/src/strategies/momentum/mcad_strat.py:114: FutureWarning: The 'method' keyword in Series.replace is deprecated and will be removed in a future version.\n",
      "  positions = signals.replace(0, method='ffill').fillna(0)\n"
     ]
    },
    {
     "name": "stdout",
     "output_type": "stream",
     "text": [
      "112\n"
     ]
    },
    {
     "name": "stderr",
     "output_type": "stream",
     "text": [
      "/home/bhvignesh/trading_system/src/strategies/momentum/mcad_strat.py:102: FutureWarning: Downcasting object dtype arrays on .fillna, .ffill, .bfill is deprecated and will change in a future version. Call result.infer_objects(copy=False) instead. To opt-in to the future behavior, set `pd.set_option('future.no_silent_downcasting', True)`\n",
      "  prev_above = above.shift(1).fillna(False)\n",
      "/home/bhvignesh/trading_system/src/strategies/momentum/mcad_strat.py:103: FutureWarning: Downcasting object dtype arrays on .fillna, .ffill, .bfill is deprecated and will change in a future version. Call result.infer_objects(copy=False) instead. To opt-in to the future behavior, set `pd.set_option('future.no_silent_downcasting', True)`\n",
      "  prev_below = below.shift(1).fillna(False)\n",
      "/home/bhvignesh/trading_system/src/strategies/momentum/mcad_strat.py:114: FutureWarning: The 'method' keyword in Series.replace is deprecated and will be removed in a future version.\n",
      "  positions = signals.replace(0, method='ffill').fillna(0)\n"
     ]
    },
    {
     "name": "stdout",
     "output_type": "stream",
     "text": [
      "113\n"
     ]
    },
    {
     "name": "stderr",
     "output_type": "stream",
     "text": [
      "/home/bhvignesh/trading_system/src/strategies/momentum/mcad_strat.py:102: FutureWarning: Downcasting object dtype arrays on .fillna, .ffill, .bfill is deprecated and will change in a future version. Call result.infer_objects(copy=False) instead. To opt-in to the future behavior, set `pd.set_option('future.no_silent_downcasting', True)`\n",
      "  prev_above = above.shift(1).fillna(False)\n",
      "/home/bhvignesh/trading_system/src/strategies/momentum/mcad_strat.py:103: FutureWarning: Downcasting object dtype arrays on .fillna, .ffill, .bfill is deprecated and will change in a future version. Call result.infer_objects(copy=False) instead. To opt-in to the future behavior, set `pd.set_option('future.no_silent_downcasting', True)`\n",
      "  prev_below = below.shift(1).fillna(False)\n",
      "/home/bhvignesh/trading_system/src/strategies/momentum/mcad_strat.py:114: FutureWarning: The 'method' keyword in Series.replace is deprecated and will be removed in a future version.\n",
      "  positions = signals.replace(0, method='ffill').fillna(0)\n"
     ]
    },
    {
     "name": "stdout",
     "output_type": "stream",
     "text": [
      "114\n"
     ]
    },
    {
     "name": "stderr",
     "output_type": "stream",
     "text": [
      "/home/bhvignesh/trading_system/src/strategies/momentum/mcad_strat.py:102: FutureWarning: Downcasting object dtype arrays on .fillna, .ffill, .bfill is deprecated and will change in a future version. Call result.infer_objects(copy=False) instead. To opt-in to the future behavior, set `pd.set_option('future.no_silent_downcasting', True)`\n",
      "  prev_above = above.shift(1).fillna(False)\n",
      "/home/bhvignesh/trading_system/src/strategies/momentum/mcad_strat.py:103: FutureWarning: Downcasting object dtype arrays on .fillna, .ffill, .bfill is deprecated and will change in a future version. Call result.infer_objects(copy=False) instead. To opt-in to the future behavior, set `pd.set_option('future.no_silent_downcasting', True)`\n",
      "  prev_below = below.shift(1).fillna(False)\n",
      "/home/bhvignesh/trading_system/src/strategies/momentum/mcad_strat.py:114: FutureWarning: The 'method' keyword in Series.replace is deprecated and will be removed in a future version.\n",
      "  positions = signals.replace(0, method='ffill').fillna(0)\n"
     ]
    },
    {
     "name": "stdout",
     "output_type": "stream",
     "text": [
      "115\n"
     ]
    },
    {
     "name": "stderr",
     "output_type": "stream",
     "text": [
      "/home/bhvignesh/trading_system/src/strategies/momentum/mcad_strat.py:102: FutureWarning: Downcasting object dtype arrays on .fillna, .ffill, .bfill is deprecated and will change in a future version. Call result.infer_objects(copy=False) instead. To opt-in to the future behavior, set `pd.set_option('future.no_silent_downcasting', True)`\n",
      "  prev_above = above.shift(1).fillna(False)\n",
      "/home/bhvignesh/trading_system/src/strategies/momentum/mcad_strat.py:103: FutureWarning: Downcasting object dtype arrays on .fillna, .ffill, .bfill is deprecated and will change in a future version. Call result.infer_objects(copy=False) instead. To opt-in to the future behavior, set `pd.set_option('future.no_silent_downcasting', True)`\n",
      "  prev_below = below.shift(1).fillna(False)\n",
      "/home/bhvignesh/trading_system/src/strategies/momentum/mcad_strat.py:114: FutureWarning: The 'method' keyword in Series.replace is deprecated and will be removed in a future version.\n",
      "  positions = signals.replace(0, method='ffill').fillna(0)\n"
     ]
    },
    {
     "name": "stdout",
     "output_type": "stream",
     "text": [
      "116\n"
     ]
    },
    {
     "name": "stderr",
     "output_type": "stream",
     "text": [
      "/home/bhvignesh/trading_system/src/strategies/momentum/mcad_strat.py:102: FutureWarning: Downcasting object dtype arrays on .fillna, .ffill, .bfill is deprecated and will change in a future version. Call result.infer_objects(copy=False) instead. To opt-in to the future behavior, set `pd.set_option('future.no_silent_downcasting', True)`\n",
      "  prev_above = above.shift(1).fillna(False)\n",
      "/home/bhvignesh/trading_system/src/strategies/momentum/mcad_strat.py:103: FutureWarning: Downcasting object dtype arrays on .fillna, .ffill, .bfill is deprecated and will change in a future version. Call result.infer_objects(copy=False) instead. To opt-in to the future behavior, set `pd.set_option('future.no_silent_downcasting', True)`\n",
      "  prev_below = below.shift(1).fillna(False)\n",
      "/home/bhvignesh/trading_system/src/strategies/momentum/mcad_strat.py:114: FutureWarning: The 'method' keyword in Series.replace is deprecated and will be removed in a future version.\n",
      "  positions = signals.replace(0, method='ffill').fillna(0)\n"
     ]
    },
    {
     "name": "stdout",
     "output_type": "stream",
     "text": [
      "117\n"
     ]
    },
    {
     "name": "stderr",
     "output_type": "stream",
     "text": [
      "/home/bhvignesh/trading_system/src/strategies/momentum/mcad_strat.py:102: FutureWarning: Downcasting object dtype arrays on .fillna, .ffill, .bfill is deprecated and will change in a future version. Call result.infer_objects(copy=False) instead. To opt-in to the future behavior, set `pd.set_option('future.no_silent_downcasting', True)`\n",
      "  prev_above = above.shift(1).fillna(False)\n",
      "/home/bhvignesh/trading_system/src/strategies/momentum/mcad_strat.py:103: FutureWarning: Downcasting object dtype arrays on .fillna, .ffill, .bfill is deprecated and will change in a future version. Call result.infer_objects(copy=False) instead. To opt-in to the future behavior, set `pd.set_option('future.no_silent_downcasting', True)`\n",
      "  prev_below = below.shift(1).fillna(False)\n",
      "/home/bhvignesh/trading_system/src/strategies/momentum/mcad_strat.py:114: FutureWarning: The 'method' keyword in Series.replace is deprecated and will be removed in a future version.\n",
      "  positions = signals.replace(0, method='ffill').fillna(0)\n"
     ]
    },
    {
     "name": "stdout",
     "output_type": "stream",
     "text": [
      "118\n"
     ]
    },
    {
     "name": "stderr",
     "output_type": "stream",
     "text": [
      "/home/bhvignesh/trading_system/src/strategies/momentum/mcad_strat.py:102: FutureWarning: Downcasting object dtype arrays on .fillna, .ffill, .bfill is deprecated and will change in a future version. Call result.infer_objects(copy=False) instead. To opt-in to the future behavior, set `pd.set_option('future.no_silent_downcasting', True)`\n",
      "  prev_above = above.shift(1).fillna(False)\n",
      "/home/bhvignesh/trading_system/src/strategies/momentum/mcad_strat.py:103: FutureWarning: Downcasting object dtype arrays on .fillna, .ffill, .bfill is deprecated and will change in a future version. Call result.infer_objects(copy=False) instead. To opt-in to the future behavior, set `pd.set_option('future.no_silent_downcasting', True)`\n",
      "  prev_below = below.shift(1).fillna(False)\n",
      "/home/bhvignesh/trading_system/src/strategies/momentum/mcad_strat.py:114: FutureWarning: The 'method' keyword in Series.replace is deprecated and will be removed in a future version.\n",
      "  positions = signals.replace(0, method='ffill').fillna(0)\n"
     ]
    },
    {
     "name": "stdout",
     "output_type": "stream",
     "text": [
      "119\n"
     ]
    },
    {
     "name": "stderr",
     "output_type": "stream",
     "text": [
      "/home/bhvignesh/trading_system/src/strategies/momentum/mcad_strat.py:102: FutureWarning: Downcasting object dtype arrays on .fillna, .ffill, .bfill is deprecated and will change in a future version. Call result.infer_objects(copy=False) instead. To opt-in to the future behavior, set `pd.set_option('future.no_silent_downcasting', True)`\n",
      "  prev_above = above.shift(1).fillna(False)\n",
      "/home/bhvignesh/trading_system/src/strategies/momentum/mcad_strat.py:103: FutureWarning: Downcasting object dtype arrays on .fillna, .ffill, .bfill is deprecated and will change in a future version. Call result.infer_objects(copy=False) instead. To opt-in to the future behavior, set `pd.set_option('future.no_silent_downcasting', True)`\n",
      "  prev_below = below.shift(1).fillna(False)\n",
      "/home/bhvignesh/trading_system/src/strategies/momentum/mcad_strat.py:114: FutureWarning: The 'method' keyword in Series.replace is deprecated and will be removed in a future version.\n",
      "  positions = signals.replace(0, method='ffill').fillna(0)\n"
     ]
    },
    {
     "name": "stdout",
     "output_type": "stream",
     "text": [
      "120\n"
     ]
    },
    {
     "name": "stderr",
     "output_type": "stream",
     "text": [
      "/home/bhvignesh/trading_system/src/strategies/momentum/mcad_strat.py:102: FutureWarning: Downcasting object dtype arrays on .fillna, .ffill, .bfill is deprecated and will change in a future version. Call result.infer_objects(copy=False) instead. To opt-in to the future behavior, set `pd.set_option('future.no_silent_downcasting', True)`\n",
      "  prev_above = above.shift(1).fillna(False)\n",
      "/home/bhvignesh/trading_system/src/strategies/momentum/mcad_strat.py:103: FutureWarning: Downcasting object dtype arrays on .fillna, .ffill, .bfill is deprecated and will change in a future version. Call result.infer_objects(copy=False) instead. To opt-in to the future behavior, set `pd.set_option('future.no_silent_downcasting', True)`\n",
      "  prev_below = below.shift(1).fillna(False)\n",
      "/home/bhvignesh/trading_system/src/strategies/momentum/mcad_strat.py:114: FutureWarning: The 'method' keyword in Series.replace is deprecated and will be removed in a future version.\n",
      "  positions = signals.replace(0, method='ffill').fillna(0)\n"
     ]
    },
    {
     "name": "stdout",
     "output_type": "stream",
     "text": [
      "121\n"
     ]
    },
    {
     "name": "stderr",
     "output_type": "stream",
     "text": [
      "/home/bhvignesh/trading_system/src/strategies/momentum/mcad_strat.py:102: FutureWarning: Downcasting object dtype arrays on .fillna, .ffill, .bfill is deprecated and will change in a future version. Call result.infer_objects(copy=False) instead. To opt-in to the future behavior, set `pd.set_option('future.no_silent_downcasting', True)`\n",
      "  prev_above = above.shift(1).fillna(False)\n",
      "/home/bhvignesh/trading_system/src/strategies/momentum/mcad_strat.py:103: FutureWarning: Downcasting object dtype arrays on .fillna, .ffill, .bfill is deprecated and will change in a future version. Call result.infer_objects(copy=False) instead. To opt-in to the future behavior, set `pd.set_option('future.no_silent_downcasting', True)`\n",
      "  prev_below = below.shift(1).fillna(False)\n",
      "/home/bhvignesh/trading_system/src/strategies/momentum/mcad_strat.py:114: FutureWarning: The 'method' keyword in Series.replace is deprecated and will be removed in a future version.\n",
      "  positions = signals.replace(0, method='ffill').fillna(0)\n"
     ]
    },
    {
     "name": "stdout",
     "output_type": "stream",
     "text": [
      "122\n"
     ]
    },
    {
     "name": "stderr",
     "output_type": "stream",
     "text": [
      "/home/bhvignesh/trading_system/src/strategies/momentum/mcad_strat.py:102: FutureWarning: Downcasting object dtype arrays on .fillna, .ffill, .bfill is deprecated and will change in a future version. Call result.infer_objects(copy=False) instead. To opt-in to the future behavior, set `pd.set_option('future.no_silent_downcasting', True)`\n",
      "  prev_above = above.shift(1).fillna(False)\n",
      "/home/bhvignesh/trading_system/src/strategies/momentum/mcad_strat.py:103: FutureWarning: Downcasting object dtype arrays on .fillna, .ffill, .bfill is deprecated and will change in a future version. Call result.infer_objects(copy=False) instead. To opt-in to the future behavior, set `pd.set_option('future.no_silent_downcasting', True)`\n",
      "  prev_below = below.shift(1).fillna(False)\n",
      "/home/bhvignesh/trading_system/src/strategies/momentum/mcad_strat.py:114: FutureWarning: The 'method' keyword in Series.replace is deprecated and will be removed in a future version.\n",
      "  positions = signals.replace(0, method='ffill').fillna(0)\n"
     ]
    },
    {
     "name": "stdout",
     "output_type": "stream",
     "text": [
      "123\n"
     ]
    },
    {
     "name": "stderr",
     "output_type": "stream",
     "text": [
      "/home/bhvignesh/trading_system/src/strategies/momentum/mcad_strat.py:102: FutureWarning: Downcasting object dtype arrays on .fillna, .ffill, .bfill is deprecated and will change in a future version. Call result.infer_objects(copy=False) instead. To opt-in to the future behavior, set `pd.set_option('future.no_silent_downcasting', True)`\n",
      "  prev_above = above.shift(1).fillna(False)\n",
      "/home/bhvignesh/trading_system/src/strategies/momentum/mcad_strat.py:103: FutureWarning: Downcasting object dtype arrays on .fillna, .ffill, .bfill is deprecated and will change in a future version. Call result.infer_objects(copy=False) instead. To opt-in to the future behavior, set `pd.set_option('future.no_silent_downcasting', True)`\n",
      "  prev_below = below.shift(1).fillna(False)\n",
      "/home/bhvignesh/trading_system/src/strategies/momentum/mcad_strat.py:114: FutureWarning: The 'method' keyword in Series.replace is deprecated and will be removed in a future version.\n",
      "  positions = signals.replace(0, method='ffill').fillna(0)\n"
     ]
    },
    {
     "name": "stdout",
     "output_type": "stream",
     "text": [
      "124\n"
     ]
    },
    {
     "name": "stderr",
     "output_type": "stream",
     "text": [
      "/home/bhvignesh/trading_system/src/strategies/momentum/mcad_strat.py:102: FutureWarning: Downcasting object dtype arrays on .fillna, .ffill, .bfill is deprecated and will change in a future version. Call result.infer_objects(copy=False) instead. To opt-in to the future behavior, set `pd.set_option('future.no_silent_downcasting', True)`\n",
      "  prev_above = above.shift(1).fillna(False)\n",
      "/home/bhvignesh/trading_system/src/strategies/momentum/mcad_strat.py:103: FutureWarning: Downcasting object dtype arrays on .fillna, .ffill, .bfill is deprecated and will change in a future version. Call result.infer_objects(copy=False) instead. To opt-in to the future behavior, set `pd.set_option('future.no_silent_downcasting', True)`\n",
      "  prev_below = below.shift(1).fillna(False)\n",
      "/home/bhvignesh/trading_system/src/strategies/momentum/mcad_strat.py:114: FutureWarning: The 'method' keyword in Series.replace is deprecated and will be removed in a future version.\n",
      "  positions = signals.replace(0, method='ffill').fillna(0)\n"
     ]
    },
    {
     "name": "stdout",
     "output_type": "stream",
     "text": [
      "125\n"
     ]
    },
    {
     "name": "stderr",
     "output_type": "stream",
     "text": [
      "/home/bhvignesh/trading_system/src/strategies/momentum/mcad_strat.py:102: FutureWarning: Downcasting object dtype arrays on .fillna, .ffill, .bfill is deprecated and will change in a future version. Call result.infer_objects(copy=False) instead. To opt-in to the future behavior, set `pd.set_option('future.no_silent_downcasting', True)`\n",
      "  prev_above = above.shift(1).fillna(False)\n",
      "/home/bhvignesh/trading_system/src/strategies/momentum/mcad_strat.py:103: FutureWarning: Downcasting object dtype arrays on .fillna, .ffill, .bfill is deprecated and will change in a future version. Call result.infer_objects(copy=False) instead. To opt-in to the future behavior, set `pd.set_option('future.no_silent_downcasting', True)`\n",
      "  prev_below = below.shift(1).fillna(False)\n",
      "/home/bhvignesh/trading_system/src/strategies/momentum/mcad_strat.py:114: FutureWarning: The 'method' keyword in Series.replace is deprecated and will be removed in a future version.\n",
      "  positions = signals.replace(0, method='ffill').fillna(0)\n"
     ]
    },
    {
     "name": "stdout",
     "output_type": "stream",
     "text": [
      "126\n"
     ]
    },
    {
     "name": "stderr",
     "output_type": "stream",
     "text": [
      "/home/bhvignesh/trading_system/src/strategies/momentum/mcad_strat.py:102: FutureWarning: Downcasting object dtype arrays on .fillna, .ffill, .bfill is deprecated and will change in a future version. Call result.infer_objects(copy=False) instead. To opt-in to the future behavior, set `pd.set_option('future.no_silent_downcasting', True)`\n",
      "  prev_above = above.shift(1).fillna(False)\n",
      "/home/bhvignesh/trading_system/src/strategies/momentum/mcad_strat.py:103: FutureWarning: Downcasting object dtype arrays on .fillna, .ffill, .bfill is deprecated and will change in a future version. Call result.infer_objects(copy=False) instead. To opt-in to the future behavior, set `pd.set_option('future.no_silent_downcasting', True)`\n",
      "  prev_below = below.shift(1).fillna(False)\n",
      "/home/bhvignesh/trading_system/src/strategies/momentum/mcad_strat.py:114: FutureWarning: The 'method' keyword in Series.replace is deprecated and will be removed in a future version.\n",
      "  positions = signals.replace(0, method='ffill').fillna(0)\n"
     ]
    },
    {
     "name": "stdout",
     "output_type": "stream",
     "text": [
      "127\n"
     ]
    },
    {
     "name": "stderr",
     "output_type": "stream",
     "text": [
      "/home/bhvignesh/trading_system/src/strategies/momentum/mcad_strat.py:102: FutureWarning: Downcasting object dtype arrays on .fillna, .ffill, .bfill is deprecated and will change in a future version. Call result.infer_objects(copy=False) instead. To opt-in to the future behavior, set `pd.set_option('future.no_silent_downcasting', True)`\n",
      "  prev_above = above.shift(1).fillna(False)\n",
      "/home/bhvignesh/trading_system/src/strategies/momentum/mcad_strat.py:103: FutureWarning: Downcasting object dtype arrays on .fillna, .ffill, .bfill is deprecated and will change in a future version. Call result.infer_objects(copy=False) instead. To opt-in to the future behavior, set `pd.set_option('future.no_silent_downcasting', True)`\n",
      "  prev_below = below.shift(1).fillna(False)\n",
      "/home/bhvignesh/trading_system/src/strategies/momentum/mcad_strat.py:114: FutureWarning: The 'method' keyword in Series.replace is deprecated and will be removed in a future version.\n",
      "  positions = signals.replace(0, method='ffill').fillna(0)\n"
     ]
    },
    {
     "name": "stdout",
     "output_type": "stream",
     "text": [
      "128\n"
     ]
    },
    {
     "name": "stderr",
     "output_type": "stream",
     "text": [
      "/home/bhvignesh/trading_system/src/strategies/momentum/mcad_strat.py:102: FutureWarning: Downcasting object dtype arrays on .fillna, .ffill, .bfill is deprecated and will change in a future version. Call result.infer_objects(copy=False) instead. To opt-in to the future behavior, set `pd.set_option('future.no_silent_downcasting', True)`\n",
      "  prev_above = above.shift(1).fillna(False)\n",
      "/home/bhvignesh/trading_system/src/strategies/momentum/mcad_strat.py:103: FutureWarning: Downcasting object dtype arrays on .fillna, .ffill, .bfill is deprecated and will change in a future version. Call result.infer_objects(copy=False) instead. To opt-in to the future behavior, set `pd.set_option('future.no_silent_downcasting', True)`\n",
      "  prev_below = below.shift(1).fillna(False)\n",
      "/home/bhvignesh/trading_system/src/strategies/momentum/mcad_strat.py:114: FutureWarning: The 'method' keyword in Series.replace is deprecated and will be removed in a future version.\n",
      "  positions = signals.replace(0, method='ffill').fillna(0)\n"
     ]
    },
    {
     "name": "stdout",
     "output_type": "stream",
     "text": [
      "129\n"
     ]
    },
    {
     "name": "stderr",
     "output_type": "stream",
     "text": [
      "/home/bhvignesh/trading_system/src/strategies/momentum/mcad_strat.py:102: FutureWarning: Downcasting object dtype arrays on .fillna, .ffill, .bfill is deprecated and will change in a future version. Call result.infer_objects(copy=False) instead. To opt-in to the future behavior, set `pd.set_option('future.no_silent_downcasting', True)`\n",
      "  prev_above = above.shift(1).fillna(False)\n",
      "/home/bhvignesh/trading_system/src/strategies/momentum/mcad_strat.py:103: FutureWarning: Downcasting object dtype arrays on .fillna, .ffill, .bfill is deprecated and will change in a future version. Call result.infer_objects(copy=False) instead. To opt-in to the future behavior, set `pd.set_option('future.no_silent_downcasting', True)`\n",
      "  prev_below = below.shift(1).fillna(False)\n",
      "/home/bhvignesh/trading_system/src/strategies/momentum/mcad_strat.py:114: FutureWarning: The 'method' keyword in Series.replace is deprecated and will be removed in a future version.\n",
      "  positions = signals.replace(0, method='ffill').fillna(0)\n"
     ]
    },
    {
     "name": "stdout",
     "output_type": "stream",
     "text": [
      "130\n"
     ]
    },
    {
     "name": "stderr",
     "output_type": "stream",
     "text": [
      "/home/bhvignesh/trading_system/src/strategies/momentum/mcad_strat.py:102: FutureWarning: Downcasting object dtype arrays on .fillna, .ffill, .bfill is deprecated and will change in a future version. Call result.infer_objects(copy=False) instead. To opt-in to the future behavior, set `pd.set_option('future.no_silent_downcasting', True)`\n",
      "  prev_above = above.shift(1).fillna(False)\n",
      "/home/bhvignesh/trading_system/src/strategies/momentum/mcad_strat.py:103: FutureWarning: Downcasting object dtype arrays on .fillna, .ffill, .bfill is deprecated and will change in a future version. Call result.infer_objects(copy=False) instead. To opt-in to the future behavior, set `pd.set_option('future.no_silent_downcasting', True)`\n",
      "  prev_below = below.shift(1).fillna(False)\n",
      "/home/bhvignesh/trading_system/src/strategies/momentum/mcad_strat.py:114: FutureWarning: The 'method' keyword in Series.replace is deprecated and will be removed in a future version.\n",
      "  positions = signals.replace(0, method='ffill').fillna(0)\n"
     ]
    },
    {
     "name": "stdout",
     "output_type": "stream",
     "text": [
      "131\n"
     ]
    },
    {
     "name": "stderr",
     "output_type": "stream",
     "text": [
      "/home/bhvignesh/trading_system/src/strategies/momentum/mcad_strat.py:102: FutureWarning: Downcasting object dtype arrays on .fillna, .ffill, .bfill is deprecated and will change in a future version. Call result.infer_objects(copy=False) instead. To opt-in to the future behavior, set `pd.set_option('future.no_silent_downcasting', True)`\n",
      "  prev_above = above.shift(1).fillna(False)\n",
      "/home/bhvignesh/trading_system/src/strategies/momentum/mcad_strat.py:103: FutureWarning: Downcasting object dtype arrays on .fillna, .ffill, .bfill is deprecated and will change in a future version. Call result.infer_objects(copy=False) instead. To opt-in to the future behavior, set `pd.set_option('future.no_silent_downcasting', True)`\n",
      "  prev_below = below.shift(1).fillna(False)\n",
      "/home/bhvignesh/trading_system/src/strategies/momentum/mcad_strat.py:114: FutureWarning: The 'method' keyword in Series.replace is deprecated and will be removed in a future version.\n",
      "  positions = signals.replace(0, method='ffill').fillna(0)\n"
     ]
    },
    {
     "name": "stdout",
     "output_type": "stream",
     "text": [
      "132\n"
     ]
    },
    {
     "name": "stderr",
     "output_type": "stream",
     "text": [
      "/home/bhvignesh/trading_system/src/strategies/momentum/mcad_strat.py:102: FutureWarning: Downcasting object dtype arrays on .fillna, .ffill, .bfill is deprecated and will change in a future version. Call result.infer_objects(copy=False) instead. To opt-in to the future behavior, set `pd.set_option('future.no_silent_downcasting', True)`\n",
      "  prev_above = above.shift(1).fillna(False)\n",
      "/home/bhvignesh/trading_system/src/strategies/momentum/mcad_strat.py:103: FutureWarning: Downcasting object dtype arrays on .fillna, .ffill, .bfill is deprecated and will change in a future version. Call result.infer_objects(copy=False) instead. To opt-in to the future behavior, set `pd.set_option('future.no_silent_downcasting', True)`\n",
      "  prev_below = below.shift(1).fillna(False)\n",
      "/home/bhvignesh/trading_system/src/strategies/momentum/mcad_strat.py:114: FutureWarning: The 'method' keyword in Series.replace is deprecated and will be removed in a future version.\n",
      "  positions = signals.replace(0, method='ffill').fillna(0)\n"
     ]
    },
    {
     "name": "stdout",
     "output_type": "stream",
     "text": [
      "133\n"
     ]
    },
    {
     "name": "stderr",
     "output_type": "stream",
     "text": [
      "/home/bhvignesh/trading_system/src/strategies/momentum/mcad_strat.py:102: FutureWarning: Downcasting object dtype arrays on .fillna, .ffill, .bfill is deprecated and will change in a future version. Call result.infer_objects(copy=False) instead. To opt-in to the future behavior, set `pd.set_option('future.no_silent_downcasting', True)`\n",
      "  prev_above = above.shift(1).fillna(False)\n",
      "/home/bhvignesh/trading_system/src/strategies/momentum/mcad_strat.py:103: FutureWarning: Downcasting object dtype arrays on .fillna, .ffill, .bfill is deprecated and will change in a future version. Call result.infer_objects(copy=False) instead. To opt-in to the future behavior, set `pd.set_option('future.no_silent_downcasting', True)`\n",
      "  prev_below = below.shift(1).fillna(False)\n",
      "/home/bhvignesh/trading_system/src/strategies/momentum/mcad_strat.py:114: FutureWarning: The 'method' keyword in Series.replace is deprecated and will be removed in a future version.\n",
      "  positions = signals.replace(0, method='ffill').fillna(0)\n"
     ]
    },
    {
     "name": "stdout",
     "output_type": "stream",
     "text": [
      "134\n"
     ]
    },
    {
     "name": "stderr",
     "output_type": "stream",
     "text": [
      "/home/bhvignesh/trading_system/src/strategies/momentum/mcad_strat.py:102: FutureWarning: Downcasting object dtype arrays on .fillna, .ffill, .bfill is deprecated and will change in a future version. Call result.infer_objects(copy=False) instead. To opt-in to the future behavior, set `pd.set_option('future.no_silent_downcasting', True)`\n",
      "  prev_above = above.shift(1).fillna(False)\n",
      "/home/bhvignesh/trading_system/src/strategies/momentum/mcad_strat.py:103: FutureWarning: Downcasting object dtype arrays on .fillna, .ffill, .bfill is deprecated and will change in a future version. Call result.infer_objects(copy=False) instead. To opt-in to the future behavior, set `pd.set_option('future.no_silent_downcasting', True)`\n",
      "  prev_below = below.shift(1).fillna(False)\n",
      "/home/bhvignesh/trading_system/src/strategies/momentum/mcad_strat.py:114: FutureWarning: The 'method' keyword in Series.replace is deprecated and will be removed in a future version.\n",
      "  positions = signals.replace(0, method='ffill').fillna(0)\n"
     ]
    },
    {
     "name": "stdout",
     "output_type": "stream",
     "text": [
      "135\n"
     ]
    },
    {
     "name": "stderr",
     "output_type": "stream",
     "text": [
      "/home/bhvignesh/trading_system/src/strategies/momentum/mcad_strat.py:102: FutureWarning: Downcasting object dtype arrays on .fillna, .ffill, .bfill is deprecated and will change in a future version. Call result.infer_objects(copy=False) instead. To opt-in to the future behavior, set `pd.set_option('future.no_silent_downcasting', True)`\n",
      "  prev_above = above.shift(1).fillna(False)\n",
      "/home/bhvignesh/trading_system/src/strategies/momentum/mcad_strat.py:103: FutureWarning: Downcasting object dtype arrays on .fillna, .ffill, .bfill is deprecated and will change in a future version. Call result.infer_objects(copy=False) instead. To opt-in to the future behavior, set `pd.set_option('future.no_silent_downcasting', True)`\n",
      "  prev_below = below.shift(1).fillna(False)\n",
      "/home/bhvignesh/trading_system/src/strategies/momentum/mcad_strat.py:114: FutureWarning: The 'method' keyword in Series.replace is deprecated and will be removed in a future version.\n",
      "  positions = signals.replace(0, method='ffill').fillna(0)\n"
     ]
    },
    {
     "name": "stdout",
     "output_type": "stream",
     "text": [
      "136\n"
     ]
    },
    {
     "name": "stderr",
     "output_type": "stream",
     "text": [
      "/home/bhvignesh/trading_system/src/strategies/momentum/mcad_strat.py:102: FutureWarning: Downcasting object dtype arrays on .fillna, .ffill, .bfill is deprecated and will change in a future version. Call result.infer_objects(copy=False) instead. To opt-in to the future behavior, set `pd.set_option('future.no_silent_downcasting', True)`\n",
      "  prev_above = above.shift(1).fillna(False)\n",
      "/home/bhvignesh/trading_system/src/strategies/momentum/mcad_strat.py:103: FutureWarning: Downcasting object dtype arrays on .fillna, .ffill, .bfill is deprecated and will change in a future version. Call result.infer_objects(copy=False) instead. To opt-in to the future behavior, set `pd.set_option('future.no_silent_downcasting', True)`\n",
      "  prev_below = below.shift(1).fillna(False)\n",
      "/home/bhvignesh/trading_system/src/strategies/momentum/mcad_strat.py:114: FutureWarning: The 'method' keyword in Series.replace is deprecated and will be removed in a future version.\n",
      "  positions = signals.replace(0, method='ffill').fillna(0)\n"
     ]
    },
    {
     "name": "stdout",
     "output_type": "stream",
     "text": [
      "137\n"
     ]
    },
    {
     "name": "stderr",
     "output_type": "stream",
     "text": [
      "/home/bhvignesh/trading_system/src/strategies/momentum/mcad_strat.py:102: FutureWarning: Downcasting object dtype arrays on .fillna, .ffill, .bfill is deprecated and will change in a future version. Call result.infer_objects(copy=False) instead. To opt-in to the future behavior, set `pd.set_option('future.no_silent_downcasting', True)`\n",
      "  prev_above = above.shift(1).fillna(False)\n",
      "/home/bhvignesh/trading_system/src/strategies/momentum/mcad_strat.py:103: FutureWarning: Downcasting object dtype arrays on .fillna, .ffill, .bfill is deprecated and will change in a future version. Call result.infer_objects(copy=False) instead. To opt-in to the future behavior, set `pd.set_option('future.no_silent_downcasting', True)`\n",
      "  prev_below = below.shift(1).fillna(False)\n",
      "/home/bhvignesh/trading_system/src/strategies/momentum/mcad_strat.py:114: FutureWarning: The 'method' keyword in Series.replace is deprecated and will be removed in a future version.\n",
      "  positions = signals.replace(0, method='ffill').fillna(0)\n"
     ]
    },
    {
     "name": "stdout",
     "output_type": "stream",
     "text": [
      "138\n"
     ]
    },
    {
     "name": "stderr",
     "output_type": "stream",
     "text": [
      "/home/bhvignesh/trading_system/src/strategies/momentum/mcad_strat.py:102: FutureWarning: Downcasting object dtype arrays on .fillna, .ffill, .bfill is deprecated and will change in a future version. Call result.infer_objects(copy=False) instead. To opt-in to the future behavior, set `pd.set_option('future.no_silent_downcasting', True)`\n",
      "  prev_above = above.shift(1).fillna(False)\n",
      "/home/bhvignesh/trading_system/src/strategies/momentum/mcad_strat.py:103: FutureWarning: Downcasting object dtype arrays on .fillna, .ffill, .bfill is deprecated and will change in a future version. Call result.infer_objects(copy=False) instead. To opt-in to the future behavior, set `pd.set_option('future.no_silent_downcasting', True)`\n",
      "  prev_below = below.shift(1).fillna(False)\n",
      "/home/bhvignesh/trading_system/src/strategies/momentum/mcad_strat.py:114: FutureWarning: The 'method' keyword in Series.replace is deprecated and will be removed in a future version.\n",
      "  positions = signals.replace(0, method='ffill').fillna(0)\n"
     ]
    },
    {
     "name": "stdout",
     "output_type": "stream",
     "text": [
      "139\n"
     ]
    },
    {
     "name": "stderr",
     "output_type": "stream",
     "text": [
      "/home/bhvignesh/trading_system/src/strategies/momentum/mcad_strat.py:102: FutureWarning: Downcasting object dtype arrays on .fillna, .ffill, .bfill is deprecated and will change in a future version. Call result.infer_objects(copy=False) instead. To opt-in to the future behavior, set `pd.set_option('future.no_silent_downcasting', True)`\n",
      "  prev_above = above.shift(1).fillna(False)\n",
      "/home/bhvignesh/trading_system/src/strategies/momentum/mcad_strat.py:103: FutureWarning: Downcasting object dtype arrays on .fillna, .ffill, .bfill is deprecated and will change in a future version. Call result.infer_objects(copy=False) instead. To opt-in to the future behavior, set `pd.set_option('future.no_silent_downcasting', True)`\n",
      "  prev_below = below.shift(1).fillna(False)\n",
      "/home/bhvignesh/trading_system/src/strategies/momentum/mcad_strat.py:114: FutureWarning: The 'method' keyword in Series.replace is deprecated and will be removed in a future version.\n",
      "  positions = signals.replace(0, method='ffill').fillna(0)\n"
     ]
    },
    {
     "name": "stdout",
     "output_type": "stream",
     "text": [
      "140\n"
     ]
    },
    {
     "name": "stderr",
     "output_type": "stream",
     "text": [
      "/home/bhvignesh/trading_system/src/strategies/momentum/mcad_strat.py:102: FutureWarning: Downcasting object dtype arrays on .fillna, .ffill, .bfill is deprecated and will change in a future version. Call result.infer_objects(copy=False) instead. To opt-in to the future behavior, set `pd.set_option('future.no_silent_downcasting', True)`\n",
      "  prev_above = above.shift(1).fillna(False)\n",
      "/home/bhvignesh/trading_system/src/strategies/momentum/mcad_strat.py:103: FutureWarning: Downcasting object dtype arrays on .fillna, .ffill, .bfill is deprecated and will change in a future version. Call result.infer_objects(copy=False) instead. To opt-in to the future behavior, set `pd.set_option('future.no_silent_downcasting', True)`\n",
      "  prev_below = below.shift(1).fillna(False)\n",
      "/home/bhvignesh/trading_system/src/strategies/momentum/mcad_strat.py:114: FutureWarning: The 'method' keyword in Series.replace is deprecated and will be removed in a future version.\n",
      "  positions = signals.replace(0, method='ffill').fillna(0)\n"
     ]
    },
    {
     "name": "stdout",
     "output_type": "stream",
     "text": [
      "141\n"
     ]
    },
    {
     "name": "stderr",
     "output_type": "stream",
     "text": [
      "/home/bhvignesh/trading_system/src/strategies/momentum/mcad_strat.py:102: FutureWarning: Downcasting object dtype arrays on .fillna, .ffill, .bfill is deprecated and will change in a future version. Call result.infer_objects(copy=False) instead. To opt-in to the future behavior, set `pd.set_option('future.no_silent_downcasting', True)`\n",
      "  prev_above = above.shift(1).fillna(False)\n",
      "/home/bhvignesh/trading_system/src/strategies/momentum/mcad_strat.py:103: FutureWarning: Downcasting object dtype arrays on .fillna, .ffill, .bfill is deprecated and will change in a future version. Call result.infer_objects(copy=False) instead. To opt-in to the future behavior, set `pd.set_option('future.no_silent_downcasting', True)`\n",
      "  prev_below = below.shift(1).fillna(False)\n",
      "/home/bhvignesh/trading_system/src/strategies/momentum/mcad_strat.py:114: FutureWarning: The 'method' keyword in Series.replace is deprecated and will be removed in a future version.\n",
      "  positions = signals.replace(0, method='ffill').fillna(0)\n"
     ]
    },
    {
     "name": "stdout",
     "output_type": "stream",
     "text": [
      "142\n"
     ]
    },
    {
     "name": "stderr",
     "output_type": "stream",
     "text": [
      "/home/bhvignesh/trading_system/src/strategies/momentum/mcad_strat.py:102: FutureWarning: Downcasting object dtype arrays on .fillna, .ffill, .bfill is deprecated and will change in a future version. Call result.infer_objects(copy=False) instead. To opt-in to the future behavior, set `pd.set_option('future.no_silent_downcasting', True)`\n",
      "  prev_above = above.shift(1).fillna(False)\n",
      "/home/bhvignesh/trading_system/src/strategies/momentum/mcad_strat.py:103: FutureWarning: Downcasting object dtype arrays on .fillna, .ffill, .bfill is deprecated and will change in a future version. Call result.infer_objects(copy=False) instead. To opt-in to the future behavior, set `pd.set_option('future.no_silent_downcasting', True)`\n",
      "  prev_below = below.shift(1).fillna(False)\n",
      "/home/bhvignesh/trading_system/src/strategies/momentum/mcad_strat.py:114: FutureWarning: The 'method' keyword in Series.replace is deprecated and will be removed in a future version.\n",
      "  positions = signals.replace(0, method='ffill').fillna(0)\n"
     ]
    },
    {
     "name": "stdout",
     "output_type": "stream",
     "text": [
      "143\n"
     ]
    },
    {
     "name": "stderr",
     "output_type": "stream",
     "text": [
      "/home/bhvignesh/trading_system/src/strategies/momentum/mcad_strat.py:102: FutureWarning: Downcasting object dtype arrays on .fillna, .ffill, .bfill is deprecated and will change in a future version. Call result.infer_objects(copy=False) instead. To opt-in to the future behavior, set `pd.set_option('future.no_silent_downcasting', True)`\n",
      "  prev_above = above.shift(1).fillna(False)\n",
      "/home/bhvignesh/trading_system/src/strategies/momentum/mcad_strat.py:103: FutureWarning: Downcasting object dtype arrays on .fillna, .ffill, .bfill is deprecated and will change in a future version. Call result.infer_objects(copy=False) instead. To opt-in to the future behavior, set `pd.set_option('future.no_silent_downcasting', True)`\n",
      "  prev_below = below.shift(1).fillna(False)\n",
      "/home/bhvignesh/trading_system/src/strategies/momentum/mcad_strat.py:114: FutureWarning: The 'method' keyword in Series.replace is deprecated and will be removed in a future version.\n",
      "  positions = signals.replace(0, method='ffill').fillna(0)\n"
     ]
    },
    {
     "name": "stdout",
     "output_type": "stream",
     "text": [
      "144\n"
     ]
    },
    {
     "name": "stderr",
     "output_type": "stream",
     "text": [
      "/home/bhvignesh/trading_system/src/strategies/momentum/mcad_strat.py:102: FutureWarning: Downcasting object dtype arrays on .fillna, .ffill, .bfill is deprecated and will change in a future version. Call result.infer_objects(copy=False) instead. To opt-in to the future behavior, set `pd.set_option('future.no_silent_downcasting', True)`\n",
      "  prev_above = above.shift(1).fillna(False)\n",
      "/home/bhvignesh/trading_system/src/strategies/momentum/mcad_strat.py:103: FutureWarning: Downcasting object dtype arrays on .fillna, .ffill, .bfill is deprecated and will change in a future version. Call result.infer_objects(copy=False) instead. To opt-in to the future behavior, set `pd.set_option('future.no_silent_downcasting', True)`\n",
      "  prev_below = below.shift(1).fillna(False)\n",
      "/home/bhvignesh/trading_system/src/strategies/momentum/mcad_strat.py:114: FutureWarning: The 'method' keyword in Series.replace is deprecated and will be removed in a future version.\n",
      "  positions = signals.replace(0, method='ffill').fillna(0)\n"
     ]
    },
    {
     "name": "stdout",
     "output_type": "stream",
     "text": [
      "145\n"
     ]
    },
    {
     "name": "stderr",
     "output_type": "stream",
     "text": [
      "/home/bhvignesh/trading_system/src/strategies/momentum/mcad_strat.py:102: FutureWarning: Downcasting object dtype arrays on .fillna, .ffill, .bfill is deprecated and will change in a future version. Call result.infer_objects(copy=False) instead. To opt-in to the future behavior, set `pd.set_option('future.no_silent_downcasting', True)`\n",
      "  prev_above = above.shift(1).fillna(False)\n",
      "/home/bhvignesh/trading_system/src/strategies/momentum/mcad_strat.py:103: FutureWarning: Downcasting object dtype arrays on .fillna, .ffill, .bfill is deprecated and will change in a future version. Call result.infer_objects(copy=False) instead. To opt-in to the future behavior, set `pd.set_option('future.no_silent_downcasting', True)`\n",
      "  prev_below = below.shift(1).fillna(False)\n",
      "/home/bhvignesh/trading_system/src/strategies/momentum/mcad_strat.py:114: FutureWarning: The 'method' keyword in Series.replace is deprecated and will be removed in a future version.\n",
      "  positions = signals.replace(0, method='ffill').fillna(0)\n"
     ]
    },
    {
     "name": "stdout",
     "output_type": "stream",
     "text": [
      "146\n"
     ]
    },
    {
     "name": "stderr",
     "output_type": "stream",
     "text": [
      "/home/bhvignesh/trading_system/src/strategies/momentum/mcad_strat.py:102: FutureWarning: Downcasting object dtype arrays on .fillna, .ffill, .bfill is deprecated and will change in a future version. Call result.infer_objects(copy=False) instead. To opt-in to the future behavior, set `pd.set_option('future.no_silent_downcasting', True)`\n",
      "  prev_above = above.shift(1).fillna(False)\n",
      "/home/bhvignesh/trading_system/src/strategies/momentum/mcad_strat.py:103: FutureWarning: Downcasting object dtype arrays on .fillna, .ffill, .bfill is deprecated and will change in a future version. Call result.infer_objects(copy=False) instead. To opt-in to the future behavior, set `pd.set_option('future.no_silent_downcasting', True)`\n",
      "  prev_below = below.shift(1).fillna(False)\n",
      "/home/bhvignesh/trading_system/src/strategies/momentum/mcad_strat.py:114: FutureWarning: The 'method' keyword in Series.replace is deprecated and will be removed in a future version.\n",
      "  positions = signals.replace(0, method='ffill').fillna(0)\n"
     ]
    },
    {
     "name": "stdout",
     "output_type": "stream",
     "text": [
      "147\n"
     ]
    },
    {
     "name": "stderr",
     "output_type": "stream",
     "text": [
      "/home/bhvignesh/trading_system/src/strategies/momentum/mcad_strat.py:102: FutureWarning: Downcasting object dtype arrays on .fillna, .ffill, .bfill is deprecated and will change in a future version. Call result.infer_objects(copy=False) instead. To opt-in to the future behavior, set `pd.set_option('future.no_silent_downcasting', True)`\n",
      "  prev_above = above.shift(1).fillna(False)\n",
      "/home/bhvignesh/trading_system/src/strategies/momentum/mcad_strat.py:103: FutureWarning: Downcasting object dtype arrays on .fillna, .ffill, .bfill is deprecated and will change in a future version. Call result.infer_objects(copy=False) instead. To opt-in to the future behavior, set `pd.set_option('future.no_silent_downcasting', True)`\n",
      "  prev_below = below.shift(1).fillna(False)\n",
      "/home/bhvignesh/trading_system/src/strategies/momentum/mcad_strat.py:114: FutureWarning: The 'method' keyword in Series.replace is deprecated and will be removed in a future version.\n",
      "  positions = signals.replace(0, method='ffill').fillna(0)\n"
     ]
    },
    {
     "name": "stdout",
     "output_type": "stream",
     "text": [
      "148\n"
     ]
    },
    {
     "name": "stderr",
     "output_type": "stream",
     "text": [
      "/home/bhvignesh/trading_system/src/strategies/momentum/mcad_strat.py:102: FutureWarning: Downcasting object dtype arrays on .fillna, .ffill, .bfill is deprecated and will change in a future version. Call result.infer_objects(copy=False) instead. To opt-in to the future behavior, set `pd.set_option('future.no_silent_downcasting', True)`\n",
      "  prev_above = above.shift(1).fillna(False)\n",
      "/home/bhvignesh/trading_system/src/strategies/momentum/mcad_strat.py:103: FutureWarning: Downcasting object dtype arrays on .fillna, .ffill, .bfill is deprecated and will change in a future version. Call result.infer_objects(copy=False) instead. To opt-in to the future behavior, set `pd.set_option('future.no_silent_downcasting', True)`\n",
      "  prev_below = below.shift(1).fillna(False)\n",
      "/home/bhvignesh/trading_system/src/strategies/momentum/mcad_strat.py:114: FutureWarning: The 'method' keyword in Series.replace is deprecated and will be removed in a future version.\n",
      "  positions = signals.replace(0, method='ffill').fillna(0)\n"
     ]
    },
    {
     "name": "stdout",
     "output_type": "stream",
     "text": [
      "149\n"
     ]
    },
    {
     "name": "stderr",
     "output_type": "stream",
     "text": [
      "/home/bhvignesh/trading_system/src/strategies/momentum/mcad_strat.py:102: FutureWarning: Downcasting object dtype arrays on .fillna, .ffill, .bfill is deprecated and will change in a future version. Call result.infer_objects(copy=False) instead. To opt-in to the future behavior, set `pd.set_option('future.no_silent_downcasting', True)`\n",
      "  prev_above = above.shift(1).fillna(False)\n",
      "/home/bhvignesh/trading_system/src/strategies/momentum/mcad_strat.py:103: FutureWarning: Downcasting object dtype arrays on .fillna, .ffill, .bfill is deprecated and will change in a future version. Call result.infer_objects(copy=False) instead. To opt-in to the future behavior, set `pd.set_option('future.no_silent_downcasting', True)`\n",
      "  prev_below = below.shift(1).fillna(False)\n",
      "/home/bhvignesh/trading_system/src/strategies/momentum/mcad_strat.py:114: FutureWarning: The 'method' keyword in Series.replace is deprecated and will be removed in a future version.\n",
      "  positions = signals.replace(0, method='ffill').fillna(0)\n"
     ]
    },
    {
     "name": "stdout",
     "output_type": "stream",
     "text": [
      "150\n"
     ]
    },
    {
     "name": "stderr",
     "output_type": "stream",
     "text": [
      "/home/bhvignesh/trading_system/src/strategies/momentum/mcad_strat.py:102: FutureWarning: Downcasting object dtype arrays on .fillna, .ffill, .bfill is deprecated and will change in a future version. Call result.infer_objects(copy=False) instead. To opt-in to the future behavior, set `pd.set_option('future.no_silent_downcasting', True)`\n",
      "  prev_above = above.shift(1).fillna(False)\n",
      "/home/bhvignesh/trading_system/src/strategies/momentum/mcad_strat.py:103: FutureWarning: Downcasting object dtype arrays on .fillna, .ffill, .bfill is deprecated and will change in a future version. Call result.infer_objects(copy=False) instead. To opt-in to the future behavior, set `pd.set_option('future.no_silent_downcasting', True)`\n",
      "  prev_below = below.shift(1).fillna(False)\n",
      "/home/bhvignesh/trading_system/src/strategies/momentum/mcad_strat.py:114: FutureWarning: The 'method' keyword in Series.replace is deprecated and will be removed in a future version.\n",
      "  positions = signals.replace(0, method='ffill').fillna(0)\n"
     ]
    },
    {
     "name": "stdout",
     "output_type": "stream",
     "text": [
      "151\n"
     ]
    },
    {
     "name": "stderr",
     "output_type": "stream",
     "text": [
      "/home/bhvignesh/trading_system/src/strategies/momentum/mcad_strat.py:102: FutureWarning: Downcasting object dtype arrays on .fillna, .ffill, .bfill is deprecated and will change in a future version. Call result.infer_objects(copy=False) instead. To opt-in to the future behavior, set `pd.set_option('future.no_silent_downcasting', True)`\n",
      "  prev_above = above.shift(1).fillna(False)\n",
      "/home/bhvignesh/trading_system/src/strategies/momentum/mcad_strat.py:103: FutureWarning: Downcasting object dtype arrays on .fillna, .ffill, .bfill is deprecated and will change in a future version. Call result.infer_objects(copy=False) instead. To opt-in to the future behavior, set `pd.set_option('future.no_silent_downcasting', True)`\n",
      "  prev_below = below.shift(1).fillna(False)\n",
      "/home/bhvignesh/trading_system/src/strategies/momentum/mcad_strat.py:114: FutureWarning: The 'method' keyword in Series.replace is deprecated and will be removed in a future version.\n",
      "  positions = signals.replace(0, method='ffill').fillna(0)\n"
     ]
    },
    {
     "name": "stdout",
     "output_type": "stream",
     "text": [
      "152\n"
     ]
    },
    {
     "name": "stderr",
     "output_type": "stream",
     "text": [
      "/home/bhvignesh/trading_system/src/strategies/momentum/mcad_strat.py:102: FutureWarning: Downcasting object dtype arrays on .fillna, .ffill, .bfill is deprecated and will change in a future version. Call result.infer_objects(copy=False) instead. To opt-in to the future behavior, set `pd.set_option('future.no_silent_downcasting', True)`\n",
      "  prev_above = above.shift(1).fillna(False)\n",
      "/home/bhvignesh/trading_system/src/strategies/momentum/mcad_strat.py:103: FutureWarning: Downcasting object dtype arrays on .fillna, .ffill, .bfill is deprecated and will change in a future version. Call result.infer_objects(copy=False) instead. To opt-in to the future behavior, set `pd.set_option('future.no_silent_downcasting', True)`\n",
      "  prev_below = below.shift(1).fillna(False)\n",
      "/home/bhvignesh/trading_system/src/strategies/momentum/mcad_strat.py:114: FutureWarning: The 'method' keyword in Series.replace is deprecated and will be removed in a future version.\n",
      "  positions = signals.replace(0, method='ffill').fillna(0)\n"
     ]
    },
    {
     "name": "stdout",
     "output_type": "stream",
     "text": [
      "153\n"
     ]
    },
    {
     "name": "stderr",
     "output_type": "stream",
     "text": [
      "/home/bhvignesh/trading_system/src/strategies/momentum/mcad_strat.py:102: FutureWarning: Downcasting object dtype arrays on .fillna, .ffill, .bfill is deprecated and will change in a future version. Call result.infer_objects(copy=False) instead. To opt-in to the future behavior, set `pd.set_option('future.no_silent_downcasting', True)`\n",
      "  prev_above = above.shift(1).fillna(False)\n",
      "/home/bhvignesh/trading_system/src/strategies/momentum/mcad_strat.py:103: FutureWarning: Downcasting object dtype arrays on .fillna, .ffill, .bfill is deprecated and will change in a future version. Call result.infer_objects(copy=False) instead. To opt-in to the future behavior, set `pd.set_option('future.no_silent_downcasting', True)`\n",
      "  prev_below = below.shift(1).fillna(False)\n",
      "/home/bhvignesh/trading_system/src/strategies/momentum/mcad_strat.py:114: FutureWarning: The 'method' keyword in Series.replace is deprecated and will be removed in a future version.\n",
      "  positions = signals.replace(0, method='ffill').fillna(0)\n"
     ]
    },
    {
     "name": "stdout",
     "output_type": "stream",
     "text": [
      "154\n"
     ]
    },
    {
     "name": "stderr",
     "output_type": "stream",
     "text": [
      "/home/bhvignesh/trading_system/src/strategies/momentum/mcad_strat.py:102: FutureWarning: Downcasting object dtype arrays on .fillna, .ffill, .bfill is deprecated and will change in a future version. Call result.infer_objects(copy=False) instead. To opt-in to the future behavior, set `pd.set_option('future.no_silent_downcasting', True)`\n",
      "  prev_above = above.shift(1).fillna(False)\n",
      "/home/bhvignesh/trading_system/src/strategies/momentum/mcad_strat.py:103: FutureWarning: Downcasting object dtype arrays on .fillna, .ffill, .bfill is deprecated and will change in a future version. Call result.infer_objects(copy=False) instead. To opt-in to the future behavior, set `pd.set_option('future.no_silent_downcasting', True)`\n",
      "  prev_below = below.shift(1).fillna(False)\n",
      "/home/bhvignesh/trading_system/src/strategies/momentum/mcad_strat.py:114: FutureWarning: The 'method' keyword in Series.replace is deprecated and will be removed in a future version.\n",
      "  positions = signals.replace(0, method='ffill').fillna(0)\n"
     ]
    },
    {
     "name": "stdout",
     "output_type": "stream",
     "text": [
      "155\n"
     ]
    },
    {
     "name": "stderr",
     "output_type": "stream",
     "text": [
      "/home/bhvignesh/trading_system/src/strategies/momentum/mcad_strat.py:102: FutureWarning: Downcasting object dtype arrays on .fillna, .ffill, .bfill is deprecated and will change in a future version. Call result.infer_objects(copy=False) instead. To opt-in to the future behavior, set `pd.set_option('future.no_silent_downcasting', True)`\n",
      "  prev_above = above.shift(1).fillna(False)\n",
      "/home/bhvignesh/trading_system/src/strategies/momentum/mcad_strat.py:103: FutureWarning: Downcasting object dtype arrays on .fillna, .ffill, .bfill is deprecated and will change in a future version. Call result.infer_objects(copy=False) instead. To opt-in to the future behavior, set `pd.set_option('future.no_silent_downcasting', True)`\n",
      "  prev_below = below.shift(1).fillna(False)\n",
      "/home/bhvignesh/trading_system/src/strategies/momentum/mcad_strat.py:114: FutureWarning: The 'method' keyword in Series.replace is deprecated and will be removed in a future version.\n",
      "  positions = signals.replace(0, method='ffill').fillna(0)\n"
     ]
    },
    {
     "name": "stdout",
     "output_type": "stream",
     "text": [
      "156\n"
     ]
    },
    {
     "name": "stderr",
     "output_type": "stream",
     "text": [
      "/home/bhvignesh/trading_system/src/strategies/momentum/mcad_strat.py:102: FutureWarning: Downcasting object dtype arrays on .fillna, .ffill, .bfill is deprecated and will change in a future version. Call result.infer_objects(copy=False) instead. To opt-in to the future behavior, set `pd.set_option('future.no_silent_downcasting', True)`\n",
      "  prev_above = above.shift(1).fillna(False)\n",
      "/home/bhvignesh/trading_system/src/strategies/momentum/mcad_strat.py:103: FutureWarning: Downcasting object dtype arrays on .fillna, .ffill, .bfill is deprecated and will change in a future version. Call result.infer_objects(copy=False) instead. To opt-in to the future behavior, set `pd.set_option('future.no_silent_downcasting', True)`\n",
      "  prev_below = below.shift(1).fillna(False)\n",
      "/home/bhvignesh/trading_system/src/strategies/momentum/mcad_strat.py:114: FutureWarning: The 'method' keyword in Series.replace is deprecated and will be removed in a future version.\n",
      "  positions = signals.replace(0, method='ffill').fillna(0)\n"
     ]
    },
    {
     "name": "stdout",
     "output_type": "stream",
     "text": [
      "157\n"
     ]
    },
    {
     "name": "stderr",
     "output_type": "stream",
     "text": [
      "/home/bhvignesh/trading_system/src/strategies/momentum/mcad_strat.py:102: FutureWarning: Downcasting object dtype arrays on .fillna, .ffill, .bfill is deprecated and will change in a future version. Call result.infer_objects(copy=False) instead. To opt-in to the future behavior, set `pd.set_option('future.no_silent_downcasting', True)`\n",
      "  prev_above = above.shift(1).fillna(False)\n",
      "/home/bhvignesh/trading_system/src/strategies/momentum/mcad_strat.py:103: FutureWarning: Downcasting object dtype arrays on .fillna, .ffill, .bfill is deprecated and will change in a future version. Call result.infer_objects(copy=False) instead. To opt-in to the future behavior, set `pd.set_option('future.no_silent_downcasting', True)`\n",
      "  prev_below = below.shift(1).fillna(False)\n",
      "/home/bhvignesh/trading_system/src/strategies/momentum/mcad_strat.py:114: FutureWarning: The 'method' keyword in Series.replace is deprecated and will be removed in a future version.\n",
      "  positions = signals.replace(0, method='ffill').fillna(0)\n"
     ]
    },
    {
     "name": "stdout",
     "output_type": "stream",
     "text": [
      "158\n"
     ]
    },
    {
     "name": "stderr",
     "output_type": "stream",
     "text": [
      "/home/bhvignesh/trading_system/src/strategies/momentum/mcad_strat.py:102: FutureWarning: Downcasting object dtype arrays on .fillna, .ffill, .bfill is deprecated and will change in a future version. Call result.infer_objects(copy=False) instead. To opt-in to the future behavior, set `pd.set_option('future.no_silent_downcasting', True)`\n",
      "  prev_above = above.shift(1).fillna(False)\n",
      "/home/bhvignesh/trading_system/src/strategies/momentum/mcad_strat.py:103: FutureWarning: Downcasting object dtype arrays on .fillna, .ffill, .bfill is deprecated and will change in a future version. Call result.infer_objects(copy=False) instead. To opt-in to the future behavior, set `pd.set_option('future.no_silent_downcasting', True)`\n",
      "  prev_below = below.shift(1).fillna(False)\n",
      "/home/bhvignesh/trading_system/src/strategies/momentum/mcad_strat.py:114: FutureWarning: The 'method' keyword in Series.replace is deprecated and will be removed in a future version.\n",
      "  positions = signals.replace(0, method='ffill').fillna(0)\n"
     ]
    },
    {
     "name": "stdout",
     "output_type": "stream",
     "text": [
      "159\n"
     ]
    },
    {
     "name": "stderr",
     "output_type": "stream",
     "text": [
      "/home/bhvignesh/trading_system/src/strategies/momentum/mcad_strat.py:102: FutureWarning: Downcasting object dtype arrays on .fillna, .ffill, .bfill is deprecated and will change in a future version. Call result.infer_objects(copy=False) instead. To opt-in to the future behavior, set `pd.set_option('future.no_silent_downcasting', True)`\n",
      "  prev_above = above.shift(1).fillna(False)\n",
      "/home/bhvignesh/trading_system/src/strategies/momentum/mcad_strat.py:103: FutureWarning: Downcasting object dtype arrays on .fillna, .ffill, .bfill is deprecated and will change in a future version. Call result.infer_objects(copy=False) instead. To opt-in to the future behavior, set `pd.set_option('future.no_silent_downcasting', True)`\n",
      "  prev_below = below.shift(1).fillna(False)\n",
      "/home/bhvignesh/trading_system/src/strategies/momentum/mcad_strat.py:114: FutureWarning: The 'method' keyword in Series.replace is deprecated and will be removed in a future version.\n",
      "  positions = signals.replace(0, method='ffill').fillna(0)\n"
     ]
    },
    {
     "name": "stdout",
     "output_type": "stream",
     "text": [
      "160\n"
     ]
    },
    {
     "name": "stderr",
     "output_type": "stream",
     "text": [
      "/home/bhvignesh/trading_system/src/strategies/momentum/mcad_strat.py:102: FutureWarning: Downcasting object dtype arrays on .fillna, .ffill, .bfill is deprecated and will change in a future version. Call result.infer_objects(copy=False) instead. To opt-in to the future behavior, set `pd.set_option('future.no_silent_downcasting', True)`\n",
      "  prev_above = above.shift(1).fillna(False)\n",
      "/home/bhvignesh/trading_system/src/strategies/momentum/mcad_strat.py:103: FutureWarning: Downcasting object dtype arrays on .fillna, .ffill, .bfill is deprecated and will change in a future version. Call result.infer_objects(copy=False) instead. To opt-in to the future behavior, set `pd.set_option('future.no_silent_downcasting', True)`\n",
      "  prev_below = below.shift(1).fillna(False)\n",
      "/home/bhvignesh/trading_system/src/strategies/momentum/mcad_strat.py:114: FutureWarning: The 'method' keyword in Series.replace is deprecated and will be removed in a future version.\n",
      "  positions = signals.replace(0, method='ffill').fillna(0)\n"
     ]
    },
    {
     "name": "stdout",
     "output_type": "stream",
     "text": [
      "161\n"
     ]
    },
    {
     "name": "stderr",
     "output_type": "stream",
     "text": [
      "/home/bhvignesh/trading_system/src/strategies/momentum/mcad_strat.py:102: FutureWarning: Downcasting object dtype arrays on .fillna, .ffill, .bfill is deprecated and will change in a future version. Call result.infer_objects(copy=False) instead. To opt-in to the future behavior, set `pd.set_option('future.no_silent_downcasting', True)`\n",
      "  prev_above = above.shift(1).fillna(False)\n",
      "/home/bhvignesh/trading_system/src/strategies/momentum/mcad_strat.py:103: FutureWarning: Downcasting object dtype arrays on .fillna, .ffill, .bfill is deprecated and will change in a future version. Call result.infer_objects(copy=False) instead. To opt-in to the future behavior, set `pd.set_option('future.no_silent_downcasting', True)`\n",
      "  prev_below = below.shift(1).fillna(False)\n",
      "/home/bhvignesh/trading_system/src/strategies/momentum/mcad_strat.py:114: FutureWarning: The 'method' keyword in Series.replace is deprecated and will be removed in a future version.\n",
      "  positions = signals.replace(0, method='ffill').fillna(0)\n"
     ]
    },
    {
     "name": "stdout",
     "output_type": "stream",
     "text": [
      "162\n"
     ]
    },
    {
     "name": "stderr",
     "output_type": "stream",
     "text": [
      "/home/bhvignesh/trading_system/src/strategies/momentum/mcad_strat.py:102: FutureWarning: Downcasting object dtype arrays on .fillna, .ffill, .bfill is deprecated and will change in a future version. Call result.infer_objects(copy=False) instead. To opt-in to the future behavior, set `pd.set_option('future.no_silent_downcasting', True)`\n",
      "  prev_above = above.shift(1).fillna(False)\n",
      "/home/bhvignesh/trading_system/src/strategies/momentum/mcad_strat.py:103: FutureWarning: Downcasting object dtype arrays on .fillna, .ffill, .bfill is deprecated and will change in a future version. Call result.infer_objects(copy=False) instead. To opt-in to the future behavior, set `pd.set_option('future.no_silent_downcasting', True)`\n",
      "  prev_below = below.shift(1).fillna(False)\n",
      "/home/bhvignesh/trading_system/src/strategies/momentum/mcad_strat.py:114: FutureWarning: The 'method' keyword in Series.replace is deprecated and will be removed in a future version.\n",
      "  positions = signals.replace(0, method='ffill').fillna(0)\n"
     ]
    },
    {
     "name": "stdout",
     "output_type": "stream",
     "text": [
      "163\n"
     ]
    },
    {
     "name": "stderr",
     "output_type": "stream",
     "text": [
      "/home/bhvignesh/trading_system/src/strategies/momentum/mcad_strat.py:102: FutureWarning: Downcasting object dtype arrays on .fillna, .ffill, .bfill is deprecated and will change in a future version. Call result.infer_objects(copy=False) instead. To opt-in to the future behavior, set `pd.set_option('future.no_silent_downcasting', True)`\n",
      "  prev_above = above.shift(1).fillna(False)\n",
      "/home/bhvignesh/trading_system/src/strategies/momentum/mcad_strat.py:103: FutureWarning: Downcasting object dtype arrays on .fillna, .ffill, .bfill is deprecated and will change in a future version. Call result.infer_objects(copy=False) instead. To opt-in to the future behavior, set `pd.set_option('future.no_silent_downcasting', True)`\n",
      "  prev_below = below.shift(1).fillna(False)\n",
      "/home/bhvignesh/trading_system/src/strategies/momentum/mcad_strat.py:114: FutureWarning: The 'method' keyword in Series.replace is deprecated and will be removed in a future version.\n",
      "  positions = signals.replace(0, method='ffill').fillna(0)\n"
     ]
    },
    {
     "name": "stdout",
     "output_type": "stream",
     "text": [
      "164\n"
     ]
    },
    {
     "name": "stderr",
     "output_type": "stream",
     "text": [
      "/home/bhvignesh/trading_system/src/strategies/momentum/mcad_strat.py:102: FutureWarning: Downcasting object dtype arrays on .fillna, .ffill, .bfill is deprecated and will change in a future version. Call result.infer_objects(copy=False) instead. To opt-in to the future behavior, set `pd.set_option('future.no_silent_downcasting', True)`\n",
      "  prev_above = above.shift(1).fillna(False)\n",
      "/home/bhvignesh/trading_system/src/strategies/momentum/mcad_strat.py:103: FutureWarning: Downcasting object dtype arrays on .fillna, .ffill, .bfill is deprecated and will change in a future version. Call result.infer_objects(copy=False) instead. To opt-in to the future behavior, set `pd.set_option('future.no_silent_downcasting', True)`\n",
      "  prev_below = below.shift(1).fillna(False)\n",
      "/home/bhvignesh/trading_system/src/strategies/momentum/mcad_strat.py:114: FutureWarning: The 'method' keyword in Series.replace is deprecated and will be removed in a future version.\n",
      "  positions = signals.replace(0, method='ffill').fillna(0)\n"
     ]
    },
    {
     "name": "stdout",
     "output_type": "stream",
     "text": [
      "165\n"
     ]
    },
    {
     "name": "stderr",
     "output_type": "stream",
     "text": [
      "/home/bhvignesh/trading_system/src/strategies/momentum/mcad_strat.py:102: FutureWarning: Downcasting object dtype arrays on .fillna, .ffill, .bfill is deprecated and will change in a future version. Call result.infer_objects(copy=False) instead. To opt-in to the future behavior, set `pd.set_option('future.no_silent_downcasting', True)`\n",
      "  prev_above = above.shift(1).fillna(False)\n",
      "/home/bhvignesh/trading_system/src/strategies/momentum/mcad_strat.py:103: FutureWarning: Downcasting object dtype arrays on .fillna, .ffill, .bfill is deprecated and will change in a future version. Call result.infer_objects(copy=False) instead. To opt-in to the future behavior, set `pd.set_option('future.no_silent_downcasting', True)`\n",
      "  prev_below = below.shift(1).fillna(False)\n",
      "/home/bhvignesh/trading_system/src/strategies/momentum/mcad_strat.py:114: FutureWarning: The 'method' keyword in Series.replace is deprecated and will be removed in a future version.\n",
      "  positions = signals.replace(0, method='ffill').fillna(0)\n"
     ]
    },
    {
     "name": "stdout",
     "output_type": "stream",
     "text": [
      "166\n"
     ]
    },
    {
     "name": "stderr",
     "output_type": "stream",
     "text": [
      "/home/bhvignesh/trading_system/src/strategies/momentum/mcad_strat.py:102: FutureWarning: Downcasting object dtype arrays on .fillna, .ffill, .bfill is deprecated and will change in a future version. Call result.infer_objects(copy=False) instead. To opt-in to the future behavior, set `pd.set_option('future.no_silent_downcasting', True)`\n",
      "  prev_above = above.shift(1).fillna(False)\n",
      "/home/bhvignesh/trading_system/src/strategies/momentum/mcad_strat.py:103: FutureWarning: Downcasting object dtype arrays on .fillna, .ffill, .bfill is deprecated and will change in a future version. Call result.infer_objects(copy=False) instead. To opt-in to the future behavior, set `pd.set_option('future.no_silent_downcasting', True)`\n",
      "  prev_below = below.shift(1).fillna(False)\n",
      "/home/bhvignesh/trading_system/src/strategies/momentum/mcad_strat.py:114: FutureWarning: The 'method' keyword in Series.replace is deprecated and will be removed in a future version.\n",
      "  positions = signals.replace(0, method='ffill').fillna(0)\n"
     ]
    },
    {
     "name": "stdout",
     "output_type": "stream",
     "text": [
      "167\n"
     ]
    },
    {
     "name": "stderr",
     "output_type": "stream",
     "text": [
      "/home/bhvignesh/trading_system/src/strategies/momentum/mcad_strat.py:102: FutureWarning: Downcasting object dtype arrays on .fillna, .ffill, .bfill is deprecated and will change in a future version. Call result.infer_objects(copy=False) instead. To opt-in to the future behavior, set `pd.set_option('future.no_silent_downcasting', True)`\n",
      "  prev_above = above.shift(1).fillna(False)\n",
      "/home/bhvignesh/trading_system/src/strategies/momentum/mcad_strat.py:103: FutureWarning: Downcasting object dtype arrays on .fillna, .ffill, .bfill is deprecated and will change in a future version. Call result.infer_objects(copy=False) instead. To opt-in to the future behavior, set `pd.set_option('future.no_silent_downcasting', True)`\n",
      "  prev_below = below.shift(1).fillna(False)\n",
      "/home/bhvignesh/trading_system/src/strategies/momentum/mcad_strat.py:114: FutureWarning: The 'method' keyword in Series.replace is deprecated and will be removed in a future version.\n",
      "  positions = signals.replace(0, method='ffill').fillna(0)\n"
     ]
    },
    {
     "name": "stdout",
     "output_type": "stream",
     "text": [
      "168\n"
     ]
    },
    {
     "name": "stderr",
     "output_type": "stream",
     "text": [
      "/home/bhvignesh/trading_system/src/strategies/momentum/mcad_strat.py:102: FutureWarning: Downcasting object dtype arrays on .fillna, .ffill, .bfill is deprecated and will change in a future version. Call result.infer_objects(copy=False) instead. To opt-in to the future behavior, set `pd.set_option('future.no_silent_downcasting', True)`\n",
      "  prev_above = above.shift(1).fillna(False)\n",
      "/home/bhvignesh/trading_system/src/strategies/momentum/mcad_strat.py:103: FutureWarning: Downcasting object dtype arrays on .fillna, .ffill, .bfill is deprecated and will change in a future version. Call result.infer_objects(copy=False) instead. To opt-in to the future behavior, set `pd.set_option('future.no_silent_downcasting', True)`\n",
      "  prev_below = below.shift(1).fillna(False)\n",
      "/home/bhvignesh/trading_system/src/strategies/momentum/mcad_strat.py:114: FutureWarning: The 'method' keyword in Series.replace is deprecated and will be removed in a future version.\n",
      "  positions = signals.replace(0, method='ffill').fillna(0)\n"
     ]
    },
    {
     "name": "stdout",
     "output_type": "stream",
     "text": [
      "169\n"
     ]
    },
    {
     "name": "stderr",
     "output_type": "stream",
     "text": [
      "/home/bhvignesh/trading_system/src/strategies/momentum/mcad_strat.py:102: FutureWarning: Downcasting object dtype arrays on .fillna, .ffill, .bfill is deprecated and will change in a future version. Call result.infer_objects(copy=False) instead. To opt-in to the future behavior, set `pd.set_option('future.no_silent_downcasting', True)`\n",
      "  prev_above = above.shift(1).fillna(False)\n",
      "/home/bhvignesh/trading_system/src/strategies/momentum/mcad_strat.py:103: FutureWarning: Downcasting object dtype arrays on .fillna, .ffill, .bfill is deprecated and will change in a future version. Call result.infer_objects(copy=False) instead. To opt-in to the future behavior, set `pd.set_option('future.no_silent_downcasting', True)`\n",
      "  prev_below = below.shift(1).fillna(False)\n",
      "/home/bhvignesh/trading_system/src/strategies/momentum/mcad_strat.py:114: FutureWarning: The 'method' keyword in Series.replace is deprecated and will be removed in a future version.\n",
      "  positions = signals.replace(0, method='ffill').fillna(0)\n"
     ]
    },
    {
     "name": "stdout",
     "output_type": "stream",
     "text": [
      "170\n"
     ]
    },
    {
     "name": "stderr",
     "output_type": "stream",
     "text": [
      "/home/bhvignesh/trading_system/src/strategies/momentum/mcad_strat.py:102: FutureWarning: Downcasting object dtype arrays on .fillna, .ffill, .bfill is deprecated and will change in a future version. Call result.infer_objects(copy=False) instead. To opt-in to the future behavior, set `pd.set_option('future.no_silent_downcasting', True)`\n",
      "  prev_above = above.shift(1).fillna(False)\n",
      "/home/bhvignesh/trading_system/src/strategies/momentum/mcad_strat.py:103: FutureWarning: Downcasting object dtype arrays on .fillna, .ffill, .bfill is deprecated and will change in a future version. Call result.infer_objects(copy=False) instead. To opt-in to the future behavior, set `pd.set_option('future.no_silent_downcasting', True)`\n",
      "  prev_below = below.shift(1).fillna(False)\n",
      "/home/bhvignesh/trading_system/src/strategies/momentum/mcad_strat.py:114: FutureWarning: The 'method' keyword in Series.replace is deprecated and will be removed in a future version.\n",
      "  positions = signals.replace(0, method='ffill').fillna(0)\n"
     ]
    },
    {
     "name": "stdout",
     "output_type": "stream",
     "text": [
      "171\n"
     ]
    },
    {
     "name": "stderr",
     "output_type": "stream",
     "text": [
      "/home/bhvignesh/trading_system/src/strategies/momentum/mcad_strat.py:102: FutureWarning: Downcasting object dtype arrays on .fillna, .ffill, .bfill is deprecated and will change in a future version. Call result.infer_objects(copy=False) instead. To opt-in to the future behavior, set `pd.set_option('future.no_silent_downcasting', True)`\n",
      "  prev_above = above.shift(1).fillna(False)\n",
      "/home/bhvignesh/trading_system/src/strategies/momentum/mcad_strat.py:103: FutureWarning: Downcasting object dtype arrays on .fillna, .ffill, .bfill is deprecated and will change in a future version. Call result.infer_objects(copy=False) instead. To opt-in to the future behavior, set `pd.set_option('future.no_silent_downcasting', True)`\n",
      "  prev_below = below.shift(1).fillna(False)\n",
      "/home/bhvignesh/trading_system/src/strategies/momentum/mcad_strat.py:114: FutureWarning: The 'method' keyword in Series.replace is deprecated and will be removed in a future version.\n",
      "  positions = signals.replace(0, method='ffill').fillna(0)\n"
     ]
    },
    {
     "name": "stdout",
     "output_type": "stream",
     "text": [
      "172\n"
     ]
    },
    {
     "name": "stderr",
     "output_type": "stream",
     "text": [
      "/home/bhvignesh/trading_system/src/strategies/momentum/mcad_strat.py:102: FutureWarning: Downcasting object dtype arrays on .fillna, .ffill, .bfill is deprecated and will change in a future version. Call result.infer_objects(copy=False) instead. To opt-in to the future behavior, set `pd.set_option('future.no_silent_downcasting', True)`\n",
      "  prev_above = above.shift(1).fillna(False)\n",
      "/home/bhvignesh/trading_system/src/strategies/momentum/mcad_strat.py:103: FutureWarning: Downcasting object dtype arrays on .fillna, .ffill, .bfill is deprecated and will change in a future version. Call result.infer_objects(copy=False) instead. To opt-in to the future behavior, set `pd.set_option('future.no_silent_downcasting', True)`\n",
      "  prev_below = below.shift(1).fillna(False)\n",
      "/home/bhvignesh/trading_system/src/strategies/momentum/mcad_strat.py:114: FutureWarning: The 'method' keyword in Series.replace is deprecated and will be removed in a future version.\n",
      "  positions = signals.replace(0, method='ffill').fillna(0)\n"
     ]
    },
    {
     "name": "stdout",
     "output_type": "stream",
     "text": [
      "173\n"
     ]
    },
    {
     "name": "stderr",
     "output_type": "stream",
     "text": [
      "/home/bhvignesh/trading_system/src/strategies/momentum/mcad_strat.py:102: FutureWarning: Downcasting object dtype arrays on .fillna, .ffill, .bfill is deprecated and will change in a future version. Call result.infer_objects(copy=False) instead. To opt-in to the future behavior, set `pd.set_option('future.no_silent_downcasting', True)`\n",
      "  prev_above = above.shift(1).fillna(False)\n",
      "/home/bhvignesh/trading_system/src/strategies/momentum/mcad_strat.py:103: FutureWarning: Downcasting object dtype arrays on .fillna, .ffill, .bfill is deprecated and will change in a future version. Call result.infer_objects(copy=False) instead. To opt-in to the future behavior, set `pd.set_option('future.no_silent_downcasting', True)`\n",
      "  prev_below = below.shift(1).fillna(False)\n",
      "/home/bhvignesh/trading_system/src/strategies/momentum/mcad_strat.py:114: FutureWarning: The 'method' keyword in Series.replace is deprecated and will be removed in a future version.\n",
      "  positions = signals.replace(0, method='ffill').fillna(0)\n"
     ]
    },
    {
     "name": "stdout",
     "output_type": "stream",
     "text": [
      "174\n"
     ]
    },
    {
     "name": "stderr",
     "output_type": "stream",
     "text": [
      "/home/bhvignesh/trading_system/src/strategies/momentum/mcad_strat.py:102: FutureWarning: Downcasting object dtype arrays on .fillna, .ffill, .bfill is deprecated and will change in a future version. Call result.infer_objects(copy=False) instead. To opt-in to the future behavior, set `pd.set_option('future.no_silent_downcasting', True)`\n",
      "  prev_above = above.shift(1).fillna(False)\n",
      "/home/bhvignesh/trading_system/src/strategies/momentum/mcad_strat.py:103: FutureWarning: Downcasting object dtype arrays on .fillna, .ffill, .bfill is deprecated and will change in a future version. Call result.infer_objects(copy=False) instead. To opt-in to the future behavior, set `pd.set_option('future.no_silent_downcasting', True)`\n",
      "  prev_below = below.shift(1).fillna(False)\n",
      "/home/bhvignesh/trading_system/src/strategies/momentum/mcad_strat.py:114: FutureWarning: The 'method' keyword in Series.replace is deprecated and will be removed in a future version.\n",
      "  positions = signals.replace(0, method='ffill').fillna(0)\n"
     ]
    },
    {
     "name": "stdout",
     "output_type": "stream",
     "text": [
      "175\n"
     ]
    },
    {
     "name": "stderr",
     "output_type": "stream",
     "text": [
      "/home/bhvignesh/trading_system/src/strategies/momentum/mcad_strat.py:102: FutureWarning: Downcasting object dtype arrays on .fillna, .ffill, .bfill is deprecated and will change in a future version. Call result.infer_objects(copy=False) instead. To opt-in to the future behavior, set `pd.set_option('future.no_silent_downcasting', True)`\n",
      "  prev_above = above.shift(1).fillna(False)\n",
      "/home/bhvignesh/trading_system/src/strategies/momentum/mcad_strat.py:103: FutureWarning: Downcasting object dtype arrays on .fillna, .ffill, .bfill is deprecated and will change in a future version. Call result.infer_objects(copy=False) instead. To opt-in to the future behavior, set `pd.set_option('future.no_silent_downcasting', True)`\n",
      "  prev_below = below.shift(1).fillna(False)\n",
      "/home/bhvignesh/trading_system/src/strategies/momentum/mcad_strat.py:114: FutureWarning: The 'method' keyword in Series.replace is deprecated and will be removed in a future version.\n",
      "  positions = signals.replace(0, method='ffill').fillna(0)\n"
     ]
    },
    {
     "name": "stdout",
     "output_type": "stream",
     "text": [
      "176\n"
     ]
    },
    {
     "name": "stderr",
     "output_type": "stream",
     "text": [
      "/home/bhvignesh/trading_system/src/strategies/momentum/mcad_strat.py:102: FutureWarning: Downcasting object dtype arrays on .fillna, .ffill, .bfill is deprecated and will change in a future version. Call result.infer_objects(copy=False) instead. To opt-in to the future behavior, set `pd.set_option('future.no_silent_downcasting', True)`\n",
      "  prev_above = above.shift(1).fillna(False)\n",
      "/home/bhvignesh/trading_system/src/strategies/momentum/mcad_strat.py:103: FutureWarning: Downcasting object dtype arrays on .fillna, .ffill, .bfill is deprecated and will change in a future version. Call result.infer_objects(copy=False) instead. To opt-in to the future behavior, set `pd.set_option('future.no_silent_downcasting', True)`\n",
      "  prev_below = below.shift(1).fillna(False)\n",
      "/home/bhvignesh/trading_system/src/strategies/momentum/mcad_strat.py:114: FutureWarning: The 'method' keyword in Series.replace is deprecated and will be removed in a future version.\n",
      "  positions = signals.replace(0, method='ffill').fillna(0)\n"
     ]
    },
    {
     "name": "stdout",
     "output_type": "stream",
     "text": [
      "177\n"
     ]
    },
    {
     "name": "stderr",
     "output_type": "stream",
     "text": [
      "/home/bhvignesh/trading_system/src/strategies/momentum/mcad_strat.py:102: FutureWarning: Downcasting object dtype arrays on .fillna, .ffill, .bfill is deprecated and will change in a future version. Call result.infer_objects(copy=False) instead. To opt-in to the future behavior, set `pd.set_option('future.no_silent_downcasting', True)`\n",
      "  prev_above = above.shift(1).fillna(False)\n",
      "/home/bhvignesh/trading_system/src/strategies/momentum/mcad_strat.py:103: FutureWarning: Downcasting object dtype arrays on .fillna, .ffill, .bfill is deprecated and will change in a future version. Call result.infer_objects(copy=False) instead. To opt-in to the future behavior, set `pd.set_option('future.no_silent_downcasting', True)`\n",
      "  prev_below = below.shift(1).fillna(False)\n",
      "/home/bhvignesh/trading_system/src/strategies/momentum/mcad_strat.py:114: FutureWarning: The 'method' keyword in Series.replace is deprecated and will be removed in a future version.\n",
      "  positions = signals.replace(0, method='ffill').fillna(0)\n"
     ]
    },
    {
     "name": "stdout",
     "output_type": "stream",
     "text": [
      "178\n"
     ]
    },
    {
     "name": "stderr",
     "output_type": "stream",
     "text": [
      "/home/bhvignesh/trading_system/src/strategies/momentum/mcad_strat.py:102: FutureWarning: Downcasting object dtype arrays on .fillna, .ffill, .bfill is deprecated and will change in a future version. Call result.infer_objects(copy=False) instead. To opt-in to the future behavior, set `pd.set_option('future.no_silent_downcasting', True)`\n",
      "  prev_above = above.shift(1).fillna(False)\n",
      "/home/bhvignesh/trading_system/src/strategies/momentum/mcad_strat.py:103: FutureWarning: Downcasting object dtype arrays on .fillna, .ffill, .bfill is deprecated and will change in a future version. Call result.infer_objects(copy=False) instead. To opt-in to the future behavior, set `pd.set_option('future.no_silent_downcasting', True)`\n",
      "  prev_below = below.shift(1).fillna(False)\n",
      "/home/bhvignesh/trading_system/src/strategies/momentum/mcad_strat.py:114: FutureWarning: The 'method' keyword in Series.replace is deprecated and will be removed in a future version.\n",
      "  positions = signals.replace(0, method='ffill').fillna(0)\n"
     ]
    },
    {
     "name": "stdout",
     "output_type": "stream",
     "text": [
      "179\n"
     ]
    },
    {
     "name": "stderr",
     "output_type": "stream",
     "text": [
      "/home/bhvignesh/trading_system/src/strategies/momentum/mcad_strat.py:102: FutureWarning: Downcasting object dtype arrays on .fillna, .ffill, .bfill is deprecated and will change in a future version. Call result.infer_objects(copy=False) instead. To opt-in to the future behavior, set `pd.set_option('future.no_silent_downcasting', True)`\n",
      "  prev_above = above.shift(1).fillna(False)\n",
      "/home/bhvignesh/trading_system/src/strategies/momentum/mcad_strat.py:103: FutureWarning: Downcasting object dtype arrays on .fillna, .ffill, .bfill is deprecated and will change in a future version. Call result.infer_objects(copy=False) instead. To opt-in to the future behavior, set `pd.set_option('future.no_silent_downcasting', True)`\n",
      "  prev_below = below.shift(1).fillna(False)\n",
      "/home/bhvignesh/trading_system/src/strategies/momentum/mcad_strat.py:114: FutureWarning: The 'method' keyword in Series.replace is deprecated and will be removed in a future version.\n",
      "  positions = signals.replace(0, method='ffill').fillna(0)\n"
     ]
    },
    {
     "name": "stdout",
     "output_type": "stream",
     "text": [
      "180\n"
     ]
    },
    {
     "name": "stderr",
     "output_type": "stream",
     "text": [
      "/home/bhvignesh/trading_system/src/strategies/momentum/mcad_strat.py:102: FutureWarning: Downcasting object dtype arrays on .fillna, .ffill, .bfill is deprecated and will change in a future version. Call result.infer_objects(copy=False) instead. To opt-in to the future behavior, set `pd.set_option('future.no_silent_downcasting', True)`\n",
      "  prev_above = above.shift(1).fillna(False)\n",
      "/home/bhvignesh/trading_system/src/strategies/momentum/mcad_strat.py:103: FutureWarning: Downcasting object dtype arrays on .fillna, .ffill, .bfill is deprecated and will change in a future version. Call result.infer_objects(copy=False) instead. To opt-in to the future behavior, set `pd.set_option('future.no_silent_downcasting', True)`\n",
      "  prev_below = below.shift(1).fillna(False)\n",
      "/home/bhvignesh/trading_system/src/strategies/momentum/mcad_strat.py:114: FutureWarning: The 'method' keyword in Series.replace is deprecated and will be removed in a future version.\n",
      "  positions = signals.replace(0, method='ffill').fillna(0)\n"
     ]
    },
    {
     "name": "stdout",
     "output_type": "stream",
     "text": [
      "181\n"
     ]
    },
    {
     "name": "stderr",
     "output_type": "stream",
     "text": [
      "/home/bhvignesh/trading_system/src/strategies/momentum/mcad_strat.py:102: FutureWarning: Downcasting object dtype arrays on .fillna, .ffill, .bfill is deprecated and will change in a future version. Call result.infer_objects(copy=False) instead. To opt-in to the future behavior, set `pd.set_option('future.no_silent_downcasting', True)`\n",
      "  prev_above = above.shift(1).fillna(False)\n",
      "/home/bhvignesh/trading_system/src/strategies/momentum/mcad_strat.py:103: FutureWarning: Downcasting object dtype arrays on .fillna, .ffill, .bfill is deprecated and will change in a future version. Call result.infer_objects(copy=False) instead. To opt-in to the future behavior, set `pd.set_option('future.no_silent_downcasting', True)`\n",
      "  prev_below = below.shift(1).fillna(False)\n",
      "/home/bhvignesh/trading_system/src/strategies/momentum/mcad_strat.py:114: FutureWarning: The 'method' keyword in Series.replace is deprecated and will be removed in a future version.\n",
      "  positions = signals.replace(0, method='ffill').fillna(0)\n"
     ]
    },
    {
     "name": "stdout",
     "output_type": "stream",
     "text": [
      "182\n"
     ]
    },
    {
     "name": "stderr",
     "output_type": "stream",
     "text": [
      "/home/bhvignesh/trading_system/src/strategies/momentum/mcad_strat.py:102: FutureWarning: Downcasting object dtype arrays on .fillna, .ffill, .bfill is deprecated and will change in a future version. Call result.infer_objects(copy=False) instead. To opt-in to the future behavior, set `pd.set_option('future.no_silent_downcasting', True)`\n",
      "  prev_above = above.shift(1).fillna(False)\n",
      "/home/bhvignesh/trading_system/src/strategies/momentum/mcad_strat.py:103: FutureWarning: Downcasting object dtype arrays on .fillna, .ffill, .bfill is deprecated and will change in a future version. Call result.infer_objects(copy=False) instead. To opt-in to the future behavior, set `pd.set_option('future.no_silent_downcasting', True)`\n",
      "  prev_below = below.shift(1).fillna(False)\n",
      "/home/bhvignesh/trading_system/src/strategies/momentum/mcad_strat.py:114: FutureWarning: The 'method' keyword in Series.replace is deprecated and will be removed in a future version.\n",
      "  positions = signals.replace(0, method='ffill').fillna(0)\n"
     ]
    },
    {
     "name": "stdout",
     "output_type": "stream",
     "text": [
      "183\n"
     ]
    },
    {
     "name": "stderr",
     "output_type": "stream",
     "text": [
      "/home/bhvignesh/trading_system/src/strategies/momentum/mcad_strat.py:102: FutureWarning: Downcasting object dtype arrays on .fillna, .ffill, .bfill is deprecated and will change in a future version. Call result.infer_objects(copy=False) instead. To opt-in to the future behavior, set `pd.set_option('future.no_silent_downcasting', True)`\n",
      "  prev_above = above.shift(1).fillna(False)\n",
      "/home/bhvignesh/trading_system/src/strategies/momentum/mcad_strat.py:103: FutureWarning: Downcasting object dtype arrays on .fillna, .ffill, .bfill is deprecated and will change in a future version. Call result.infer_objects(copy=False) instead. To opt-in to the future behavior, set `pd.set_option('future.no_silent_downcasting', True)`\n",
      "  prev_below = below.shift(1).fillna(False)\n",
      "/home/bhvignesh/trading_system/src/strategies/momentum/mcad_strat.py:114: FutureWarning: The 'method' keyword in Series.replace is deprecated and will be removed in a future version.\n",
      "  positions = signals.replace(0, method='ffill').fillna(0)\n"
     ]
    },
    {
     "name": "stdout",
     "output_type": "stream",
     "text": [
      "184\n"
     ]
    },
    {
     "name": "stderr",
     "output_type": "stream",
     "text": [
      "/home/bhvignesh/trading_system/src/strategies/momentum/mcad_strat.py:102: FutureWarning: Downcasting object dtype arrays on .fillna, .ffill, .bfill is deprecated and will change in a future version. Call result.infer_objects(copy=False) instead. To opt-in to the future behavior, set `pd.set_option('future.no_silent_downcasting', True)`\n",
      "  prev_above = above.shift(1).fillna(False)\n",
      "/home/bhvignesh/trading_system/src/strategies/momentum/mcad_strat.py:103: FutureWarning: Downcasting object dtype arrays on .fillna, .ffill, .bfill is deprecated and will change in a future version. Call result.infer_objects(copy=False) instead. To opt-in to the future behavior, set `pd.set_option('future.no_silent_downcasting', True)`\n",
      "  prev_below = below.shift(1).fillna(False)\n",
      "/home/bhvignesh/trading_system/src/strategies/momentum/mcad_strat.py:114: FutureWarning: The 'method' keyword in Series.replace is deprecated and will be removed in a future version.\n",
      "  positions = signals.replace(0, method='ffill').fillna(0)\n"
     ]
    },
    {
     "name": "stdout",
     "output_type": "stream",
     "text": [
      "185\n"
     ]
    },
    {
     "name": "stderr",
     "output_type": "stream",
     "text": [
      "/home/bhvignesh/trading_system/src/strategies/momentum/mcad_strat.py:102: FutureWarning: Downcasting object dtype arrays on .fillna, .ffill, .bfill is deprecated and will change in a future version. Call result.infer_objects(copy=False) instead. To opt-in to the future behavior, set `pd.set_option('future.no_silent_downcasting', True)`\n",
      "  prev_above = above.shift(1).fillna(False)\n",
      "/home/bhvignesh/trading_system/src/strategies/momentum/mcad_strat.py:103: FutureWarning: Downcasting object dtype arrays on .fillna, .ffill, .bfill is deprecated and will change in a future version. Call result.infer_objects(copy=False) instead. To opt-in to the future behavior, set `pd.set_option('future.no_silent_downcasting', True)`\n",
      "  prev_below = below.shift(1).fillna(False)\n",
      "/home/bhvignesh/trading_system/src/strategies/momentum/mcad_strat.py:114: FutureWarning: The 'method' keyword in Series.replace is deprecated and will be removed in a future version.\n",
      "  positions = signals.replace(0, method='ffill').fillna(0)\n"
     ]
    },
    {
     "name": "stdout",
     "output_type": "stream",
     "text": [
      "186\n"
     ]
    },
    {
     "name": "stderr",
     "output_type": "stream",
     "text": [
      "/home/bhvignesh/trading_system/src/strategies/momentum/mcad_strat.py:102: FutureWarning: Downcasting object dtype arrays on .fillna, .ffill, .bfill is deprecated and will change in a future version. Call result.infer_objects(copy=False) instead. To opt-in to the future behavior, set `pd.set_option('future.no_silent_downcasting', True)`\n",
      "  prev_above = above.shift(1).fillna(False)\n",
      "/home/bhvignesh/trading_system/src/strategies/momentum/mcad_strat.py:103: FutureWarning: Downcasting object dtype arrays on .fillna, .ffill, .bfill is deprecated and will change in a future version. Call result.infer_objects(copy=False) instead. To opt-in to the future behavior, set `pd.set_option('future.no_silent_downcasting', True)`\n",
      "  prev_below = below.shift(1).fillna(False)\n",
      "/home/bhvignesh/trading_system/src/strategies/momentum/mcad_strat.py:114: FutureWarning: The 'method' keyword in Series.replace is deprecated and will be removed in a future version.\n",
      "  positions = signals.replace(0, method='ffill').fillna(0)\n"
     ]
    },
    {
     "name": "stdout",
     "output_type": "stream",
     "text": [
      "187\n"
     ]
    },
    {
     "name": "stderr",
     "output_type": "stream",
     "text": [
      "/home/bhvignesh/trading_system/src/strategies/momentum/mcad_strat.py:102: FutureWarning: Downcasting object dtype arrays on .fillna, .ffill, .bfill is deprecated and will change in a future version. Call result.infer_objects(copy=False) instead. To opt-in to the future behavior, set `pd.set_option('future.no_silent_downcasting', True)`\n",
      "  prev_above = above.shift(1).fillna(False)\n",
      "/home/bhvignesh/trading_system/src/strategies/momentum/mcad_strat.py:103: FutureWarning: Downcasting object dtype arrays on .fillna, .ffill, .bfill is deprecated and will change in a future version. Call result.infer_objects(copy=False) instead. To opt-in to the future behavior, set `pd.set_option('future.no_silent_downcasting', True)`\n",
      "  prev_below = below.shift(1).fillna(False)\n",
      "/home/bhvignesh/trading_system/src/strategies/momentum/mcad_strat.py:114: FutureWarning: The 'method' keyword in Series.replace is deprecated and will be removed in a future version.\n",
      "  positions = signals.replace(0, method='ffill').fillna(0)\n"
     ]
    },
    {
     "name": "stdout",
     "output_type": "stream",
     "text": [
      "188\n"
     ]
    },
    {
     "name": "stderr",
     "output_type": "stream",
     "text": [
      "/home/bhvignesh/trading_system/src/strategies/momentum/mcad_strat.py:102: FutureWarning: Downcasting object dtype arrays on .fillna, .ffill, .bfill is deprecated and will change in a future version. Call result.infer_objects(copy=False) instead. To opt-in to the future behavior, set `pd.set_option('future.no_silent_downcasting', True)`\n",
      "  prev_above = above.shift(1).fillna(False)\n",
      "/home/bhvignesh/trading_system/src/strategies/momentum/mcad_strat.py:103: FutureWarning: Downcasting object dtype arrays on .fillna, .ffill, .bfill is deprecated and will change in a future version. Call result.infer_objects(copy=False) instead. To opt-in to the future behavior, set `pd.set_option('future.no_silent_downcasting', True)`\n",
      "  prev_below = below.shift(1).fillna(False)\n",
      "/home/bhvignesh/trading_system/src/strategies/momentum/mcad_strat.py:114: FutureWarning: The 'method' keyword in Series.replace is deprecated and will be removed in a future version.\n",
      "  positions = signals.replace(0, method='ffill').fillna(0)\n"
     ]
    },
    {
     "name": "stdout",
     "output_type": "stream",
     "text": [
      "189\n"
     ]
    },
    {
     "name": "stderr",
     "output_type": "stream",
     "text": [
      "/home/bhvignesh/trading_system/src/strategies/momentum/mcad_strat.py:102: FutureWarning: Downcasting object dtype arrays on .fillna, .ffill, .bfill is deprecated and will change in a future version. Call result.infer_objects(copy=False) instead. To opt-in to the future behavior, set `pd.set_option('future.no_silent_downcasting', True)`\n",
      "  prev_above = above.shift(1).fillna(False)\n",
      "/home/bhvignesh/trading_system/src/strategies/momentum/mcad_strat.py:103: FutureWarning: Downcasting object dtype arrays on .fillna, .ffill, .bfill is deprecated and will change in a future version. Call result.infer_objects(copy=False) instead. To opt-in to the future behavior, set `pd.set_option('future.no_silent_downcasting', True)`\n",
      "  prev_below = below.shift(1).fillna(False)\n",
      "/home/bhvignesh/trading_system/src/strategies/momentum/mcad_strat.py:114: FutureWarning: The 'method' keyword in Series.replace is deprecated and will be removed in a future version.\n",
      "  positions = signals.replace(0, method='ffill').fillna(0)\n"
     ]
    },
    {
     "name": "stdout",
     "output_type": "stream",
     "text": [
      "190\n"
     ]
    },
    {
     "name": "stderr",
     "output_type": "stream",
     "text": [
      "/home/bhvignesh/trading_system/src/strategies/momentum/mcad_strat.py:102: FutureWarning: Downcasting object dtype arrays on .fillna, .ffill, .bfill is deprecated and will change in a future version. Call result.infer_objects(copy=False) instead. To opt-in to the future behavior, set `pd.set_option('future.no_silent_downcasting', True)`\n",
      "  prev_above = above.shift(1).fillna(False)\n",
      "/home/bhvignesh/trading_system/src/strategies/momentum/mcad_strat.py:103: FutureWarning: Downcasting object dtype arrays on .fillna, .ffill, .bfill is deprecated and will change in a future version. Call result.infer_objects(copy=False) instead. To opt-in to the future behavior, set `pd.set_option('future.no_silent_downcasting', True)`\n",
      "  prev_below = below.shift(1).fillna(False)\n",
      "/home/bhvignesh/trading_system/src/strategies/momentum/mcad_strat.py:114: FutureWarning: The 'method' keyword in Series.replace is deprecated and will be removed in a future version.\n",
      "  positions = signals.replace(0, method='ffill').fillna(0)\n"
     ]
    },
    {
     "name": "stdout",
     "output_type": "stream",
     "text": [
      "191\n"
     ]
    },
    {
     "name": "stderr",
     "output_type": "stream",
     "text": [
      "/home/bhvignesh/trading_system/src/strategies/momentum/mcad_strat.py:102: FutureWarning: Downcasting object dtype arrays on .fillna, .ffill, .bfill is deprecated and will change in a future version. Call result.infer_objects(copy=False) instead. To opt-in to the future behavior, set `pd.set_option('future.no_silent_downcasting', True)`\n",
      "  prev_above = above.shift(1).fillna(False)\n",
      "/home/bhvignesh/trading_system/src/strategies/momentum/mcad_strat.py:103: FutureWarning: Downcasting object dtype arrays on .fillna, .ffill, .bfill is deprecated and will change in a future version. Call result.infer_objects(copy=False) instead. To opt-in to the future behavior, set `pd.set_option('future.no_silent_downcasting', True)`\n",
      "  prev_below = below.shift(1).fillna(False)\n",
      "/home/bhvignesh/trading_system/src/strategies/momentum/mcad_strat.py:114: FutureWarning: The 'method' keyword in Series.replace is deprecated and will be removed in a future version.\n",
      "  positions = signals.replace(0, method='ffill').fillna(0)\n"
     ]
    },
    {
     "name": "stdout",
     "output_type": "stream",
     "text": [
      "192\n"
     ]
    },
    {
     "name": "stderr",
     "output_type": "stream",
     "text": [
      "/home/bhvignesh/trading_system/src/strategies/momentum/mcad_strat.py:102: FutureWarning: Downcasting object dtype arrays on .fillna, .ffill, .bfill is deprecated and will change in a future version. Call result.infer_objects(copy=False) instead. To opt-in to the future behavior, set `pd.set_option('future.no_silent_downcasting', True)`\n",
      "  prev_above = above.shift(1).fillna(False)\n",
      "/home/bhvignesh/trading_system/src/strategies/momentum/mcad_strat.py:103: FutureWarning: Downcasting object dtype arrays on .fillna, .ffill, .bfill is deprecated and will change in a future version. Call result.infer_objects(copy=False) instead. To opt-in to the future behavior, set `pd.set_option('future.no_silent_downcasting', True)`\n",
      "  prev_below = below.shift(1).fillna(False)\n",
      "/home/bhvignesh/trading_system/src/strategies/momentum/mcad_strat.py:114: FutureWarning: The 'method' keyword in Series.replace is deprecated and will be removed in a future version.\n",
      "  positions = signals.replace(0, method='ffill').fillna(0)\n"
     ]
    },
    {
     "name": "stdout",
     "output_type": "stream",
     "text": [
      "193\n"
     ]
    },
    {
     "name": "stderr",
     "output_type": "stream",
     "text": [
      "/home/bhvignesh/trading_system/src/strategies/momentum/mcad_strat.py:102: FutureWarning: Downcasting object dtype arrays on .fillna, .ffill, .bfill is deprecated and will change in a future version. Call result.infer_objects(copy=False) instead. To opt-in to the future behavior, set `pd.set_option('future.no_silent_downcasting', True)`\n",
      "  prev_above = above.shift(1).fillna(False)\n",
      "/home/bhvignesh/trading_system/src/strategies/momentum/mcad_strat.py:103: FutureWarning: Downcasting object dtype arrays on .fillna, .ffill, .bfill is deprecated and will change in a future version. Call result.infer_objects(copy=False) instead. To opt-in to the future behavior, set `pd.set_option('future.no_silent_downcasting', True)`\n",
      "  prev_below = below.shift(1).fillna(False)\n",
      "/home/bhvignesh/trading_system/src/strategies/momentum/mcad_strat.py:114: FutureWarning: The 'method' keyword in Series.replace is deprecated and will be removed in a future version.\n",
      "  positions = signals.replace(0, method='ffill').fillna(0)\n"
     ]
    },
    {
     "name": "stdout",
     "output_type": "stream",
     "text": [
      "194\n"
     ]
    },
    {
     "name": "stderr",
     "output_type": "stream",
     "text": [
      "/home/bhvignesh/trading_system/src/strategies/momentum/mcad_strat.py:102: FutureWarning: Downcasting object dtype arrays on .fillna, .ffill, .bfill is deprecated and will change in a future version. Call result.infer_objects(copy=False) instead. To opt-in to the future behavior, set `pd.set_option('future.no_silent_downcasting', True)`\n",
      "  prev_above = above.shift(1).fillna(False)\n",
      "/home/bhvignesh/trading_system/src/strategies/momentum/mcad_strat.py:103: FutureWarning: Downcasting object dtype arrays on .fillna, .ffill, .bfill is deprecated and will change in a future version. Call result.infer_objects(copy=False) instead. To opt-in to the future behavior, set `pd.set_option('future.no_silent_downcasting', True)`\n",
      "  prev_below = below.shift(1).fillna(False)\n",
      "/home/bhvignesh/trading_system/src/strategies/momentum/mcad_strat.py:114: FutureWarning: The 'method' keyword in Series.replace is deprecated and will be removed in a future version.\n",
      "  positions = signals.replace(0, method='ffill').fillna(0)\n"
     ]
    },
    {
     "name": "stdout",
     "output_type": "stream",
     "text": [
      "195\n"
     ]
    },
    {
     "name": "stderr",
     "output_type": "stream",
     "text": [
      "/home/bhvignesh/trading_system/src/strategies/momentum/mcad_strat.py:102: FutureWarning: Downcasting object dtype arrays on .fillna, .ffill, .bfill is deprecated and will change in a future version. Call result.infer_objects(copy=False) instead. To opt-in to the future behavior, set `pd.set_option('future.no_silent_downcasting', True)`\n",
      "  prev_above = above.shift(1).fillna(False)\n",
      "/home/bhvignesh/trading_system/src/strategies/momentum/mcad_strat.py:103: FutureWarning: Downcasting object dtype arrays on .fillna, .ffill, .bfill is deprecated and will change in a future version. Call result.infer_objects(copy=False) instead. To opt-in to the future behavior, set `pd.set_option('future.no_silent_downcasting', True)`\n",
      "  prev_below = below.shift(1).fillna(False)\n",
      "/home/bhvignesh/trading_system/src/strategies/momentum/mcad_strat.py:114: FutureWarning: The 'method' keyword in Series.replace is deprecated and will be removed in a future version.\n",
      "  positions = signals.replace(0, method='ffill').fillna(0)\n"
     ]
    },
    {
     "name": "stdout",
     "output_type": "stream",
     "text": [
      "196\n"
     ]
    },
    {
     "name": "stderr",
     "output_type": "stream",
     "text": [
      "/home/bhvignesh/trading_system/src/strategies/momentum/mcad_strat.py:102: FutureWarning: Downcasting object dtype arrays on .fillna, .ffill, .bfill is deprecated and will change in a future version. Call result.infer_objects(copy=False) instead. To opt-in to the future behavior, set `pd.set_option('future.no_silent_downcasting', True)`\n",
      "  prev_above = above.shift(1).fillna(False)\n",
      "/home/bhvignesh/trading_system/src/strategies/momentum/mcad_strat.py:103: FutureWarning: Downcasting object dtype arrays on .fillna, .ffill, .bfill is deprecated and will change in a future version. Call result.infer_objects(copy=False) instead. To opt-in to the future behavior, set `pd.set_option('future.no_silent_downcasting', True)`\n",
      "  prev_below = below.shift(1).fillna(False)\n",
      "/home/bhvignesh/trading_system/src/strategies/momentum/mcad_strat.py:114: FutureWarning: The 'method' keyword in Series.replace is deprecated and will be removed in a future version.\n",
      "  positions = signals.replace(0, method='ffill').fillna(0)\n"
     ]
    },
    {
     "name": "stdout",
     "output_type": "stream",
     "text": [
      "197\n"
     ]
    },
    {
     "name": "stderr",
     "output_type": "stream",
     "text": [
      "/home/bhvignesh/trading_system/src/strategies/momentum/mcad_strat.py:102: FutureWarning: Downcasting object dtype arrays on .fillna, .ffill, .bfill is deprecated and will change in a future version. Call result.infer_objects(copy=False) instead. To opt-in to the future behavior, set `pd.set_option('future.no_silent_downcasting', True)`\n",
      "  prev_above = above.shift(1).fillna(False)\n",
      "/home/bhvignesh/trading_system/src/strategies/momentum/mcad_strat.py:103: FutureWarning: Downcasting object dtype arrays on .fillna, .ffill, .bfill is deprecated and will change in a future version. Call result.infer_objects(copy=False) instead. To opt-in to the future behavior, set `pd.set_option('future.no_silent_downcasting', True)`\n",
      "  prev_below = below.shift(1).fillna(False)\n",
      "/home/bhvignesh/trading_system/src/strategies/momentum/mcad_strat.py:114: FutureWarning: The 'method' keyword in Series.replace is deprecated and will be removed in a future version.\n",
      "  positions = signals.replace(0, method='ffill').fillna(0)\n"
     ]
    },
    {
     "name": "stdout",
     "output_type": "stream",
     "text": [
      "198\n"
     ]
    },
    {
     "name": "stderr",
     "output_type": "stream",
     "text": [
      "/home/bhvignesh/trading_system/src/strategies/momentum/mcad_strat.py:102: FutureWarning: Downcasting object dtype arrays on .fillna, .ffill, .bfill is deprecated and will change in a future version. Call result.infer_objects(copy=False) instead. To opt-in to the future behavior, set `pd.set_option('future.no_silent_downcasting', True)`\n",
      "  prev_above = above.shift(1).fillna(False)\n",
      "/home/bhvignesh/trading_system/src/strategies/momentum/mcad_strat.py:103: FutureWarning: Downcasting object dtype arrays on .fillna, .ffill, .bfill is deprecated and will change in a future version. Call result.infer_objects(copy=False) instead. To opt-in to the future behavior, set `pd.set_option('future.no_silent_downcasting', True)`\n",
      "  prev_below = below.shift(1).fillna(False)\n",
      "/home/bhvignesh/trading_system/src/strategies/momentum/mcad_strat.py:114: FutureWarning: The 'method' keyword in Series.replace is deprecated and will be removed in a future version.\n",
      "  positions = signals.replace(0, method='ffill').fillna(0)\n"
     ]
    },
    {
     "name": "stdout",
     "output_type": "stream",
     "text": [
      "199\n"
     ]
    },
    {
     "name": "stderr",
     "output_type": "stream",
     "text": [
      "/home/bhvignesh/trading_system/src/strategies/momentum/mcad_strat.py:102: FutureWarning: Downcasting object dtype arrays on .fillna, .ffill, .bfill is deprecated and will change in a future version. Call result.infer_objects(copy=False) instead. To opt-in to the future behavior, set `pd.set_option('future.no_silent_downcasting', True)`\n",
      "  prev_above = above.shift(1).fillna(False)\n",
      "/home/bhvignesh/trading_system/src/strategies/momentum/mcad_strat.py:103: FutureWarning: Downcasting object dtype arrays on .fillna, .ffill, .bfill is deprecated and will change in a future version. Call result.infer_objects(copy=False) instead. To opt-in to the future behavior, set `pd.set_option('future.no_silent_downcasting', True)`\n",
      "  prev_below = below.shift(1).fillna(False)\n",
      "/home/bhvignesh/trading_system/src/strategies/momentum/mcad_strat.py:114: FutureWarning: The 'method' keyword in Series.replace is deprecated and will be removed in a future version.\n",
      "  positions = signals.replace(0, method='ffill').fillna(0)\n"
     ]
    },
    {
     "name": "stdout",
     "output_type": "stream",
     "text": [
      "200\n"
     ]
    },
    {
     "name": "stderr",
     "output_type": "stream",
     "text": [
      "/home/bhvignesh/trading_system/src/strategies/momentum/mcad_strat.py:102: FutureWarning: Downcasting object dtype arrays on .fillna, .ffill, .bfill is deprecated and will change in a future version. Call result.infer_objects(copy=False) instead. To opt-in to the future behavior, set `pd.set_option('future.no_silent_downcasting', True)`\n",
      "  prev_above = above.shift(1).fillna(False)\n",
      "/home/bhvignesh/trading_system/src/strategies/momentum/mcad_strat.py:103: FutureWarning: Downcasting object dtype arrays on .fillna, .ffill, .bfill is deprecated and will change in a future version. Call result.infer_objects(copy=False) instead. To opt-in to the future behavior, set `pd.set_option('future.no_silent_downcasting', True)`\n",
      "  prev_below = below.shift(1).fillna(False)\n",
      "/home/bhvignesh/trading_system/src/strategies/momentum/mcad_strat.py:114: FutureWarning: The 'method' keyword in Series.replace is deprecated and will be removed in a future version.\n",
      "  positions = signals.replace(0, method='ffill').fillna(0)\n"
     ]
    },
    {
     "name": "stdout",
     "output_type": "stream",
     "text": [
      "201\n"
     ]
    },
    {
     "name": "stderr",
     "output_type": "stream",
     "text": [
      "/home/bhvignesh/trading_system/src/strategies/momentum/mcad_strat.py:102: FutureWarning: Downcasting object dtype arrays on .fillna, .ffill, .bfill is deprecated and will change in a future version. Call result.infer_objects(copy=False) instead. To opt-in to the future behavior, set `pd.set_option('future.no_silent_downcasting', True)`\n",
      "  prev_above = above.shift(1).fillna(False)\n",
      "/home/bhvignesh/trading_system/src/strategies/momentum/mcad_strat.py:103: FutureWarning: Downcasting object dtype arrays on .fillna, .ffill, .bfill is deprecated and will change in a future version. Call result.infer_objects(copy=False) instead. To opt-in to the future behavior, set `pd.set_option('future.no_silent_downcasting', True)`\n",
      "  prev_below = below.shift(1).fillna(False)\n",
      "/home/bhvignesh/trading_system/src/strategies/momentum/mcad_strat.py:114: FutureWarning: The 'method' keyword in Series.replace is deprecated and will be removed in a future version.\n",
      "  positions = signals.replace(0, method='ffill').fillna(0)\n"
     ]
    },
    {
     "name": "stdout",
     "output_type": "stream",
     "text": [
      "202\n"
     ]
    },
    {
     "name": "stderr",
     "output_type": "stream",
     "text": [
      "/home/bhvignesh/trading_system/src/strategies/momentum/mcad_strat.py:102: FutureWarning: Downcasting object dtype arrays on .fillna, .ffill, .bfill is deprecated and will change in a future version. Call result.infer_objects(copy=False) instead. To opt-in to the future behavior, set `pd.set_option('future.no_silent_downcasting', True)`\n",
      "  prev_above = above.shift(1).fillna(False)\n",
      "/home/bhvignesh/trading_system/src/strategies/momentum/mcad_strat.py:103: FutureWarning: Downcasting object dtype arrays on .fillna, .ffill, .bfill is deprecated and will change in a future version. Call result.infer_objects(copy=False) instead. To opt-in to the future behavior, set `pd.set_option('future.no_silent_downcasting', True)`\n",
      "  prev_below = below.shift(1).fillna(False)\n",
      "/home/bhvignesh/trading_system/src/strategies/momentum/mcad_strat.py:114: FutureWarning: The 'method' keyword in Series.replace is deprecated and will be removed in a future version.\n",
      "  positions = signals.replace(0, method='ffill').fillna(0)\n"
     ]
    },
    {
     "name": "stdout",
     "output_type": "stream",
     "text": [
      "203\n"
     ]
    },
    {
     "name": "stderr",
     "output_type": "stream",
     "text": [
      "/home/bhvignesh/trading_system/src/strategies/momentum/mcad_strat.py:102: FutureWarning: Downcasting object dtype arrays on .fillna, .ffill, .bfill is deprecated and will change in a future version. Call result.infer_objects(copy=False) instead. To opt-in to the future behavior, set `pd.set_option('future.no_silent_downcasting', True)`\n",
      "  prev_above = above.shift(1).fillna(False)\n",
      "/home/bhvignesh/trading_system/src/strategies/momentum/mcad_strat.py:103: FutureWarning: Downcasting object dtype arrays on .fillna, .ffill, .bfill is deprecated and will change in a future version. Call result.infer_objects(copy=False) instead. To opt-in to the future behavior, set `pd.set_option('future.no_silent_downcasting', True)`\n",
      "  prev_below = below.shift(1).fillna(False)\n",
      "/home/bhvignesh/trading_system/src/strategies/momentum/mcad_strat.py:114: FutureWarning: The 'method' keyword in Series.replace is deprecated and will be removed in a future version.\n",
      "  positions = signals.replace(0, method='ffill').fillna(0)\n"
     ]
    },
    {
     "name": "stdout",
     "output_type": "stream",
     "text": [
      "204\n"
     ]
    },
    {
     "name": "stderr",
     "output_type": "stream",
     "text": [
      "/home/bhvignesh/trading_system/src/strategies/momentum/mcad_strat.py:102: FutureWarning: Downcasting object dtype arrays on .fillna, .ffill, .bfill is deprecated and will change in a future version. Call result.infer_objects(copy=False) instead. To opt-in to the future behavior, set `pd.set_option('future.no_silent_downcasting', True)`\n",
      "  prev_above = above.shift(1).fillna(False)\n",
      "/home/bhvignesh/trading_system/src/strategies/momentum/mcad_strat.py:103: FutureWarning: Downcasting object dtype arrays on .fillna, .ffill, .bfill is deprecated and will change in a future version. Call result.infer_objects(copy=False) instead. To opt-in to the future behavior, set `pd.set_option('future.no_silent_downcasting', True)`\n",
      "  prev_below = below.shift(1).fillna(False)\n",
      "/home/bhvignesh/trading_system/src/strategies/momentum/mcad_strat.py:114: FutureWarning: The 'method' keyword in Series.replace is deprecated and will be removed in a future version.\n",
      "  positions = signals.replace(0, method='ffill').fillna(0)\n"
     ]
    },
    {
     "name": "stdout",
     "output_type": "stream",
     "text": [
      "205\n"
     ]
    },
    {
     "name": "stderr",
     "output_type": "stream",
     "text": [
      "/home/bhvignesh/trading_system/src/strategies/momentum/mcad_strat.py:102: FutureWarning: Downcasting object dtype arrays on .fillna, .ffill, .bfill is deprecated and will change in a future version. Call result.infer_objects(copy=False) instead. To opt-in to the future behavior, set `pd.set_option('future.no_silent_downcasting', True)`\n",
      "  prev_above = above.shift(1).fillna(False)\n",
      "/home/bhvignesh/trading_system/src/strategies/momentum/mcad_strat.py:103: FutureWarning: Downcasting object dtype arrays on .fillna, .ffill, .bfill is deprecated and will change in a future version. Call result.infer_objects(copy=False) instead. To opt-in to the future behavior, set `pd.set_option('future.no_silent_downcasting', True)`\n",
      "  prev_below = below.shift(1).fillna(False)\n",
      "/home/bhvignesh/trading_system/src/strategies/momentum/mcad_strat.py:114: FutureWarning: The 'method' keyword in Series.replace is deprecated and will be removed in a future version.\n",
      "  positions = signals.replace(0, method='ffill').fillna(0)\n"
     ]
    },
    {
     "name": "stdout",
     "output_type": "stream",
     "text": [
      "206\n"
     ]
    },
    {
     "name": "stderr",
     "output_type": "stream",
     "text": [
      "/home/bhvignesh/trading_system/src/strategies/momentum/mcad_strat.py:102: FutureWarning: Downcasting object dtype arrays on .fillna, .ffill, .bfill is deprecated and will change in a future version. Call result.infer_objects(copy=False) instead. To opt-in to the future behavior, set `pd.set_option('future.no_silent_downcasting', True)`\n",
      "  prev_above = above.shift(1).fillna(False)\n",
      "/home/bhvignesh/trading_system/src/strategies/momentum/mcad_strat.py:103: FutureWarning: Downcasting object dtype arrays on .fillna, .ffill, .bfill is deprecated and will change in a future version. Call result.infer_objects(copy=False) instead. To opt-in to the future behavior, set `pd.set_option('future.no_silent_downcasting', True)`\n",
      "  prev_below = below.shift(1).fillna(False)\n",
      "/home/bhvignesh/trading_system/src/strategies/momentum/mcad_strat.py:114: FutureWarning: The 'method' keyword in Series.replace is deprecated and will be removed in a future version.\n",
      "  positions = signals.replace(0, method='ffill').fillna(0)\n"
     ]
    },
    {
     "name": "stdout",
     "output_type": "stream",
     "text": [
      "207\n"
     ]
    },
    {
     "name": "stderr",
     "output_type": "stream",
     "text": [
      "/home/bhvignesh/trading_system/src/strategies/momentum/mcad_strat.py:102: FutureWarning: Downcasting object dtype arrays on .fillna, .ffill, .bfill is deprecated and will change in a future version. Call result.infer_objects(copy=False) instead. To opt-in to the future behavior, set `pd.set_option('future.no_silent_downcasting', True)`\n",
      "  prev_above = above.shift(1).fillna(False)\n",
      "/home/bhvignesh/trading_system/src/strategies/momentum/mcad_strat.py:103: FutureWarning: Downcasting object dtype arrays on .fillna, .ffill, .bfill is deprecated and will change in a future version. Call result.infer_objects(copy=False) instead. To opt-in to the future behavior, set `pd.set_option('future.no_silent_downcasting', True)`\n",
      "  prev_below = below.shift(1).fillna(False)\n",
      "/home/bhvignesh/trading_system/src/strategies/momentum/mcad_strat.py:114: FutureWarning: The 'method' keyword in Series.replace is deprecated and will be removed in a future version.\n",
      "  positions = signals.replace(0, method='ffill').fillna(0)\n"
     ]
    },
    {
     "name": "stdout",
     "output_type": "stream",
     "text": [
      "208\n"
     ]
    },
    {
     "name": "stderr",
     "output_type": "stream",
     "text": [
      "/home/bhvignesh/trading_system/src/strategies/momentum/mcad_strat.py:102: FutureWarning: Downcasting object dtype arrays on .fillna, .ffill, .bfill is deprecated and will change in a future version. Call result.infer_objects(copy=False) instead. To opt-in to the future behavior, set `pd.set_option('future.no_silent_downcasting', True)`\n",
      "  prev_above = above.shift(1).fillna(False)\n",
      "/home/bhvignesh/trading_system/src/strategies/momentum/mcad_strat.py:103: FutureWarning: Downcasting object dtype arrays on .fillna, .ffill, .bfill is deprecated and will change in a future version. Call result.infer_objects(copy=False) instead. To opt-in to the future behavior, set `pd.set_option('future.no_silent_downcasting', True)`\n",
      "  prev_below = below.shift(1).fillna(False)\n",
      "/home/bhvignesh/trading_system/src/strategies/momentum/mcad_strat.py:114: FutureWarning: The 'method' keyword in Series.replace is deprecated and will be removed in a future version.\n",
      "  positions = signals.replace(0, method='ffill').fillna(0)\n"
     ]
    },
    {
     "name": "stdout",
     "output_type": "stream",
     "text": [
      "209\n"
     ]
    },
    {
     "name": "stderr",
     "output_type": "stream",
     "text": [
      "/home/bhvignesh/trading_system/src/strategies/momentum/mcad_strat.py:102: FutureWarning: Downcasting object dtype arrays on .fillna, .ffill, .bfill is deprecated and will change in a future version. Call result.infer_objects(copy=False) instead. To opt-in to the future behavior, set `pd.set_option('future.no_silent_downcasting', True)`\n",
      "  prev_above = above.shift(1).fillna(False)\n",
      "/home/bhvignesh/trading_system/src/strategies/momentum/mcad_strat.py:103: FutureWarning: Downcasting object dtype arrays on .fillna, .ffill, .bfill is deprecated and will change in a future version. Call result.infer_objects(copy=False) instead. To opt-in to the future behavior, set `pd.set_option('future.no_silent_downcasting', True)`\n",
      "  prev_below = below.shift(1).fillna(False)\n",
      "/home/bhvignesh/trading_system/src/strategies/momentum/mcad_strat.py:114: FutureWarning: The 'method' keyword in Series.replace is deprecated and will be removed in a future version.\n",
      "  positions = signals.replace(0, method='ffill').fillna(0)\n"
     ]
    },
    {
     "name": "stdout",
     "output_type": "stream",
     "text": [
      "210\n"
     ]
    },
    {
     "name": "stderr",
     "output_type": "stream",
     "text": [
      "/home/bhvignesh/trading_system/src/strategies/momentum/mcad_strat.py:102: FutureWarning: Downcasting object dtype arrays on .fillna, .ffill, .bfill is deprecated and will change in a future version. Call result.infer_objects(copy=False) instead. To opt-in to the future behavior, set `pd.set_option('future.no_silent_downcasting', True)`\n",
      "  prev_above = above.shift(1).fillna(False)\n",
      "/home/bhvignesh/trading_system/src/strategies/momentum/mcad_strat.py:103: FutureWarning: Downcasting object dtype arrays on .fillna, .ffill, .bfill is deprecated and will change in a future version. Call result.infer_objects(copy=False) instead. To opt-in to the future behavior, set `pd.set_option('future.no_silent_downcasting', True)`\n",
      "  prev_below = below.shift(1).fillna(False)\n",
      "/home/bhvignesh/trading_system/src/strategies/momentum/mcad_strat.py:114: FutureWarning: The 'method' keyword in Series.replace is deprecated and will be removed in a future version.\n",
      "  positions = signals.replace(0, method='ffill').fillna(0)\n"
     ]
    },
    {
     "name": "stdout",
     "output_type": "stream",
     "text": [
      "211\n"
     ]
    },
    {
     "name": "stderr",
     "output_type": "stream",
     "text": [
      "/home/bhvignesh/trading_system/src/strategies/momentum/mcad_strat.py:102: FutureWarning: Downcasting object dtype arrays on .fillna, .ffill, .bfill is deprecated and will change in a future version. Call result.infer_objects(copy=False) instead. To opt-in to the future behavior, set `pd.set_option('future.no_silent_downcasting', True)`\n",
      "  prev_above = above.shift(1).fillna(False)\n",
      "/home/bhvignesh/trading_system/src/strategies/momentum/mcad_strat.py:103: FutureWarning: Downcasting object dtype arrays on .fillna, .ffill, .bfill is deprecated and will change in a future version. Call result.infer_objects(copy=False) instead. To opt-in to the future behavior, set `pd.set_option('future.no_silent_downcasting', True)`\n",
      "  prev_below = below.shift(1).fillna(False)\n",
      "/home/bhvignesh/trading_system/src/strategies/momentum/mcad_strat.py:114: FutureWarning: The 'method' keyword in Series.replace is deprecated and will be removed in a future version.\n",
      "  positions = signals.replace(0, method='ffill').fillna(0)\n"
     ]
    },
    {
     "name": "stdout",
     "output_type": "stream",
     "text": [
      "212\n"
     ]
    },
    {
     "name": "stderr",
     "output_type": "stream",
     "text": [
      "/home/bhvignesh/trading_system/src/strategies/momentum/mcad_strat.py:102: FutureWarning: Downcasting object dtype arrays on .fillna, .ffill, .bfill is deprecated and will change in a future version. Call result.infer_objects(copy=False) instead. To opt-in to the future behavior, set `pd.set_option('future.no_silent_downcasting', True)`\n",
      "  prev_above = above.shift(1).fillna(False)\n",
      "/home/bhvignesh/trading_system/src/strategies/momentum/mcad_strat.py:103: FutureWarning: Downcasting object dtype arrays on .fillna, .ffill, .bfill is deprecated and will change in a future version. Call result.infer_objects(copy=False) instead. To opt-in to the future behavior, set `pd.set_option('future.no_silent_downcasting', True)`\n",
      "  prev_below = below.shift(1).fillna(False)\n",
      "/home/bhvignesh/trading_system/src/strategies/momentum/mcad_strat.py:114: FutureWarning: The 'method' keyword in Series.replace is deprecated and will be removed in a future version.\n",
      "  positions = signals.replace(0, method='ffill').fillna(0)\n"
     ]
    },
    {
     "name": "stdout",
     "output_type": "stream",
     "text": [
      "213\n"
     ]
    },
    {
     "name": "stderr",
     "output_type": "stream",
     "text": [
      "/home/bhvignesh/trading_system/src/strategies/momentum/mcad_strat.py:102: FutureWarning: Downcasting object dtype arrays on .fillna, .ffill, .bfill is deprecated and will change in a future version. Call result.infer_objects(copy=False) instead. To opt-in to the future behavior, set `pd.set_option('future.no_silent_downcasting', True)`\n",
      "  prev_above = above.shift(1).fillna(False)\n",
      "/home/bhvignesh/trading_system/src/strategies/momentum/mcad_strat.py:103: FutureWarning: Downcasting object dtype arrays on .fillna, .ffill, .bfill is deprecated and will change in a future version. Call result.infer_objects(copy=False) instead. To opt-in to the future behavior, set `pd.set_option('future.no_silent_downcasting', True)`\n",
      "  prev_below = below.shift(1).fillna(False)\n",
      "/home/bhvignesh/trading_system/src/strategies/momentum/mcad_strat.py:114: FutureWarning: The 'method' keyword in Series.replace is deprecated and will be removed in a future version.\n",
      "  positions = signals.replace(0, method='ffill').fillna(0)\n"
     ]
    },
    {
     "name": "stdout",
     "output_type": "stream",
     "text": [
      "214\n"
     ]
    },
    {
     "name": "stderr",
     "output_type": "stream",
     "text": [
      "/home/bhvignesh/trading_system/src/strategies/momentum/mcad_strat.py:102: FutureWarning: Downcasting object dtype arrays on .fillna, .ffill, .bfill is deprecated and will change in a future version. Call result.infer_objects(copy=False) instead. To opt-in to the future behavior, set `pd.set_option('future.no_silent_downcasting', True)`\n",
      "  prev_above = above.shift(1).fillna(False)\n",
      "/home/bhvignesh/trading_system/src/strategies/momentum/mcad_strat.py:103: FutureWarning: Downcasting object dtype arrays on .fillna, .ffill, .bfill is deprecated and will change in a future version. Call result.infer_objects(copy=False) instead. To opt-in to the future behavior, set `pd.set_option('future.no_silent_downcasting', True)`\n",
      "  prev_below = below.shift(1).fillna(False)\n",
      "/home/bhvignesh/trading_system/src/strategies/momentum/mcad_strat.py:114: FutureWarning: The 'method' keyword in Series.replace is deprecated and will be removed in a future version.\n",
      "  positions = signals.replace(0, method='ffill').fillna(0)\n"
     ]
    },
    {
     "name": "stdout",
     "output_type": "stream",
     "text": [
      "215\n"
     ]
    },
    {
     "name": "stderr",
     "output_type": "stream",
     "text": [
      "/home/bhvignesh/trading_system/src/strategies/momentum/mcad_strat.py:102: FutureWarning: Downcasting object dtype arrays on .fillna, .ffill, .bfill is deprecated and will change in a future version. Call result.infer_objects(copy=False) instead. To opt-in to the future behavior, set `pd.set_option('future.no_silent_downcasting', True)`\n",
      "  prev_above = above.shift(1).fillna(False)\n",
      "/home/bhvignesh/trading_system/src/strategies/momentum/mcad_strat.py:103: FutureWarning: Downcasting object dtype arrays on .fillna, .ffill, .bfill is deprecated and will change in a future version. Call result.infer_objects(copy=False) instead. To opt-in to the future behavior, set `pd.set_option('future.no_silent_downcasting', True)`\n",
      "  prev_below = below.shift(1).fillna(False)\n",
      "/home/bhvignesh/trading_system/src/strategies/momentum/mcad_strat.py:114: FutureWarning: The 'method' keyword in Series.replace is deprecated and will be removed in a future version.\n",
      "  positions = signals.replace(0, method='ffill').fillna(0)\n"
     ]
    },
    {
     "name": "stdout",
     "output_type": "stream",
     "text": [
      "216\n"
     ]
    },
    {
     "name": "stderr",
     "output_type": "stream",
     "text": [
      "/home/bhvignesh/trading_system/src/strategies/momentum/mcad_strat.py:102: FutureWarning: Downcasting object dtype arrays on .fillna, .ffill, .bfill is deprecated and will change in a future version. Call result.infer_objects(copy=False) instead. To opt-in to the future behavior, set `pd.set_option('future.no_silent_downcasting', True)`\n",
      "  prev_above = above.shift(1).fillna(False)\n",
      "/home/bhvignesh/trading_system/src/strategies/momentum/mcad_strat.py:103: FutureWarning: Downcasting object dtype arrays on .fillna, .ffill, .bfill is deprecated and will change in a future version. Call result.infer_objects(copy=False) instead. To opt-in to the future behavior, set `pd.set_option('future.no_silent_downcasting', True)`\n",
      "  prev_below = below.shift(1).fillna(False)\n",
      "/home/bhvignesh/trading_system/src/strategies/momentum/mcad_strat.py:114: FutureWarning: The 'method' keyword in Series.replace is deprecated and will be removed in a future version.\n",
      "  positions = signals.replace(0, method='ffill').fillna(0)\n"
     ]
    },
    {
     "name": "stdout",
     "output_type": "stream",
     "text": [
      "217\n"
     ]
    },
    {
     "name": "stderr",
     "output_type": "stream",
     "text": [
      "/home/bhvignesh/trading_system/src/strategies/momentum/mcad_strat.py:102: FutureWarning: Downcasting object dtype arrays on .fillna, .ffill, .bfill is deprecated and will change in a future version. Call result.infer_objects(copy=False) instead. To opt-in to the future behavior, set `pd.set_option('future.no_silent_downcasting', True)`\n",
      "  prev_above = above.shift(1).fillna(False)\n",
      "/home/bhvignesh/trading_system/src/strategies/momentum/mcad_strat.py:103: FutureWarning: Downcasting object dtype arrays on .fillna, .ffill, .bfill is deprecated and will change in a future version. Call result.infer_objects(copy=False) instead. To opt-in to the future behavior, set `pd.set_option('future.no_silent_downcasting', True)`\n",
      "  prev_below = below.shift(1).fillna(False)\n",
      "/home/bhvignesh/trading_system/src/strategies/momentum/mcad_strat.py:114: FutureWarning: The 'method' keyword in Series.replace is deprecated and will be removed in a future version.\n",
      "  positions = signals.replace(0, method='ffill').fillna(0)\n"
     ]
    },
    {
     "name": "stdout",
     "output_type": "stream",
     "text": [
      "218\n"
     ]
    },
    {
     "name": "stderr",
     "output_type": "stream",
     "text": [
      "/home/bhvignesh/trading_system/src/strategies/momentum/mcad_strat.py:102: FutureWarning: Downcasting object dtype arrays on .fillna, .ffill, .bfill is deprecated and will change in a future version. Call result.infer_objects(copy=False) instead. To opt-in to the future behavior, set `pd.set_option('future.no_silent_downcasting', True)`\n",
      "  prev_above = above.shift(1).fillna(False)\n",
      "/home/bhvignesh/trading_system/src/strategies/momentum/mcad_strat.py:103: FutureWarning: Downcasting object dtype arrays on .fillna, .ffill, .bfill is deprecated and will change in a future version. Call result.infer_objects(copy=False) instead. To opt-in to the future behavior, set `pd.set_option('future.no_silent_downcasting', True)`\n",
      "  prev_below = below.shift(1).fillna(False)\n",
      "/home/bhvignesh/trading_system/src/strategies/momentum/mcad_strat.py:114: FutureWarning: The 'method' keyword in Series.replace is deprecated and will be removed in a future version.\n",
      "  positions = signals.replace(0, method='ffill').fillna(0)\n"
     ]
    },
    {
     "name": "stdout",
     "output_type": "stream",
     "text": [
      "219\n"
     ]
    },
    {
     "name": "stderr",
     "output_type": "stream",
     "text": [
      "/home/bhvignesh/trading_system/src/strategies/momentum/mcad_strat.py:102: FutureWarning: Downcasting object dtype arrays on .fillna, .ffill, .bfill is deprecated and will change in a future version. Call result.infer_objects(copy=False) instead. To opt-in to the future behavior, set `pd.set_option('future.no_silent_downcasting', True)`\n",
      "  prev_above = above.shift(1).fillna(False)\n",
      "/home/bhvignesh/trading_system/src/strategies/momentum/mcad_strat.py:103: FutureWarning: Downcasting object dtype arrays on .fillna, .ffill, .bfill is deprecated and will change in a future version. Call result.infer_objects(copy=False) instead. To opt-in to the future behavior, set `pd.set_option('future.no_silent_downcasting', True)`\n",
      "  prev_below = below.shift(1).fillna(False)\n",
      "/home/bhvignesh/trading_system/src/strategies/momentum/mcad_strat.py:114: FutureWarning: The 'method' keyword in Series.replace is deprecated and will be removed in a future version.\n",
      "  positions = signals.replace(0, method='ffill').fillna(0)\n"
     ]
    },
    {
     "name": "stdout",
     "output_type": "stream",
     "text": [
      "220\n"
     ]
    },
    {
     "name": "stderr",
     "output_type": "stream",
     "text": [
      "/home/bhvignesh/trading_system/src/strategies/momentum/mcad_strat.py:102: FutureWarning: Downcasting object dtype arrays on .fillna, .ffill, .bfill is deprecated and will change in a future version. Call result.infer_objects(copy=False) instead. To opt-in to the future behavior, set `pd.set_option('future.no_silent_downcasting', True)`\n",
      "  prev_above = above.shift(1).fillna(False)\n",
      "/home/bhvignesh/trading_system/src/strategies/momentum/mcad_strat.py:103: FutureWarning: Downcasting object dtype arrays on .fillna, .ffill, .bfill is deprecated and will change in a future version. Call result.infer_objects(copy=False) instead. To opt-in to the future behavior, set `pd.set_option('future.no_silent_downcasting', True)`\n",
      "  prev_below = below.shift(1).fillna(False)\n",
      "/home/bhvignesh/trading_system/src/strategies/momentum/mcad_strat.py:114: FutureWarning: The 'method' keyword in Series.replace is deprecated and will be removed in a future version.\n",
      "  positions = signals.replace(0, method='ffill').fillna(0)\n"
     ]
    },
    {
     "name": "stdout",
     "output_type": "stream",
     "text": [
      "221\n"
     ]
    },
    {
     "name": "stderr",
     "output_type": "stream",
     "text": [
      "/home/bhvignesh/trading_system/src/strategies/momentum/mcad_strat.py:102: FutureWarning: Downcasting object dtype arrays on .fillna, .ffill, .bfill is deprecated and will change in a future version. Call result.infer_objects(copy=False) instead. To opt-in to the future behavior, set `pd.set_option('future.no_silent_downcasting', True)`\n",
      "  prev_above = above.shift(1).fillna(False)\n",
      "/home/bhvignesh/trading_system/src/strategies/momentum/mcad_strat.py:103: FutureWarning: Downcasting object dtype arrays on .fillna, .ffill, .bfill is deprecated and will change in a future version. Call result.infer_objects(copy=False) instead. To opt-in to the future behavior, set `pd.set_option('future.no_silent_downcasting', True)`\n",
      "  prev_below = below.shift(1).fillna(False)\n",
      "/home/bhvignesh/trading_system/src/strategies/momentum/mcad_strat.py:114: FutureWarning: The 'method' keyword in Series.replace is deprecated and will be removed in a future version.\n",
      "  positions = signals.replace(0, method='ffill').fillna(0)\n"
     ]
    },
    {
     "name": "stdout",
     "output_type": "stream",
     "text": [
      "222\n"
     ]
    },
    {
     "name": "stderr",
     "output_type": "stream",
     "text": [
      "/home/bhvignesh/trading_system/src/strategies/momentum/mcad_strat.py:102: FutureWarning: Downcasting object dtype arrays on .fillna, .ffill, .bfill is deprecated and will change in a future version. Call result.infer_objects(copy=False) instead. To opt-in to the future behavior, set `pd.set_option('future.no_silent_downcasting', True)`\n",
      "  prev_above = above.shift(1).fillna(False)\n",
      "/home/bhvignesh/trading_system/src/strategies/momentum/mcad_strat.py:103: FutureWarning: Downcasting object dtype arrays on .fillna, .ffill, .bfill is deprecated and will change in a future version. Call result.infer_objects(copy=False) instead. To opt-in to the future behavior, set `pd.set_option('future.no_silent_downcasting', True)`\n",
      "  prev_below = below.shift(1).fillna(False)\n",
      "/home/bhvignesh/trading_system/src/strategies/momentum/mcad_strat.py:114: FutureWarning: The 'method' keyword in Series.replace is deprecated and will be removed in a future version.\n",
      "  positions = signals.replace(0, method='ffill').fillna(0)\n"
     ]
    },
    {
     "name": "stdout",
     "output_type": "stream",
     "text": [
      "223\n"
     ]
    },
    {
     "name": "stderr",
     "output_type": "stream",
     "text": [
      "/home/bhvignesh/trading_system/src/strategies/momentum/mcad_strat.py:102: FutureWarning: Downcasting object dtype arrays on .fillna, .ffill, .bfill is deprecated and will change in a future version. Call result.infer_objects(copy=False) instead. To opt-in to the future behavior, set `pd.set_option('future.no_silent_downcasting', True)`\n",
      "  prev_above = above.shift(1).fillna(False)\n",
      "/home/bhvignesh/trading_system/src/strategies/momentum/mcad_strat.py:103: FutureWarning: Downcasting object dtype arrays on .fillna, .ffill, .bfill is deprecated and will change in a future version. Call result.infer_objects(copy=False) instead. To opt-in to the future behavior, set `pd.set_option('future.no_silent_downcasting', True)`\n",
      "  prev_below = below.shift(1).fillna(False)\n",
      "/home/bhvignesh/trading_system/src/strategies/momentum/mcad_strat.py:114: FutureWarning: The 'method' keyword in Series.replace is deprecated and will be removed in a future version.\n",
      "  positions = signals.replace(0, method='ffill').fillna(0)\n"
     ]
    },
    {
     "name": "stdout",
     "output_type": "stream",
     "text": [
      "224\n"
     ]
    },
    {
     "name": "stderr",
     "output_type": "stream",
     "text": [
      "/home/bhvignesh/trading_system/src/strategies/momentum/mcad_strat.py:102: FutureWarning: Downcasting object dtype arrays on .fillna, .ffill, .bfill is deprecated and will change in a future version. Call result.infer_objects(copy=False) instead. To opt-in to the future behavior, set `pd.set_option('future.no_silent_downcasting', True)`\n",
      "  prev_above = above.shift(1).fillna(False)\n",
      "/home/bhvignesh/trading_system/src/strategies/momentum/mcad_strat.py:103: FutureWarning: Downcasting object dtype arrays on .fillna, .ffill, .bfill is deprecated and will change in a future version. Call result.infer_objects(copy=False) instead. To opt-in to the future behavior, set `pd.set_option('future.no_silent_downcasting', True)`\n",
      "  prev_below = below.shift(1).fillna(False)\n",
      "/home/bhvignesh/trading_system/src/strategies/momentum/mcad_strat.py:114: FutureWarning: The 'method' keyword in Series.replace is deprecated and will be removed in a future version.\n",
      "  positions = signals.replace(0, method='ffill').fillna(0)\n"
     ]
    },
    {
     "name": "stdout",
     "output_type": "stream",
     "text": [
      "225\n"
     ]
    },
    {
     "name": "stderr",
     "output_type": "stream",
     "text": [
      "/home/bhvignesh/trading_system/src/strategies/momentum/mcad_strat.py:102: FutureWarning: Downcasting object dtype arrays on .fillna, .ffill, .bfill is deprecated and will change in a future version. Call result.infer_objects(copy=False) instead. To opt-in to the future behavior, set `pd.set_option('future.no_silent_downcasting', True)`\n",
      "  prev_above = above.shift(1).fillna(False)\n",
      "/home/bhvignesh/trading_system/src/strategies/momentum/mcad_strat.py:103: FutureWarning: Downcasting object dtype arrays on .fillna, .ffill, .bfill is deprecated and will change in a future version. Call result.infer_objects(copy=False) instead. To opt-in to the future behavior, set `pd.set_option('future.no_silent_downcasting', True)`\n",
      "  prev_below = below.shift(1).fillna(False)\n",
      "/home/bhvignesh/trading_system/src/strategies/momentum/mcad_strat.py:114: FutureWarning: The 'method' keyword in Series.replace is deprecated and will be removed in a future version.\n",
      "  positions = signals.replace(0, method='ffill').fillna(0)\n"
     ]
    },
    {
     "name": "stdout",
     "output_type": "stream",
     "text": [
      "226\n"
     ]
    },
    {
     "name": "stderr",
     "output_type": "stream",
     "text": [
      "/home/bhvignesh/trading_system/src/strategies/momentum/mcad_strat.py:102: FutureWarning: Downcasting object dtype arrays on .fillna, .ffill, .bfill is deprecated and will change in a future version. Call result.infer_objects(copy=False) instead. To opt-in to the future behavior, set `pd.set_option('future.no_silent_downcasting', True)`\n",
      "  prev_above = above.shift(1).fillna(False)\n",
      "/home/bhvignesh/trading_system/src/strategies/momentum/mcad_strat.py:103: FutureWarning: Downcasting object dtype arrays on .fillna, .ffill, .bfill is deprecated and will change in a future version. Call result.infer_objects(copy=False) instead. To opt-in to the future behavior, set `pd.set_option('future.no_silent_downcasting', True)`\n",
      "  prev_below = below.shift(1).fillna(False)\n",
      "/home/bhvignesh/trading_system/src/strategies/momentum/mcad_strat.py:114: FutureWarning: The 'method' keyword in Series.replace is deprecated and will be removed in a future version.\n",
      "  positions = signals.replace(0, method='ffill').fillna(0)\n"
     ]
    },
    {
     "name": "stdout",
     "output_type": "stream",
     "text": [
      "227\n"
     ]
    },
    {
     "name": "stderr",
     "output_type": "stream",
     "text": [
      "/home/bhvignesh/trading_system/src/strategies/momentum/mcad_strat.py:102: FutureWarning: Downcasting object dtype arrays on .fillna, .ffill, .bfill is deprecated and will change in a future version. Call result.infer_objects(copy=False) instead. To opt-in to the future behavior, set `pd.set_option('future.no_silent_downcasting', True)`\n",
      "  prev_above = above.shift(1).fillna(False)\n",
      "/home/bhvignesh/trading_system/src/strategies/momentum/mcad_strat.py:103: FutureWarning: Downcasting object dtype arrays on .fillna, .ffill, .bfill is deprecated and will change in a future version. Call result.infer_objects(copy=False) instead. To opt-in to the future behavior, set `pd.set_option('future.no_silent_downcasting', True)`\n",
      "  prev_below = below.shift(1).fillna(False)\n",
      "/home/bhvignesh/trading_system/src/strategies/momentum/mcad_strat.py:114: FutureWarning: The 'method' keyword in Series.replace is deprecated and will be removed in a future version.\n",
      "  positions = signals.replace(0, method='ffill').fillna(0)\n"
     ]
    },
    {
     "name": "stdout",
     "output_type": "stream",
     "text": [
      "228\n"
     ]
    },
    {
     "name": "stderr",
     "output_type": "stream",
     "text": [
      "/home/bhvignesh/trading_system/src/strategies/momentum/mcad_strat.py:102: FutureWarning: Downcasting object dtype arrays on .fillna, .ffill, .bfill is deprecated and will change in a future version. Call result.infer_objects(copy=False) instead. To opt-in to the future behavior, set `pd.set_option('future.no_silent_downcasting', True)`\n",
      "  prev_above = above.shift(1).fillna(False)\n",
      "/home/bhvignesh/trading_system/src/strategies/momentum/mcad_strat.py:103: FutureWarning: Downcasting object dtype arrays on .fillna, .ffill, .bfill is deprecated and will change in a future version. Call result.infer_objects(copy=False) instead. To opt-in to the future behavior, set `pd.set_option('future.no_silent_downcasting', True)`\n",
      "  prev_below = below.shift(1).fillna(False)\n",
      "/home/bhvignesh/trading_system/src/strategies/momentum/mcad_strat.py:114: FutureWarning: The 'method' keyword in Series.replace is deprecated and will be removed in a future version.\n",
      "  positions = signals.replace(0, method='ffill').fillna(0)\n"
     ]
    },
    {
     "name": "stdout",
     "output_type": "stream",
     "text": [
      "229\n"
     ]
    },
    {
     "name": "stderr",
     "output_type": "stream",
     "text": [
      "/home/bhvignesh/trading_system/src/strategies/momentum/mcad_strat.py:102: FutureWarning: Downcasting object dtype arrays on .fillna, .ffill, .bfill is deprecated and will change in a future version. Call result.infer_objects(copy=False) instead. To opt-in to the future behavior, set `pd.set_option('future.no_silent_downcasting', True)`\n",
      "  prev_above = above.shift(1).fillna(False)\n",
      "/home/bhvignesh/trading_system/src/strategies/momentum/mcad_strat.py:103: FutureWarning: Downcasting object dtype arrays on .fillna, .ffill, .bfill is deprecated and will change in a future version. Call result.infer_objects(copy=False) instead. To opt-in to the future behavior, set `pd.set_option('future.no_silent_downcasting', True)`\n",
      "  prev_below = below.shift(1).fillna(False)\n",
      "/home/bhvignesh/trading_system/src/strategies/momentum/mcad_strat.py:114: FutureWarning: The 'method' keyword in Series.replace is deprecated and will be removed in a future version.\n",
      "  positions = signals.replace(0, method='ffill').fillna(0)\n"
     ]
    },
    {
     "name": "stdout",
     "output_type": "stream",
     "text": [
      "230\n"
     ]
    },
    {
     "name": "stderr",
     "output_type": "stream",
     "text": [
      "/home/bhvignesh/trading_system/src/strategies/momentum/mcad_strat.py:102: FutureWarning: Downcasting object dtype arrays on .fillna, .ffill, .bfill is deprecated and will change in a future version. Call result.infer_objects(copy=False) instead. To opt-in to the future behavior, set `pd.set_option('future.no_silent_downcasting', True)`\n",
      "  prev_above = above.shift(1).fillna(False)\n",
      "/home/bhvignesh/trading_system/src/strategies/momentum/mcad_strat.py:103: FutureWarning: Downcasting object dtype arrays on .fillna, .ffill, .bfill is deprecated and will change in a future version. Call result.infer_objects(copy=False) instead. To opt-in to the future behavior, set `pd.set_option('future.no_silent_downcasting', True)`\n",
      "  prev_below = below.shift(1).fillna(False)\n",
      "/home/bhvignesh/trading_system/src/strategies/momentum/mcad_strat.py:114: FutureWarning: The 'method' keyword in Series.replace is deprecated and will be removed in a future version.\n",
      "  positions = signals.replace(0, method='ffill').fillna(0)\n"
     ]
    },
    {
     "name": "stdout",
     "output_type": "stream",
     "text": [
      "231\n"
     ]
    },
    {
     "name": "stderr",
     "output_type": "stream",
     "text": [
      "/home/bhvignesh/trading_system/src/strategies/momentum/mcad_strat.py:102: FutureWarning: Downcasting object dtype arrays on .fillna, .ffill, .bfill is deprecated and will change in a future version. Call result.infer_objects(copy=False) instead. To opt-in to the future behavior, set `pd.set_option('future.no_silent_downcasting', True)`\n",
      "  prev_above = above.shift(1).fillna(False)\n",
      "/home/bhvignesh/trading_system/src/strategies/momentum/mcad_strat.py:103: FutureWarning: Downcasting object dtype arrays on .fillna, .ffill, .bfill is deprecated and will change in a future version. Call result.infer_objects(copy=False) instead. To opt-in to the future behavior, set `pd.set_option('future.no_silent_downcasting', True)`\n",
      "  prev_below = below.shift(1).fillna(False)\n",
      "/home/bhvignesh/trading_system/src/strategies/momentum/mcad_strat.py:114: FutureWarning: The 'method' keyword in Series.replace is deprecated and will be removed in a future version.\n",
      "  positions = signals.replace(0, method='ffill').fillna(0)\n"
     ]
    },
    {
     "name": "stdout",
     "output_type": "stream",
     "text": [
      "232\n"
     ]
    },
    {
     "name": "stderr",
     "output_type": "stream",
     "text": [
      "/home/bhvignesh/trading_system/src/strategies/momentum/mcad_strat.py:102: FutureWarning: Downcasting object dtype arrays on .fillna, .ffill, .bfill is deprecated and will change in a future version. Call result.infer_objects(copy=False) instead. To opt-in to the future behavior, set `pd.set_option('future.no_silent_downcasting', True)`\n",
      "  prev_above = above.shift(1).fillna(False)\n",
      "/home/bhvignesh/trading_system/src/strategies/momentum/mcad_strat.py:103: FutureWarning: Downcasting object dtype arrays on .fillna, .ffill, .bfill is deprecated and will change in a future version. Call result.infer_objects(copy=False) instead. To opt-in to the future behavior, set `pd.set_option('future.no_silent_downcasting', True)`\n",
      "  prev_below = below.shift(1).fillna(False)\n",
      "/home/bhvignesh/trading_system/src/strategies/momentum/mcad_strat.py:114: FutureWarning: The 'method' keyword in Series.replace is deprecated and will be removed in a future version.\n",
      "  positions = signals.replace(0, method='ffill').fillna(0)\n"
     ]
    },
    {
     "name": "stdout",
     "output_type": "stream",
     "text": [
      "233\n"
     ]
    },
    {
     "name": "stderr",
     "output_type": "stream",
     "text": [
      "/home/bhvignesh/trading_system/src/strategies/momentum/mcad_strat.py:102: FutureWarning: Downcasting object dtype arrays on .fillna, .ffill, .bfill is deprecated and will change in a future version. Call result.infer_objects(copy=False) instead. To opt-in to the future behavior, set `pd.set_option('future.no_silent_downcasting', True)`\n",
      "  prev_above = above.shift(1).fillna(False)\n",
      "/home/bhvignesh/trading_system/src/strategies/momentum/mcad_strat.py:103: FutureWarning: Downcasting object dtype arrays on .fillna, .ffill, .bfill is deprecated and will change in a future version. Call result.infer_objects(copy=False) instead. To opt-in to the future behavior, set `pd.set_option('future.no_silent_downcasting', True)`\n",
      "  prev_below = below.shift(1).fillna(False)\n",
      "/home/bhvignesh/trading_system/src/strategies/momentum/mcad_strat.py:114: FutureWarning: The 'method' keyword in Series.replace is deprecated and will be removed in a future version.\n",
      "  positions = signals.replace(0, method='ffill').fillna(0)\n"
     ]
    },
    {
     "name": "stdout",
     "output_type": "stream",
     "text": [
      "234\n"
     ]
    },
    {
     "name": "stderr",
     "output_type": "stream",
     "text": [
      "/home/bhvignesh/trading_system/src/strategies/momentum/mcad_strat.py:102: FutureWarning: Downcasting object dtype arrays on .fillna, .ffill, .bfill is deprecated and will change in a future version. Call result.infer_objects(copy=False) instead. To opt-in to the future behavior, set `pd.set_option('future.no_silent_downcasting', True)`\n",
      "  prev_above = above.shift(1).fillna(False)\n",
      "/home/bhvignesh/trading_system/src/strategies/momentum/mcad_strat.py:103: FutureWarning: Downcasting object dtype arrays on .fillna, .ffill, .bfill is deprecated and will change in a future version. Call result.infer_objects(copy=False) instead. To opt-in to the future behavior, set `pd.set_option('future.no_silent_downcasting', True)`\n",
      "  prev_below = below.shift(1).fillna(False)\n",
      "/home/bhvignesh/trading_system/src/strategies/momentum/mcad_strat.py:114: FutureWarning: The 'method' keyword in Series.replace is deprecated and will be removed in a future version.\n",
      "  positions = signals.replace(0, method='ffill').fillna(0)\n"
     ]
    },
    {
     "name": "stdout",
     "output_type": "stream",
     "text": [
      "235\n"
     ]
    },
    {
     "name": "stderr",
     "output_type": "stream",
     "text": [
      "/home/bhvignesh/trading_system/src/strategies/momentum/mcad_strat.py:102: FutureWarning: Downcasting object dtype arrays on .fillna, .ffill, .bfill is deprecated and will change in a future version. Call result.infer_objects(copy=False) instead. To opt-in to the future behavior, set `pd.set_option('future.no_silent_downcasting', True)`\n",
      "  prev_above = above.shift(1).fillna(False)\n",
      "/home/bhvignesh/trading_system/src/strategies/momentum/mcad_strat.py:103: FutureWarning: Downcasting object dtype arrays on .fillna, .ffill, .bfill is deprecated and will change in a future version. Call result.infer_objects(copy=False) instead. To opt-in to the future behavior, set `pd.set_option('future.no_silent_downcasting', True)`\n",
      "  prev_below = below.shift(1).fillna(False)\n",
      "/home/bhvignesh/trading_system/src/strategies/momentum/mcad_strat.py:114: FutureWarning: The 'method' keyword in Series.replace is deprecated and will be removed in a future version.\n",
      "  positions = signals.replace(0, method='ffill').fillna(0)\n"
     ]
    },
    {
     "name": "stdout",
     "output_type": "stream",
     "text": [
      "236\n"
     ]
    },
    {
     "name": "stderr",
     "output_type": "stream",
     "text": [
      "/home/bhvignesh/trading_system/src/strategies/momentum/mcad_strat.py:102: FutureWarning: Downcasting object dtype arrays on .fillna, .ffill, .bfill is deprecated and will change in a future version. Call result.infer_objects(copy=False) instead. To opt-in to the future behavior, set `pd.set_option('future.no_silent_downcasting', True)`\n",
      "  prev_above = above.shift(1).fillna(False)\n",
      "/home/bhvignesh/trading_system/src/strategies/momentum/mcad_strat.py:103: FutureWarning: Downcasting object dtype arrays on .fillna, .ffill, .bfill is deprecated and will change in a future version. Call result.infer_objects(copy=False) instead. To opt-in to the future behavior, set `pd.set_option('future.no_silent_downcasting', True)`\n",
      "  prev_below = below.shift(1).fillna(False)\n",
      "/home/bhvignesh/trading_system/src/strategies/momentum/mcad_strat.py:114: FutureWarning: The 'method' keyword in Series.replace is deprecated and will be removed in a future version.\n",
      "  positions = signals.replace(0, method='ffill').fillna(0)\n"
     ]
    },
    {
     "name": "stdout",
     "output_type": "stream",
     "text": [
      "237\n"
     ]
    },
    {
     "name": "stderr",
     "output_type": "stream",
     "text": [
      "/home/bhvignesh/trading_system/src/strategies/momentum/mcad_strat.py:102: FutureWarning: Downcasting object dtype arrays on .fillna, .ffill, .bfill is deprecated and will change in a future version. Call result.infer_objects(copy=False) instead. To opt-in to the future behavior, set `pd.set_option('future.no_silent_downcasting', True)`\n",
      "  prev_above = above.shift(1).fillna(False)\n",
      "/home/bhvignesh/trading_system/src/strategies/momentum/mcad_strat.py:103: FutureWarning: Downcasting object dtype arrays on .fillna, .ffill, .bfill is deprecated and will change in a future version. Call result.infer_objects(copy=False) instead. To opt-in to the future behavior, set `pd.set_option('future.no_silent_downcasting', True)`\n",
      "  prev_below = below.shift(1).fillna(False)\n",
      "/home/bhvignesh/trading_system/src/strategies/momentum/mcad_strat.py:114: FutureWarning: The 'method' keyword in Series.replace is deprecated and will be removed in a future version.\n",
      "  positions = signals.replace(0, method='ffill').fillna(0)\n"
     ]
    },
    {
     "name": "stdout",
     "output_type": "stream",
     "text": [
      "238\n"
     ]
    },
    {
     "name": "stderr",
     "output_type": "stream",
     "text": [
      "/home/bhvignesh/trading_system/src/strategies/momentum/mcad_strat.py:102: FutureWarning: Downcasting object dtype arrays on .fillna, .ffill, .bfill is deprecated and will change in a future version. Call result.infer_objects(copy=False) instead. To opt-in to the future behavior, set `pd.set_option('future.no_silent_downcasting', True)`\n",
      "  prev_above = above.shift(1).fillna(False)\n",
      "/home/bhvignesh/trading_system/src/strategies/momentum/mcad_strat.py:103: FutureWarning: Downcasting object dtype arrays on .fillna, .ffill, .bfill is deprecated and will change in a future version. Call result.infer_objects(copy=False) instead. To opt-in to the future behavior, set `pd.set_option('future.no_silent_downcasting', True)`\n",
      "  prev_below = below.shift(1).fillna(False)\n",
      "/home/bhvignesh/trading_system/src/strategies/momentum/mcad_strat.py:114: FutureWarning: The 'method' keyword in Series.replace is deprecated and will be removed in a future version.\n",
      "  positions = signals.replace(0, method='ffill').fillna(0)\n"
     ]
    },
    {
     "name": "stdout",
     "output_type": "stream",
     "text": [
      "239\n"
     ]
    },
    {
     "name": "stderr",
     "output_type": "stream",
     "text": [
      "/home/bhvignesh/trading_system/src/strategies/momentum/mcad_strat.py:102: FutureWarning: Downcasting object dtype arrays on .fillna, .ffill, .bfill is deprecated and will change in a future version. Call result.infer_objects(copy=False) instead. To opt-in to the future behavior, set `pd.set_option('future.no_silent_downcasting', True)`\n",
      "  prev_above = above.shift(1).fillna(False)\n",
      "/home/bhvignesh/trading_system/src/strategies/momentum/mcad_strat.py:103: FutureWarning: Downcasting object dtype arrays on .fillna, .ffill, .bfill is deprecated and will change in a future version. Call result.infer_objects(copy=False) instead. To opt-in to the future behavior, set `pd.set_option('future.no_silent_downcasting', True)`\n",
      "  prev_below = below.shift(1).fillna(False)\n",
      "/home/bhvignesh/trading_system/src/strategies/momentum/mcad_strat.py:114: FutureWarning: The 'method' keyword in Series.replace is deprecated and will be removed in a future version.\n",
      "  positions = signals.replace(0, method='ffill').fillna(0)\n"
     ]
    },
    {
     "name": "stdout",
     "output_type": "stream",
     "text": [
      "240\n"
     ]
    },
    {
     "name": "stderr",
     "output_type": "stream",
     "text": [
      "/home/bhvignesh/trading_system/src/strategies/momentum/mcad_strat.py:102: FutureWarning: Downcasting object dtype arrays on .fillna, .ffill, .bfill is deprecated and will change in a future version. Call result.infer_objects(copy=False) instead. To opt-in to the future behavior, set `pd.set_option('future.no_silent_downcasting', True)`\n",
      "  prev_above = above.shift(1).fillna(False)\n",
      "/home/bhvignesh/trading_system/src/strategies/momentum/mcad_strat.py:103: FutureWarning: Downcasting object dtype arrays on .fillna, .ffill, .bfill is deprecated and will change in a future version. Call result.infer_objects(copy=False) instead. To opt-in to the future behavior, set `pd.set_option('future.no_silent_downcasting', True)`\n",
      "  prev_below = below.shift(1).fillna(False)\n",
      "/home/bhvignesh/trading_system/src/strategies/momentum/mcad_strat.py:114: FutureWarning: The 'method' keyword in Series.replace is deprecated and will be removed in a future version.\n",
      "  positions = signals.replace(0, method='ffill').fillna(0)\n"
     ]
    },
    {
     "name": "stdout",
     "output_type": "stream",
     "text": [
      "241\n"
     ]
    },
    {
     "name": "stderr",
     "output_type": "stream",
     "text": [
      "/home/bhvignesh/trading_system/src/strategies/momentum/mcad_strat.py:102: FutureWarning: Downcasting object dtype arrays on .fillna, .ffill, .bfill is deprecated and will change in a future version. Call result.infer_objects(copy=False) instead. To opt-in to the future behavior, set `pd.set_option('future.no_silent_downcasting', True)`\n",
      "  prev_above = above.shift(1).fillna(False)\n",
      "/home/bhvignesh/trading_system/src/strategies/momentum/mcad_strat.py:103: FutureWarning: Downcasting object dtype arrays on .fillna, .ffill, .bfill is deprecated and will change in a future version. Call result.infer_objects(copy=False) instead. To opt-in to the future behavior, set `pd.set_option('future.no_silent_downcasting', True)`\n",
      "  prev_below = below.shift(1).fillna(False)\n",
      "/home/bhvignesh/trading_system/src/strategies/momentum/mcad_strat.py:114: FutureWarning: The 'method' keyword in Series.replace is deprecated and will be removed in a future version.\n",
      "  positions = signals.replace(0, method='ffill').fillna(0)\n"
     ]
    },
    {
     "name": "stdout",
     "output_type": "stream",
     "text": [
      "242\n"
     ]
    },
    {
     "name": "stderr",
     "output_type": "stream",
     "text": [
      "/home/bhvignesh/trading_system/src/strategies/momentum/mcad_strat.py:102: FutureWarning: Downcasting object dtype arrays on .fillna, .ffill, .bfill is deprecated and will change in a future version. Call result.infer_objects(copy=False) instead. To opt-in to the future behavior, set `pd.set_option('future.no_silent_downcasting', True)`\n",
      "  prev_above = above.shift(1).fillna(False)\n",
      "/home/bhvignesh/trading_system/src/strategies/momentum/mcad_strat.py:103: FutureWarning: Downcasting object dtype arrays on .fillna, .ffill, .bfill is deprecated and will change in a future version. Call result.infer_objects(copy=False) instead. To opt-in to the future behavior, set `pd.set_option('future.no_silent_downcasting', True)`\n",
      "  prev_below = below.shift(1).fillna(False)\n",
      "/home/bhvignesh/trading_system/src/strategies/momentum/mcad_strat.py:114: FutureWarning: The 'method' keyword in Series.replace is deprecated and will be removed in a future version.\n",
      "  positions = signals.replace(0, method='ffill').fillna(0)\n"
     ]
    },
    {
     "name": "stdout",
     "output_type": "stream",
     "text": [
      "243\n"
     ]
    },
    {
     "name": "stderr",
     "output_type": "stream",
     "text": [
      "/home/bhvignesh/trading_system/src/strategies/momentum/mcad_strat.py:102: FutureWarning: Downcasting object dtype arrays on .fillna, .ffill, .bfill is deprecated and will change in a future version. Call result.infer_objects(copy=False) instead. To opt-in to the future behavior, set `pd.set_option('future.no_silent_downcasting', True)`\n",
      "  prev_above = above.shift(1).fillna(False)\n",
      "/home/bhvignesh/trading_system/src/strategies/momentum/mcad_strat.py:103: FutureWarning: Downcasting object dtype arrays on .fillna, .ffill, .bfill is deprecated and will change in a future version. Call result.infer_objects(copy=False) instead. To opt-in to the future behavior, set `pd.set_option('future.no_silent_downcasting', True)`\n",
      "  prev_below = below.shift(1).fillna(False)\n",
      "/home/bhvignesh/trading_system/src/strategies/momentum/mcad_strat.py:114: FutureWarning: The 'method' keyword in Series.replace is deprecated and will be removed in a future version.\n",
      "  positions = signals.replace(0, method='ffill').fillna(0)\n"
     ]
    },
    {
     "name": "stdout",
     "output_type": "stream",
     "text": [
      "244\n"
     ]
    },
    {
     "name": "stderr",
     "output_type": "stream",
     "text": [
      "/home/bhvignesh/trading_system/src/strategies/momentum/mcad_strat.py:102: FutureWarning: Downcasting object dtype arrays on .fillna, .ffill, .bfill is deprecated and will change in a future version. Call result.infer_objects(copy=False) instead. To opt-in to the future behavior, set `pd.set_option('future.no_silent_downcasting', True)`\n",
      "  prev_above = above.shift(1).fillna(False)\n",
      "/home/bhvignesh/trading_system/src/strategies/momentum/mcad_strat.py:103: FutureWarning: Downcasting object dtype arrays on .fillna, .ffill, .bfill is deprecated and will change in a future version. Call result.infer_objects(copy=False) instead. To opt-in to the future behavior, set `pd.set_option('future.no_silent_downcasting', True)`\n",
      "  prev_below = below.shift(1).fillna(False)\n",
      "/home/bhvignesh/trading_system/src/strategies/momentum/mcad_strat.py:114: FutureWarning: The 'method' keyword in Series.replace is deprecated and will be removed in a future version.\n",
      "  positions = signals.replace(0, method='ffill').fillna(0)\n"
     ]
    },
    {
     "name": "stdout",
     "output_type": "stream",
     "text": [
      "245\n"
     ]
    },
    {
     "name": "stderr",
     "output_type": "stream",
     "text": [
      "/home/bhvignesh/trading_system/src/strategies/momentum/mcad_strat.py:102: FutureWarning: Downcasting object dtype arrays on .fillna, .ffill, .bfill is deprecated and will change in a future version. Call result.infer_objects(copy=False) instead. To opt-in to the future behavior, set `pd.set_option('future.no_silent_downcasting', True)`\n",
      "  prev_above = above.shift(1).fillna(False)\n",
      "/home/bhvignesh/trading_system/src/strategies/momentum/mcad_strat.py:103: FutureWarning: Downcasting object dtype arrays on .fillna, .ffill, .bfill is deprecated and will change in a future version. Call result.infer_objects(copy=False) instead. To opt-in to the future behavior, set `pd.set_option('future.no_silent_downcasting', True)`\n",
      "  prev_below = below.shift(1).fillna(False)\n",
      "/home/bhvignesh/trading_system/src/strategies/momentum/mcad_strat.py:114: FutureWarning: The 'method' keyword in Series.replace is deprecated and will be removed in a future version.\n",
      "  positions = signals.replace(0, method='ffill').fillna(0)\n"
     ]
    },
    {
     "name": "stdout",
     "output_type": "stream",
     "text": [
      "246\n"
     ]
    },
    {
     "name": "stderr",
     "output_type": "stream",
     "text": [
      "/home/bhvignesh/trading_system/src/strategies/momentum/mcad_strat.py:102: FutureWarning: Downcasting object dtype arrays on .fillna, .ffill, .bfill is deprecated and will change in a future version. Call result.infer_objects(copy=False) instead. To opt-in to the future behavior, set `pd.set_option('future.no_silent_downcasting', True)`\n",
      "  prev_above = above.shift(1).fillna(False)\n",
      "/home/bhvignesh/trading_system/src/strategies/momentum/mcad_strat.py:103: FutureWarning: Downcasting object dtype arrays on .fillna, .ffill, .bfill is deprecated and will change in a future version. Call result.infer_objects(copy=False) instead. To opt-in to the future behavior, set `pd.set_option('future.no_silent_downcasting', True)`\n",
      "  prev_below = below.shift(1).fillna(False)\n",
      "/home/bhvignesh/trading_system/src/strategies/momentum/mcad_strat.py:114: FutureWarning: The 'method' keyword in Series.replace is deprecated and will be removed in a future version.\n",
      "  positions = signals.replace(0, method='ffill').fillna(0)\n"
     ]
    },
    {
     "name": "stdout",
     "output_type": "stream",
     "text": [
      "247\n"
     ]
    },
    {
     "name": "stderr",
     "output_type": "stream",
     "text": [
      "/home/bhvignesh/trading_system/src/strategies/momentum/mcad_strat.py:102: FutureWarning: Downcasting object dtype arrays on .fillna, .ffill, .bfill is deprecated and will change in a future version. Call result.infer_objects(copy=False) instead. To opt-in to the future behavior, set `pd.set_option('future.no_silent_downcasting', True)`\n",
      "  prev_above = above.shift(1).fillna(False)\n",
      "/home/bhvignesh/trading_system/src/strategies/momentum/mcad_strat.py:103: FutureWarning: Downcasting object dtype arrays on .fillna, .ffill, .bfill is deprecated and will change in a future version. Call result.infer_objects(copy=False) instead. To opt-in to the future behavior, set `pd.set_option('future.no_silent_downcasting', True)`\n",
      "  prev_below = below.shift(1).fillna(False)\n",
      "/home/bhvignesh/trading_system/src/strategies/momentum/mcad_strat.py:114: FutureWarning: The 'method' keyword in Series.replace is deprecated and will be removed in a future version.\n",
      "  positions = signals.replace(0, method='ffill').fillna(0)\n"
     ]
    },
    {
     "name": "stdout",
     "output_type": "stream",
     "text": [
      "248\n"
     ]
    },
    {
     "name": "stderr",
     "output_type": "stream",
     "text": [
      "/home/bhvignesh/trading_system/src/strategies/momentum/mcad_strat.py:102: FutureWarning: Downcasting object dtype arrays on .fillna, .ffill, .bfill is deprecated and will change in a future version. Call result.infer_objects(copy=False) instead. To opt-in to the future behavior, set `pd.set_option('future.no_silent_downcasting', True)`\n",
      "  prev_above = above.shift(1).fillna(False)\n",
      "/home/bhvignesh/trading_system/src/strategies/momentum/mcad_strat.py:103: FutureWarning: Downcasting object dtype arrays on .fillna, .ffill, .bfill is deprecated and will change in a future version. Call result.infer_objects(copy=False) instead. To opt-in to the future behavior, set `pd.set_option('future.no_silent_downcasting', True)`\n",
      "  prev_below = below.shift(1).fillna(False)\n",
      "/home/bhvignesh/trading_system/src/strategies/momentum/mcad_strat.py:114: FutureWarning: The 'method' keyword in Series.replace is deprecated and will be removed in a future version.\n",
      "  positions = signals.replace(0, method='ffill').fillna(0)\n"
     ]
    },
    {
     "name": "stdout",
     "output_type": "stream",
     "text": [
      "249\n"
     ]
    },
    {
     "name": "stderr",
     "output_type": "stream",
     "text": [
      "/home/bhvignesh/trading_system/src/strategies/momentum/mcad_strat.py:102: FutureWarning: Downcasting object dtype arrays on .fillna, .ffill, .bfill is deprecated and will change in a future version. Call result.infer_objects(copy=False) instead. To opt-in to the future behavior, set `pd.set_option('future.no_silent_downcasting', True)`\n",
      "  prev_above = above.shift(1).fillna(False)\n",
      "/home/bhvignesh/trading_system/src/strategies/momentum/mcad_strat.py:103: FutureWarning: Downcasting object dtype arrays on .fillna, .ffill, .bfill is deprecated and will change in a future version. Call result.infer_objects(copy=False) instead. To opt-in to the future behavior, set `pd.set_option('future.no_silent_downcasting', True)`\n",
      "  prev_below = below.shift(1).fillna(False)\n",
      "/home/bhvignesh/trading_system/src/strategies/momentum/mcad_strat.py:114: FutureWarning: The 'method' keyword in Series.replace is deprecated and will be removed in a future version.\n",
      "  positions = signals.replace(0, method='ffill').fillna(0)\n"
     ]
    },
    {
     "name": "stdout",
     "output_type": "stream",
     "text": [
      "250\n"
     ]
    },
    {
     "name": "stderr",
     "output_type": "stream",
     "text": [
      "/home/bhvignesh/trading_system/src/strategies/momentum/mcad_strat.py:102: FutureWarning: Downcasting object dtype arrays on .fillna, .ffill, .bfill is deprecated and will change in a future version. Call result.infer_objects(copy=False) instead. To opt-in to the future behavior, set `pd.set_option('future.no_silent_downcasting', True)`\n",
      "  prev_above = above.shift(1).fillna(False)\n",
      "/home/bhvignesh/trading_system/src/strategies/momentum/mcad_strat.py:103: FutureWarning: Downcasting object dtype arrays on .fillna, .ffill, .bfill is deprecated and will change in a future version. Call result.infer_objects(copy=False) instead. To opt-in to the future behavior, set `pd.set_option('future.no_silent_downcasting', True)`\n",
      "  prev_below = below.shift(1).fillna(False)\n",
      "/home/bhvignesh/trading_system/src/strategies/momentum/mcad_strat.py:114: FutureWarning: The 'method' keyword in Series.replace is deprecated and will be removed in a future version.\n",
      "  positions = signals.replace(0, method='ffill').fillna(0)\n"
     ]
    },
    {
     "name": "stdout",
     "output_type": "stream",
     "text": [
      "251\n"
     ]
    },
    {
     "name": "stderr",
     "output_type": "stream",
     "text": [
      "/home/bhvignesh/trading_system/src/strategies/momentum/mcad_strat.py:102: FutureWarning: Downcasting object dtype arrays on .fillna, .ffill, .bfill is deprecated and will change in a future version. Call result.infer_objects(copy=False) instead. To opt-in to the future behavior, set `pd.set_option('future.no_silent_downcasting', True)`\n",
      "  prev_above = above.shift(1).fillna(False)\n",
      "/home/bhvignesh/trading_system/src/strategies/momentum/mcad_strat.py:103: FutureWarning: Downcasting object dtype arrays on .fillna, .ffill, .bfill is deprecated and will change in a future version. Call result.infer_objects(copy=False) instead. To opt-in to the future behavior, set `pd.set_option('future.no_silent_downcasting', True)`\n",
      "  prev_below = below.shift(1).fillna(False)\n",
      "/home/bhvignesh/trading_system/src/strategies/momentum/mcad_strat.py:114: FutureWarning: The 'method' keyword in Series.replace is deprecated and will be removed in a future version.\n",
      "  positions = signals.replace(0, method='ffill').fillna(0)\n"
     ]
    },
    {
     "name": "stdout",
     "output_type": "stream",
     "text": [
      "252\n"
     ]
    },
    {
     "name": "stderr",
     "output_type": "stream",
     "text": [
      "/home/bhvignesh/trading_system/src/strategies/momentum/mcad_strat.py:102: FutureWarning: Downcasting object dtype arrays on .fillna, .ffill, .bfill is deprecated and will change in a future version. Call result.infer_objects(copy=False) instead. To opt-in to the future behavior, set `pd.set_option('future.no_silent_downcasting', True)`\n",
      "  prev_above = above.shift(1).fillna(False)\n",
      "/home/bhvignesh/trading_system/src/strategies/momentum/mcad_strat.py:103: FutureWarning: Downcasting object dtype arrays on .fillna, .ffill, .bfill is deprecated and will change in a future version. Call result.infer_objects(copy=False) instead. To opt-in to the future behavior, set `pd.set_option('future.no_silent_downcasting', True)`\n",
      "  prev_below = below.shift(1).fillna(False)\n",
      "/home/bhvignesh/trading_system/src/strategies/momentum/mcad_strat.py:114: FutureWarning: The 'method' keyword in Series.replace is deprecated and will be removed in a future version.\n",
      "  positions = signals.replace(0, method='ffill').fillna(0)\n"
     ]
    },
    {
     "name": "stdout",
     "output_type": "stream",
     "text": [
      "253\n"
     ]
    },
    {
     "name": "stderr",
     "output_type": "stream",
     "text": [
      "/home/bhvignesh/trading_system/src/strategies/momentum/mcad_strat.py:102: FutureWarning: Downcasting object dtype arrays on .fillna, .ffill, .bfill is deprecated and will change in a future version. Call result.infer_objects(copy=False) instead. To opt-in to the future behavior, set `pd.set_option('future.no_silent_downcasting', True)`\n",
      "  prev_above = above.shift(1).fillna(False)\n",
      "/home/bhvignesh/trading_system/src/strategies/momentum/mcad_strat.py:103: FutureWarning: Downcasting object dtype arrays on .fillna, .ffill, .bfill is deprecated and will change in a future version. Call result.infer_objects(copy=False) instead. To opt-in to the future behavior, set `pd.set_option('future.no_silent_downcasting', True)`\n",
      "  prev_below = below.shift(1).fillna(False)\n",
      "/home/bhvignesh/trading_system/src/strategies/momentum/mcad_strat.py:114: FutureWarning: The 'method' keyword in Series.replace is deprecated and will be removed in a future version.\n",
      "  positions = signals.replace(0, method='ffill').fillna(0)\n"
     ]
    },
    {
     "name": "stdout",
     "output_type": "stream",
     "text": [
      "254\n"
     ]
    },
    {
     "name": "stderr",
     "output_type": "stream",
     "text": [
      "/home/bhvignesh/trading_system/src/strategies/momentum/mcad_strat.py:102: FutureWarning: Downcasting object dtype arrays on .fillna, .ffill, .bfill is deprecated and will change in a future version. Call result.infer_objects(copy=False) instead. To opt-in to the future behavior, set `pd.set_option('future.no_silent_downcasting', True)`\n",
      "  prev_above = above.shift(1).fillna(False)\n",
      "/home/bhvignesh/trading_system/src/strategies/momentum/mcad_strat.py:103: FutureWarning: Downcasting object dtype arrays on .fillna, .ffill, .bfill is deprecated and will change in a future version. Call result.infer_objects(copy=False) instead. To opt-in to the future behavior, set `pd.set_option('future.no_silent_downcasting', True)`\n",
      "  prev_below = below.shift(1).fillna(False)\n",
      "/home/bhvignesh/trading_system/src/strategies/momentum/mcad_strat.py:114: FutureWarning: The 'method' keyword in Series.replace is deprecated and will be removed in a future version.\n",
      "  positions = signals.replace(0, method='ffill').fillna(0)\n"
     ]
    },
    {
     "name": "stdout",
     "output_type": "stream",
     "text": [
      "255\n"
     ]
    },
    {
     "name": "stderr",
     "output_type": "stream",
     "text": [
      "/home/bhvignesh/trading_system/src/strategies/momentum/mcad_strat.py:102: FutureWarning: Downcasting object dtype arrays on .fillna, .ffill, .bfill is deprecated and will change in a future version. Call result.infer_objects(copy=False) instead. To opt-in to the future behavior, set `pd.set_option('future.no_silent_downcasting', True)`\n",
      "  prev_above = above.shift(1).fillna(False)\n",
      "/home/bhvignesh/trading_system/src/strategies/momentum/mcad_strat.py:103: FutureWarning: Downcasting object dtype arrays on .fillna, .ffill, .bfill is deprecated and will change in a future version. Call result.infer_objects(copy=False) instead. To opt-in to the future behavior, set `pd.set_option('future.no_silent_downcasting', True)`\n",
      "  prev_below = below.shift(1).fillna(False)\n",
      "/home/bhvignesh/trading_system/src/strategies/momentum/mcad_strat.py:114: FutureWarning: The 'method' keyword in Series.replace is deprecated and will be removed in a future version.\n",
      "  positions = signals.replace(0, method='ffill').fillna(0)\n"
     ]
    },
    {
     "name": "stdout",
     "output_type": "stream",
     "text": [
      "256\n"
     ]
    },
    {
     "name": "stderr",
     "output_type": "stream",
     "text": [
      "/home/bhvignesh/trading_system/src/strategies/momentum/mcad_strat.py:102: FutureWarning: Downcasting object dtype arrays on .fillna, .ffill, .bfill is deprecated and will change in a future version. Call result.infer_objects(copy=False) instead. To opt-in to the future behavior, set `pd.set_option('future.no_silent_downcasting', True)`\n",
      "  prev_above = above.shift(1).fillna(False)\n",
      "/home/bhvignesh/trading_system/src/strategies/momentum/mcad_strat.py:103: FutureWarning: Downcasting object dtype arrays on .fillna, .ffill, .bfill is deprecated and will change in a future version. Call result.infer_objects(copy=False) instead. To opt-in to the future behavior, set `pd.set_option('future.no_silent_downcasting', True)`\n",
      "  prev_below = below.shift(1).fillna(False)\n",
      "/home/bhvignesh/trading_system/src/strategies/momentum/mcad_strat.py:114: FutureWarning: The 'method' keyword in Series.replace is deprecated and will be removed in a future version.\n",
      "  positions = signals.replace(0, method='ffill').fillna(0)\n"
     ]
    },
    {
     "name": "stdout",
     "output_type": "stream",
     "text": [
      "257\n"
     ]
    },
    {
     "name": "stderr",
     "output_type": "stream",
     "text": [
      "/home/bhvignesh/trading_system/src/strategies/momentum/mcad_strat.py:102: FutureWarning: Downcasting object dtype arrays on .fillna, .ffill, .bfill is deprecated and will change in a future version. Call result.infer_objects(copy=False) instead. To opt-in to the future behavior, set `pd.set_option('future.no_silent_downcasting', True)`\n",
      "  prev_above = above.shift(1).fillna(False)\n",
      "/home/bhvignesh/trading_system/src/strategies/momentum/mcad_strat.py:103: FutureWarning: Downcasting object dtype arrays on .fillna, .ffill, .bfill is deprecated and will change in a future version. Call result.infer_objects(copy=False) instead. To opt-in to the future behavior, set `pd.set_option('future.no_silent_downcasting', True)`\n",
      "  prev_below = below.shift(1).fillna(False)\n",
      "/home/bhvignesh/trading_system/src/strategies/momentum/mcad_strat.py:114: FutureWarning: The 'method' keyword in Series.replace is deprecated and will be removed in a future version.\n",
      "  positions = signals.replace(0, method='ffill').fillna(0)\n"
     ]
    },
    {
     "name": "stdout",
     "output_type": "stream",
     "text": [
      "258\n"
     ]
    },
    {
     "name": "stderr",
     "output_type": "stream",
     "text": [
      "/home/bhvignesh/trading_system/src/strategies/momentum/mcad_strat.py:102: FutureWarning: Downcasting object dtype arrays on .fillna, .ffill, .bfill is deprecated and will change in a future version. Call result.infer_objects(copy=False) instead. To opt-in to the future behavior, set `pd.set_option('future.no_silent_downcasting', True)`\n",
      "  prev_above = above.shift(1).fillna(False)\n",
      "/home/bhvignesh/trading_system/src/strategies/momentum/mcad_strat.py:103: FutureWarning: Downcasting object dtype arrays on .fillna, .ffill, .bfill is deprecated and will change in a future version. Call result.infer_objects(copy=False) instead. To opt-in to the future behavior, set `pd.set_option('future.no_silent_downcasting', True)`\n",
      "  prev_below = below.shift(1).fillna(False)\n",
      "/home/bhvignesh/trading_system/src/strategies/momentum/mcad_strat.py:114: FutureWarning: The 'method' keyword in Series.replace is deprecated and will be removed in a future version.\n",
      "  positions = signals.replace(0, method='ffill').fillna(0)\n"
     ]
    },
    {
     "name": "stdout",
     "output_type": "stream",
     "text": [
      "259\n"
     ]
    },
    {
     "name": "stderr",
     "output_type": "stream",
     "text": [
      "/home/bhvignesh/trading_system/src/strategies/momentum/mcad_strat.py:102: FutureWarning: Downcasting object dtype arrays on .fillna, .ffill, .bfill is deprecated and will change in a future version. Call result.infer_objects(copy=False) instead. To opt-in to the future behavior, set `pd.set_option('future.no_silent_downcasting', True)`\n",
      "  prev_above = above.shift(1).fillna(False)\n",
      "/home/bhvignesh/trading_system/src/strategies/momentum/mcad_strat.py:103: FutureWarning: Downcasting object dtype arrays on .fillna, .ffill, .bfill is deprecated and will change in a future version. Call result.infer_objects(copy=False) instead. To opt-in to the future behavior, set `pd.set_option('future.no_silent_downcasting', True)`\n",
      "  prev_below = below.shift(1).fillna(False)\n",
      "/home/bhvignesh/trading_system/src/strategies/momentum/mcad_strat.py:114: FutureWarning: The 'method' keyword in Series.replace is deprecated and will be removed in a future version.\n",
      "  positions = signals.replace(0, method='ffill').fillna(0)\n"
     ]
    },
    {
     "name": "stdout",
     "output_type": "stream",
     "text": [
      "260\n"
     ]
    },
    {
     "name": "stderr",
     "output_type": "stream",
     "text": [
      "/home/bhvignesh/trading_system/src/strategies/momentum/mcad_strat.py:102: FutureWarning: Downcasting object dtype arrays on .fillna, .ffill, .bfill is deprecated and will change in a future version. Call result.infer_objects(copy=False) instead. To opt-in to the future behavior, set `pd.set_option('future.no_silent_downcasting', True)`\n",
      "  prev_above = above.shift(1).fillna(False)\n",
      "/home/bhvignesh/trading_system/src/strategies/momentum/mcad_strat.py:103: FutureWarning: Downcasting object dtype arrays on .fillna, .ffill, .bfill is deprecated and will change in a future version. Call result.infer_objects(copy=False) instead. To opt-in to the future behavior, set `pd.set_option('future.no_silent_downcasting', True)`\n",
      "  prev_below = below.shift(1).fillna(False)\n",
      "/home/bhvignesh/trading_system/src/strategies/momentum/mcad_strat.py:114: FutureWarning: The 'method' keyword in Series.replace is deprecated and will be removed in a future version.\n",
      "  positions = signals.replace(0, method='ffill').fillna(0)\n"
     ]
    },
    {
     "name": "stdout",
     "output_type": "stream",
     "text": [
      "261\n"
     ]
    },
    {
     "name": "stderr",
     "output_type": "stream",
     "text": [
      "/home/bhvignesh/trading_system/src/strategies/momentum/mcad_strat.py:102: FutureWarning: Downcasting object dtype arrays on .fillna, .ffill, .bfill is deprecated and will change in a future version. Call result.infer_objects(copy=False) instead. To opt-in to the future behavior, set `pd.set_option('future.no_silent_downcasting', True)`\n",
      "  prev_above = above.shift(1).fillna(False)\n",
      "/home/bhvignesh/trading_system/src/strategies/momentum/mcad_strat.py:103: FutureWarning: Downcasting object dtype arrays on .fillna, .ffill, .bfill is deprecated and will change in a future version. Call result.infer_objects(copy=False) instead. To opt-in to the future behavior, set `pd.set_option('future.no_silent_downcasting', True)`\n",
      "  prev_below = below.shift(1).fillna(False)\n",
      "/home/bhvignesh/trading_system/src/strategies/momentum/mcad_strat.py:114: FutureWarning: The 'method' keyword in Series.replace is deprecated and will be removed in a future version.\n",
      "  positions = signals.replace(0, method='ffill').fillna(0)\n"
     ]
    },
    {
     "name": "stdout",
     "output_type": "stream",
     "text": [
      "262\n"
     ]
    },
    {
     "name": "stderr",
     "output_type": "stream",
     "text": [
      "/home/bhvignesh/trading_system/src/strategies/momentum/mcad_strat.py:102: FutureWarning: Downcasting object dtype arrays on .fillna, .ffill, .bfill is deprecated and will change in a future version. Call result.infer_objects(copy=False) instead. To opt-in to the future behavior, set `pd.set_option('future.no_silent_downcasting', True)`\n",
      "  prev_above = above.shift(1).fillna(False)\n",
      "/home/bhvignesh/trading_system/src/strategies/momentum/mcad_strat.py:103: FutureWarning: Downcasting object dtype arrays on .fillna, .ffill, .bfill is deprecated and will change in a future version. Call result.infer_objects(copy=False) instead. To opt-in to the future behavior, set `pd.set_option('future.no_silent_downcasting', True)`\n",
      "  prev_below = below.shift(1).fillna(False)\n",
      "/home/bhvignesh/trading_system/src/strategies/momentum/mcad_strat.py:114: FutureWarning: The 'method' keyword in Series.replace is deprecated and will be removed in a future version.\n",
      "  positions = signals.replace(0, method='ffill').fillna(0)\n"
     ]
    },
    {
     "name": "stdout",
     "output_type": "stream",
     "text": [
      "263\n"
     ]
    },
    {
     "name": "stderr",
     "output_type": "stream",
     "text": [
      "/home/bhvignesh/trading_system/src/strategies/momentum/mcad_strat.py:102: FutureWarning: Downcasting object dtype arrays on .fillna, .ffill, .bfill is deprecated and will change in a future version. Call result.infer_objects(copy=False) instead. To opt-in to the future behavior, set `pd.set_option('future.no_silent_downcasting', True)`\n",
      "  prev_above = above.shift(1).fillna(False)\n",
      "/home/bhvignesh/trading_system/src/strategies/momentum/mcad_strat.py:103: FutureWarning: Downcasting object dtype arrays on .fillna, .ffill, .bfill is deprecated and will change in a future version. Call result.infer_objects(copy=False) instead. To opt-in to the future behavior, set `pd.set_option('future.no_silent_downcasting', True)`\n",
      "  prev_below = below.shift(1).fillna(False)\n",
      "/home/bhvignesh/trading_system/src/strategies/momentum/mcad_strat.py:114: FutureWarning: The 'method' keyword in Series.replace is deprecated and will be removed in a future version.\n",
      "  positions = signals.replace(0, method='ffill').fillna(0)\n"
     ]
    },
    {
     "name": "stdout",
     "output_type": "stream",
     "text": [
      "264\n"
     ]
    },
    {
     "name": "stderr",
     "output_type": "stream",
     "text": [
      "Insufficient data for analysis\n",
      "Insufficient data for KAMAHOLD.BO\n"
     ]
    },
    {
     "name": "stdout",
     "output_type": "stream",
     "text": [
      "265\n"
     ]
    },
    {
     "name": "stderr",
     "output_type": "stream",
     "text": [
      "/home/bhvignesh/trading_system/src/strategies/momentum/mcad_strat.py:102: FutureWarning: Downcasting object dtype arrays on .fillna, .ffill, .bfill is deprecated and will change in a future version. Call result.infer_objects(copy=False) instead. To opt-in to the future behavior, set `pd.set_option('future.no_silent_downcasting', True)`\n",
      "  prev_above = above.shift(1).fillna(False)\n",
      "/home/bhvignesh/trading_system/src/strategies/momentum/mcad_strat.py:103: FutureWarning: Downcasting object dtype arrays on .fillna, .ffill, .bfill is deprecated and will change in a future version. Call result.infer_objects(copy=False) instead. To opt-in to the future behavior, set `pd.set_option('future.no_silent_downcasting', True)`\n",
      "  prev_below = below.shift(1).fillna(False)\n",
      "/home/bhvignesh/trading_system/src/strategies/momentum/mcad_strat.py:114: FutureWarning: The 'method' keyword in Series.replace is deprecated and will be removed in a future version.\n",
      "  positions = signals.replace(0, method='ffill').fillna(0)\n"
     ]
    },
    {
     "name": "stdout",
     "output_type": "stream",
     "text": [
      "266\n"
     ]
    },
    {
     "name": "stderr",
     "output_type": "stream",
     "text": [
      "/home/bhvignesh/trading_system/src/strategies/momentum/mcad_strat.py:102: FutureWarning: Downcasting object dtype arrays on .fillna, .ffill, .bfill is deprecated and will change in a future version. Call result.infer_objects(copy=False) instead. To opt-in to the future behavior, set `pd.set_option('future.no_silent_downcasting', True)`\n",
      "  prev_above = above.shift(1).fillna(False)\n",
      "/home/bhvignesh/trading_system/src/strategies/momentum/mcad_strat.py:103: FutureWarning: Downcasting object dtype arrays on .fillna, .ffill, .bfill is deprecated and will change in a future version. Call result.infer_objects(copy=False) instead. To opt-in to the future behavior, set `pd.set_option('future.no_silent_downcasting', True)`\n",
      "  prev_below = below.shift(1).fillna(False)\n",
      "/home/bhvignesh/trading_system/src/strategies/momentum/mcad_strat.py:114: FutureWarning: The 'method' keyword in Series.replace is deprecated and will be removed in a future version.\n",
      "  positions = signals.replace(0, method='ffill').fillna(0)\n"
     ]
    },
    {
     "name": "stdout",
     "output_type": "stream",
     "text": [
      "267\n"
     ]
    },
    {
     "name": "stderr",
     "output_type": "stream",
     "text": [
      "/home/bhvignesh/trading_system/src/strategies/momentum/mcad_strat.py:102: FutureWarning: Downcasting object dtype arrays on .fillna, .ffill, .bfill is deprecated and will change in a future version. Call result.infer_objects(copy=False) instead. To opt-in to the future behavior, set `pd.set_option('future.no_silent_downcasting', True)`\n",
      "  prev_above = above.shift(1).fillna(False)\n",
      "/home/bhvignesh/trading_system/src/strategies/momentum/mcad_strat.py:103: FutureWarning: Downcasting object dtype arrays on .fillna, .ffill, .bfill is deprecated and will change in a future version. Call result.infer_objects(copy=False) instead. To opt-in to the future behavior, set `pd.set_option('future.no_silent_downcasting', True)`\n",
      "  prev_below = below.shift(1).fillna(False)\n",
      "/home/bhvignesh/trading_system/src/strategies/momentum/mcad_strat.py:114: FutureWarning: The 'method' keyword in Series.replace is deprecated and will be removed in a future version.\n",
      "  positions = signals.replace(0, method='ffill').fillna(0)\n"
     ]
    },
    {
     "name": "stdout",
     "output_type": "stream",
     "text": [
      "268\n"
     ]
    },
    {
     "name": "stderr",
     "output_type": "stream",
     "text": [
      "/home/bhvignesh/trading_system/src/strategies/momentum/mcad_strat.py:102: FutureWarning: Downcasting object dtype arrays on .fillna, .ffill, .bfill is deprecated and will change in a future version. Call result.infer_objects(copy=False) instead. To opt-in to the future behavior, set `pd.set_option('future.no_silent_downcasting', True)`\n",
      "  prev_above = above.shift(1).fillna(False)\n",
      "/home/bhvignesh/trading_system/src/strategies/momentum/mcad_strat.py:103: FutureWarning: Downcasting object dtype arrays on .fillna, .ffill, .bfill is deprecated and will change in a future version. Call result.infer_objects(copy=False) instead. To opt-in to the future behavior, set `pd.set_option('future.no_silent_downcasting', True)`\n",
      "  prev_below = below.shift(1).fillna(False)\n",
      "/home/bhvignesh/trading_system/src/strategies/momentum/mcad_strat.py:114: FutureWarning: The 'method' keyword in Series.replace is deprecated and will be removed in a future version.\n",
      "  positions = signals.replace(0, method='ffill').fillna(0)\n"
     ]
    },
    {
     "name": "stdout",
     "output_type": "stream",
     "text": [
      "269\n"
     ]
    },
    {
     "name": "stderr",
     "output_type": "stream",
     "text": [
      "/home/bhvignesh/trading_system/src/strategies/momentum/mcad_strat.py:102: FutureWarning: Downcasting object dtype arrays on .fillna, .ffill, .bfill is deprecated and will change in a future version. Call result.infer_objects(copy=False) instead. To opt-in to the future behavior, set `pd.set_option('future.no_silent_downcasting', True)`\n",
      "  prev_above = above.shift(1).fillna(False)\n",
      "/home/bhvignesh/trading_system/src/strategies/momentum/mcad_strat.py:103: FutureWarning: Downcasting object dtype arrays on .fillna, .ffill, .bfill is deprecated and will change in a future version. Call result.infer_objects(copy=False) instead. To opt-in to the future behavior, set `pd.set_option('future.no_silent_downcasting', True)`\n",
      "  prev_below = below.shift(1).fillna(False)\n",
      "/home/bhvignesh/trading_system/src/strategies/momentum/mcad_strat.py:114: FutureWarning: The 'method' keyword in Series.replace is deprecated and will be removed in a future version.\n",
      "  positions = signals.replace(0, method='ffill').fillna(0)\n"
     ]
    },
    {
     "name": "stdout",
     "output_type": "stream",
     "text": [
      "270\n"
     ]
    },
    {
     "name": "stderr",
     "output_type": "stream",
     "text": [
      "/home/bhvignesh/trading_system/src/strategies/momentum/mcad_strat.py:102: FutureWarning: Downcasting object dtype arrays on .fillna, .ffill, .bfill is deprecated and will change in a future version. Call result.infer_objects(copy=False) instead. To opt-in to the future behavior, set `pd.set_option('future.no_silent_downcasting', True)`\n",
      "  prev_above = above.shift(1).fillna(False)\n",
      "/home/bhvignesh/trading_system/src/strategies/momentum/mcad_strat.py:103: FutureWarning: Downcasting object dtype arrays on .fillna, .ffill, .bfill is deprecated and will change in a future version. Call result.infer_objects(copy=False) instead. To opt-in to the future behavior, set `pd.set_option('future.no_silent_downcasting', True)`\n",
      "  prev_below = below.shift(1).fillna(False)\n",
      "/home/bhvignesh/trading_system/src/strategies/momentum/mcad_strat.py:114: FutureWarning: The 'method' keyword in Series.replace is deprecated and will be removed in a future version.\n",
      "  positions = signals.replace(0, method='ffill').fillna(0)\n"
     ]
    },
    {
     "name": "stdout",
     "output_type": "stream",
     "text": [
      "271\n"
     ]
    },
    {
     "name": "stderr",
     "output_type": "stream",
     "text": [
      "/home/bhvignesh/trading_system/src/strategies/momentum/mcad_strat.py:102: FutureWarning: Downcasting object dtype arrays on .fillna, .ffill, .bfill is deprecated and will change in a future version. Call result.infer_objects(copy=False) instead. To opt-in to the future behavior, set `pd.set_option('future.no_silent_downcasting', True)`\n",
      "  prev_above = above.shift(1).fillna(False)\n",
      "/home/bhvignesh/trading_system/src/strategies/momentum/mcad_strat.py:103: FutureWarning: Downcasting object dtype arrays on .fillna, .ffill, .bfill is deprecated and will change in a future version. Call result.infer_objects(copy=False) instead. To opt-in to the future behavior, set `pd.set_option('future.no_silent_downcasting', True)`\n",
      "  prev_below = below.shift(1).fillna(False)\n",
      "/home/bhvignesh/trading_system/src/strategies/momentum/mcad_strat.py:114: FutureWarning: The 'method' keyword in Series.replace is deprecated and will be removed in a future version.\n",
      "  positions = signals.replace(0, method='ffill').fillna(0)\n"
     ]
    },
    {
     "name": "stdout",
     "output_type": "stream",
     "text": [
      "272\n"
     ]
    },
    {
     "name": "stderr",
     "output_type": "stream",
     "text": [
      "/home/bhvignesh/trading_system/src/strategies/momentum/mcad_strat.py:102: FutureWarning: Downcasting object dtype arrays on .fillna, .ffill, .bfill is deprecated and will change in a future version. Call result.infer_objects(copy=False) instead. To opt-in to the future behavior, set `pd.set_option('future.no_silent_downcasting', True)`\n",
      "  prev_above = above.shift(1).fillna(False)\n",
      "/home/bhvignesh/trading_system/src/strategies/momentum/mcad_strat.py:103: FutureWarning: Downcasting object dtype arrays on .fillna, .ffill, .bfill is deprecated and will change in a future version. Call result.infer_objects(copy=False) instead. To opt-in to the future behavior, set `pd.set_option('future.no_silent_downcasting', True)`\n",
      "  prev_below = below.shift(1).fillna(False)\n",
      "/home/bhvignesh/trading_system/src/strategies/momentum/mcad_strat.py:114: FutureWarning: The 'method' keyword in Series.replace is deprecated and will be removed in a future version.\n",
      "  positions = signals.replace(0, method='ffill').fillna(0)\n"
     ]
    },
    {
     "name": "stdout",
     "output_type": "stream",
     "text": [
      "273\n"
     ]
    },
    {
     "name": "stderr",
     "output_type": "stream",
     "text": [
      "/home/bhvignesh/trading_system/src/strategies/momentum/mcad_strat.py:102: FutureWarning: Downcasting object dtype arrays on .fillna, .ffill, .bfill is deprecated and will change in a future version. Call result.infer_objects(copy=False) instead. To opt-in to the future behavior, set `pd.set_option('future.no_silent_downcasting', True)`\n",
      "  prev_above = above.shift(1).fillna(False)\n",
      "/home/bhvignesh/trading_system/src/strategies/momentum/mcad_strat.py:103: FutureWarning: Downcasting object dtype arrays on .fillna, .ffill, .bfill is deprecated and will change in a future version. Call result.infer_objects(copy=False) instead. To opt-in to the future behavior, set `pd.set_option('future.no_silent_downcasting', True)`\n",
      "  prev_below = below.shift(1).fillna(False)\n",
      "/home/bhvignesh/trading_system/src/strategies/momentum/mcad_strat.py:114: FutureWarning: The 'method' keyword in Series.replace is deprecated and will be removed in a future version.\n",
      "  positions = signals.replace(0, method='ffill').fillna(0)\n"
     ]
    },
    {
     "name": "stdout",
     "output_type": "stream",
     "text": [
      "274\n"
     ]
    },
    {
     "name": "stderr",
     "output_type": "stream",
     "text": [
      "/home/bhvignesh/trading_system/src/strategies/momentum/mcad_strat.py:102: FutureWarning: Downcasting object dtype arrays on .fillna, .ffill, .bfill is deprecated and will change in a future version. Call result.infer_objects(copy=False) instead. To opt-in to the future behavior, set `pd.set_option('future.no_silent_downcasting', True)`\n",
      "  prev_above = above.shift(1).fillna(False)\n",
      "/home/bhvignesh/trading_system/src/strategies/momentum/mcad_strat.py:103: FutureWarning: Downcasting object dtype arrays on .fillna, .ffill, .bfill is deprecated and will change in a future version. Call result.infer_objects(copy=False) instead. To opt-in to the future behavior, set `pd.set_option('future.no_silent_downcasting', True)`\n",
      "  prev_below = below.shift(1).fillna(False)\n",
      "/home/bhvignesh/trading_system/src/strategies/momentum/mcad_strat.py:114: FutureWarning: The 'method' keyword in Series.replace is deprecated and will be removed in a future version.\n",
      "  positions = signals.replace(0, method='ffill').fillna(0)\n"
     ]
    },
    {
     "name": "stdout",
     "output_type": "stream",
     "text": [
      "275\n"
     ]
    },
    {
     "name": "stderr",
     "output_type": "stream",
     "text": [
      "/home/bhvignesh/trading_system/src/strategies/momentum/mcad_strat.py:102: FutureWarning: Downcasting object dtype arrays on .fillna, .ffill, .bfill is deprecated and will change in a future version. Call result.infer_objects(copy=False) instead. To opt-in to the future behavior, set `pd.set_option('future.no_silent_downcasting', True)`\n",
      "  prev_above = above.shift(1).fillna(False)\n",
      "/home/bhvignesh/trading_system/src/strategies/momentum/mcad_strat.py:103: FutureWarning: Downcasting object dtype arrays on .fillna, .ffill, .bfill is deprecated and will change in a future version. Call result.infer_objects(copy=False) instead. To opt-in to the future behavior, set `pd.set_option('future.no_silent_downcasting', True)`\n",
      "  prev_below = below.shift(1).fillna(False)\n",
      "/home/bhvignesh/trading_system/src/strategies/momentum/mcad_strat.py:114: FutureWarning: The 'method' keyword in Series.replace is deprecated and will be removed in a future version.\n",
      "  positions = signals.replace(0, method='ffill').fillna(0)\n"
     ]
    },
    {
     "name": "stdout",
     "output_type": "stream",
     "text": [
      "276\n"
     ]
    },
    {
     "name": "stderr",
     "output_type": "stream",
     "text": [
      "/home/bhvignesh/trading_system/src/strategies/momentum/mcad_strat.py:102: FutureWarning: Downcasting object dtype arrays on .fillna, .ffill, .bfill is deprecated and will change in a future version. Call result.infer_objects(copy=False) instead. To opt-in to the future behavior, set `pd.set_option('future.no_silent_downcasting', True)`\n",
      "  prev_above = above.shift(1).fillna(False)\n",
      "/home/bhvignesh/trading_system/src/strategies/momentum/mcad_strat.py:103: FutureWarning: Downcasting object dtype arrays on .fillna, .ffill, .bfill is deprecated and will change in a future version. Call result.infer_objects(copy=False) instead. To opt-in to the future behavior, set `pd.set_option('future.no_silent_downcasting', True)`\n",
      "  prev_below = below.shift(1).fillna(False)\n",
      "/home/bhvignesh/trading_system/src/strategies/momentum/mcad_strat.py:114: FutureWarning: The 'method' keyword in Series.replace is deprecated and will be removed in a future version.\n",
      "  positions = signals.replace(0, method='ffill').fillna(0)\n"
     ]
    },
    {
     "name": "stdout",
     "output_type": "stream",
     "text": [
      "277\n"
     ]
    },
    {
     "name": "stderr",
     "output_type": "stream",
     "text": [
      "/home/bhvignesh/trading_system/src/strategies/momentum/mcad_strat.py:102: FutureWarning: Downcasting object dtype arrays on .fillna, .ffill, .bfill is deprecated and will change in a future version. Call result.infer_objects(copy=False) instead. To opt-in to the future behavior, set `pd.set_option('future.no_silent_downcasting', True)`\n",
      "  prev_above = above.shift(1).fillna(False)\n",
      "/home/bhvignesh/trading_system/src/strategies/momentum/mcad_strat.py:103: FutureWarning: Downcasting object dtype arrays on .fillna, .ffill, .bfill is deprecated and will change in a future version. Call result.infer_objects(copy=False) instead. To opt-in to the future behavior, set `pd.set_option('future.no_silent_downcasting', True)`\n",
      "  prev_below = below.shift(1).fillna(False)\n",
      "/home/bhvignesh/trading_system/src/strategies/momentum/mcad_strat.py:114: FutureWarning: The 'method' keyword in Series.replace is deprecated and will be removed in a future version.\n",
      "  positions = signals.replace(0, method='ffill').fillna(0)\n"
     ]
    },
    {
     "name": "stdout",
     "output_type": "stream",
     "text": [
      "278\n"
     ]
    },
    {
     "name": "stderr",
     "output_type": "stream",
     "text": [
      "/home/bhvignesh/trading_system/src/strategies/momentum/mcad_strat.py:102: FutureWarning: Downcasting object dtype arrays on .fillna, .ffill, .bfill is deprecated and will change in a future version. Call result.infer_objects(copy=False) instead. To opt-in to the future behavior, set `pd.set_option('future.no_silent_downcasting', True)`\n",
      "  prev_above = above.shift(1).fillna(False)\n",
      "/home/bhvignesh/trading_system/src/strategies/momentum/mcad_strat.py:103: FutureWarning: Downcasting object dtype arrays on .fillna, .ffill, .bfill is deprecated and will change in a future version. Call result.infer_objects(copy=False) instead. To opt-in to the future behavior, set `pd.set_option('future.no_silent_downcasting', True)`\n",
      "  prev_below = below.shift(1).fillna(False)\n",
      "/home/bhvignesh/trading_system/src/strategies/momentum/mcad_strat.py:114: FutureWarning: The 'method' keyword in Series.replace is deprecated and will be removed in a future version.\n",
      "  positions = signals.replace(0, method='ffill').fillna(0)\n"
     ]
    },
    {
     "name": "stdout",
     "output_type": "stream",
     "text": [
      "279\n"
     ]
    },
    {
     "name": "stderr",
     "output_type": "stream",
     "text": [
      "/home/bhvignesh/trading_system/src/strategies/momentum/mcad_strat.py:102: FutureWarning: Downcasting object dtype arrays on .fillna, .ffill, .bfill is deprecated and will change in a future version. Call result.infer_objects(copy=False) instead. To opt-in to the future behavior, set `pd.set_option('future.no_silent_downcasting', True)`\n",
      "  prev_above = above.shift(1).fillna(False)\n",
      "/home/bhvignesh/trading_system/src/strategies/momentum/mcad_strat.py:103: FutureWarning: Downcasting object dtype arrays on .fillna, .ffill, .bfill is deprecated and will change in a future version. Call result.infer_objects(copy=False) instead. To opt-in to the future behavior, set `pd.set_option('future.no_silent_downcasting', True)`\n",
      "  prev_below = below.shift(1).fillna(False)\n",
      "/home/bhvignesh/trading_system/src/strategies/momentum/mcad_strat.py:114: FutureWarning: The 'method' keyword in Series.replace is deprecated and will be removed in a future version.\n",
      "  positions = signals.replace(0, method='ffill').fillna(0)\n"
     ]
    },
    {
     "name": "stdout",
     "output_type": "stream",
     "text": [
      "280\n"
     ]
    },
    {
     "name": "stderr",
     "output_type": "stream",
     "text": [
      "/home/bhvignesh/trading_system/src/strategies/momentum/mcad_strat.py:102: FutureWarning: Downcasting object dtype arrays on .fillna, .ffill, .bfill is deprecated and will change in a future version. Call result.infer_objects(copy=False) instead. To opt-in to the future behavior, set `pd.set_option('future.no_silent_downcasting', True)`\n",
      "  prev_above = above.shift(1).fillna(False)\n",
      "/home/bhvignesh/trading_system/src/strategies/momentum/mcad_strat.py:103: FutureWarning: Downcasting object dtype arrays on .fillna, .ffill, .bfill is deprecated and will change in a future version. Call result.infer_objects(copy=False) instead. To opt-in to the future behavior, set `pd.set_option('future.no_silent_downcasting', True)`\n",
      "  prev_below = below.shift(1).fillna(False)\n",
      "/home/bhvignesh/trading_system/src/strategies/momentum/mcad_strat.py:114: FutureWarning: The 'method' keyword in Series.replace is deprecated and will be removed in a future version.\n",
      "  positions = signals.replace(0, method='ffill').fillna(0)\n"
     ]
    },
    {
     "name": "stdout",
     "output_type": "stream",
     "text": [
      "281\n"
     ]
    },
    {
     "name": "stderr",
     "output_type": "stream",
     "text": [
      "/home/bhvignesh/trading_system/src/strategies/momentum/mcad_strat.py:102: FutureWarning: Downcasting object dtype arrays on .fillna, .ffill, .bfill is deprecated and will change in a future version. Call result.infer_objects(copy=False) instead. To opt-in to the future behavior, set `pd.set_option('future.no_silent_downcasting', True)`\n",
      "  prev_above = above.shift(1).fillna(False)\n",
      "/home/bhvignesh/trading_system/src/strategies/momentum/mcad_strat.py:103: FutureWarning: Downcasting object dtype arrays on .fillna, .ffill, .bfill is deprecated and will change in a future version. Call result.infer_objects(copy=False) instead. To opt-in to the future behavior, set `pd.set_option('future.no_silent_downcasting', True)`\n",
      "  prev_below = below.shift(1).fillna(False)\n",
      "/home/bhvignesh/trading_system/src/strategies/momentum/mcad_strat.py:114: FutureWarning: The 'method' keyword in Series.replace is deprecated and will be removed in a future version.\n",
      "  positions = signals.replace(0, method='ffill').fillna(0)\n"
     ]
    },
    {
     "name": "stdout",
     "output_type": "stream",
     "text": [
      "282\n"
     ]
    },
    {
     "name": "stderr",
     "output_type": "stream",
     "text": [
      "/home/bhvignesh/trading_system/src/strategies/momentum/mcad_strat.py:102: FutureWarning: Downcasting object dtype arrays on .fillna, .ffill, .bfill is deprecated and will change in a future version. Call result.infer_objects(copy=False) instead. To opt-in to the future behavior, set `pd.set_option('future.no_silent_downcasting', True)`\n",
      "  prev_above = above.shift(1).fillna(False)\n",
      "/home/bhvignesh/trading_system/src/strategies/momentum/mcad_strat.py:103: FutureWarning: Downcasting object dtype arrays on .fillna, .ffill, .bfill is deprecated and will change in a future version. Call result.infer_objects(copy=False) instead. To opt-in to the future behavior, set `pd.set_option('future.no_silent_downcasting', True)`\n",
      "  prev_below = below.shift(1).fillna(False)\n",
      "/home/bhvignesh/trading_system/src/strategies/momentum/mcad_strat.py:114: FutureWarning: The 'method' keyword in Series.replace is deprecated and will be removed in a future version.\n",
      "  positions = signals.replace(0, method='ffill').fillna(0)\n"
     ]
    },
    {
     "name": "stdout",
     "output_type": "stream",
     "text": [
      "283\n"
     ]
    },
    {
     "name": "stderr",
     "output_type": "stream",
     "text": [
      "/home/bhvignesh/trading_system/src/strategies/momentum/mcad_strat.py:102: FutureWarning: Downcasting object dtype arrays on .fillna, .ffill, .bfill is deprecated and will change in a future version. Call result.infer_objects(copy=False) instead. To opt-in to the future behavior, set `pd.set_option('future.no_silent_downcasting', True)`\n",
      "  prev_above = above.shift(1).fillna(False)\n",
      "/home/bhvignesh/trading_system/src/strategies/momentum/mcad_strat.py:103: FutureWarning: Downcasting object dtype arrays on .fillna, .ffill, .bfill is deprecated and will change in a future version. Call result.infer_objects(copy=False) instead. To opt-in to the future behavior, set `pd.set_option('future.no_silent_downcasting', True)`\n",
      "  prev_below = below.shift(1).fillna(False)\n",
      "/home/bhvignesh/trading_system/src/strategies/momentum/mcad_strat.py:114: FutureWarning: The 'method' keyword in Series.replace is deprecated and will be removed in a future version.\n",
      "  positions = signals.replace(0, method='ffill').fillna(0)\n"
     ]
    },
    {
     "name": "stdout",
     "output_type": "stream",
     "text": [
      "284\n"
     ]
    },
    {
     "name": "stderr",
     "output_type": "stream",
     "text": [
      "/home/bhvignesh/trading_system/src/strategies/momentum/mcad_strat.py:102: FutureWarning: Downcasting object dtype arrays on .fillna, .ffill, .bfill is deprecated and will change in a future version. Call result.infer_objects(copy=False) instead. To opt-in to the future behavior, set `pd.set_option('future.no_silent_downcasting', True)`\n",
      "  prev_above = above.shift(1).fillna(False)\n",
      "/home/bhvignesh/trading_system/src/strategies/momentum/mcad_strat.py:103: FutureWarning: Downcasting object dtype arrays on .fillna, .ffill, .bfill is deprecated and will change in a future version. Call result.infer_objects(copy=False) instead. To opt-in to the future behavior, set `pd.set_option('future.no_silent_downcasting', True)`\n",
      "  prev_below = below.shift(1).fillna(False)\n",
      "/home/bhvignesh/trading_system/src/strategies/momentum/mcad_strat.py:114: FutureWarning: The 'method' keyword in Series.replace is deprecated and will be removed in a future version.\n",
      "  positions = signals.replace(0, method='ffill').fillna(0)\n"
     ]
    },
    {
     "name": "stdout",
     "output_type": "stream",
     "text": [
      "285\n"
     ]
    },
    {
     "name": "stderr",
     "output_type": "stream",
     "text": [
      "/home/bhvignesh/trading_system/src/strategies/momentum/mcad_strat.py:102: FutureWarning: Downcasting object dtype arrays on .fillna, .ffill, .bfill is deprecated and will change in a future version. Call result.infer_objects(copy=False) instead. To opt-in to the future behavior, set `pd.set_option('future.no_silent_downcasting', True)`\n",
      "  prev_above = above.shift(1).fillna(False)\n",
      "/home/bhvignesh/trading_system/src/strategies/momentum/mcad_strat.py:103: FutureWarning: Downcasting object dtype arrays on .fillna, .ffill, .bfill is deprecated and will change in a future version. Call result.infer_objects(copy=False) instead. To opt-in to the future behavior, set `pd.set_option('future.no_silent_downcasting', True)`\n",
      "  prev_below = below.shift(1).fillna(False)\n",
      "/home/bhvignesh/trading_system/src/strategies/momentum/mcad_strat.py:114: FutureWarning: The 'method' keyword in Series.replace is deprecated and will be removed in a future version.\n",
      "  positions = signals.replace(0, method='ffill').fillna(0)\n"
     ]
    },
    {
     "name": "stdout",
     "output_type": "stream",
     "text": [
      "286\n"
     ]
    },
    {
     "name": "stderr",
     "output_type": "stream",
     "text": [
      "/home/bhvignesh/trading_system/src/strategies/momentum/mcad_strat.py:102: FutureWarning: Downcasting object dtype arrays on .fillna, .ffill, .bfill is deprecated and will change in a future version. Call result.infer_objects(copy=False) instead. To opt-in to the future behavior, set `pd.set_option('future.no_silent_downcasting', True)`\n",
      "  prev_above = above.shift(1).fillna(False)\n",
      "/home/bhvignesh/trading_system/src/strategies/momentum/mcad_strat.py:103: FutureWarning: Downcasting object dtype arrays on .fillna, .ffill, .bfill is deprecated and will change in a future version. Call result.infer_objects(copy=False) instead. To opt-in to the future behavior, set `pd.set_option('future.no_silent_downcasting', True)`\n",
      "  prev_below = below.shift(1).fillna(False)\n",
      "/home/bhvignesh/trading_system/src/strategies/momentum/mcad_strat.py:114: FutureWarning: The 'method' keyword in Series.replace is deprecated and will be removed in a future version.\n",
      "  positions = signals.replace(0, method='ffill').fillna(0)\n"
     ]
    },
    {
     "name": "stdout",
     "output_type": "stream",
     "text": [
      "287\n"
     ]
    },
    {
     "name": "stderr",
     "output_type": "stream",
     "text": [
      "/home/bhvignesh/trading_system/src/strategies/momentum/mcad_strat.py:102: FutureWarning: Downcasting object dtype arrays on .fillna, .ffill, .bfill is deprecated and will change in a future version. Call result.infer_objects(copy=False) instead. To opt-in to the future behavior, set `pd.set_option('future.no_silent_downcasting', True)`\n",
      "  prev_above = above.shift(1).fillna(False)\n",
      "/home/bhvignesh/trading_system/src/strategies/momentum/mcad_strat.py:103: FutureWarning: Downcasting object dtype arrays on .fillna, .ffill, .bfill is deprecated and will change in a future version. Call result.infer_objects(copy=False) instead. To opt-in to the future behavior, set `pd.set_option('future.no_silent_downcasting', True)`\n",
      "  prev_below = below.shift(1).fillna(False)\n",
      "/home/bhvignesh/trading_system/src/strategies/momentum/mcad_strat.py:114: FutureWarning: The 'method' keyword in Series.replace is deprecated and will be removed in a future version.\n",
      "  positions = signals.replace(0, method='ffill').fillna(0)\n"
     ]
    },
    {
     "name": "stdout",
     "output_type": "stream",
     "text": [
      "288\n"
     ]
    },
    {
     "name": "stderr",
     "output_type": "stream",
     "text": [
      "/home/bhvignesh/trading_system/src/strategies/momentum/mcad_strat.py:102: FutureWarning: Downcasting object dtype arrays on .fillna, .ffill, .bfill is deprecated and will change in a future version. Call result.infer_objects(copy=False) instead. To opt-in to the future behavior, set `pd.set_option('future.no_silent_downcasting', True)`\n",
      "  prev_above = above.shift(1).fillna(False)\n",
      "/home/bhvignesh/trading_system/src/strategies/momentum/mcad_strat.py:103: FutureWarning: Downcasting object dtype arrays on .fillna, .ffill, .bfill is deprecated and will change in a future version. Call result.infer_objects(copy=False) instead. To opt-in to the future behavior, set `pd.set_option('future.no_silent_downcasting', True)`\n",
      "  prev_below = below.shift(1).fillna(False)\n",
      "/home/bhvignesh/trading_system/src/strategies/momentum/mcad_strat.py:114: FutureWarning: The 'method' keyword in Series.replace is deprecated and will be removed in a future version.\n",
      "  positions = signals.replace(0, method='ffill').fillna(0)\n"
     ]
    },
    {
     "name": "stdout",
     "output_type": "stream",
     "text": [
      "289\n"
     ]
    },
    {
     "name": "stderr",
     "output_type": "stream",
     "text": [
      "/home/bhvignesh/trading_system/src/strategies/momentum/mcad_strat.py:102: FutureWarning: Downcasting object dtype arrays on .fillna, .ffill, .bfill is deprecated and will change in a future version. Call result.infer_objects(copy=False) instead. To opt-in to the future behavior, set `pd.set_option('future.no_silent_downcasting', True)`\n",
      "  prev_above = above.shift(1).fillna(False)\n",
      "/home/bhvignesh/trading_system/src/strategies/momentum/mcad_strat.py:103: FutureWarning: Downcasting object dtype arrays on .fillna, .ffill, .bfill is deprecated and will change in a future version. Call result.infer_objects(copy=False) instead. To opt-in to the future behavior, set `pd.set_option('future.no_silent_downcasting', True)`\n",
      "  prev_below = below.shift(1).fillna(False)\n",
      "/home/bhvignesh/trading_system/src/strategies/momentum/mcad_strat.py:114: FutureWarning: The 'method' keyword in Series.replace is deprecated and will be removed in a future version.\n",
      "  positions = signals.replace(0, method='ffill').fillna(0)\n"
     ]
    },
    {
     "name": "stdout",
     "output_type": "stream",
     "text": [
      "290\n"
     ]
    },
    {
     "name": "stderr",
     "output_type": "stream",
     "text": [
      "/home/bhvignesh/trading_system/src/strategies/momentum/mcad_strat.py:102: FutureWarning: Downcasting object dtype arrays on .fillna, .ffill, .bfill is deprecated and will change in a future version. Call result.infer_objects(copy=False) instead. To opt-in to the future behavior, set `pd.set_option('future.no_silent_downcasting', True)`\n",
      "  prev_above = above.shift(1).fillna(False)\n",
      "/home/bhvignesh/trading_system/src/strategies/momentum/mcad_strat.py:103: FutureWarning: Downcasting object dtype arrays on .fillna, .ffill, .bfill is deprecated and will change in a future version. Call result.infer_objects(copy=False) instead. To opt-in to the future behavior, set `pd.set_option('future.no_silent_downcasting', True)`\n",
      "  prev_below = below.shift(1).fillna(False)\n",
      "/home/bhvignesh/trading_system/src/strategies/momentum/mcad_strat.py:114: FutureWarning: The 'method' keyword in Series.replace is deprecated and will be removed in a future version.\n",
      "  positions = signals.replace(0, method='ffill').fillna(0)\n"
     ]
    },
    {
     "name": "stdout",
     "output_type": "stream",
     "text": [
      "291\n"
     ]
    },
    {
     "name": "stderr",
     "output_type": "stream",
     "text": [
      "/home/bhvignesh/trading_system/src/strategies/momentum/mcad_strat.py:102: FutureWarning: Downcasting object dtype arrays on .fillna, .ffill, .bfill is deprecated and will change in a future version. Call result.infer_objects(copy=False) instead. To opt-in to the future behavior, set `pd.set_option('future.no_silent_downcasting', True)`\n",
      "  prev_above = above.shift(1).fillna(False)\n",
      "/home/bhvignesh/trading_system/src/strategies/momentum/mcad_strat.py:103: FutureWarning: Downcasting object dtype arrays on .fillna, .ffill, .bfill is deprecated and will change in a future version. Call result.infer_objects(copy=False) instead. To opt-in to the future behavior, set `pd.set_option('future.no_silent_downcasting', True)`\n",
      "  prev_below = below.shift(1).fillna(False)\n",
      "/home/bhvignesh/trading_system/src/strategies/momentum/mcad_strat.py:114: FutureWarning: The 'method' keyword in Series.replace is deprecated and will be removed in a future version.\n",
      "  positions = signals.replace(0, method='ffill').fillna(0)\n"
     ]
    },
    {
     "name": "stdout",
     "output_type": "stream",
     "text": [
      "292\n"
     ]
    },
    {
     "name": "stderr",
     "output_type": "stream",
     "text": [
      "/home/bhvignesh/trading_system/src/strategies/momentum/mcad_strat.py:102: FutureWarning: Downcasting object dtype arrays on .fillna, .ffill, .bfill is deprecated and will change in a future version. Call result.infer_objects(copy=False) instead. To opt-in to the future behavior, set `pd.set_option('future.no_silent_downcasting', True)`\n",
      "  prev_above = above.shift(1).fillna(False)\n",
      "/home/bhvignesh/trading_system/src/strategies/momentum/mcad_strat.py:103: FutureWarning: Downcasting object dtype arrays on .fillna, .ffill, .bfill is deprecated and will change in a future version. Call result.infer_objects(copy=False) instead. To opt-in to the future behavior, set `pd.set_option('future.no_silent_downcasting', True)`\n",
      "  prev_below = below.shift(1).fillna(False)\n",
      "/home/bhvignesh/trading_system/src/strategies/momentum/mcad_strat.py:114: FutureWarning: The 'method' keyword in Series.replace is deprecated and will be removed in a future version.\n",
      "  positions = signals.replace(0, method='ffill').fillna(0)\n"
     ]
    },
    {
     "name": "stdout",
     "output_type": "stream",
     "text": [
      "293\n"
     ]
    },
    {
     "name": "stderr",
     "output_type": "stream",
     "text": [
      "/home/bhvignesh/trading_system/src/strategies/momentum/mcad_strat.py:102: FutureWarning: Downcasting object dtype arrays on .fillna, .ffill, .bfill is deprecated and will change in a future version. Call result.infer_objects(copy=False) instead. To opt-in to the future behavior, set `pd.set_option('future.no_silent_downcasting', True)`\n",
      "  prev_above = above.shift(1).fillna(False)\n",
      "/home/bhvignesh/trading_system/src/strategies/momentum/mcad_strat.py:103: FutureWarning: Downcasting object dtype arrays on .fillna, .ffill, .bfill is deprecated and will change in a future version. Call result.infer_objects(copy=False) instead. To opt-in to the future behavior, set `pd.set_option('future.no_silent_downcasting', True)`\n",
      "  prev_below = below.shift(1).fillna(False)\n",
      "/home/bhvignesh/trading_system/src/strategies/momentum/mcad_strat.py:114: FutureWarning: The 'method' keyword in Series.replace is deprecated and will be removed in a future version.\n",
      "  positions = signals.replace(0, method='ffill').fillna(0)\n"
     ]
    },
    {
     "name": "stdout",
     "output_type": "stream",
     "text": [
      "294\n"
     ]
    },
    {
     "name": "stderr",
     "output_type": "stream",
     "text": [
      "/home/bhvignesh/trading_system/src/strategies/momentum/mcad_strat.py:102: FutureWarning: Downcasting object dtype arrays on .fillna, .ffill, .bfill is deprecated and will change in a future version. Call result.infer_objects(copy=False) instead. To opt-in to the future behavior, set `pd.set_option('future.no_silent_downcasting', True)`\n",
      "  prev_above = above.shift(1).fillna(False)\n",
      "/home/bhvignesh/trading_system/src/strategies/momentum/mcad_strat.py:103: FutureWarning: Downcasting object dtype arrays on .fillna, .ffill, .bfill is deprecated and will change in a future version. Call result.infer_objects(copy=False) instead. To opt-in to the future behavior, set `pd.set_option('future.no_silent_downcasting', True)`\n",
      "  prev_below = below.shift(1).fillna(False)\n",
      "/home/bhvignesh/trading_system/src/strategies/momentum/mcad_strat.py:114: FutureWarning: The 'method' keyword in Series.replace is deprecated and will be removed in a future version.\n",
      "  positions = signals.replace(0, method='ffill').fillna(0)\n"
     ]
    },
    {
     "name": "stdout",
     "output_type": "stream",
     "text": [
      "295\n"
     ]
    },
    {
     "name": "stderr",
     "output_type": "stream",
     "text": [
      "/home/bhvignesh/trading_system/src/strategies/momentum/mcad_strat.py:102: FutureWarning: Downcasting object dtype arrays on .fillna, .ffill, .bfill is deprecated and will change in a future version. Call result.infer_objects(copy=False) instead. To opt-in to the future behavior, set `pd.set_option('future.no_silent_downcasting', True)`\n",
      "  prev_above = above.shift(1).fillna(False)\n",
      "/home/bhvignesh/trading_system/src/strategies/momentum/mcad_strat.py:103: FutureWarning: Downcasting object dtype arrays on .fillna, .ffill, .bfill is deprecated and will change in a future version. Call result.infer_objects(copy=False) instead. To opt-in to the future behavior, set `pd.set_option('future.no_silent_downcasting', True)`\n",
      "  prev_below = below.shift(1).fillna(False)\n",
      "/home/bhvignesh/trading_system/src/strategies/momentum/mcad_strat.py:114: FutureWarning: The 'method' keyword in Series.replace is deprecated and will be removed in a future version.\n",
      "  positions = signals.replace(0, method='ffill').fillna(0)\n"
     ]
    },
    {
     "name": "stdout",
     "output_type": "stream",
     "text": [
      "296\n"
     ]
    },
    {
     "name": "stderr",
     "output_type": "stream",
     "text": [
      "/home/bhvignesh/trading_system/src/strategies/momentum/mcad_strat.py:102: FutureWarning: Downcasting object dtype arrays on .fillna, .ffill, .bfill is deprecated and will change in a future version. Call result.infer_objects(copy=False) instead. To opt-in to the future behavior, set `pd.set_option('future.no_silent_downcasting', True)`\n",
      "  prev_above = above.shift(1).fillna(False)\n",
      "/home/bhvignesh/trading_system/src/strategies/momentum/mcad_strat.py:103: FutureWarning: Downcasting object dtype arrays on .fillna, .ffill, .bfill is deprecated and will change in a future version. Call result.infer_objects(copy=False) instead. To opt-in to the future behavior, set `pd.set_option('future.no_silent_downcasting', True)`\n",
      "  prev_below = below.shift(1).fillna(False)\n",
      "/home/bhvignesh/trading_system/src/strategies/momentum/mcad_strat.py:114: FutureWarning: The 'method' keyword in Series.replace is deprecated and will be removed in a future version.\n",
      "  positions = signals.replace(0, method='ffill').fillna(0)\n"
     ]
    },
    {
     "name": "stdout",
     "output_type": "stream",
     "text": [
      "297\n"
     ]
    },
    {
     "name": "stderr",
     "output_type": "stream",
     "text": [
      "/home/bhvignesh/trading_system/src/strategies/momentum/mcad_strat.py:102: FutureWarning: Downcasting object dtype arrays on .fillna, .ffill, .bfill is deprecated and will change in a future version. Call result.infer_objects(copy=False) instead. To opt-in to the future behavior, set `pd.set_option('future.no_silent_downcasting', True)`\n",
      "  prev_above = above.shift(1).fillna(False)\n",
      "/home/bhvignesh/trading_system/src/strategies/momentum/mcad_strat.py:103: FutureWarning: Downcasting object dtype arrays on .fillna, .ffill, .bfill is deprecated and will change in a future version. Call result.infer_objects(copy=False) instead. To opt-in to the future behavior, set `pd.set_option('future.no_silent_downcasting', True)`\n",
      "  prev_below = below.shift(1).fillna(False)\n",
      "/home/bhvignesh/trading_system/src/strategies/momentum/mcad_strat.py:114: FutureWarning: The 'method' keyword in Series.replace is deprecated and will be removed in a future version.\n",
      "  positions = signals.replace(0, method='ffill').fillna(0)\n"
     ]
    },
    {
     "name": "stdout",
     "output_type": "stream",
     "text": [
      "298\n"
     ]
    },
    {
     "name": "stderr",
     "output_type": "stream",
     "text": [
      "/home/bhvignesh/trading_system/src/strategies/momentum/mcad_strat.py:102: FutureWarning: Downcasting object dtype arrays on .fillna, .ffill, .bfill is deprecated and will change in a future version. Call result.infer_objects(copy=False) instead. To opt-in to the future behavior, set `pd.set_option('future.no_silent_downcasting', True)`\n",
      "  prev_above = above.shift(1).fillna(False)\n",
      "/home/bhvignesh/trading_system/src/strategies/momentum/mcad_strat.py:103: FutureWarning: Downcasting object dtype arrays on .fillna, .ffill, .bfill is deprecated and will change in a future version. Call result.infer_objects(copy=False) instead. To opt-in to the future behavior, set `pd.set_option('future.no_silent_downcasting', True)`\n",
      "  prev_below = below.shift(1).fillna(False)\n",
      "/home/bhvignesh/trading_system/src/strategies/momentum/mcad_strat.py:114: FutureWarning: The 'method' keyword in Series.replace is deprecated and will be removed in a future version.\n",
      "  positions = signals.replace(0, method='ffill').fillna(0)\n"
     ]
    },
    {
     "name": "stdout",
     "output_type": "stream",
     "text": [
      "299\n"
     ]
    },
    {
     "name": "stderr",
     "output_type": "stream",
     "text": [
      "/home/bhvignesh/trading_system/src/strategies/momentum/mcad_strat.py:102: FutureWarning: Downcasting object dtype arrays on .fillna, .ffill, .bfill is deprecated and will change in a future version. Call result.infer_objects(copy=False) instead. To opt-in to the future behavior, set `pd.set_option('future.no_silent_downcasting', True)`\n",
      "  prev_above = above.shift(1).fillna(False)\n",
      "/home/bhvignesh/trading_system/src/strategies/momentum/mcad_strat.py:103: FutureWarning: Downcasting object dtype arrays on .fillna, .ffill, .bfill is deprecated and will change in a future version. Call result.infer_objects(copy=False) instead. To opt-in to the future behavior, set `pd.set_option('future.no_silent_downcasting', True)`\n",
      "  prev_below = below.shift(1).fillna(False)\n",
      "/home/bhvignesh/trading_system/src/strategies/momentum/mcad_strat.py:114: FutureWarning: The 'method' keyword in Series.replace is deprecated and will be removed in a future version.\n",
      "  positions = signals.replace(0, method='ffill').fillna(0)\n"
     ]
    },
    {
     "name": "stdout",
     "output_type": "stream",
     "text": [
      "300\n"
     ]
    },
    {
     "name": "stderr",
     "output_type": "stream",
     "text": [
      "/home/bhvignesh/trading_system/src/strategies/momentum/mcad_strat.py:102: FutureWarning: Downcasting object dtype arrays on .fillna, .ffill, .bfill is deprecated and will change in a future version. Call result.infer_objects(copy=False) instead. To opt-in to the future behavior, set `pd.set_option('future.no_silent_downcasting', True)`\n",
      "  prev_above = above.shift(1).fillna(False)\n",
      "/home/bhvignesh/trading_system/src/strategies/momentum/mcad_strat.py:103: FutureWarning: Downcasting object dtype arrays on .fillna, .ffill, .bfill is deprecated and will change in a future version. Call result.infer_objects(copy=False) instead. To opt-in to the future behavior, set `pd.set_option('future.no_silent_downcasting', True)`\n",
      "  prev_below = below.shift(1).fillna(False)\n",
      "/home/bhvignesh/trading_system/src/strategies/momentum/mcad_strat.py:114: FutureWarning: The 'method' keyword in Series.replace is deprecated and will be removed in a future version.\n",
      "  positions = signals.replace(0, method='ffill').fillna(0)\n"
     ]
    },
    {
     "name": "stdout",
     "output_type": "stream",
     "text": [
      "301\n"
     ]
    },
    {
     "name": "stderr",
     "output_type": "stream",
     "text": [
      "/home/bhvignesh/trading_system/src/strategies/momentum/mcad_strat.py:102: FutureWarning: Downcasting object dtype arrays on .fillna, .ffill, .bfill is deprecated and will change in a future version. Call result.infer_objects(copy=False) instead. To opt-in to the future behavior, set `pd.set_option('future.no_silent_downcasting', True)`\n",
      "  prev_above = above.shift(1).fillna(False)\n",
      "/home/bhvignesh/trading_system/src/strategies/momentum/mcad_strat.py:103: FutureWarning: Downcasting object dtype arrays on .fillna, .ffill, .bfill is deprecated and will change in a future version. Call result.infer_objects(copy=False) instead. To opt-in to the future behavior, set `pd.set_option('future.no_silent_downcasting', True)`\n",
      "  prev_below = below.shift(1).fillna(False)\n",
      "/home/bhvignesh/trading_system/src/strategies/momentum/mcad_strat.py:114: FutureWarning: The 'method' keyword in Series.replace is deprecated and will be removed in a future version.\n",
      "  positions = signals.replace(0, method='ffill').fillna(0)\n"
     ]
    },
    {
     "name": "stdout",
     "output_type": "stream",
     "text": [
      "302\n"
     ]
    },
    {
     "name": "stderr",
     "output_type": "stream",
     "text": [
      "/home/bhvignesh/trading_system/src/strategies/momentum/mcad_strat.py:102: FutureWarning: Downcasting object dtype arrays on .fillna, .ffill, .bfill is deprecated and will change in a future version. Call result.infer_objects(copy=False) instead. To opt-in to the future behavior, set `pd.set_option('future.no_silent_downcasting', True)`\n",
      "  prev_above = above.shift(1).fillna(False)\n",
      "/home/bhvignesh/trading_system/src/strategies/momentum/mcad_strat.py:103: FutureWarning: Downcasting object dtype arrays on .fillna, .ffill, .bfill is deprecated and will change in a future version. Call result.infer_objects(copy=False) instead. To opt-in to the future behavior, set `pd.set_option('future.no_silent_downcasting', True)`\n",
      "  prev_below = below.shift(1).fillna(False)\n",
      "/home/bhvignesh/trading_system/src/strategies/momentum/mcad_strat.py:114: FutureWarning: The 'method' keyword in Series.replace is deprecated and will be removed in a future version.\n",
      "  positions = signals.replace(0, method='ffill').fillna(0)\n"
     ]
    },
    {
     "name": "stdout",
     "output_type": "stream",
     "text": [
      "303\n"
     ]
    },
    {
     "name": "stderr",
     "output_type": "stream",
     "text": [
      "/home/bhvignesh/trading_system/src/strategies/momentum/mcad_strat.py:102: FutureWarning: Downcasting object dtype arrays on .fillna, .ffill, .bfill is deprecated and will change in a future version. Call result.infer_objects(copy=False) instead. To opt-in to the future behavior, set `pd.set_option('future.no_silent_downcasting', True)`\n",
      "  prev_above = above.shift(1).fillna(False)\n",
      "/home/bhvignesh/trading_system/src/strategies/momentum/mcad_strat.py:103: FutureWarning: Downcasting object dtype arrays on .fillna, .ffill, .bfill is deprecated and will change in a future version. Call result.infer_objects(copy=False) instead. To opt-in to the future behavior, set `pd.set_option('future.no_silent_downcasting', True)`\n",
      "  prev_below = below.shift(1).fillna(False)\n",
      "/home/bhvignesh/trading_system/src/strategies/momentum/mcad_strat.py:114: FutureWarning: The 'method' keyword in Series.replace is deprecated and will be removed in a future version.\n",
      "  positions = signals.replace(0, method='ffill').fillna(0)\n"
     ]
    },
    {
     "name": "stdout",
     "output_type": "stream",
     "text": [
      "304\n"
     ]
    },
    {
     "name": "stderr",
     "output_type": "stream",
     "text": [
      "/home/bhvignesh/trading_system/src/strategies/momentum/mcad_strat.py:102: FutureWarning: Downcasting object dtype arrays on .fillna, .ffill, .bfill is deprecated and will change in a future version. Call result.infer_objects(copy=False) instead. To opt-in to the future behavior, set `pd.set_option('future.no_silent_downcasting', True)`\n",
      "  prev_above = above.shift(1).fillna(False)\n",
      "/home/bhvignesh/trading_system/src/strategies/momentum/mcad_strat.py:103: FutureWarning: Downcasting object dtype arrays on .fillna, .ffill, .bfill is deprecated and will change in a future version. Call result.infer_objects(copy=False) instead. To opt-in to the future behavior, set `pd.set_option('future.no_silent_downcasting', True)`\n",
      "  prev_below = below.shift(1).fillna(False)\n",
      "/home/bhvignesh/trading_system/src/strategies/momentum/mcad_strat.py:114: FutureWarning: The 'method' keyword in Series.replace is deprecated and will be removed in a future version.\n",
      "  positions = signals.replace(0, method='ffill').fillna(0)\n"
     ]
    },
    {
     "name": "stdout",
     "output_type": "stream",
     "text": [
      "305\n"
     ]
    },
    {
     "name": "stderr",
     "output_type": "stream",
     "text": [
      "/home/bhvignesh/trading_system/src/strategies/momentum/mcad_strat.py:102: FutureWarning: Downcasting object dtype arrays on .fillna, .ffill, .bfill is deprecated and will change in a future version. Call result.infer_objects(copy=False) instead. To opt-in to the future behavior, set `pd.set_option('future.no_silent_downcasting', True)`\n",
      "  prev_above = above.shift(1).fillna(False)\n",
      "/home/bhvignesh/trading_system/src/strategies/momentum/mcad_strat.py:103: FutureWarning: Downcasting object dtype arrays on .fillna, .ffill, .bfill is deprecated and will change in a future version. Call result.infer_objects(copy=False) instead. To opt-in to the future behavior, set `pd.set_option('future.no_silent_downcasting', True)`\n",
      "  prev_below = below.shift(1).fillna(False)\n",
      "/home/bhvignesh/trading_system/src/strategies/momentum/mcad_strat.py:114: FutureWarning: The 'method' keyword in Series.replace is deprecated and will be removed in a future version.\n",
      "  positions = signals.replace(0, method='ffill').fillna(0)\n"
     ]
    },
    {
     "name": "stdout",
     "output_type": "stream",
     "text": [
      "306\n"
     ]
    },
    {
     "name": "stderr",
     "output_type": "stream",
     "text": [
      "/home/bhvignesh/trading_system/src/strategies/momentum/mcad_strat.py:102: FutureWarning: Downcasting object dtype arrays on .fillna, .ffill, .bfill is deprecated and will change in a future version. Call result.infer_objects(copy=False) instead. To opt-in to the future behavior, set `pd.set_option('future.no_silent_downcasting', True)`\n",
      "  prev_above = above.shift(1).fillna(False)\n",
      "/home/bhvignesh/trading_system/src/strategies/momentum/mcad_strat.py:103: FutureWarning: Downcasting object dtype arrays on .fillna, .ffill, .bfill is deprecated and will change in a future version. Call result.infer_objects(copy=False) instead. To opt-in to the future behavior, set `pd.set_option('future.no_silent_downcasting', True)`\n",
      "  prev_below = below.shift(1).fillna(False)\n",
      "/home/bhvignesh/trading_system/src/strategies/momentum/mcad_strat.py:114: FutureWarning: The 'method' keyword in Series.replace is deprecated and will be removed in a future version.\n",
      "  positions = signals.replace(0, method='ffill').fillna(0)\n"
     ]
    },
    {
     "name": "stdout",
     "output_type": "stream",
     "text": [
      "307\n"
     ]
    },
    {
     "name": "stderr",
     "output_type": "stream",
     "text": [
      "/home/bhvignesh/trading_system/src/strategies/momentum/mcad_strat.py:102: FutureWarning: Downcasting object dtype arrays on .fillna, .ffill, .bfill is deprecated and will change in a future version. Call result.infer_objects(copy=False) instead. To opt-in to the future behavior, set `pd.set_option('future.no_silent_downcasting', True)`\n",
      "  prev_above = above.shift(1).fillna(False)\n",
      "/home/bhvignesh/trading_system/src/strategies/momentum/mcad_strat.py:103: FutureWarning: Downcasting object dtype arrays on .fillna, .ffill, .bfill is deprecated and will change in a future version. Call result.infer_objects(copy=False) instead. To opt-in to the future behavior, set `pd.set_option('future.no_silent_downcasting', True)`\n",
      "  prev_below = below.shift(1).fillna(False)\n",
      "/home/bhvignesh/trading_system/src/strategies/momentum/mcad_strat.py:114: FutureWarning: The 'method' keyword in Series.replace is deprecated and will be removed in a future version.\n",
      "  positions = signals.replace(0, method='ffill').fillna(0)\n"
     ]
    },
    {
     "name": "stdout",
     "output_type": "stream",
     "text": [
      "308\n"
     ]
    },
    {
     "name": "stderr",
     "output_type": "stream",
     "text": [
      "/home/bhvignesh/trading_system/src/strategies/momentum/mcad_strat.py:102: FutureWarning: Downcasting object dtype arrays on .fillna, .ffill, .bfill is deprecated and will change in a future version. Call result.infer_objects(copy=False) instead. To opt-in to the future behavior, set `pd.set_option('future.no_silent_downcasting', True)`\n",
      "  prev_above = above.shift(1).fillna(False)\n",
      "/home/bhvignesh/trading_system/src/strategies/momentum/mcad_strat.py:103: FutureWarning: Downcasting object dtype arrays on .fillna, .ffill, .bfill is deprecated and will change in a future version. Call result.infer_objects(copy=False) instead. To opt-in to the future behavior, set `pd.set_option('future.no_silent_downcasting', True)`\n",
      "  prev_below = below.shift(1).fillna(False)\n",
      "/home/bhvignesh/trading_system/src/strategies/momentum/mcad_strat.py:114: FutureWarning: The 'method' keyword in Series.replace is deprecated and will be removed in a future version.\n",
      "  positions = signals.replace(0, method='ffill').fillna(0)\n"
     ]
    },
    {
     "name": "stdout",
     "output_type": "stream",
     "text": [
      "309\n"
     ]
    },
    {
     "name": "stderr",
     "output_type": "stream",
     "text": [
      "/home/bhvignesh/trading_system/src/strategies/momentum/mcad_strat.py:102: FutureWarning: Downcasting object dtype arrays on .fillna, .ffill, .bfill is deprecated and will change in a future version. Call result.infer_objects(copy=False) instead. To opt-in to the future behavior, set `pd.set_option('future.no_silent_downcasting', True)`\n",
      "  prev_above = above.shift(1).fillna(False)\n",
      "/home/bhvignesh/trading_system/src/strategies/momentum/mcad_strat.py:103: FutureWarning: Downcasting object dtype arrays on .fillna, .ffill, .bfill is deprecated and will change in a future version. Call result.infer_objects(copy=False) instead. To opt-in to the future behavior, set `pd.set_option('future.no_silent_downcasting', True)`\n",
      "  prev_below = below.shift(1).fillna(False)\n",
      "/home/bhvignesh/trading_system/src/strategies/momentum/mcad_strat.py:114: FutureWarning: The 'method' keyword in Series.replace is deprecated and will be removed in a future version.\n",
      "  positions = signals.replace(0, method='ffill').fillna(0)\n"
     ]
    },
    {
     "name": "stdout",
     "output_type": "stream",
     "text": [
      "310\n"
     ]
    },
    {
     "name": "stderr",
     "output_type": "stream",
     "text": [
      "/home/bhvignesh/trading_system/src/strategies/momentum/mcad_strat.py:102: FutureWarning: Downcasting object dtype arrays on .fillna, .ffill, .bfill is deprecated and will change in a future version. Call result.infer_objects(copy=False) instead. To opt-in to the future behavior, set `pd.set_option('future.no_silent_downcasting', True)`\n",
      "  prev_above = above.shift(1).fillna(False)\n",
      "/home/bhvignesh/trading_system/src/strategies/momentum/mcad_strat.py:103: FutureWarning: Downcasting object dtype arrays on .fillna, .ffill, .bfill is deprecated and will change in a future version. Call result.infer_objects(copy=False) instead. To opt-in to the future behavior, set `pd.set_option('future.no_silent_downcasting', True)`\n",
      "  prev_below = below.shift(1).fillna(False)\n",
      "/home/bhvignesh/trading_system/src/strategies/momentum/mcad_strat.py:114: FutureWarning: The 'method' keyword in Series.replace is deprecated and will be removed in a future version.\n",
      "  positions = signals.replace(0, method='ffill').fillna(0)\n"
     ]
    },
    {
     "name": "stdout",
     "output_type": "stream",
     "text": [
      "311\n"
     ]
    },
    {
     "name": "stderr",
     "output_type": "stream",
     "text": [
      "/home/bhvignesh/trading_system/src/strategies/momentum/mcad_strat.py:102: FutureWarning: Downcasting object dtype arrays on .fillna, .ffill, .bfill is deprecated and will change in a future version. Call result.infer_objects(copy=False) instead. To opt-in to the future behavior, set `pd.set_option('future.no_silent_downcasting', True)`\n",
      "  prev_above = above.shift(1).fillna(False)\n",
      "/home/bhvignesh/trading_system/src/strategies/momentum/mcad_strat.py:103: FutureWarning: Downcasting object dtype arrays on .fillna, .ffill, .bfill is deprecated and will change in a future version. Call result.infer_objects(copy=False) instead. To opt-in to the future behavior, set `pd.set_option('future.no_silent_downcasting', True)`\n",
      "  prev_below = below.shift(1).fillna(False)\n",
      "/home/bhvignesh/trading_system/src/strategies/momentum/mcad_strat.py:114: FutureWarning: The 'method' keyword in Series.replace is deprecated and will be removed in a future version.\n",
      "  positions = signals.replace(0, method='ffill').fillna(0)\n"
     ]
    },
    {
     "name": "stdout",
     "output_type": "stream",
     "text": [
      "312\n"
     ]
    },
    {
     "name": "stderr",
     "output_type": "stream",
     "text": [
      "/home/bhvignesh/trading_system/src/strategies/momentum/mcad_strat.py:102: FutureWarning: Downcasting object dtype arrays on .fillna, .ffill, .bfill is deprecated and will change in a future version. Call result.infer_objects(copy=False) instead. To opt-in to the future behavior, set `pd.set_option('future.no_silent_downcasting', True)`\n",
      "  prev_above = above.shift(1).fillna(False)\n",
      "/home/bhvignesh/trading_system/src/strategies/momentum/mcad_strat.py:103: FutureWarning: Downcasting object dtype arrays on .fillna, .ffill, .bfill is deprecated and will change in a future version. Call result.infer_objects(copy=False) instead. To opt-in to the future behavior, set `pd.set_option('future.no_silent_downcasting', True)`\n",
      "  prev_below = below.shift(1).fillna(False)\n",
      "/home/bhvignesh/trading_system/src/strategies/momentum/mcad_strat.py:114: FutureWarning: The 'method' keyword in Series.replace is deprecated and will be removed in a future version.\n",
      "  positions = signals.replace(0, method='ffill').fillna(0)\n"
     ]
    },
    {
     "name": "stdout",
     "output_type": "stream",
     "text": [
      "313\n"
     ]
    },
    {
     "name": "stderr",
     "output_type": "stream",
     "text": [
      "/home/bhvignesh/trading_system/src/strategies/momentum/mcad_strat.py:102: FutureWarning: Downcasting object dtype arrays on .fillna, .ffill, .bfill is deprecated and will change in a future version. Call result.infer_objects(copy=False) instead. To opt-in to the future behavior, set `pd.set_option('future.no_silent_downcasting', True)`\n",
      "  prev_above = above.shift(1).fillna(False)\n",
      "/home/bhvignesh/trading_system/src/strategies/momentum/mcad_strat.py:103: FutureWarning: Downcasting object dtype arrays on .fillna, .ffill, .bfill is deprecated and will change in a future version. Call result.infer_objects(copy=False) instead. To opt-in to the future behavior, set `pd.set_option('future.no_silent_downcasting', True)`\n",
      "  prev_below = below.shift(1).fillna(False)\n",
      "/home/bhvignesh/trading_system/src/strategies/momentum/mcad_strat.py:114: FutureWarning: The 'method' keyword in Series.replace is deprecated and will be removed in a future version.\n",
      "  positions = signals.replace(0, method='ffill').fillna(0)\n"
     ]
    },
    {
     "name": "stdout",
     "output_type": "stream",
     "text": [
      "314\n"
     ]
    },
    {
     "name": "stderr",
     "output_type": "stream",
     "text": [
      "/home/bhvignesh/trading_system/src/strategies/momentum/mcad_strat.py:102: FutureWarning: Downcasting object dtype arrays on .fillna, .ffill, .bfill is deprecated and will change in a future version. Call result.infer_objects(copy=False) instead. To opt-in to the future behavior, set `pd.set_option('future.no_silent_downcasting', True)`\n",
      "  prev_above = above.shift(1).fillna(False)\n",
      "/home/bhvignesh/trading_system/src/strategies/momentum/mcad_strat.py:103: FutureWarning: Downcasting object dtype arrays on .fillna, .ffill, .bfill is deprecated and will change in a future version. Call result.infer_objects(copy=False) instead. To opt-in to the future behavior, set `pd.set_option('future.no_silent_downcasting', True)`\n",
      "  prev_below = below.shift(1).fillna(False)\n",
      "/home/bhvignesh/trading_system/src/strategies/momentum/mcad_strat.py:114: FutureWarning: The 'method' keyword in Series.replace is deprecated and will be removed in a future version.\n",
      "  positions = signals.replace(0, method='ffill').fillna(0)\n"
     ]
    },
    {
     "name": "stdout",
     "output_type": "stream",
     "text": [
      "315\n"
     ]
    },
    {
     "name": "stderr",
     "output_type": "stream",
     "text": [
      "/home/bhvignesh/trading_system/src/strategies/momentum/mcad_strat.py:102: FutureWarning: Downcasting object dtype arrays on .fillna, .ffill, .bfill is deprecated and will change in a future version. Call result.infer_objects(copy=False) instead. To opt-in to the future behavior, set `pd.set_option('future.no_silent_downcasting', True)`\n",
      "  prev_above = above.shift(1).fillna(False)\n",
      "/home/bhvignesh/trading_system/src/strategies/momentum/mcad_strat.py:103: FutureWarning: Downcasting object dtype arrays on .fillna, .ffill, .bfill is deprecated and will change in a future version. Call result.infer_objects(copy=False) instead. To opt-in to the future behavior, set `pd.set_option('future.no_silent_downcasting', True)`\n",
      "  prev_below = below.shift(1).fillna(False)\n",
      "/home/bhvignesh/trading_system/src/strategies/momentum/mcad_strat.py:114: FutureWarning: The 'method' keyword in Series.replace is deprecated and will be removed in a future version.\n",
      "  positions = signals.replace(0, method='ffill').fillna(0)\n"
     ]
    },
    {
     "name": "stdout",
     "output_type": "stream",
     "text": [
      "316\n"
     ]
    },
    {
     "name": "stderr",
     "output_type": "stream",
     "text": [
      "/home/bhvignesh/trading_system/src/strategies/momentum/mcad_strat.py:102: FutureWarning: Downcasting object dtype arrays on .fillna, .ffill, .bfill is deprecated and will change in a future version. Call result.infer_objects(copy=False) instead. To opt-in to the future behavior, set `pd.set_option('future.no_silent_downcasting', True)`\n",
      "  prev_above = above.shift(1).fillna(False)\n",
      "/home/bhvignesh/trading_system/src/strategies/momentum/mcad_strat.py:103: FutureWarning: Downcasting object dtype arrays on .fillna, .ffill, .bfill is deprecated and will change in a future version. Call result.infer_objects(copy=False) instead. To opt-in to the future behavior, set `pd.set_option('future.no_silent_downcasting', True)`\n",
      "  prev_below = below.shift(1).fillna(False)\n",
      "/home/bhvignesh/trading_system/src/strategies/momentum/mcad_strat.py:114: FutureWarning: The 'method' keyword in Series.replace is deprecated and will be removed in a future version.\n",
      "  positions = signals.replace(0, method='ffill').fillna(0)\n"
     ]
    },
    {
     "name": "stdout",
     "output_type": "stream",
     "text": [
      "317\n"
     ]
    },
    {
     "name": "stderr",
     "output_type": "stream",
     "text": [
      "/home/bhvignesh/trading_system/src/strategies/momentum/mcad_strat.py:102: FutureWarning: Downcasting object dtype arrays on .fillna, .ffill, .bfill is deprecated and will change in a future version. Call result.infer_objects(copy=False) instead. To opt-in to the future behavior, set `pd.set_option('future.no_silent_downcasting', True)`\n",
      "  prev_above = above.shift(1).fillna(False)\n",
      "/home/bhvignesh/trading_system/src/strategies/momentum/mcad_strat.py:103: FutureWarning: Downcasting object dtype arrays on .fillna, .ffill, .bfill is deprecated and will change in a future version. Call result.infer_objects(copy=False) instead. To opt-in to the future behavior, set `pd.set_option('future.no_silent_downcasting', True)`\n",
      "  prev_below = below.shift(1).fillna(False)\n",
      "/home/bhvignesh/trading_system/src/strategies/momentum/mcad_strat.py:114: FutureWarning: The 'method' keyword in Series.replace is deprecated and will be removed in a future version.\n",
      "  positions = signals.replace(0, method='ffill').fillna(0)\n"
     ]
    },
    {
     "name": "stdout",
     "output_type": "stream",
     "text": [
      "318\n"
     ]
    },
    {
     "name": "stderr",
     "output_type": "stream",
     "text": [
      "/home/bhvignesh/trading_system/src/strategies/momentum/mcad_strat.py:102: FutureWarning: Downcasting object dtype arrays on .fillna, .ffill, .bfill is deprecated and will change in a future version. Call result.infer_objects(copy=False) instead. To opt-in to the future behavior, set `pd.set_option('future.no_silent_downcasting', True)`\n",
      "  prev_above = above.shift(1).fillna(False)\n",
      "/home/bhvignesh/trading_system/src/strategies/momentum/mcad_strat.py:103: FutureWarning: Downcasting object dtype arrays on .fillna, .ffill, .bfill is deprecated and will change in a future version. Call result.infer_objects(copy=False) instead. To opt-in to the future behavior, set `pd.set_option('future.no_silent_downcasting', True)`\n",
      "  prev_below = below.shift(1).fillna(False)\n",
      "/home/bhvignesh/trading_system/src/strategies/momentum/mcad_strat.py:114: FutureWarning: The 'method' keyword in Series.replace is deprecated and will be removed in a future version.\n",
      "  positions = signals.replace(0, method='ffill').fillna(0)\n"
     ]
    },
    {
     "name": "stdout",
     "output_type": "stream",
     "text": [
      "319\n"
     ]
    },
    {
     "name": "stderr",
     "output_type": "stream",
     "text": [
      "/home/bhvignesh/trading_system/src/strategies/momentum/mcad_strat.py:102: FutureWarning: Downcasting object dtype arrays on .fillna, .ffill, .bfill is deprecated and will change in a future version. Call result.infer_objects(copy=False) instead. To opt-in to the future behavior, set `pd.set_option('future.no_silent_downcasting', True)`\n",
      "  prev_above = above.shift(1).fillna(False)\n",
      "/home/bhvignesh/trading_system/src/strategies/momentum/mcad_strat.py:103: FutureWarning: Downcasting object dtype arrays on .fillna, .ffill, .bfill is deprecated and will change in a future version. Call result.infer_objects(copy=False) instead. To opt-in to the future behavior, set `pd.set_option('future.no_silent_downcasting', True)`\n",
      "  prev_below = below.shift(1).fillna(False)\n",
      "/home/bhvignesh/trading_system/src/strategies/momentum/mcad_strat.py:114: FutureWarning: The 'method' keyword in Series.replace is deprecated and will be removed in a future version.\n",
      "  positions = signals.replace(0, method='ffill').fillna(0)\n"
     ]
    },
    {
     "name": "stdout",
     "output_type": "stream",
     "text": [
      "320\n"
     ]
    },
    {
     "name": "stderr",
     "output_type": "stream",
     "text": [
      "/home/bhvignesh/trading_system/src/strategies/momentum/mcad_strat.py:102: FutureWarning: Downcasting object dtype arrays on .fillna, .ffill, .bfill is deprecated and will change in a future version. Call result.infer_objects(copy=False) instead. To opt-in to the future behavior, set `pd.set_option('future.no_silent_downcasting', True)`\n",
      "  prev_above = above.shift(1).fillna(False)\n",
      "/home/bhvignesh/trading_system/src/strategies/momentum/mcad_strat.py:103: FutureWarning: Downcasting object dtype arrays on .fillna, .ffill, .bfill is deprecated and will change in a future version. Call result.infer_objects(copy=False) instead. To opt-in to the future behavior, set `pd.set_option('future.no_silent_downcasting', True)`\n",
      "  prev_below = below.shift(1).fillna(False)\n",
      "/home/bhvignesh/trading_system/src/strategies/momentum/mcad_strat.py:114: FutureWarning: The 'method' keyword in Series.replace is deprecated and will be removed in a future version.\n",
      "  positions = signals.replace(0, method='ffill').fillna(0)\n"
     ]
    },
    {
     "name": "stdout",
     "output_type": "stream",
     "text": [
      "321\n"
     ]
    },
    {
     "name": "stderr",
     "output_type": "stream",
     "text": [
      "/home/bhvignesh/trading_system/src/strategies/momentum/mcad_strat.py:102: FutureWarning: Downcasting object dtype arrays on .fillna, .ffill, .bfill is deprecated and will change in a future version. Call result.infer_objects(copy=False) instead. To opt-in to the future behavior, set `pd.set_option('future.no_silent_downcasting', True)`\n",
      "  prev_above = above.shift(1).fillna(False)\n",
      "/home/bhvignesh/trading_system/src/strategies/momentum/mcad_strat.py:103: FutureWarning: Downcasting object dtype arrays on .fillna, .ffill, .bfill is deprecated and will change in a future version. Call result.infer_objects(copy=False) instead. To opt-in to the future behavior, set `pd.set_option('future.no_silent_downcasting', True)`\n",
      "  prev_below = below.shift(1).fillna(False)\n",
      "/home/bhvignesh/trading_system/src/strategies/momentum/mcad_strat.py:114: FutureWarning: The 'method' keyword in Series.replace is deprecated and will be removed in a future version.\n",
      "  positions = signals.replace(0, method='ffill').fillna(0)\n"
     ]
    },
    {
     "name": "stdout",
     "output_type": "stream",
     "text": [
      "322\n"
     ]
    },
    {
     "name": "stderr",
     "output_type": "stream",
     "text": [
      "/home/bhvignesh/trading_system/src/strategies/momentum/mcad_strat.py:102: FutureWarning: Downcasting object dtype arrays on .fillna, .ffill, .bfill is deprecated and will change in a future version. Call result.infer_objects(copy=False) instead. To opt-in to the future behavior, set `pd.set_option('future.no_silent_downcasting', True)`\n",
      "  prev_above = above.shift(1).fillna(False)\n",
      "/home/bhvignesh/trading_system/src/strategies/momentum/mcad_strat.py:103: FutureWarning: Downcasting object dtype arrays on .fillna, .ffill, .bfill is deprecated and will change in a future version. Call result.infer_objects(copy=False) instead. To opt-in to the future behavior, set `pd.set_option('future.no_silent_downcasting', True)`\n",
      "  prev_below = below.shift(1).fillna(False)\n",
      "/home/bhvignesh/trading_system/src/strategies/momentum/mcad_strat.py:114: FutureWarning: The 'method' keyword in Series.replace is deprecated and will be removed in a future version.\n",
      "  positions = signals.replace(0, method='ffill').fillna(0)\n"
     ]
    },
    {
     "name": "stdout",
     "output_type": "stream",
     "text": [
      "323\n"
     ]
    },
    {
     "name": "stderr",
     "output_type": "stream",
     "text": [
      "/home/bhvignesh/trading_system/src/strategies/momentum/mcad_strat.py:102: FutureWarning: Downcasting object dtype arrays on .fillna, .ffill, .bfill is deprecated and will change in a future version. Call result.infer_objects(copy=False) instead. To opt-in to the future behavior, set `pd.set_option('future.no_silent_downcasting', True)`\n",
      "  prev_above = above.shift(1).fillna(False)\n",
      "/home/bhvignesh/trading_system/src/strategies/momentum/mcad_strat.py:103: FutureWarning: Downcasting object dtype arrays on .fillna, .ffill, .bfill is deprecated and will change in a future version. Call result.infer_objects(copy=False) instead. To opt-in to the future behavior, set `pd.set_option('future.no_silent_downcasting', True)`\n",
      "  prev_below = below.shift(1).fillna(False)\n",
      "/home/bhvignesh/trading_system/src/strategies/momentum/mcad_strat.py:114: FutureWarning: The 'method' keyword in Series.replace is deprecated and will be removed in a future version.\n",
      "  positions = signals.replace(0, method='ffill').fillna(0)\n"
     ]
    },
    {
     "name": "stdout",
     "output_type": "stream",
     "text": [
      "324\n"
     ]
    },
    {
     "name": "stderr",
     "output_type": "stream",
     "text": [
      "/home/bhvignesh/trading_system/src/strategies/momentum/mcad_strat.py:102: FutureWarning: Downcasting object dtype arrays on .fillna, .ffill, .bfill is deprecated and will change in a future version. Call result.infer_objects(copy=False) instead. To opt-in to the future behavior, set `pd.set_option('future.no_silent_downcasting', True)`\n",
      "  prev_above = above.shift(1).fillna(False)\n",
      "/home/bhvignesh/trading_system/src/strategies/momentum/mcad_strat.py:103: FutureWarning: Downcasting object dtype arrays on .fillna, .ffill, .bfill is deprecated and will change in a future version. Call result.infer_objects(copy=False) instead. To opt-in to the future behavior, set `pd.set_option('future.no_silent_downcasting', True)`\n",
      "  prev_below = below.shift(1).fillna(False)\n",
      "/home/bhvignesh/trading_system/src/strategies/momentum/mcad_strat.py:114: FutureWarning: The 'method' keyword in Series.replace is deprecated and will be removed in a future version.\n",
      "  positions = signals.replace(0, method='ffill').fillna(0)\n"
     ]
    },
    {
     "name": "stdout",
     "output_type": "stream",
     "text": [
      "325\n"
     ]
    },
    {
     "name": "stderr",
     "output_type": "stream",
     "text": [
      "/home/bhvignesh/trading_system/src/strategies/momentum/mcad_strat.py:102: FutureWarning: Downcasting object dtype arrays on .fillna, .ffill, .bfill is deprecated and will change in a future version. Call result.infer_objects(copy=False) instead. To opt-in to the future behavior, set `pd.set_option('future.no_silent_downcasting', True)`\n",
      "  prev_above = above.shift(1).fillna(False)\n",
      "/home/bhvignesh/trading_system/src/strategies/momentum/mcad_strat.py:103: FutureWarning: Downcasting object dtype arrays on .fillna, .ffill, .bfill is deprecated and will change in a future version. Call result.infer_objects(copy=False) instead. To opt-in to the future behavior, set `pd.set_option('future.no_silent_downcasting', True)`\n",
      "  prev_below = below.shift(1).fillna(False)\n",
      "/home/bhvignesh/trading_system/src/strategies/momentum/mcad_strat.py:114: FutureWarning: The 'method' keyword in Series.replace is deprecated and will be removed in a future version.\n",
      "  positions = signals.replace(0, method='ffill').fillna(0)\n"
     ]
    },
    {
     "name": "stdout",
     "output_type": "stream",
     "text": [
      "326\n"
     ]
    },
    {
     "name": "stderr",
     "output_type": "stream",
     "text": [
      "/home/bhvignesh/trading_system/src/strategies/momentum/mcad_strat.py:102: FutureWarning: Downcasting object dtype arrays on .fillna, .ffill, .bfill is deprecated and will change in a future version. Call result.infer_objects(copy=False) instead. To opt-in to the future behavior, set `pd.set_option('future.no_silent_downcasting', True)`\n",
      "  prev_above = above.shift(1).fillna(False)\n",
      "/home/bhvignesh/trading_system/src/strategies/momentum/mcad_strat.py:103: FutureWarning: Downcasting object dtype arrays on .fillna, .ffill, .bfill is deprecated and will change in a future version. Call result.infer_objects(copy=False) instead. To opt-in to the future behavior, set `pd.set_option('future.no_silent_downcasting', True)`\n",
      "  prev_below = below.shift(1).fillna(False)\n",
      "/home/bhvignesh/trading_system/src/strategies/momentum/mcad_strat.py:114: FutureWarning: The 'method' keyword in Series.replace is deprecated and will be removed in a future version.\n",
      "  positions = signals.replace(0, method='ffill').fillna(0)\n"
     ]
    },
    {
     "name": "stdout",
     "output_type": "stream",
     "text": [
      "327\n"
     ]
    },
    {
     "name": "stderr",
     "output_type": "stream",
     "text": [
      "/home/bhvignesh/trading_system/src/strategies/momentum/mcad_strat.py:102: FutureWarning: Downcasting object dtype arrays on .fillna, .ffill, .bfill is deprecated and will change in a future version. Call result.infer_objects(copy=False) instead. To opt-in to the future behavior, set `pd.set_option('future.no_silent_downcasting', True)`\n",
      "  prev_above = above.shift(1).fillna(False)\n",
      "/home/bhvignesh/trading_system/src/strategies/momentum/mcad_strat.py:103: FutureWarning: Downcasting object dtype arrays on .fillna, .ffill, .bfill is deprecated and will change in a future version. Call result.infer_objects(copy=False) instead. To opt-in to the future behavior, set `pd.set_option('future.no_silent_downcasting', True)`\n",
      "  prev_below = below.shift(1).fillna(False)\n",
      "/home/bhvignesh/trading_system/src/strategies/momentum/mcad_strat.py:114: FutureWarning: The 'method' keyword in Series.replace is deprecated and will be removed in a future version.\n",
      "  positions = signals.replace(0, method='ffill').fillna(0)\n"
     ]
    },
    {
     "name": "stdout",
     "output_type": "stream",
     "text": [
      "328\n"
     ]
    },
    {
     "name": "stderr",
     "output_type": "stream",
     "text": [
      "/home/bhvignesh/trading_system/src/strategies/momentum/mcad_strat.py:102: FutureWarning: Downcasting object dtype arrays on .fillna, .ffill, .bfill is deprecated and will change in a future version. Call result.infer_objects(copy=False) instead. To opt-in to the future behavior, set `pd.set_option('future.no_silent_downcasting', True)`\n",
      "  prev_above = above.shift(1).fillna(False)\n",
      "/home/bhvignesh/trading_system/src/strategies/momentum/mcad_strat.py:103: FutureWarning: Downcasting object dtype arrays on .fillna, .ffill, .bfill is deprecated and will change in a future version. Call result.infer_objects(copy=False) instead. To opt-in to the future behavior, set `pd.set_option('future.no_silent_downcasting', True)`\n",
      "  prev_below = below.shift(1).fillna(False)\n",
      "/home/bhvignesh/trading_system/src/strategies/momentum/mcad_strat.py:114: FutureWarning: The 'method' keyword in Series.replace is deprecated and will be removed in a future version.\n",
      "  positions = signals.replace(0, method='ffill').fillna(0)\n"
     ]
    },
    {
     "name": "stdout",
     "output_type": "stream",
     "text": [
      "329\n"
     ]
    },
    {
     "name": "stderr",
     "output_type": "stream",
     "text": [
      "/home/bhvignesh/trading_system/src/strategies/momentum/mcad_strat.py:102: FutureWarning: Downcasting object dtype arrays on .fillna, .ffill, .bfill is deprecated and will change in a future version. Call result.infer_objects(copy=False) instead. To opt-in to the future behavior, set `pd.set_option('future.no_silent_downcasting', True)`\n",
      "  prev_above = above.shift(1).fillna(False)\n",
      "/home/bhvignesh/trading_system/src/strategies/momentum/mcad_strat.py:103: FutureWarning: Downcasting object dtype arrays on .fillna, .ffill, .bfill is deprecated and will change in a future version. Call result.infer_objects(copy=False) instead. To opt-in to the future behavior, set `pd.set_option('future.no_silent_downcasting', True)`\n",
      "  prev_below = below.shift(1).fillna(False)\n",
      "/home/bhvignesh/trading_system/src/strategies/momentum/mcad_strat.py:114: FutureWarning: The 'method' keyword in Series.replace is deprecated and will be removed in a future version.\n",
      "  positions = signals.replace(0, method='ffill').fillna(0)\n"
     ]
    },
    {
     "name": "stdout",
     "output_type": "stream",
     "text": [
      "330\n"
     ]
    },
    {
     "name": "stderr",
     "output_type": "stream",
     "text": [
      "/home/bhvignesh/trading_system/src/strategies/momentum/mcad_strat.py:102: FutureWarning: Downcasting object dtype arrays on .fillna, .ffill, .bfill is deprecated and will change in a future version. Call result.infer_objects(copy=False) instead. To opt-in to the future behavior, set `pd.set_option('future.no_silent_downcasting', True)`\n",
      "  prev_above = above.shift(1).fillna(False)\n",
      "/home/bhvignesh/trading_system/src/strategies/momentum/mcad_strat.py:103: FutureWarning: Downcasting object dtype arrays on .fillna, .ffill, .bfill is deprecated and will change in a future version. Call result.infer_objects(copy=False) instead. To opt-in to the future behavior, set `pd.set_option('future.no_silent_downcasting', True)`\n",
      "  prev_below = below.shift(1).fillna(False)\n",
      "/home/bhvignesh/trading_system/src/strategies/momentum/mcad_strat.py:114: FutureWarning: The 'method' keyword in Series.replace is deprecated and will be removed in a future version.\n",
      "  positions = signals.replace(0, method='ffill').fillna(0)\n"
     ]
    },
    {
     "name": "stdout",
     "output_type": "stream",
     "text": [
      "331\n"
     ]
    },
    {
     "name": "stderr",
     "output_type": "stream",
     "text": [
      "/home/bhvignesh/trading_system/src/strategies/momentum/mcad_strat.py:102: FutureWarning: Downcasting object dtype arrays on .fillna, .ffill, .bfill is deprecated and will change in a future version. Call result.infer_objects(copy=False) instead. To opt-in to the future behavior, set `pd.set_option('future.no_silent_downcasting', True)`\n",
      "  prev_above = above.shift(1).fillna(False)\n",
      "/home/bhvignesh/trading_system/src/strategies/momentum/mcad_strat.py:103: FutureWarning: Downcasting object dtype arrays on .fillna, .ffill, .bfill is deprecated and will change in a future version. Call result.infer_objects(copy=False) instead. To opt-in to the future behavior, set `pd.set_option('future.no_silent_downcasting', True)`\n",
      "  prev_below = below.shift(1).fillna(False)\n",
      "/home/bhvignesh/trading_system/src/strategies/momentum/mcad_strat.py:114: FutureWarning: The 'method' keyword in Series.replace is deprecated and will be removed in a future version.\n",
      "  positions = signals.replace(0, method='ffill').fillna(0)\n"
     ]
    },
    {
     "name": "stdout",
     "output_type": "stream",
     "text": [
      "332\n"
     ]
    },
    {
     "name": "stderr",
     "output_type": "stream",
     "text": [
      "/home/bhvignesh/trading_system/src/strategies/momentum/mcad_strat.py:102: FutureWarning: Downcasting object dtype arrays on .fillna, .ffill, .bfill is deprecated and will change in a future version. Call result.infer_objects(copy=False) instead. To opt-in to the future behavior, set `pd.set_option('future.no_silent_downcasting', True)`\n",
      "  prev_above = above.shift(1).fillna(False)\n",
      "/home/bhvignesh/trading_system/src/strategies/momentum/mcad_strat.py:103: FutureWarning: Downcasting object dtype arrays on .fillna, .ffill, .bfill is deprecated and will change in a future version. Call result.infer_objects(copy=False) instead. To opt-in to the future behavior, set `pd.set_option('future.no_silent_downcasting', True)`\n",
      "  prev_below = below.shift(1).fillna(False)\n",
      "/home/bhvignesh/trading_system/src/strategies/momentum/mcad_strat.py:114: FutureWarning: The 'method' keyword in Series.replace is deprecated and will be removed in a future version.\n",
      "  positions = signals.replace(0, method='ffill').fillna(0)\n"
     ]
    },
    {
     "name": "stdout",
     "output_type": "stream",
     "text": [
      "333\n"
     ]
    },
    {
     "name": "stderr",
     "output_type": "stream",
     "text": [
      "/home/bhvignesh/trading_system/src/strategies/momentum/mcad_strat.py:102: FutureWarning: Downcasting object dtype arrays on .fillna, .ffill, .bfill is deprecated and will change in a future version. Call result.infer_objects(copy=False) instead. To opt-in to the future behavior, set `pd.set_option('future.no_silent_downcasting', True)`\n",
      "  prev_above = above.shift(1).fillna(False)\n",
      "/home/bhvignesh/trading_system/src/strategies/momentum/mcad_strat.py:103: FutureWarning: Downcasting object dtype arrays on .fillna, .ffill, .bfill is deprecated and will change in a future version. Call result.infer_objects(copy=False) instead. To opt-in to the future behavior, set `pd.set_option('future.no_silent_downcasting', True)`\n",
      "  prev_below = below.shift(1).fillna(False)\n",
      "/home/bhvignesh/trading_system/src/strategies/momentum/mcad_strat.py:114: FutureWarning: The 'method' keyword in Series.replace is deprecated and will be removed in a future version.\n",
      "  positions = signals.replace(0, method='ffill').fillna(0)\n"
     ]
    },
    {
     "name": "stdout",
     "output_type": "stream",
     "text": [
      "334\n"
     ]
    },
    {
     "name": "stderr",
     "output_type": "stream",
     "text": [
      "/home/bhvignesh/trading_system/src/strategies/momentum/mcad_strat.py:102: FutureWarning: Downcasting object dtype arrays on .fillna, .ffill, .bfill is deprecated and will change in a future version. Call result.infer_objects(copy=False) instead. To opt-in to the future behavior, set `pd.set_option('future.no_silent_downcasting', True)`\n",
      "  prev_above = above.shift(1).fillna(False)\n",
      "/home/bhvignesh/trading_system/src/strategies/momentum/mcad_strat.py:103: FutureWarning: Downcasting object dtype arrays on .fillna, .ffill, .bfill is deprecated and will change in a future version. Call result.infer_objects(copy=False) instead. To opt-in to the future behavior, set `pd.set_option('future.no_silent_downcasting', True)`\n",
      "  prev_below = below.shift(1).fillna(False)\n",
      "/home/bhvignesh/trading_system/src/strategies/momentum/mcad_strat.py:114: FutureWarning: The 'method' keyword in Series.replace is deprecated and will be removed in a future version.\n",
      "  positions = signals.replace(0, method='ffill').fillna(0)\n"
     ]
    },
    {
     "name": "stdout",
     "output_type": "stream",
     "text": [
      "335\n"
     ]
    },
    {
     "name": "stderr",
     "output_type": "stream",
     "text": [
      "/home/bhvignesh/trading_system/src/strategies/momentum/mcad_strat.py:102: FutureWarning: Downcasting object dtype arrays on .fillna, .ffill, .bfill is deprecated and will change in a future version. Call result.infer_objects(copy=False) instead. To opt-in to the future behavior, set `pd.set_option('future.no_silent_downcasting', True)`\n",
      "  prev_above = above.shift(1).fillna(False)\n",
      "/home/bhvignesh/trading_system/src/strategies/momentum/mcad_strat.py:103: FutureWarning: Downcasting object dtype arrays on .fillna, .ffill, .bfill is deprecated and will change in a future version. Call result.infer_objects(copy=False) instead. To opt-in to the future behavior, set `pd.set_option('future.no_silent_downcasting', True)`\n",
      "  prev_below = below.shift(1).fillna(False)\n",
      "/home/bhvignesh/trading_system/src/strategies/momentum/mcad_strat.py:114: FutureWarning: The 'method' keyword in Series.replace is deprecated and will be removed in a future version.\n",
      "  positions = signals.replace(0, method='ffill').fillna(0)\n"
     ]
    },
    {
     "name": "stdout",
     "output_type": "stream",
     "text": [
      "336\n"
     ]
    },
    {
     "name": "stderr",
     "output_type": "stream",
     "text": [
      "/home/bhvignesh/trading_system/src/strategies/momentum/mcad_strat.py:102: FutureWarning: Downcasting object dtype arrays on .fillna, .ffill, .bfill is deprecated and will change in a future version. Call result.infer_objects(copy=False) instead. To opt-in to the future behavior, set `pd.set_option('future.no_silent_downcasting', True)`\n",
      "  prev_above = above.shift(1).fillna(False)\n",
      "/home/bhvignesh/trading_system/src/strategies/momentum/mcad_strat.py:103: FutureWarning: Downcasting object dtype arrays on .fillna, .ffill, .bfill is deprecated and will change in a future version. Call result.infer_objects(copy=False) instead. To opt-in to the future behavior, set `pd.set_option('future.no_silent_downcasting', True)`\n",
      "  prev_below = below.shift(1).fillna(False)\n",
      "/home/bhvignesh/trading_system/src/strategies/momentum/mcad_strat.py:114: FutureWarning: The 'method' keyword in Series.replace is deprecated and will be removed in a future version.\n",
      "  positions = signals.replace(0, method='ffill').fillna(0)\n"
     ]
    },
    {
     "name": "stdout",
     "output_type": "stream",
     "text": [
      "337\n"
     ]
    },
    {
     "name": "stderr",
     "output_type": "stream",
     "text": [
      "/home/bhvignesh/trading_system/src/strategies/momentum/mcad_strat.py:102: FutureWarning: Downcasting object dtype arrays on .fillna, .ffill, .bfill is deprecated and will change in a future version. Call result.infer_objects(copy=False) instead. To opt-in to the future behavior, set `pd.set_option('future.no_silent_downcasting', True)`\n",
      "  prev_above = above.shift(1).fillna(False)\n",
      "/home/bhvignesh/trading_system/src/strategies/momentum/mcad_strat.py:103: FutureWarning: Downcasting object dtype arrays on .fillna, .ffill, .bfill is deprecated and will change in a future version. Call result.infer_objects(copy=False) instead. To opt-in to the future behavior, set `pd.set_option('future.no_silent_downcasting', True)`\n",
      "  prev_below = below.shift(1).fillna(False)\n",
      "/home/bhvignesh/trading_system/src/strategies/momentum/mcad_strat.py:114: FutureWarning: The 'method' keyword in Series.replace is deprecated and will be removed in a future version.\n",
      "  positions = signals.replace(0, method='ffill').fillna(0)\n"
     ]
    },
    {
     "name": "stdout",
     "output_type": "stream",
     "text": [
      "338\n"
     ]
    },
    {
     "name": "stderr",
     "output_type": "stream",
     "text": [
      "/home/bhvignesh/trading_system/src/strategies/momentum/mcad_strat.py:102: FutureWarning: Downcasting object dtype arrays on .fillna, .ffill, .bfill is deprecated and will change in a future version. Call result.infer_objects(copy=False) instead. To opt-in to the future behavior, set `pd.set_option('future.no_silent_downcasting', True)`\n",
      "  prev_above = above.shift(1).fillna(False)\n",
      "/home/bhvignesh/trading_system/src/strategies/momentum/mcad_strat.py:103: FutureWarning: Downcasting object dtype arrays on .fillna, .ffill, .bfill is deprecated and will change in a future version. Call result.infer_objects(copy=False) instead. To opt-in to the future behavior, set `pd.set_option('future.no_silent_downcasting', True)`\n",
      "  prev_below = below.shift(1).fillna(False)\n",
      "/home/bhvignesh/trading_system/src/strategies/momentum/mcad_strat.py:114: FutureWarning: The 'method' keyword in Series.replace is deprecated and will be removed in a future version.\n",
      "  positions = signals.replace(0, method='ffill').fillna(0)\n"
     ]
    },
    {
     "name": "stdout",
     "output_type": "stream",
     "text": [
      "339\n"
     ]
    },
    {
     "name": "stderr",
     "output_type": "stream",
     "text": [
      "/home/bhvignesh/trading_system/src/strategies/momentum/mcad_strat.py:102: FutureWarning: Downcasting object dtype arrays on .fillna, .ffill, .bfill is deprecated and will change in a future version. Call result.infer_objects(copy=False) instead. To opt-in to the future behavior, set `pd.set_option('future.no_silent_downcasting', True)`\n",
      "  prev_above = above.shift(1).fillna(False)\n",
      "/home/bhvignesh/trading_system/src/strategies/momentum/mcad_strat.py:103: FutureWarning: Downcasting object dtype arrays on .fillna, .ffill, .bfill is deprecated and will change in a future version. Call result.infer_objects(copy=False) instead. To opt-in to the future behavior, set `pd.set_option('future.no_silent_downcasting', True)`\n",
      "  prev_below = below.shift(1).fillna(False)\n",
      "/home/bhvignesh/trading_system/src/strategies/momentum/mcad_strat.py:114: FutureWarning: The 'method' keyword in Series.replace is deprecated and will be removed in a future version.\n",
      "  positions = signals.replace(0, method='ffill').fillna(0)\n"
     ]
    },
    {
     "name": "stdout",
     "output_type": "stream",
     "text": [
      "340\n"
     ]
    },
    {
     "name": "stderr",
     "output_type": "stream",
     "text": [
      "/home/bhvignesh/trading_system/src/strategies/momentum/mcad_strat.py:102: FutureWarning: Downcasting object dtype arrays on .fillna, .ffill, .bfill is deprecated and will change in a future version. Call result.infer_objects(copy=False) instead. To opt-in to the future behavior, set `pd.set_option('future.no_silent_downcasting', True)`\n",
      "  prev_above = above.shift(1).fillna(False)\n",
      "/home/bhvignesh/trading_system/src/strategies/momentum/mcad_strat.py:103: FutureWarning: Downcasting object dtype arrays on .fillna, .ffill, .bfill is deprecated and will change in a future version. Call result.infer_objects(copy=False) instead. To opt-in to the future behavior, set `pd.set_option('future.no_silent_downcasting', True)`\n",
      "  prev_below = below.shift(1).fillna(False)\n",
      "/home/bhvignesh/trading_system/src/strategies/momentum/mcad_strat.py:114: FutureWarning: The 'method' keyword in Series.replace is deprecated and will be removed in a future version.\n",
      "  positions = signals.replace(0, method='ffill').fillna(0)\n"
     ]
    },
    {
     "name": "stdout",
     "output_type": "stream",
     "text": [
      "341\n"
     ]
    },
    {
     "name": "stderr",
     "output_type": "stream",
     "text": [
      "/home/bhvignesh/trading_system/src/strategies/momentum/mcad_strat.py:102: FutureWarning: Downcasting object dtype arrays on .fillna, .ffill, .bfill is deprecated and will change in a future version. Call result.infer_objects(copy=False) instead. To opt-in to the future behavior, set `pd.set_option('future.no_silent_downcasting', True)`\n",
      "  prev_above = above.shift(1).fillna(False)\n",
      "/home/bhvignesh/trading_system/src/strategies/momentum/mcad_strat.py:103: FutureWarning: Downcasting object dtype arrays on .fillna, .ffill, .bfill is deprecated and will change in a future version. Call result.infer_objects(copy=False) instead. To opt-in to the future behavior, set `pd.set_option('future.no_silent_downcasting', True)`\n",
      "  prev_below = below.shift(1).fillna(False)\n",
      "/home/bhvignesh/trading_system/src/strategies/momentum/mcad_strat.py:114: FutureWarning: The 'method' keyword in Series.replace is deprecated and will be removed in a future version.\n",
      "  positions = signals.replace(0, method='ffill').fillna(0)\n"
     ]
    },
    {
     "name": "stdout",
     "output_type": "stream",
     "text": [
      "342\n"
     ]
    },
    {
     "name": "stderr",
     "output_type": "stream",
     "text": [
      "/home/bhvignesh/trading_system/src/strategies/momentum/mcad_strat.py:102: FutureWarning: Downcasting object dtype arrays on .fillna, .ffill, .bfill is deprecated and will change in a future version. Call result.infer_objects(copy=False) instead. To opt-in to the future behavior, set `pd.set_option('future.no_silent_downcasting', True)`\n",
      "  prev_above = above.shift(1).fillna(False)\n",
      "/home/bhvignesh/trading_system/src/strategies/momentum/mcad_strat.py:103: FutureWarning: Downcasting object dtype arrays on .fillna, .ffill, .bfill is deprecated and will change in a future version. Call result.infer_objects(copy=False) instead. To opt-in to the future behavior, set `pd.set_option('future.no_silent_downcasting', True)`\n",
      "  prev_below = below.shift(1).fillna(False)\n",
      "/home/bhvignesh/trading_system/src/strategies/momentum/mcad_strat.py:114: FutureWarning: The 'method' keyword in Series.replace is deprecated and will be removed in a future version.\n",
      "  positions = signals.replace(0, method='ffill').fillna(0)\n"
     ]
    },
    {
     "name": "stdout",
     "output_type": "stream",
     "text": [
      "343\n"
     ]
    },
    {
     "name": "stderr",
     "output_type": "stream",
     "text": [
      "/home/bhvignesh/trading_system/src/strategies/momentum/mcad_strat.py:102: FutureWarning: Downcasting object dtype arrays on .fillna, .ffill, .bfill is deprecated and will change in a future version. Call result.infer_objects(copy=False) instead. To opt-in to the future behavior, set `pd.set_option('future.no_silent_downcasting', True)`\n",
      "  prev_above = above.shift(1).fillna(False)\n",
      "/home/bhvignesh/trading_system/src/strategies/momentum/mcad_strat.py:103: FutureWarning: Downcasting object dtype arrays on .fillna, .ffill, .bfill is deprecated and will change in a future version. Call result.infer_objects(copy=False) instead. To opt-in to the future behavior, set `pd.set_option('future.no_silent_downcasting', True)`\n",
      "  prev_below = below.shift(1).fillna(False)\n",
      "/home/bhvignesh/trading_system/src/strategies/momentum/mcad_strat.py:114: FutureWarning: The 'method' keyword in Series.replace is deprecated and will be removed in a future version.\n",
      "  positions = signals.replace(0, method='ffill').fillna(0)\n"
     ]
    },
    {
     "name": "stdout",
     "output_type": "stream",
     "text": [
      "344\n"
     ]
    },
    {
     "name": "stderr",
     "output_type": "stream",
     "text": [
      "/home/bhvignesh/trading_system/src/strategies/momentum/mcad_strat.py:102: FutureWarning: Downcasting object dtype arrays on .fillna, .ffill, .bfill is deprecated and will change in a future version. Call result.infer_objects(copy=False) instead. To opt-in to the future behavior, set `pd.set_option('future.no_silent_downcasting', True)`\n",
      "  prev_above = above.shift(1).fillna(False)\n",
      "/home/bhvignesh/trading_system/src/strategies/momentum/mcad_strat.py:103: FutureWarning: Downcasting object dtype arrays on .fillna, .ffill, .bfill is deprecated and will change in a future version. Call result.infer_objects(copy=False) instead. To opt-in to the future behavior, set `pd.set_option('future.no_silent_downcasting', True)`\n",
      "  prev_below = below.shift(1).fillna(False)\n",
      "/home/bhvignesh/trading_system/src/strategies/momentum/mcad_strat.py:114: FutureWarning: The 'method' keyword in Series.replace is deprecated and will be removed in a future version.\n",
      "  positions = signals.replace(0, method='ffill').fillna(0)\n"
     ]
    },
    {
     "name": "stdout",
     "output_type": "stream",
     "text": [
      "345\n"
     ]
    },
    {
     "name": "stderr",
     "output_type": "stream",
     "text": [
      "/home/bhvignesh/trading_system/src/strategies/momentum/mcad_strat.py:102: FutureWarning: Downcasting object dtype arrays on .fillna, .ffill, .bfill is deprecated and will change in a future version. Call result.infer_objects(copy=False) instead. To opt-in to the future behavior, set `pd.set_option('future.no_silent_downcasting', True)`\n",
      "  prev_above = above.shift(1).fillna(False)\n",
      "/home/bhvignesh/trading_system/src/strategies/momentum/mcad_strat.py:103: FutureWarning: Downcasting object dtype arrays on .fillna, .ffill, .bfill is deprecated and will change in a future version. Call result.infer_objects(copy=False) instead. To opt-in to the future behavior, set `pd.set_option('future.no_silent_downcasting', True)`\n",
      "  prev_below = below.shift(1).fillna(False)\n",
      "/home/bhvignesh/trading_system/src/strategies/momentum/mcad_strat.py:114: FutureWarning: The 'method' keyword in Series.replace is deprecated and will be removed in a future version.\n",
      "  positions = signals.replace(0, method='ffill').fillna(0)\n"
     ]
    },
    {
     "name": "stdout",
     "output_type": "stream",
     "text": [
      "346\n"
     ]
    },
    {
     "name": "stderr",
     "output_type": "stream",
     "text": [
      "/home/bhvignesh/trading_system/src/strategies/momentum/mcad_strat.py:102: FutureWarning: Downcasting object dtype arrays on .fillna, .ffill, .bfill is deprecated and will change in a future version. Call result.infer_objects(copy=False) instead. To opt-in to the future behavior, set `pd.set_option('future.no_silent_downcasting', True)`\n",
      "  prev_above = above.shift(1).fillna(False)\n",
      "/home/bhvignesh/trading_system/src/strategies/momentum/mcad_strat.py:103: FutureWarning: Downcasting object dtype arrays on .fillna, .ffill, .bfill is deprecated and will change in a future version. Call result.infer_objects(copy=False) instead. To opt-in to the future behavior, set `pd.set_option('future.no_silent_downcasting', True)`\n",
      "  prev_below = below.shift(1).fillna(False)\n",
      "/home/bhvignesh/trading_system/src/strategies/momentum/mcad_strat.py:114: FutureWarning: The 'method' keyword in Series.replace is deprecated and will be removed in a future version.\n",
      "  positions = signals.replace(0, method='ffill').fillna(0)\n"
     ]
    },
    {
     "name": "stdout",
     "output_type": "stream",
     "text": [
      "347\n"
     ]
    },
    {
     "name": "stderr",
     "output_type": "stream",
     "text": [
      "/home/bhvignesh/trading_system/src/strategies/momentum/mcad_strat.py:102: FutureWarning: Downcasting object dtype arrays on .fillna, .ffill, .bfill is deprecated and will change in a future version. Call result.infer_objects(copy=False) instead. To opt-in to the future behavior, set `pd.set_option('future.no_silent_downcasting', True)`\n",
      "  prev_above = above.shift(1).fillna(False)\n",
      "/home/bhvignesh/trading_system/src/strategies/momentum/mcad_strat.py:103: FutureWarning: Downcasting object dtype arrays on .fillna, .ffill, .bfill is deprecated and will change in a future version. Call result.infer_objects(copy=False) instead. To opt-in to the future behavior, set `pd.set_option('future.no_silent_downcasting', True)`\n",
      "  prev_below = below.shift(1).fillna(False)\n",
      "/home/bhvignesh/trading_system/src/strategies/momentum/mcad_strat.py:114: FutureWarning: The 'method' keyword in Series.replace is deprecated and will be removed in a future version.\n",
      "  positions = signals.replace(0, method='ffill').fillna(0)\n"
     ]
    },
    {
     "name": "stdout",
     "output_type": "stream",
     "text": [
      "348\n"
     ]
    },
    {
     "name": "stderr",
     "output_type": "stream",
     "text": [
      "/home/bhvignesh/trading_system/src/strategies/momentum/mcad_strat.py:102: FutureWarning: Downcasting object dtype arrays on .fillna, .ffill, .bfill is deprecated and will change in a future version. Call result.infer_objects(copy=False) instead. To opt-in to the future behavior, set `pd.set_option('future.no_silent_downcasting', True)`\n",
      "  prev_above = above.shift(1).fillna(False)\n",
      "/home/bhvignesh/trading_system/src/strategies/momentum/mcad_strat.py:103: FutureWarning: Downcasting object dtype arrays on .fillna, .ffill, .bfill is deprecated and will change in a future version. Call result.infer_objects(copy=False) instead. To opt-in to the future behavior, set `pd.set_option('future.no_silent_downcasting', True)`\n",
      "  prev_below = below.shift(1).fillna(False)\n",
      "/home/bhvignesh/trading_system/src/strategies/momentum/mcad_strat.py:114: FutureWarning: The 'method' keyword in Series.replace is deprecated and will be removed in a future version.\n",
      "  positions = signals.replace(0, method='ffill').fillna(0)\n"
     ]
    },
    {
     "name": "stdout",
     "output_type": "stream",
     "text": [
      "349\n"
     ]
    },
    {
     "name": "stderr",
     "output_type": "stream",
     "text": [
      "/home/bhvignesh/trading_system/src/strategies/momentum/mcad_strat.py:102: FutureWarning: Downcasting object dtype arrays on .fillna, .ffill, .bfill is deprecated and will change in a future version. Call result.infer_objects(copy=False) instead. To opt-in to the future behavior, set `pd.set_option('future.no_silent_downcasting', True)`\n",
      "  prev_above = above.shift(1).fillna(False)\n",
      "/home/bhvignesh/trading_system/src/strategies/momentum/mcad_strat.py:103: FutureWarning: Downcasting object dtype arrays on .fillna, .ffill, .bfill is deprecated and will change in a future version. Call result.infer_objects(copy=False) instead. To opt-in to the future behavior, set `pd.set_option('future.no_silent_downcasting', True)`\n",
      "  prev_below = below.shift(1).fillna(False)\n",
      "/home/bhvignesh/trading_system/src/strategies/momentum/mcad_strat.py:114: FutureWarning: The 'method' keyword in Series.replace is deprecated and will be removed in a future version.\n",
      "  positions = signals.replace(0, method='ffill').fillna(0)\n"
     ]
    },
    {
     "name": "stdout",
     "output_type": "stream",
     "text": [
      "350\n"
     ]
    },
    {
     "name": "stderr",
     "output_type": "stream",
     "text": [
      "/home/bhvignesh/trading_system/src/strategies/momentum/mcad_strat.py:102: FutureWarning: Downcasting object dtype arrays on .fillna, .ffill, .bfill is deprecated and will change in a future version. Call result.infer_objects(copy=False) instead. To opt-in to the future behavior, set `pd.set_option('future.no_silent_downcasting', True)`\n",
      "  prev_above = above.shift(1).fillna(False)\n",
      "/home/bhvignesh/trading_system/src/strategies/momentum/mcad_strat.py:103: FutureWarning: Downcasting object dtype arrays on .fillna, .ffill, .bfill is deprecated and will change in a future version. Call result.infer_objects(copy=False) instead. To opt-in to the future behavior, set `pd.set_option('future.no_silent_downcasting', True)`\n",
      "  prev_below = below.shift(1).fillna(False)\n",
      "/home/bhvignesh/trading_system/src/strategies/momentum/mcad_strat.py:114: FutureWarning: The 'method' keyword in Series.replace is deprecated and will be removed in a future version.\n",
      "  positions = signals.replace(0, method='ffill').fillna(0)\n"
     ]
    },
    {
     "name": "stdout",
     "output_type": "stream",
     "text": [
      "351\n"
     ]
    },
    {
     "name": "stderr",
     "output_type": "stream",
     "text": [
      "/home/bhvignesh/trading_system/src/strategies/momentum/mcad_strat.py:102: FutureWarning: Downcasting object dtype arrays on .fillna, .ffill, .bfill is deprecated and will change in a future version. Call result.infer_objects(copy=False) instead. To opt-in to the future behavior, set `pd.set_option('future.no_silent_downcasting', True)`\n",
      "  prev_above = above.shift(1).fillna(False)\n",
      "/home/bhvignesh/trading_system/src/strategies/momentum/mcad_strat.py:103: FutureWarning: Downcasting object dtype arrays on .fillna, .ffill, .bfill is deprecated and will change in a future version. Call result.infer_objects(copy=False) instead. To opt-in to the future behavior, set `pd.set_option('future.no_silent_downcasting', True)`\n",
      "  prev_below = below.shift(1).fillna(False)\n",
      "/home/bhvignesh/trading_system/src/strategies/momentum/mcad_strat.py:114: FutureWarning: The 'method' keyword in Series.replace is deprecated and will be removed in a future version.\n",
      "  positions = signals.replace(0, method='ffill').fillna(0)\n"
     ]
    },
    {
     "name": "stdout",
     "output_type": "stream",
     "text": [
      "352\n"
     ]
    },
    {
     "name": "stderr",
     "output_type": "stream",
     "text": [
      "/home/bhvignesh/trading_system/src/strategies/momentum/mcad_strat.py:102: FutureWarning: Downcasting object dtype arrays on .fillna, .ffill, .bfill is deprecated and will change in a future version. Call result.infer_objects(copy=False) instead. To opt-in to the future behavior, set `pd.set_option('future.no_silent_downcasting', True)`\n",
      "  prev_above = above.shift(1).fillna(False)\n",
      "/home/bhvignesh/trading_system/src/strategies/momentum/mcad_strat.py:103: FutureWarning: Downcasting object dtype arrays on .fillna, .ffill, .bfill is deprecated and will change in a future version. Call result.infer_objects(copy=False) instead. To opt-in to the future behavior, set `pd.set_option('future.no_silent_downcasting', True)`\n",
      "  prev_below = below.shift(1).fillna(False)\n",
      "/home/bhvignesh/trading_system/src/strategies/momentum/mcad_strat.py:114: FutureWarning: The 'method' keyword in Series.replace is deprecated and will be removed in a future version.\n",
      "  positions = signals.replace(0, method='ffill').fillna(0)\n"
     ]
    },
    {
     "name": "stdout",
     "output_type": "stream",
     "text": [
      "353\n"
     ]
    },
    {
     "name": "stderr",
     "output_type": "stream",
     "text": [
      "/home/bhvignesh/trading_system/src/strategies/momentum/mcad_strat.py:102: FutureWarning: Downcasting object dtype arrays on .fillna, .ffill, .bfill is deprecated and will change in a future version. Call result.infer_objects(copy=False) instead. To opt-in to the future behavior, set `pd.set_option('future.no_silent_downcasting', True)`\n",
      "  prev_above = above.shift(1).fillna(False)\n",
      "/home/bhvignesh/trading_system/src/strategies/momentum/mcad_strat.py:103: FutureWarning: Downcasting object dtype arrays on .fillna, .ffill, .bfill is deprecated and will change in a future version. Call result.infer_objects(copy=False) instead. To opt-in to the future behavior, set `pd.set_option('future.no_silent_downcasting', True)`\n",
      "  prev_below = below.shift(1).fillna(False)\n",
      "/home/bhvignesh/trading_system/src/strategies/momentum/mcad_strat.py:114: FutureWarning: The 'method' keyword in Series.replace is deprecated and will be removed in a future version.\n",
      "  positions = signals.replace(0, method='ffill').fillna(0)\n"
     ]
    },
    {
     "name": "stdout",
     "output_type": "stream",
     "text": [
      "354\n"
     ]
    },
    {
     "name": "stderr",
     "output_type": "stream",
     "text": [
      "/home/bhvignesh/trading_system/src/strategies/momentum/mcad_strat.py:102: FutureWarning: Downcasting object dtype arrays on .fillna, .ffill, .bfill is deprecated and will change in a future version. Call result.infer_objects(copy=False) instead. To opt-in to the future behavior, set `pd.set_option('future.no_silent_downcasting', True)`\n",
      "  prev_above = above.shift(1).fillna(False)\n",
      "/home/bhvignesh/trading_system/src/strategies/momentum/mcad_strat.py:103: FutureWarning: Downcasting object dtype arrays on .fillna, .ffill, .bfill is deprecated and will change in a future version. Call result.infer_objects(copy=False) instead. To opt-in to the future behavior, set `pd.set_option('future.no_silent_downcasting', True)`\n",
      "  prev_below = below.shift(1).fillna(False)\n",
      "/home/bhvignesh/trading_system/src/strategies/momentum/mcad_strat.py:114: FutureWarning: The 'method' keyword in Series.replace is deprecated and will be removed in a future version.\n",
      "  positions = signals.replace(0, method='ffill').fillna(0)\n"
     ]
    },
    {
     "name": "stdout",
     "output_type": "stream",
     "text": [
      "355\n"
     ]
    },
    {
     "name": "stderr",
     "output_type": "stream",
     "text": [
      "/home/bhvignesh/trading_system/src/strategies/momentum/mcad_strat.py:102: FutureWarning: Downcasting object dtype arrays on .fillna, .ffill, .bfill is deprecated and will change in a future version. Call result.infer_objects(copy=False) instead. To opt-in to the future behavior, set `pd.set_option('future.no_silent_downcasting', True)`\n",
      "  prev_above = above.shift(1).fillna(False)\n",
      "/home/bhvignesh/trading_system/src/strategies/momentum/mcad_strat.py:103: FutureWarning: Downcasting object dtype arrays on .fillna, .ffill, .bfill is deprecated and will change in a future version. Call result.infer_objects(copy=False) instead. To opt-in to the future behavior, set `pd.set_option('future.no_silent_downcasting', True)`\n",
      "  prev_below = below.shift(1).fillna(False)\n",
      "/home/bhvignesh/trading_system/src/strategies/momentum/mcad_strat.py:114: FutureWarning: The 'method' keyword in Series.replace is deprecated and will be removed in a future version.\n",
      "  positions = signals.replace(0, method='ffill').fillna(0)\n"
     ]
    },
    {
     "name": "stdout",
     "output_type": "stream",
     "text": [
      "356\n"
     ]
    },
    {
     "name": "stderr",
     "output_type": "stream",
     "text": [
      "/home/bhvignesh/trading_system/src/strategies/momentum/mcad_strat.py:102: FutureWarning: Downcasting object dtype arrays on .fillna, .ffill, .bfill is deprecated and will change in a future version. Call result.infer_objects(copy=False) instead. To opt-in to the future behavior, set `pd.set_option('future.no_silent_downcasting', True)`\n",
      "  prev_above = above.shift(1).fillna(False)\n",
      "/home/bhvignesh/trading_system/src/strategies/momentum/mcad_strat.py:103: FutureWarning: Downcasting object dtype arrays on .fillna, .ffill, .bfill is deprecated and will change in a future version. Call result.infer_objects(copy=False) instead. To opt-in to the future behavior, set `pd.set_option('future.no_silent_downcasting', True)`\n",
      "  prev_below = below.shift(1).fillna(False)\n",
      "/home/bhvignesh/trading_system/src/strategies/momentum/mcad_strat.py:114: FutureWarning: The 'method' keyword in Series.replace is deprecated and will be removed in a future version.\n",
      "  positions = signals.replace(0, method='ffill').fillna(0)\n"
     ]
    },
    {
     "name": "stdout",
     "output_type": "stream",
     "text": [
      "357\n"
     ]
    },
    {
     "name": "stderr",
     "output_type": "stream",
     "text": [
      "/home/bhvignesh/trading_system/src/strategies/momentum/mcad_strat.py:102: FutureWarning: Downcasting object dtype arrays on .fillna, .ffill, .bfill is deprecated and will change in a future version. Call result.infer_objects(copy=False) instead. To opt-in to the future behavior, set `pd.set_option('future.no_silent_downcasting', True)`\n",
      "  prev_above = above.shift(1).fillna(False)\n",
      "/home/bhvignesh/trading_system/src/strategies/momentum/mcad_strat.py:103: FutureWarning: Downcasting object dtype arrays on .fillna, .ffill, .bfill is deprecated and will change in a future version. Call result.infer_objects(copy=False) instead. To opt-in to the future behavior, set `pd.set_option('future.no_silent_downcasting', True)`\n",
      "  prev_below = below.shift(1).fillna(False)\n",
      "/home/bhvignesh/trading_system/src/strategies/momentum/mcad_strat.py:114: FutureWarning: The 'method' keyword in Series.replace is deprecated and will be removed in a future version.\n",
      "  positions = signals.replace(0, method='ffill').fillna(0)\n"
     ]
    },
    {
     "name": "stdout",
     "output_type": "stream",
     "text": [
      "358\n"
     ]
    },
    {
     "name": "stderr",
     "output_type": "stream",
     "text": [
      "/home/bhvignesh/trading_system/src/strategies/momentum/mcad_strat.py:102: FutureWarning: Downcasting object dtype arrays on .fillna, .ffill, .bfill is deprecated and will change in a future version. Call result.infer_objects(copy=False) instead. To opt-in to the future behavior, set `pd.set_option('future.no_silent_downcasting', True)`\n",
      "  prev_above = above.shift(1).fillna(False)\n",
      "/home/bhvignesh/trading_system/src/strategies/momentum/mcad_strat.py:103: FutureWarning: Downcasting object dtype arrays on .fillna, .ffill, .bfill is deprecated and will change in a future version. Call result.infer_objects(copy=False) instead. To opt-in to the future behavior, set `pd.set_option('future.no_silent_downcasting', True)`\n",
      "  prev_below = below.shift(1).fillna(False)\n",
      "/home/bhvignesh/trading_system/src/strategies/momentum/mcad_strat.py:114: FutureWarning: The 'method' keyword in Series.replace is deprecated and will be removed in a future version.\n",
      "  positions = signals.replace(0, method='ffill').fillna(0)\n"
     ]
    },
    {
     "name": "stdout",
     "output_type": "stream",
     "text": [
      "359\n"
     ]
    },
    {
     "name": "stderr",
     "output_type": "stream",
     "text": [
      "/home/bhvignesh/trading_system/src/strategies/momentum/mcad_strat.py:102: FutureWarning: Downcasting object dtype arrays on .fillna, .ffill, .bfill is deprecated and will change in a future version. Call result.infer_objects(copy=False) instead. To opt-in to the future behavior, set `pd.set_option('future.no_silent_downcasting', True)`\n",
      "  prev_above = above.shift(1).fillna(False)\n",
      "/home/bhvignesh/trading_system/src/strategies/momentum/mcad_strat.py:103: FutureWarning: Downcasting object dtype arrays on .fillna, .ffill, .bfill is deprecated and will change in a future version. Call result.infer_objects(copy=False) instead. To opt-in to the future behavior, set `pd.set_option('future.no_silent_downcasting', True)`\n",
      "  prev_below = below.shift(1).fillna(False)\n",
      "/home/bhvignesh/trading_system/src/strategies/momentum/mcad_strat.py:114: FutureWarning: The 'method' keyword in Series.replace is deprecated and will be removed in a future version.\n",
      "  positions = signals.replace(0, method='ffill').fillna(0)\n"
     ]
    },
    {
     "name": "stdout",
     "output_type": "stream",
     "text": [
      "360\n"
     ]
    },
    {
     "name": "stderr",
     "output_type": "stream",
     "text": [
      "/home/bhvignesh/trading_system/src/strategies/momentum/mcad_strat.py:102: FutureWarning: Downcasting object dtype arrays on .fillna, .ffill, .bfill is deprecated and will change in a future version. Call result.infer_objects(copy=False) instead. To opt-in to the future behavior, set `pd.set_option('future.no_silent_downcasting', True)`\n",
      "  prev_above = above.shift(1).fillna(False)\n",
      "/home/bhvignesh/trading_system/src/strategies/momentum/mcad_strat.py:103: FutureWarning: Downcasting object dtype arrays on .fillna, .ffill, .bfill is deprecated and will change in a future version. Call result.infer_objects(copy=False) instead. To opt-in to the future behavior, set `pd.set_option('future.no_silent_downcasting', True)`\n",
      "  prev_below = below.shift(1).fillna(False)\n",
      "/home/bhvignesh/trading_system/src/strategies/momentum/mcad_strat.py:114: FutureWarning: The 'method' keyword in Series.replace is deprecated and will be removed in a future version.\n",
      "  positions = signals.replace(0, method='ffill').fillna(0)\n"
     ]
    },
    {
     "name": "stdout",
     "output_type": "stream",
     "text": [
      "361\n"
     ]
    },
    {
     "name": "stderr",
     "output_type": "stream",
     "text": [
      "/home/bhvignesh/trading_system/src/strategies/momentum/mcad_strat.py:102: FutureWarning: Downcasting object dtype arrays on .fillna, .ffill, .bfill is deprecated and will change in a future version. Call result.infer_objects(copy=False) instead. To opt-in to the future behavior, set `pd.set_option('future.no_silent_downcasting', True)`\n",
      "  prev_above = above.shift(1).fillna(False)\n",
      "/home/bhvignesh/trading_system/src/strategies/momentum/mcad_strat.py:103: FutureWarning: Downcasting object dtype arrays on .fillna, .ffill, .bfill is deprecated and will change in a future version. Call result.infer_objects(copy=False) instead. To opt-in to the future behavior, set `pd.set_option('future.no_silent_downcasting', True)`\n",
      "  prev_below = below.shift(1).fillna(False)\n",
      "/home/bhvignesh/trading_system/src/strategies/momentum/mcad_strat.py:114: FutureWarning: The 'method' keyword in Series.replace is deprecated and will be removed in a future version.\n",
      "  positions = signals.replace(0, method='ffill').fillna(0)\n"
     ]
    },
    {
     "name": "stdout",
     "output_type": "stream",
     "text": [
      "362\n"
     ]
    },
    {
     "name": "stderr",
     "output_type": "stream",
     "text": [
      "/home/bhvignesh/trading_system/src/strategies/momentum/mcad_strat.py:102: FutureWarning: Downcasting object dtype arrays on .fillna, .ffill, .bfill is deprecated and will change in a future version. Call result.infer_objects(copy=False) instead. To opt-in to the future behavior, set `pd.set_option('future.no_silent_downcasting', True)`\n",
      "  prev_above = above.shift(1).fillna(False)\n",
      "/home/bhvignesh/trading_system/src/strategies/momentum/mcad_strat.py:103: FutureWarning: Downcasting object dtype arrays on .fillna, .ffill, .bfill is deprecated and will change in a future version. Call result.infer_objects(copy=False) instead. To opt-in to the future behavior, set `pd.set_option('future.no_silent_downcasting', True)`\n",
      "  prev_below = below.shift(1).fillna(False)\n",
      "/home/bhvignesh/trading_system/src/strategies/momentum/mcad_strat.py:114: FutureWarning: The 'method' keyword in Series.replace is deprecated and will be removed in a future version.\n",
      "  positions = signals.replace(0, method='ffill').fillna(0)\n"
     ]
    },
    {
     "name": "stdout",
     "output_type": "stream",
     "text": [
      "363\n"
     ]
    },
    {
     "name": "stderr",
     "output_type": "stream",
     "text": [
      "/home/bhvignesh/trading_system/src/strategies/momentum/mcad_strat.py:102: FutureWarning: Downcasting object dtype arrays on .fillna, .ffill, .bfill is deprecated and will change in a future version. Call result.infer_objects(copy=False) instead. To opt-in to the future behavior, set `pd.set_option('future.no_silent_downcasting', True)`\n",
      "  prev_above = above.shift(1).fillna(False)\n",
      "/home/bhvignesh/trading_system/src/strategies/momentum/mcad_strat.py:103: FutureWarning: Downcasting object dtype arrays on .fillna, .ffill, .bfill is deprecated and will change in a future version. Call result.infer_objects(copy=False) instead. To opt-in to the future behavior, set `pd.set_option('future.no_silent_downcasting', True)`\n",
      "  prev_below = below.shift(1).fillna(False)\n",
      "/home/bhvignesh/trading_system/src/strategies/momentum/mcad_strat.py:114: FutureWarning: The 'method' keyword in Series.replace is deprecated and will be removed in a future version.\n",
      "  positions = signals.replace(0, method='ffill').fillna(0)\n"
     ]
    },
    {
     "name": "stdout",
     "output_type": "stream",
     "text": [
      "364\n"
     ]
    },
    {
     "name": "stderr",
     "output_type": "stream",
     "text": [
      "/home/bhvignesh/trading_system/src/strategies/momentum/mcad_strat.py:102: FutureWarning: Downcasting object dtype arrays on .fillna, .ffill, .bfill is deprecated and will change in a future version. Call result.infer_objects(copy=False) instead. To opt-in to the future behavior, set `pd.set_option('future.no_silent_downcasting', True)`\n",
      "  prev_above = above.shift(1).fillna(False)\n",
      "/home/bhvignesh/trading_system/src/strategies/momentum/mcad_strat.py:103: FutureWarning: Downcasting object dtype arrays on .fillna, .ffill, .bfill is deprecated and will change in a future version. Call result.infer_objects(copy=False) instead. To opt-in to the future behavior, set `pd.set_option('future.no_silent_downcasting', True)`\n",
      "  prev_below = below.shift(1).fillna(False)\n",
      "/home/bhvignesh/trading_system/src/strategies/momentum/mcad_strat.py:114: FutureWarning: The 'method' keyword in Series.replace is deprecated and will be removed in a future version.\n",
      "  positions = signals.replace(0, method='ffill').fillna(0)\n"
     ]
    },
    {
     "name": "stdout",
     "output_type": "stream",
     "text": [
      "365\n"
     ]
    },
    {
     "name": "stderr",
     "output_type": "stream",
     "text": [
      "/home/bhvignesh/trading_system/src/strategies/momentum/mcad_strat.py:102: FutureWarning: Downcasting object dtype arrays on .fillna, .ffill, .bfill is deprecated and will change in a future version. Call result.infer_objects(copy=False) instead. To opt-in to the future behavior, set `pd.set_option('future.no_silent_downcasting', True)`\n",
      "  prev_above = above.shift(1).fillna(False)\n",
      "/home/bhvignesh/trading_system/src/strategies/momentum/mcad_strat.py:103: FutureWarning: Downcasting object dtype arrays on .fillna, .ffill, .bfill is deprecated and will change in a future version. Call result.infer_objects(copy=False) instead. To opt-in to the future behavior, set `pd.set_option('future.no_silent_downcasting', True)`\n",
      "  prev_below = below.shift(1).fillna(False)\n",
      "/home/bhvignesh/trading_system/src/strategies/momentum/mcad_strat.py:114: FutureWarning: The 'method' keyword in Series.replace is deprecated and will be removed in a future version.\n",
      "  positions = signals.replace(0, method='ffill').fillna(0)\n"
     ]
    },
    {
     "name": "stdout",
     "output_type": "stream",
     "text": [
      "366\n"
     ]
    },
    {
     "name": "stderr",
     "output_type": "stream",
     "text": [
      "/home/bhvignesh/trading_system/src/strategies/momentum/mcad_strat.py:102: FutureWarning: Downcasting object dtype arrays on .fillna, .ffill, .bfill is deprecated and will change in a future version. Call result.infer_objects(copy=False) instead. To opt-in to the future behavior, set `pd.set_option('future.no_silent_downcasting', True)`\n",
      "  prev_above = above.shift(1).fillna(False)\n",
      "/home/bhvignesh/trading_system/src/strategies/momentum/mcad_strat.py:103: FutureWarning: Downcasting object dtype arrays on .fillna, .ffill, .bfill is deprecated and will change in a future version. Call result.infer_objects(copy=False) instead. To opt-in to the future behavior, set `pd.set_option('future.no_silent_downcasting', True)`\n",
      "  prev_below = below.shift(1).fillna(False)\n",
      "/home/bhvignesh/trading_system/src/strategies/momentum/mcad_strat.py:114: FutureWarning: The 'method' keyword in Series.replace is deprecated and will be removed in a future version.\n",
      "  positions = signals.replace(0, method='ffill').fillna(0)\n"
     ]
    },
    {
     "name": "stdout",
     "output_type": "stream",
     "text": [
      "367\n"
     ]
    },
    {
     "name": "stderr",
     "output_type": "stream",
     "text": [
      "/home/bhvignesh/trading_system/src/strategies/momentum/mcad_strat.py:102: FutureWarning: Downcasting object dtype arrays on .fillna, .ffill, .bfill is deprecated and will change in a future version. Call result.infer_objects(copy=False) instead. To opt-in to the future behavior, set `pd.set_option('future.no_silent_downcasting', True)`\n",
      "  prev_above = above.shift(1).fillna(False)\n",
      "/home/bhvignesh/trading_system/src/strategies/momentum/mcad_strat.py:103: FutureWarning: Downcasting object dtype arrays on .fillna, .ffill, .bfill is deprecated and will change in a future version. Call result.infer_objects(copy=False) instead. To opt-in to the future behavior, set `pd.set_option('future.no_silent_downcasting', True)`\n",
      "  prev_below = below.shift(1).fillna(False)\n",
      "/home/bhvignesh/trading_system/src/strategies/momentum/mcad_strat.py:114: FutureWarning: The 'method' keyword in Series.replace is deprecated and will be removed in a future version.\n",
      "  positions = signals.replace(0, method='ffill').fillna(0)\n"
     ]
    },
    {
     "name": "stdout",
     "output_type": "stream",
     "text": [
      "368\n"
     ]
    },
    {
     "name": "stderr",
     "output_type": "stream",
     "text": [
      "/home/bhvignesh/trading_system/src/strategies/momentum/mcad_strat.py:102: FutureWarning: Downcasting object dtype arrays on .fillna, .ffill, .bfill is deprecated and will change in a future version. Call result.infer_objects(copy=False) instead. To opt-in to the future behavior, set `pd.set_option('future.no_silent_downcasting', True)`\n",
      "  prev_above = above.shift(1).fillna(False)\n",
      "/home/bhvignesh/trading_system/src/strategies/momentum/mcad_strat.py:103: FutureWarning: Downcasting object dtype arrays on .fillna, .ffill, .bfill is deprecated and will change in a future version. Call result.infer_objects(copy=False) instead. To opt-in to the future behavior, set `pd.set_option('future.no_silent_downcasting', True)`\n",
      "  prev_below = below.shift(1).fillna(False)\n",
      "/home/bhvignesh/trading_system/src/strategies/momentum/mcad_strat.py:114: FutureWarning: The 'method' keyword in Series.replace is deprecated and will be removed in a future version.\n",
      "  positions = signals.replace(0, method='ffill').fillna(0)\n"
     ]
    },
    {
     "name": "stdout",
     "output_type": "stream",
     "text": [
      "369\n"
     ]
    },
    {
     "name": "stderr",
     "output_type": "stream",
     "text": [
      "/home/bhvignesh/trading_system/src/strategies/momentum/mcad_strat.py:102: FutureWarning: Downcasting object dtype arrays on .fillna, .ffill, .bfill is deprecated and will change in a future version. Call result.infer_objects(copy=False) instead. To opt-in to the future behavior, set `pd.set_option('future.no_silent_downcasting', True)`\n",
      "  prev_above = above.shift(1).fillna(False)\n",
      "/home/bhvignesh/trading_system/src/strategies/momentum/mcad_strat.py:103: FutureWarning: Downcasting object dtype arrays on .fillna, .ffill, .bfill is deprecated and will change in a future version. Call result.infer_objects(copy=False) instead. To opt-in to the future behavior, set `pd.set_option('future.no_silent_downcasting', True)`\n",
      "  prev_below = below.shift(1).fillna(False)\n",
      "/home/bhvignesh/trading_system/src/strategies/momentum/mcad_strat.py:114: FutureWarning: The 'method' keyword in Series.replace is deprecated and will be removed in a future version.\n",
      "  positions = signals.replace(0, method='ffill').fillna(0)\n"
     ]
    },
    {
     "name": "stdout",
     "output_type": "stream",
     "text": [
      "370\n"
     ]
    },
    {
     "name": "stderr",
     "output_type": "stream",
     "text": [
      "/home/bhvignesh/trading_system/src/strategies/momentum/mcad_strat.py:102: FutureWarning: Downcasting object dtype arrays on .fillna, .ffill, .bfill is deprecated and will change in a future version. Call result.infer_objects(copy=False) instead. To opt-in to the future behavior, set `pd.set_option('future.no_silent_downcasting', True)`\n",
      "  prev_above = above.shift(1).fillna(False)\n",
      "/home/bhvignesh/trading_system/src/strategies/momentum/mcad_strat.py:103: FutureWarning: Downcasting object dtype arrays on .fillna, .ffill, .bfill is deprecated and will change in a future version. Call result.infer_objects(copy=False) instead. To opt-in to the future behavior, set `pd.set_option('future.no_silent_downcasting', True)`\n",
      "  prev_below = below.shift(1).fillna(False)\n",
      "/home/bhvignesh/trading_system/src/strategies/momentum/mcad_strat.py:114: FutureWarning: The 'method' keyword in Series.replace is deprecated and will be removed in a future version.\n",
      "  positions = signals.replace(0, method='ffill').fillna(0)\n"
     ]
    },
    {
     "name": "stdout",
     "output_type": "stream",
     "text": [
      "371\n"
     ]
    },
    {
     "name": "stderr",
     "output_type": "stream",
     "text": [
      "/home/bhvignesh/trading_system/src/strategies/momentum/mcad_strat.py:102: FutureWarning: Downcasting object dtype arrays on .fillna, .ffill, .bfill is deprecated and will change in a future version. Call result.infer_objects(copy=False) instead. To opt-in to the future behavior, set `pd.set_option('future.no_silent_downcasting', True)`\n",
      "  prev_above = above.shift(1).fillna(False)\n",
      "/home/bhvignesh/trading_system/src/strategies/momentum/mcad_strat.py:103: FutureWarning: Downcasting object dtype arrays on .fillna, .ffill, .bfill is deprecated and will change in a future version. Call result.infer_objects(copy=False) instead. To opt-in to the future behavior, set `pd.set_option('future.no_silent_downcasting', True)`\n",
      "  prev_below = below.shift(1).fillna(False)\n",
      "/home/bhvignesh/trading_system/src/strategies/momentum/mcad_strat.py:114: FutureWarning: The 'method' keyword in Series.replace is deprecated and will be removed in a future version.\n",
      "  positions = signals.replace(0, method='ffill').fillna(0)\n"
     ]
    },
    {
     "name": "stdout",
     "output_type": "stream",
     "text": [
      "372\n"
     ]
    },
    {
     "name": "stderr",
     "output_type": "stream",
     "text": [
      "/home/bhvignesh/trading_system/src/strategies/momentum/mcad_strat.py:102: FutureWarning: Downcasting object dtype arrays on .fillna, .ffill, .bfill is deprecated and will change in a future version. Call result.infer_objects(copy=False) instead. To opt-in to the future behavior, set `pd.set_option('future.no_silent_downcasting', True)`\n",
      "  prev_above = above.shift(1).fillna(False)\n",
      "/home/bhvignesh/trading_system/src/strategies/momentum/mcad_strat.py:103: FutureWarning: Downcasting object dtype arrays on .fillna, .ffill, .bfill is deprecated and will change in a future version. Call result.infer_objects(copy=False) instead. To opt-in to the future behavior, set `pd.set_option('future.no_silent_downcasting', True)`\n",
      "  prev_below = below.shift(1).fillna(False)\n",
      "/home/bhvignesh/trading_system/src/strategies/momentum/mcad_strat.py:114: FutureWarning: The 'method' keyword in Series.replace is deprecated and will be removed in a future version.\n",
      "  positions = signals.replace(0, method='ffill').fillna(0)\n"
     ]
    },
    {
     "name": "stdout",
     "output_type": "stream",
     "text": [
      "373\n"
     ]
    },
    {
     "name": "stderr",
     "output_type": "stream",
     "text": [
      "/home/bhvignesh/trading_system/src/strategies/momentum/mcad_strat.py:102: FutureWarning: Downcasting object dtype arrays on .fillna, .ffill, .bfill is deprecated and will change in a future version. Call result.infer_objects(copy=False) instead. To opt-in to the future behavior, set `pd.set_option('future.no_silent_downcasting', True)`\n",
      "  prev_above = above.shift(1).fillna(False)\n",
      "/home/bhvignesh/trading_system/src/strategies/momentum/mcad_strat.py:103: FutureWarning: Downcasting object dtype arrays on .fillna, .ffill, .bfill is deprecated and will change in a future version. Call result.infer_objects(copy=False) instead. To opt-in to the future behavior, set `pd.set_option('future.no_silent_downcasting', True)`\n",
      "  prev_below = below.shift(1).fillna(False)\n",
      "/home/bhvignesh/trading_system/src/strategies/momentum/mcad_strat.py:114: FutureWarning: The 'method' keyword in Series.replace is deprecated and will be removed in a future version.\n",
      "  positions = signals.replace(0, method='ffill').fillna(0)\n"
     ]
    },
    {
     "name": "stdout",
     "output_type": "stream",
     "text": [
      "374\n"
     ]
    },
    {
     "name": "stderr",
     "output_type": "stream",
     "text": [
      "/home/bhvignesh/trading_system/src/strategies/momentum/mcad_strat.py:102: FutureWarning: Downcasting object dtype arrays on .fillna, .ffill, .bfill is deprecated and will change in a future version. Call result.infer_objects(copy=False) instead. To opt-in to the future behavior, set `pd.set_option('future.no_silent_downcasting', True)`\n",
      "  prev_above = above.shift(1).fillna(False)\n",
      "/home/bhvignesh/trading_system/src/strategies/momentum/mcad_strat.py:103: FutureWarning: Downcasting object dtype arrays on .fillna, .ffill, .bfill is deprecated and will change in a future version. Call result.infer_objects(copy=False) instead. To opt-in to the future behavior, set `pd.set_option('future.no_silent_downcasting', True)`\n",
      "  prev_below = below.shift(1).fillna(False)\n",
      "/home/bhvignesh/trading_system/src/strategies/momentum/mcad_strat.py:114: FutureWarning: The 'method' keyword in Series.replace is deprecated and will be removed in a future version.\n",
      "  positions = signals.replace(0, method='ffill').fillna(0)\n"
     ]
    },
    {
     "name": "stdout",
     "output_type": "stream",
     "text": [
      "375\n"
     ]
    },
    {
     "name": "stderr",
     "output_type": "stream",
     "text": [
      "/home/bhvignesh/trading_system/src/strategies/momentum/mcad_strat.py:102: FutureWarning: Downcasting object dtype arrays on .fillna, .ffill, .bfill is deprecated and will change in a future version. Call result.infer_objects(copy=False) instead. To opt-in to the future behavior, set `pd.set_option('future.no_silent_downcasting', True)`\n",
      "  prev_above = above.shift(1).fillna(False)\n",
      "/home/bhvignesh/trading_system/src/strategies/momentum/mcad_strat.py:103: FutureWarning: Downcasting object dtype arrays on .fillna, .ffill, .bfill is deprecated and will change in a future version. Call result.infer_objects(copy=False) instead. To opt-in to the future behavior, set `pd.set_option('future.no_silent_downcasting', True)`\n",
      "  prev_below = below.shift(1).fillna(False)\n",
      "/home/bhvignesh/trading_system/src/strategies/momentum/mcad_strat.py:114: FutureWarning: The 'method' keyword in Series.replace is deprecated and will be removed in a future version.\n",
      "  positions = signals.replace(0, method='ffill').fillna(0)\n"
     ]
    },
    {
     "name": "stdout",
     "output_type": "stream",
     "text": [
      "376\n"
     ]
    },
    {
     "name": "stderr",
     "output_type": "stream",
     "text": [
      "/home/bhvignesh/trading_system/src/strategies/momentum/mcad_strat.py:102: FutureWarning: Downcasting object dtype arrays on .fillna, .ffill, .bfill is deprecated and will change in a future version. Call result.infer_objects(copy=False) instead. To opt-in to the future behavior, set `pd.set_option('future.no_silent_downcasting', True)`\n",
      "  prev_above = above.shift(1).fillna(False)\n",
      "/home/bhvignesh/trading_system/src/strategies/momentum/mcad_strat.py:103: FutureWarning: Downcasting object dtype arrays on .fillna, .ffill, .bfill is deprecated and will change in a future version. Call result.infer_objects(copy=False) instead. To opt-in to the future behavior, set `pd.set_option('future.no_silent_downcasting', True)`\n",
      "  prev_below = below.shift(1).fillna(False)\n",
      "/home/bhvignesh/trading_system/src/strategies/momentum/mcad_strat.py:114: FutureWarning: The 'method' keyword in Series.replace is deprecated and will be removed in a future version.\n",
      "  positions = signals.replace(0, method='ffill').fillna(0)\n"
     ]
    },
    {
     "name": "stdout",
     "output_type": "stream",
     "text": [
      "377\n"
     ]
    },
    {
     "name": "stderr",
     "output_type": "stream",
     "text": [
      "/home/bhvignesh/trading_system/src/strategies/momentum/mcad_strat.py:102: FutureWarning: Downcasting object dtype arrays on .fillna, .ffill, .bfill is deprecated and will change in a future version. Call result.infer_objects(copy=False) instead. To opt-in to the future behavior, set `pd.set_option('future.no_silent_downcasting', True)`\n",
      "  prev_above = above.shift(1).fillna(False)\n",
      "/home/bhvignesh/trading_system/src/strategies/momentum/mcad_strat.py:103: FutureWarning: Downcasting object dtype arrays on .fillna, .ffill, .bfill is deprecated and will change in a future version. Call result.infer_objects(copy=False) instead. To opt-in to the future behavior, set `pd.set_option('future.no_silent_downcasting', True)`\n",
      "  prev_below = below.shift(1).fillna(False)\n",
      "/home/bhvignesh/trading_system/src/strategies/momentum/mcad_strat.py:114: FutureWarning: The 'method' keyword in Series.replace is deprecated and will be removed in a future version.\n",
      "  positions = signals.replace(0, method='ffill').fillna(0)\n"
     ]
    },
    {
     "name": "stdout",
     "output_type": "stream",
     "text": [
      "378\n"
     ]
    },
    {
     "name": "stderr",
     "output_type": "stream",
     "text": [
      "/home/bhvignesh/trading_system/src/strategies/momentum/mcad_strat.py:102: FutureWarning: Downcasting object dtype arrays on .fillna, .ffill, .bfill is deprecated and will change in a future version. Call result.infer_objects(copy=False) instead. To opt-in to the future behavior, set `pd.set_option('future.no_silent_downcasting', True)`\n",
      "  prev_above = above.shift(1).fillna(False)\n",
      "/home/bhvignesh/trading_system/src/strategies/momentum/mcad_strat.py:103: FutureWarning: Downcasting object dtype arrays on .fillna, .ffill, .bfill is deprecated and will change in a future version. Call result.infer_objects(copy=False) instead. To opt-in to the future behavior, set `pd.set_option('future.no_silent_downcasting', True)`\n",
      "  prev_below = below.shift(1).fillna(False)\n",
      "/home/bhvignesh/trading_system/src/strategies/momentum/mcad_strat.py:114: FutureWarning: The 'method' keyword in Series.replace is deprecated and will be removed in a future version.\n",
      "  positions = signals.replace(0, method='ffill').fillna(0)\n"
     ]
    },
    {
     "name": "stdout",
     "output_type": "stream",
     "text": [
      "379\n"
     ]
    },
    {
     "name": "stderr",
     "output_type": "stream",
     "text": [
      "/home/bhvignesh/trading_system/src/strategies/momentum/mcad_strat.py:102: FutureWarning: Downcasting object dtype arrays on .fillna, .ffill, .bfill is deprecated and will change in a future version. Call result.infer_objects(copy=False) instead. To opt-in to the future behavior, set `pd.set_option('future.no_silent_downcasting', True)`\n",
      "  prev_above = above.shift(1).fillna(False)\n",
      "/home/bhvignesh/trading_system/src/strategies/momentum/mcad_strat.py:103: FutureWarning: Downcasting object dtype arrays on .fillna, .ffill, .bfill is deprecated and will change in a future version. Call result.infer_objects(copy=False) instead. To opt-in to the future behavior, set `pd.set_option('future.no_silent_downcasting', True)`\n",
      "  prev_below = below.shift(1).fillna(False)\n",
      "/home/bhvignesh/trading_system/src/strategies/momentum/mcad_strat.py:114: FutureWarning: The 'method' keyword in Series.replace is deprecated and will be removed in a future version.\n",
      "  positions = signals.replace(0, method='ffill').fillna(0)\n"
     ]
    },
    {
     "name": "stdout",
     "output_type": "stream",
     "text": [
      "380\n"
     ]
    },
    {
     "name": "stderr",
     "output_type": "stream",
     "text": [
      "/home/bhvignesh/trading_system/src/strategies/momentum/mcad_strat.py:102: FutureWarning: Downcasting object dtype arrays on .fillna, .ffill, .bfill is deprecated and will change in a future version. Call result.infer_objects(copy=False) instead. To opt-in to the future behavior, set `pd.set_option('future.no_silent_downcasting', True)`\n",
      "  prev_above = above.shift(1).fillna(False)\n",
      "/home/bhvignesh/trading_system/src/strategies/momentum/mcad_strat.py:103: FutureWarning: Downcasting object dtype arrays on .fillna, .ffill, .bfill is deprecated and will change in a future version. Call result.infer_objects(copy=False) instead. To opt-in to the future behavior, set `pd.set_option('future.no_silent_downcasting', True)`\n",
      "  prev_below = below.shift(1).fillna(False)\n",
      "/home/bhvignesh/trading_system/src/strategies/momentum/mcad_strat.py:114: FutureWarning: The 'method' keyword in Series.replace is deprecated and will be removed in a future version.\n",
      "  positions = signals.replace(0, method='ffill').fillna(0)\n"
     ]
    },
    {
     "name": "stdout",
     "output_type": "stream",
     "text": [
      "381\n"
     ]
    },
    {
     "name": "stderr",
     "output_type": "stream",
     "text": [
      "/home/bhvignesh/trading_system/src/strategies/momentum/mcad_strat.py:102: FutureWarning: Downcasting object dtype arrays on .fillna, .ffill, .bfill is deprecated and will change in a future version. Call result.infer_objects(copy=False) instead. To opt-in to the future behavior, set `pd.set_option('future.no_silent_downcasting', True)`\n",
      "  prev_above = above.shift(1).fillna(False)\n",
      "/home/bhvignesh/trading_system/src/strategies/momentum/mcad_strat.py:103: FutureWarning: Downcasting object dtype arrays on .fillna, .ffill, .bfill is deprecated and will change in a future version. Call result.infer_objects(copy=False) instead. To opt-in to the future behavior, set `pd.set_option('future.no_silent_downcasting', True)`\n",
      "  prev_below = below.shift(1).fillna(False)\n",
      "/home/bhvignesh/trading_system/src/strategies/momentum/mcad_strat.py:114: FutureWarning: The 'method' keyword in Series.replace is deprecated and will be removed in a future version.\n",
      "  positions = signals.replace(0, method='ffill').fillna(0)\n"
     ]
    },
    {
     "name": "stdout",
     "output_type": "stream",
     "text": [
      "382\n"
     ]
    },
    {
     "name": "stderr",
     "output_type": "stream",
     "text": [
      "/home/bhvignesh/trading_system/src/strategies/momentum/mcad_strat.py:102: FutureWarning: Downcasting object dtype arrays on .fillna, .ffill, .bfill is deprecated and will change in a future version. Call result.infer_objects(copy=False) instead. To opt-in to the future behavior, set `pd.set_option('future.no_silent_downcasting', True)`\n",
      "  prev_above = above.shift(1).fillna(False)\n",
      "/home/bhvignesh/trading_system/src/strategies/momentum/mcad_strat.py:103: FutureWarning: Downcasting object dtype arrays on .fillna, .ffill, .bfill is deprecated and will change in a future version. Call result.infer_objects(copy=False) instead. To opt-in to the future behavior, set `pd.set_option('future.no_silent_downcasting', True)`\n",
      "  prev_below = below.shift(1).fillna(False)\n",
      "/home/bhvignesh/trading_system/src/strategies/momentum/mcad_strat.py:114: FutureWarning: The 'method' keyword in Series.replace is deprecated and will be removed in a future version.\n",
      "  positions = signals.replace(0, method='ffill').fillna(0)\n"
     ]
    },
    {
     "name": "stdout",
     "output_type": "stream",
     "text": [
      "383\n"
     ]
    },
    {
     "name": "stderr",
     "output_type": "stream",
     "text": [
      "/home/bhvignesh/trading_system/src/strategies/momentum/mcad_strat.py:102: FutureWarning: Downcasting object dtype arrays on .fillna, .ffill, .bfill is deprecated and will change in a future version. Call result.infer_objects(copy=False) instead. To opt-in to the future behavior, set `pd.set_option('future.no_silent_downcasting', True)`\n",
      "  prev_above = above.shift(1).fillna(False)\n",
      "/home/bhvignesh/trading_system/src/strategies/momentum/mcad_strat.py:103: FutureWarning: Downcasting object dtype arrays on .fillna, .ffill, .bfill is deprecated and will change in a future version. Call result.infer_objects(copy=False) instead. To opt-in to the future behavior, set `pd.set_option('future.no_silent_downcasting', True)`\n",
      "  prev_below = below.shift(1).fillna(False)\n",
      "/home/bhvignesh/trading_system/src/strategies/momentum/mcad_strat.py:114: FutureWarning: The 'method' keyword in Series.replace is deprecated and will be removed in a future version.\n",
      "  positions = signals.replace(0, method='ffill').fillna(0)\n"
     ]
    },
    {
     "name": "stdout",
     "output_type": "stream",
     "text": [
      "384\n"
     ]
    },
    {
     "name": "stderr",
     "output_type": "stream",
     "text": [
      "/home/bhvignesh/trading_system/src/strategies/momentum/mcad_strat.py:102: FutureWarning: Downcasting object dtype arrays on .fillna, .ffill, .bfill is deprecated and will change in a future version. Call result.infer_objects(copy=False) instead. To opt-in to the future behavior, set `pd.set_option('future.no_silent_downcasting', True)`\n",
      "  prev_above = above.shift(1).fillna(False)\n",
      "/home/bhvignesh/trading_system/src/strategies/momentum/mcad_strat.py:103: FutureWarning: Downcasting object dtype arrays on .fillna, .ffill, .bfill is deprecated and will change in a future version. Call result.infer_objects(copy=False) instead. To opt-in to the future behavior, set `pd.set_option('future.no_silent_downcasting', True)`\n",
      "  prev_below = below.shift(1).fillna(False)\n",
      "/home/bhvignesh/trading_system/src/strategies/momentum/mcad_strat.py:114: FutureWarning: The 'method' keyword in Series.replace is deprecated and will be removed in a future version.\n",
      "  positions = signals.replace(0, method='ffill').fillna(0)\n"
     ]
    },
    {
     "name": "stdout",
     "output_type": "stream",
     "text": [
      "385\n"
     ]
    },
    {
     "name": "stderr",
     "output_type": "stream",
     "text": [
      "/home/bhvignesh/trading_system/src/strategies/momentum/mcad_strat.py:102: FutureWarning: Downcasting object dtype arrays on .fillna, .ffill, .bfill is deprecated and will change in a future version. Call result.infer_objects(copy=False) instead. To opt-in to the future behavior, set `pd.set_option('future.no_silent_downcasting', True)`\n",
      "  prev_above = above.shift(1).fillna(False)\n",
      "/home/bhvignesh/trading_system/src/strategies/momentum/mcad_strat.py:103: FutureWarning: Downcasting object dtype arrays on .fillna, .ffill, .bfill is deprecated and will change in a future version. Call result.infer_objects(copy=False) instead. To opt-in to the future behavior, set `pd.set_option('future.no_silent_downcasting', True)`\n",
      "  prev_below = below.shift(1).fillna(False)\n",
      "/home/bhvignesh/trading_system/src/strategies/momentum/mcad_strat.py:114: FutureWarning: The 'method' keyword in Series.replace is deprecated and will be removed in a future version.\n",
      "  positions = signals.replace(0, method='ffill').fillna(0)\n"
     ]
    },
    {
     "name": "stdout",
     "output_type": "stream",
     "text": [
      "386\n"
     ]
    },
    {
     "name": "stderr",
     "output_type": "stream",
     "text": [
      "/home/bhvignesh/trading_system/src/strategies/momentum/mcad_strat.py:102: FutureWarning: Downcasting object dtype arrays on .fillna, .ffill, .bfill is deprecated and will change in a future version. Call result.infer_objects(copy=False) instead. To opt-in to the future behavior, set `pd.set_option('future.no_silent_downcasting', True)`\n",
      "  prev_above = above.shift(1).fillna(False)\n",
      "/home/bhvignesh/trading_system/src/strategies/momentum/mcad_strat.py:103: FutureWarning: Downcasting object dtype arrays on .fillna, .ffill, .bfill is deprecated and will change in a future version. Call result.infer_objects(copy=False) instead. To opt-in to the future behavior, set `pd.set_option('future.no_silent_downcasting', True)`\n",
      "  prev_below = below.shift(1).fillna(False)\n",
      "/home/bhvignesh/trading_system/src/strategies/momentum/mcad_strat.py:114: FutureWarning: The 'method' keyword in Series.replace is deprecated and will be removed in a future version.\n",
      "  positions = signals.replace(0, method='ffill').fillna(0)\n"
     ]
    },
    {
     "name": "stdout",
     "output_type": "stream",
     "text": [
      "387\n"
     ]
    },
    {
     "name": "stderr",
     "output_type": "stream",
     "text": [
      "/home/bhvignesh/trading_system/src/strategies/momentum/mcad_strat.py:102: FutureWarning: Downcasting object dtype arrays on .fillna, .ffill, .bfill is deprecated and will change in a future version. Call result.infer_objects(copy=False) instead. To opt-in to the future behavior, set `pd.set_option('future.no_silent_downcasting', True)`\n",
      "  prev_above = above.shift(1).fillna(False)\n",
      "/home/bhvignesh/trading_system/src/strategies/momentum/mcad_strat.py:103: FutureWarning: Downcasting object dtype arrays on .fillna, .ffill, .bfill is deprecated and will change in a future version. Call result.infer_objects(copy=False) instead. To opt-in to the future behavior, set `pd.set_option('future.no_silent_downcasting', True)`\n",
      "  prev_below = below.shift(1).fillna(False)\n",
      "/home/bhvignesh/trading_system/src/strategies/momentum/mcad_strat.py:114: FutureWarning: The 'method' keyword in Series.replace is deprecated and will be removed in a future version.\n",
      "  positions = signals.replace(0, method='ffill').fillna(0)\n"
     ]
    },
    {
     "name": "stdout",
     "output_type": "stream",
     "text": [
      "388\n"
     ]
    },
    {
     "name": "stderr",
     "output_type": "stream",
     "text": [
      "/home/bhvignesh/trading_system/src/strategies/momentum/mcad_strat.py:102: FutureWarning: Downcasting object dtype arrays on .fillna, .ffill, .bfill is deprecated and will change in a future version. Call result.infer_objects(copy=False) instead. To opt-in to the future behavior, set `pd.set_option('future.no_silent_downcasting', True)`\n",
      "  prev_above = above.shift(1).fillna(False)\n",
      "/home/bhvignesh/trading_system/src/strategies/momentum/mcad_strat.py:103: FutureWarning: Downcasting object dtype arrays on .fillna, .ffill, .bfill is deprecated and will change in a future version. Call result.infer_objects(copy=False) instead. To opt-in to the future behavior, set `pd.set_option('future.no_silent_downcasting', True)`\n",
      "  prev_below = below.shift(1).fillna(False)\n",
      "/home/bhvignesh/trading_system/src/strategies/momentum/mcad_strat.py:114: FutureWarning: The 'method' keyword in Series.replace is deprecated and will be removed in a future version.\n",
      "  positions = signals.replace(0, method='ffill').fillna(0)\n"
     ]
    },
    {
     "name": "stdout",
     "output_type": "stream",
     "text": [
      "389\n"
     ]
    },
    {
     "name": "stderr",
     "output_type": "stream",
     "text": [
      "/home/bhvignesh/trading_system/src/strategies/momentum/mcad_strat.py:102: FutureWarning: Downcasting object dtype arrays on .fillna, .ffill, .bfill is deprecated and will change in a future version. Call result.infer_objects(copy=False) instead. To opt-in to the future behavior, set `pd.set_option('future.no_silent_downcasting', True)`\n",
      "  prev_above = above.shift(1).fillna(False)\n",
      "/home/bhvignesh/trading_system/src/strategies/momentum/mcad_strat.py:103: FutureWarning: Downcasting object dtype arrays on .fillna, .ffill, .bfill is deprecated and will change in a future version. Call result.infer_objects(copy=False) instead. To opt-in to the future behavior, set `pd.set_option('future.no_silent_downcasting', True)`\n",
      "  prev_below = below.shift(1).fillna(False)\n",
      "/home/bhvignesh/trading_system/src/strategies/momentum/mcad_strat.py:114: FutureWarning: The 'method' keyword in Series.replace is deprecated and will be removed in a future version.\n",
      "  positions = signals.replace(0, method='ffill').fillna(0)\n"
     ]
    },
    {
     "name": "stdout",
     "output_type": "stream",
     "text": [
      "390\n"
     ]
    },
    {
     "name": "stderr",
     "output_type": "stream",
     "text": [
      "/home/bhvignesh/trading_system/src/strategies/momentum/mcad_strat.py:102: FutureWarning: Downcasting object dtype arrays on .fillna, .ffill, .bfill is deprecated and will change in a future version. Call result.infer_objects(copy=False) instead. To opt-in to the future behavior, set `pd.set_option('future.no_silent_downcasting', True)`\n",
      "  prev_above = above.shift(1).fillna(False)\n",
      "/home/bhvignesh/trading_system/src/strategies/momentum/mcad_strat.py:103: FutureWarning: Downcasting object dtype arrays on .fillna, .ffill, .bfill is deprecated and will change in a future version. Call result.infer_objects(copy=False) instead. To opt-in to the future behavior, set `pd.set_option('future.no_silent_downcasting', True)`\n",
      "  prev_below = below.shift(1).fillna(False)\n",
      "/home/bhvignesh/trading_system/src/strategies/momentum/mcad_strat.py:114: FutureWarning: The 'method' keyword in Series.replace is deprecated and will be removed in a future version.\n",
      "  positions = signals.replace(0, method='ffill').fillna(0)\n"
     ]
    },
    {
     "name": "stdout",
     "output_type": "stream",
     "text": [
      "391\n"
     ]
    },
    {
     "name": "stderr",
     "output_type": "stream",
     "text": [
      "/home/bhvignesh/trading_system/src/strategies/momentum/mcad_strat.py:102: FutureWarning: Downcasting object dtype arrays on .fillna, .ffill, .bfill is deprecated and will change in a future version. Call result.infer_objects(copy=False) instead. To opt-in to the future behavior, set `pd.set_option('future.no_silent_downcasting', True)`\n",
      "  prev_above = above.shift(1).fillna(False)\n",
      "/home/bhvignesh/trading_system/src/strategies/momentum/mcad_strat.py:103: FutureWarning: Downcasting object dtype arrays on .fillna, .ffill, .bfill is deprecated and will change in a future version. Call result.infer_objects(copy=False) instead. To opt-in to the future behavior, set `pd.set_option('future.no_silent_downcasting', True)`\n",
      "  prev_below = below.shift(1).fillna(False)\n",
      "/home/bhvignesh/trading_system/src/strategies/momentum/mcad_strat.py:114: FutureWarning: The 'method' keyword in Series.replace is deprecated and will be removed in a future version.\n",
      "  positions = signals.replace(0, method='ffill').fillna(0)\n"
     ]
    },
    {
     "name": "stdout",
     "output_type": "stream",
     "text": [
      "392\n"
     ]
    },
    {
     "name": "stderr",
     "output_type": "stream",
     "text": [
      "/home/bhvignesh/trading_system/src/strategies/momentum/mcad_strat.py:102: FutureWarning: Downcasting object dtype arrays on .fillna, .ffill, .bfill is deprecated and will change in a future version. Call result.infer_objects(copy=False) instead. To opt-in to the future behavior, set `pd.set_option('future.no_silent_downcasting', True)`\n",
      "  prev_above = above.shift(1).fillna(False)\n",
      "/home/bhvignesh/trading_system/src/strategies/momentum/mcad_strat.py:103: FutureWarning: Downcasting object dtype arrays on .fillna, .ffill, .bfill is deprecated and will change in a future version. Call result.infer_objects(copy=False) instead. To opt-in to the future behavior, set `pd.set_option('future.no_silent_downcasting', True)`\n",
      "  prev_below = below.shift(1).fillna(False)\n",
      "/home/bhvignesh/trading_system/src/strategies/momentum/mcad_strat.py:114: FutureWarning: The 'method' keyword in Series.replace is deprecated and will be removed in a future version.\n",
      "  positions = signals.replace(0, method='ffill').fillna(0)\n"
     ]
    },
    {
     "name": "stdout",
     "output_type": "stream",
     "text": [
      "393\n"
     ]
    },
    {
     "name": "stderr",
     "output_type": "stream",
     "text": [
      "/home/bhvignesh/trading_system/src/strategies/momentum/mcad_strat.py:102: FutureWarning: Downcasting object dtype arrays on .fillna, .ffill, .bfill is deprecated and will change in a future version. Call result.infer_objects(copy=False) instead. To opt-in to the future behavior, set `pd.set_option('future.no_silent_downcasting', True)`\n",
      "  prev_above = above.shift(1).fillna(False)\n",
      "/home/bhvignesh/trading_system/src/strategies/momentum/mcad_strat.py:103: FutureWarning: Downcasting object dtype arrays on .fillna, .ffill, .bfill is deprecated and will change in a future version. Call result.infer_objects(copy=False) instead. To opt-in to the future behavior, set `pd.set_option('future.no_silent_downcasting', True)`\n",
      "  prev_below = below.shift(1).fillna(False)\n",
      "/home/bhvignesh/trading_system/src/strategies/momentum/mcad_strat.py:114: FutureWarning: The 'method' keyword in Series.replace is deprecated and will be removed in a future version.\n",
      "  positions = signals.replace(0, method='ffill').fillna(0)\n"
     ]
    },
    {
     "name": "stdout",
     "output_type": "stream",
     "text": [
      "394\n"
     ]
    },
    {
     "name": "stderr",
     "output_type": "stream",
     "text": [
      "/home/bhvignesh/trading_system/src/strategies/momentum/mcad_strat.py:102: FutureWarning: Downcasting object dtype arrays on .fillna, .ffill, .bfill is deprecated and will change in a future version. Call result.infer_objects(copy=False) instead. To opt-in to the future behavior, set `pd.set_option('future.no_silent_downcasting', True)`\n",
      "  prev_above = above.shift(1).fillna(False)\n",
      "/home/bhvignesh/trading_system/src/strategies/momentum/mcad_strat.py:103: FutureWarning: Downcasting object dtype arrays on .fillna, .ffill, .bfill is deprecated and will change in a future version. Call result.infer_objects(copy=False) instead. To opt-in to the future behavior, set `pd.set_option('future.no_silent_downcasting', True)`\n",
      "  prev_below = below.shift(1).fillna(False)\n",
      "/home/bhvignesh/trading_system/src/strategies/momentum/mcad_strat.py:114: FutureWarning: The 'method' keyword in Series.replace is deprecated and will be removed in a future version.\n",
      "  positions = signals.replace(0, method='ffill').fillna(0)\n"
     ]
    },
    {
     "name": "stdout",
     "output_type": "stream",
     "text": [
      "395\n"
     ]
    },
    {
     "name": "stderr",
     "output_type": "stream",
     "text": [
      "/home/bhvignesh/trading_system/src/strategies/momentum/mcad_strat.py:102: FutureWarning: Downcasting object dtype arrays on .fillna, .ffill, .bfill is deprecated and will change in a future version. Call result.infer_objects(copy=False) instead. To opt-in to the future behavior, set `pd.set_option('future.no_silent_downcasting', True)`\n",
      "  prev_above = above.shift(1).fillna(False)\n",
      "/home/bhvignesh/trading_system/src/strategies/momentum/mcad_strat.py:103: FutureWarning: Downcasting object dtype arrays on .fillna, .ffill, .bfill is deprecated and will change in a future version. Call result.infer_objects(copy=False) instead. To opt-in to the future behavior, set `pd.set_option('future.no_silent_downcasting', True)`\n",
      "  prev_below = below.shift(1).fillna(False)\n",
      "/home/bhvignesh/trading_system/src/strategies/momentum/mcad_strat.py:114: FutureWarning: The 'method' keyword in Series.replace is deprecated and will be removed in a future version.\n",
      "  positions = signals.replace(0, method='ffill').fillna(0)\n"
     ]
    },
    {
     "name": "stdout",
     "output_type": "stream",
     "text": [
      "396\n"
     ]
    },
    {
     "name": "stderr",
     "output_type": "stream",
     "text": [
      "/home/bhvignesh/trading_system/src/strategies/momentum/mcad_strat.py:102: FutureWarning: Downcasting object dtype arrays on .fillna, .ffill, .bfill is deprecated and will change in a future version. Call result.infer_objects(copy=False) instead. To opt-in to the future behavior, set `pd.set_option('future.no_silent_downcasting', True)`\n",
      "  prev_above = above.shift(1).fillna(False)\n",
      "/home/bhvignesh/trading_system/src/strategies/momentum/mcad_strat.py:103: FutureWarning: Downcasting object dtype arrays on .fillna, .ffill, .bfill is deprecated and will change in a future version. Call result.infer_objects(copy=False) instead. To opt-in to the future behavior, set `pd.set_option('future.no_silent_downcasting', True)`\n",
      "  prev_below = below.shift(1).fillna(False)\n",
      "/home/bhvignesh/trading_system/src/strategies/momentum/mcad_strat.py:114: FutureWarning: The 'method' keyword in Series.replace is deprecated and will be removed in a future version.\n",
      "  positions = signals.replace(0, method='ffill').fillna(0)\n"
     ]
    },
    {
     "name": "stdout",
     "output_type": "stream",
     "text": [
      "397\n"
     ]
    },
    {
     "name": "stderr",
     "output_type": "stream",
     "text": [
      "/home/bhvignesh/trading_system/src/strategies/momentum/mcad_strat.py:102: FutureWarning: Downcasting object dtype arrays on .fillna, .ffill, .bfill is deprecated and will change in a future version. Call result.infer_objects(copy=False) instead. To opt-in to the future behavior, set `pd.set_option('future.no_silent_downcasting', True)`\n",
      "  prev_above = above.shift(1).fillna(False)\n",
      "/home/bhvignesh/trading_system/src/strategies/momentum/mcad_strat.py:103: FutureWarning: Downcasting object dtype arrays on .fillna, .ffill, .bfill is deprecated and will change in a future version. Call result.infer_objects(copy=False) instead. To opt-in to the future behavior, set `pd.set_option('future.no_silent_downcasting', True)`\n",
      "  prev_below = below.shift(1).fillna(False)\n",
      "/home/bhvignesh/trading_system/src/strategies/momentum/mcad_strat.py:114: FutureWarning: The 'method' keyword in Series.replace is deprecated and will be removed in a future version.\n",
      "  positions = signals.replace(0, method='ffill').fillna(0)\n"
     ]
    },
    {
     "name": "stdout",
     "output_type": "stream",
     "text": [
      "398\n"
     ]
    },
    {
     "name": "stderr",
     "output_type": "stream",
     "text": [
      "/home/bhvignesh/trading_system/src/strategies/momentum/mcad_strat.py:102: FutureWarning: Downcasting object dtype arrays on .fillna, .ffill, .bfill is deprecated and will change in a future version. Call result.infer_objects(copy=False) instead. To opt-in to the future behavior, set `pd.set_option('future.no_silent_downcasting', True)`\n",
      "  prev_above = above.shift(1).fillna(False)\n",
      "/home/bhvignesh/trading_system/src/strategies/momentum/mcad_strat.py:103: FutureWarning: Downcasting object dtype arrays on .fillna, .ffill, .bfill is deprecated and will change in a future version. Call result.infer_objects(copy=False) instead. To opt-in to the future behavior, set `pd.set_option('future.no_silent_downcasting', True)`\n",
      "  prev_below = below.shift(1).fillna(False)\n",
      "/home/bhvignesh/trading_system/src/strategies/momentum/mcad_strat.py:114: FutureWarning: The 'method' keyword in Series.replace is deprecated and will be removed in a future version.\n",
      "  positions = signals.replace(0, method='ffill').fillna(0)\n"
     ]
    },
    {
     "name": "stdout",
     "output_type": "stream",
     "text": [
      "399\n"
     ]
    },
    {
     "name": "stderr",
     "output_type": "stream",
     "text": [
      "/home/bhvignesh/trading_system/src/strategies/momentum/mcad_strat.py:102: FutureWarning: Downcasting object dtype arrays on .fillna, .ffill, .bfill is deprecated and will change in a future version. Call result.infer_objects(copy=False) instead. To opt-in to the future behavior, set `pd.set_option('future.no_silent_downcasting', True)`\n",
      "  prev_above = above.shift(1).fillna(False)\n",
      "/home/bhvignesh/trading_system/src/strategies/momentum/mcad_strat.py:103: FutureWarning: Downcasting object dtype arrays on .fillna, .ffill, .bfill is deprecated and will change in a future version. Call result.infer_objects(copy=False) instead. To opt-in to the future behavior, set `pd.set_option('future.no_silent_downcasting', True)`\n",
      "  prev_below = below.shift(1).fillna(False)\n",
      "/home/bhvignesh/trading_system/src/strategies/momentum/mcad_strat.py:114: FutureWarning: The 'method' keyword in Series.replace is deprecated and will be removed in a future version.\n",
      "  positions = signals.replace(0, method='ffill').fillna(0)\n"
     ]
    },
    {
     "name": "stdout",
     "output_type": "stream",
     "text": [
      "400\n"
     ]
    },
    {
     "name": "stderr",
     "output_type": "stream",
     "text": [
      "/home/bhvignesh/trading_system/src/strategies/momentum/mcad_strat.py:102: FutureWarning: Downcasting object dtype arrays on .fillna, .ffill, .bfill is deprecated and will change in a future version. Call result.infer_objects(copy=False) instead. To opt-in to the future behavior, set `pd.set_option('future.no_silent_downcasting', True)`\n",
      "  prev_above = above.shift(1).fillna(False)\n",
      "/home/bhvignesh/trading_system/src/strategies/momentum/mcad_strat.py:103: FutureWarning: Downcasting object dtype arrays on .fillna, .ffill, .bfill is deprecated and will change in a future version. Call result.infer_objects(copy=False) instead. To opt-in to the future behavior, set `pd.set_option('future.no_silent_downcasting', True)`\n",
      "  prev_below = below.shift(1).fillna(False)\n",
      "/home/bhvignesh/trading_system/src/strategies/momentum/mcad_strat.py:114: FutureWarning: The 'method' keyword in Series.replace is deprecated and will be removed in a future version.\n",
      "  positions = signals.replace(0, method='ffill').fillna(0)\n"
     ]
    },
    {
     "name": "stdout",
     "output_type": "stream",
     "text": [
      "401\n"
     ]
    },
    {
     "name": "stderr",
     "output_type": "stream",
     "text": [
      "/home/bhvignesh/trading_system/src/strategies/momentum/mcad_strat.py:102: FutureWarning: Downcasting object dtype arrays on .fillna, .ffill, .bfill is deprecated and will change in a future version. Call result.infer_objects(copy=False) instead. To opt-in to the future behavior, set `pd.set_option('future.no_silent_downcasting', True)`\n",
      "  prev_above = above.shift(1).fillna(False)\n",
      "/home/bhvignesh/trading_system/src/strategies/momentum/mcad_strat.py:103: FutureWarning: Downcasting object dtype arrays on .fillna, .ffill, .bfill is deprecated and will change in a future version. Call result.infer_objects(copy=False) instead. To opt-in to the future behavior, set `pd.set_option('future.no_silent_downcasting', True)`\n",
      "  prev_below = below.shift(1).fillna(False)\n",
      "/home/bhvignesh/trading_system/src/strategies/momentum/mcad_strat.py:114: FutureWarning: The 'method' keyword in Series.replace is deprecated and will be removed in a future version.\n",
      "  positions = signals.replace(0, method='ffill').fillna(0)\n"
     ]
    },
    {
     "name": "stdout",
     "output_type": "stream",
     "text": [
      "402\n"
     ]
    },
    {
     "name": "stderr",
     "output_type": "stream",
     "text": [
      "/home/bhvignesh/trading_system/src/strategies/momentum/mcad_strat.py:102: FutureWarning: Downcasting object dtype arrays on .fillna, .ffill, .bfill is deprecated and will change in a future version. Call result.infer_objects(copy=False) instead. To opt-in to the future behavior, set `pd.set_option('future.no_silent_downcasting', True)`\n",
      "  prev_above = above.shift(1).fillna(False)\n",
      "/home/bhvignesh/trading_system/src/strategies/momentum/mcad_strat.py:103: FutureWarning: Downcasting object dtype arrays on .fillna, .ffill, .bfill is deprecated and will change in a future version. Call result.infer_objects(copy=False) instead. To opt-in to the future behavior, set `pd.set_option('future.no_silent_downcasting', True)`\n",
      "  prev_below = below.shift(1).fillna(False)\n",
      "/home/bhvignesh/trading_system/src/strategies/momentum/mcad_strat.py:114: FutureWarning: The 'method' keyword in Series.replace is deprecated and will be removed in a future version.\n",
      "  positions = signals.replace(0, method='ffill').fillna(0)\n"
     ]
    },
    {
     "name": "stdout",
     "output_type": "stream",
     "text": [
      "403\n"
     ]
    },
    {
     "name": "stderr",
     "output_type": "stream",
     "text": [
      "/home/bhvignesh/trading_system/src/strategies/momentum/mcad_strat.py:102: FutureWarning: Downcasting object dtype arrays on .fillna, .ffill, .bfill is deprecated and will change in a future version. Call result.infer_objects(copy=False) instead. To opt-in to the future behavior, set `pd.set_option('future.no_silent_downcasting', True)`\n",
      "  prev_above = above.shift(1).fillna(False)\n",
      "/home/bhvignesh/trading_system/src/strategies/momentum/mcad_strat.py:103: FutureWarning: Downcasting object dtype arrays on .fillna, .ffill, .bfill is deprecated and will change in a future version. Call result.infer_objects(copy=False) instead. To opt-in to the future behavior, set `pd.set_option('future.no_silent_downcasting', True)`\n",
      "  prev_below = below.shift(1).fillna(False)\n",
      "/home/bhvignesh/trading_system/src/strategies/momentum/mcad_strat.py:114: FutureWarning: The 'method' keyword in Series.replace is deprecated and will be removed in a future version.\n",
      "  positions = signals.replace(0, method='ffill').fillna(0)\n"
     ]
    },
    {
     "name": "stdout",
     "output_type": "stream",
     "text": [
      "404\n"
     ]
    },
    {
     "name": "stderr",
     "output_type": "stream",
     "text": [
      "/home/bhvignesh/trading_system/src/strategies/momentum/mcad_strat.py:102: FutureWarning: Downcasting object dtype arrays on .fillna, .ffill, .bfill is deprecated and will change in a future version. Call result.infer_objects(copy=False) instead. To opt-in to the future behavior, set `pd.set_option('future.no_silent_downcasting', True)`\n",
      "  prev_above = above.shift(1).fillna(False)\n",
      "/home/bhvignesh/trading_system/src/strategies/momentum/mcad_strat.py:103: FutureWarning: Downcasting object dtype arrays on .fillna, .ffill, .bfill is deprecated and will change in a future version. Call result.infer_objects(copy=False) instead. To opt-in to the future behavior, set `pd.set_option('future.no_silent_downcasting', True)`\n",
      "  prev_below = below.shift(1).fillna(False)\n",
      "/home/bhvignesh/trading_system/src/strategies/momentum/mcad_strat.py:114: FutureWarning: The 'method' keyword in Series.replace is deprecated and will be removed in a future version.\n",
      "  positions = signals.replace(0, method='ffill').fillna(0)\n"
     ]
    },
    {
     "name": "stdout",
     "output_type": "stream",
     "text": [
      "405\n"
     ]
    },
    {
     "name": "stderr",
     "output_type": "stream",
     "text": [
      "/home/bhvignesh/trading_system/src/strategies/momentum/mcad_strat.py:102: FutureWarning: Downcasting object dtype arrays on .fillna, .ffill, .bfill is deprecated and will change in a future version. Call result.infer_objects(copy=False) instead. To opt-in to the future behavior, set `pd.set_option('future.no_silent_downcasting', True)`\n",
      "  prev_above = above.shift(1).fillna(False)\n",
      "/home/bhvignesh/trading_system/src/strategies/momentum/mcad_strat.py:103: FutureWarning: Downcasting object dtype arrays on .fillna, .ffill, .bfill is deprecated and will change in a future version. Call result.infer_objects(copy=False) instead. To opt-in to the future behavior, set `pd.set_option('future.no_silent_downcasting', True)`\n",
      "  prev_below = below.shift(1).fillna(False)\n",
      "/home/bhvignesh/trading_system/src/strategies/momentum/mcad_strat.py:114: FutureWarning: The 'method' keyword in Series.replace is deprecated and will be removed in a future version.\n",
      "  positions = signals.replace(0, method='ffill').fillna(0)\n"
     ]
    },
    {
     "name": "stdout",
     "output_type": "stream",
     "text": [
      "406\n"
     ]
    },
    {
     "name": "stderr",
     "output_type": "stream",
     "text": [
      "/home/bhvignesh/trading_system/src/strategies/momentum/mcad_strat.py:102: FutureWarning: Downcasting object dtype arrays on .fillna, .ffill, .bfill is deprecated and will change in a future version. Call result.infer_objects(copy=False) instead. To opt-in to the future behavior, set `pd.set_option('future.no_silent_downcasting', True)`\n",
      "  prev_above = above.shift(1).fillna(False)\n",
      "/home/bhvignesh/trading_system/src/strategies/momentum/mcad_strat.py:103: FutureWarning: Downcasting object dtype arrays on .fillna, .ffill, .bfill is deprecated and will change in a future version. Call result.infer_objects(copy=False) instead. To opt-in to the future behavior, set `pd.set_option('future.no_silent_downcasting', True)`\n",
      "  prev_below = below.shift(1).fillna(False)\n",
      "/home/bhvignesh/trading_system/src/strategies/momentum/mcad_strat.py:114: FutureWarning: The 'method' keyword in Series.replace is deprecated and will be removed in a future version.\n",
      "  positions = signals.replace(0, method='ffill').fillna(0)\n"
     ]
    },
    {
     "name": "stdout",
     "output_type": "stream",
     "text": [
      "407\n"
     ]
    },
    {
     "name": "stderr",
     "output_type": "stream",
     "text": [
      "/home/bhvignesh/trading_system/src/strategies/momentum/mcad_strat.py:102: FutureWarning: Downcasting object dtype arrays on .fillna, .ffill, .bfill is deprecated and will change in a future version. Call result.infer_objects(copy=False) instead. To opt-in to the future behavior, set `pd.set_option('future.no_silent_downcasting', True)`\n",
      "  prev_above = above.shift(1).fillna(False)\n",
      "/home/bhvignesh/trading_system/src/strategies/momentum/mcad_strat.py:103: FutureWarning: Downcasting object dtype arrays on .fillna, .ffill, .bfill is deprecated and will change in a future version. Call result.infer_objects(copy=False) instead. To opt-in to the future behavior, set `pd.set_option('future.no_silent_downcasting', True)`\n",
      "  prev_below = below.shift(1).fillna(False)\n",
      "/home/bhvignesh/trading_system/src/strategies/momentum/mcad_strat.py:114: FutureWarning: The 'method' keyword in Series.replace is deprecated and will be removed in a future version.\n",
      "  positions = signals.replace(0, method='ffill').fillna(0)\n"
     ]
    },
    {
     "name": "stdout",
     "output_type": "stream",
     "text": [
      "408\n"
     ]
    },
    {
     "name": "stderr",
     "output_type": "stream",
     "text": [
      "/home/bhvignesh/trading_system/src/strategies/momentum/mcad_strat.py:102: FutureWarning: Downcasting object dtype arrays on .fillna, .ffill, .bfill is deprecated and will change in a future version. Call result.infer_objects(copy=False) instead. To opt-in to the future behavior, set `pd.set_option('future.no_silent_downcasting', True)`\n",
      "  prev_above = above.shift(1).fillna(False)\n",
      "/home/bhvignesh/trading_system/src/strategies/momentum/mcad_strat.py:103: FutureWarning: Downcasting object dtype arrays on .fillna, .ffill, .bfill is deprecated and will change in a future version. Call result.infer_objects(copy=False) instead. To opt-in to the future behavior, set `pd.set_option('future.no_silent_downcasting', True)`\n",
      "  prev_below = below.shift(1).fillna(False)\n",
      "/home/bhvignesh/trading_system/src/strategies/momentum/mcad_strat.py:114: FutureWarning: The 'method' keyword in Series.replace is deprecated and will be removed in a future version.\n",
      "  positions = signals.replace(0, method='ffill').fillna(0)\n"
     ]
    },
    {
     "name": "stdout",
     "output_type": "stream",
     "text": [
      "409\n"
     ]
    },
    {
     "name": "stderr",
     "output_type": "stream",
     "text": [
      "/home/bhvignesh/trading_system/src/strategies/momentum/mcad_strat.py:102: FutureWarning: Downcasting object dtype arrays on .fillna, .ffill, .bfill is deprecated and will change in a future version. Call result.infer_objects(copy=False) instead. To opt-in to the future behavior, set `pd.set_option('future.no_silent_downcasting', True)`\n",
      "  prev_above = above.shift(1).fillna(False)\n",
      "/home/bhvignesh/trading_system/src/strategies/momentum/mcad_strat.py:103: FutureWarning: Downcasting object dtype arrays on .fillna, .ffill, .bfill is deprecated and will change in a future version. Call result.infer_objects(copy=False) instead. To opt-in to the future behavior, set `pd.set_option('future.no_silent_downcasting', True)`\n",
      "  prev_below = below.shift(1).fillna(False)\n",
      "/home/bhvignesh/trading_system/src/strategies/momentum/mcad_strat.py:114: FutureWarning: The 'method' keyword in Series.replace is deprecated and will be removed in a future version.\n",
      "  positions = signals.replace(0, method='ffill').fillna(0)\n"
     ]
    },
    {
     "name": "stdout",
     "output_type": "stream",
     "text": [
      "410\n"
     ]
    },
    {
     "name": "stderr",
     "output_type": "stream",
     "text": [
      "/home/bhvignesh/trading_system/src/strategies/momentum/mcad_strat.py:102: FutureWarning: Downcasting object dtype arrays on .fillna, .ffill, .bfill is deprecated and will change in a future version. Call result.infer_objects(copy=False) instead. To opt-in to the future behavior, set `pd.set_option('future.no_silent_downcasting', True)`\n",
      "  prev_above = above.shift(1).fillna(False)\n",
      "/home/bhvignesh/trading_system/src/strategies/momentum/mcad_strat.py:103: FutureWarning: Downcasting object dtype arrays on .fillna, .ffill, .bfill is deprecated and will change in a future version. Call result.infer_objects(copy=False) instead. To opt-in to the future behavior, set `pd.set_option('future.no_silent_downcasting', True)`\n",
      "  prev_below = below.shift(1).fillna(False)\n",
      "/home/bhvignesh/trading_system/src/strategies/momentum/mcad_strat.py:114: FutureWarning: The 'method' keyword in Series.replace is deprecated and will be removed in a future version.\n",
      "  positions = signals.replace(0, method='ffill').fillna(0)\n"
     ]
    },
    {
     "name": "stdout",
     "output_type": "stream",
     "text": [
      "411\n"
     ]
    },
    {
     "name": "stderr",
     "output_type": "stream",
     "text": [
      "/home/bhvignesh/trading_system/src/strategies/momentum/mcad_strat.py:102: FutureWarning: Downcasting object dtype arrays on .fillna, .ffill, .bfill is deprecated and will change in a future version. Call result.infer_objects(copy=False) instead. To opt-in to the future behavior, set `pd.set_option('future.no_silent_downcasting', True)`\n",
      "  prev_above = above.shift(1).fillna(False)\n",
      "/home/bhvignesh/trading_system/src/strategies/momentum/mcad_strat.py:103: FutureWarning: Downcasting object dtype arrays on .fillna, .ffill, .bfill is deprecated and will change in a future version. Call result.infer_objects(copy=False) instead. To opt-in to the future behavior, set `pd.set_option('future.no_silent_downcasting', True)`\n",
      "  prev_below = below.shift(1).fillna(False)\n",
      "/home/bhvignesh/trading_system/src/strategies/momentum/mcad_strat.py:114: FutureWarning: The 'method' keyword in Series.replace is deprecated and will be removed in a future version.\n",
      "  positions = signals.replace(0, method='ffill').fillna(0)\n"
     ]
    },
    {
     "name": "stdout",
     "output_type": "stream",
     "text": [
      "412\n"
     ]
    },
    {
     "name": "stderr",
     "output_type": "stream",
     "text": [
      "/home/bhvignesh/trading_system/src/strategies/momentum/mcad_strat.py:102: FutureWarning: Downcasting object dtype arrays on .fillna, .ffill, .bfill is deprecated and will change in a future version. Call result.infer_objects(copy=False) instead. To opt-in to the future behavior, set `pd.set_option('future.no_silent_downcasting', True)`\n",
      "  prev_above = above.shift(1).fillna(False)\n",
      "/home/bhvignesh/trading_system/src/strategies/momentum/mcad_strat.py:103: FutureWarning: Downcasting object dtype arrays on .fillna, .ffill, .bfill is deprecated and will change in a future version. Call result.infer_objects(copy=False) instead. To opt-in to the future behavior, set `pd.set_option('future.no_silent_downcasting', True)`\n",
      "  prev_below = below.shift(1).fillna(False)\n",
      "/home/bhvignesh/trading_system/src/strategies/momentum/mcad_strat.py:114: FutureWarning: The 'method' keyword in Series.replace is deprecated and will be removed in a future version.\n",
      "  positions = signals.replace(0, method='ffill').fillna(0)\n"
     ]
    },
    {
     "name": "stdout",
     "output_type": "stream",
     "text": [
      "413\n"
     ]
    },
    {
     "name": "stderr",
     "output_type": "stream",
     "text": [
      "/home/bhvignesh/trading_system/src/strategies/momentum/mcad_strat.py:102: FutureWarning: Downcasting object dtype arrays on .fillna, .ffill, .bfill is deprecated and will change in a future version. Call result.infer_objects(copy=False) instead. To opt-in to the future behavior, set `pd.set_option('future.no_silent_downcasting', True)`\n",
      "  prev_above = above.shift(1).fillna(False)\n",
      "/home/bhvignesh/trading_system/src/strategies/momentum/mcad_strat.py:103: FutureWarning: Downcasting object dtype arrays on .fillna, .ffill, .bfill is deprecated and will change in a future version. Call result.infer_objects(copy=False) instead. To opt-in to the future behavior, set `pd.set_option('future.no_silent_downcasting', True)`\n",
      "  prev_below = below.shift(1).fillna(False)\n",
      "/home/bhvignesh/trading_system/src/strategies/momentum/mcad_strat.py:114: FutureWarning: The 'method' keyword in Series.replace is deprecated and will be removed in a future version.\n",
      "  positions = signals.replace(0, method='ffill').fillna(0)\n"
     ]
    },
    {
     "name": "stdout",
     "output_type": "stream",
     "text": [
      "414\n"
     ]
    },
    {
     "name": "stderr",
     "output_type": "stream",
     "text": [
      "/home/bhvignesh/trading_system/src/strategies/momentum/mcad_strat.py:102: FutureWarning: Downcasting object dtype arrays on .fillna, .ffill, .bfill is deprecated and will change in a future version. Call result.infer_objects(copy=False) instead. To opt-in to the future behavior, set `pd.set_option('future.no_silent_downcasting', True)`\n",
      "  prev_above = above.shift(1).fillna(False)\n",
      "/home/bhvignesh/trading_system/src/strategies/momentum/mcad_strat.py:103: FutureWarning: Downcasting object dtype arrays on .fillna, .ffill, .bfill is deprecated and will change in a future version. Call result.infer_objects(copy=False) instead. To opt-in to the future behavior, set `pd.set_option('future.no_silent_downcasting', True)`\n",
      "  prev_below = below.shift(1).fillna(False)\n",
      "/home/bhvignesh/trading_system/src/strategies/momentum/mcad_strat.py:114: FutureWarning: The 'method' keyword in Series.replace is deprecated and will be removed in a future version.\n",
      "  positions = signals.replace(0, method='ffill').fillna(0)\n"
     ]
    },
    {
     "name": "stdout",
     "output_type": "stream",
     "text": [
      "415\n"
     ]
    },
    {
     "name": "stderr",
     "output_type": "stream",
     "text": [
      "/home/bhvignesh/trading_system/src/strategies/momentum/mcad_strat.py:102: FutureWarning: Downcasting object dtype arrays on .fillna, .ffill, .bfill is deprecated and will change in a future version. Call result.infer_objects(copy=False) instead. To opt-in to the future behavior, set `pd.set_option('future.no_silent_downcasting', True)`\n",
      "  prev_above = above.shift(1).fillna(False)\n",
      "/home/bhvignesh/trading_system/src/strategies/momentum/mcad_strat.py:103: FutureWarning: Downcasting object dtype arrays on .fillna, .ffill, .bfill is deprecated and will change in a future version. Call result.infer_objects(copy=False) instead. To opt-in to the future behavior, set `pd.set_option('future.no_silent_downcasting', True)`\n",
      "  prev_below = below.shift(1).fillna(False)\n",
      "/home/bhvignesh/trading_system/src/strategies/momentum/mcad_strat.py:114: FutureWarning: The 'method' keyword in Series.replace is deprecated and will be removed in a future version.\n",
      "  positions = signals.replace(0, method='ffill').fillna(0)\n"
     ]
    },
    {
     "name": "stdout",
     "output_type": "stream",
     "text": [
      "416\n"
     ]
    },
    {
     "name": "stderr",
     "output_type": "stream",
     "text": [
      "/home/bhvignesh/trading_system/src/strategies/momentum/mcad_strat.py:102: FutureWarning: Downcasting object dtype arrays on .fillna, .ffill, .bfill is deprecated and will change in a future version. Call result.infer_objects(copy=False) instead. To opt-in to the future behavior, set `pd.set_option('future.no_silent_downcasting', True)`\n",
      "  prev_above = above.shift(1).fillna(False)\n",
      "/home/bhvignesh/trading_system/src/strategies/momentum/mcad_strat.py:103: FutureWarning: Downcasting object dtype arrays on .fillna, .ffill, .bfill is deprecated and will change in a future version. Call result.infer_objects(copy=False) instead. To opt-in to the future behavior, set `pd.set_option('future.no_silent_downcasting', True)`\n",
      "  prev_below = below.shift(1).fillna(False)\n",
      "/home/bhvignesh/trading_system/src/strategies/momentum/mcad_strat.py:114: FutureWarning: The 'method' keyword in Series.replace is deprecated and will be removed in a future version.\n",
      "  positions = signals.replace(0, method='ffill').fillna(0)\n"
     ]
    },
    {
     "name": "stdout",
     "output_type": "stream",
     "text": [
      "417\n"
     ]
    },
    {
     "name": "stderr",
     "output_type": "stream",
     "text": [
      "/home/bhvignesh/trading_system/src/strategies/momentum/mcad_strat.py:102: FutureWarning: Downcasting object dtype arrays on .fillna, .ffill, .bfill is deprecated and will change in a future version. Call result.infer_objects(copy=False) instead. To opt-in to the future behavior, set `pd.set_option('future.no_silent_downcasting', True)`\n",
      "  prev_above = above.shift(1).fillna(False)\n",
      "/home/bhvignesh/trading_system/src/strategies/momentum/mcad_strat.py:103: FutureWarning: Downcasting object dtype arrays on .fillna, .ffill, .bfill is deprecated and will change in a future version. Call result.infer_objects(copy=False) instead. To opt-in to the future behavior, set `pd.set_option('future.no_silent_downcasting', True)`\n",
      "  prev_below = below.shift(1).fillna(False)\n",
      "/home/bhvignesh/trading_system/src/strategies/momentum/mcad_strat.py:114: FutureWarning: The 'method' keyword in Series.replace is deprecated and will be removed in a future version.\n",
      "  positions = signals.replace(0, method='ffill').fillna(0)\n"
     ]
    },
    {
     "name": "stdout",
     "output_type": "stream",
     "text": [
      "418\n"
     ]
    },
    {
     "name": "stderr",
     "output_type": "stream",
     "text": [
      "/home/bhvignesh/trading_system/src/strategies/momentum/mcad_strat.py:102: FutureWarning: Downcasting object dtype arrays on .fillna, .ffill, .bfill is deprecated and will change in a future version. Call result.infer_objects(copy=False) instead. To opt-in to the future behavior, set `pd.set_option('future.no_silent_downcasting', True)`\n",
      "  prev_above = above.shift(1).fillna(False)\n",
      "/home/bhvignesh/trading_system/src/strategies/momentum/mcad_strat.py:103: FutureWarning: Downcasting object dtype arrays on .fillna, .ffill, .bfill is deprecated and will change in a future version. Call result.infer_objects(copy=False) instead. To opt-in to the future behavior, set `pd.set_option('future.no_silent_downcasting', True)`\n",
      "  prev_below = below.shift(1).fillna(False)\n",
      "/home/bhvignesh/trading_system/src/strategies/momentum/mcad_strat.py:114: FutureWarning: The 'method' keyword in Series.replace is deprecated and will be removed in a future version.\n",
      "  positions = signals.replace(0, method='ffill').fillna(0)\n"
     ]
    },
    {
     "name": "stdout",
     "output_type": "stream",
     "text": [
      "419\n"
     ]
    },
    {
     "name": "stderr",
     "output_type": "stream",
     "text": [
      "/home/bhvignesh/trading_system/src/strategies/momentum/mcad_strat.py:102: FutureWarning: Downcasting object dtype arrays on .fillna, .ffill, .bfill is deprecated and will change in a future version. Call result.infer_objects(copy=False) instead. To opt-in to the future behavior, set `pd.set_option('future.no_silent_downcasting', True)`\n",
      "  prev_above = above.shift(1).fillna(False)\n",
      "/home/bhvignesh/trading_system/src/strategies/momentum/mcad_strat.py:103: FutureWarning: Downcasting object dtype arrays on .fillna, .ffill, .bfill is deprecated and will change in a future version. Call result.infer_objects(copy=False) instead. To opt-in to the future behavior, set `pd.set_option('future.no_silent_downcasting', True)`\n",
      "  prev_below = below.shift(1).fillna(False)\n",
      "/home/bhvignesh/trading_system/src/strategies/momentum/mcad_strat.py:114: FutureWarning: The 'method' keyword in Series.replace is deprecated and will be removed in a future version.\n",
      "  positions = signals.replace(0, method='ffill').fillna(0)\n"
     ]
    },
    {
     "name": "stdout",
     "output_type": "stream",
     "text": [
      "420\n"
     ]
    },
    {
     "name": "stderr",
     "output_type": "stream",
     "text": [
      "/home/bhvignesh/trading_system/src/strategies/momentum/mcad_strat.py:102: FutureWarning: Downcasting object dtype arrays on .fillna, .ffill, .bfill is deprecated and will change in a future version. Call result.infer_objects(copy=False) instead. To opt-in to the future behavior, set `pd.set_option('future.no_silent_downcasting', True)`\n",
      "  prev_above = above.shift(1).fillna(False)\n",
      "/home/bhvignesh/trading_system/src/strategies/momentum/mcad_strat.py:103: FutureWarning: Downcasting object dtype arrays on .fillna, .ffill, .bfill is deprecated and will change in a future version. Call result.infer_objects(copy=False) instead. To opt-in to the future behavior, set `pd.set_option('future.no_silent_downcasting', True)`\n",
      "  prev_below = below.shift(1).fillna(False)\n",
      "/home/bhvignesh/trading_system/src/strategies/momentum/mcad_strat.py:114: FutureWarning: The 'method' keyword in Series.replace is deprecated and will be removed in a future version.\n",
      "  positions = signals.replace(0, method='ffill').fillna(0)\n"
     ]
    },
    {
     "name": "stdout",
     "output_type": "stream",
     "text": [
      "421\n"
     ]
    },
    {
     "name": "stderr",
     "output_type": "stream",
     "text": [
      "/home/bhvignesh/trading_system/src/strategies/momentum/mcad_strat.py:102: FutureWarning: Downcasting object dtype arrays on .fillna, .ffill, .bfill is deprecated and will change in a future version. Call result.infer_objects(copy=False) instead. To opt-in to the future behavior, set `pd.set_option('future.no_silent_downcasting', True)`\n",
      "  prev_above = above.shift(1).fillna(False)\n",
      "/home/bhvignesh/trading_system/src/strategies/momentum/mcad_strat.py:103: FutureWarning: Downcasting object dtype arrays on .fillna, .ffill, .bfill is deprecated and will change in a future version. Call result.infer_objects(copy=False) instead. To opt-in to the future behavior, set `pd.set_option('future.no_silent_downcasting', True)`\n",
      "  prev_below = below.shift(1).fillna(False)\n",
      "/home/bhvignesh/trading_system/src/strategies/momentum/mcad_strat.py:114: FutureWarning: The 'method' keyword in Series.replace is deprecated and will be removed in a future version.\n",
      "  positions = signals.replace(0, method='ffill').fillna(0)\n"
     ]
    },
    {
     "name": "stdout",
     "output_type": "stream",
     "text": [
      "422\n"
     ]
    },
    {
     "name": "stderr",
     "output_type": "stream",
     "text": [
      "/home/bhvignesh/trading_system/src/strategies/momentum/mcad_strat.py:102: FutureWarning: Downcasting object dtype arrays on .fillna, .ffill, .bfill is deprecated and will change in a future version. Call result.infer_objects(copy=False) instead. To opt-in to the future behavior, set `pd.set_option('future.no_silent_downcasting', True)`\n",
      "  prev_above = above.shift(1).fillna(False)\n",
      "/home/bhvignesh/trading_system/src/strategies/momentum/mcad_strat.py:103: FutureWarning: Downcasting object dtype arrays on .fillna, .ffill, .bfill is deprecated and will change in a future version. Call result.infer_objects(copy=False) instead. To opt-in to the future behavior, set `pd.set_option('future.no_silent_downcasting', True)`\n",
      "  prev_below = below.shift(1).fillna(False)\n",
      "/home/bhvignesh/trading_system/src/strategies/momentum/mcad_strat.py:114: FutureWarning: The 'method' keyword in Series.replace is deprecated and will be removed in a future version.\n",
      "  positions = signals.replace(0, method='ffill').fillna(0)\n"
     ]
    },
    {
     "name": "stdout",
     "output_type": "stream",
     "text": [
      "423\n"
     ]
    },
    {
     "name": "stderr",
     "output_type": "stream",
     "text": [
      "/home/bhvignesh/trading_system/src/strategies/momentum/mcad_strat.py:102: FutureWarning: Downcasting object dtype arrays on .fillna, .ffill, .bfill is deprecated and will change in a future version. Call result.infer_objects(copy=False) instead. To opt-in to the future behavior, set `pd.set_option('future.no_silent_downcasting', True)`\n",
      "  prev_above = above.shift(1).fillna(False)\n",
      "/home/bhvignesh/trading_system/src/strategies/momentum/mcad_strat.py:103: FutureWarning: Downcasting object dtype arrays on .fillna, .ffill, .bfill is deprecated and will change in a future version. Call result.infer_objects(copy=False) instead. To opt-in to the future behavior, set `pd.set_option('future.no_silent_downcasting', True)`\n",
      "  prev_below = below.shift(1).fillna(False)\n",
      "/home/bhvignesh/trading_system/src/strategies/momentum/mcad_strat.py:114: FutureWarning: The 'method' keyword in Series.replace is deprecated and will be removed in a future version.\n",
      "  positions = signals.replace(0, method='ffill').fillna(0)\n"
     ]
    },
    {
     "name": "stdout",
     "output_type": "stream",
     "text": [
      "424\n"
     ]
    },
    {
     "name": "stderr",
     "output_type": "stream",
     "text": [
      "/home/bhvignesh/trading_system/src/strategies/momentum/mcad_strat.py:102: FutureWarning: Downcasting object dtype arrays on .fillna, .ffill, .bfill is deprecated and will change in a future version. Call result.infer_objects(copy=False) instead. To opt-in to the future behavior, set `pd.set_option('future.no_silent_downcasting', True)`\n",
      "  prev_above = above.shift(1).fillna(False)\n",
      "/home/bhvignesh/trading_system/src/strategies/momentum/mcad_strat.py:103: FutureWarning: Downcasting object dtype arrays on .fillna, .ffill, .bfill is deprecated and will change in a future version. Call result.infer_objects(copy=False) instead. To opt-in to the future behavior, set `pd.set_option('future.no_silent_downcasting', True)`\n",
      "  prev_below = below.shift(1).fillna(False)\n",
      "/home/bhvignesh/trading_system/src/strategies/momentum/mcad_strat.py:114: FutureWarning: The 'method' keyword in Series.replace is deprecated and will be removed in a future version.\n",
      "  positions = signals.replace(0, method='ffill').fillna(0)\n"
     ]
    },
    {
     "name": "stdout",
     "output_type": "stream",
     "text": [
      "425\n"
     ]
    },
    {
     "name": "stderr",
     "output_type": "stream",
     "text": [
      "/home/bhvignesh/trading_system/src/strategies/momentum/mcad_strat.py:102: FutureWarning: Downcasting object dtype arrays on .fillna, .ffill, .bfill is deprecated and will change in a future version. Call result.infer_objects(copy=False) instead. To opt-in to the future behavior, set `pd.set_option('future.no_silent_downcasting', True)`\n",
      "  prev_above = above.shift(1).fillna(False)\n",
      "/home/bhvignesh/trading_system/src/strategies/momentum/mcad_strat.py:103: FutureWarning: Downcasting object dtype arrays on .fillna, .ffill, .bfill is deprecated and will change in a future version. Call result.infer_objects(copy=False) instead. To opt-in to the future behavior, set `pd.set_option('future.no_silent_downcasting', True)`\n",
      "  prev_below = below.shift(1).fillna(False)\n",
      "/home/bhvignesh/trading_system/src/strategies/momentum/mcad_strat.py:114: FutureWarning: The 'method' keyword in Series.replace is deprecated and will be removed in a future version.\n",
      "  positions = signals.replace(0, method='ffill').fillna(0)\n"
     ]
    },
    {
     "name": "stdout",
     "output_type": "stream",
     "text": [
      "426\n"
     ]
    },
    {
     "name": "stderr",
     "output_type": "stream",
     "text": [
      "/home/bhvignesh/trading_system/src/strategies/momentum/mcad_strat.py:102: FutureWarning: Downcasting object dtype arrays on .fillna, .ffill, .bfill is deprecated and will change in a future version. Call result.infer_objects(copy=False) instead. To opt-in to the future behavior, set `pd.set_option('future.no_silent_downcasting', True)`\n",
      "  prev_above = above.shift(1).fillna(False)\n",
      "/home/bhvignesh/trading_system/src/strategies/momentum/mcad_strat.py:103: FutureWarning: Downcasting object dtype arrays on .fillna, .ffill, .bfill is deprecated and will change in a future version. Call result.infer_objects(copy=False) instead. To opt-in to the future behavior, set `pd.set_option('future.no_silent_downcasting', True)`\n",
      "  prev_below = below.shift(1).fillna(False)\n",
      "/home/bhvignesh/trading_system/src/strategies/momentum/mcad_strat.py:114: FutureWarning: The 'method' keyword in Series.replace is deprecated and will be removed in a future version.\n",
      "  positions = signals.replace(0, method='ffill').fillna(0)\n"
     ]
    },
    {
     "name": "stdout",
     "output_type": "stream",
     "text": [
      "427\n"
     ]
    },
    {
     "name": "stderr",
     "output_type": "stream",
     "text": [
      "/home/bhvignesh/trading_system/src/strategies/momentum/mcad_strat.py:102: FutureWarning: Downcasting object dtype arrays on .fillna, .ffill, .bfill is deprecated and will change in a future version. Call result.infer_objects(copy=False) instead. To opt-in to the future behavior, set `pd.set_option('future.no_silent_downcasting', True)`\n",
      "  prev_above = above.shift(1).fillna(False)\n",
      "/home/bhvignesh/trading_system/src/strategies/momentum/mcad_strat.py:103: FutureWarning: Downcasting object dtype arrays on .fillna, .ffill, .bfill is deprecated and will change in a future version. Call result.infer_objects(copy=False) instead. To opt-in to the future behavior, set `pd.set_option('future.no_silent_downcasting', True)`\n",
      "  prev_below = below.shift(1).fillna(False)\n",
      "/home/bhvignesh/trading_system/src/strategies/momentum/mcad_strat.py:114: FutureWarning: The 'method' keyword in Series.replace is deprecated and will be removed in a future version.\n",
      "  positions = signals.replace(0, method='ffill').fillna(0)\n"
     ]
    },
    {
     "name": "stdout",
     "output_type": "stream",
     "text": [
      "428\n"
     ]
    },
    {
     "name": "stderr",
     "output_type": "stream",
     "text": [
      "/home/bhvignesh/trading_system/src/strategies/momentum/mcad_strat.py:102: FutureWarning: Downcasting object dtype arrays on .fillna, .ffill, .bfill is deprecated and will change in a future version. Call result.infer_objects(copy=False) instead. To opt-in to the future behavior, set `pd.set_option('future.no_silent_downcasting', True)`\n",
      "  prev_above = above.shift(1).fillna(False)\n",
      "/home/bhvignesh/trading_system/src/strategies/momentum/mcad_strat.py:103: FutureWarning: Downcasting object dtype arrays on .fillna, .ffill, .bfill is deprecated and will change in a future version. Call result.infer_objects(copy=False) instead. To opt-in to the future behavior, set `pd.set_option('future.no_silent_downcasting', True)`\n",
      "  prev_below = below.shift(1).fillna(False)\n",
      "/home/bhvignesh/trading_system/src/strategies/momentum/mcad_strat.py:114: FutureWarning: The 'method' keyword in Series.replace is deprecated and will be removed in a future version.\n",
      "  positions = signals.replace(0, method='ffill').fillna(0)\n"
     ]
    },
    {
     "name": "stdout",
     "output_type": "stream",
     "text": [
      "429\n"
     ]
    },
    {
     "name": "stderr",
     "output_type": "stream",
     "text": [
      "/home/bhvignesh/trading_system/src/strategies/momentum/mcad_strat.py:102: FutureWarning: Downcasting object dtype arrays on .fillna, .ffill, .bfill is deprecated and will change in a future version. Call result.infer_objects(copy=False) instead. To opt-in to the future behavior, set `pd.set_option('future.no_silent_downcasting', True)`\n",
      "  prev_above = above.shift(1).fillna(False)\n",
      "/home/bhvignesh/trading_system/src/strategies/momentum/mcad_strat.py:103: FutureWarning: Downcasting object dtype arrays on .fillna, .ffill, .bfill is deprecated and will change in a future version. Call result.infer_objects(copy=False) instead. To opt-in to the future behavior, set `pd.set_option('future.no_silent_downcasting', True)`\n",
      "  prev_below = below.shift(1).fillna(False)\n",
      "/home/bhvignesh/trading_system/src/strategies/momentum/mcad_strat.py:114: FutureWarning: The 'method' keyword in Series.replace is deprecated and will be removed in a future version.\n",
      "  positions = signals.replace(0, method='ffill').fillna(0)\n"
     ]
    },
    {
     "name": "stdout",
     "output_type": "stream",
     "text": [
      "430\n"
     ]
    },
    {
     "name": "stderr",
     "output_type": "stream",
     "text": [
      "/home/bhvignesh/trading_system/src/strategies/momentum/mcad_strat.py:102: FutureWarning: Downcasting object dtype arrays on .fillna, .ffill, .bfill is deprecated and will change in a future version. Call result.infer_objects(copy=False) instead. To opt-in to the future behavior, set `pd.set_option('future.no_silent_downcasting', True)`\n",
      "  prev_above = above.shift(1).fillna(False)\n",
      "/home/bhvignesh/trading_system/src/strategies/momentum/mcad_strat.py:103: FutureWarning: Downcasting object dtype arrays on .fillna, .ffill, .bfill is deprecated and will change in a future version. Call result.infer_objects(copy=False) instead. To opt-in to the future behavior, set `pd.set_option('future.no_silent_downcasting', True)`\n",
      "  prev_below = below.shift(1).fillna(False)\n",
      "/home/bhvignesh/trading_system/src/strategies/momentum/mcad_strat.py:114: FutureWarning: The 'method' keyword in Series.replace is deprecated and will be removed in a future version.\n",
      "  positions = signals.replace(0, method='ffill').fillna(0)\n"
     ]
    },
    {
     "name": "stdout",
     "output_type": "stream",
     "text": [
      "431\n"
     ]
    },
    {
     "name": "stderr",
     "output_type": "stream",
     "text": [
      "/home/bhvignesh/trading_system/src/strategies/momentum/mcad_strat.py:102: FutureWarning: Downcasting object dtype arrays on .fillna, .ffill, .bfill is deprecated and will change in a future version. Call result.infer_objects(copy=False) instead. To opt-in to the future behavior, set `pd.set_option('future.no_silent_downcasting', True)`\n",
      "  prev_above = above.shift(1).fillna(False)\n",
      "/home/bhvignesh/trading_system/src/strategies/momentum/mcad_strat.py:103: FutureWarning: Downcasting object dtype arrays on .fillna, .ffill, .bfill is deprecated and will change in a future version. Call result.infer_objects(copy=False) instead. To opt-in to the future behavior, set `pd.set_option('future.no_silent_downcasting', True)`\n",
      "  prev_below = below.shift(1).fillna(False)\n",
      "/home/bhvignesh/trading_system/src/strategies/momentum/mcad_strat.py:114: FutureWarning: The 'method' keyword in Series.replace is deprecated and will be removed in a future version.\n",
      "  positions = signals.replace(0, method='ffill').fillna(0)\n"
     ]
    },
    {
     "name": "stdout",
     "output_type": "stream",
     "text": [
      "432\n"
     ]
    },
    {
     "name": "stderr",
     "output_type": "stream",
     "text": [
      "/home/bhvignesh/trading_system/src/strategies/momentum/mcad_strat.py:102: FutureWarning: Downcasting object dtype arrays on .fillna, .ffill, .bfill is deprecated and will change in a future version. Call result.infer_objects(copy=False) instead. To opt-in to the future behavior, set `pd.set_option('future.no_silent_downcasting', True)`\n",
      "  prev_above = above.shift(1).fillna(False)\n",
      "/home/bhvignesh/trading_system/src/strategies/momentum/mcad_strat.py:103: FutureWarning: Downcasting object dtype arrays on .fillna, .ffill, .bfill is deprecated and will change in a future version. Call result.infer_objects(copy=False) instead. To opt-in to the future behavior, set `pd.set_option('future.no_silent_downcasting', True)`\n",
      "  prev_below = below.shift(1).fillna(False)\n",
      "/home/bhvignesh/trading_system/src/strategies/momentum/mcad_strat.py:114: FutureWarning: The 'method' keyword in Series.replace is deprecated and will be removed in a future version.\n",
      "  positions = signals.replace(0, method='ffill').fillna(0)\n"
     ]
    },
    {
     "name": "stdout",
     "output_type": "stream",
     "text": [
      "433\n"
     ]
    },
    {
     "name": "stderr",
     "output_type": "stream",
     "text": [
      "/home/bhvignesh/trading_system/src/strategies/momentum/mcad_strat.py:102: FutureWarning: Downcasting object dtype arrays on .fillna, .ffill, .bfill is deprecated and will change in a future version. Call result.infer_objects(copy=False) instead. To opt-in to the future behavior, set `pd.set_option('future.no_silent_downcasting', True)`\n",
      "  prev_above = above.shift(1).fillna(False)\n",
      "/home/bhvignesh/trading_system/src/strategies/momentum/mcad_strat.py:103: FutureWarning: Downcasting object dtype arrays on .fillna, .ffill, .bfill is deprecated and will change in a future version. Call result.infer_objects(copy=False) instead. To opt-in to the future behavior, set `pd.set_option('future.no_silent_downcasting', True)`\n",
      "  prev_below = below.shift(1).fillna(False)\n",
      "/home/bhvignesh/trading_system/src/strategies/momentum/mcad_strat.py:114: FutureWarning: The 'method' keyword in Series.replace is deprecated and will be removed in a future version.\n",
      "  positions = signals.replace(0, method='ffill').fillna(0)\n"
     ]
    },
    {
     "name": "stdout",
     "output_type": "stream",
     "text": [
      "434\n"
     ]
    },
    {
     "name": "stderr",
     "output_type": "stream",
     "text": [
      "/home/bhvignesh/trading_system/src/strategies/momentum/mcad_strat.py:102: FutureWarning: Downcasting object dtype arrays on .fillna, .ffill, .bfill is deprecated and will change in a future version. Call result.infer_objects(copy=False) instead. To opt-in to the future behavior, set `pd.set_option('future.no_silent_downcasting', True)`\n",
      "  prev_above = above.shift(1).fillna(False)\n",
      "/home/bhvignesh/trading_system/src/strategies/momentum/mcad_strat.py:103: FutureWarning: Downcasting object dtype arrays on .fillna, .ffill, .bfill is deprecated and will change in a future version. Call result.infer_objects(copy=False) instead. To opt-in to the future behavior, set `pd.set_option('future.no_silent_downcasting', True)`\n",
      "  prev_below = below.shift(1).fillna(False)\n",
      "/home/bhvignesh/trading_system/src/strategies/momentum/mcad_strat.py:114: FutureWarning: The 'method' keyword in Series.replace is deprecated and will be removed in a future version.\n",
      "  positions = signals.replace(0, method='ffill').fillna(0)\n"
     ]
    },
    {
     "name": "stdout",
     "output_type": "stream",
     "text": [
      "435\n"
     ]
    },
    {
     "name": "stderr",
     "output_type": "stream",
     "text": [
      "/home/bhvignesh/trading_system/src/strategies/momentum/mcad_strat.py:102: FutureWarning: Downcasting object dtype arrays on .fillna, .ffill, .bfill is deprecated and will change in a future version. Call result.infer_objects(copy=False) instead. To opt-in to the future behavior, set `pd.set_option('future.no_silent_downcasting', True)`\n",
      "  prev_above = above.shift(1).fillna(False)\n",
      "/home/bhvignesh/trading_system/src/strategies/momentum/mcad_strat.py:103: FutureWarning: Downcasting object dtype arrays on .fillna, .ffill, .bfill is deprecated and will change in a future version. Call result.infer_objects(copy=False) instead. To opt-in to the future behavior, set `pd.set_option('future.no_silent_downcasting', True)`\n",
      "  prev_below = below.shift(1).fillna(False)\n",
      "/home/bhvignesh/trading_system/src/strategies/momentum/mcad_strat.py:114: FutureWarning: The 'method' keyword in Series.replace is deprecated and will be removed in a future version.\n",
      "  positions = signals.replace(0, method='ffill').fillna(0)\n"
     ]
    },
    {
     "name": "stdout",
     "output_type": "stream",
     "text": [
      "436\n"
     ]
    },
    {
     "name": "stderr",
     "output_type": "stream",
     "text": [
      "/home/bhvignesh/trading_system/src/strategies/momentum/mcad_strat.py:102: FutureWarning: Downcasting object dtype arrays on .fillna, .ffill, .bfill is deprecated and will change in a future version. Call result.infer_objects(copy=False) instead. To opt-in to the future behavior, set `pd.set_option('future.no_silent_downcasting', True)`\n",
      "  prev_above = above.shift(1).fillna(False)\n",
      "/home/bhvignesh/trading_system/src/strategies/momentum/mcad_strat.py:103: FutureWarning: Downcasting object dtype arrays on .fillna, .ffill, .bfill is deprecated and will change in a future version. Call result.infer_objects(copy=False) instead. To opt-in to the future behavior, set `pd.set_option('future.no_silent_downcasting', True)`\n",
      "  prev_below = below.shift(1).fillna(False)\n",
      "/home/bhvignesh/trading_system/src/strategies/momentum/mcad_strat.py:114: FutureWarning: The 'method' keyword in Series.replace is deprecated and will be removed in a future version.\n",
      "  positions = signals.replace(0, method='ffill').fillna(0)\n"
     ]
    },
    {
     "name": "stdout",
     "output_type": "stream",
     "text": [
      "437\n"
     ]
    },
    {
     "name": "stderr",
     "output_type": "stream",
     "text": [
      "/home/bhvignesh/trading_system/src/strategies/momentum/mcad_strat.py:102: FutureWarning: Downcasting object dtype arrays on .fillna, .ffill, .bfill is deprecated and will change in a future version. Call result.infer_objects(copy=False) instead. To opt-in to the future behavior, set `pd.set_option('future.no_silent_downcasting', True)`\n",
      "  prev_above = above.shift(1).fillna(False)\n",
      "/home/bhvignesh/trading_system/src/strategies/momentum/mcad_strat.py:103: FutureWarning: Downcasting object dtype arrays on .fillna, .ffill, .bfill is deprecated and will change in a future version. Call result.infer_objects(copy=False) instead. To opt-in to the future behavior, set `pd.set_option('future.no_silent_downcasting', True)`\n",
      "  prev_below = below.shift(1).fillna(False)\n",
      "/home/bhvignesh/trading_system/src/strategies/momentum/mcad_strat.py:114: FutureWarning: The 'method' keyword in Series.replace is deprecated and will be removed in a future version.\n",
      "  positions = signals.replace(0, method='ffill').fillna(0)\n"
     ]
    },
    {
     "name": "stdout",
     "output_type": "stream",
     "text": [
      "438\n"
     ]
    },
    {
     "name": "stderr",
     "output_type": "stream",
     "text": [
      "/home/bhvignesh/trading_system/src/strategies/momentum/mcad_strat.py:102: FutureWarning: Downcasting object dtype arrays on .fillna, .ffill, .bfill is deprecated and will change in a future version. Call result.infer_objects(copy=False) instead. To opt-in to the future behavior, set `pd.set_option('future.no_silent_downcasting', True)`\n",
      "  prev_above = above.shift(1).fillna(False)\n",
      "/home/bhvignesh/trading_system/src/strategies/momentum/mcad_strat.py:103: FutureWarning: Downcasting object dtype arrays on .fillna, .ffill, .bfill is deprecated and will change in a future version. Call result.infer_objects(copy=False) instead. To opt-in to the future behavior, set `pd.set_option('future.no_silent_downcasting', True)`\n",
      "  prev_below = below.shift(1).fillna(False)\n",
      "/home/bhvignesh/trading_system/src/strategies/momentum/mcad_strat.py:114: FutureWarning: The 'method' keyword in Series.replace is deprecated and will be removed in a future version.\n",
      "  positions = signals.replace(0, method='ffill').fillna(0)\n"
     ]
    },
    {
     "name": "stdout",
     "output_type": "stream",
     "text": [
      "439\n"
     ]
    },
    {
     "name": "stderr",
     "output_type": "stream",
     "text": [
      "/home/bhvignesh/trading_system/src/strategies/momentum/mcad_strat.py:102: FutureWarning: Downcasting object dtype arrays on .fillna, .ffill, .bfill is deprecated and will change in a future version. Call result.infer_objects(copy=False) instead. To opt-in to the future behavior, set `pd.set_option('future.no_silent_downcasting', True)`\n",
      "  prev_above = above.shift(1).fillna(False)\n",
      "/home/bhvignesh/trading_system/src/strategies/momentum/mcad_strat.py:103: FutureWarning: Downcasting object dtype arrays on .fillna, .ffill, .bfill is deprecated and will change in a future version. Call result.infer_objects(copy=False) instead. To opt-in to the future behavior, set `pd.set_option('future.no_silent_downcasting', True)`\n",
      "  prev_below = below.shift(1).fillna(False)\n",
      "/home/bhvignesh/trading_system/src/strategies/momentum/mcad_strat.py:114: FutureWarning: The 'method' keyword in Series.replace is deprecated and will be removed in a future version.\n",
      "  positions = signals.replace(0, method='ffill').fillna(0)\n"
     ]
    },
    {
     "name": "stdout",
     "output_type": "stream",
     "text": [
      "440\n"
     ]
    },
    {
     "name": "stderr",
     "output_type": "stream",
     "text": [
      "/home/bhvignesh/trading_system/src/strategies/momentum/mcad_strat.py:102: FutureWarning: Downcasting object dtype arrays on .fillna, .ffill, .bfill is deprecated and will change in a future version. Call result.infer_objects(copy=False) instead. To opt-in to the future behavior, set `pd.set_option('future.no_silent_downcasting', True)`\n",
      "  prev_above = above.shift(1).fillna(False)\n",
      "/home/bhvignesh/trading_system/src/strategies/momentum/mcad_strat.py:103: FutureWarning: Downcasting object dtype arrays on .fillna, .ffill, .bfill is deprecated and will change in a future version. Call result.infer_objects(copy=False) instead. To opt-in to the future behavior, set `pd.set_option('future.no_silent_downcasting', True)`\n",
      "  prev_below = below.shift(1).fillna(False)\n",
      "/home/bhvignesh/trading_system/src/strategies/momentum/mcad_strat.py:114: FutureWarning: The 'method' keyword in Series.replace is deprecated and will be removed in a future version.\n",
      "  positions = signals.replace(0, method='ffill').fillna(0)\n"
     ]
    },
    {
     "name": "stdout",
     "output_type": "stream",
     "text": [
      "441\n"
     ]
    },
    {
     "name": "stderr",
     "output_type": "stream",
     "text": [
      "/home/bhvignesh/trading_system/src/strategies/momentum/mcad_strat.py:102: FutureWarning: Downcasting object dtype arrays on .fillna, .ffill, .bfill is deprecated and will change in a future version. Call result.infer_objects(copy=False) instead. To opt-in to the future behavior, set `pd.set_option('future.no_silent_downcasting', True)`\n",
      "  prev_above = above.shift(1).fillna(False)\n",
      "/home/bhvignesh/trading_system/src/strategies/momentum/mcad_strat.py:103: FutureWarning: Downcasting object dtype arrays on .fillna, .ffill, .bfill is deprecated and will change in a future version. Call result.infer_objects(copy=False) instead. To opt-in to the future behavior, set `pd.set_option('future.no_silent_downcasting', True)`\n",
      "  prev_below = below.shift(1).fillna(False)\n",
      "/home/bhvignesh/trading_system/src/strategies/momentum/mcad_strat.py:114: FutureWarning: The 'method' keyword in Series.replace is deprecated and will be removed in a future version.\n",
      "  positions = signals.replace(0, method='ffill').fillna(0)\n"
     ]
    },
    {
     "name": "stdout",
     "output_type": "stream",
     "text": [
      "442\n"
     ]
    },
    {
     "name": "stderr",
     "output_type": "stream",
     "text": [
      "/home/bhvignesh/trading_system/src/strategies/momentum/mcad_strat.py:102: FutureWarning: Downcasting object dtype arrays on .fillna, .ffill, .bfill is deprecated and will change in a future version. Call result.infer_objects(copy=False) instead. To opt-in to the future behavior, set `pd.set_option('future.no_silent_downcasting', True)`\n",
      "  prev_above = above.shift(1).fillna(False)\n",
      "/home/bhvignesh/trading_system/src/strategies/momentum/mcad_strat.py:103: FutureWarning: Downcasting object dtype arrays on .fillna, .ffill, .bfill is deprecated and will change in a future version. Call result.infer_objects(copy=False) instead. To opt-in to the future behavior, set `pd.set_option('future.no_silent_downcasting', True)`\n",
      "  prev_below = below.shift(1).fillna(False)\n",
      "/home/bhvignesh/trading_system/src/strategies/momentum/mcad_strat.py:114: FutureWarning: The 'method' keyword in Series.replace is deprecated and will be removed in a future version.\n",
      "  positions = signals.replace(0, method='ffill').fillna(0)\n"
     ]
    },
    {
     "name": "stdout",
     "output_type": "stream",
     "text": [
      "443\n"
     ]
    },
    {
     "name": "stderr",
     "output_type": "stream",
     "text": [
      "/home/bhvignesh/trading_system/src/strategies/momentum/mcad_strat.py:102: FutureWarning: Downcasting object dtype arrays on .fillna, .ffill, .bfill is deprecated and will change in a future version. Call result.infer_objects(copy=False) instead. To opt-in to the future behavior, set `pd.set_option('future.no_silent_downcasting', True)`\n",
      "  prev_above = above.shift(1).fillna(False)\n",
      "/home/bhvignesh/trading_system/src/strategies/momentum/mcad_strat.py:103: FutureWarning: Downcasting object dtype arrays on .fillna, .ffill, .bfill is deprecated and will change in a future version. Call result.infer_objects(copy=False) instead. To opt-in to the future behavior, set `pd.set_option('future.no_silent_downcasting', True)`\n",
      "  prev_below = below.shift(1).fillna(False)\n",
      "/home/bhvignesh/trading_system/src/strategies/momentum/mcad_strat.py:114: FutureWarning: The 'method' keyword in Series.replace is deprecated and will be removed in a future version.\n",
      "  positions = signals.replace(0, method='ffill').fillna(0)\n"
     ]
    },
    {
     "name": "stdout",
     "output_type": "stream",
     "text": [
      "444\n"
     ]
    },
    {
     "name": "stderr",
     "output_type": "stream",
     "text": [
      "/home/bhvignesh/trading_system/src/strategies/momentum/mcad_strat.py:102: FutureWarning: Downcasting object dtype arrays on .fillna, .ffill, .bfill is deprecated and will change in a future version. Call result.infer_objects(copy=False) instead. To opt-in to the future behavior, set `pd.set_option('future.no_silent_downcasting', True)`\n",
      "  prev_above = above.shift(1).fillna(False)\n",
      "/home/bhvignesh/trading_system/src/strategies/momentum/mcad_strat.py:103: FutureWarning: Downcasting object dtype arrays on .fillna, .ffill, .bfill is deprecated and will change in a future version. Call result.infer_objects(copy=False) instead. To opt-in to the future behavior, set `pd.set_option('future.no_silent_downcasting', True)`\n",
      "  prev_below = below.shift(1).fillna(False)\n",
      "/home/bhvignesh/trading_system/src/strategies/momentum/mcad_strat.py:114: FutureWarning: The 'method' keyword in Series.replace is deprecated and will be removed in a future version.\n",
      "  positions = signals.replace(0, method='ffill').fillna(0)\n"
     ]
    },
    {
     "name": "stdout",
     "output_type": "stream",
     "text": [
      "445\n"
     ]
    },
    {
     "name": "stderr",
     "output_type": "stream",
     "text": [
      "/home/bhvignesh/trading_system/src/strategies/momentum/mcad_strat.py:102: FutureWarning: Downcasting object dtype arrays on .fillna, .ffill, .bfill is deprecated and will change in a future version. Call result.infer_objects(copy=False) instead. To opt-in to the future behavior, set `pd.set_option('future.no_silent_downcasting', True)`\n",
      "  prev_above = above.shift(1).fillna(False)\n",
      "/home/bhvignesh/trading_system/src/strategies/momentum/mcad_strat.py:103: FutureWarning: Downcasting object dtype arrays on .fillna, .ffill, .bfill is deprecated and will change in a future version. Call result.infer_objects(copy=False) instead. To opt-in to the future behavior, set `pd.set_option('future.no_silent_downcasting', True)`\n",
      "  prev_below = below.shift(1).fillna(False)\n",
      "/home/bhvignesh/trading_system/src/strategies/momentum/mcad_strat.py:114: FutureWarning: The 'method' keyword in Series.replace is deprecated and will be removed in a future version.\n",
      "  positions = signals.replace(0, method='ffill').fillna(0)\n"
     ]
    },
    {
     "name": "stdout",
     "output_type": "stream",
     "text": [
      "446\n"
     ]
    },
    {
     "name": "stderr",
     "output_type": "stream",
     "text": [
      "/home/bhvignesh/trading_system/src/strategies/momentum/mcad_strat.py:102: FutureWarning: Downcasting object dtype arrays on .fillna, .ffill, .bfill is deprecated and will change in a future version. Call result.infer_objects(copy=False) instead. To opt-in to the future behavior, set `pd.set_option('future.no_silent_downcasting', True)`\n",
      "  prev_above = above.shift(1).fillna(False)\n",
      "/home/bhvignesh/trading_system/src/strategies/momentum/mcad_strat.py:103: FutureWarning: Downcasting object dtype arrays on .fillna, .ffill, .bfill is deprecated and will change in a future version. Call result.infer_objects(copy=False) instead. To opt-in to the future behavior, set `pd.set_option('future.no_silent_downcasting', True)`\n",
      "  prev_below = below.shift(1).fillna(False)\n",
      "/home/bhvignesh/trading_system/src/strategies/momentum/mcad_strat.py:114: FutureWarning: The 'method' keyword in Series.replace is deprecated and will be removed in a future version.\n",
      "  positions = signals.replace(0, method='ffill').fillna(0)\n"
     ]
    },
    {
     "name": "stdout",
     "output_type": "stream",
     "text": [
      "447\n"
     ]
    },
    {
     "name": "stderr",
     "output_type": "stream",
     "text": [
      "/home/bhvignesh/trading_system/src/strategies/momentum/mcad_strat.py:102: FutureWarning: Downcasting object dtype arrays on .fillna, .ffill, .bfill is deprecated and will change in a future version. Call result.infer_objects(copy=False) instead. To opt-in to the future behavior, set `pd.set_option('future.no_silent_downcasting', True)`\n",
      "  prev_above = above.shift(1).fillna(False)\n",
      "/home/bhvignesh/trading_system/src/strategies/momentum/mcad_strat.py:103: FutureWarning: Downcasting object dtype arrays on .fillna, .ffill, .bfill is deprecated and will change in a future version. Call result.infer_objects(copy=False) instead. To opt-in to the future behavior, set `pd.set_option('future.no_silent_downcasting', True)`\n",
      "  prev_below = below.shift(1).fillna(False)\n",
      "/home/bhvignesh/trading_system/src/strategies/momentum/mcad_strat.py:114: FutureWarning: The 'method' keyword in Series.replace is deprecated and will be removed in a future version.\n",
      "  positions = signals.replace(0, method='ffill').fillna(0)\n"
     ]
    },
    {
     "name": "stdout",
     "output_type": "stream",
     "text": [
      "448\n"
     ]
    },
    {
     "name": "stderr",
     "output_type": "stream",
     "text": [
      "/home/bhvignesh/trading_system/src/strategies/momentum/mcad_strat.py:102: FutureWarning: Downcasting object dtype arrays on .fillna, .ffill, .bfill is deprecated and will change in a future version. Call result.infer_objects(copy=False) instead. To opt-in to the future behavior, set `pd.set_option('future.no_silent_downcasting', True)`\n",
      "  prev_above = above.shift(1).fillna(False)\n",
      "/home/bhvignesh/trading_system/src/strategies/momentum/mcad_strat.py:103: FutureWarning: Downcasting object dtype arrays on .fillna, .ffill, .bfill is deprecated and will change in a future version. Call result.infer_objects(copy=False) instead. To opt-in to the future behavior, set `pd.set_option('future.no_silent_downcasting', True)`\n",
      "  prev_below = below.shift(1).fillna(False)\n",
      "/home/bhvignesh/trading_system/src/strategies/momentum/mcad_strat.py:114: FutureWarning: The 'method' keyword in Series.replace is deprecated and will be removed in a future version.\n",
      "  positions = signals.replace(0, method='ffill').fillna(0)\n"
     ]
    },
    {
     "name": "stdout",
     "output_type": "stream",
     "text": [
      "449\n"
     ]
    },
    {
     "name": "stderr",
     "output_type": "stream",
     "text": [
      "/home/bhvignesh/trading_system/src/strategies/momentum/mcad_strat.py:102: FutureWarning: Downcasting object dtype arrays on .fillna, .ffill, .bfill is deprecated and will change in a future version. Call result.infer_objects(copy=False) instead. To opt-in to the future behavior, set `pd.set_option('future.no_silent_downcasting', True)`\n",
      "  prev_above = above.shift(1).fillna(False)\n",
      "/home/bhvignesh/trading_system/src/strategies/momentum/mcad_strat.py:103: FutureWarning: Downcasting object dtype arrays on .fillna, .ffill, .bfill is deprecated and will change in a future version. Call result.infer_objects(copy=False) instead. To opt-in to the future behavior, set `pd.set_option('future.no_silent_downcasting', True)`\n",
      "  prev_below = below.shift(1).fillna(False)\n",
      "/home/bhvignesh/trading_system/src/strategies/momentum/mcad_strat.py:114: FutureWarning: The 'method' keyword in Series.replace is deprecated and will be removed in a future version.\n",
      "  positions = signals.replace(0, method='ffill').fillna(0)\n"
     ]
    },
    {
     "name": "stdout",
     "output_type": "stream",
     "text": [
      "450\n"
     ]
    },
    {
     "name": "stderr",
     "output_type": "stream",
     "text": [
      "/home/bhvignesh/trading_system/src/strategies/momentum/mcad_strat.py:102: FutureWarning: Downcasting object dtype arrays on .fillna, .ffill, .bfill is deprecated and will change in a future version. Call result.infer_objects(copy=False) instead. To opt-in to the future behavior, set `pd.set_option('future.no_silent_downcasting', True)`\n",
      "  prev_above = above.shift(1).fillna(False)\n",
      "/home/bhvignesh/trading_system/src/strategies/momentum/mcad_strat.py:103: FutureWarning: Downcasting object dtype arrays on .fillna, .ffill, .bfill is deprecated and will change in a future version. Call result.infer_objects(copy=False) instead. To opt-in to the future behavior, set `pd.set_option('future.no_silent_downcasting', True)`\n",
      "  prev_below = below.shift(1).fillna(False)\n",
      "/home/bhvignesh/trading_system/src/strategies/momentum/mcad_strat.py:114: FutureWarning: The 'method' keyword in Series.replace is deprecated and will be removed in a future version.\n",
      "  positions = signals.replace(0, method='ffill').fillna(0)\n"
     ]
    },
    {
     "name": "stdout",
     "output_type": "stream",
     "text": [
      "451\n"
     ]
    },
    {
     "name": "stderr",
     "output_type": "stream",
     "text": [
      "/home/bhvignesh/trading_system/src/strategies/momentum/mcad_strat.py:102: FutureWarning: Downcasting object dtype arrays on .fillna, .ffill, .bfill is deprecated and will change in a future version. Call result.infer_objects(copy=False) instead. To opt-in to the future behavior, set `pd.set_option('future.no_silent_downcasting', True)`\n",
      "  prev_above = above.shift(1).fillna(False)\n",
      "/home/bhvignesh/trading_system/src/strategies/momentum/mcad_strat.py:103: FutureWarning: Downcasting object dtype arrays on .fillna, .ffill, .bfill is deprecated and will change in a future version. Call result.infer_objects(copy=False) instead. To opt-in to the future behavior, set `pd.set_option('future.no_silent_downcasting', True)`\n",
      "  prev_below = below.shift(1).fillna(False)\n",
      "/home/bhvignesh/trading_system/src/strategies/momentum/mcad_strat.py:114: FutureWarning: The 'method' keyword in Series.replace is deprecated and will be removed in a future version.\n",
      "  positions = signals.replace(0, method='ffill').fillna(0)\n"
     ]
    },
    {
     "name": "stdout",
     "output_type": "stream",
     "text": [
      "452\n"
     ]
    },
    {
     "name": "stderr",
     "output_type": "stream",
     "text": [
      "/home/bhvignesh/trading_system/src/strategies/momentum/mcad_strat.py:102: FutureWarning: Downcasting object dtype arrays on .fillna, .ffill, .bfill is deprecated and will change in a future version. Call result.infer_objects(copy=False) instead. To opt-in to the future behavior, set `pd.set_option('future.no_silent_downcasting', True)`\n",
      "  prev_above = above.shift(1).fillna(False)\n",
      "/home/bhvignesh/trading_system/src/strategies/momentum/mcad_strat.py:103: FutureWarning: Downcasting object dtype arrays on .fillna, .ffill, .bfill is deprecated and will change in a future version. Call result.infer_objects(copy=False) instead. To opt-in to the future behavior, set `pd.set_option('future.no_silent_downcasting', True)`\n",
      "  prev_below = below.shift(1).fillna(False)\n",
      "/home/bhvignesh/trading_system/src/strategies/momentum/mcad_strat.py:114: FutureWarning: The 'method' keyword in Series.replace is deprecated and will be removed in a future version.\n",
      "  positions = signals.replace(0, method='ffill').fillna(0)\n"
     ]
    },
    {
     "name": "stdout",
     "output_type": "stream",
     "text": [
      "453\n"
     ]
    },
    {
     "name": "stderr",
     "output_type": "stream",
     "text": [
      "/home/bhvignesh/trading_system/src/strategies/momentum/mcad_strat.py:102: FutureWarning: Downcasting object dtype arrays on .fillna, .ffill, .bfill is deprecated and will change in a future version. Call result.infer_objects(copy=False) instead. To opt-in to the future behavior, set `pd.set_option('future.no_silent_downcasting', True)`\n",
      "  prev_above = above.shift(1).fillna(False)\n",
      "/home/bhvignesh/trading_system/src/strategies/momentum/mcad_strat.py:103: FutureWarning: Downcasting object dtype arrays on .fillna, .ffill, .bfill is deprecated and will change in a future version. Call result.infer_objects(copy=False) instead. To opt-in to the future behavior, set `pd.set_option('future.no_silent_downcasting', True)`\n",
      "  prev_below = below.shift(1).fillna(False)\n",
      "/home/bhvignesh/trading_system/src/strategies/momentum/mcad_strat.py:114: FutureWarning: The 'method' keyword in Series.replace is deprecated and will be removed in a future version.\n",
      "  positions = signals.replace(0, method='ffill').fillna(0)\n"
     ]
    },
    {
     "name": "stdout",
     "output_type": "stream",
     "text": [
      "454\n"
     ]
    },
    {
     "name": "stderr",
     "output_type": "stream",
     "text": [
      "/home/bhvignesh/trading_system/src/strategies/momentum/mcad_strat.py:102: FutureWarning: Downcasting object dtype arrays on .fillna, .ffill, .bfill is deprecated and will change in a future version. Call result.infer_objects(copy=False) instead. To opt-in to the future behavior, set `pd.set_option('future.no_silent_downcasting', True)`\n",
      "  prev_above = above.shift(1).fillna(False)\n",
      "/home/bhvignesh/trading_system/src/strategies/momentum/mcad_strat.py:103: FutureWarning: Downcasting object dtype arrays on .fillna, .ffill, .bfill is deprecated and will change in a future version. Call result.infer_objects(copy=False) instead. To opt-in to the future behavior, set `pd.set_option('future.no_silent_downcasting', True)`\n",
      "  prev_below = below.shift(1).fillna(False)\n",
      "/home/bhvignesh/trading_system/src/strategies/momentum/mcad_strat.py:114: FutureWarning: The 'method' keyword in Series.replace is deprecated and will be removed in a future version.\n",
      "  positions = signals.replace(0, method='ffill').fillna(0)\n"
     ]
    },
    {
     "name": "stdout",
     "output_type": "stream",
     "text": [
      "455\n"
     ]
    },
    {
     "name": "stderr",
     "output_type": "stream",
     "text": [
      "/home/bhvignesh/trading_system/src/strategies/momentum/mcad_strat.py:102: FutureWarning: Downcasting object dtype arrays on .fillna, .ffill, .bfill is deprecated and will change in a future version. Call result.infer_objects(copy=False) instead. To opt-in to the future behavior, set `pd.set_option('future.no_silent_downcasting', True)`\n",
      "  prev_above = above.shift(1).fillna(False)\n",
      "/home/bhvignesh/trading_system/src/strategies/momentum/mcad_strat.py:103: FutureWarning: Downcasting object dtype arrays on .fillna, .ffill, .bfill is deprecated and will change in a future version. Call result.infer_objects(copy=False) instead. To opt-in to the future behavior, set `pd.set_option('future.no_silent_downcasting', True)`\n",
      "  prev_below = below.shift(1).fillna(False)\n",
      "/home/bhvignesh/trading_system/src/strategies/momentum/mcad_strat.py:114: FutureWarning: The 'method' keyword in Series.replace is deprecated and will be removed in a future version.\n",
      "  positions = signals.replace(0, method='ffill').fillna(0)\n"
     ]
    },
    {
     "name": "stdout",
     "output_type": "stream",
     "text": [
      "456\n"
     ]
    },
    {
     "name": "stderr",
     "output_type": "stream",
     "text": [
      "/home/bhvignesh/trading_system/src/strategies/momentum/mcad_strat.py:102: FutureWarning: Downcasting object dtype arrays on .fillna, .ffill, .bfill is deprecated and will change in a future version. Call result.infer_objects(copy=False) instead. To opt-in to the future behavior, set `pd.set_option('future.no_silent_downcasting', True)`\n",
      "  prev_above = above.shift(1).fillna(False)\n",
      "/home/bhvignesh/trading_system/src/strategies/momentum/mcad_strat.py:103: FutureWarning: Downcasting object dtype arrays on .fillna, .ffill, .bfill is deprecated and will change in a future version. Call result.infer_objects(copy=False) instead. To opt-in to the future behavior, set `pd.set_option('future.no_silent_downcasting', True)`\n",
      "  prev_below = below.shift(1).fillna(False)\n",
      "/home/bhvignesh/trading_system/src/strategies/momentum/mcad_strat.py:114: FutureWarning: The 'method' keyword in Series.replace is deprecated and will be removed in a future version.\n",
      "  positions = signals.replace(0, method='ffill').fillna(0)\n"
     ]
    },
    {
     "name": "stdout",
     "output_type": "stream",
     "text": [
      "457\n"
     ]
    },
    {
     "name": "stderr",
     "output_type": "stream",
     "text": [
      "/home/bhvignesh/trading_system/src/strategies/momentum/mcad_strat.py:102: FutureWarning: Downcasting object dtype arrays on .fillna, .ffill, .bfill is deprecated and will change in a future version. Call result.infer_objects(copy=False) instead. To opt-in to the future behavior, set `pd.set_option('future.no_silent_downcasting', True)`\n",
      "  prev_above = above.shift(1).fillna(False)\n",
      "/home/bhvignesh/trading_system/src/strategies/momentum/mcad_strat.py:103: FutureWarning: Downcasting object dtype arrays on .fillna, .ffill, .bfill is deprecated and will change in a future version. Call result.infer_objects(copy=False) instead. To opt-in to the future behavior, set `pd.set_option('future.no_silent_downcasting', True)`\n",
      "  prev_below = below.shift(1).fillna(False)\n",
      "/home/bhvignesh/trading_system/src/strategies/momentum/mcad_strat.py:114: FutureWarning: The 'method' keyword in Series.replace is deprecated and will be removed in a future version.\n",
      "  positions = signals.replace(0, method='ffill').fillna(0)\n"
     ]
    },
    {
     "name": "stdout",
     "output_type": "stream",
     "text": [
      "458\n"
     ]
    },
    {
     "name": "stderr",
     "output_type": "stream",
     "text": [
      "/home/bhvignesh/trading_system/src/strategies/momentum/mcad_strat.py:102: FutureWarning: Downcasting object dtype arrays on .fillna, .ffill, .bfill is deprecated and will change in a future version. Call result.infer_objects(copy=False) instead. To opt-in to the future behavior, set `pd.set_option('future.no_silent_downcasting', True)`\n",
      "  prev_above = above.shift(1).fillna(False)\n",
      "/home/bhvignesh/trading_system/src/strategies/momentum/mcad_strat.py:103: FutureWarning: Downcasting object dtype arrays on .fillna, .ffill, .bfill is deprecated and will change in a future version. Call result.infer_objects(copy=False) instead. To opt-in to the future behavior, set `pd.set_option('future.no_silent_downcasting', True)`\n",
      "  prev_below = below.shift(1).fillna(False)\n",
      "/home/bhvignesh/trading_system/src/strategies/momentum/mcad_strat.py:114: FutureWarning: The 'method' keyword in Series.replace is deprecated and will be removed in a future version.\n",
      "  positions = signals.replace(0, method='ffill').fillna(0)\n"
     ]
    },
    {
     "name": "stdout",
     "output_type": "stream",
     "text": [
      "459\n"
     ]
    },
    {
     "name": "stderr",
     "output_type": "stream",
     "text": [
      "/home/bhvignesh/trading_system/src/strategies/momentum/mcad_strat.py:102: FutureWarning: Downcasting object dtype arrays on .fillna, .ffill, .bfill is deprecated and will change in a future version. Call result.infer_objects(copy=False) instead. To opt-in to the future behavior, set `pd.set_option('future.no_silent_downcasting', True)`\n",
      "  prev_above = above.shift(1).fillna(False)\n",
      "/home/bhvignesh/trading_system/src/strategies/momentum/mcad_strat.py:103: FutureWarning: Downcasting object dtype arrays on .fillna, .ffill, .bfill is deprecated and will change in a future version. Call result.infer_objects(copy=False) instead. To opt-in to the future behavior, set `pd.set_option('future.no_silent_downcasting', True)`\n",
      "  prev_below = below.shift(1).fillna(False)\n",
      "/home/bhvignesh/trading_system/src/strategies/momentum/mcad_strat.py:114: FutureWarning: The 'method' keyword in Series.replace is deprecated and will be removed in a future version.\n",
      "  positions = signals.replace(0, method='ffill').fillna(0)\n"
     ]
    },
    {
     "name": "stdout",
     "output_type": "stream",
     "text": [
      "460\n"
     ]
    },
    {
     "name": "stderr",
     "output_type": "stream",
     "text": [
      "/home/bhvignesh/trading_system/src/strategies/momentum/mcad_strat.py:102: FutureWarning: Downcasting object dtype arrays on .fillna, .ffill, .bfill is deprecated and will change in a future version. Call result.infer_objects(copy=False) instead. To opt-in to the future behavior, set `pd.set_option('future.no_silent_downcasting', True)`\n",
      "  prev_above = above.shift(1).fillna(False)\n",
      "/home/bhvignesh/trading_system/src/strategies/momentum/mcad_strat.py:103: FutureWarning: Downcasting object dtype arrays on .fillna, .ffill, .bfill is deprecated and will change in a future version. Call result.infer_objects(copy=False) instead. To opt-in to the future behavior, set `pd.set_option('future.no_silent_downcasting', True)`\n",
      "  prev_below = below.shift(1).fillna(False)\n",
      "/home/bhvignesh/trading_system/src/strategies/momentum/mcad_strat.py:114: FutureWarning: The 'method' keyword in Series.replace is deprecated and will be removed in a future version.\n",
      "  positions = signals.replace(0, method='ffill').fillna(0)\n"
     ]
    },
    {
     "name": "stdout",
     "output_type": "stream",
     "text": [
      "461\n"
     ]
    },
    {
     "name": "stderr",
     "output_type": "stream",
     "text": [
      "/home/bhvignesh/trading_system/src/strategies/momentum/mcad_strat.py:102: FutureWarning: Downcasting object dtype arrays on .fillna, .ffill, .bfill is deprecated and will change in a future version. Call result.infer_objects(copy=False) instead. To opt-in to the future behavior, set `pd.set_option('future.no_silent_downcasting', True)`\n",
      "  prev_above = above.shift(1).fillna(False)\n",
      "/home/bhvignesh/trading_system/src/strategies/momentum/mcad_strat.py:103: FutureWarning: Downcasting object dtype arrays on .fillna, .ffill, .bfill is deprecated and will change in a future version. Call result.infer_objects(copy=False) instead. To opt-in to the future behavior, set `pd.set_option('future.no_silent_downcasting', True)`\n",
      "  prev_below = below.shift(1).fillna(False)\n",
      "/home/bhvignesh/trading_system/src/strategies/momentum/mcad_strat.py:114: FutureWarning: The 'method' keyword in Series.replace is deprecated and will be removed in a future version.\n",
      "  positions = signals.replace(0, method='ffill').fillna(0)\n"
     ]
    },
    {
     "name": "stdout",
     "output_type": "stream",
     "text": [
      "462\n"
     ]
    },
    {
     "name": "stderr",
     "output_type": "stream",
     "text": [
      "/home/bhvignesh/trading_system/src/strategies/momentum/mcad_strat.py:102: FutureWarning: Downcasting object dtype arrays on .fillna, .ffill, .bfill is deprecated and will change in a future version. Call result.infer_objects(copy=False) instead. To opt-in to the future behavior, set `pd.set_option('future.no_silent_downcasting', True)`\n",
      "  prev_above = above.shift(1).fillna(False)\n",
      "/home/bhvignesh/trading_system/src/strategies/momentum/mcad_strat.py:103: FutureWarning: Downcasting object dtype arrays on .fillna, .ffill, .bfill is deprecated and will change in a future version. Call result.infer_objects(copy=False) instead. To opt-in to the future behavior, set `pd.set_option('future.no_silent_downcasting', True)`\n",
      "  prev_below = below.shift(1).fillna(False)\n",
      "/home/bhvignesh/trading_system/src/strategies/momentum/mcad_strat.py:114: FutureWarning: The 'method' keyword in Series.replace is deprecated and will be removed in a future version.\n",
      "  positions = signals.replace(0, method='ffill').fillna(0)\n"
     ]
    },
    {
     "name": "stdout",
     "output_type": "stream",
     "text": [
      "463\n"
     ]
    },
    {
     "name": "stderr",
     "output_type": "stream",
     "text": [
      "/home/bhvignesh/trading_system/src/strategies/momentum/mcad_strat.py:102: FutureWarning: Downcasting object dtype arrays on .fillna, .ffill, .bfill is deprecated and will change in a future version. Call result.infer_objects(copy=False) instead. To opt-in to the future behavior, set `pd.set_option('future.no_silent_downcasting', True)`\n",
      "  prev_above = above.shift(1).fillna(False)\n",
      "/home/bhvignesh/trading_system/src/strategies/momentum/mcad_strat.py:103: FutureWarning: Downcasting object dtype arrays on .fillna, .ffill, .bfill is deprecated and will change in a future version. Call result.infer_objects(copy=False) instead. To opt-in to the future behavior, set `pd.set_option('future.no_silent_downcasting', True)`\n",
      "  prev_below = below.shift(1).fillna(False)\n",
      "/home/bhvignesh/trading_system/src/strategies/momentum/mcad_strat.py:114: FutureWarning: The 'method' keyword in Series.replace is deprecated and will be removed in a future version.\n",
      "  positions = signals.replace(0, method='ffill').fillna(0)\n"
     ]
    },
    {
     "name": "stdout",
     "output_type": "stream",
     "text": [
      "464\n"
     ]
    },
    {
     "name": "stderr",
     "output_type": "stream",
     "text": [
      "/home/bhvignesh/trading_system/src/strategies/momentum/mcad_strat.py:102: FutureWarning: Downcasting object dtype arrays on .fillna, .ffill, .bfill is deprecated and will change in a future version. Call result.infer_objects(copy=False) instead. To opt-in to the future behavior, set `pd.set_option('future.no_silent_downcasting', True)`\n",
      "  prev_above = above.shift(1).fillna(False)\n",
      "/home/bhvignesh/trading_system/src/strategies/momentum/mcad_strat.py:103: FutureWarning: Downcasting object dtype arrays on .fillna, .ffill, .bfill is deprecated and will change in a future version. Call result.infer_objects(copy=False) instead. To opt-in to the future behavior, set `pd.set_option('future.no_silent_downcasting', True)`\n",
      "  prev_below = below.shift(1).fillna(False)\n",
      "/home/bhvignesh/trading_system/src/strategies/momentum/mcad_strat.py:114: FutureWarning: The 'method' keyword in Series.replace is deprecated and will be removed in a future version.\n",
      "  positions = signals.replace(0, method='ffill').fillna(0)\n"
     ]
    },
    {
     "name": "stdout",
     "output_type": "stream",
     "text": [
      "465\n"
     ]
    },
    {
     "name": "stderr",
     "output_type": "stream",
     "text": [
      "/home/bhvignesh/trading_system/src/strategies/momentum/mcad_strat.py:102: FutureWarning: Downcasting object dtype arrays on .fillna, .ffill, .bfill is deprecated and will change in a future version. Call result.infer_objects(copy=False) instead. To opt-in to the future behavior, set `pd.set_option('future.no_silent_downcasting', True)`\n",
      "  prev_above = above.shift(1).fillna(False)\n",
      "/home/bhvignesh/trading_system/src/strategies/momentum/mcad_strat.py:103: FutureWarning: Downcasting object dtype arrays on .fillna, .ffill, .bfill is deprecated and will change in a future version. Call result.infer_objects(copy=False) instead. To opt-in to the future behavior, set `pd.set_option('future.no_silent_downcasting', True)`\n",
      "  prev_below = below.shift(1).fillna(False)\n",
      "/home/bhvignesh/trading_system/src/strategies/momentum/mcad_strat.py:114: FutureWarning: The 'method' keyword in Series.replace is deprecated and will be removed in a future version.\n",
      "  positions = signals.replace(0, method='ffill').fillna(0)\n"
     ]
    },
    {
     "name": "stdout",
     "output_type": "stream",
     "text": [
      "466\n"
     ]
    },
    {
     "name": "stderr",
     "output_type": "stream",
     "text": [
      "/home/bhvignesh/trading_system/src/strategies/momentum/mcad_strat.py:102: FutureWarning: Downcasting object dtype arrays on .fillna, .ffill, .bfill is deprecated and will change in a future version. Call result.infer_objects(copy=False) instead. To opt-in to the future behavior, set `pd.set_option('future.no_silent_downcasting', True)`\n",
      "  prev_above = above.shift(1).fillna(False)\n",
      "/home/bhvignesh/trading_system/src/strategies/momentum/mcad_strat.py:103: FutureWarning: Downcasting object dtype arrays on .fillna, .ffill, .bfill is deprecated and will change in a future version. Call result.infer_objects(copy=False) instead. To opt-in to the future behavior, set `pd.set_option('future.no_silent_downcasting', True)`\n",
      "  prev_below = below.shift(1).fillna(False)\n",
      "/home/bhvignesh/trading_system/src/strategies/momentum/mcad_strat.py:114: FutureWarning: The 'method' keyword in Series.replace is deprecated and will be removed in a future version.\n",
      "  positions = signals.replace(0, method='ffill').fillna(0)\n"
     ]
    },
    {
     "name": "stdout",
     "output_type": "stream",
     "text": [
      "467\n"
     ]
    },
    {
     "name": "stderr",
     "output_type": "stream",
     "text": [
      "/home/bhvignesh/trading_system/src/strategies/momentum/mcad_strat.py:102: FutureWarning: Downcasting object dtype arrays on .fillna, .ffill, .bfill is deprecated and will change in a future version. Call result.infer_objects(copy=False) instead. To opt-in to the future behavior, set `pd.set_option('future.no_silent_downcasting', True)`\n",
      "  prev_above = above.shift(1).fillna(False)\n",
      "/home/bhvignesh/trading_system/src/strategies/momentum/mcad_strat.py:103: FutureWarning: Downcasting object dtype arrays on .fillna, .ffill, .bfill is deprecated and will change in a future version. Call result.infer_objects(copy=False) instead. To opt-in to the future behavior, set `pd.set_option('future.no_silent_downcasting', True)`\n",
      "  prev_below = below.shift(1).fillna(False)\n",
      "/home/bhvignesh/trading_system/src/strategies/momentum/mcad_strat.py:114: FutureWarning: The 'method' keyword in Series.replace is deprecated and will be removed in a future version.\n",
      "  positions = signals.replace(0, method='ffill').fillna(0)\n"
     ]
    },
    {
     "name": "stdout",
     "output_type": "stream",
     "text": [
      "468\n"
     ]
    },
    {
     "name": "stderr",
     "output_type": "stream",
     "text": [
      "/home/bhvignesh/trading_system/src/strategies/momentum/mcad_strat.py:102: FutureWarning: Downcasting object dtype arrays on .fillna, .ffill, .bfill is deprecated and will change in a future version. Call result.infer_objects(copy=False) instead. To opt-in to the future behavior, set `pd.set_option('future.no_silent_downcasting', True)`\n",
      "  prev_above = above.shift(1).fillna(False)\n",
      "/home/bhvignesh/trading_system/src/strategies/momentum/mcad_strat.py:103: FutureWarning: Downcasting object dtype arrays on .fillna, .ffill, .bfill is deprecated and will change in a future version. Call result.infer_objects(copy=False) instead. To opt-in to the future behavior, set `pd.set_option('future.no_silent_downcasting', True)`\n",
      "  prev_below = below.shift(1).fillna(False)\n",
      "/home/bhvignesh/trading_system/src/strategies/momentum/mcad_strat.py:114: FutureWarning: The 'method' keyword in Series.replace is deprecated and will be removed in a future version.\n",
      "  positions = signals.replace(0, method='ffill').fillna(0)\n"
     ]
    },
    {
     "name": "stdout",
     "output_type": "stream",
     "text": [
      "469\n"
     ]
    },
    {
     "name": "stderr",
     "output_type": "stream",
     "text": [
      "/home/bhvignesh/trading_system/src/strategies/momentum/mcad_strat.py:102: FutureWarning: Downcasting object dtype arrays on .fillna, .ffill, .bfill is deprecated and will change in a future version. Call result.infer_objects(copy=False) instead. To opt-in to the future behavior, set `pd.set_option('future.no_silent_downcasting', True)`\n",
      "  prev_above = above.shift(1).fillna(False)\n",
      "/home/bhvignesh/trading_system/src/strategies/momentum/mcad_strat.py:103: FutureWarning: Downcasting object dtype arrays on .fillna, .ffill, .bfill is deprecated and will change in a future version. Call result.infer_objects(copy=False) instead. To opt-in to the future behavior, set `pd.set_option('future.no_silent_downcasting', True)`\n",
      "  prev_below = below.shift(1).fillna(False)\n",
      "/home/bhvignesh/trading_system/src/strategies/momentum/mcad_strat.py:114: FutureWarning: The 'method' keyword in Series.replace is deprecated and will be removed in a future version.\n",
      "  positions = signals.replace(0, method='ffill').fillna(0)\n"
     ]
    },
    {
     "name": "stdout",
     "output_type": "stream",
     "text": [
      "470\n"
     ]
    },
    {
     "name": "stderr",
     "output_type": "stream",
     "text": [
      "/home/bhvignesh/trading_system/src/strategies/momentum/mcad_strat.py:102: FutureWarning: Downcasting object dtype arrays on .fillna, .ffill, .bfill is deprecated and will change in a future version. Call result.infer_objects(copy=False) instead. To opt-in to the future behavior, set `pd.set_option('future.no_silent_downcasting', True)`\n",
      "  prev_above = above.shift(1).fillna(False)\n",
      "/home/bhvignesh/trading_system/src/strategies/momentum/mcad_strat.py:103: FutureWarning: Downcasting object dtype arrays on .fillna, .ffill, .bfill is deprecated and will change in a future version. Call result.infer_objects(copy=False) instead. To opt-in to the future behavior, set `pd.set_option('future.no_silent_downcasting', True)`\n",
      "  prev_below = below.shift(1).fillna(False)\n",
      "/home/bhvignesh/trading_system/src/strategies/momentum/mcad_strat.py:114: FutureWarning: The 'method' keyword in Series.replace is deprecated and will be removed in a future version.\n",
      "  positions = signals.replace(0, method='ffill').fillna(0)\n"
     ]
    },
    {
     "name": "stdout",
     "output_type": "stream",
     "text": [
      "471\n"
     ]
    },
    {
     "name": "stderr",
     "output_type": "stream",
     "text": [
      "/home/bhvignesh/trading_system/src/strategies/momentum/mcad_strat.py:102: FutureWarning: Downcasting object dtype arrays on .fillna, .ffill, .bfill is deprecated and will change in a future version. Call result.infer_objects(copy=False) instead. To opt-in to the future behavior, set `pd.set_option('future.no_silent_downcasting', True)`\n",
      "  prev_above = above.shift(1).fillna(False)\n",
      "/home/bhvignesh/trading_system/src/strategies/momentum/mcad_strat.py:103: FutureWarning: Downcasting object dtype arrays on .fillna, .ffill, .bfill is deprecated and will change in a future version. Call result.infer_objects(copy=False) instead. To opt-in to the future behavior, set `pd.set_option('future.no_silent_downcasting', True)`\n",
      "  prev_below = below.shift(1).fillna(False)\n",
      "/home/bhvignesh/trading_system/src/strategies/momentum/mcad_strat.py:114: FutureWarning: The 'method' keyword in Series.replace is deprecated and will be removed in a future version.\n",
      "  positions = signals.replace(0, method='ffill').fillna(0)\n"
     ]
    },
    {
     "name": "stdout",
     "output_type": "stream",
     "text": [
      "472\n"
     ]
    },
    {
     "name": "stderr",
     "output_type": "stream",
     "text": [
      "/home/bhvignesh/trading_system/src/strategies/momentum/mcad_strat.py:102: FutureWarning: Downcasting object dtype arrays on .fillna, .ffill, .bfill is deprecated and will change in a future version. Call result.infer_objects(copy=False) instead. To opt-in to the future behavior, set `pd.set_option('future.no_silent_downcasting', True)`\n",
      "  prev_above = above.shift(1).fillna(False)\n",
      "/home/bhvignesh/trading_system/src/strategies/momentum/mcad_strat.py:103: FutureWarning: Downcasting object dtype arrays on .fillna, .ffill, .bfill is deprecated and will change in a future version. Call result.infer_objects(copy=False) instead. To opt-in to the future behavior, set `pd.set_option('future.no_silent_downcasting', True)`\n",
      "  prev_below = below.shift(1).fillna(False)\n",
      "/home/bhvignesh/trading_system/src/strategies/momentum/mcad_strat.py:114: FutureWarning: The 'method' keyword in Series.replace is deprecated and will be removed in a future version.\n",
      "  positions = signals.replace(0, method='ffill').fillna(0)\n"
     ]
    },
    {
     "name": "stdout",
     "output_type": "stream",
     "text": [
      "473\n"
     ]
    },
    {
     "name": "stderr",
     "output_type": "stream",
     "text": [
      "/home/bhvignesh/trading_system/src/strategies/momentum/mcad_strat.py:102: FutureWarning: Downcasting object dtype arrays on .fillna, .ffill, .bfill is deprecated and will change in a future version. Call result.infer_objects(copy=False) instead. To opt-in to the future behavior, set `pd.set_option('future.no_silent_downcasting', True)`\n",
      "  prev_above = above.shift(1).fillna(False)\n",
      "/home/bhvignesh/trading_system/src/strategies/momentum/mcad_strat.py:103: FutureWarning: Downcasting object dtype arrays on .fillna, .ffill, .bfill is deprecated and will change in a future version. Call result.infer_objects(copy=False) instead. To opt-in to the future behavior, set `pd.set_option('future.no_silent_downcasting', True)`\n",
      "  prev_below = below.shift(1).fillna(False)\n",
      "/home/bhvignesh/trading_system/src/strategies/momentum/mcad_strat.py:114: FutureWarning: The 'method' keyword in Series.replace is deprecated and will be removed in a future version.\n",
      "  positions = signals.replace(0, method='ffill').fillna(0)\n"
     ]
    },
    {
     "name": "stdout",
     "output_type": "stream",
     "text": [
      "474\n"
     ]
    },
    {
     "name": "stderr",
     "output_type": "stream",
     "text": [
      "/home/bhvignesh/trading_system/src/strategies/momentum/mcad_strat.py:102: FutureWarning: Downcasting object dtype arrays on .fillna, .ffill, .bfill is deprecated and will change in a future version. Call result.infer_objects(copy=False) instead. To opt-in to the future behavior, set `pd.set_option('future.no_silent_downcasting', True)`\n",
      "  prev_above = above.shift(1).fillna(False)\n",
      "/home/bhvignesh/trading_system/src/strategies/momentum/mcad_strat.py:103: FutureWarning: Downcasting object dtype arrays on .fillna, .ffill, .bfill is deprecated and will change in a future version. Call result.infer_objects(copy=False) instead. To opt-in to the future behavior, set `pd.set_option('future.no_silent_downcasting', True)`\n",
      "  prev_below = below.shift(1).fillna(False)\n",
      "/home/bhvignesh/trading_system/src/strategies/momentum/mcad_strat.py:114: FutureWarning: The 'method' keyword in Series.replace is deprecated and will be removed in a future version.\n",
      "  positions = signals.replace(0, method='ffill').fillna(0)\n"
     ]
    },
    {
     "name": "stdout",
     "output_type": "stream",
     "text": [
      "475\n"
     ]
    },
    {
     "name": "stderr",
     "output_type": "stream",
     "text": [
      "/home/bhvignesh/trading_system/src/strategies/momentum/mcad_strat.py:102: FutureWarning: Downcasting object dtype arrays on .fillna, .ffill, .bfill is deprecated and will change in a future version. Call result.infer_objects(copy=False) instead. To opt-in to the future behavior, set `pd.set_option('future.no_silent_downcasting', True)`\n",
      "  prev_above = above.shift(1).fillna(False)\n",
      "/home/bhvignesh/trading_system/src/strategies/momentum/mcad_strat.py:103: FutureWarning: Downcasting object dtype arrays on .fillna, .ffill, .bfill is deprecated and will change in a future version. Call result.infer_objects(copy=False) instead. To opt-in to the future behavior, set `pd.set_option('future.no_silent_downcasting', True)`\n",
      "  prev_below = below.shift(1).fillna(False)\n",
      "/home/bhvignesh/trading_system/src/strategies/momentum/mcad_strat.py:114: FutureWarning: The 'method' keyword in Series.replace is deprecated and will be removed in a future version.\n",
      "  positions = signals.replace(0, method='ffill').fillna(0)\n"
     ]
    },
    {
     "name": "stdout",
     "output_type": "stream",
     "text": [
      "476\n"
     ]
    },
    {
     "name": "stderr",
     "output_type": "stream",
     "text": [
      "/home/bhvignesh/trading_system/src/strategies/momentum/mcad_strat.py:102: FutureWarning: Downcasting object dtype arrays on .fillna, .ffill, .bfill is deprecated and will change in a future version. Call result.infer_objects(copy=False) instead. To opt-in to the future behavior, set `pd.set_option('future.no_silent_downcasting', True)`\n",
      "  prev_above = above.shift(1).fillna(False)\n",
      "/home/bhvignesh/trading_system/src/strategies/momentum/mcad_strat.py:103: FutureWarning: Downcasting object dtype arrays on .fillna, .ffill, .bfill is deprecated and will change in a future version. Call result.infer_objects(copy=False) instead. To opt-in to the future behavior, set `pd.set_option('future.no_silent_downcasting', True)`\n",
      "  prev_below = below.shift(1).fillna(False)\n",
      "/home/bhvignesh/trading_system/src/strategies/momentum/mcad_strat.py:114: FutureWarning: The 'method' keyword in Series.replace is deprecated and will be removed in a future version.\n",
      "  positions = signals.replace(0, method='ffill').fillna(0)\n"
     ]
    },
    {
     "name": "stdout",
     "output_type": "stream",
     "text": [
      "477\n"
     ]
    },
    {
     "name": "stderr",
     "output_type": "stream",
     "text": [
      "/home/bhvignesh/trading_system/src/strategies/momentum/mcad_strat.py:102: FutureWarning: Downcasting object dtype arrays on .fillna, .ffill, .bfill is deprecated and will change in a future version. Call result.infer_objects(copy=False) instead. To opt-in to the future behavior, set `pd.set_option('future.no_silent_downcasting', True)`\n",
      "  prev_above = above.shift(1).fillna(False)\n",
      "/home/bhvignesh/trading_system/src/strategies/momentum/mcad_strat.py:103: FutureWarning: Downcasting object dtype arrays on .fillna, .ffill, .bfill is deprecated and will change in a future version. Call result.infer_objects(copy=False) instead. To opt-in to the future behavior, set `pd.set_option('future.no_silent_downcasting', True)`\n",
      "  prev_below = below.shift(1).fillna(False)\n",
      "/home/bhvignesh/trading_system/src/strategies/momentum/mcad_strat.py:114: FutureWarning: The 'method' keyword in Series.replace is deprecated and will be removed in a future version.\n",
      "  positions = signals.replace(0, method='ffill').fillna(0)\n"
     ]
    },
    {
     "name": "stdout",
     "output_type": "stream",
     "text": [
      "478\n"
     ]
    },
    {
     "name": "stderr",
     "output_type": "stream",
     "text": [
      "/home/bhvignesh/trading_system/src/strategies/momentum/mcad_strat.py:102: FutureWarning: Downcasting object dtype arrays on .fillna, .ffill, .bfill is deprecated and will change in a future version. Call result.infer_objects(copy=False) instead. To opt-in to the future behavior, set `pd.set_option('future.no_silent_downcasting', True)`\n",
      "  prev_above = above.shift(1).fillna(False)\n",
      "/home/bhvignesh/trading_system/src/strategies/momentum/mcad_strat.py:103: FutureWarning: Downcasting object dtype arrays on .fillna, .ffill, .bfill is deprecated and will change in a future version. Call result.infer_objects(copy=False) instead. To opt-in to the future behavior, set `pd.set_option('future.no_silent_downcasting', True)`\n",
      "  prev_below = below.shift(1).fillna(False)\n",
      "/home/bhvignesh/trading_system/src/strategies/momentum/mcad_strat.py:114: FutureWarning: The 'method' keyword in Series.replace is deprecated and will be removed in a future version.\n",
      "  positions = signals.replace(0, method='ffill').fillna(0)\n"
     ]
    },
    {
     "name": "stdout",
     "output_type": "stream",
     "text": [
      "479\n"
     ]
    },
    {
     "name": "stderr",
     "output_type": "stream",
     "text": [
      "/home/bhvignesh/trading_system/src/strategies/momentum/mcad_strat.py:102: FutureWarning: Downcasting object dtype arrays on .fillna, .ffill, .bfill is deprecated and will change in a future version. Call result.infer_objects(copy=False) instead. To opt-in to the future behavior, set `pd.set_option('future.no_silent_downcasting', True)`\n",
      "  prev_above = above.shift(1).fillna(False)\n",
      "/home/bhvignesh/trading_system/src/strategies/momentum/mcad_strat.py:103: FutureWarning: Downcasting object dtype arrays on .fillna, .ffill, .bfill is deprecated and will change in a future version. Call result.infer_objects(copy=False) instead. To opt-in to the future behavior, set `pd.set_option('future.no_silent_downcasting', True)`\n",
      "  prev_below = below.shift(1).fillna(False)\n",
      "/home/bhvignesh/trading_system/src/strategies/momentum/mcad_strat.py:114: FutureWarning: The 'method' keyword in Series.replace is deprecated and will be removed in a future version.\n",
      "  positions = signals.replace(0, method='ffill').fillna(0)\n"
     ]
    },
    {
     "name": "stdout",
     "output_type": "stream",
     "text": [
      "480\n"
     ]
    },
    {
     "name": "stderr",
     "output_type": "stream",
     "text": [
      "/home/bhvignesh/trading_system/src/strategies/momentum/mcad_strat.py:102: FutureWarning: Downcasting object dtype arrays on .fillna, .ffill, .bfill is deprecated and will change in a future version. Call result.infer_objects(copy=False) instead. To opt-in to the future behavior, set `pd.set_option('future.no_silent_downcasting', True)`\n",
      "  prev_above = above.shift(1).fillna(False)\n",
      "/home/bhvignesh/trading_system/src/strategies/momentum/mcad_strat.py:103: FutureWarning: Downcasting object dtype arrays on .fillna, .ffill, .bfill is deprecated and will change in a future version. Call result.infer_objects(copy=False) instead. To opt-in to the future behavior, set `pd.set_option('future.no_silent_downcasting', True)`\n",
      "  prev_below = below.shift(1).fillna(False)\n",
      "/home/bhvignesh/trading_system/src/strategies/momentum/mcad_strat.py:114: FutureWarning: The 'method' keyword in Series.replace is deprecated and will be removed in a future version.\n",
      "  positions = signals.replace(0, method='ffill').fillna(0)\n"
     ]
    },
    {
     "name": "stdout",
     "output_type": "stream",
     "text": [
      "481\n"
     ]
    },
    {
     "name": "stderr",
     "output_type": "stream",
     "text": [
      "/home/bhvignesh/trading_system/src/strategies/momentum/mcad_strat.py:102: FutureWarning: Downcasting object dtype arrays on .fillna, .ffill, .bfill is deprecated and will change in a future version. Call result.infer_objects(copy=False) instead. To opt-in to the future behavior, set `pd.set_option('future.no_silent_downcasting', True)`\n",
      "  prev_above = above.shift(1).fillna(False)\n",
      "/home/bhvignesh/trading_system/src/strategies/momentum/mcad_strat.py:103: FutureWarning: Downcasting object dtype arrays on .fillna, .ffill, .bfill is deprecated and will change in a future version. Call result.infer_objects(copy=False) instead. To opt-in to the future behavior, set `pd.set_option('future.no_silent_downcasting', True)`\n",
      "  prev_below = below.shift(1).fillna(False)\n",
      "/home/bhvignesh/trading_system/src/strategies/momentum/mcad_strat.py:114: FutureWarning: The 'method' keyword in Series.replace is deprecated and will be removed in a future version.\n",
      "  positions = signals.replace(0, method='ffill').fillna(0)\n"
     ]
    },
    {
     "name": "stdout",
     "output_type": "stream",
     "text": [
      "482\n"
     ]
    },
    {
     "name": "stderr",
     "output_type": "stream",
     "text": [
      "/home/bhvignesh/trading_system/src/strategies/momentum/mcad_strat.py:102: FutureWarning: Downcasting object dtype arrays on .fillna, .ffill, .bfill is deprecated and will change in a future version. Call result.infer_objects(copy=False) instead. To opt-in to the future behavior, set `pd.set_option('future.no_silent_downcasting', True)`\n",
      "  prev_above = above.shift(1).fillna(False)\n",
      "/home/bhvignesh/trading_system/src/strategies/momentum/mcad_strat.py:103: FutureWarning: Downcasting object dtype arrays on .fillna, .ffill, .bfill is deprecated and will change in a future version. Call result.infer_objects(copy=False) instead. To opt-in to the future behavior, set `pd.set_option('future.no_silent_downcasting', True)`\n",
      "  prev_below = below.shift(1).fillna(False)\n",
      "/home/bhvignesh/trading_system/src/strategies/momentum/mcad_strat.py:114: FutureWarning: The 'method' keyword in Series.replace is deprecated and will be removed in a future version.\n",
      "  positions = signals.replace(0, method='ffill').fillna(0)\n"
     ]
    },
    {
     "name": "stdout",
     "output_type": "stream",
     "text": [
      "483\n"
     ]
    },
    {
     "name": "stderr",
     "output_type": "stream",
     "text": [
      "/home/bhvignesh/trading_system/src/strategies/momentum/mcad_strat.py:102: FutureWarning: Downcasting object dtype arrays on .fillna, .ffill, .bfill is deprecated and will change in a future version. Call result.infer_objects(copy=False) instead. To opt-in to the future behavior, set `pd.set_option('future.no_silent_downcasting', True)`\n",
      "  prev_above = above.shift(1).fillna(False)\n",
      "/home/bhvignesh/trading_system/src/strategies/momentum/mcad_strat.py:103: FutureWarning: Downcasting object dtype arrays on .fillna, .ffill, .bfill is deprecated and will change in a future version. Call result.infer_objects(copy=False) instead. To opt-in to the future behavior, set `pd.set_option('future.no_silent_downcasting', True)`\n",
      "  prev_below = below.shift(1).fillna(False)\n",
      "/home/bhvignesh/trading_system/src/strategies/momentum/mcad_strat.py:114: FutureWarning: The 'method' keyword in Series.replace is deprecated and will be removed in a future version.\n",
      "  positions = signals.replace(0, method='ffill').fillna(0)\n"
     ]
    },
    {
     "name": "stdout",
     "output_type": "stream",
     "text": [
      "484\n"
     ]
    },
    {
     "name": "stderr",
     "output_type": "stream",
     "text": [
      "/home/bhvignesh/trading_system/src/strategies/momentum/mcad_strat.py:102: FutureWarning: Downcasting object dtype arrays on .fillna, .ffill, .bfill is deprecated and will change in a future version. Call result.infer_objects(copy=False) instead. To opt-in to the future behavior, set `pd.set_option('future.no_silent_downcasting', True)`\n",
      "  prev_above = above.shift(1).fillna(False)\n",
      "/home/bhvignesh/trading_system/src/strategies/momentum/mcad_strat.py:103: FutureWarning: Downcasting object dtype arrays on .fillna, .ffill, .bfill is deprecated and will change in a future version. Call result.infer_objects(copy=False) instead. To opt-in to the future behavior, set `pd.set_option('future.no_silent_downcasting', True)`\n",
      "  prev_below = below.shift(1).fillna(False)\n",
      "/home/bhvignesh/trading_system/src/strategies/momentum/mcad_strat.py:114: FutureWarning: The 'method' keyword in Series.replace is deprecated and will be removed in a future version.\n",
      "  positions = signals.replace(0, method='ffill').fillna(0)\n"
     ]
    },
    {
     "name": "stdout",
     "output_type": "stream",
     "text": [
      "485\n"
     ]
    },
    {
     "name": "stderr",
     "output_type": "stream",
     "text": [
      "/home/bhvignesh/trading_system/src/strategies/momentum/mcad_strat.py:102: FutureWarning: Downcasting object dtype arrays on .fillna, .ffill, .bfill is deprecated and will change in a future version. Call result.infer_objects(copy=False) instead. To opt-in to the future behavior, set `pd.set_option('future.no_silent_downcasting', True)`\n",
      "  prev_above = above.shift(1).fillna(False)\n",
      "/home/bhvignesh/trading_system/src/strategies/momentum/mcad_strat.py:103: FutureWarning: Downcasting object dtype arrays on .fillna, .ffill, .bfill is deprecated and will change in a future version. Call result.infer_objects(copy=False) instead. To opt-in to the future behavior, set `pd.set_option('future.no_silent_downcasting', True)`\n",
      "  prev_below = below.shift(1).fillna(False)\n",
      "/home/bhvignesh/trading_system/src/strategies/momentum/mcad_strat.py:114: FutureWarning: The 'method' keyword in Series.replace is deprecated and will be removed in a future version.\n",
      "  positions = signals.replace(0, method='ffill').fillna(0)\n"
     ]
    },
    {
     "name": "stdout",
     "output_type": "stream",
     "text": [
      "486\n"
     ]
    },
    {
     "name": "stderr",
     "output_type": "stream",
     "text": [
      "/home/bhvignesh/trading_system/src/strategies/momentum/mcad_strat.py:102: FutureWarning: Downcasting object dtype arrays on .fillna, .ffill, .bfill is deprecated and will change in a future version. Call result.infer_objects(copy=False) instead. To opt-in to the future behavior, set `pd.set_option('future.no_silent_downcasting', True)`\n",
      "  prev_above = above.shift(1).fillna(False)\n",
      "/home/bhvignesh/trading_system/src/strategies/momentum/mcad_strat.py:103: FutureWarning: Downcasting object dtype arrays on .fillna, .ffill, .bfill is deprecated and will change in a future version. Call result.infer_objects(copy=False) instead. To opt-in to the future behavior, set `pd.set_option('future.no_silent_downcasting', True)`\n",
      "  prev_below = below.shift(1).fillna(False)\n",
      "/home/bhvignesh/trading_system/src/strategies/momentum/mcad_strat.py:114: FutureWarning: The 'method' keyword in Series.replace is deprecated and will be removed in a future version.\n",
      "  positions = signals.replace(0, method='ffill').fillna(0)\n"
     ]
    },
    {
     "name": "stdout",
     "output_type": "stream",
     "text": [
      "487\n"
     ]
    },
    {
     "name": "stderr",
     "output_type": "stream",
     "text": [
      "/home/bhvignesh/trading_system/src/strategies/momentum/mcad_strat.py:102: FutureWarning: Downcasting object dtype arrays on .fillna, .ffill, .bfill is deprecated and will change in a future version. Call result.infer_objects(copy=False) instead. To opt-in to the future behavior, set `pd.set_option('future.no_silent_downcasting', True)`\n",
      "  prev_above = above.shift(1).fillna(False)\n",
      "/home/bhvignesh/trading_system/src/strategies/momentum/mcad_strat.py:103: FutureWarning: Downcasting object dtype arrays on .fillna, .ffill, .bfill is deprecated and will change in a future version. Call result.infer_objects(copy=False) instead. To opt-in to the future behavior, set `pd.set_option('future.no_silent_downcasting', True)`\n",
      "  prev_below = below.shift(1).fillna(False)\n",
      "/home/bhvignesh/trading_system/src/strategies/momentum/mcad_strat.py:114: FutureWarning: The 'method' keyword in Series.replace is deprecated and will be removed in a future version.\n",
      "  positions = signals.replace(0, method='ffill').fillna(0)\n"
     ]
    },
    {
     "name": "stdout",
     "output_type": "stream",
     "text": [
      "488\n"
     ]
    },
    {
     "name": "stderr",
     "output_type": "stream",
     "text": [
      "/home/bhvignesh/trading_system/src/strategies/momentum/mcad_strat.py:102: FutureWarning: Downcasting object dtype arrays on .fillna, .ffill, .bfill is deprecated and will change in a future version. Call result.infer_objects(copy=False) instead. To opt-in to the future behavior, set `pd.set_option('future.no_silent_downcasting', True)`\n",
      "  prev_above = above.shift(1).fillna(False)\n",
      "/home/bhvignesh/trading_system/src/strategies/momentum/mcad_strat.py:103: FutureWarning: Downcasting object dtype arrays on .fillna, .ffill, .bfill is deprecated and will change in a future version. Call result.infer_objects(copy=False) instead. To opt-in to the future behavior, set `pd.set_option('future.no_silent_downcasting', True)`\n",
      "  prev_below = below.shift(1).fillna(False)\n",
      "/home/bhvignesh/trading_system/src/strategies/momentum/mcad_strat.py:114: FutureWarning: The 'method' keyword in Series.replace is deprecated and will be removed in a future version.\n",
      "  positions = signals.replace(0, method='ffill').fillna(0)\n"
     ]
    },
    {
     "name": "stdout",
     "output_type": "stream",
     "text": [
      "489\n"
     ]
    },
    {
     "name": "stderr",
     "output_type": "stream",
     "text": [
      "/home/bhvignesh/trading_system/src/strategies/momentum/mcad_strat.py:102: FutureWarning: Downcasting object dtype arrays on .fillna, .ffill, .bfill is deprecated and will change in a future version. Call result.infer_objects(copy=False) instead. To opt-in to the future behavior, set `pd.set_option('future.no_silent_downcasting', True)`\n",
      "  prev_above = above.shift(1).fillna(False)\n",
      "/home/bhvignesh/trading_system/src/strategies/momentum/mcad_strat.py:103: FutureWarning: Downcasting object dtype arrays on .fillna, .ffill, .bfill is deprecated and will change in a future version. Call result.infer_objects(copy=False) instead. To opt-in to the future behavior, set `pd.set_option('future.no_silent_downcasting', True)`\n",
      "  prev_below = below.shift(1).fillna(False)\n",
      "/home/bhvignesh/trading_system/src/strategies/momentum/mcad_strat.py:114: FutureWarning: The 'method' keyword in Series.replace is deprecated and will be removed in a future version.\n",
      "  positions = signals.replace(0, method='ffill').fillna(0)\n"
     ]
    },
    {
     "name": "stdout",
     "output_type": "stream",
     "text": [
      "490\n"
     ]
    },
    {
     "name": "stderr",
     "output_type": "stream",
     "text": [
      "/home/bhvignesh/trading_system/src/strategies/momentum/mcad_strat.py:102: FutureWarning: Downcasting object dtype arrays on .fillna, .ffill, .bfill is deprecated and will change in a future version. Call result.infer_objects(copy=False) instead. To opt-in to the future behavior, set `pd.set_option('future.no_silent_downcasting', True)`\n",
      "  prev_above = above.shift(1).fillna(False)\n",
      "/home/bhvignesh/trading_system/src/strategies/momentum/mcad_strat.py:103: FutureWarning: Downcasting object dtype arrays on .fillna, .ffill, .bfill is deprecated and will change in a future version. Call result.infer_objects(copy=False) instead. To opt-in to the future behavior, set `pd.set_option('future.no_silent_downcasting', True)`\n",
      "  prev_below = below.shift(1).fillna(False)\n",
      "/home/bhvignesh/trading_system/src/strategies/momentum/mcad_strat.py:114: FutureWarning: The 'method' keyword in Series.replace is deprecated and will be removed in a future version.\n",
      "  positions = signals.replace(0, method='ffill').fillna(0)\n"
     ]
    },
    {
     "name": "stdout",
     "output_type": "stream",
     "text": [
      "491\n"
     ]
    },
    {
     "name": "stderr",
     "output_type": "stream",
     "text": [
      "/home/bhvignesh/trading_system/src/strategies/momentum/mcad_strat.py:102: FutureWarning: Downcasting object dtype arrays on .fillna, .ffill, .bfill is deprecated and will change in a future version. Call result.infer_objects(copy=False) instead. To opt-in to the future behavior, set `pd.set_option('future.no_silent_downcasting', True)`\n",
      "  prev_above = above.shift(1).fillna(False)\n",
      "/home/bhvignesh/trading_system/src/strategies/momentum/mcad_strat.py:103: FutureWarning: Downcasting object dtype arrays on .fillna, .ffill, .bfill is deprecated and will change in a future version. Call result.infer_objects(copy=False) instead. To opt-in to the future behavior, set `pd.set_option('future.no_silent_downcasting', True)`\n",
      "  prev_below = below.shift(1).fillna(False)\n",
      "/home/bhvignesh/trading_system/src/strategies/momentum/mcad_strat.py:114: FutureWarning: The 'method' keyword in Series.replace is deprecated and will be removed in a future version.\n",
      "  positions = signals.replace(0, method='ffill').fillna(0)\n"
     ]
    },
    {
     "name": "stdout",
     "output_type": "stream",
     "text": [
      "492\n"
     ]
    },
    {
     "name": "stderr",
     "output_type": "stream",
     "text": [
      "/home/bhvignesh/trading_system/src/strategies/momentum/mcad_strat.py:102: FutureWarning: Downcasting object dtype arrays on .fillna, .ffill, .bfill is deprecated and will change in a future version. Call result.infer_objects(copy=False) instead. To opt-in to the future behavior, set `pd.set_option('future.no_silent_downcasting', True)`\n",
      "  prev_above = above.shift(1).fillna(False)\n",
      "/home/bhvignesh/trading_system/src/strategies/momentum/mcad_strat.py:103: FutureWarning: Downcasting object dtype arrays on .fillna, .ffill, .bfill is deprecated and will change in a future version. Call result.infer_objects(copy=False) instead. To opt-in to the future behavior, set `pd.set_option('future.no_silent_downcasting', True)`\n",
      "  prev_below = below.shift(1).fillna(False)\n",
      "/home/bhvignesh/trading_system/src/strategies/momentum/mcad_strat.py:114: FutureWarning: The 'method' keyword in Series.replace is deprecated and will be removed in a future version.\n",
      "  positions = signals.replace(0, method='ffill').fillna(0)\n"
     ]
    },
    {
     "name": "stdout",
     "output_type": "stream",
     "text": [
      "493\n"
     ]
    },
    {
     "name": "stderr",
     "output_type": "stream",
     "text": [
      "/home/bhvignesh/trading_system/src/strategies/momentum/mcad_strat.py:102: FutureWarning: Downcasting object dtype arrays on .fillna, .ffill, .bfill is deprecated and will change in a future version. Call result.infer_objects(copy=False) instead. To opt-in to the future behavior, set `pd.set_option('future.no_silent_downcasting', True)`\n",
      "  prev_above = above.shift(1).fillna(False)\n",
      "/home/bhvignesh/trading_system/src/strategies/momentum/mcad_strat.py:103: FutureWarning: Downcasting object dtype arrays on .fillna, .ffill, .bfill is deprecated and will change in a future version. Call result.infer_objects(copy=False) instead. To opt-in to the future behavior, set `pd.set_option('future.no_silent_downcasting', True)`\n",
      "  prev_below = below.shift(1).fillna(False)\n",
      "/home/bhvignesh/trading_system/src/strategies/momentum/mcad_strat.py:114: FutureWarning: The 'method' keyword in Series.replace is deprecated and will be removed in a future version.\n",
      "  positions = signals.replace(0, method='ffill').fillna(0)\n"
     ]
    },
    {
     "name": "stdout",
     "output_type": "stream",
     "text": [
      "494\n"
     ]
    },
    {
     "name": "stderr",
     "output_type": "stream",
     "text": [
      "/home/bhvignesh/trading_system/src/strategies/momentum/mcad_strat.py:102: FutureWarning: Downcasting object dtype arrays on .fillna, .ffill, .bfill is deprecated and will change in a future version. Call result.infer_objects(copy=False) instead. To opt-in to the future behavior, set `pd.set_option('future.no_silent_downcasting', True)`\n",
      "  prev_above = above.shift(1).fillna(False)\n",
      "/home/bhvignesh/trading_system/src/strategies/momentum/mcad_strat.py:103: FutureWarning: Downcasting object dtype arrays on .fillna, .ffill, .bfill is deprecated and will change in a future version. Call result.infer_objects(copy=False) instead. To opt-in to the future behavior, set `pd.set_option('future.no_silent_downcasting', True)`\n",
      "  prev_below = below.shift(1).fillna(False)\n",
      "/home/bhvignesh/trading_system/src/strategies/momentum/mcad_strat.py:114: FutureWarning: The 'method' keyword in Series.replace is deprecated and will be removed in a future version.\n",
      "  positions = signals.replace(0, method='ffill').fillna(0)\n"
     ]
    },
    {
     "name": "stdout",
     "output_type": "stream",
     "text": [
      "495\n"
     ]
    },
    {
     "name": "stderr",
     "output_type": "stream",
     "text": [
      "/home/bhvignesh/trading_system/src/strategies/momentum/mcad_strat.py:102: FutureWarning: Downcasting object dtype arrays on .fillna, .ffill, .bfill is deprecated and will change in a future version. Call result.infer_objects(copy=False) instead. To opt-in to the future behavior, set `pd.set_option('future.no_silent_downcasting', True)`\n",
      "  prev_above = above.shift(1).fillna(False)\n",
      "/home/bhvignesh/trading_system/src/strategies/momentum/mcad_strat.py:103: FutureWarning: Downcasting object dtype arrays on .fillna, .ffill, .bfill is deprecated and will change in a future version. Call result.infer_objects(copy=False) instead. To opt-in to the future behavior, set `pd.set_option('future.no_silent_downcasting', True)`\n",
      "  prev_below = below.shift(1).fillna(False)\n",
      "/home/bhvignesh/trading_system/src/strategies/momentum/mcad_strat.py:114: FutureWarning: The 'method' keyword in Series.replace is deprecated and will be removed in a future version.\n",
      "  positions = signals.replace(0, method='ffill').fillna(0)\n"
     ]
    },
    {
     "name": "stdout",
     "output_type": "stream",
     "text": [
      "496\n"
     ]
    },
    {
     "name": "stderr",
     "output_type": "stream",
     "text": [
      "/home/bhvignesh/trading_system/src/strategies/momentum/mcad_strat.py:102: FutureWarning: Downcasting object dtype arrays on .fillna, .ffill, .bfill is deprecated and will change in a future version. Call result.infer_objects(copy=False) instead. To opt-in to the future behavior, set `pd.set_option('future.no_silent_downcasting', True)`\n",
      "  prev_above = above.shift(1).fillna(False)\n",
      "/home/bhvignesh/trading_system/src/strategies/momentum/mcad_strat.py:103: FutureWarning: Downcasting object dtype arrays on .fillna, .ffill, .bfill is deprecated and will change in a future version. Call result.infer_objects(copy=False) instead. To opt-in to the future behavior, set `pd.set_option('future.no_silent_downcasting', True)`\n",
      "  prev_below = below.shift(1).fillna(False)\n",
      "/home/bhvignesh/trading_system/src/strategies/momentum/mcad_strat.py:114: FutureWarning: The 'method' keyword in Series.replace is deprecated and will be removed in a future version.\n",
      "  positions = signals.replace(0, method='ffill').fillna(0)\n"
     ]
    },
    {
     "name": "stdout",
     "output_type": "stream",
     "text": [
      "497\n"
     ]
    },
    {
     "name": "stderr",
     "output_type": "stream",
     "text": [
      "/home/bhvignesh/trading_system/src/strategies/momentum/mcad_strat.py:102: FutureWarning: Downcasting object dtype arrays on .fillna, .ffill, .bfill is deprecated and will change in a future version. Call result.infer_objects(copy=False) instead. To opt-in to the future behavior, set `pd.set_option('future.no_silent_downcasting', True)`\n",
      "  prev_above = above.shift(1).fillna(False)\n",
      "/home/bhvignesh/trading_system/src/strategies/momentum/mcad_strat.py:103: FutureWarning: Downcasting object dtype arrays on .fillna, .ffill, .bfill is deprecated and will change in a future version. Call result.infer_objects(copy=False) instead. To opt-in to the future behavior, set `pd.set_option('future.no_silent_downcasting', True)`\n",
      "  prev_below = below.shift(1).fillna(False)\n",
      "/home/bhvignesh/trading_system/src/strategies/momentum/mcad_strat.py:114: FutureWarning: The 'method' keyword in Series.replace is deprecated and will be removed in a future version.\n",
      "  positions = signals.replace(0, method='ffill').fillna(0)\n"
     ]
    },
    {
     "name": "stdout",
     "output_type": "stream",
     "text": [
      "498\n"
     ]
    },
    {
     "name": "stderr",
     "output_type": "stream",
     "text": [
      "/home/bhvignesh/trading_system/src/strategies/momentum/mcad_strat.py:102: FutureWarning: Downcasting object dtype arrays on .fillna, .ffill, .bfill is deprecated and will change in a future version. Call result.infer_objects(copy=False) instead. To opt-in to the future behavior, set `pd.set_option('future.no_silent_downcasting', True)`\n",
      "  prev_above = above.shift(1).fillna(False)\n",
      "/home/bhvignesh/trading_system/src/strategies/momentum/mcad_strat.py:103: FutureWarning: Downcasting object dtype arrays on .fillna, .ffill, .bfill is deprecated and will change in a future version. Call result.infer_objects(copy=False) instead. To opt-in to the future behavior, set `pd.set_option('future.no_silent_downcasting', True)`\n",
      "  prev_below = below.shift(1).fillna(False)\n",
      "/home/bhvignesh/trading_system/src/strategies/momentum/mcad_strat.py:114: FutureWarning: The 'method' keyword in Series.replace is deprecated and will be removed in a future version.\n",
      "  positions = signals.replace(0, method='ffill').fillna(0)\n"
     ]
    },
    {
     "name": "stdout",
     "output_type": "stream",
     "text": [
      "499\n"
     ]
    },
    {
     "name": "stderr",
     "output_type": "stream",
     "text": [
      "/home/bhvignesh/trading_system/src/strategies/momentum/mcad_strat.py:102: FutureWarning: Downcasting object dtype arrays on .fillna, .ffill, .bfill is deprecated and will change in a future version. Call result.infer_objects(copy=False) instead. To opt-in to the future behavior, set `pd.set_option('future.no_silent_downcasting', True)`\n",
      "  prev_above = above.shift(1).fillna(False)\n",
      "/home/bhvignesh/trading_system/src/strategies/momentum/mcad_strat.py:103: FutureWarning: Downcasting object dtype arrays on .fillna, .ffill, .bfill is deprecated and will change in a future version. Call result.infer_objects(copy=False) instead. To opt-in to the future behavior, set `pd.set_option('future.no_silent_downcasting', True)`\n",
      "  prev_below = below.shift(1).fillna(False)\n",
      "/home/bhvignesh/trading_system/src/strategies/momentum/mcad_strat.py:114: FutureWarning: The 'method' keyword in Series.replace is deprecated and will be removed in a future version.\n",
      "  positions = signals.replace(0, method='ffill').fillna(0)\n"
     ]
    },
    {
     "name": "stdout",
     "output_type": "stream",
     "text": [
      "500\n"
     ]
    },
    {
     "name": "stderr",
     "output_type": "stream",
     "text": [
      "/home/bhvignesh/trading_system/src/strategies/momentum/mcad_strat.py:102: FutureWarning: Downcasting object dtype arrays on .fillna, .ffill, .bfill is deprecated and will change in a future version. Call result.infer_objects(copy=False) instead. To opt-in to the future behavior, set `pd.set_option('future.no_silent_downcasting', True)`\n",
      "  prev_above = above.shift(1).fillna(False)\n",
      "/home/bhvignesh/trading_system/src/strategies/momentum/mcad_strat.py:103: FutureWarning: Downcasting object dtype arrays on .fillna, .ffill, .bfill is deprecated and will change in a future version. Call result.infer_objects(copy=False) instead. To opt-in to the future behavior, set `pd.set_option('future.no_silent_downcasting', True)`\n",
      "  prev_below = below.shift(1).fillna(False)\n",
      "/home/bhvignesh/trading_system/src/strategies/momentum/mcad_strat.py:114: FutureWarning: The 'method' keyword in Series.replace is deprecated and will be removed in a future version.\n",
      "  positions = signals.replace(0, method='ffill').fillna(0)\n"
     ]
    },
    {
     "name": "stdout",
     "output_type": "stream",
     "text": [
      "501\n"
     ]
    },
    {
     "name": "stderr",
     "output_type": "stream",
     "text": [
      "/home/bhvignesh/trading_system/src/strategies/momentum/mcad_strat.py:102: FutureWarning: Downcasting object dtype arrays on .fillna, .ffill, .bfill is deprecated and will change in a future version. Call result.infer_objects(copy=False) instead. To opt-in to the future behavior, set `pd.set_option('future.no_silent_downcasting', True)`\n",
      "  prev_above = above.shift(1).fillna(False)\n",
      "/home/bhvignesh/trading_system/src/strategies/momentum/mcad_strat.py:103: FutureWarning: Downcasting object dtype arrays on .fillna, .ffill, .bfill is deprecated and will change in a future version. Call result.infer_objects(copy=False) instead. To opt-in to the future behavior, set `pd.set_option('future.no_silent_downcasting', True)`\n",
      "  prev_below = below.shift(1).fillna(False)\n",
      "/home/bhvignesh/trading_system/src/strategies/momentum/mcad_strat.py:114: FutureWarning: The 'method' keyword in Series.replace is deprecated and will be removed in a future version.\n",
      "  positions = signals.replace(0, method='ffill').fillna(0)\n"
     ]
    },
    {
     "name": "stdout",
     "output_type": "stream",
     "text": [
      "502\n"
     ]
    },
    {
     "name": "stderr",
     "output_type": "stream",
     "text": [
      "/home/bhvignesh/trading_system/src/strategies/momentum/mcad_strat.py:102: FutureWarning: Downcasting object dtype arrays on .fillna, .ffill, .bfill is deprecated and will change in a future version. Call result.infer_objects(copy=False) instead. To opt-in to the future behavior, set `pd.set_option('future.no_silent_downcasting', True)`\n",
      "  prev_above = above.shift(1).fillna(False)\n",
      "/home/bhvignesh/trading_system/src/strategies/momentum/mcad_strat.py:103: FutureWarning: Downcasting object dtype arrays on .fillna, .ffill, .bfill is deprecated and will change in a future version. Call result.infer_objects(copy=False) instead. To opt-in to the future behavior, set `pd.set_option('future.no_silent_downcasting', True)`\n",
      "  prev_below = below.shift(1).fillna(False)\n",
      "/home/bhvignesh/trading_system/src/strategies/momentum/mcad_strat.py:114: FutureWarning: The 'method' keyword in Series.replace is deprecated and will be removed in a future version.\n",
      "  positions = signals.replace(0, method='ffill').fillna(0)\n"
     ]
    },
    {
     "name": "stdout",
     "output_type": "stream",
     "text": [
      "503\n"
     ]
    },
    {
     "name": "stderr",
     "output_type": "stream",
     "text": [
      "/home/bhvignesh/trading_system/src/strategies/momentum/mcad_strat.py:102: FutureWarning: Downcasting object dtype arrays on .fillna, .ffill, .bfill is deprecated and will change in a future version. Call result.infer_objects(copy=False) instead. To opt-in to the future behavior, set `pd.set_option('future.no_silent_downcasting', True)`\n",
      "  prev_above = above.shift(1).fillna(False)\n",
      "/home/bhvignesh/trading_system/src/strategies/momentum/mcad_strat.py:103: FutureWarning: Downcasting object dtype arrays on .fillna, .ffill, .bfill is deprecated and will change in a future version. Call result.infer_objects(copy=False) instead. To opt-in to the future behavior, set `pd.set_option('future.no_silent_downcasting', True)`\n",
      "  prev_below = below.shift(1).fillna(False)\n",
      "/home/bhvignesh/trading_system/src/strategies/momentum/mcad_strat.py:114: FutureWarning: The 'method' keyword in Series.replace is deprecated and will be removed in a future version.\n",
      "  positions = signals.replace(0, method='ffill').fillna(0)\n"
     ]
    },
    {
     "name": "stdout",
     "output_type": "stream",
     "text": [
      "504\n"
     ]
    },
    {
     "name": "stderr",
     "output_type": "stream",
     "text": [
      "/home/bhvignesh/trading_system/src/strategies/momentum/mcad_strat.py:102: FutureWarning: Downcasting object dtype arrays on .fillna, .ffill, .bfill is deprecated and will change in a future version. Call result.infer_objects(copy=False) instead. To opt-in to the future behavior, set `pd.set_option('future.no_silent_downcasting', True)`\n",
      "  prev_above = above.shift(1).fillna(False)\n",
      "/home/bhvignesh/trading_system/src/strategies/momentum/mcad_strat.py:103: FutureWarning: Downcasting object dtype arrays on .fillna, .ffill, .bfill is deprecated and will change in a future version. Call result.infer_objects(copy=False) instead. To opt-in to the future behavior, set `pd.set_option('future.no_silent_downcasting', True)`\n",
      "  prev_below = below.shift(1).fillna(False)\n",
      "/home/bhvignesh/trading_system/src/strategies/momentum/mcad_strat.py:114: FutureWarning: The 'method' keyword in Series.replace is deprecated and will be removed in a future version.\n",
      "  positions = signals.replace(0, method='ffill').fillna(0)\n"
     ]
    },
    {
     "name": "stdout",
     "output_type": "stream",
     "text": [
      "505\n"
     ]
    },
    {
     "name": "stderr",
     "output_type": "stream",
     "text": [
      "/home/bhvignesh/trading_system/src/strategies/momentum/mcad_strat.py:102: FutureWarning: Downcasting object dtype arrays on .fillna, .ffill, .bfill is deprecated and will change in a future version. Call result.infer_objects(copy=False) instead. To opt-in to the future behavior, set `pd.set_option('future.no_silent_downcasting', True)`\n",
      "  prev_above = above.shift(1).fillna(False)\n",
      "/home/bhvignesh/trading_system/src/strategies/momentum/mcad_strat.py:103: FutureWarning: Downcasting object dtype arrays on .fillna, .ffill, .bfill is deprecated and will change in a future version. Call result.infer_objects(copy=False) instead. To opt-in to the future behavior, set `pd.set_option('future.no_silent_downcasting', True)`\n",
      "  prev_below = below.shift(1).fillna(False)\n",
      "/home/bhvignesh/trading_system/src/strategies/momentum/mcad_strat.py:114: FutureWarning: The 'method' keyword in Series.replace is deprecated and will be removed in a future version.\n",
      "  positions = signals.replace(0, method='ffill').fillna(0)\n"
     ]
    },
    {
     "name": "stdout",
     "output_type": "stream",
     "text": [
      "506\n"
     ]
    },
    {
     "name": "stderr",
     "output_type": "stream",
     "text": [
      "/home/bhvignesh/trading_system/src/strategies/momentum/mcad_strat.py:102: FutureWarning: Downcasting object dtype arrays on .fillna, .ffill, .bfill is deprecated and will change in a future version. Call result.infer_objects(copy=False) instead. To opt-in to the future behavior, set `pd.set_option('future.no_silent_downcasting', True)`\n",
      "  prev_above = above.shift(1).fillna(False)\n",
      "/home/bhvignesh/trading_system/src/strategies/momentum/mcad_strat.py:103: FutureWarning: Downcasting object dtype arrays on .fillna, .ffill, .bfill is deprecated and will change in a future version. Call result.infer_objects(copy=False) instead. To opt-in to the future behavior, set `pd.set_option('future.no_silent_downcasting', True)`\n",
      "  prev_below = below.shift(1).fillna(False)\n",
      "/home/bhvignesh/trading_system/src/strategies/momentum/mcad_strat.py:114: FutureWarning: The 'method' keyword in Series.replace is deprecated and will be removed in a future version.\n",
      "  positions = signals.replace(0, method='ffill').fillna(0)\n"
     ]
    },
    {
     "name": "stdout",
     "output_type": "stream",
     "text": [
      "507\n"
     ]
    },
    {
     "name": "stderr",
     "output_type": "stream",
     "text": [
      "/home/bhvignesh/trading_system/src/strategies/momentum/mcad_strat.py:102: FutureWarning: Downcasting object dtype arrays on .fillna, .ffill, .bfill is deprecated and will change in a future version. Call result.infer_objects(copy=False) instead. To opt-in to the future behavior, set `pd.set_option('future.no_silent_downcasting', True)`\n",
      "  prev_above = above.shift(1).fillna(False)\n",
      "/home/bhvignesh/trading_system/src/strategies/momentum/mcad_strat.py:103: FutureWarning: Downcasting object dtype arrays on .fillna, .ffill, .bfill is deprecated and will change in a future version. Call result.infer_objects(copy=False) instead. To opt-in to the future behavior, set `pd.set_option('future.no_silent_downcasting', True)`\n",
      "  prev_below = below.shift(1).fillna(False)\n",
      "/home/bhvignesh/trading_system/src/strategies/momentum/mcad_strat.py:114: FutureWarning: The 'method' keyword in Series.replace is deprecated and will be removed in a future version.\n",
      "  positions = signals.replace(0, method='ffill').fillna(0)\n"
     ]
    }
   ],
   "source": [
    "for i in range(0, len(all_tickers)):\n",
    "    ticker = all_tickers[i]\n",
    "    print(i)\n",
    "    a = mcad_strat.generate_signals(ticker)\n",
    "    a['ticker'] = ticker\n",
    "    if i == 0:\n",
    "        df = a\n",
    "    else:\n",
    "        df = pd.concat([df, a])\n"
   ]
  },
  {
   "cell_type": "code",
   "execution_count": 1,
   "metadata": {},
   "outputs": [],
   "source": [
    "import sys\n",
    "import os\n",
    "\n",
    "# Determine the absolute path to the root directory (assuming the script is one level down)\n",
    "root_path = os.path.abspath(os.path.join(os.getcwd(), '..'))\n",
    "\n",
    "# Add the root directory to sys.path if it’s not already there\n",
    "if root_path not in sys.path:\n",
    "    sys.path.insert(0, root_path)\n",
    "\n",
    "#########################################################\n",
    "from src.database.config import DatabaseConfig\n",
    "from src.database.engine import create_db_engine\n",
    "db_config = DatabaseConfig.default()\n",
    "\n",
    "#########################################################\n",
    "import pandas as pd\n",
    "\n",
    "tickers = pd.read_excel(\"../data/ticker.xlsx\")\n",
    "tickers = tickers[~tickers[\"Security Name\"].duplicated()]\n",
    "tickers.reset_index(drop=True, inplace=True)\n",
    "\n",
    "def add_ticker_suffix(x):\n",
    "    if x[\"Exchange\"]==\"BSE\":\n",
    "        return x[\"Security Name\"] + \".BO\"\n",
    "    else:\n",
    "        return x[\"Security Name\"] + \".NS\"\n",
    "\n",
    "tickers[\"Ticker\"] = tickers.apply(add_ticker_suffix, axis = 1)\n",
    "all_tickers = tickers[\"Ticker\"].tolist()\n"
   ]
  },
  {
   "cell_type": "code",
   "execution_count": 3,
   "metadata": {},
   "outputs": [],
   "source": [
    "from src.strategies.momentum.relative_strength_index_strat import RSIStrategy"
   ]
  },
  {
   "cell_type": "code",
   "execution_count": 5,
   "metadata": {},
   "outputs": [],
   "source": [
    "rsi_strat = RSIStrategy(db_config)"
   ]
  },
  {
   "cell_type": "code",
   "execution_count": 6,
   "metadata": {},
   "outputs": [],
   "source": [
    "a = rsi_strat.generate_signals(all_tickers[0])"
   ]
  },
  {
   "cell_type": "code",
   "execution_count": 7,
   "metadata": {},
   "outputs": [
    {
     "data": {
      "text/html": [
       "<div>\n",
       "<style scoped>\n",
       "    .dataframe tbody tr th:only-of-type {\n",
       "        vertical-align: middle;\n",
       "    }\n",
       "\n",
       "    .dataframe tbody tr th {\n",
       "        vertical-align: top;\n",
       "    }\n",
       "\n",
       "    .dataframe thead th {\n",
       "        text-align: right;\n",
       "    }\n",
       "</style>\n",
       "<table border=\"1\" class=\"dataframe\">\n",
       "  <thead>\n",
       "    <tr style=\"text-align: right;\">\n",
       "      <th></th>\n",
       "      <th>signal</th>\n",
       "      <th>signal_strength</th>\n",
       "      <th>rsi</th>\n",
       "    </tr>\n",
       "    <tr>\n",
       "      <th>date</th>\n",
       "      <th></th>\n",
       "      <th></th>\n",
       "      <th></th>\n",
       "    </tr>\n",
       "  </thead>\n",
       "  <tbody>\n",
       "    <tr>\n",
       "      <th>2025-02-07 00:00:00.000000</th>\n",
       "      <td>0</td>\n",
       "      <td>0.000000</td>\n",
       "      <td>57.278312</td>\n",
       "    </tr>\n",
       "    <tr>\n",
       "      <th>2025-02-06 00:00:00.000000</th>\n",
       "      <td>0</td>\n",
       "      <td>0.000000</td>\n",
       "      <td>60.785211</td>\n",
       "    </tr>\n",
       "    <tr>\n",
       "      <th>2025-02-05 00:00:00.000000</th>\n",
       "      <td>0</td>\n",
       "      <td>0.000000</td>\n",
       "      <td>59.468467</td>\n",
       "    </tr>\n",
       "    <tr>\n",
       "      <th>2025-02-04 00:00:00.000000</th>\n",
       "      <td>0</td>\n",
       "      <td>0.000000</td>\n",
       "      <td>56.602496</td>\n",
       "    </tr>\n",
       "    <tr>\n",
       "      <th>2025-02-03 00:00:00.000000</th>\n",
       "      <td>0</td>\n",
       "      <td>0.000000</td>\n",
       "      <td>46.994659</td>\n",
       "    </tr>\n",
       "    <tr>\n",
       "      <th>...</th>\n",
       "      <td>...</td>\n",
       "      <td>...</td>\n",
       "      <td>...</td>\n",
       "    </tr>\n",
       "    <tr>\n",
       "      <th>2024-11-18 00:00:00.000000</th>\n",
       "      <td>0</td>\n",
       "      <td>0.000000</td>\n",
       "      <td>67.671297</td>\n",
       "    </tr>\n",
       "    <tr>\n",
       "      <th>2024-11-14 00:00:00.000000</th>\n",
       "      <td>0</td>\n",
       "      <td>0.000000</td>\n",
       "      <td>65.891271</td>\n",
       "    </tr>\n",
       "    <tr>\n",
       "      <th>2024-11-13 00:00:00.000000</th>\n",
       "      <td>-1</td>\n",
       "      <td>0.200773</td>\n",
       "      <td>63.976808</td>\n",
       "    </tr>\n",
       "    <tr>\n",
       "      <th>2024-11-12 00:00:00.000000</th>\n",
       "      <td>0</td>\n",
       "      <td>0.000000</td>\n",
       "      <td>76.451818</td>\n",
       "    </tr>\n",
       "    <tr>\n",
       "      <th>2024-11-11 00:00:00.000000</th>\n",
       "      <td>0</td>\n",
       "      <td>0.000000</td>\n",
       "      <td>100.000000</td>\n",
       "    </tr>\n",
       "  </tbody>\n",
       "</table>\n",
       "<p>63 rows × 3 columns</p>\n",
       "</div>"
      ],
      "text/plain": [
       "                            signal  signal_strength         rsi\n",
       "date                                                           \n",
       "2025-02-07 00:00:00.000000       0         0.000000   57.278312\n",
       "2025-02-06 00:00:00.000000       0         0.000000   60.785211\n",
       "2025-02-05 00:00:00.000000       0         0.000000   59.468467\n",
       "2025-02-04 00:00:00.000000       0         0.000000   56.602496\n",
       "2025-02-03 00:00:00.000000       0         0.000000   46.994659\n",
       "...                            ...              ...         ...\n",
       "2024-11-18 00:00:00.000000       0         0.000000   67.671297\n",
       "2024-11-14 00:00:00.000000       0         0.000000   65.891271\n",
       "2024-11-13 00:00:00.000000      -1         0.200773   63.976808\n",
       "2024-11-12 00:00:00.000000       0         0.000000   76.451818\n",
       "2024-11-11 00:00:00.000000       0         0.000000  100.000000\n",
       "\n",
       "[63 rows x 3 columns]"
      ]
     },
     "execution_count": 7,
     "metadata": {},
     "output_type": "execute_result"
    }
   ],
   "source": [
    "a"
   ]
  },
  {
   "cell_type": "code",
   "execution_count": 1,
   "metadata": {},
   "outputs": [],
   "source": [
    "import sys\n",
    "import os\n",
    "\n",
    "# Determine the absolute path to the root directory (assuming the script is one level down)\n",
    "root_path = os.path.abspath(os.path.join(os.getcwd(), '..'))\n",
    "\n",
    "# Add the root directory to sys.path if it’s not already there\n",
    "if root_path not in sys.path:\n",
    "    sys.path.insert(0, root_path)\n",
    "\n",
    "#########################################################\n",
    "from src.database.config import DatabaseConfig\n",
    "from src.database.engine import create_db_engine\n",
    "db_config = DatabaseConfig.default()\n",
    "\n",
    "#########################################################\n",
    "import pandas as pd\n",
    "\n",
    "tickers = pd.read_excel(\"../data/ticker.xlsx\")\n",
    "tickers = tickers[~tickers[\"Security Name\"].duplicated()]\n",
    "tickers.reset_index(drop=True, inplace=True)\n",
    "\n",
    "def add_ticker_suffix(x):\n",
    "    if x[\"Exchange\"]==\"BSE\":\n",
    "        return x[\"Security Name\"] + \".BO\"\n",
    "    else:\n",
    "        return x[\"Security Name\"] + \".NS\"\n",
    "\n",
    "tickers[\"Ticker\"] = tickers.apply(add_ticker_suffix, axis = 1)\n",
    "all_tickers = tickers[\"Ticker\"].tolist()"
   ]
  },
  {
   "cell_type": "code",
   "execution_count": 2,
   "metadata": {},
   "outputs": [],
   "source": [
    "from src.strategies.momentum.relative_vigor_index_strat import RVIStrategy"
   ]
  },
  {
   "cell_type": "code",
   "execution_count": 3,
   "metadata": {},
   "outputs": [],
   "source": [
    "rvi_strat = RVIStrategy(db_config)"
   ]
  },
  {
   "cell_type": "code",
   "execution_count": 4,
   "metadata": {},
   "outputs": [],
   "source": [
    "a = rvi_strat.generate_signals(all_tickers[0])"
   ]
  },
  {
   "cell_type": "code",
   "execution_count": 5,
   "metadata": {},
   "outputs": [
    {
     "data": {
      "text/html": [
       "<div>\n",
       "<style scoped>\n",
       "    .dataframe tbody tr th:only-of-type {\n",
       "        vertical-align: middle;\n",
       "    }\n",
       "\n",
       "    .dataframe tbody tr th {\n",
       "        vertical-align: top;\n",
       "    }\n",
       "\n",
       "    .dataframe thead th {\n",
       "        text-align: right;\n",
       "    }\n",
       "</style>\n",
       "<table border=\"1\" class=\"dataframe\">\n",
       "  <thead>\n",
       "    <tr style=\"text-align: right;\">\n",
       "      <th></th>\n",
       "      <th>close</th>\n",
       "      <th>rvi</th>\n",
       "      <th>signal_line</th>\n",
       "      <th>signal</th>\n",
       "      <th>signal_strength</th>\n",
       "    </tr>\n",
       "    <tr>\n",
       "      <th>date</th>\n",
       "      <th></th>\n",
       "      <th></th>\n",
       "      <th></th>\n",
       "      <th></th>\n",
       "      <th></th>\n",
       "    </tr>\n",
       "  </thead>\n",
       "  <tbody>\n",
       "    <tr>\n",
       "      <th>2025-01-10 00:00:00.000000</th>\n",
       "      <td>1657.150024</td>\n",
       "      <td>-0.223669</td>\n",
       "      <td>-0.037278</td>\n",
       "      <td>0</td>\n",
       "      <td>NaN</td>\n",
       "    </tr>\n",
       "    <tr>\n",
       "      <th>2025-01-13 00:00:00.000000</th>\n",
       "      <td>1630.099976</td>\n",
       "      <td>-0.257329</td>\n",
       "      <td>-0.117444</td>\n",
       "      <td>0</td>\n",
       "      <td>NaN</td>\n",
       "    </tr>\n",
       "    <tr>\n",
       "      <th>2025-01-14 00:00:00.000000</th>\n",
       "      <td>1644.250000</td>\n",
       "      <td>-0.291554</td>\n",
       "      <td>-0.208925</td>\n",
       "      <td>0</td>\n",
       "      <td>NaN</td>\n",
       "    </tr>\n",
       "    <tr>\n",
       "      <th>2025-01-15 00:00:00.000000</th>\n",
       "      <td>1642.750000</td>\n",
       "      <td>-0.325453</td>\n",
       "      <td>-0.274481</td>\n",
       "      <td>0</td>\n",
       "      <td>NaN</td>\n",
       "    </tr>\n",
       "    <tr>\n",
       "      <th>2025-01-16 00:00:00.000000</th>\n",
       "      <td>1652.750000</td>\n",
       "      <td>-0.356942</td>\n",
       "      <td>-0.308048</td>\n",
       "      <td>0</td>\n",
       "      <td>NaN</td>\n",
       "    </tr>\n",
       "    <tr>\n",
       "      <th>2025-01-17 00:00:00.000000</th>\n",
       "      <td>1636.699951</td>\n",
       "      <td>-0.381641</td>\n",
       "      <td>-0.339664</td>\n",
       "      <td>0</td>\n",
       "      <td>NaN</td>\n",
       "    </tr>\n",
       "    <tr>\n",
       "      <th>2025-01-20 00:00:00.000000</th>\n",
       "      <td>1651.250000</td>\n",
       "      <td>-0.390609</td>\n",
       "      <td>-0.365538</td>\n",
       "      <td>0</td>\n",
       "      <td>NaN</td>\n",
       "    </tr>\n",
       "    <tr>\n",
       "      <th>2025-01-21 00:00:00.000000</th>\n",
       "      <td>1641.750000</td>\n",
       "      <td>-0.380638</td>\n",
       "      <td>-0.380346</td>\n",
       "      <td>0</td>\n",
       "      <td>NaN</td>\n",
       "    </tr>\n",
       "    <tr>\n",
       "      <th>2025-01-22 00:00:00.000000</th>\n",
       "      <td>1665.050049</td>\n",
       "      <td>-0.350483</td>\n",
       "      <td>-0.379103</td>\n",
       "      <td>1</td>\n",
       "      <td>NaN</td>\n",
       "    </tr>\n",
       "    <tr>\n",
       "      <th>2025-01-23 00:00:00.000000</th>\n",
       "      <td>1664.800049</td>\n",
       "      <td>-0.305350</td>\n",
       "      <td>-0.359700</td>\n",
       "      <td>0</td>\n",
       "      <td>NaN</td>\n",
       "    </tr>\n",
       "    <tr>\n",
       "      <th>2025-01-24 00:00:00.000000</th>\n",
       "      <td>1649.550049</td>\n",
       "      <td>-0.257083</td>\n",
       "      <td>-0.324898</td>\n",
       "      <td>0</td>\n",
       "      <td>NaN</td>\n",
       "    </tr>\n",
       "    <tr>\n",
       "      <th>2025-01-27 00:00:00.000000</th>\n",
       "      <td>1629.699951</td>\n",
       "      <td>-0.213914</td>\n",
       "      <td>-0.281544</td>\n",
       "      <td>0</td>\n",
       "      <td>NaN</td>\n",
       "    </tr>\n",
       "    <tr>\n",
       "      <th>2025-01-28 00:00:00.000000</th>\n",
       "      <td>1670.550049</td>\n",
       "      <td>-0.179745</td>\n",
       "      <td>-0.237848</td>\n",
       "      <td>0</td>\n",
       "      <td>NaN</td>\n",
       "    </tr>\n",
       "    <tr>\n",
       "      <th>2025-01-29 00:00:00.000000</th>\n",
       "      <td>1677.099976</td>\n",
       "      <td>-0.148711</td>\n",
       "      <td>-0.198852</td>\n",
       "      <td>0</td>\n",
       "      <td>NaN</td>\n",
       "    </tr>\n",
       "    <tr>\n",
       "      <th>2025-01-30 00:00:00.000000</th>\n",
       "      <td>1692.099976</td>\n",
       "      <td>-0.113689</td>\n",
       "      <td>-0.164086</td>\n",
       "      <td>0</td>\n",
       "      <td>NaN</td>\n",
       "    </tr>\n",
       "    <tr>\n",
       "      <th>2025-01-31 00:00:00.000000</th>\n",
       "      <td>1699.250000</td>\n",
       "      <td>-0.066673</td>\n",
       "      <td>-0.128536</td>\n",
       "      <td>0</td>\n",
       "      <td>NaN</td>\n",
       "    </tr>\n",
       "    <tr>\n",
       "      <th>2025-02-01 00:00:00.000000</th>\n",
       "      <td>1689.849976</td>\n",
       "      <td>-0.010592</td>\n",
       "      <td>-0.086671</td>\n",
       "      <td>0</td>\n",
       "      <td>NaN</td>\n",
       "    </tr>\n",
       "    <tr>\n",
       "      <th>2025-02-03 00:00:00.000000</th>\n",
       "      <td>1680.150024</td>\n",
       "      <td>0.041107</td>\n",
       "      <td>-0.037852</td>\n",
       "      <td>0</td>\n",
       "      <td>NaN</td>\n",
       "    </tr>\n",
       "    <tr>\n",
       "      <th>2025-02-04 00:00:00.000000</th>\n",
       "      <td>1722.250000</td>\n",
       "      <td>0.080820</td>\n",
       "      <td>0.012530</td>\n",
       "      <td>0</td>\n",
       "      <td>NaN</td>\n",
       "    </tr>\n",
       "    <tr>\n",
       "      <th>2025-02-05 00:00:00.000000</th>\n",
       "      <td>1737.500000</td>\n",
       "      <td>0.112705</td>\n",
       "      <td>0.057661</td>\n",
       "      <td>0</td>\n",
       "      <td>-0.223607</td>\n",
       "    </tr>\n",
       "    <tr>\n",
       "      <th>2025-02-06 00:00:00.000000</th>\n",
       "      <td>1744.699951</td>\n",
       "      <td>0.150547</td>\n",
       "      <td>0.096451</td>\n",
       "      <td>0</td>\n",
       "      <td>-0.223607</td>\n",
       "    </tr>\n",
       "    <tr>\n",
       "      <th>2025-02-07 00:00:00.000000</th>\n",
       "      <td>1732.099976</td>\n",
       "      <td>0.195578</td>\n",
       "      <td>0.133817</td>\n",
       "      <td>0</td>\n",
       "      <td>-0.223607</td>\n",
       "    </tr>\n",
       "  </tbody>\n",
       "</table>\n",
       "</div>"
      ],
      "text/plain": [
       "                                  close       rvi  signal_line  signal  \\\n",
       "date                                                                     \n",
       "2025-01-10 00:00:00.000000  1657.150024 -0.223669    -0.037278       0   \n",
       "2025-01-13 00:00:00.000000  1630.099976 -0.257329    -0.117444       0   \n",
       "2025-01-14 00:00:00.000000  1644.250000 -0.291554    -0.208925       0   \n",
       "2025-01-15 00:00:00.000000  1642.750000 -0.325453    -0.274481       0   \n",
       "2025-01-16 00:00:00.000000  1652.750000 -0.356942    -0.308048       0   \n",
       "2025-01-17 00:00:00.000000  1636.699951 -0.381641    -0.339664       0   \n",
       "2025-01-20 00:00:00.000000  1651.250000 -0.390609    -0.365538       0   \n",
       "2025-01-21 00:00:00.000000  1641.750000 -0.380638    -0.380346       0   \n",
       "2025-01-22 00:00:00.000000  1665.050049 -0.350483    -0.379103       1   \n",
       "2025-01-23 00:00:00.000000  1664.800049 -0.305350    -0.359700       0   \n",
       "2025-01-24 00:00:00.000000  1649.550049 -0.257083    -0.324898       0   \n",
       "2025-01-27 00:00:00.000000  1629.699951 -0.213914    -0.281544       0   \n",
       "2025-01-28 00:00:00.000000  1670.550049 -0.179745    -0.237848       0   \n",
       "2025-01-29 00:00:00.000000  1677.099976 -0.148711    -0.198852       0   \n",
       "2025-01-30 00:00:00.000000  1692.099976 -0.113689    -0.164086       0   \n",
       "2025-01-31 00:00:00.000000  1699.250000 -0.066673    -0.128536       0   \n",
       "2025-02-01 00:00:00.000000  1689.849976 -0.010592    -0.086671       0   \n",
       "2025-02-03 00:00:00.000000  1680.150024  0.041107    -0.037852       0   \n",
       "2025-02-04 00:00:00.000000  1722.250000  0.080820     0.012530       0   \n",
       "2025-02-05 00:00:00.000000  1737.500000  0.112705     0.057661       0   \n",
       "2025-02-06 00:00:00.000000  1744.699951  0.150547     0.096451       0   \n",
       "2025-02-07 00:00:00.000000  1732.099976  0.195578     0.133817       0   \n",
       "\n",
       "                            signal_strength  \n",
       "date                                         \n",
       "2025-01-10 00:00:00.000000              NaN  \n",
       "2025-01-13 00:00:00.000000              NaN  \n",
       "2025-01-14 00:00:00.000000              NaN  \n",
       "2025-01-15 00:00:00.000000              NaN  \n",
       "2025-01-16 00:00:00.000000              NaN  \n",
       "2025-01-17 00:00:00.000000              NaN  \n",
       "2025-01-20 00:00:00.000000              NaN  \n",
       "2025-01-21 00:00:00.000000              NaN  \n",
       "2025-01-22 00:00:00.000000              NaN  \n",
       "2025-01-23 00:00:00.000000              NaN  \n",
       "2025-01-24 00:00:00.000000              NaN  \n",
       "2025-01-27 00:00:00.000000              NaN  \n",
       "2025-01-28 00:00:00.000000              NaN  \n",
       "2025-01-29 00:00:00.000000              NaN  \n",
       "2025-01-30 00:00:00.000000              NaN  \n",
       "2025-01-31 00:00:00.000000              NaN  \n",
       "2025-02-01 00:00:00.000000              NaN  \n",
       "2025-02-03 00:00:00.000000              NaN  \n",
       "2025-02-04 00:00:00.000000              NaN  \n",
       "2025-02-05 00:00:00.000000        -0.223607  \n",
       "2025-02-06 00:00:00.000000        -0.223607  \n",
       "2025-02-07 00:00:00.000000        -0.223607  "
      ]
     },
     "execution_count": 5,
     "metadata": {},
     "output_type": "execute_result"
    }
   ],
   "source": [
    "a"
   ]
  }
 ],
 "metadata": {
  "kernelspec": {
   "display_name": "trading_env",
   "language": "python",
   "name": "python3"
  },
  "language_info": {
   "codemirror_mode": {
    "name": "ipython",
    "version": 3
   },
   "file_extension": ".py",
   "mimetype": "text/x-python",
   "name": "python",
   "nbconvert_exporter": "python",
   "pygments_lexer": "ipython3",
   "version": "3.11.9"
  }
 },
 "nbformat": 4,
 "nbformat_minor": 2
}
